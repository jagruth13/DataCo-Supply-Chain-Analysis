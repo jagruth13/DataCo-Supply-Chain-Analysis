{
 "cells": [
  {
   "cell_type": "code",
   "execution_count": 5,
   "id": "96501d45",
   "metadata": {},
   "outputs": [],
   "source": [
    "import numpy as np # linear algebra\n",
    "import pandas as pd # data processing, CSV file I/O (e.g. pd.read_csv)"
   ]
  },
  {
   "cell_type": "code",
   "execution_count": 13,
   "id": "b5394335",
   "metadata": {},
   "outputs": [],
   "source": [
    "df = pd.read_csv(\"DataCoSupplyChainDataset.csv\", encoding = \"ISO-8859-1\")"
   ]
  },
  {
   "cell_type": "code",
   "execution_count": 15,
   "id": "a2803b26",
   "metadata": {},
   "outputs": [
    {
     "data": {
      "text/html": [
       "<div>\n",
       "<style scoped>\n",
       "    .dataframe tbody tr th:only-of-type {\n",
       "        vertical-align: middle;\n",
       "    }\n",
       "\n",
       "    .dataframe tbody tr th {\n",
       "        vertical-align: top;\n",
       "    }\n",
       "\n",
       "    .dataframe thead th {\n",
       "        text-align: right;\n",
       "    }\n",
       "</style>\n",
       "<table border=\"1\" class=\"dataframe\">\n",
       "  <thead>\n",
       "    <tr style=\"text-align: right;\">\n",
       "      <th></th>\n",
       "      <th>Type</th>\n",
       "      <th>Days for shipping (real)</th>\n",
       "      <th>Days for shipment (scheduled)</th>\n",
       "      <th>Benefit per order</th>\n",
       "      <th>Sales per customer</th>\n",
       "      <th>Delivery Status</th>\n",
       "      <th>Late_delivery_risk</th>\n",
       "      <th>Category Id</th>\n",
       "      <th>Category Name</th>\n",
       "      <th>Customer City</th>\n",
       "      <th>...</th>\n",
       "      <th>Order Zipcode</th>\n",
       "      <th>Product Card Id</th>\n",
       "      <th>Product Category Id</th>\n",
       "      <th>Product Description</th>\n",
       "      <th>Product Image</th>\n",
       "      <th>Product Name</th>\n",
       "      <th>Product Price</th>\n",
       "      <th>Product Status</th>\n",
       "      <th>shipping date (DateOrders)</th>\n",
       "      <th>Shipping Mode</th>\n",
       "    </tr>\n",
       "  </thead>\n",
       "  <tbody>\n",
       "    <tr>\n",
       "      <th>0</th>\n",
       "      <td>DEBIT</td>\n",
       "      <td>3</td>\n",
       "      <td>4</td>\n",
       "      <td>91.250000</td>\n",
       "      <td>314.640015</td>\n",
       "      <td>Advance shipping</td>\n",
       "      <td>0</td>\n",
       "      <td>73</td>\n",
       "      <td>Sporting Goods</td>\n",
       "      <td>Caguas</td>\n",
       "      <td>...</td>\n",
       "      <td>NaN</td>\n",
       "      <td>1360</td>\n",
       "      <td>73</td>\n",
       "      <td>NaN</td>\n",
       "      <td>http://images.acmesports.sports/Smart+watch</td>\n",
       "      <td>Smart watch</td>\n",
       "      <td>327.75</td>\n",
       "      <td>0</td>\n",
       "      <td>2/3/2018 22:56</td>\n",
       "      <td>Standard Class</td>\n",
       "    </tr>\n",
       "    <tr>\n",
       "      <th>1</th>\n",
       "      <td>TRANSFER</td>\n",
       "      <td>5</td>\n",
       "      <td>4</td>\n",
       "      <td>-249.089996</td>\n",
       "      <td>311.359985</td>\n",
       "      <td>Late delivery</td>\n",
       "      <td>1</td>\n",
       "      <td>73</td>\n",
       "      <td>Sporting Goods</td>\n",
       "      <td>Caguas</td>\n",
       "      <td>...</td>\n",
       "      <td>NaN</td>\n",
       "      <td>1360</td>\n",
       "      <td>73</td>\n",
       "      <td>NaN</td>\n",
       "      <td>http://images.acmesports.sports/Smart+watch</td>\n",
       "      <td>Smart watch</td>\n",
       "      <td>327.75</td>\n",
       "      <td>0</td>\n",
       "      <td>1/18/2018 12:27</td>\n",
       "      <td>Standard Class</td>\n",
       "    </tr>\n",
       "    <tr>\n",
       "      <th>2</th>\n",
       "      <td>CASH</td>\n",
       "      <td>4</td>\n",
       "      <td>4</td>\n",
       "      <td>-247.779999</td>\n",
       "      <td>309.720001</td>\n",
       "      <td>Shipping on time</td>\n",
       "      <td>0</td>\n",
       "      <td>73</td>\n",
       "      <td>Sporting Goods</td>\n",
       "      <td>San Jose</td>\n",
       "      <td>...</td>\n",
       "      <td>NaN</td>\n",
       "      <td>1360</td>\n",
       "      <td>73</td>\n",
       "      <td>NaN</td>\n",
       "      <td>http://images.acmesports.sports/Smart+watch</td>\n",
       "      <td>Smart watch</td>\n",
       "      <td>327.75</td>\n",
       "      <td>0</td>\n",
       "      <td>1/17/2018 12:06</td>\n",
       "      <td>Standard Class</td>\n",
       "    </tr>\n",
       "    <tr>\n",
       "      <th>3</th>\n",
       "      <td>DEBIT</td>\n",
       "      <td>3</td>\n",
       "      <td>4</td>\n",
       "      <td>22.860001</td>\n",
       "      <td>304.809998</td>\n",
       "      <td>Advance shipping</td>\n",
       "      <td>0</td>\n",
       "      <td>73</td>\n",
       "      <td>Sporting Goods</td>\n",
       "      <td>Los Angeles</td>\n",
       "      <td>...</td>\n",
       "      <td>NaN</td>\n",
       "      <td>1360</td>\n",
       "      <td>73</td>\n",
       "      <td>NaN</td>\n",
       "      <td>http://images.acmesports.sports/Smart+watch</td>\n",
       "      <td>Smart watch</td>\n",
       "      <td>327.75</td>\n",
       "      <td>0</td>\n",
       "      <td>1/16/2018 11:45</td>\n",
       "      <td>Standard Class</td>\n",
       "    </tr>\n",
       "    <tr>\n",
       "      <th>4</th>\n",
       "      <td>PAYMENT</td>\n",
       "      <td>2</td>\n",
       "      <td>4</td>\n",
       "      <td>134.210007</td>\n",
       "      <td>298.250000</td>\n",
       "      <td>Advance shipping</td>\n",
       "      <td>0</td>\n",
       "      <td>73</td>\n",
       "      <td>Sporting Goods</td>\n",
       "      <td>Caguas</td>\n",
       "      <td>...</td>\n",
       "      <td>NaN</td>\n",
       "      <td>1360</td>\n",
       "      <td>73</td>\n",
       "      <td>NaN</td>\n",
       "      <td>http://images.acmesports.sports/Smart+watch</td>\n",
       "      <td>Smart watch</td>\n",
       "      <td>327.75</td>\n",
       "      <td>0</td>\n",
       "      <td>1/15/2018 11:24</td>\n",
       "      <td>Standard Class</td>\n",
       "    </tr>\n",
       "  </tbody>\n",
       "</table>\n",
       "<p>5 rows × 53 columns</p>\n",
       "</div>"
      ],
      "text/plain": [
       "       Type  Days for shipping (real)  Days for shipment (scheduled)  \\\n",
       "0     DEBIT                         3                              4   \n",
       "1  TRANSFER                         5                              4   \n",
       "2      CASH                         4                              4   \n",
       "3     DEBIT                         3                              4   \n",
       "4   PAYMENT                         2                              4   \n",
       "\n",
       "   Benefit per order  Sales per customer   Delivery Status  \\\n",
       "0          91.250000          314.640015  Advance shipping   \n",
       "1        -249.089996          311.359985     Late delivery   \n",
       "2        -247.779999          309.720001  Shipping on time   \n",
       "3          22.860001          304.809998  Advance shipping   \n",
       "4         134.210007          298.250000  Advance shipping   \n",
       "\n",
       "   Late_delivery_risk  Category Id   Category Name Customer City  ...  \\\n",
       "0                   0           73  Sporting Goods        Caguas  ...   \n",
       "1                   1           73  Sporting Goods        Caguas  ...   \n",
       "2                   0           73  Sporting Goods      San Jose  ...   \n",
       "3                   0           73  Sporting Goods   Los Angeles  ...   \n",
       "4                   0           73  Sporting Goods        Caguas  ...   \n",
       "\n",
       "  Order Zipcode Product Card Id Product Category Id  Product Description  \\\n",
       "0           NaN            1360                  73                  NaN   \n",
       "1           NaN            1360                  73                  NaN   \n",
       "2           NaN            1360                  73                  NaN   \n",
       "3           NaN            1360                  73                  NaN   \n",
       "4           NaN            1360                  73                  NaN   \n",
       "\n",
       "                                  Product Image  Product Name Product Price  \\\n",
       "0  http://images.acmesports.sports/Smart+watch   Smart watch         327.75   \n",
       "1  http://images.acmesports.sports/Smart+watch   Smart watch         327.75   \n",
       "2  http://images.acmesports.sports/Smart+watch   Smart watch         327.75   \n",
       "3  http://images.acmesports.sports/Smart+watch   Smart watch         327.75   \n",
       "4  http://images.acmesports.sports/Smart+watch   Smart watch         327.75   \n",
       "\n",
       "  Product Status shipping date (DateOrders)   Shipping Mode  \n",
       "0              0             2/3/2018 22:56  Standard Class  \n",
       "1              0            1/18/2018 12:27  Standard Class  \n",
       "2              0            1/17/2018 12:06  Standard Class  \n",
       "3              0            1/16/2018 11:45  Standard Class  \n",
       "4              0            1/15/2018 11:24  Standard Class  \n",
       "\n",
       "[5 rows x 53 columns]"
      ]
     },
     "execution_count": 15,
     "metadata": {},
     "output_type": "execute_result"
    }
   ],
   "source": [
    "df.head()"
   ]
  },
  {
   "cell_type": "code",
   "execution_count": 17,
   "id": "a4deb89c",
   "metadata": {},
   "outputs": [
    {
     "data": {
      "text/plain": [
       "Index(['Type', 'Days for shipping (real)', 'Days for shipment (scheduled)',\n",
       "       'Benefit per order', 'Sales per customer', 'Delivery Status',\n",
       "       'Late_delivery_risk', 'Category Id', 'Category Name', 'Customer City',\n",
       "       'Customer Country', 'Customer Email', 'Customer Fname', 'Customer Id',\n",
       "       'Customer Lname', 'Customer Password', 'Customer Segment',\n",
       "       'Customer State', 'Customer Street', 'Customer Zipcode',\n",
       "       'Department Id', 'Department Name', 'Latitude', 'Longitude', 'Market',\n",
       "       'Order City', 'Order Country', 'Order Customer Id',\n",
       "       'order date (DateOrders)', 'Order Id', 'Order Item Cardprod Id',\n",
       "       'Order Item Discount', 'Order Item Discount Rate', 'Order Item Id',\n",
       "       'Order Item Product Price', 'Order Item Profit Ratio',\n",
       "       'Order Item Quantity', 'Sales', 'Order Item Total',\n",
       "       'Order Profit Per Order', 'Order Region', 'Order State', 'Order Status',\n",
       "       'Order Zipcode', 'Product Card Id', 'Product Category Id',\n",
       "       'Product Description', 'Product Image', 'Product Name', 'Product Price',\n",
       "       'Product Status', 'shipping date (DateOrders)', 'Shipping Mode'],\n",
       "      dtype='object')"
      ]
     },
     "execution_count": 17,
     "metadata": {},
     "output_type": "execute_result"
    }
   ],
   "source": [
    "df.columns"
   ]
  },
  {
   "cell_type": "code",
   "execution_count": 19,
   "id": "a328ddff",
   "metadata": {},
   "outputs": [
    {
     "data": {
      "text/html": [
       "<div>\n",
       "<style scoped>\n",
       "    .dataframe tbody tr th:only-of-type {\n",
       "        vertical-align: middle;\n",
       "    }\n",
       "\n",
       "    .dataframe tbody tr th {\n",
       "        vertical-align: top;\n",
       "    }\n",
       "\n",
       "    .dataframe thead th {\n",
       "        text-align: right;\n",
       "    }\n",
       "</style>\n",
       "<table border=\"1\" class=\"dataframe\">\n",
       "  <thead>\n",
       "    <tr style=\"text-align: right;\">\n",
       "      <th></th>\n",
       "      <th>Type</th>\n",
       "      <th>Benefit per order</th>\n",
       "      <th>Sales per customer</th>\n",
       "      <th>Delivery Status</th>\n",
       "      <th>Late_delivery_risk</th>\n",
       "      <th>Category Name</th>\n",
       "      <th>Customer City</th>\n",
       "      <th>Customer Country</th>\n",
       "      <th>Customer Id</th>\n",
       "      <th>Customer Segment</th>\n",
       "      <th>...</th>\n",
       "      <th>Order Zipcode</th>\n",
       "      <th>Product Card Id</th>\n",
       "      <th>Product Category Id</th>\n",
       "      <th>Product Description</th>\n",
       "      <th>Product Image</th>\n",
       "      <th>Product Name</th>\n",
       "      <th>Product Price</th>\n",
       "      <th>Product Status</th>\n",
       "      <th>shipping date (DateOrders)</th>\n",
       "      <th>Shipping Mode</th>\n",
       "    </tr>\n",
       "  </thead>\n",
       "  <tbody>\n",
       "    <tr>\n",
       "      <th>0</th>\n",
       "      <td>DEBIT</td>\n",
       "      <td>91.250000</td>\n",
       "      <td>314.640015</td>\n",
       "      <td>Advance shipping</td>\n",
       "      <td>0</td>\n",
       "      <td>Sporting Goods</td>\n",
       "      <td>Caguas</td>\n",
       "      <td>Puerto Rico</td>\n",
       "      <td>20755</td>\n",
       "      <td>Consumer</td>\n",
       "      <td>...</td>\n",
       "      <td>NaN</td>\n",
       "      <td>1360</td>\n",
       "      <td>73</td>\n",
       "      <td>NaN</td>\n",
       "      <td>http://images.acmesports.sports/Smart+watch</td>\n",
       "      <td>Smart watch</td>\n",
       "      <td>327.75</td>\n",
       "      <td>0</td>\n",
       "      <td>2/3/2018 22:56</td>\n",
       "      <td>Standard Class</td>\n",
       "    </tr>\n",
       "    <tr>\n",
       "      <th>1</th>\n",
       "      <td>TRANSFER</td>\n",
       "      <td>-249.089996</td>\n",
       "      <td>311.359985</td>\n",
       "      <td>Late delivery</td>\n",
       "      <td>1</td>\n",
       "      <td>Sporting Goods</td>\n",
       "      <td>Caguas</td>\n",
       "      <td>Puerto Rico</td>\n",
       "      <td>19492</td>\n",
       "      <td>Consumer</td>\n",
       "      <td>...</td>\n",
       "      <td>NaN</td>\n",
       "      <td>1360</td>\n",
       "      <td>73</td>\n",
       "      <td>NaN</td>\n",
       "      <td>http://images.acmesports.sports/Smart+watch</td>\n",
       "      <td>Smart watch</td>\n",
       "      <td>327.75</td>\n",
       "      <td>0</td>\n",
       "      <td>1/18/2018 12:27</td>\n",
       "      <td>Standard Class</td>\n",
       "    </tr>\n",
       "    <tr>\n",
       "      <th>2</th>\n",
       "      <td>CASH</td>\n",
       "      <td>-247.779999</td>\n",
       "      <td>309.720001</td>\n",
       "      <td>Shipping on time</td>\n",
       "      <td>0</td>\n",
       "      <td>Sporting Goods</td>\n",
       "      <td>San Jose</td>\n",
       "      <td>EE. UU.</td>\n",
       "      <td>19491</td>\n",
       "      <td>Consumer</td>\n",
       "      <td>...</td>\n",
       "      <td>NaN</td>\n",
       "      <td>1360</td>\n",
       "      <td>73</td>\n",
       "      <td>NaN</td>\n",
       "      <td>http://images.acmesports.sports/Smart+watch</td>\n",
       "      <td>Smart watch</td>\n",
       "      <td>327.75</td>\n",
       "      <td>0</td>\n",
       "      <td>1/17/2018 12:06</td>\n",
       "      <td>Standard Class</td>\n",
       "    </tr>\n",
       "    <tr>\n",
       "      <th>3</th>\n",
       "      <td>DEBIT</td>\n",
       "      <td>22.860001</td>\n",
       "      <td>304.809998</td>\n",
       "      <td>Advance shipping</td>\n",
       "      <td>0</td>\n",
       "      <td>Sporting Goods</td>\n",
       "      <td>Los Angeles</td>\n",
       "      <td>EE. UU.</td>\n",
       "      <td>19490</td>\n",
       "      <td>Home Office</td>\n",
       "      <td>...</td>\n",
       "      <td>NaN</td>\n",
       "      <td>1360</td>\n",
       "      <td>73</td>\n",
       "      <td>NaN</td>\n",
       "      <td>http://images.acmesports.sports/Smart+watch</td>\n",
       "      <td>Smart watch</td>\n",
       "      <td>327.75</td>\n",
       "      <td>0</td>\n",
       "      <td>1/16/2018 11:45</td>\n",
       "      <td>Standard Class</td>\n",
       "    </tr>\n",
       "    <tr>\n",
       "      <th>4</th>\n",
       "      <td>PAYMENT</td>\n",
       "      <td>134.210007</td>\n",
       "      <td>298.250000</td>\n",
       "      <td>Advance shipping</td>\n",
       "      <td>0</td>\n",
       "      <td>Sporting Goods</td>\n",
       "      <td>Caguas</td>\n",
       "      <td>Puerto Rico</td>\n",
       "      <td>19489</td>\n",
       "      <td>Corporate</td>\n",
       "      <td>...</td>\n",
       "      <td>NaN</td>\n",
       "      <td>1360</td>\n",
       "      <td>73</td>\n",
       "      <td>NaN</td>\n",
       "      <td>http://images.acmesports.sports/Smart+watch</td>\n",
       "      <td>Smart watch</td>\n",
       "      <td>327.75</td>\n",
       "      <td>0</td>\n",
       "      <td>1/15/2018 11:24</td>\n",
       "      <td>Standard Class</td>\n",
       "    </tr>\n",
       "  </tbody>\n",
       "</table>\n",
       "<p>5 rows × 44 columns</p>\n",
       "</div>"
      ],
      "text/plain": [
       "       Type  Benefit per order  Sales per customer   Delivery Status  \\\n",
       "0     DEBIT          91.250000          314.640015  Advance shipping   \n",
       "1  TRANSFER        -249.089996          311.359985     Late delivery   \n",
       "2      CASH        -247.779999          309.720001  Shipping on time   \n",
       "3     DEBIT          22.860001          304.809998  Advance shipping   \n",
       "4   PAYMENT         134.210007          298.250000  Advance shipping   \n",
       "\n",
       "   Late_delivery_risk   Category Name Customer City Customer Country  \\\n",
       "0                   0  Sporting Goods        Caguas      Puerto Rico   \n",
       "1                   1  Sporting Goods        Caguas      Puerto Rico   \n",
       "2                   0  Sporting Goods      San Jose          EE. UU.   \n",
       "3                   0  Sporting Goods   Los Angeles          EE. UU.   \n",
       "4                   0  Sporting Goods        Caguas      Puerto Rico   \n",
       "\n",
       "   Customer Id Customer Segment  ... Order Zipcode  Product Card Id  \\\n",
       "0        20755         Consumer  ...           NaN             1360   \n",
       "1        19492         Consumer  ...           NaN             1360   \n",
       "2        19491         Consumer  ...           NaN             1360   \n",
       "3        19490      Home Office  ...           NaN             1360   \n",
       "4        19489        Corporate  ...           NaN             1360   \n",
       "\n",
       "  Product Category Id  Product Description  \\\n",
       "0                  73                  NaN   \n",
       "1                  73                  NaN   \n",
       "2                  73                  NaN   \n",
       "3                  73                  NaN   \n",
       "4                  73                  NaN   \n",
       "\n",
       "                                  Product Image  Product Name Product Price  \\\n",
       "0  http://images.acmesports.sports/Smart+watch   Smart watch         327.75   \n",
       "1  http://images.acmesports.sports/Smart+watch   Smart watch         327.75   \n",
       "2  http://images.acmesports.sports/Smart+watch   Smart watch         327.75   \n",
       "3  http://images.acmesports.sports/Smart+watch   Smart watch         327.75   \n",
       "4  http://images.acmesports.sports/Smart+watch   Smart watch         327.75   \n",
       "\n",
       "  Product Status  shipping date (DateOrders)   Shipping Mode  \n",
       "0              0              2/3/2018 22:56  Standard Class  \n",
       "1              0             1/18/2018 12:27  Standard Class  \n",
       "2              0             1/17/2018 12:06  Standard Class  \n",
       "3              0             1/16/2018 11:45  Standard Class  \n",
       "4              0             1/15/2018 11:24  Standard Class  \n",
       "\n",
       "[5 rows x 44 columns]"
      ]
     },
     "execution_count": 19,
     "metadata": {},
     "output_type": "execute_result"
    }
   ],
   "source": [
    "data=df.copy()\n",
    "FeatureList=['Type', 'Benefit per order', 'Sales per customer', \n",
    "          'Delivery Status', 'Late_delivery_risk', 'Category Name', 'Customer City', 'Customer Country', \n",
    "           'Customer Id', 'Customer Segment', \n",
    "          'Customer State', 'Customer Zipcode', 'Department Name', 'Latitude', 'Longitude',\n",
    "          'Market', 'Order City', 'Order Country', 'Order Customer Id', 'order date (DateOrders)', 'Order Id', \n",
    "          'Order Item Cardprod Id', 'Order Item Discount', 'Order Item Discount Rate', 'Order Item Id', \n",
    "          'Order Item Product Price', 'Order Item Profit Ratio', 'Order Item Quantity', 'Sales', 'Order Item Total', \n",
    "          'Order Profit Per Order', 'Order Region', 'Order State', 'Order Status', 'Order Zipcode', 'Product Card Id',\n",
    "          'Product Category Id', 'Product Description', 'Product Image', 'Product Name', 'Product Price', 'Product Status',\n",
    "       'shipping date (DateOrders)', 'Shipping Mode']\n",
    "\n",
    "df1=df[FeatureList]\n",
    "df1.head()"
   ]
  },
  {
   "cell_type": "code",
   "execution_count": 23,
   "id": "f69e1ffd",
   "metadata": {},
   "outputs": [
    {
     "data": {
      "application/vnd.plotly.v1+json": {
       "config": {
        "plotlyServerURL": "https://plot.ly"
       },
       "data": [
        {
         "alignmentgroup": "True",
         "hovertemplate": "x=%{x}<br>y=%{y}<br>color=%{marker.color}<extra></extra>",
         "legendgroup": "",
         "marker": {
          "color": [
           98977,
           41592,
           32196,
           7754
          ],
          "coloraxis": "coloraxis",
          "pattern": {
           "shape": ""
          }
         },
         "name": "",
         "offsetgroup": "",
         "orientation": "v",
         "showlegend": false,
         "textposition": "auto",
         "type": "bar",
         "x": [
          "Late delivery",
          "Advance shipping",
          "Shipping on time",
          "Shipping canceled"
         ],
         "xaxis": "x",
         "y": [
          98977,
          41592,
          32196,
          7754
         ],
         "yaxis": "y"
        }
       ],
       "layout": {
        "barmode": "relative",
        "coloraxis": {
         "colorbar": {
          "title": {
           "text": "color"
          }
         },
         "colorscale": [
          [
           0,
           "#0d0887"
          ],
          [
           0.1111111111111111,
           "#46039f"
          ],
          [
           0.2222222222222222,
           "#7201a8"
          ],
          [
           0.3333333333333333,
           "#9c179e"
          ],
          [
           0.4444444444444444,
           "#bd3786"
          ],
          [
           0.5555555555555556,
           "#d8576b"
          ],
          [
           0.6666666666666666,
           "#ed7953"
          ],
          [
           0.7777777777777778,
           "#fb9f3a"
          ],
          [
           0.8888888888888888,
           "#fdca26"
          ],
          [
           1,
           "#f0f921"
          ]
         ]
        },
        "legend": {
         "tracegroupgap": 0
        },
        "margin": {
         "t": 60
        },
        "template": {
         "data": {
          "bar": [
           {
            "error_x": {
             "color": "#2a3f5f"
            },
            "error_y": {
             "color": "#2a3f5f"
            },
            "marker": {
             "line": {
              "color": "#E5ECF6",
              "width": 0.5
             },
             "pattern": {
              "fillmode": "overlay",
              "size": 10,
              "solidity": 0.2
             }
            },
            "type": "bar"
           }
          ],
          "barpolar": [
           {
            "marker": {
             "line": {
              "color": "#E5ECF6",
              "width": 0.5
             },
             "pattern": {
              "fillmode": "overlay",
              "size": 10,
              "solidity": 0.2
             }
            },
            "type": "barpolar"
           }
          ],
          "carpet": [
           {
            "aaxis": {
             "endlinecolor": "#2a3f5f",
             "gridcolor": "white",
             "linecolor": "white",
             "minorgridcolor": "white",
             "startlinecolor": "#2a3f5f"
            },
            "baxis": {
             "endlinecolor": "#2a3f5f",
             "gridcolor": "white",
             "linecolor": "white",
             "minorgridcolor": "white",
             "startlinecolor": "#2a3f5f"
            },
            "type": "carpet"
           }
          ],
          "choropleth": [
           {
            "colorbar": {
             "outlinewidth": 0,
             "ticks": ""
            },
            "type": "choropleth"
           }
          ],
          "contour": [
           {
            "colorbar": {
             "outlinewidth": 0,
             "ticks": ""
            },
            "colorscale": [
             [
              0,
              "#0d0887"
             ],
             [
              0.1111111111111111,
              "#46039f"
             ],
             [
              0.2222222222222222,
              "#7201a8"
             ],
             [
              0.3333333333333333,
              "#9c179e"
             ],
             [
              0.4444444444444444,
              "#bd3786"
             ],
             [
              0.5555555555555556,
              "#d8576b"
             ],
             [
              0.6666666666666666,
              "#ed7953"
             ],
             [
              0.7777777777777778,
              "#fb9f3a"
             ],
             [
              0.8888888888888888,
              "#fdca26"
             ],
             [
              1,
              "#f0f921"
             ]
            ],
            "type": "contour"
           }
          ],
          "contourcarpet": [
           {
            "colorbar": {
             "outlinewidth": 0,
             "ticks": ""
            },
            "type": "contourcarpet"
           }
          ],
          "heatmap": [
           {
            "colorbar": {
             "outlinewidth": 0,
             "ticks": ""
            },
            "colorscale": [
             [
              0,
              "#0d0887"
             ],
             [
              0.1111111111111111,
              "#46039f"
             ],
             [
              0.2222222222222222,
              "#7201a8"
             ],
             [
              0.3333333333333333,
              "#9c179e"
             ],
             [
              0.4444444444444444,
              "#bd3786"
             ],
             [
              0.5555555555555556,
              "#d8576b"
             ],
             [
              0.6666666666666666,
              "#ed7953"
             ],
             [
              0.7777777777777778,
              "#fb9f3a"
             ],
             [
              0.8888888888888888,
              "#fdca26"
             ],
             [
              1,
              "#f0f921"
             ]
            ],
            "type": "heatmap"
           }
          ],
          "heatmapgl": [
           {
            "colorbar": {
             "outlinewidth": 0,
             "ticks": ""
            },
            "colorscale": [
             [
              0,
              "#0d0887"
             ],
             [
              0.1111111111111111,
              "#46039f"
             ],
             [
              0.2222222222222222,
              "#7201a8"
             ],
             [
              0.3333333333333333,
              "#9c179e"
             ],
             [
              0.4444444444444444,
              "#bd3786"
             ],
             [
              0.5555555555555556,
              "#d8576b"
             ],
             [
              0.6666666666666666,
              "#ed7953"
             ],
             [
              0.7777777777777778,
              "#fb9f3a"
             ],
             [
              0.8888888888888888,
              "#fdca26"
             ],
             [
              1,
              "#f0f921"
             ]
            ],
            "type": "heatmapgl"
           }
          ],
          "histogram": [
           {
            "marker": {
             "pattern": {
              "fillmode": "overlay",
              "size": 10,
              "solidity": 0.2
             }
            },
            "type": "histogram"
           }
          ],
          "histogram2d": [
           {
            "colorbar": {
             "outlinewidth": 0,
             "ticks": ""
            },
            "colorscale": [
             [
              0,
              "#0d0887"
             ],
             [
              0.1111111111111111,
              "#46039f"
             ],
             [
              0.2222222222222222,
              "#7201a8"
             ],
             [
              0.3333333333333333,
              "#9c179e"
             ],
             [
              0.4444444444444444,
              "#bd3786"
             ],
             [
              0.5555555555555556,
              "#d8576b"
             ],
             [
              0.6666666666666666,
              "#ed7953"
             ],
             [
              0.7777777777777778,
              "#fb9f3a"
             ],
             [
              0.8888888888888888,
              "#fdca26"
             ],
             [
              1,
              "#f0f921"
             ]
            ],
            "type": "histogram2d"
           }
          ],
          "histogram2dcontour": [
           {
            "colorbar": {
             "outlinewidth": 0,
             "ticks": ""
            },
            "colorscale": [
             [
              0,
              "#0d0887"
             ],
             [
              0.1111111111111111,
              "#46039f"
             ],
             [
              0.2222222222222222,
              "#7201a8"
             ],
             [
              0.3333333333333333,
              "#9c179e"
             ],
             [
              0.4444444444444444,
              "#bd3786"
             ],
             [
              0.5555555555555556,
              "#d8576b"
             ],
             [
              0.6666666666666666,
              "#ed7953"
             ],
             [
              0.7777777777777778,
              "#fb9f3a"
             ],
             [
              0.8888888888888888,
              "#fdca26"
             ],
             [
              1,
              "#f0f921"
             ]
            ],
            "type": "histogram2dcontour"
           }
          ],
          "mesh3d": [
           {
            "colorbar": {
             "outlinewidth": 0,
             "ticks": ""
            },
            "type": "mesh3d"
           }
          ],
          "parcoords": [
           {
            "line": {
             "colorbar": {
              "outlinewidth": 0,
              "ticks": ""
             }
            },
            "type": "parcoords"
           }
          ],
          "pie": [
           {
            "automargin": true,
            "type": "pie"
           }
          ],
          "scatter": [
           {
            "marker": {
             "colorbar": {
              "outlinewidth": 0,
              "ticks": ""
             }
            },
            "type": "scatter"
           }
          ],
          "scatter3d": [
           {
            "line": {
             "colorbar": {
              "outlinewidth": 0,
              "ticks": ""
             }
            },
            "marker": {
             "colorbar": {
              "outlinewidth": 0,
              "ticks": ""
             }
            },
            "type": "scatter3d"
           }
          ],
          "scattercarpet": [
           {
            "marker": {
             "colorbar": {
              "outlinewidth": 0,
              "ticks": ""
             }
            },
            "type": "scattercarpet"
           }
          ],
          "scattergeo": [
           {
            "marker": {
             "colorbar": {
              "outlinewidth": 0,
              "ticks": ""
             }
            },
            "type": "scattergeo"
           }
          ],
          "scattergl": [
           {
            "marker": {
             "colorbar": {
              "outlinewidth": 0,
              "ticks": ""
             }
            },
            "type": "scattergl"
           }
          ],
          "scattermapbox": [
           {
            "marker": {
             "colorbar": {
              "outlinewidth": 0,
              "ticks": ""
             }
            },
            "type": "scattermapbox"
           }
          ],
          "scatterpolar": [
           {
            "marker": {
             "colorbar": {
              "outlinewidth": 0,
              "ticks": ""
             }
            },
            "type": "scatterpolar"
           }
          ],
          "scatterpolargl": [
           {
            "marker": {
             "colorbar": {
              "outlinewidth": 0,
              "ticks": ""
             }
            },
            "type": "scatterpolargl"
           }
          ],
          "scatterternary": [
           {
            "marker": {
             "colorbar": {
              "outlinewidth": 0,
              "ticks": ""
             }
            },
            "type": "scatterternary"
           }
          ],
          "surface": [
           {
            "colorbar": {
             "outlinewidth": 0,
             "ticks": ""
            },
            "colorscale": [
             [
              0,
              "#0d0887"
             ],
             [
              0.1111111111111111,
              "#46039f"
             ],
             [
              0.2222222222222222,
              "#7201a8"
             ],
             [
              0.3333333333333333,
              "#9c179e"
             ],
             [
              0.4444444444444444,
              "#bd3786"
             ],
             [
              0.5555555555555556,
              "#d8576b"
             ],
             [
              0.6666666666666666,
              "#ed7953"
             ],
             [
              0.7777777777777778,
              "#fb9f3a"
             ],
             [
              0.8888888888888888,
              "#fdca26"
             ],
             [
              1,
              "#f0f921"
             ]
            ],
            "type": "surface"
           }
          ],
          "table": [
           {
            "cells": {
             "fill": {
              "color": "#EBF0F8"
             },
             "line": {
              "color": "white"
             }
            },
            "header": {
             "fill": {
              "color": "#C8D4E3"
             },
             "line": {
              "color": "white"
             }
            },
            "type": "table"
           }
          ]
         },
         "layout": {
          "annotationdefaults": {
           "arrowcolor": "#2a3f5f",
           "arrowhead": 0,
           "arrowwidth": 1
          },
          "autotypenumbers": "strict",
          "coloraxis": {
           "colorbar": {
            "outlinewidth": 0,
            "ticks": ""
           }
          },
          "colorscale": {
           "diverging": [
            [
             0,
             "#8e0152"
            ],
            [
             0.1,
             "#c51b7d"
            ],
            [
             0.2,
             "#de77ae"
            ],
            [
             0.3,
             "#f1b6da"
            ],
            [
             0.4,
             "#fde0ef"
            ],
            [
             0.5,
             "#f7f7f7"
            ],
            [
             0.6,
             "#e6f5d0"
            ],
            [
             0.7,
             "#b8e186"
            ],
            [
             0.8,
             "#7fbc41"
            ],
            [
             0.9,
             "#4d9221"
            ],
            [
             1,
             "#276419"
            ]
           ],
           "sequential": [
            [
             0,
             "#0d0887"
            ],
            [
             0.1111111111111111,
             "#46039f"
            ],
            [
             0.2222222222222222,
             "#7201a8"
            ],
            [
             0.3333333333333333,
             "#9c179e"
            ],
            [
             0.4444444444444444,
             "#bd3786"
            ],
            [
             0.5555555555555556,
             "#d8576b"
            ],
            [
             0.6666666666666666,
             "#ed7953"
            ],
            [
             0.7777777777777778,
             "#fb9f3a"
            ],
            [
             0.8888888888888888,
             "#fdca26"
            ],
            [
             1,
             "#f0f921"
            ]
           ],
           "sequentialminus": [
            [
             0,
             "#0d0887"
            ],
            [
             0.1111111111111111,
             "#46039f"
            ],
            [
             0.2222222222222222,
             "#7201a8"
            ],
            [
             0.3333333333333333,
             "#9c179e"
            ],
            [
             0.4444444444444444,
             "#bd3786"
            ],
            [
             0.5555555555555556,
             "#d8576b"
            ],
            [
             0.6666666666666666,
             "#ed7953"
            ],
            [
             0.7777777777777778,
             "#fb9f3a"
            ],
            [
             0.8888888888888888,
             "#fdca26"
            ],
            [
             1,
             "#f0f921"
            ]
           ]
          },
          "colorway": [
           "#636efa",
           "#EF553B",
           "#00cc96",
           "#ab63fa",
           "#FFA15A",
           "#19d3f3",
           "#FF6692",
           "#B6E880",
           "#FF97FF",
           "#FECB52"
          ],
          "font": {
           "color": "#2a3f5f"
          },
          "geo": {
           "bgcolor": "white",
           "lakecolor": "white",
           "landcolor": "#E5ECF6",
           "showlakes": true,
           "showland": true,
           "subunitcolor": "white"
          },
          "hoverlabel": {
           "align": "left"
          },
          "hovermode": "closest",
          "mapbox": {
           "style": "light"
          },
          "paper_bgcolor": "white",
          "plot_bgcolor": "#E5ECF6",
          "polar": {
           "angularaxis": {
            "gridcolor": "white",
            "linecolor": "white",
            "ticks": ""
           },
           "bgcolor": "#E5ECF6",
           "radialaxis": {
            "gridcolor": "white",
            "linecolor": "white",
            "ticks": ""
           }
          },
          "scene": {
           "xaxis": {
            "backgroundcolor": "#E5ECF6",
            "gridcolor": "white",
            "gridwidth": 2,
            "linecolor": "white",
            "showbackground": true,
            "ticks": "",
            "zerolinecolor": "white"
           },
           "yaxis": {
            "backgroundcolor": "#E5ECF6",
            "gridcolor": "white",
            "gridwidth": 2,
            "linecolor": "white",
            "showbackground": true,
            "ticks": "",
            "zerolinecolor": "white"
           },
           "zaxis": {
            "backgroundcolor": "#E5ECF6",
            "gridcolor": "white",
            "gridwidth": 2,
            "linecolor": "white",
            "showbackground": true,
            "ticks": "",
            "zerolinecolor": "white"
           }
          },
          "shapedefaults": {
           "line": {
            "color": "#2a3f5f"
           }
          },
          "ternary": {
           "aaxis": {
            "gridcolor": "white",
            "linecolor": "white",
            "ticks": ""
           },
           "baxis": {
            "gridcolor": "white",
            "linecolor": "white",
            "ticks": ""
           },
           "bgcolor": "#E5ECF6",
           "caxis": {
            "gridcolor": "white",
            "linecolor": "white",
            "ticks": ""
           }
          },
          "title": {
           "x": 0.05
          },
          "xaxis": {
           "automargin": true,
           "gridcolor": "white",
           "linecolor": "white",
           "ticks": "",
           "title": {
            "standoff": 15
           },
           "zerolinecolor": "white",
           "zerolinewidth": 2
          },
          "yaxis": {
           "automargin": true,
           "gridcolor": "white",
           "linecolor": "white",
           "ticks": "",
           "title": {
            "standoff": 15
           },
           "zerolinecolor": "white",
           "zerolinewidth": 2
          }
         }
        },
        "xaxis": {
         "anchor": "y",
         "domain": [
          0,
          1
         ],
         "title": {
          "text": "x"
         }
        },
        "yaxis": {
         "anchor": "x",
         "domain": [
          0,
          1
         ],
         "title": {
          "text": "y"
         }
        }
       }
      },
      "text/html": [
       "<div>                            <div id=\"1d14cf90-c2cc-4197-bbbb-c52f8591a5f9\" class=\"plotly-graph-div\" style=\"height:525px; width:100%;\"></div>            <script type=\"text/javascript\">                require([\"plotly\"], function(Plotly) {                    window.PLOTLYENV=window.PLOTLYENV || {};                                    if (document.getElementById(\"1d14cf90-c2cc-4197-bbbb-c52f8591a5f9\")) {                    Plotly.newPlot(                        \"1d14cf90-c2cc-4197-bbbb-c52f8591a5f9\",                        [{\"alignmentgroup\":\"True\",\"hovertemplate\":\"x=%{x}<br>y=%{y}<br>color=%{marker.color}<extra></extra>\",\"legendgroup\":\"\",\"marker\":{\"color\":[98977,41592,32196,7754],\"coloraxis\":\"coloraxis\",\"pattern\":{\"shape\":\"\"}},\"name\":\"\",\"offsetgroup\":\"\",\"orientation\":\"v\",\"showlegend\":false,\"textposition\":\"auto\",\"x\":[\"Late delivery\",\"Advance shipping\",\"Shipping on time\",\"Shipping canceled\"],\"xaxis\":\"x\",\"y\":[98977,41592,32196,7754],\"yaxis\":\"y\",\"type\":\"bar\"}],                        {\"template\":{\"data\":{\"bar\":[{\"error_x\":{\"color\":\"#2a3f5f\"},\"error_y\":{\"color\":\"#2a3f5f\"},\"marker\":{\"line\":{\"color\":\"#E5ECF6\",\"width\":0.5},\"pattern\":{\"fillmode\":\"overlay\",\"size\":10,\"solidity\":0.2}},\"type\":\"bar\"}],\"barpolar\":[{\"marker\":{\"line\":{\"color\":\"#E5ECF6\",\"width\":0.5},\"pattern\":{\"fillmode\":\"overlay\",\"size\":10,\"solidity\":0.2}},\"type\":\"barpolar\"}],\"carpet\":[{\"aaxis\":{\"endlinecolor\":\"#2a3f5f\",\"gridcolor\":\"white\",\"linecolor\":\"white\",\"minorgridcolor\":\"white\",\"startlinecolor\":\"#2a3f5f\"},\"baxis\":{\"endlinecolor\":\"#2a3f5f\",\"gridcolor\":\"white\",\"linecolor\":\"white\",\"minorgridcolor\":\"white\",\"startlinecolor\":\"#2a3f5f\"},\"type\":\"carpet\"}],\"choropleth\":[{\"colorbar\":{\"outlinewidth\":0,\"ticks\":\"\"},\"type\":\"choropleth\"}],\"contour\":[{\"colorbar\":{\"outlinewidth\":0,\"ticks\":\"\"},\"colorscale\":[[0.0,\"#0d0887\"],[0.1111111111111111,\"#46039f\"],[0.2222222222222222,\"#7201a8\"],[0.3333333333333333,\"#9c179e\"],[0.4444444444444444,\"#bd3786\"],[0.5555555555555556,\"#d8576b\"],[0.6666666666666666,\"#ed7953\"],[0.7777777777777778,\"#fb9f3a\"],[0.8888888888888888,\"#fdca26\"],[1.0,\"#f0f921\"]],\"type\":\"contour\"}],\"contourcarpet\":[{\"colorbar\":{\"outlinewidth\":0,\"ticks\":\"\"},\"type\":\"contourcarpet\"}],\"heatmap\":[{\"colorbar\":{\"outlinewidth\":0,\"ticks\":\"\"},\"colorscale\":[[0.0,\"#0d0887\"],[0.1111111111111111,\"#46039f\"],[0.2222222222222222,\"#7201a8\"],[0.3333333333333333,\"#9c179e\"],[0.4444444444444444,\"#bd3786\"],[0.5555555555555556,\"#d8576b\"],[0.6666666666666666,\"#ed7953\"],[0.7777777777777778,\"#fb9f3a\"],[0.8888888888888888,\"#fdca26\"],[1.0,\"#f0f921\"]],\"type\":\"heatmap\"}],\"heatmapgl\":[{\"colorbar\":{\"outlinewidth\":0,\"ticks\":\"\"},\"colorscale\":[[0.0,\"#0d0887\"],[0.1111111111111111,\"#46039f\"],[0.2222222222222222,\"#7201a8\"],[0.3333333333333333,\"#9c179e\"],[0.4444444444444444,\"#bd3786\"],[0.5555555555555556,\"#d8576b\"],[0.6666666666666666,\"#ed7953\"],[0.7777777777777778,\"#fb9f3a\"],[0.8888888888888888,\"#fdca26\"],[1.0,\"#f0f921\"]],\"type\":\"heatmapgl\"}],\"histogram\":[{\"marker\":{\"pattern\":{\"fillmode\":\"overlay\",\"size\":10,\"solidity\":0.2}},\"type\":\"histogram\"}],\"histogram2d\":[{\"colorbar\":{\"outlinewidth\":0,\"ticks\":\"\"},\"colorscale\":[[0.0,\"#0d0887\"],[0.1111111111111111,\"#46039f\"],[0.2222222222222222,\"#7201a8\"],[0.3333333333333333,\"#9c179e\"],[0.4444444444444444,\"#bd3786\"],[0.5555555555555556,\"#d8576b\"],[0.6666666666666666,\"#ed7953\"],[0.7777777777777778,\"#fb9f3a\"],[0.8888888888888888,\"#fdca26\"],[1.0,\"#f0f921\"]],\"type\":\"histogram2d\"}],\"histogram2dcontour\":[{\"colorbar\":{\"outlinewidth\":0,\"ticks\":\"\"},\"colorscale\":[[0.0,\"#0d0887\"],[0.1111111111111111,\"#46039f\"],[0.2222222222222222,\"#7201a8\"],[0.3333333333333333,\"#9c179e\"],[0.4444444444444444,\"#bd3786\"],[0.5555555555555556,\"#d8576b\"],[0.6666666666666666,\"#ed7953\"],[0.7777777777777778,\"#fb9f3a\"],[0.8888888888888888,\"#fdca26\"],[1.0,\"#f0f921\"]],\"type\":\"histogram2dcontour\"}],\"mesh3d\":[{\"colorbar\":{\"outlinewidth\":0,\"ticks\":\"\"},\"type\":\"mesh3d\"}],\"parcoords\":[{\"line\":{\"colorbar\":{\"outlinewidth\":0,\"ticks\":\"\"}},\"type\":\"parcoords\"}],\"pie\":[{\"automargin\":true,\"type\":\"pie\"}],\"scatter\":[{\"marker\":{\"colorbar\":{\"outlinewidth\":0,\"ticks\":\"\"}},\"type\":\"scatter\"}],\"scatter3d\":[{\"line\":{\"colorbar\":{\"outlinewidth\":0,\"ticks\":\"\"}},\"marker\":{\"colorbar\":{\"outlinewidth\":0,\"ticks\":\"\"}},\"type\":\"scatter3d\"}],\"scattercarpet\":[{\"marker\":{\"colorbar\":{\"outlinewidth\":0,\"ticks\":\"\"}},\"type\":\"scattercarpet\"}],\"scattergeo\":[{\"marker\":{\"colorbar\":{\"outlinewidth\":0,\"ticks\":\"\"}},\"type\":\"scattergeo\"}],\"scattergl\":[{\"marker\":{\"colorbar\":{\"outlinewidth\":0,\"ticks\":\"\"}},\"type\":\"scattergl\"}],\"scattermapbox\":[{\"marker\":{\"colorbar\":{\"outlinewidth\":0,\"ticks\":\"\"}},\"type\":\"scattermapbox\"}],\"scatterpolar\":[{\"marker\":{\"colorbar\":{\"outlinewidth\":0,\"ticks\":\"\"}},\"type\":\"scatterpolar\"}],\"scatterpolargl\":[{\"marker\":{\"colorbar\":{\"outlinewidth\":0,\"ticks\":\"\"}},\"type\":\"scatterpolargl\"}],\"scatterternary\":[{\"marker\":{\"colorbar\":{\"outlinewidth\":0,\"ticks\":\"\"}},\"type\":\"scatterternary\"}],\"surface\":[{\"colorbar\":{\"outlinewidth\":0,\"ticks\":\"\"},\"colorscale\":[[0.0,\"#0d0887\"],[0.1111111111111111,\"#46039f\"],[0.2222222222222222,\"#7201a8\"],[0.3333333333333333,\"#9c179e\"],[0.4444444444444444,\"#bd3786\"],[0.5555555555555556,\"#d8576b\"],[0.6666666666666666,\"#ed7953\"],[0.7777777777777778,\"#fb9f3a\"],[0.8888888888888888,\"#fdca26\"],[1.0,\"#f0f921\"]],\"type\":\"surface\"}],\"table\":[{\"cells\":{\"fill\":{\"color\":\"#EBF0F8\"},\"line\":{\"color\":\"white\"}},\"header\":{\"fill\":{\"color\":\"#C8D4E3\"},\"line\":{\"color\":\"white\"}},\"type\":\"table\"}]},\"layout\":{\"annotationdefaults\":{\"arrowcolor\":\"#2a3f5f\",\"arrowhead\":0,\"arrowwidth\":1},\"autotypenumbers\":\"strict\",\"coloraxis\":{\"colorbar\":{\"outlinewidth\":0,\"ticks\":\"\"}},\"colorscale\":{\"diverging\":[[0,\"#8e0152\"],[0.1,\"#c51b7d\"],[0.2,\"#de77ae\"],[0.3,\"#f1b6da\"],[0.4,\"#fde0ef\"],[0.5,\"#f7f7f7\"],[0.6,\"#e6f5d0\"],[0.7,\"#b8e186\"],[0.8,\"#7fbc41\"],[0.9,\"#4d9221\"],[1,\"#276419\"]],\"sequential\":[[0.0,\"#0d0887\"],[0.1111111111111111,\"#46039f\"],[0.2222222222222222,\"#7201a8\"],[0.3333333333333333,\"#9c179e\"],[0.4444444444444444,\"#bd3786\"],[0.5555555555555556,\"#d8576b\"],[0.6666666666666666,\"#ed7953\"],[0.7777777777777778,\"#fb9f3a\"],[0.8888888888888888,\"#fdca26\"],[1.0,\"#f0f921\"]],\"sequentialminus\":[[0.0,\"#0d0887\"],[0.1111111111111111,\"#46039f\"],[0.2222222222222222,\"#7201a8\"],[0.3333333333333333,\"#9c179e\"],[0.4444444444444444,\"#bd3786\"],[0.5555555555555556,\"#d8576b\"],[0.6666666666666666,\"#ed7953\"],[0.7777777777777778,\"#fb9f3a\"],[0.8888888888888888,\"#fdca26\"],[1.0,\"#f0f921\"]]},\"colorway\":[\"#636efa\",\"#EF553B\",\"#00cc96\",\"#ab63fa\",\"#FFA15A\",\"#19d3f3\",\"#FF6692\",\"#B6E880\",\"#FF97FF\",\"#FECB52\"],\"font\":{\"color\":\"#2a3f5f\"},\"geo\":{\"bgcolor\":\"white\",\"lakecolor\":\"white\",\"landcolor\":\"#E5ECF6\",\"showlakes\":true,\"showland\":true,\"subunitcolor\":\"white\"},\"hoverlabel\":{\"align\":\"left\"},\"hovermode\":\"closest\",\"mapbox\":{\"style\":\"light\"},\"paper_bgcolor\":\"white\",\"plot_bgcolor\":\"#E5ECF6\",\"polar\":{\"angularaxis\":{\"gridcolor\":\"white\",\"linecolor\":\"white\",\"ticks\":\"\"},\"bgcolor\":\"#E5ECF6\",\"radialaxis\":{\"gridcolor\":\"white\",\"linecolor\":\"white\",\"ticks\":\"\"}},\"scene\":{\"xaxis\":{\"backgroundcolor\":\"#E5ECF6\",\"gridcolor\":\"white\",\"gridwidth\":2,\"linecolor\":\"white\",\"showbackground\":true,\"ticks\":\"\",\"zerolinecolor\":\"white\"},\"yaxis\":{\"backgroundcolor\":\"#E5ECF6\",\"gridcolor\":\"white\",\"gridwidth\":2,\"linecolor\":\"white\",\"showbackground\":true,\"ticks\":\"\",\"zerolinecolor\":\"white\"},\"zaxis\":{\"backgroundcolor\":\"#E5ECF6\",\"gridcolor\":\"white\",\"gridwidth\":2,\"linecolor\":\"white\",\"showbackground\":true,\"ticks\":\"\",\"zerolinecolor\":\"white\"}},\"shapedefaults\":{\"line\":{\"color\":\"#2a3f5f\"}},\"ternary\":{\"aaxis\":{\"gridcolor\":\"white\",\"linecolor\":\"white\",\"ticks\":\"\"},\"baxis\":{\"gridcolor\":\"white\",\"linecolor\":\"white\",\"ticks\":\"\"},\"bgcolor\":\"#E5ECF6\",\"caxis\":{\"gridcolor\":\"white\",\"linecolor\":\"white\",\"ticks\":\"\"}},\"title\":{\"x\":0.05},\"xaxis\":{\"automargin\":true,\"gridcolor\":\"white\",\"linecolor\":\"white\",\"ticks\":\"\",\"title\":{\"standoff\":15},\"zerolinecolor\":\"white\",\"zerolinewidth\":2},\"yaxis\":{\"automargin\":true,\"gridcolor\":\"white\",\"linecolor\":\"white\",\"ticks\":\"\",\"title\":{\"standoff\":15},\"zerolinecolor\":\"white\",\"zerolinewidth\":2}}},\"xaxis\":{\"anchor\":\"y\",\"domain\":[0.0,1.0],\"title\":{\"text\":\"x\"}},\"yaxis\":{\"anchor\":\"x\",\"domain\":[0.0,1.0],\"title\":{\"text\":\"y\"}},\"coloraxis\":{\"colorbar\":{\"title\":{\"text\":\"color\"}},\"colorscale\":[[0.0,\"#0d0887\"],[0.1111111111111111,\"#46039f\"],[0.2222222222222222,\"#7201a8\"],[0.3333333333333333,\"#9c179e\"],[0.4444444444444444,\"#bd3786\"],[0.5555555555555556,\"#d8576b\"],[0.6666666666666666,\"#ed7953\"],[0.7777777777777778,\"#fb9f3a\"],[0.8888888888888888,\"#fdca26\"],[1.0,\"#f0f921\"]]},\"legend\":{\"tracegroupgap\":0},\"margin\":{\"t\":60},\"barmode\":\"relative\"},                        {\"responsive\": true}                    ).then(function(){\n",
       "                            \n",
       "var gd = document.getElementById('1d14cf90-c2cc-4197-bbbb-c52f8591a5f9');\n",
       "var x = new MutationObserver(function (mutations, observer) {{\n",
       "        var display = window.getComputedStyle(gd).display;\n",
       "        if (!display || display === 'none') {{\n",
       "            console.log([gd, 'removed!']);\n",
       "            Plotly.purge(gd);\n",
       "            observer.disconnect();\n",
       "        }}\n",
       "}});\n",
       "\n",
       "// Listen for the removal of the full notebook cells\n",
       "var notebookContainer = gd.closest('#notebook-container');\n",
       "if (notebookContainer) {{\n",
       "    x.observe(notebookContainer, {childList: true});\n",
       "}}\n",
       "\n",
       "// Listen for the clearing of the current output cell\n",
       "var outputEl = gd.closest('.output');\n",
       "if (outputEl) {{\n",
       "    x.observe(outputEl, {childList: true});\n",
       "}}\n",
       "\n",
       "                        })                };                });            </script>        </div>"
      ]
     },
     "metadata": {},
     "output_type": "display_data"
    }
   ],
   "source": [
    "import plotly.express as px\n",
    "data_delivery_status=df1.groupby(['Delivery Status'])['Order Id'].count().reset_index(name='Number of Orders').sort_values(by= 'Number of Orders', ascending= False)\n",
    "px.bar(x=data_delivery_status['Delivery Status'] , y=data_delivery_status['Number of Orders']  , color=data_delivery_status['Number of Orders'],\n",
    "      labels = { 'Delivery Status': 'Delivery Status', 'Number of Orders': 'Number of Orders'})"
   ]
  },
  {
   "cell_type": "code",
   "execution_count": 26,
   "id": "2d2cd7e9",
   "metadata": {},
   "outputs": [
    {
     "data": {
      "application/vnd.plotly.v1+json": {
       "config": {
        "plotlyServerURL": "https://plot.ly"
       },
       "data": [
        {
         "alignmentgroup": "True",
         "hovertemplate": "Order Region=Central America<br>Delivery Status=%{x}<br>Number of Orders=%{y}<extra></extra>",
         "legendgroup": "Central America",
         "marker": {
          "color": "#636efa",
          "pattern": {
           "shape": ""
          }
         },
         "name": "Central America",
         "offsetgroup": "Central America",
         "orientation": "v",
         "showlegend": true,
         "textposition": "auto",
         "type": "bar",
         "x": [
          "Late delivery",
          "Advance shipping",
          "Shipping on time",
          "Shipping canceled"
         ],
         "xaxis": "x",
         "y": [
          15518,
          6566,
          5090,
          1167
         ],
         "yaxis": "y"
        },
        {
         "alignmentgroup": "True",
         "hovertemplate": "Order Region=Western Europe<br>Delivery Status=%{x}<br>Number of Orders=%{y}<extra></extra>",
         "legendgroup": "Western Europe",
         "marker": {
          "color": "#EF553B",
          "pattern": {
           "shape": ""
          }
         },
         "name": "Western Europe",
         "offsetgroup": "Western Europe",
         "orientation": "v",
         "showlegend": true,
         "textposition": "auto",
         "type": "bar",
         "x": [
          "Late delivery",
          "Advance shipping",
          "Shipping on time",
          "Shipping canceled"
         ],
         "xaxis": "x",
         "y": [
          15140,
          6138,
          4589,
          1242
         ],
         "yaxis": "y"
        },
        {
         "alignmentgroup": "True",
         "hovertemplate": "Order Region=South America<br>Delivery Status=%{x}<br>Number of Orders=%{y}<extra></extra>",
         "legendgroup": "South America",
         "marker": {
          "color": "#00cc96",
          "pattern": {
           "shape": ""
          }
         },
         "name": "South America",
         "offsetgroup": "South America",
         "orientation": "v",
         "showlegend": true,
         "textposition": "auto",
         "type": "bar",
         "x": [
          "Late delivery",
          "Advance shipping",
          "Shipping on time",
          "Shipping canceled"
         ],
         "xaxis": "x",
         "y": [
          8111,
          3476,
          2597,
          751
         ],
         "yaxis": "y"
        },
        {
         "alignmentgroup": "True",
         "hovertemplate": "Order Region=Oceania<br>Delivery Status=%{x}<br>Number of Orders=%{y}<extra></extra>",
         "legendgroup": "Oceania",
         "marker": {
          "color": "#ab63fa",
          "pattern": {
           "shape": ""
          }
         },
         "name": "Oceania",
         "offsetgroup": "Oceania",
         "orientation": "v",
         "showlegend": true,
         "textposition": "auto",
         "type": "bar",
         "x": [
          "Late delivery",
          "Advance shipping",
          "Shipping on time",
          "Shipping canceled"
         ],
         "xaxis": "x",
         "y": [
          5482,
          2324,
          1927,
          415
         ],
         "yaxis": "y"
        },
        {
         "alignmentgroup": "True",
         "hovertemplate": "Order Region=Southeast Asia<br>Delivery Status=%{x}<br>Number of Orders=%{y}<extra></extra>",
         "legendgroup": "Southeast Asia",
         "marker": {
          "color": "#FFA15A",
          "pattern": {
           "shape": ""
          }
         },
         "name": "Southeast Asia",
         "offsetgroup": "Southeast Asia",
         "orientation": "v",
         "showlegend": true,
         "textposition": "auto",
         "type": "bar",
         "x": [
          "Late delivery",
          "Advance shipping",
          "Shipping on time",
          "Shipping canceled"
         ],
         "xaxis": "x",
         "y": [
          5297,
          2208,
          1631,
          403
         ],
         "yaxis": "y"
        },
        {
         "alignmentgroup": "True",
         "hovertemplate": "Order Region=Northern Europe<br>Delivery Status=%{x}<br>Number of Orders=%{y}<extra></extra>",
         "legendgroup": "Northern Europe",
         "marker": {
          "color": "#19d3f3",
          "pattern": {
           "shape": ""
          }
         },
         "name": "Northern Europe",
         "offsetgroup": "Northern Europe",
         "orientation": "v",
         "showlegend": true,
         "textposition": "auto",
         "type": "bar",
         "x": [
          "Late delivery",
          "Advance shipping",
          "Shipping on time",
          "Shipping canceled"
         ],
         "xaxis": "x",
         "y": [
          5292,
          2341,
          1775,
          384
         ],
         "yaxis": "y"
        },
        {
         "alignmentgroup": "True",
         "hovertemplate": "Order Region=Southern Europe<br>Delivery Status=%{x}<br>Number of Orders=%{y}<extra></extra>",
         "legendgroup": "Southern Europe",
         "marker": {
          "color": "#FF6692",
          "pattern": {
           "shape": ""
          }
         },
         "name": "Southern Europe",
         "offsetgroup": "Southern Europe",
         "orientation": "v",
         "showlegend": true,
         "textposition": "auto",
         "type": "bar",
         "x": [
          "Late delivery",
          "Advance shipping",
          "Shipping on time",
          "Shipping canceled"
         ],
         "xaxis": "x",
         "y": [
          5129,
          2246,
          1655,
          401
         ],
         "yaxis": "y"
        },
        {
         "alignmentgroup": "True",
         "hovertemplate": "Order Region=Caribbean<br>Delivery Status=%{x}<br>Number of Orders=%{y}<extra></extra>",
         "legendgroup": "Caribbean",
         "marker": {
          "color": "#B6E880",
          "pattern": {
           "shape": ""
          }
         },
         "name": "Caribbean",
         "offsetgroup": "Caribbean",
         "orientation": "v",
         "showlegend": true,
         "textposition": "auto",
         "type": "bar",
         "x": [
          "Late delivery",
          "Advance shipping",
          "Shipping on time",
          "Shipping canceled"
         ],
         "xaxis": "x",
         "y": [
          4415,
          1997,
          1539,
          367
         ],
         "yaxis": "y"
        },
        {
         "alignmentgroup": "True",
         "hovertemplate": "Order Region=South Asia<br>Delivery Status=%{x}<br>Number of Orders=%{y}<extra></extra>",
         "legendgroup": "South Asia",
         "marker": {
          "color": "#FF97FF",
          "pattern": {
           "shape": ""
          }
         },
         "name": "South Asia",
         "offsetgroup": "South Asia",
         "orientation": "v",
         "showlegend": true,
         "textposition": "auto",
         "type": "bar",
         "x": [
          "Late delivery",
          "Advance shipping",
          "Shipping on time",
          "Shipping canceled"
         ],
         "xaxis": "x",
         "y": [
          4350,
          1765,
          1340,
          276
         ],
         "yaxis": "y"
        },
        {
         "alignmentgroup": "True",
         "hovertemplate": "Order Region=West of USA <br>Delivery Status=%{x}<br>Number of Orders=%{y}<extra></extra>",
         "legendgroup": "West of USA ",
         "marker": {
          "color": "#FECB52",
          "pattern": {
           "shape": ""
          }
         },
         "name": "West of USA ",
         "offsetgroup": "West of USA ",
         "orientation": "v",
         "showlegend": true,
         "textposition": "auto",
         "type": "bar",
         "x": [
          "Late delivery",
          "Advance shipping",
          "Shipping on time",
          "Shipping canceled"
         ],
         "xaxis": "x",
         "y": [
          4313,
          1835,
          1447,
          398
         ],
         "yaxis": "y"
        },
        {
         "alignmentgroup": "True",
         "hovertemplate": "Order Region=Eastern Asia<br>Delivery Status=%{x}<br>Number of Orders=%{y}<extra></extra>",
         "legendgroup": "Eastern Asia",
         "marker": {
          "color": "#636efa",
          "pattern": {
           "shape": ""
          }
         },
         "name": "Eastern Asia",
         "offsetgroup": "Eastern Asia",
         "orientation": "v",
         "showlegend": true,
         "textposition": "auto",
         "type": "bar",
         "x": [
          "Late delivery",
          "Advance shipping",
          "Shipping on time",
          "Shipping canceled"
         ],
         "xaxis": "x",
         "y": [
          3955,
          1754,
          1264,
          307
         ],
         "yaxis": "y"
        },
        {
         "alignmentgroup": "True",
         "hovertemplate": "Order Region=East of USA<br>Delivery Status=%{x}<br>Number of Orders=%{y}<extra></extra>",
         "legendgroup": "East of USA",
         "marker": {
          "color": "#EF553B",
          "pattern": {
           "shape": ""
          }
         },
         "name": "East of USA",
         "offsetgroup": "East of USA",
         "orientation": "v",
         "showlegend": true,
         "textposition": "auto",
         "type": "bar",
         "x": [
          "Late delivery",
          "Advance shipping",
          "Shipping on time",
          "Shipping canceled"
         ],
         "xaxis": "x",
         "y": [
          3849,
          1560,
          1208,
          298
         ],
         "yaxis": "y"
        },
        {
         "alignmentgroup": "True",
         "hovertemplate": "Order Region=West Asia<br>Delivery Status=%{x}<br>Number of Orders=%{y}<extra></extra>",
         "legendgroup": "West Asia",
         "marker": {
          "color": "#00cc96",
          "pattern": {
           "shape": ""
          }
         },
         "name": "West Asia",
         "offsetgroup": "West Asia",
         "orientation": "v",
         "showlegend": true,
         "textposition": "auto",
         "type": "bar",
         "x": [
          "Late delivery",
          "Advance shipping",
          "Shipping on time",
          "Shipping canceled"
         ],
         "xaxis": "x",
         "y": [
          3322,
          1310,
          1114,
          263
         ],
         "yaxis": "y"
        },
        {
         "alignmentgroup": "True",
         "hovertemplate": "Order Region=US Center <br>Delivery Status=%{x}<br>Number of Orders=%{y}<extra></extra>",
         "legendgroup": "US Center ",
         "marker": {
          "color": "#ab63fa",
          "pattern": {
           "shape": ""
          }
         },
         "name": "US Center ",
         "offsetgroup": "US Center ",
         "orientation": "v",
         "showlegend": true,
         "textposition": "auto",
         "type": "bar",
         "x": [
          "Late delivery",
          "Advance shipping",
          "Shipping on time",
          "Shipping canceled"
         ],
         "xaxis": "x",
         "y": [
          3252,
          1227,
          1174,
          234
         ],
         "yaxis": "y"
        },
        {
         "alignmentgroup": "True",
         "hovertemplate": "Order Region=South of  USA <br>Delivery Status=%{x}<br>Number of Orders=%{y}<extra></extra>",
         "legendgroup": "South of  USA ",
         "marker": {
          "color": "#FFA15A",
          "pattern": {
           "shape": ""
          }
         },
         "name": "South of  USA ",
         "offsetgroup": "South of  USA ",
         "orientation": "v",
         "showlegend": true,
         "textposition": "auto",
         "type": "bar",
         "x": [
          "Late delivery",
          "Advance shipping",
          "Shipping on time",
          "Shipping canceled"
         ],
         "xaxis": "x",
         "y": [
          2256,
          927,
          672,
          190
         ],
         "yaxis": "y"
        },
        {
         "alignmentgroup": "True",
         "hovertemplate": "Order Region=Eastern Europe<br>Delivery Status=%{x}<br>Number of Orders=%{y}<extra></extra>",
         "legendgroup": "Eastern Europe",
         "marker": {
          "color": "#19d3f3",
          "pattern": {
           "shape": ""
          }
         },
         "name": "Eastern Europe",
         "offsetgroup": "Eastern Europe",
         "orientation": "v",
         "showlegend": true,
         "textposition": "auto",
         "type": "bar",
         "x": [
          "Late delivery",
          "Advance shipping",
          "Shipping on time",
          "Shipping canceled"
         ],
         "xaxis": "x",
         "y": [
          2182,
          879,
          724,
          135
         ],
         "yaxis": "y"
        },
        {
         "alignmentgroup": "True",
         "hovertemplate": "Order Region=West Africa<br>Delivery Status=%{x}<br>Number of Orders=%{y}<extra></extra>",
         "legendgroup": "West Africa",
         "marker": {
          "color": "#FF6692",
          "pattern": {
           "shape": ""
          }
         },
         "name": "West Africa",
         "offsetgroup": "West Africa",
         "orientation": "v",
         "showlegend": true,
         "textposition": "auto",
         "type": "bar",
         "x": [
          "Late delivery",
          "Advance shipping",
          "Shipping on time",
          "Shipping canceled"
         ],
         "xaxis": "x",
         "y": [
          1953,
          849,
          769,
          125
         ],
         "yaxis": "y"
        },
        {
         "alignmentgroup": "True",
         "hovertemplate": "Order Region=North Africa<br>Delivery Status=%{x}<br>Number of Orders=%{y}<extra></extra>",
         "legendgroup": "North Africa",
         "marker": {
          "color": "#B6E880",
          "pattern": {
           "shape": ""
          }
         },
         "name": "North Africa",
         "offsetgroup": "North Africa",
         "orientation": "v",
         "showlegend": true,
         "textposition": "auto",
         "type": "bar",
         "x": [
          "Late delivery",
          "Advance shipping",
          "Shipping on time",
          "Shipping canceled"
         ],
         "xaxis": "x",
         "y": [
          1762,
          760,
          564,
          146
         ],
         "yaxis": "y"
        },
        {
         "alignmentgroup": "True",
         "hovertemplate": "Order Region=East Africa<br>Delivery Status=%{x}<br>Number of Orders=%{y}<extra></extra>",
         "legendgroup": "East Africa",
         "marker": {
          "color": "#FF97FF",
          "pattern": {
           "shape": ""
          }
         },
         "name": "East Africa",
         "offsetgroup": "East Africa",
         "orientation": "v",
         "showlegend": true,
         "textposition": "auto",
         "type": "bar",
         "x": [
          "Late delivery",
          "Advance shipping",
          "Shipping on time",
          "Shipping canceled"
         ],
         "xaxis": "x",
         "y": [
          1036,
          399,
          346,
          71
         ],
         "yaxis": "y"
        },
        {
         "alignmentgroup": "True",
         "hovertemplate": "Order Region=Central Africa<br>Delivery Status=%{x}<br>Number of Orders=%{y}<extra></extra>",
         "legendgroup": "Central Africa",
         "marker": {
          "color": "#FECB52",
          "pattern": {
           "shape": ""
          }
         },
         "name": "Central Africa",
         "offsetgroup": "Central Africa",
         "orientation": "v",
         "showlegend": true,
         "textposition": "auto",
         "type": "bar",
         "x": [
          "Late delivery",
          "Advance shipping",
          "Shipping on time",
          "Shipping canceled"
         ],
         "xaxis": "x",
         "y": [
          972,
          354,
          290,
          61
         ],
         "yaxis": "y"
        },
        {
         "alignmentgroup": "True",
         "hovertemplate": "Order Region=Southern Africa<br>Delivery Status=%{x}<br>Number of Orders=%{y}<extra></extra>",
         "legendgroup": "Southern Africa",
         "marker": {
          "color": "#636efa",
          "pattern": {
           "shape": ""
          }
         },
         "name": "Southern Africa",
         "offsetgroup": "Southern Africa",
         "orientation": "v",
         "showlegend": true,
         "textposition": "auto",
         "type": "bar",
         "x": [
          "Late delivery",
          "Advance shipping",
          "Shipping on time",
          "Shipping canceled"
         ],
         "xaxis": "x",
         "y": [
          617,
          283,
          200,
          57
         ],
         "yaxis": "y"
        },
        {
         "alignmentgroup": "True",
         "hovertemplate": "Order Region=Canada<br>Delivery Status=%{x}<br>Number of Orders=%{y}<extra></extra>",
         "legendgroup": "Canada",
         "marker": {
          "color": "#EF553B",
          "pattern": {
           "shape": ""
          }
         },
         "name": "Canada",
         "offsetgroup": "Canada",
         "orientation": "v",
         "showlegend": true,
         "textposition": "auto",
         "type": "bar",
         "x": [
          "Late delivery",
          "Advance shipping",
          "Shipping on time",
          "Shipping canceled"
         ],
         "xaxis": "x",
         "y": [
          468,
          282,
          157,
          52
         ],
         "yaxis": "y"
        },
        {
         "alignmentgroup": "True",
         "hovertemplate": "Order Region=Central Asia<br>Delivery Status=%{x}<br>Number of Orders=%{y}<extra></extra>",
         "legendgroup": "Central Asia",
         "marker": {
          "color": "#00cc96",
          "pattern": {
           "shape": ""
          }
         },
         "name": "Central Asia",
         "offsetgroup": "Central Asia",
         "orientation": "v",
         "showlegend": true,
         "textposition": "auto",
         "type": "bar",
         "x": [
          "Late delivery",
          "Shipping on time",
          "Advance shipping",
          "Shipping canceled"
         ],
         "xaxis": "x",
         "y": [
          306,
          124,
          112,
          11
         ],
         "yaxis": "y"
        }
       ],
       "layout": {
        "barmode": "relative",
        "legend": {
         "title": {
          "text": "Order Region"
         },
         "tracegroupgap": 0
        },
        "margin": {
         "t": 60
        },
        "template": {
         "data": {
          "bar": [
           {
            "error_x": {
             "color": "#2a3f5f"
            },
            "error_y": {
             "color": "#2a3f5f"
            },
            "marker": {
             "line": {
              "color": "#E5ECF6",
              "width": 0.5
             },
             "pattern": {
              "fillmode": "overlay",
              "size": 10,
              "solidity": 0.2
             }
            },
            "type": "bar"
           }
          ],
          "barpolar": [
           {
            "marker": {
             "line": {
              "color": "#E5ECF6",
              "width": 0.5
             },
             "pattern": {
              "fillmode": "overlay",
              "size": 10,
              "solidity": 0.2
             }
            },
            "type": "barpolar"
           }
          ],
          "carpet": [
           {
            "aaxis": {
             "endlinecolor": "#2a3f5f",
             "gridcolor": "white",
             "linecolor": "white",
             "minorgridcolor": "white",
             "startlinecolor": "#2a3f5f"
            },
            "baxis": {
             "endlinecolor": "#2a3f5f",
             "gridcolor": "white",
             "linecolor": "white",
             "minorgridcolor": "white",
             "startlinecolor": "#2a3f5f"
            },
            "type": "carpet"
           }
          ],
          "choropleth": [
           {
            "colorbar": {
             "outlinewidth": 0,
             "ticks": ""
            },
            "type": "choropleth"
           }
          ],
          "contour": [
           {
            "colorbar": {
             "outlinewidth": 0,
             "ticks": ""
            },
            "colorscale": [
             [
              0,
              "#0d0887"
             ],
             [
              0.1111111111111111,
              "#46039f"
             ],
             [
              0.2222222222222222,
              "#7201a8"
             ],
             [
              0.3333333333333333,
              "#9c179e"
             ],
             [
              0.4444444444444444,
              "#bd3786"
             ],
             [
              0.5555555555555556,
              "#d8576b"
             ],
             [
              0.6666666666666666,
              "#ed7953"
             ],
             [
              0.7777777777777778,
              "#fb9f3a"
             ],
             [
              0.8888888888888888,
              "#fdca26"
             ],
             [
              1,
              "#f0f921"
             ]
            ],
            "type": "contour"
           }
          ],
          "contourcarpet": [
           {
            "colorbar": {
             "outlinewidth": 0,
             "ticks": ""
            },
            "type": "contourcarpet"
           }
          ],
          "heatmap": [
           {
            "colorbar": {
             "outlinewidth": 0,
             "ticks": ""
            },
            "colorscale": [
             [
              0,
              "#0d0887"
             ],
             [
              0.1111111111111111,
              "#46039f"
             ],
             [
              0.2222222222222222,
              "#7201a8"
             ],
             [
              0.3333333333333333,
              "#9c179e"
             ],
             [
              0.4444444444444444,
              "#bd3786"
             ],
             [
              0.5555555555555556,
              "#d8576b"
             ],
             [
              0.6666666666666666,
              "#ed7953"
             ],
             [
              0.7777777777777778,
              "#fb9f3a"
             ],
             [
              0.8888888888888888,
              "#fdca26"
             ],
             [
              1,
              "#f0f921"
             ]
            ],
            "type": "heatmap"
           }
          ],
          "heatmapgl": [
           {
            "colorbar": {
             "outlinewidth": 0,
             "ticks": ""
            },
            "colorscale": [
             [
              0,
              "#0d0887"
             ],
             [
              0.1111111111111111,
              "#46039f"
             ],
             [
              0.2222222222222222,
              "#7201a8"
             ],
             [
              0.3333333333333333,
              "#9c179e"
             ],
             [
              0.4444444444444444,
              "#bd3786"
             ],
             [
              0.5555555555555556,
              "#d8576b"
             ],
             [
              0.6666666666666666,
              "#ed7953"
             ],
             [
              0.7777777777777778,
              "#fb9f3a"
             ],
             [
              0.8888888888888888,
              "#fdca26"
             ],
             [
              1,
              "#f0f921"
             ]
            ],
            "type": "heatmapgl"
           }
          ],
          "histogram": [
           {
            "marker": {
             "pattern": {
              "fillmode": "overlay",
              "size": 10,
              "solidity": 0.2
             }
            },
            "type": "histogram"
           }
          ],
          "histogram2d": [
           {
            "colorbar": {
             "outlinewidth": 0,
             "ticks": ""
            },
            "colorscale": [
             [
              0,
              "#0d0887"
             ],
             [
              0.1111111111111111,
              "#46039f"
             ],
             [
              0.2222222222222222,
              "#7201a8"
             ],
             [
              0.3333333333333333,
              "#9c179e"
             ],
             [
              0.4444444444444444,
              "#bd3786"
             ],
             [
              0.5555555555555556,
              "#d8576b"
             ],
             [
              0.6666666666666666,
              "#ed7953"
             ],
             [
              0.7777777777777778,
              "#fb9f3a"
             ],
             [
              0.8888888888888888,
              "#fdca26"
             ],
             [
              1,
              "#f0f921"
             ]
            ],
            "type": "histogram2d"
           }
          ],
          "histogram2dcontour": [
           {
            "colorbar": {
             "outlinewidth": 0,
             "ticks": ""
            },
            "colorscale": [
             [
              0,
              "#0d0887"
             ],
             [
              0.1111111111111111,
              "#46039f"
             ],
             [
              0.2222222222222222,
              "#7201a8"
             ],
             [
              0.3333333333333333,
              "#9c179e"
             ],
             [
              0.4444444444444444,
              "#bd3786"
             ],
             [
              0.5555555555555556,
              "#d8576b"
             ],
             [
              0.6666666666666666,
              "#ed7953"
             ],
             [
              0.7777777777777778,
              "#fb9f3a"
             ],
             [
              0.8888888888888888,
              "#fdca26"
             ],
             [
              1,
              "#f0f921"
             ]
            ],
            "type": "histogram2dcontour"
           }
          ],
          "mesh3d": [
           {
            "colorbar": {
             "outlinewidth": 0,
             "ticks": ""
            },
            "type": "mesh3d"
           }
          ],
          "parcoords": [
           {
            "line": {
             "colorbar": {
              "outlinewidth": 0,
              "ticks": ""
             }
            },
            "type": "parcoords"
           }
          ],
          "pie": [
           {
            "automargin": true,
            "type": "pie"
           }
          ],
          "scatter": [
           {
            "marker": {
             "colorbar": {
              "outlinewidth": 0,
              "ticks": ""
             }
            },
            "type": "scatter"
           }
          ],
          "scatter3d": [
           {
            "line": {
             "colorbar": {
              "outlinewidth": 0,
              "ticks": ""
             }
            },
            "marker": {
             "colorbar": {
              "outlinewidth": 0,
              "ticks": ""
             }
            },
            "type": "scatter3d"
           }
          ],
          "scattercarpet": [
           {
            "marker": {
             "colorbar": {
              "outlinewidth": 0,
              "ticks": ""
             }
            },
            "type": "scattercarpet"
           }
          ],
          "scattergeo": [
           {
            "marker": {
             "colorbar": {
              "outlinewidth": 0,
              "ticks": ""
             }
            },
            "type": "scattergeo"
           }
          ],
          "scattergl": [
           {
            "marker": {
             "colorbar": {
              "outlinewidth": 0,
              "ticks": ""
             }
            },
            "type": "scattergl"
           }
          ],
          "scattermapbox": [
           {
            "marker": {
             "colorbar": {
              "outlinewidth": 0,
              "ticks": ""
             }
            },
            "type": "scattermapbox"
           }
          ],
          "scatterpolar": [
           {
            "marker": {
             "colorbar": {
              "outlinewidth": 0,
              "ticks": ""
             }
            },
            "type": "scatterpolar"
           }
          ],
          "scatterpolargl": [
           {
            "marker": {
             "colorbar": {
              "outlinewidth": 0,
              "ticks": ""
             }
            },
            "type": "scatterpolargl"
           }
          ],
          "scatterternary": [
           {
            "marker": {
             "colorbar": {
              "outlinewidth": 0,
              "ticks": ""
             }
            },
            "type": "scatterternary"
           }
          ],
          "surface": [
           {
            "colorbar": {
             "outlinewidth": 0,
             "ticks": ""
            },
            "colorscale": [
             [
              0,
              "#0d0887"
             ],
             [
              0.1111111111111111,
              "#46039f"
             ],
             [
              0.2222222222222222,
              "#7201a8"
             ],
             [
              0.3333333333333333,
              "#9c179e"
             ],
             [
              0.4444444444444444,
              "#bd3786"
             ],
             [
              0.5555555555555556,
              "#d8576b"
             ],
             [
              0.6666666666666666,
              "#ed7953"
             ],
             [
              0.7777777777777778,
              "#fb9f3a"
             ],
             [
              0.8888888888888888,
              "#fdca26"
             ],
             [
              1,
              "#f0f921"
             ]
            ],
            "type": "surface"
           }
          ],
          "table": [
           {
            "cells": {
             "fill": {
              "color": "#EBF0F8"
             },
             "line": {
              "color": "white"
             }
            },
            "header": {
             "fill": {
              "color": "#C8D4E3"
             },
             "line": {
              "color": "white"
             }
            },
            "type": "table"
           }
          ]
         },
         "layout": {
          "annotationdefaults": {
           "arrowcolor": "#2a3f5f",
           "arrowhead": 0,
           "arrowwidth": 1
          },
          "autotypenumbers": "strict",
          "coloraxis": {
           "colorbar": {
            "outlinewidth": 0,
            "ticks": ""
           }
          },
          "colorscale": {
           "diverging": [
            [
             0,
             "#8e0152"
            ],
            [
             0.1,
             "#c51b7d"
            ],
            [
             0.2,
             "#de77ae"
            ],
            [
             0.3,
             "#f1b6da"
            ],
            [
             0.4,
             "#fde0ef"
            ],
            [
             0.5,
             "#f7f7f7"
            ],
            [
             0.6,
             "#e6f5d0"
            ],
            [
             0.7,
             "#b8e186"
            ],
            [
             0.8,
             "#7fbc41"
            ],
            [
             0.9,
             "#4d9221"
            ],
            [
             1,
             "#276419"
            ]
           ],
           "sequential": [
            [
             0,
             "#0d0887"
            ],
            [
             0.1111111111111111,
             "#46039f"
            ],
            [
             0.2222222222222222,
             "#7201a8"
            ],
            [
             0.3333333333333333,
             "#9c179e"
            ],
            [
             0.4444444444444444,
             "#bd3786"
            ],
            [
             0.5555555555555556,
             "#d8576b"
            ],
            [
             0.6666666666666666,
             "#ed7953"
            ],
            [
             0.7777777777777778,
             "#fb9f3a"
            ],
            [
             0.8888888888888888,
             "#fdca26"
            ],
            [
             1,
             "#f0f921"
            ]
           ],
           "sequentialminus": [
            [
             0,
             "#0d0887"
            ],
            [
             0.1111111111111111,
             "#46039f"
            ],
            [
             0.2222222222222222,
             "#7201a8"
            ],
            [
             0.3333333333333333,
             "#9c179e"
            ],
            [
             0.4444444444444444,
             "#bd3786"
            ],
            [
             0.5555555555555556,
             "#d8576b"
            ],
            [
             0.6666666666666666,
             "#ed7953"
            ],
            [
             0.7777777777777778,
             "#fb9f3a"
            ],
            [
             0.8888888888888888,
             "#fdca26"
            ],
            [
             1,
             "#f0f921"
            ]
           ]
          },
          "colorway": [
           "#636efa",
           "#EF553B",
           "#00cc96",
           "#ab63fa",
           "#FFA15A",
           "#19d3f3",
           "#FF6692",
           "#B6E880",
           "#FF97FF",
           "#FECB52"
          ],
          "font": {
           "color": "#2a3f5f"
          },
          "geo": {
           "bgcolor": "white",
           "lakecolor": "white",
           "landcolor": "#E5ECF6",
           "showlakes": true,
           "showland": true,
           "subunitcolor": "white"
          },
          "hoverlabel": {
           "align": "left"
          },
          "hovermode": "closest",
          "mapbox": {
           "style": "light"
          },
          "paper_bgcolor": "white",
          "plot_bgcolor": "#E5ECF6",
          "polar": {
           "angularaxis": {
            "gridcolor": "white",
            "linecolor": "white",
            "ticks": ""
           },
           "bgcolor": "#E5ECF6",
           "radialaxis": {
            "gridcolor": "white",
            "linecolor": "white",
            "ticks": ""
           }
          },
          "scene": {
           "xaxis": {
            "backgroundcolor": "#E5ECF6",
            "gridcolor": "white",
            "gridwidth": 2,
            "linecolor": "white",
            "showbackground": true,
            "ticks": "",
            "zerolinecolor": "white"
           },
           "yaxis": {
            "backgroundcolor": "#E5ECF6",
            "gridcolor": "white",
            "gridwidth": 2,
            "linecolor": "white",
            "showbackground": true,
            "ticks": "",
            "zerolinecolor": "white"
           },
           "zaxis": {
            "backgroundcolor": "#E5ECF6",
            "gridcolor": "white",
            "gridwidth": 2,
            "linecolor": "white",
            "showbackground": true,
            "ticks": "",
            "zerolinecolor": "white"
           }
          },
          "shapedefaults": {
           "line": {
            "color": "#2a3f5f"
           }
          },
          "ternary": {
           "aaxis": {
            "gridcolor": "white",
            "linecolor": "white",
            "ticks": ""
           },
           "baxis": {
            "gridcolor": "white",
            "linecolor": "white",
            "ticks": ""
           },
           "bgcolor": "#E5ECF6",
           "caxis": {
            "gridcolor": "white",
            "linecolor": "white",
            "ticks": ""
           }
          },
          "title": {
           "x": 0.05
          },
          "xaxis": {
           "automargin": true,
           "gridcolor": "white",
           "linecolor": "white",
           "ticks": "",
           "title": {
            "standoff": 15
           },
           "zerolinecolor": "white",
           "zerolinewidth": 2
          },
          "yaxis": {
           "automargin": true,
           "gridcolor": "white",
           "linecolor": "white",
           "ticks": "",
           "title": {
            "standoff": 15
           },
           "zerolinecolor": "white",
           "zerolinewidth": 2
          }
         }
        },
        "xaxis": {
         "anchor": "y",
         "domain": [
          0,
          1
         ],
         "title": {
          "text": "Delivery Status"
         }
        },
        "yaxis": {
         "anchor": "x",
         "domain": [
          0,
          1
         ],
         "title": {
          "text": "Number of Orders"
         }
        }
       }
      },
      "text/html": [
       "<div>                            <div id=\"3aef5732-efc6-495f-823a-f2020a715b48\" class=\"plotly-graph-div\" style=\"height:525px; width:100%;\"></div>            <script type=\"text/javascript\">                require([\"plotly\"], function(Plotly) {                    window.PLOTLYENV=window.PLOTLYENV || {};                                    if (document.getElementById(\"3aef5732-efc6-495f-823a-f2020a715b48\")) {                    Plotly.newPlot(                        \"3aef5732-efc6-495f-823a-f2020a715b48\",                        [{\"alignmentgroup\":\"True\",\"hovertemplate\":\"Order Region=Central America<br>Delivery Status=%{x}<br>Number of Orders=%{y}<extra></extra>\",\"legendgroup\":\"Central America\",\"marker\":{\"color\":\"#636efa\",\"pattern\":{\"shape\":\"\"}},\"name\":\"Central America\",\"offsetgroup\":\"Central America\",\"orientation\":\"v\",\"showlegend\":true,\"textposition\":\"auto\",\"x\":[\"Late delivery\",\"Advance shipping\",\"Shipping on time\",\"Shipping canceled\"],\"xaxis\":\"x\",\"y\":[15518,6566,5090,1167],\"yaxis\":\"y\",\"type\":\"bar\"},{\"alignmentgroup\":\"True\",\"hovertemplate\":\"Order Region=Western Europe<br>Delivery Status=%{x}<br>Number of Orders=%{y}<extra></extra>\",\"legendgroup\":\"Western Europe\",\"marker\":{\"color\":\"#EF553B\",\"pattern\":{\"shape\":\"\"}},\"name\":\"Western Europe\",\"offsetgroup\":\"Western Europe\",\"orientation\":\"v\",\"showlegend\":true,\"textposition\":\"auto\",\"x\":[\"Late delivery\",\"Advance shipping\",\"Shipping on time\",\"Shipping canceled\"],\"xaxis\":\"x\",\"y\":[15140,6138,4589,1242],\"yaxis\":\"y\",\"type\":\"bar\"},{\"alignmentgroup\":\"True\",\"hovertemplate\":\"Order Region=South America<br>Delivery Status=%{x}<br>Number of Orders=%{y}<extra></extra>\",\"legendgroup\":\"South America\",\"marker\":{\"color\":\"#00cc96\",\"pattern\":{\"shape\":\"\"}},\"name\":\"South America\",\"offsetgroup\":\"South America\",\"orientation\":\"v\",\"showlegend\":true,\"textposition\":\"auto\",\"x\":[\"Late delivery\",\"Advance shipping\",\"Shipping on time\",\"Shipping canceled\"],\"xaxis\":\"x\",\"y\":[8111,3476,2597,751],\"yaxis\":\"y\",\"type\":\"bar\"},{\"alignmentgroup\":\"True\",\"hovertemplate\":\"Order Region=Oceania<br>Delivery Status=%{x}<br>Number of Orders=%{y}<extra></extra>\",\"legendgroup\":\"Oceania\",\"marker\":{\"color\":\"#ab63fa\",\"pattern\":{\"shape\":\"\"}},\"name\":\"Oceania\",\"offsetgroup\":\"Oceania\",\"orientation\":\"v\",\"showlegend\":true,\"textposition\":\"auto\",\"x\":[\"Late delivery\",\"Advance shipping\",\"Shipping on time\",\"Shipping canceled\"],\"xaxis\":\"x\",\"y\":[5482,2324,1927,415],\"yaxis\":\"y\",\"type\":\"bar\"},{\"alignmentgroup\":\"True\",\"hovertemplate\":\"Order Region=Southeast Asia<br>Delivery Status=%{x}<br>Number of Orders=%{y}<extra></extra>\",\"legendgroup\":\"Southeast Asia\",\"marker\":{\"color\":\"#FFA15A\",\"pattern\":{\"shape\":\"\"}},\"name\":\"Southeast Asia\",\"offsetgroup\":\"Southeast Asia\",\"orientation\":\"v\",\"showlegend\":true,\"textposition\":\"auto\",\"x\":[\"Late delivery\",\"Advance shipping\",\"Shipping on time\",\"Shipping canceled\"],\"xaxis\":\"x\",\"y\":[5297,2208,1631,403],\"yaxis\":\"y\",\"type\":\"bar\"},{\"alignmentgroup\":\"True\",\"hovertemplate\":\"Order Region=Northern Europe<br>Delivery Status=%{x}<br>Number of Orders=%{y}<extra></extra>\",\"legendgroup\":\"Northern Europe\",\"marker\":{\"color\":\"#19d3f3\",\"pattern\":{\"shape\":\"\"}},\"name\":\"Northern Europe\",\"offsetgroup\":\"Northern Europe\",\"orientation\":\"v\",\"showlegend\":true,\"textposition\":\"auto\",\"x\":[\"Late delivery\",\"Advance shipping\",\"Shipping on time\",\"Shipping canceled\"],\"xaxis\":\"x\",\"y\":[5292,2341,1775,384],\"yaxis\":\"y\",\"type\":\"bar\"},{\"alignmentgroup\":\"True\",\"hovertemplate\":\"Order Region=Southern Europe<br>Delivery Status=%{x}<br>Number of Orders=%{y}<extra></extra>\",\"legendgroup\":\"Southern Europe\",\"marker\":{\"color\":\"#FF6692\",\"pattern\":{\"shape\":\"\"}},\"name\":\"Southern Europe\",\"offsetgroup\":\"Southern Europe\",\"orientation\":\"v\",\"showlegend\":true,\"textposition\":\"auto\",\"x\":[\"Late delivery\",\"Advance shipping\",\"Shipping on time\",\"Shipping canceled\"],\"xaxis\":\"x\",\"y\":[5129,2246,1655,401],\"yaxis\":\"y\",\"type\":\"bar\"},{\"alignmentgroup\":\"True\",\"hovertemplate\":\"Order Region=Caribbean<br>Delivery Status=%{x}<br>Number of Orders=%{y}<extra></extra>\",\"legendgroup\":\"Caribbean\",\"marker\":{\"color\":\"#B6E880\",\"pattern\":{\"shape\":\"\"}},\"name\":\"Caribbean\",\"offsetgroup\":\"Caribbean\",\"orientation\":\"v\",\"showlegend\":true,\"textposition\":\"auto\",\"x\":[\"Late delivery\",\"Advance shipping\",\"Shipping on time\",\"Shipping canceled\"],\"xaxis\":\"x\",\"y\":[4415,1997,1539,367],\"yaxis\":\"y\",\"type\":\"bar\"},{\"alignmentgroup\":\"True\",\"hovertemplate\":\"Order Region=South Asia<br>Delivery Status=%{x}<br>Number of Orders=%{y}<extra></extra>\",\"legendgroup\":\"South Asia\",\"marker\":{\"color\":\"#FF97FF\",\"pattern\":{\"shape\":\"\"}},\"name\":\"South Asia\",\"offsetgroup\":\"South Asia\",\"orientation\":\"v\",\"showlegend\":true,\"textposition\":\"auto\",\"x\":[\"Late delivery\",\"Advance shipping\",\"Shipping on time\",\"Shipping canceled\"],\"xaxis\":\"x\",\"y\":[4350,1765,1340,276],\"yaxis\":\"y\",\"type\":\"bar\"},{\"alignmentgroup\":\"True\",\"hovertemplate\":\"Order Region=West of USA <br>Delivery Status=%{x}<br>Number of Orders=%{y}<extra></extra>\",\"legendgroup\":\"West of USA \",\"marker\":{\"color\":\"#FECB52\",\"pattern\":{\"shape\":\"\"}},\"name\":\"West of USA \",\"offsetgroup\":\"West of USA \",\"orientation\":\"v\",\"showlegend\":true,\"textposition\":\"auto\",\"x\":[\"Late delivery\",\"Advance shipping\",\"Shipping on time\",\"Shipping canceled\"],\"xaxis\":\"x\",\"y\":[4313,1835,1447,398],\"yaxis\":\"y\",\"type\":\"bar\"},{\"alignmentgroup\":\"True\",\"hovertemplate\":\"Order Region=Eastern Asia<br>Delivery Status=%{x}<br>Number of Orders=%{y}<extra></extra>\",\"legendgroup\":\"Eastern Asia\",\"marker\":{\"color\":\"#636efa\",\"pattern\":{\"shape\":\"\"}},\"name\":\"Eastern Asia\",\"offsetgroup\":\"Eastern Asia\",\"orientation\":\"v\",\"showlegend\":true,\"textposition\":\"auto\",\"x\":[\"Late delivery\",\"Advance shipping\",\"Shipping on time\",\"Shipping canceled\"],\"xaxis\":\"x\",\"y\":[3955,1754,1264,307],\"yaxis\":\"y\",\"type\":\"bar\"},{\"alignmentgroup\":\"True\",\"hovertemplate\":\"Order Region=East of USA<br>Delivery Status=%{x}<br>Number of Orders=%{y}<extra></extra>\",\"legendgroup\":\"East of USA\",\"marker\":{\"color\":\"#EF553B\",\"pattern\":{\"shape\":\"\"}},\"name\":\"East of USA\",\"offsetgroup\":\"East of USA\",\"orientation\":\"v\",\"showlegend\":true,\"textposition\":\"auto\",\"x\":[\"Late delivery\",\"Advance shipping\",\"Shipping on time\",\"Shipping canceled\"],\"xaxis\":\"x\",\"y\":[3849,1560,1208,298],\"yaxis\":\"y\",\"type\":\"bar\"},{\"alignmentgroup\":\"True\",\"hovertemplate\":\"Order Region=West Asia<br>Delivery Status=%{x}<br>Number of Orders=%{y}<extra></extra>\",\"legendgroup\":\"West Asia\",\"marker\":{\"color\":\"#00cc96\",\"pattern\":{\"shape\":\"\"}},\"name\":\"West Asia\",\"offsetgroup\":\"West Asia\",\"orientation\":\"v\",\"showlegend\":true,\"textposition\":\"auto\",\"x\":[\"Late delivery\",\"Advance shipping\",\"Shipping on time\",\"Shipping canceled\"],\"xaxis\":\"x\",\"y\":[3322,1310,1114,263],\"yaxis\":\"y\",\"type\":\"bar\"},{\"alignmentgroup\":\"True\",\"hovertemplate\":\"Order Region=US Center <br>Delivery Status=%{x}<br>Number of Orders=%{y}<extra></extra>\",\"legendgroup\":\"US Center \",\"marker\":{\"color\":\"#ab63fa\",\"pattern\":{\"shape\":\"\"}},\"name\":\"US Center \",\"offsetgroup\":\"US Center \",\"orientation\":\"v\",\"showlegend\":true,\"textposition\":\"auto\",\"x\":[\"Late delivery\",\"Advance shipping\",\"Shipping on time\",\"Shipping canceled\"],\"xaxis\":\"x\",\"y\":[3252,1227,1174,234],\"yaxis\":\"y\",\"type\":\"bar\"},{\"alignmentgroup\":\"True\",\"hovertemplate\":\"Order Region=South of  USA <br>Delivery Status=%{x}<br>Number of Orders=%{y}<extra></extra>\",\"legendgroup\":\"South of  USA \",\"marker\":{\"color\":\"#FFA15A\",\"pattern\":{\"shape\":\"\"}},\"name\":\"South of  USA \",\"offsetgroup\":\"South of  USA \",\"orientation\":\"v\",\"showlegend\":true,\"textposition\":\"auto\",\"x\":[\"Late delivery\",\"Advance shipping\",\"Shipping on time\",\"Shipping canceled\"],\"xaxis\":\"x\",\"y\":[2256,927,672,190],\"yaxis\":\"y\",\"type\":\"bar\"},{\"alignmentgroup\":\"True\",\"hovertemplate\":\"Order Region=Eastern Europe<br>Delivery Status=%{x}<br>Number of Orders=%{y}<extra></extra>\",\"legendgroup\":\"Eastern Europe\",\"marker\":{\"color\":\"#19d3f3\",\"pattern\":{\"shape\":\"\"}},\"name\":\"Eastern Europe\",\"offsetgroup\":\"Eastern Europe\",\"orientation\":\"v\",\"showlegend\":true,\"textposition\":\"auto\",\"x\":[\"Late delivery\",\"Advance shipping\",\"Shipping on time\",\"Shipping canceled\"],\"xaxis\":\"x\",\"y\":[2182,879,724,135],\"yaxis\":\"y\",\"type\":\"bar\"},{\"alignmentgroup\":\"True\",\"hovertemplate\":\"Order Region=West Africa<br>Delivery Status=%{x}<br>Number of Orders=%{y}<extra></extra>\",\"legendgroup\":\"West Africa\",\"marker\":{\"color\":\"#FF6692\",\"pattern\":{\"shape\":\"\"}},\"name\":\"West Africa\",\"offsetgroup\":\"West Africa\",\"orientation\":\"v\",\"showlegend\":true,\"textposition\":\"auto\",\"x\":[\"Late delivery\",\"Advance shipping\",\"Shipping on time\",\"Shipping canceled\"],\"xaxis\":\"x\",\"y\":[1953,849,769,125],\"yaxis\":\"y\",\"type\":\"bar\"},{\"alignmentgroup\":\"True\",\"hovertemplate\":\"Order Region=North Africa<br>Delivery Status=%{x}<br>Number of Orders=%{y}<extra></extra>\",\"legendgroup\":\"North Africa\",\"marker\":{\"color\":\"#B6E880\",\"pattern\":{\"shape\":\"\"}},\"name\":\"North Africa\",\"offsetgroup\":\"North Africa\",\"orientation\":\"v\",\"showlegend\":true,\"textposition\":\"auto\",\"x\":[\"Late delivery\",\"Advance shipping\",\"Shipping on time\",\"Shipping canceled\"],\"xaxis\":\"x\",\"y\":[1762,760,564,146],\"yaxis\":\"y\",\"type\":\"bar\"},{\"alignmentgroup\":\"True\",\"hovertemplate\":\"Order Region=East Africa<br>Delivery Status=%{x}<br>Number of Orders=%{y}<extra></extra>\",\"legendgroup\":\"East Africa\",\"marker\":{\"color\":\"#FF97FF\",\"pattern\":{\"shape\":\"\"}},\"name\":\"East Africa\",\"offsetgroup\":\"East Africa\",\"orientation\":\"v\",\"showlegend\":true,\"textposition\":\"auto\",\"x\":[\"Late delivery\",\"Advance shipping\",\"Shipping on time\",\"Shipping canceled\"],\"xaxis\":\"x\",\"y\":[1036,399,346,71],\"yaxis\":\"y\",\"type\":\"bar\"},{\"alignmentgroup\":\"True\",\"hovertemplate\":\"Order Region=Central Africa<br>Delivery Status=%{x}<br>Number of Orders=%{y}<extra></extra>\",\"legendgroup\":\"Central Africa\",\"marker\":{\"color\":\"#FECB52\",\"pattern\":{\"shape\":\"\"}},\"name\":\"Central Africa\",\"offsetgroup\":\"Central Africa\",\"orientation\":\"v\",\"showlegend\":true,\"textposition\":\"auto\",\"x\":[\"Late delivery\",\"Advance shipping\",\"Shipping on time\",\"Shipping canceled\"],\"xaxis\":\"x\",\"y\":[972,354,290,61],\"yaxis\":\"y\",\"type\":\"bar\"},{\"alignmentgroup\":\"True\",\"hovertemplate\":\"Order Region=Southern Africa<br>Delivery Status=%{x}<br>Number of Orders=%{y}<extra></extra>\",\"legendgroup\":\"Southern Africa\",\"marker\":{\"color\":\"#636efa\",\"pattern\":{\"shape\":\"\"}},\"name\":\"Southern Africa\",\"offsetgroup\":\"Southern Africa\",\"orientation\":\"v\",\"showlegend\":true,\"textposition\":\"auto\",\"x\":[\"Late delivery\",\"Advance shipping\",\"Shipping on time\",\"Shipping canceled\"],\"xaxis\":\"x\",\"y\":[617,283,200,57],\"yaxis\":\"y\",\"type\":\"bar\"},{\"alignmentgroup\":\"True\",\"hovertemplate\":\"Order Region=Canada<br>Delivery Status=%{x}<br>Number of Orders=%{y}<extra></extra>\",\"legendgroup\":\"Canada\",\"marker\":{\"color\":\"#EF553B\",\"pattern\":{\"shape\":\"\"}},\"name\":\"Canada\",\"offsetgroup\":\"Canada\",\"orientation\":\"v\",\"showlegend\":true,\"textposition\":\"auto\",\"x\":[\"Late delivery\",\"Advance shipping\",\"Shipping on time\",\"Shipping canceled\"],\"xaxis\":\"x\",\"y\":[468,282,157,52],\"yaxis\":\"y\",\"type\":\"bar\"},{\"alignmentgroup\":\"True\",\"hovertemplate\":\"Order Region=Central Asia<br>Delivery Status=%{x}<br>Number of Orders=%{y}<extra></extra>\",\"legendgroup\":\"Central Asia\",\"marker\":{\"color\":\"#00cc96\",\"pattern\":{\"shape\":\"\"}},\"name\":\"Central Asia\",\"offsetgroup\":\"Central Asia\",\"orientation\":\"v\",\"showlegend\":true,\"textposition\":\"auto\",\"x\":[\"Late delivery\",\"Shipping on time\",\"Advance shipping\",\"Shipping canceled\"],\"xaxis\":\"x\",\"y\":[306,124,112,11],\"yaxis\":\"y\",\"type\":\"bar\"}],                        {\"template\":{\"data\":{\"bar\":[{\"error_x\":{\"color\":\"#2a3f5f\"},\"error_y\":{\"color\":\"#2a3f5f\"},\"marker\":{\"line\":{\"color\":\"#E5ECF6\",\"width\":0.5},\"pattern\":{\"fillmode\":\"overlay\",\"size\":10,\"solidity\":0.2}},\"type\":\"bar\"}],\"barpolar\":[{\"marker\":{\"line\":{\"color\":\"#E5ECF6\",\"width\":0.5},\"pattern\":{\"fillmode\":\"overlay\",\"size\":10,\"solidity\":0.2}},\"type\":\"barpolar\"}],\"carpet\":[{\"aaxis\":{\"endlinecolor\":\"#2a3f5f\",\"gridcolor\":\"white\",\"linecolor\":\"white\",\"minorgridcolor\":\"white\",\"startlinecolor\":\"#2a3f5f\"},\"baxis\":{\"endlinecolor\":\"#2a3f5f\",\"gridcolor\":\"white\",\"linecolor\":\"white\",\"minorgridcolor\":\"white\",\"startlinecolor\":\"#2a3f5f\"},\"type\":\"carpet\"}],\"choropleth\":[{\"colorbar\":{\"outlinewidth\":0,\"ticks\":\"\"},\"type\":\"choropleth\"}],\"contour\":[{\"colorbar\":{\"outlinewidth\":0,\"ticks\":\"\"},\"colorscale\":[[0.0,\"#0d0887\"],[0.1111111111111111,\"#46039f\"],[0.2222222222222222,\"#7201a8\"],[0.3333333333333333,\"#9c179e\"],[0.4444444444444444,\"#bd3786\"],[0.5555555555555556,\"#d8576b\"],[0.6666666666666666,\"#ed7953\"],[0.7777777777777778,\"#fb9f3a\"],[0.8888888888888888,\"#fdca26\"],[1.0,\"#f0f921\"]],\"type\":\"contour\"}],\"contourcarpet\":[{\"colorbar\":{\"outlinewidth\":0,\"ticks\":\"\"},\"type\":\"contourcarpet\"}],\"heatmap\":[{\"colorbar\":{\"outlinewidth\":0,\"ticks\":\"\"},\"colorscale\":[[0.0,\"#0d0887\"],[0.1111111111111111,\"#46039f\"],[0.2222222222222222,\"#7201a8\"],[0.3333333333333333,\"#9c179e\"],[0.4444444444444444,\"#bd3786\"],[0.5555555555555556,\"#d8576b\"],[0.6666666666666666,\"#ed7953\"],[0.7777777777777778,\"#fb9f3a\"],[0.8888888888888888,\"#fdca26\"],[1.0,\"#f0f921\"]],\"type\":\"heatmap\"}],\"heatmapgl\":[{\"colorbar\":{\"outlinewidth\":0,\"ticks\":\"\"},\"colorscale\":[[0.0,\"#0d0887\"],[0.1111111111111111,\"#46039f\"],[0.2222222222222222,\"#7201a8\"],[0.3333333333333333,\"#9c179e\"],[0.4444444444444444,\"#bd3786\"],[0.5555555555555556,\"#d8576b\"],[0.6666666666666666,\"#ed7953\"],[0.7777777777777778,\"#fb9f3a\"],[0.8888888888888888,\"#fdca26\"],[1.0,\"#f0f921\"]],\"type\":\"heatmapgl\"}],\"histogram\":[{\"marker\":{\"pattern\":{\"fillmode\":\"overlay\",\"size\":10,\"solidity\":0.2}},\"type\":\"histogram\"}],\"histogram2d\":[{\"colorbar\":{\"outlinewidth\":0,\"ticks\":\"\"},\"colorscale\":[[0.0,\"#0d0887\"],[0.1111111111111111,\"#46039f\"],[0.2222222222222222,\"#7201a8\"],[0.3333333333333333,\"#9c179e\"],[0.4444444444444444,\"#bd3786\"],[0.5555555555555556,\"#d8576b\"],[0.6666666666666666,\"#ed7953\"],[0.7777777777777778,\"#fb9f3a\"],[0.8888888888888888,\"#fdca26\"],[1.0,\"#f0f921\"]],\"type\":\"histogram2d\"}],\"histogram2dcontour\":[{\"colorbar\":{\"outlinewidth\":0,\"ticks\":\"\"},\"colorscale\":[[0.0,\"#0d0887\"],[0.1111111111111111,\"#46039f\"],[0.2222222222222222,\"#7201a8\"],[0.3333333333333333,\"#9c179e\"],[0.4444444444444444,\"#bd3786\"],[0.5555555555555556,\"#d8576b\"],[0.6666666666666666,\"#ed7953\"],[0.7777777777777778,\"#fb9f3a\"],[0.8888888888888888,\"#fdca26\"],[1.0,\"#f0f921\"]],\"type\":\"histogram2dcontour\"}],\"mesh3d\":[{\"colorbar\":{\"outlinewidth\":0,\"ticks\":\"\"},\"type\":\"mesh3d\"}],\"parcoords\":[{\"line\":{\"colorbar\":{\"outlinewidth\":0,\"ticks\":\"\"}},\"type\":\"parcoords\"}],\"pie\":[{\"automargin\":true,\"type\":\"pie\"}],\"scatter\":[{\"marker\":{\"colorbar\":{\"outlinewidth\":0,\"ticks\":\"\"}},\"type\":\"scatter\"}],\"scatter3d\":[{\"line\":{\"colorbar\":{\"outlinewidth\":0,\"ticks\":\"\"}},\"marker\":{\"colorbar\":{\"outlinewidth\":0,\"ticks\":\"\"}},\"type\":\"scatter3d\"}],\"scattercarpet\":[{\"marker\":{\"colorbar\":{\"outlinewidth\":0,\"ticks\":\"\"}},\"type\":\"scattercarpet\"}],\"scattergeo\":[{\"marker\":{\"colorbar\":{\"outlinewidth\":0,\"ticks\":\"\"}},\"type\":\"scattergeo\"}],\"scattergl\":[{\"marker\":{\"colorbar\":{\"outlinewidth\":0,\"ticks\":\"\"}},\"type\":\"scattergl\"}],\"scattermapbox\":[{\"marker\":{\"colorbar\":{\"outlinewidth\":0,\"ticks\":\"\"}},\"type\":\"scattermapbox\"}],\"scatterpolar\":[{\"marker\":{\"colorbar\":{\"outlinewidth\":0,\"ticks\":\"\"}},\"type\":\"scatterpolar\"}],\"scatterpolargl\":[{\"marker\":{\"colorbar\":{\"outlinewidth\":0,\"ticks\":\"\"}},\"type\":\"scatterpolargl\"}],\"scatterternary\":[{\"marker\":{\"colorbar\":{\"outlinewidth\":0,\"ticks\":\"\"}},\"type\":\"scatterternary\"}],\"surface\":[{\"colorbar\":{\"outlinewidth\":0,\"ticks\":\"\"},\"colorscale\":[[0.0,\"#0d0887\"],[0.1111111111111111,\"#46039f\"],[0.2222222222222222,\"#7201a8\"],[0.3333333333333333,\"#9c179e\"],[0.4444444444444444,\"#bd3786\"],[0.5555555555555556,\"#d8576b\"],[0.6666666666666666,\"#ed7953\"],[0.7777777777777778,\"#fb9f3a\"],[0.8888888888888888,\"#fdca26\"],[1.0,\"#f0f921\"]],\"type\":\"surface\"}],\"table\":[{\"cells\":{\"fill\":{\"color\":\"#EBF0F8\"},\"line\":{\"color\":\"white\"}},\"header\":{\"fill\":{\"color\":\"#C8D4E3\"},\"line\":{\"color\":\"white\"}},\"type\":\"table\"}]},\"layout\":{\"annotationdefaults\":{\"arrowcolor\":\"#2a3f5f\",\"arrowhead\":0,\"arrowwidth\":1},\"autotypenumbers\":\"strict\",\"coloraxis\":{\"colorbar\":{\"outlinewidth\":0,\"ticks\":\"\"}},\"colorscale\":{\"diverging\":[[0,\"#8e0152\"],[0.1,\"#c51b7d\"],[0.2,\"#de77ae\"],[0.3,\"#f1b6da\"],[0.4,\"#fde0ef\"],[0.5,\"#f7f7f7\"],[0.6,\"#e6f5d0\"],[0.7,\"#b8e186\"],[0.8,\"#7fbc41\"],[0.9,\"#4d9221\"],[1,\"#276419\"]],\"sequential\":[[0.0,\"#0d0887\"],[0.1111111111111111,\"#46039f\"],[0.2222222222222222,\"#7201a8\"],[0.3333333333333333,\"#9c179e\"],[0.4444444444444444,\"#bd3786\"],[0.5555555555555556,\"#d8576b\"],[0.6666666666666666,\"#ed7953\"],[0.7777777777777778,\"#fb9f3a\"],[0.8888888888888888,\"#fdca26\"],[1.0,\"#f0f921\"]],\"sequentialminus\":[[0.0,\"#0d0887\"],[0.1111111111111111,\"#46039f\"],[0.2222222222222222,\"#7201a8\"],[0.3333333333333333,\"#9c179e\"],[0.4444444444444444,\"#bd3786\"],[0.5555555555555556,\"#d8576b\"],[0.6666666666666666,\"#ed7953\"],[0.7777777777777778,\"#fb9f3a\"],[0.8888888888888888,\"#fdca26\"],[1.0,\"#f0f921\"]]},\"colorway\":[\"#636efa\",\"#EF553B\",\"#00cc96\",\"#ab63fa\",\"#FFA15A\",\"#19d3f3\",\"#FF6692\",\"#B6E880\",\"#FF97FF\",\"#FECB52\"],\"font\":{\"color\":\"#2a3f5f\"},\"geo\":{\"bgcolor\":\"white\",\"lakecolor\":\"white\",\"landcolor\":\"#E5ECF6\",\"showlakes\":true,\"showland\":true,\"subunitcolor\":\"white\"},\"hoverlabel\":{\"align\":\"left\"},\"hovermode\":\"closest\",\"mapbox\":{\"style\":\"light\"},\"paper_bgcolor\":\"white\",\"plot_bgcolor\":\"#E5ECF6\",\"polar\":{\"angularaxis\":{\"gridcolor\":\"white\",\"linecolor\":\"white\",\"ticks\":\"\"},\"bgcolor\":\"#E5ECF6\",\"radialaxis\":{\"gridcolor\":\"white\",\"linecolor\":\"white\",\"ticks\":\"\"}},\"scene\":{\"xaxis\":{\"backgroundcolor\":\"#E5ECF6\",\"gridcolor\":\"white\",\"gridwidth\":2,\"linecolor\":\"white\",\"showbackground\":true,\"ticks\":\"\",\"zerolinecolor\":\"white\"},\"yaxis\":{\"backgroundcolor\":\"#E5ECF6\",\"gridcolor\":\"white\",\"gridwidth\":2,\"linecolor\":\"white\",\"showbackground\":true,\"ticks\":\"\",\"zerolinecolor\":\"white\"},\"zaxis\":{\"backgroundcolor\":\"#E5ECF6\",\"gridcolor\":\"white\",\"gridwidth\":2,\"linecolor\":\"white\",\"showbackground\":true,\"ticks\":\"\",\"zerolinecolor\":\"white\"}},\"shapedefaults\":{\"line\":{\"color\":\"#2a3f5f\"}},\"ternary\":{\"aaxis\":{\"gridcolor\":\"white\",\"linecolor\":\"white\",\"ticks\":\"\"},\"baxis\":{\"gridcolor\":\"white\",\"linecolor\":\"white\",\"ticks\":\"\"},\"bgcolor\":\"#E5ECF6\",\"caxis\":{\"gridcolor\":\"white\",\"linecolor\":\"white\",\"ticks\":\"\"}},\"title\":{\"x\":0.05},\"xaxis\":{\"automargin\":true,\"gridcolor\":\"white\",\"linecolor\":\"white\",\"ticks\":\"\",\"title\":{\"standoff\":15},\"zerolinecolor\":\"white\",\"zerolinewidth\":2},\"yaxis\":{\"automargin\":true,\"gridcolor\":\"white\",\"linecolor\":\"white\",\"ticks\":\"\",\"title\":{\"standoff\":15},\"zerolinecolor\":\"white\",\"zerolinewidth\":2}}},\"xaxis\":{\"anchor\":\"y\",\"domain\":[0.0,1.0],\"title\":{\"text\":\"Delivery Status\"}},\"yaxis\":{\"anchor\":\"x\",\"domain\":[0.0,1.0],\"title\":{\"text\":\"Number of Orders\"}},\"legend\":{\"title\":{\"text\":\"Order Region\"},\"tracegroupgap\":0},\"margin\":{\"t\":60},\"barmode\":\"relative\"},                        {\"responsive\": true}                    ).then(function(){\n",
       "                            \n",
       "var gd = document.getElementById('3aef5732-efc6-495f-823a-f2020a715b48');\n",
       "var x = new MutationObserver(function (mutations, observer) {{\n",
       "        var display = window.getComputedStyle(gd).display;\n",
       "        if (!display || display === 'none') {{\n",
       "            console.log([gd, 'removed!']);\n",
       "            Plotly.purge(gd);\n",
       "            observer.disconnect();\n",
       "        }}\n",
       "}});\n",
       "\n",
       "// Listen for the removal of the full notebook cells\n",
       "var notebookContainer = gd.closest('#notebook-container');\n",
       "if (notebookContainer) {{\n",
       "    x.observe(notebookContainer, {childList: true});\n",
       "}}\n",
       "\n",
       "// Listen for the clearing of the current output cell\n",
       "var outputEl = gd.closest('.output');\n",
       "if (outputEl) {{\n",
       "    x.observe(outputEl, {childList: true});\n",
       "}}\n",
       "\n",
       "                        })                };                });            </script>        </div>"
      ]
     },
     "metadata": {},
     "output_type": "display_data"
    }
   ],
   "source": [
    "data_delivery_status_region=df1.groupby(['Delivery Status', 'Order Region'])['Order Id'].count().reset_index(name='Number of Orders').sort_values(by= 'Number of Orders', ascending= False)\n",
    "px.bar(data_delivery_status_region, x='Delivery Status', y='Number of Orders'  , color='Order Region',\n",
    "      )"
   ]
  },
  {
   "cell_type": "markdown",
   "id": "778d73f2",
   "metadata": {},
   "source": [
    "#### Central America and Western Europa have the most lated delivered Orders"
   ]
  },
  {
   "cell_type": "code",
   "execution_count": 54,
   "id": "09808173",
   "metadata": {},
   "outputs": [
    {
     "data": {
      "application/vnd.plotly.v1+json": {
       "config": {
        "plotlyServerURL": "https://plot.ly"
       },
       "data": [
        {
         "domain": {
          "x": [
           0,
           1
          ],
          "y": [
           0,
           1
          ]
         },
         "hole": 0.4,
         "hovertemplate": "Customer Segment=%{label}<br>Number of Orders=%{value}<extra></extra>",
         "labels": [
          "Consumer",
          "Corporate",
          "Home Office"
         ],
         "legendgroup": "",
         "name": "",
         "showlegend": true,
         "type": "pie",
         "values": [
          93504,
          54789,
          32226
         ]
        }
       ],
       "layout": {
        "height": 600,
        "legend": {
         "tracegroupgap": 0
        },
        "piecolorway": [
         "rgb(0,0,131)",
         "rgb(0,60,170)",
         "rgb(5,255,255)",
         "rgb(255,255,0)",
         "rgb(250,0,0)",
         "rgb(128,0,0)"
        ],
        "template": {
         "data": {
          "bar": [
           {
            "error_x": {
             "color": "#2a3f5f"
            },
            "error_y": {
             "color": "#2a3f5f"
            },
            "marker": {
             "line": {
              "color": "#E5ECF6",
              "width": 0.5
             },
             "pattern": {
              "fillmode": "overlay",
              "size": 10,
              "solidity": 0.2
             }
            },
            "type": "bar"
           }
          ],
          "barpolar": [
           {
            "marker": {
             "line": {
              "color": "#E5ECF6",
              "width": 0.5
             },
             "pattern": {
              "fillmode": "overlay",
              "size": 10,
              "solidity": 0.2
             }
            },
            "type": "barpolar"
           }
          ],
          "carpet": [
           {
            "aaxis": {
             "endlinecolor": "#2a3f5f",
             "gridcolor": "white",
             "linecolor": "white",
             "minorgridcolor": "white",
             "startlinecolor": "#2a3f5f"
            },
            "baxis": {
             "endlinecolor": "#2a3f5f",
             "gridcolor": "white",
             "linecolor": "white",
             "minorgridcolor": "white",
             "startlinecolor": "#2a3f5f"
            },
            "type": "carpet"
           }
          ],
          "choropleth": [
           {
            "colorbar": {
             "outlinewidth": 0,
             "ticks": ""
            },
            "type": "choropleth"
           }
          ],
          "contour": [
           {
            "colorbar": {
             "outlinewidth": 0,
             "ticks": ""
            },
            "colorscale": [
             [
              0,
              "#0d0887"
             ],
             [
              0.1111111111111111,
              "#46039f"
             ],
             [
              0.2222222222222222,
              "#7201a8"
             ],
             [
              0.3333333333333333,
              "#9c179e"
             ],
             [
              0.4444444444444444,
              "#bd3786"
             ],
             [
              0.5555555555555556,
              "#d8576b"
             ],
             [
              0.6666666666666666,
              "#ed7953"
             ],
             [
              0.7777777777777778,
              "#fb9f3a"
             ],
             [
              0.8888888888888888,
              "#fdca26"
             ],
             [
              1,
              "#f0f921"
             ]
            ],
            "type": "contour"
           }
          ],
          "contourcarpet": [
           {
            "colorbar": {
             "outlinewidth": 0,
             "ticks": ""
            },
            "type": "contourcarpet"
           }
          ],
          "heatmap": [
           {
            "colorbar": {
             "outlinewidth": 0,
             "ticks": ""
            },
            "colorscale": [
             [
              0,
              "#0d0887"
             ],
             [
              0.1111111111111111,
              "#46039f"
             ],
             [
              0.2222222222222222,
              "#7201a8"
             ],
             [
              0.3333333333333333,
              "#9c179e"
             ],
             [
              0.4444444444444444,
              "#bd3786"
             ],
             [
              0.5555555555555556,
              "#d8576b"
             ],
             [
              0.6666666666666666,
              "#ed7953"
             ],
             [
              0.7777777777777778,
              "#fb9f3a"
             ],
             [
              0.8888888888888888,
              "#fdca26"
             ],
             [
              1,
              "#f0f921"
             ]
            ],
            "type": "heatmap"
           }
          ],
          "heatmapgl": [
           {
            "colorbar": {
             "outlinewidth": 0,
             "ticks": ""
            },
            "colorscale": [
             [
              0,
              "#0d0887"
             ],
             [
              0.1111111111111111,
              "#46039f"
             ],
             [
              0.2222222222222222,
              "#7201a8"
             ],
             [
              0.3333333333333333,
              "#9c179e"
             ],
             [
              0.4444444444444444,
              "#bd3786"
             ],
             [
              0.5555555555555556,
              "#d8576b"
             ],
             [
              0.6666666666666666,
              "#ed7953"
             ],
             [
              0.7777777777777778,
              "#fb9f3a"
             ],
             [
              0.8888888888888888,
              "#fdca26"
             ],
             [
              1,
              "#f0f921"
             ]
            ],
            "type": "heatmapgl"
           }
          ],
          "histogram": [
           {
            "marker": {
             "pattern": {
              "fillmode": "overlay",
              "size": 10,
              "solidity": 0.2
             }
            },
            "type": "histogram"
           }
          ],
          "histogram2d": [
           {
            "colorbar": {
             "outlinewidth": 0,
             "ticks": ""
            },
            "colorscale": [
             [
              0,
              "#0d0887"
             ],
             [
              0.1111111111111111,
              "#46039f"
             ],
             [
              0.2222222222222222,
              "#7201a8"
             ],
             [
              0.3333333333333333,
              "#9c179e"
             ],
             [
              0.4444444444444444,
              "#bd3786"
             ],
             [
              0.5555555555555556,
              "#d8576b"
             ],
             [
              0.6666666666666666,
              "#ed7953"
             ],
             [
              0.7777777777777778,
              "#fb9f3a"
             ],
             [
              0.8888888888888888,
              "#fdca26"
             ],
             [
              1,
              "#f0f921"
             ]
            ],
            "type": "histogram2d"
           }
          ],
          "histogram2dcontour": [
           {
            "colorbar": {
             "outlinewidth": 0,
             "ticks": ""
            },
            "colorscale": [
             [
              0,
              "#0d0887"
             ],
             [
              0.1111111111111111,
              "#46039f"
             ],
             [
              0.2222222222222222,
              "#7201a8"
             ],
             [
              0.3333333333333333,
              "#9c179e"
             ],
             [
              0.4444444444444444,
              "#bd3786"
             ],
             [
              0.5555555555555556,
              "#d8576b"
             ],
             [
              0.6666666666666666,
              "#ed7953"
             ],
             [
              0.7777777777777778,
              "#fb9f3a"
             ],
             [
              0.8888888888888888,
              "#fdca26"
             ],
             [
              1,
              "#f0f921"
             ]
            ],
            "type": "histogram2dcontour"
           }
          ],
          "mesh3d": [
           {
            "colorbar": {
             "outlinewidth": 0,
             "ticks": ""
            },
            "type": "mesh3d"
           }
          ],
          "parcoords": [
           {
            "line": {
             "colorbar": {
              "outlinewidth": 0,
              "ticks": ""
             }
            },
            "type": "parcoords"
           }
          ],
          "pie": [
           {
            "automargin": true,
            "type": "pie"
           }
          ],
          "scatter": [
           {
            "marker": {
             "colorbar": {
              "outlinewidth": 0,
              "ticks": ""
             }
            },
            "type": "scatter"
           }
          ],
          "scatter3d": [
           {
            "line": {
             "colorbar": {
              "outlinewidth": 0,
              "ticks": ""
             }
            },
            "marker": {
             "colorbar": {
              "outlinewidth": 0,
              "ticks": ""
             }
            },
            "type": "scatter3d"
           }
          ],
          "scattercarpet": [
           {
            "marker": {
             "colorbar": {
              "outlinewidth": 0,
              "ticks": ""
             }
            },
            "type": "scattercarpet"
           }
          ],
          "scattergeo": [
           {
            "marker": {
             "colorbar": {
              "outlinewidth": 0,
              "ticks": ""
             }
            },
            "type": "scattergeo"
           }
          ],
          "scattergl": [
           {
            "marker": {
             "colorbar": {
              "outlinewidth": 0,
              "ticks": ""
             }
            },
            "type": "scattergl"
           }
          ],
          "scattermapbox": [
           {
            "marker": {
             "colorbar": {
              "outlinewidth": 0,
              "ticks": ""
             }
            },
            "type": "scattermapbox"
           }
          ],
          "scatterpolar": [
           {
            "marker": {
             "colorbar": {
              "outlinewidth": 0,
              "ticks": ""
             }
            },
            "type": "scatterpolar"
           }
          ],
          "scatterpolargl": [
           {
            "marker": {
             "colorbar": {
              "outlinewidth": 0,
              "ticks": ""
             }
            },
            "type": "scatterpolargl"
           }
          ],
          "scatterternary": [
           {
            "marker": {
             "colorbar": {
              "outlinewidth": 0,
              "ticks": ""
             }
            },
            "type": "scatterternary"
           }
          ],
          "surface": [
           {
            "colorbar": {
             "outlinewidth": 0,
             "ticks": ""
            },
            "colorscale": [
             [
              0,
              "#0d0887"
             ],
             [
              0.1111111111111111,
              "#46039f"
             ],
             [
              0.2222222222222222,
              "#7201a8"
             ],
             [
              0.3333333333333333,
              "#9c179e"
             ],
             [
              0.4444444444444444,
              "#bd3786"
             ],
             [
              0.5555555555555556,
              "#d8576b"
             ],
             [
              0.6666666666666666,
              "#ed7953"
             ],
             [
              0.7777777777777778,
              "#fb9f3a"
             ],
             [
              0.8888888888888888,
              "#fdca26"
             ],
             [
              1,
              "#f0f921"
             ]
            ],
            "type": "surface"
           }
          ],
          "table": [
           {
            "cells": {
             "fill": {
              "color": "#EBF0F8"
             },
             "line": {
              "color": "white"
             }
            },
            "header": {
             "fill": {
              "color": "#C8D4E3"
             },
             "line": {
              "color": "white"
             }
            },
            "type": "table"
           }
          ]
         },
         "layout": {
          "annotationdefaults": {
           "arrowcolor": "#2a3f5f",
           "arrowhead": 0,
           "arrowwidth": 1
          },
          "autotypenumbers": "strict",
          "coloraxis": {
           "colorbar": {
            "outlinewidth": 0,
            "ticks": ""
           }
          },
          "colorscale": {
           "diverging": [
            [
             0,
             "#8e0152"
            ],
            [
             0.1,
             "#c51b7d"
            ],
            [
             0.2,
             "#de77ae"
            ],
            [
             0.3,
             "#f1b6da"
            ],
            [
             0.4,
             "#fde0ef"
            ],
            [
             0.5,
             "#f7f7f7"
            ],
            [
             0.6,
             "#e6f5d0"
            ],
            [
             0.7,
             "#b8e186"
            ],
            [
             0.8,
             "#7fbc41"
            ],
            [
             0.9,
             "#4d9221"
            ],
            [
             1,
             "#276419"
            ]
           ],
           "sequential": [
            [
             0,
             "#0d0887"
            ],
            [
             0.1111111111111111,
             "#46039f"
            ],
            [
             0.2222222222222222,
             "#7201a8"
            ],
            [
             0.3333333333333333,
             "#9c179e"
            ],
            [
             0.4444444444444444,
             "#bd3786"
            ],
            [
             0.5555555555555556,
             "#d8576b"
            ],
            [
             0.6666666666666666,
             "#ed7953"
            ],
            [
             0.7777777777777778,
             "#fb9f3a"
            ],
            [
             0.8888888888888888,
             "#fdca26"
            ],
            [
             1,
             "#f0f921"
            ]
           ],
           "sequentialminus": [
            [
             0,
             "#0d0887"
            ],
            [
             0.1111111111111111,
             "#46039f"
            ],
            [
             0.2222222222222222,
             "#7201a8"
            ],
            [
             0.3333333333333333,
             "#9c179e"
            ],
            [
             0.4444444444444444,
             "#bd3786"
            ],
            [
             0.5555555555555556,
             "#d8576b"
            ],
            [
             0.6666666666666666,
             "#ed7953"
            ],
            [
             0.7777777777777778,
             "#fb9f3a"
            ],
            [
             0.8888888888888888,
             "#fdca26"
            ],
            [
             1,
             "#f0f921"
            ]
           ]
          },
          "colorway": [
           "#636efa",
           "#EF553B",
           "#00cc96",
           "#ab63fa",
           "#FFA15A",
           "#19d3f3",
           "#FF6692",
           "#B6E880",
           "#FF97FF",
           "#FECB52"
          ],
          "font": {
           "color": "#2a3f5f"
          },
          "geo": {
           "bgcolor": "white",
           "lakecolor": "white",
           "landcolor": "#E5ECF6",
           "showlakes": true,
           "showland": true,
           "subunitcolor": "white"
          },
          "hoverlabel": {
           "align": "left"
          },
          "hovermode": "closest",
          "mapbox": {
           "style": "light"
          },
          "paper_bgcolor": "white",
          "plot_bgcolor": "#E5ECF6",
          "polar": {
           "angularaxis": {
            "gridcolor": "white",
            "linecolor": "white",
            "ticks": ""
           },
           "bgcolor": "#E5ECF6",
           "radialaxis": {
            "gridcolor": "white",
            "linecolor": "white",
            "ticks": ""
           }
          },
          "scene": {
           "xaxis": {
            "backgroundcolor": "#E5ECF6",
            "gridcolor": "white",
            "gridwidth": 2,
            "linecolor": "white",
            "showbackground": true,
            "ticks": "",
            "zerolinecolor": "white"
           },
           "yaxis": {
            "backgroundcolor": "#E5ECF6",
            "gridcolor": "white",
            "gridwidth": 2,
            "linecolor": "white",
            "showbackground": true,
            "ticks": "",
            "zerolinecolor": "white"
           },
           "zaxis": {
            "backgroundcolor": "#E5ECF6",
            "gridcolor": "white",
            "gridwidth": 2,
            "linecolor": "white",
            "showbackground": true,
            "ticks": "",
            "zerolinecolor": "white"
           }
          },
          "shapedefaults": {
           "line": {
            "color": "#2a3f5f"
           }
          },
          "ternary": {
           "aaxis": {
            "gridcolor": "white",
            "linecolor": "white",
            "ticks": ""
           },
           "baxis": {
            "gridcolor": "white",
            "linecolor": "white",
            "ticks": ""
           },
           "bgcolor": "#E5ECF6",
           "caxis": {
            "gridcolor": "white",
            "linecolor": "white",
            "ticks": ""
           }
          },
          "title": {
           "x": 0.05
          },
          "xaxis": {
           "automargin": true,
           "gridcolor": "white",
           "linecolor": "white",
           "ticks": "",
           "title": {
            "standoff": 15
           },
           "zerolinecolor": "white",
           "zerolinewidth": 2
          },
          "yaxis": {
           "automargin": true,
           "gridcolor": "white",
           "linecolor": "white",
           "ticks": "",
           "title": {
            "standoff": 15
           },
           "zerolinecolor": "white",
           "zerolinewidth": 2
          }
         }
        },
        "title": {
         "text": "Number of Orders of different Customer Segments"
        },
        "width": 600
       }
      },
      "text/html": [
       "<div>                            <div id=\"ccc03395-0eb9-457d-810c-c10dea9df158\" class=\"plotly-graph-div\" style=\"height:600px; width:600px;\"></div>            <script type=\"text/javascript\">                require([\"plotly\"], function(Plotly) {                    window.PLOTLYENV=window.PLOTLYENV || {};                                    if (document.getElementById(\"ccc03395-0eb9-457d-810c-c10dea9df158\")) {                    Plotly.newPlot(                        \"ccc03395-0eb9-457d-810c-c10dea9df158\",                        [{\"domain\":{\"x\":[0.0,1.0],\"y\":[0.0,1.0]},\"hole\":0.4,\"hovertemplate\":\"Customer Segment=%{label}<br>Number of Orders=%{value}<extra></extra>\",\"labels\":[\"Consumer\",\"Corporate\",\"Home Office\"],\"legendgroup\":\"\",\"name\":\"\",\"showlegend\":true,\"values\":[93504,54789,32226],\"type\":\"pie\"}],                        {\"template\":{\"data\":{\"bar\":[{\"error_x\":{\"color\":\"#2a3f5f\"},\"error_y\":{\"color\":\"#2a3f5f\"},\"marker\":{\"line\":{\"color\":\"#E5ECF6\",\"width\":0.5},\"pattern\":{\"fillmode\":\"overlay\",\"size\":10,\"solidity\":0.2}},\"type\":\"bar\"}],\"barpolar\":[{\"marker\":{\"line\":{\"color\":\"#E5ECF6\",\"width\":0.5},\"pattern\":{\"fillmode\":\"overlay\",\"size\":10,\"solidity\":0.2}},\"type\":\"barpolar\"}],\"carpet\":[{\"aaxis\":{\"endlinecolor\":\"#2a3f5f\",\"gridcolor\":\"white\",\"linecolor\":\"white\",\"minorgridcolor\":\"white\",\"startlinecolor\":\"#2a3f5f\"},\"baxis\":{\"endlinecolor\":\"#2a3f5f\",\"gridcolor\":\"white\",\"linecolor\":\"white\",\"minorgridcolor\":\"white\",\"startlinecolor\":\"#2a3f5f\"},\"type\":\"carpet\"}],\"choropleth\":[{\"colorbar\":{\"outlinewidth\":0,\"ticks\":\"\"},\"type\":\"choropleth\"}],\"contour\":[{\"colorbar\":{\"outlinewidth\":0,\"ticks\":\"\"},\"colorscale\":[[0.0,\"#0d0887\"],[0.1111111111111111,\"#46039f\"],[0.2222222222222222,\"#7201a8\"],[0.3333333333333333,\"#9c179e\"],[0.4444444444444444,\"#bd3786\"],[0.5555555555555556,\"#d8576b\"],[0.6666666666666666,\"#ed7953\"],[0.7777777777777778,\"#fb9f3a\"],[0.8888888888888888,\"#fdca26\"],[1.0,\"#f0f921\"]],\"type\":\"contour\"}],\"contourcarpet\":[{\"colorbar\":{\"outlinewidth\":0,\"ticks\":\"\"},\"type\":\"contourcarpet\"}],\"heatmap\":[{\"colorbar\":{\"outlinewidth\":0,\"ticks\":\"\"},\"colorscale\":[[0.0,\"#0d0887\"],[0.1111111111111111,\"#46039f\"],[0.2222222222222222,\"#7201a8\"],[0.3333333333333333,\"#9c179e\"],[0.4444444444444444,\"#bd3786\"],[0.5555555555555556,\"#d8576b\"],[0.6666666666666666,\"#ed7953\"],[0.7777777777777778,\"#fb9f3a\"],[0.8888888888888888,\"#fdca26\"],[1.0,\"#f0f921\"]],\"type\":\"heatmap\"}],\"heatmapgl\":[{\"colorbar\":{\"outlinewidth\":0,\"ticks\":\"\"},\"colorscale\":[[0.0,\"#0d0887\"],[0.1111111111111111,\"#46039f\"],[0.2222222222222222,\"#7201a8\"],[0.3333333333333333,\"#9c179e\"],[0.4444444444444444,\"#bd3786\"],[0.5555555555555556,\"#d8576b\"],[0.6666666666666666,\"#ed7953\"],[0.7777777777777778,\"#fb9f3a\"],[0.8888888888888888,\"#fdca26\"],[1.0,\"#f0f921\"]],\"type\":\"heatmapgl\"}],\"histogram\":[{\"marker\":{\"pattern\":{\"fillmode\":\"overlay\",\"size\":10,\"solidity\":0.2}},\"type\":\"histogram\"}],\"histogram2d\":[{\"colorbar\":{\"outlinewidth\":0,\"ticks\":\"\"},\"colorscale\":[[0.0,\"#0d0887\"],[0.1111111111111111,\"#46039f\"],[0.2222222222222222,\"#7201a8\"],[0.3333333333333333,\"#9c179e\"],[0.4444444444444444,\"#bd3786\"],[0.5555555555555556,\"#d8576b\"],[0.6666666666666666,\"#ed7953\"],[0.7777777777777778,\"#fb9f3a\"],[0.8888888888888888,\"#fdca26\"],[1.0,\"#f0f921\"]],\"type\":\"histogram2d\"}],\"histogram2dcontour\":[{\"colorbar\":{\"outlinewidth\":0,\"ticks\":\"\"},\"colorscale\":[[0.0,\"#0d0887\"],[0.1111111111111111,\"#46039f\"],[0.2222222222222222,\"#7201a8\"],[0.3333333333333333,\"#9c179e\"],[0.4444444444444444,\"#bd3786\"],[0.5555555555555556,\"#d8576b\"],[0.6666666666666666,\"#ed7953\"],[0.7777777777777778,\"#fb9f3a\"],[0.8888888888888888,\"#fdca26\"],[1.0,\"#f0f921\"]],\"type\":\"histogram2dcontour\"}],\"mesh3d\":[{\"colorbar\":{\"outlinewidth\":0,\"ticks\":\"\"},\"type\":\"mesh3d\"}],\"parcoords\":[{\"line\":{\"colorbar\":{\"outlinewidth\":0,\"ticks\":\"\"}},\"type\":\"parcoords\"}],\"pie\":[{\"automargin\":true,\"type\":\"pie\"}],\"scatter\":[{\"marker\":{\"colorbar\":{\"outlinewidth\":0,\"ticks\":\"\"}},\"type\":\"scatter\"}],\"scatter3d\":[{\"line\":{\"colorbar\":{\"outlinewidth\":0,\"ticks\":\"\"}},\"marker\":{\"colorbar\":{\"outlinewidth\":0,\"ticks\":\"\"}},\"type\":\"scatter3d\"}],\"scattercarpet\":[{\"marker\":{\"colorbar\":{\"outlinewidth\":0,\"ticks\":\"\"}},\"type\":\"scattercarpet\"}],\"scattergeo\":[{\"marker\":{\"colorbar\":{\"outlinewidth\":0,\"ticks\":\"\"}},\"type\":\"scattergeo\"}],\"scattergl\":[{\"marker\":{\"colorbar\":{\"outlinewidth\":0,\"ticks\":\"\"}},\"type\":\"scattergl\"}],\"scattermapbox\":[{\"marker\":{\"colorbar\":{\"outlinewidth\":0,\"ticks\":\"\"}},\"type\":\"scattermapbox\"}],\"scatterpolar\":[{\"marker\":{\"colorbar\":{\"outlinewidth\":0,\"ticks\":\"\"}},\"type\":\"scatterpolar\"}],\"scatterpolargl\":[{\"marker\":{\"colorbar\":{\"outlinewidth\":0,\"ticks\":\"\"}},\"type\":\"scatterpolargl\"}],\"scatterternary\":[{\"marker\":{\"colorbar\":{\"outlinewidth\":0,\"ticks\":\"\"}},\"type\":\"scatterternary\"}],\"surface\":[{\"colorbar\":{\"outlinewidth\":0,\"ticks\":\"\"},\"colorscale\":[[0.0,\"#0d0887\"],[0.1111111111111111,\"#46039f\"],[0.2222222222222222,\"#7201a8\"],[0.3333333333333333,\"#9c179e\"],[0.4444444444444444,\"#bd3786\"],[0.5555555555555556,\"#d8576b\"],[0.6666666666666666,\"#ed7953\"],[0.7777777777777778,\"#fb9f3a\"],[0.8888888888888888,\"#fdca26\"],[1.0,\"#f0f921\"]],\"type\":\"surface\"}],\"table\":[{\"cells\":{\"fill\":{\"color\":\"#EBF0F8\"},\"line\":{\"color\":\"white\"}},\"header\":{\"fill\":{\"color\":\"#C8D4E3\"},\"line\":{\"color\":\"white\"}},\"type\":\"table\"}]},\"layout\":{\"annotationdefaults\":{\"arrowcolor\":\"#2a3f5f\",\"arrowhead\":0,\"arrowwidth\":1},\"autotypenumbers\":\"strict\",\"coloraxis\":{\"colorbar\":{\"outlinewidth\":0,\"ticks\":\"\"}},\"colorscale\":{\"diverging\":[[0,\"#8e0152\"],[0.1,\"#c51b7d\"],[0.2,\"#de77ae\"],[0.3,\"#f1b6da\"],[0.4,\"#fde0ef\"],[0.5,\"#f7f7f7\"],[0.6,\"#e6f5d0\"],[0.7,\"#b8e186\"],[0.8,\"#7fbc41\"],[0.9,\"#4d9221\"],[1,\"#276419\"]],\"sequential\":[[0.0,\"#0d0887\"],[0.1111111111111111,\"#46039f\"],[0.2222222222222222,\"#7201a8\"],[0.3333333333333333,\"#9c179e\"],[0.4444444444444444,\"#bd3786\"],[0.5555555555555556,\"#d8576b\"],[0.6666666666666666,\"#ed7953\"],[0.7777777777777778,\"#fb9f3a\"],[0.8888888888888888,\"#fdca26\"],[1.0,\"#f0f921\"]],\"sequentialminus\":[[0.0,\"#0d0887\"],[0.1111111111111111,\"#46039f\"],[0.2222222222222222,\"#7201a8\"],[0.3333333333333333,\"#9c179e\"],[0.4444444444444444,\"#bd3786\"],[0.5555555555555556,\"#d8576b\"],[0.6666666666666666,\"#ed7953\"],[0.7777777777777778,\"#fb9f3a\"],[0.8888888888888888,\"#fdca26\"],[1.0,\"#f0f921\"]]},\"colorway\":[\"#636efa\",\"#EF553B\",\"#00cc96\",\"#ab63fa\",\"#FFA15A\",\"#19d3f3\",\"#FF6692\",\"#B6E880\",\"#FF97FF\",\"#FECB52\"],\"font\":{\"color\":\"#2a3f5f\"},\"geo\":{\"bgcolor\":\"white\",\"lakecolor\":\"white\",\"landcolor\":\"#E5ECF6\",\"showlakes\":true,\"showland\":true,\"subunitcolor\":\"white\"},\"hoverlabel\":{\"align\":\"left\"},\"hovermode\":\"closest\",\"mapbox\":{\"style\":\"light\"},\"paper_bgcolor\":\"white\",\"plot_bgcolor\":\"#E5ECF6\",\"polar\":{\"angularaxis\":{\"gridcolor\":\"white\",\"linecolor\":\"white\",\"ticks\":\"\"},\"bgcolor\":\"#E5ECF6\",\"radialaxis\":{\"gridcolor\":\"white\",\"linecolor\":\"white\",\"ticks\":\"\"}},\"scene\":{\"xaxis\":{\"backgroundcolor\":\"#E5ECF6\",\"gridcolor\":\"white\",\"gridwidth\":2,\"linecolor\":\"white\",\"showbackground\":true,\"ticks\":\"\",\"zerolinecolor\":\"white\"},\"yaxis\":{\"backgroundcolor\":\"#E5ECF6\",\"gridcolor\":\"white\",\"gridwidth\":2,\"linecolor\":\"white\",\"showbackground\":true,\"ticks\":\"\",\"zerolinecolor\":\"white\"},\"zaxis\":{\"backgroundcolor\":\"#E5ECF6\",\"gridcolor\":\"white\",\"gridwidth\":2,\"linecolor\":\"white\",\"showbackground\":true,\"ticks\":\"\",\"zerolinecolor\":\"white\"}},\"shapedefaults\":{\"line\":{\"color\":\"#2a3f5f\"}},\"ternary\":{\"aaxis\":{\"gridcolor\":\"white\",\"linecolor\":\"white\",\"ticks\":\"\"},\"baxis\":{\"gridcolor\":\"white\",\"linecolor\":\"white\",\"ticks\":\"\"},\"bgcolor\":\"#E5ECF6\",\"caxis\":{\"gridcolor\":\"white\",\"linecolor\":\"white\",\"ticks\":\"\"}},\"title\":{\"x\":0.05},\"xaxis\":{\"automargin\":true,\"gridcolor\":\"white\",\"linecolor\":\"white\",\"ticks\":\"\",\"title\":{\"standoff\":15},\"zerolinecolor\":\"white\",\"zerolinewidth\":2},\"yaxis\":{\"automargin\":true,\"gridcolor\":\"white\",\"linecolor\":\"white\",\"ticks\":\"\",\"title\":{\"standoff\":15},\"zerolinecolor\":\"white\",\"zerolinewidth\":2}}},\"legend\":{\"tracegroupgap\":0},\"title\":{\"text\":\"Number of Orders of different Customer Segments\"},\"piecolorway\":[\"rgb(0,0,131)\",\"rgb(0,60,170)\",\"rgb(5,255,255)\",\"rgb(255,255,0)\",\"rgb(250,0,0)\",\"rgb(128,0,0)\"],\"height\":600,\"width\":600},                        {\"responsive\": true}                    ).then(function(){\n",
       "                            \n",
       "var gd = document.getElementById('ccc03395-0eb9-457d-810c-c10dea9df158');\n",
       "var x = new MutationObserver(function (mutations, observer) {{\n",
       "        var display = window.getComputedStyle(gd).display;\n",
       "        if (!display || display === 'none') {{\n",
       "            console.log([gd, 'removed!']);\n",
       "            Plotly.purge(gd);\n",
       "            observer.disconnect();\n",
       "        }}\n",
       "}});\n",
       "\n",
       "// Listen for the removal of the full notebook cells\n",
       "var notebookContainer = gd.closest('#notebook-container');\n",
       "if (notebookContainer) {{\n",
       "    x.observe(notebookContainer, {childList: true});\n",
       "}}\n",
       "\n",
       "// Listen for the clearing of the current output cell\n",
       "var outputEl = gd.closest('.output');\n",
       "if (outputEl) {{\n",
       "    x.observe(outputEl, {childList: true});\n",
       "}}\n",
       "\n",
       "                        })                };                });            </script>        </div>"
      ]
     },
     "metadata": {},
     "output_type": "display_data"
    }
   ],
   "source": [
    "#Customer Segments\n",
    "data_Customer_Segment=df1.groupby(['Customer Segment'])['Order Id'].count().reset_index(name='Number of Orders').sort_values(by= 'Number of Orders', ascending= False)\n",
    "px.pie(data_Customer_Segment, values='Number of Orders', names= 'Customer Segment', hole=0.4, title= 'Number of Orders of different Customer Segments', \n",
    "       width=600 , height=600 , color_discrete_sequence = px.colors.sequential.Jet)"
   ]
  },
  {
   "cell_type": "code",
   "execution_count": 50,
   "id": "6e43a621",
   "metadata": {},
   "outputs": [
    {
     "data": {
      "application/vnd.plotly.v1+json": {
       "config": {
        "plotlyServerURL": "https://plot.ly"
       },
       "data": [
        {
         "domain": {
          "x": [
           0,
           1
          ],
          "y": [
           0,
           1
          ]
         },
         "hole": 0.4,
         "hovertemplate": "Shipping Mode=%{label}<br>Number of Orders=%{value}<extra></extra>",
         "labels": [
          "Standard Class",
          "Second Class",
          "First Class",
          "Same Day"
         ],
         "legendgroup": "",
         "name": "",
         "showlegend": true,
         "type": "pie",
         "values": [
          107752,
          35216,
          27814,
          9737
         ]
        }
       ],
       "layout": {
        "height": 600,
        "legend": {
         "tracegroupgap": 0
        },
        "piecolorway": [
         "rgb(3, 35, 51)",
         "rgb(13, 48, 100)",
         "rgb(53, 50, 155)",
         "rgb(93, 62, 153)",
         "rgb(126, 77, 143)",
         "rgb(158, 89, 135)",
         "rgb(193, 100, 121)",
         "rgb(225, 113, 97)",
         "rgb(246, 139, 69)",
         "rgb(251, 173, 60)",
         "rgb(246, 211, 70)",
         "rgb(231, 250, 90)"
        ],
        "template": {
         "data": {
          "bar": [
           {
            "error_x": {
             "color": "#2a3f5f"
            },
            "error_y": {
             "color": "#2a3f5f"
            },
            "marker": {
             "line": {
              "color": "#E5ECF6",
              "width": 0.5
             },
             "pattern": {
              "fillmode": "overlay",
              "size": 10,
              "solidity": 0.2
             }
            },
            "type": "bar"
           }
          ],
          "barpolar": [
           {
            "marker": {
             "line": {
              "color": "#E5ECF6",
              "width": 0.5
             },
             "pattern": {
              "fillmode": "overlay",
              "size": 10,
              "solidity": 0.2
             }
            },
            "type": "barpolar"
           }
          ],
          "carpet": [
           {
            "aaxis": {
             "endlinecolor": "#2a3f5f",
             "gridcolor": "white",
             "linecolor": "white",
             "minorgridcolor": "white",
             "startlinecolor": "#2a3f5f"
            },
            "baxis": {
             "endlinecolor": "#2a3f5f",
             "gridcolor": "white",
             "linecolor": "white",
             "minorgridcolor": "white",
             "startlinecolor": "#2a3f5f"
            },
            "type": "carpet"
           }
          ],
          "choropleth": [
           {
            "colorbar": {
             "outlinewidth": 0,
             "ticks": ""
            },
            "type": "choropleth"
           }
          ],
          "contour": [
           {
            "colorbar": {
             "outlinewidth": 0,
             "ticks": ""
            },
            "colorscale": [
             [
              0,
              "#0d0887"
             ],
             [
              0.1111111111111111,
              "#46039f"
             ],
             [
              0.2222222222222222,
              "#7201a8"
             ],
             [
              0.3333333333333333,
              "#9c179e"
             ],
             [
              0.4444444444444444,
              "#bd3786"
             ],
             [
              0.5555555555555556,
              "#d8576b"
             ],
             [
              0.6666666666666666,
              "#ed7953"
             ],
             [
              0.7777777777777778,
              "#fb9f3a"
             ],
             [
              0.8888888888888888,
              "#fdca26"
             ],
             [
              1,
              "#f0f921"
             ]
            ],
            "type": "contour"
           }
          ],
          "contourcarpet": [
           {
            "colorbar": {
             "outlinewidth": 0,
             "ticks": ""
            },
            "type": "contourcarpet"
           }
          ],
          "heatmap": [
           {
            "colorbar": {
             "outlinewidth": 0,
             "ticks": ""
            },
            "colorscale": [
             [
              0,
              "#0d0887"
             ],
             [
              0.1111111111111111,
              "#46039f"
             ],
             [
              0.2222222222222222,
              "#7201a8"
             ],
             [
              0.3333333333333333,
              "#9c179e"
             ],
             [
              0.4444444444444444,
              "#bd3786"
             ],
             [
              0.5555555555555556,
              "#d8576b"
             ],
             [
              0.6666666666666666,
              "#ed7953"
             ],
             [
              0.7777777777777778,
              "#fb9f3a"
             ],
             [
              0.8888888888888888,
              "#fdca26"
             ],
             [
              1,
              "#f0f921"
             ]
            ],
            "type": "heatmap"
           }
          ],
          "heatmapgl": [
           {
            "colorbar": {
             "outlinewidth": 0,
             "ticks": ""
            },
            "colorscale": [
             [
              0,
              "#0d0887"
             ],
             [
              0.1111111111111111,
              "#46039f"
             ],
             [
              0.2222222222222222,
              "#7201a8"
             ],
             [
              0.3333333333333333,
              "#9c179e"
             ],
             [
              0.4444444444444444,
              "#bd3786"
             ],
             [
              0.5555555555555556,
              "#d8576b"
             ],
             [
              0.6666666666666666,
              "#ed7953"
             ],
             [
              0.7777777777777778,
              "#fb9f3a"
             ],
             [
              0.8888888888888888,
              "#fdca26"
             ],
             [
              1,
              "#f0f921"
             ]
            ],
            "type": "heatmapgl"
           }
          ],
          "histogram": [
           {
            "marker": {
             "pattern": {
              "fillmode": "overlay",
              "size": 10,
              "solidity": 0.2
             }
            },
            "type": "histogram"
           }
          ],
          "histogram2d": [
           {
            "colorbar": {
             "outlinewidth": 0,
             "ticks": ""
            },
            "colorscale": [
             [
              0,
              "#0d0887"
             ],
             [
              0.1111111111111111,
              "#46039f"
             ],
             [
              0.2222222222222222,
              "#7201a8"
             ],
             [
              0.3333333333333333,
              "#9c179e"
             ],
             [
              0.4444444444444444,
              "#bd3786"
             ],
             [
              0.5555555555555556,
              "#d8576b"
             ],
             [
              0.6666666666666666,
              "#ed7953"
             ],
             [
              0.7777777777777778,
              "#fb9f3a"
             ],
             [
              0.8888888888888888,
              "#fdca26"
             ],
             [
              1,
              "#f0f921"
             ]
            ],
            "type": "histogram2d"
           }
          ],
          "histogram2dcontour": [
           {
            "colorbar": {
             "outlinewidth": 0,
             "ticks": ""
            },
            "colorscale": [
             [
              0,
              "#0d0887"
             ],
             [
              0.1111111111111111,
              "#46039f"
             ],
             [
              0.2222222222222222,
              "#7201a8"
             ],
             [
              0.3333333333333333,
              "#9c179e"
             ],
             [
              0.4444444444444444,
              "#bd3786"
             ],
             [
              0.5555555555555556,
              "#d8576b"
             ],
             [
              0.6666666666666666,
              "#ed7953"
             ],
             [
              0.7777777777777778,
              "#fb9f3a"
             ],
             [
              0.8888888888888888,
              "#fdca26"
             ],
             [
              1,
              "#f0f921"
             ]
            ],
            "type": "histogram2dcontour"
           }
          ],
          "mesh3d": [
           {
            "colorbar": {
             "outlinewidth": 0,
             "ticks": ""
            },
            "type": "mesh3d"
           }
          ],
          "parcoords": [
           {
            "line": {
             "colorbar": {
              "outlinewidth": 0,
              "ticks": ""
             }
            },
            "type": "parcoords"
           }
          ],
          "pie": [
           {
            "automargin": true,
            "type": "pie"
           }
          ],
          "scatter": [
           {
            "marker": {
             "colorbar": {
              "outlinewidth": 0,
              "ticks": ""
             }
            },
            "type": "scatter"
           }
          ],
          "scatter3d": [
           {
            "line": {
             "colorbar": {
              "outlinewidth": 0,
              "ticks": ""
             }
            },
            "marker": {
             "colorbar": {
              "outlinewidth": 0,
              "ticks": ""
             }
            },
            "type": "scatter3d"
           }
          ],
          "scattercarpet": [
           {
            "marker": {
             "colorbar": {
              "outlinewidth": 0,
              "ticks": ""
             }
            },
            "type": "scattercarpet"
           }
          ],
          "scattergeo": [
           {
            "marker": {
             "colorbar": {
              "outlinewidth": 0,
              "ticks": ""
             }
            },
            "type": "scattergeo"
           }
          ],
          "scattergl": [
           {
            "marker": {
             "colorbar": {
              "outlinewidth": 0,
              "ticks": ""
             }
            },
            "type": "scattergl"
           }
          ],
          "scattermapbox": [
           {
            "marker": {
             "colorbar": {
              "outlinewidth": 0,
              "ticks": ""
             }
            },
            "type": "scattermapbox"
           }
          ],
          "scatterpolar": [
           {
            "marker": {
             "colorbar": {
              "outlinewidth": 0,
              "ticks": ""
             }
            },
            "type": "scatterpolar"
           }
          ],
          "scatterpolargl": [
           {
            "marker": {
             "colorbar": {
              "outlinewidth": 0,
              "ticks": ""
             }
            },
            "type": "scatterpolargl"
           }
          ],
          "scatterternary": [
           {
            "marker": {
             "colorbar": {
              "outlinewidth": 0,
              "ticks": ""
             }
            },
            "type": "scatterternary"
           }
          ],
          "surface": [
           {
            "colorbar": {
             "outlinewidth": 0,
             "ticks": ""
            },
            "colorscale": [
             [
              0,
              "#0d0887"
             ],
             [
              0.1111111111111111,
              "#46039f"
             ],
             [
              0.2222222222222222,
              "#7201a8"
             ],
             [
              0.3333333333333333,
              "#9c179e"
             ],
             [
              0.4444444444444444,
              "#bd3786"
             ],
             [
              0.5555555555555556,
              "#d8576b"
             ],
             [
              0.6666666666666666,
              "#ed7953"
             ],
             [
              0.7777777777777778,
              "#fb9f3a"
             ],
             [
              0.8888888888888888,
              "#fdca26"
             ],
             [
              1,
              "#f0f921"
             ]
            ],
            "type": "surface"
           }
          ],
          "table": [
           {
            "cells": {
             "fill": {
              "color": "#EBF0F8"
             },
             "line": {
              "color": "white"
             }
            },
            "header": {
             "fill": {
              "color": "#C8D4E3"
             },
             "line": {
              "color": "white"
             }
            },
            "type": "table"
           }
          ]
         },
         "layout": {
          "annotationdefaults": {
           "arrowcolor": "#2a3f5f",
           "arrowhead": 0,
           "arrowwidth": 1
          },
          "autotypenumbers": "strict",
          "coloraxis": {
           "colorbar": {
            "outlinewidth": 0,
            "ticks": ""
           }
          },
          "colorscale": {
           "diverging": [
            [
             0,
             "#8e0152"
            ],
            [
             0.1,
             "#c51b7d"
            ],
            [
             0.2,
             "#de77ae"
            ],
            [
             0.3,
             "#f1b6da"
            ],
            [
             0.4,
             "#fde0ef"
            ],
            [
             0.5,
             "#f7f7f7"
            ],
            [
             0.6,
             "#e6f5d0"
            ],
            [
             0.7,
             "#b8e186"
            ],
            [
             0.8,
             "#7fbc41"
            ],
            [
             0.9,
             "#4d9221"
            ],
            [
             1,
             "#276419"
            ]
           ],
           "sequential": [
            [
             0,
             "#0d0887"
            ],
            [
             0.1111111111111111,
             "#46039f"
            ],
            [
             0.2222222222222222,
             "#7201a8"
            ],
            [
             0.3333333333333333,
             "#9c179e"
            ],
            [
             0.4444444444444444,
             "#bd3786"
            ],
            [
             0.5555555555555556,
             "#d8576b"
            ],
            [
             0.6666666666666666,
             "#ed7953"
            ],
            [
             0.7777777777777778,
             "#fb9f3a"
            ],
            [
             0.8888888888888888,
             "#fdca26"
            ],
            [
             1,
             "#f0f921"
            ]
           ],
           "sequentialminus": [
            [
             0,
             "#0d0887"
            ],
            [
             0.1111111111111111,
             "#46039f"
            ],
            [
             0.2222222222222222,
             "#7201a8"
            ],
            [
             0.3333333333333333,
             "#9c179e"
            ],
            [
             0.4444444444444444,
             "#bd3786"
            ],
            [
             0.5555555555555556,
             "#d8576b"
            ],
            [
             0.6666666666666666,
             "#ed7953"
            ],
            [
             0.7777777777777778,
             "#fb9f3a"
            ],
            [
             0.8888888888888888,
             "#fdca26"
            ],
            [
             1,
             "#f0f921"
            ]
           ]
          },
          "colorway": [
           "#636efa",
           "#EF553B",
           "#00cc96",
           "#ab63fa",
           "#FFA15A",
           "#19d3f3",
           "#FF6692",
           "#B6E880",
           "#FF97FF",
           "#FECB52"
          ],
          "font": {
           "color": "#2a3f5f"
          },
          "geo": {
           "bgcolor": "white",
           "lakecolor": "white",
           "landcolor": "#E5ECF6",
           "showlakes": true,
           "showland": true,
           "subunitcolor": "white"
          },
          "hoverlabel": {
           "align": "left"
          },
          "hovermode": "closest",
          "mapbox": {
           "style": "light"
          },
          "paper_bgcolor": "white",
          "plot_bgcolor": "#E5ECF6",
          "polar": {
           "angularaxis": {
            "gridcolor": "white",
            "linecolor": "white",
            "ticks": ""
           },
           "bgcolor": "#E5ECF6",
           "radialaxis": {
            "gridcolor": "white",
            "linecolor": "white",
            "ticks": ""
           }
          },
          "scene": {
           "xaxis": {
            "backgroundcolor": "#E5ECF6",
            "gridcolor": "white",
            "gridwidth": 2,
            "linecolor": "white",
            "showbackground": true,
            "ticks": "",
            "zerolinecolor": "white"
           },
           "yaxis": {
            "backgroundcolor": "#E5ECF6",
            "gridcolor": "white",
            "gridwidth": 2,
            "linecolor": "white",
            "showbackground": true,
            "ticks": "",
            "zerolinecolor": "white"
           },
           "zaxis": {
            "backgroundcolor": "#E5ECF6",
            "gridcolor": "white",
            "gridwidth": 2,
            "linecolor": "white",
            "showbackground": true,
            "ticks": "",
            "zerolinecolor": "white"
           }
          },
          "shapedefaults": {
           "line": {
            "color": "#2a3f5f"
           }
          },
          "ternary": {
           "aaxis": {
            "gridcolor": "white",
            "linecolor": "white",
            "ticks": ""
           },
           "baxis": {
            "gridcolor": "white",
            "linecolor": "white",
            "ticks": ""
           },
           "bgcolor": "#E5ECF6",
           "caxis": {
            "gridcolor": "white",
            "linecolor": "white",
            "ticks": ""
           }
          },
          "title": {
           "x": 0.05
          },
          "xaxis": {
           "automargin": true,
           "gridcolor": "white",
           "linecolor": "white",
           "ticks": "",
           "title": {
            "standoff": 15
           },
           "zerolinecolor": "white",
           "zerolinewidth": 2
          },
          "yaxis": {
           "automargin": true,
           "gridcolor": "white",
           "linecolor": "white",
           "ticks": "",
           "title": {
            "standoff": 15
           },
           "zerolinecolor": "white",
           "zerolinewidth": 2
          }
         }
        },
        "title": {
         "text": "Number of Orders of different Shipping Mode"
        },
        "width": 600
       }
      },
      "text/html": [
       "<div>                            <div id=\"c7ca6e57-79a1-4fb5-a2a4-8fc4249738ec\" class=\"plotly-graph-div\" style=\"height:600px; width:600px;\"></div>            <script type=\"text/javascript\">                require([\"plotly\"], function(Plotly) {                    window.PLOTLYENV=window.PLOTLYENV || {};                                    if (document.getElementById(\"c7ca6e57-79a1-4fb5-a2a4-8fc4249738ec\")) {                    Plotly.newPlot(                        \"c7ca6e57-79a1-4fb5-a2a4-8fc4249738ec\",                        [{\"domain\":{\"x\":[0.0,1.0],\"y\":[0.0,1.0]},\"hole\":0.4,\"hovertemplate\":\"Shipping Mode=%{label}<br>Number of Orders=%{value}<extra></extra>\",\"labels\":[\"Standard Class\",\"Second Class\",\"First Class\",\"Same Day\"],\"legendgroup\":\"\",\"name\":\"\",\"showlegend\":true,\"values\":[107752,35216,27814,9737],\"type\":\"pie\"}],                        {\"template\":{\"data\":{\"bar\":[{\"error_x\":{\"color\":\"#2a3f5f\"},\"error_y\":{\"color\":\"#2a3f5f\"},\"marker\":{\"line\":{\"color\":\"#E5ECF6\",\"width\":0.5},\"pattern\":{\"fillmode\":\"overlay\",\"size\":10,\"solidity\":0.2}},\"type\":\"bar\"}],\"barpolar\":[{\"marker\":{\"line\":{\"color\":\"#E5ECF6\",\"width\":0.5},\"pattern\":{\"fillmode\":\"overlay\",\"size\":10,\"solidity\":0.2}},\"type\":\"barpolar\"}],\"carpet\":[{\"aaxis\":{\"endlinecolor\":\"#2a3f5f\",\"gridcolor\":\"white\",\"linecolor\":\"white\",\"minorgridcolor\":\"white\",\"startlinecolor\":\"#2a3f5f\"},\"baxis\":{\"endlinecolor\":\"#2a3f5f\",\"gridcolor\":\"white\",\"linecolor\":\"white\",\"minorgridcolor\":\"white\",\"startlinecolor\":\"#2a3f5f\"},\"type\":\"carpet\"}],\"choropleth\":[{\"colorbar\":{\"outlinewidth\":0,\"ticks\":\"\"},\"type\":\"choropleth\"}],\"contour\":[{\"colorbar\":{\"outlinewidth\":0,\"ticks\":\"\"},\"colorscale\":[[0.0,\"#0d0887\"],[0.1111111111111111,\"#46039f\"],[0.2222222222222222,\"#7201a8\"],[0.3333333333333333,\"#9c179e\"],[0.4444444444444444,\"#bd3786\"],[0.5555555555555556,\"#d8576b\"],[0.6666666666666666,\"#ed7953\"],[0.7777777777777778,\"#fb9f3a\"],[0.8888888888888888,\"#fdca26\"],[1.0,\"#f0f921\"]],\"type\":\"contour\"}],\"contourcarpet\":[{\"colorbar\":{\"outlinewidth\":0,\"ticks\":\"\"},\"type\":\"contourcarpet\"}],\"heatmap\":[{\"colorbar\":{\"outlinewidth\":0,\"ticks\":\"\"},\"colorscale\":[[0.0,\"#0d0887\"],[0.1111111111111111,\"#46039f\"],[0.2222222222222222,\"#7201a8\"],[0.3333333333333333,\"#9c179e\"],[0.4444444444444444,\"#bd3786\"],[0.5555555555555556,\"#d8576b\"],[0.6666666666666666,\"#ed7953\"],[0.7777777777777778,\"#fb9f3a\"],[0.8888888888888888,\"#fdca26\"],[1.0,\"#f0f921\"]],\"type\":\"heatmap\"}],\"heatmapgl\":[{\"colorbar\":{\"outlinewidth\":0,\"ticks\":\"\"},\"colorscale\":[[0.0,\"#0d0887\"],[0.1111111111111111,\"#46039f\"],[0.2222222222222222,\"#7201a8\"],[0.3333333333333333,\"#9c179e\"],[0.4444444444444444,\"#bd3786\"],[0.5555555555555556,\"#d8576b\"],[0.6666666666666666,\"#ed7953\"],[0.7777777777777778,\"#fb9f3a\"],[0.8888888888888888,\"#fdca26\"],[1.0,\"#f0f921\"]],\"type\":\"heatmapgl\"}],\"histogram\":[{\"marker\":{\"pattern\":{\"fillmode\":\"overlay\",\"size\":10,\"solidity\":0.2}},\"type\":\"histogram\"}],\"histogram2d\":[{\"colorbar\":{\"outlinewidth\":0,\"ticks\":\"\"},\"colorscale\":[[0.0,\"#0d0887\"],[0.1111111111111111,\"#46039f\"],[0.2222222222222222,\"#7201a8\"],[0.3333333333333333,\"#9c179e\"],[0.4444444444444444,\"#bd3786\"],[0.5555555555555556,\"#d8576b\"],[0.6666666666666666,\"#ed7953\"],[0.7777777777777778,\"#fb9f3a\"],[0.8888888888888888,\"#fdca26\"],[1.0,\"#f0f921\"]],\"type\":\"histogram2d\"}],\"histogram2dcontour\":[{\"colorbar\":{\"outlinewidth\":0,\"ticks\":\"\"},\"colorscale\":[[0.0,\"#0d0887\"],[0.1111111111111111,\"#46039f\"],[0.2222222222222222,\"#7201a8\"],[0.3333333333333333,\"#9c179e\"],[0.4444444444444444,\"#bd3786\"],[0.5555555555555556,\"#d8576b\"],[0.6666666666666666,\"#ed7953\"],[0.7777777777777778,\"#fb9f3a\"],[0.8888888888888888,\"#fdca26\"],[1.0,\"#f0f921\"]],\"type\":\"histogram2dcontour\"}],\"mesh3d\":[{\"colorbar\":{\"outlinewidth\":0,\"ticks\":\"\"},\"type\":\"mesh3d\"}],\"parcoords\":[{\"line\":{\"colorbar\":{\"outlinewidth\":0,\"ticks\":\"\"}},\"type\":\"parcoords\"}],\"pie\":[{\"automargin\":true,\"type\":\"pie\"}],\"scatter\":[{\"marker\":{\"colorbar\":{\"outlinewidth\":0,\"ticks\":\"\"}},\"type\":\"scatter\"}],\"scatter3d\":[{\"line\":{\"colorbar\":{\"outlinewidth\":0,\"ticks\":\"\"}},\"marker\":{\"colorbar\":{\"outlinewidth\":0,\"ticks\":\"\"}},\"type\":\"scatter3d\"}],\"scattercarpet\":[{\"marker\":{\"colorbar\":{\"outlinewidth\":0,\"ticks\":\"\"}},\"type\":\"scattercarpet\"}],\"scattergeo\":[{\"marker\":{\"colorbar\":{\"outlinewidth\":0,\"ticks\":\"\"}},\"type\":\"scattergeo\"}],\"scattergl\":[{\"marker\":{\"colorbar\":{\"outlinewidth\":0,\"ticks\":\"\"}},\"type\":\"scattergl\"}],\"scattermapbox\":[{\"marker\":{\"colorbar\":{\"outlinewidth\":0,\"ticks\":\"\"}},\"type\":\"scattermapbox\"}],\"scatterpolar\":[{\"marker\":{\"colorbar\":{\"outlinewidth\":0,\"ticks\":\"\"}},\"type\":\"scatterpolar\"}],\"scatterpolargl\":[{\"marker\":{\"colorbar\":{\"outlinewidth\":0,\"ticks\":\"\"}},\"type\":\"scatterpolargl\"}],\"scatterternary\":[{\"marker\":{\"colorbar\":{\"outlinewidth\":0,\"ticks\":\"\"}},\"type\":\"scatterternary\"}],\"surface\":[{\"colorbar\":{\"outlinewidth\":0,\"ticks\":\"\"},\"colorscale\":[[0.0,\"#0d0887\"],[0.1111111111111111,\"#46039f\"],[0.2222222222222222,\"#7201a8\"],[0.3333333333333333,\"#9c179e\"],[0.4444444444444444,\"#bd3786\"],[0.5555555555555556,\"#d8576b\"],[0.6666666666666666,\"#ed7953\"],[0.7777777777777778,\"#fb9f3a\"],[0.8888888888888888,\"#fdca26\"],[1.0,\"#f0f921\"]],\"type\":\"surface\"}],\"table\":[{\"cells\":{\"fill\":{\"color\":\"#EBF0F8\"},\"line\":{\"color\":\"white\"}},\"header\":{\"fill\":{\"color\":\"#C8D4E3\"},\"line\":{\"color\":\"white\"}},\"type\":\"table\"}]},\"layout\":{\"annotationdefaults\":{\"arrowcolor\":\"#2a3f5f\",\"arrowhead\":0,\"arrowwidth\":1},\"autotypenumbers\":\"strict\",\"coloraxis\":{\"colorbar\":{\"outlinewidth\":0,\"ticks\":\"\"}},\"colorscale\":{\"diverging\":[[0,\"#8e0152\"],[0.1,\"#c51b7d\"],[0.2,\"#de77ae\"],[0.3,\"#f1b6da\"],[0.4,\"#fde0ef\"],[0.5,\"#f7f7f7\"],[0.6,\"#e6f5d0\"],[0.7,\"#b8e186\"],[0.8,\"#7fbc41\"],[0.9,\"#4d9221\"],[1,\"#276419\"]],\"sequential\":[[0.0,\"#0d0887\"],[0.1111111111111111,\"#46039f\"],[0.2222222222222222,\"#7201a8\"],[0.3333333333333333,\"#9c179e\"],[0.4444444444444444,\"#bd3786\"],[0.5555555555555556,\"#d8576b\"],[0.6666666666666666,\"#ed7953\"],[0.7777777777777778,\"#fb9f3a\"],[0.8888888888888888,\"#fdca26\"],[1.0,\"#f0f921\"]],\"sequentialminus\":[[0.0,\"#0d0887\"],[0.1111111111111111,\"#46039f\"],[0.2222222222222222,\"#7201a8\"],[0.3333333333333333,\"#9c179e\"],[0.4444444444444444,\"#bd3786\"],[0.5555555555555556,\"#d8576b\"],[0.6666666666666666,\"#ed7953\"],[0.7777777777777778,\"#fb9f3a\"],[0.8888888888888888,\"#fdca26\"],[1.0,\"#f0f921\"]]},\"colorway\":[\"#636efa\",\"#EF553B\",\"#00cc96\",\"#ab63fa\",\"#FFA15A\",\"#19d3f3\",\"#FF6692\",\"#B6E880\",\"#FF97FF\",\"#FECB52\"],\"font\":{\"color\":\"#2a3f5f\"},\"geo\":{\"bgcolor\":\"white\",\"lakecolor\":\"white\",\"landcolor\":\"#E5ECF6\",\"showlakes\":true,\"showland\":true,\"subunitcolor\":\"white\"},\"hoverlabel\":{\"align\":\"left\"},\"hovermode\":\"closest\",\"mapbox\":{\"style\":\"light\"},\"paper_bgcolor\":\"white\",\"plot_bgcolor\":\"#E5ECF6\",\"polar\":{\"angularaxis\":{\"gridcolor\":\"white\",\"linecolor\":\"white\",\"ticks\":\"\"},\"bgcolor\":\"#E5ECF6\",\"radialaxis\":{\"gridcolor\":\"white\",\"linecolor\":\"white\",\"ticks\":\"\"}},\"scene\":{\"xaxis\":{\"backgroundcolor\":\"#E5ECF6\",\"gridcolor\":\"white\",\"gridwidth\":2,\"linecolor\":\"white\",\"showbackground\":true,\"ticks\":\"\",\"zerolinecolor\":\"white\"},\"yaxis\":{\"backgroundcolor\":\"#E5ECF6\",\"gridcolor\":\"white\",\"gridwidth\":2,\"linecolor\":\"white\",\"showbackground\":true,\"ticks\":\"\",\"zerolinecolor\":\"white\"},\"zaxis\":{\"backgroundcolor\":\"#E5ECF6\",\"gridcolor\":\"white\",\"gridwidth\":2,\"linecolor\":\"white\",\"showbackground\":true,\"ticks\":\"\",\"zerolinecolor\":\"white\"}},\"shapedefaults\":{\"line\":{\"color\":\"#2a3f5f\"}},\"ternary\":{\"aaxis\":{\"gridcolor\":\"white\",\"linecolor\":\"white\",\"ticks\":\"\"},\"baxis\":{\"gridcolor\":\"white\",\"linecolor\":\"white\",\"ticks\":\"\"},\"bgcolor\":\"#E5ECF6\",\"caxis\":{\"gridcolor\":\"white\",\"linecolor\":\"white\",\"ticks\":\"\"}},\"title\":{\"x\":0.05},\"xaxis\":{\"automargin\":true,\"gridcolor\":\"white\",\"linecolor\":\"white\",\"ticks\":\"\",\"title\":{\"standoff\":15},\"zerolinecolor\":\"white\",\"zerolinewidth\":2},\"yaxis\":{\"automargin\":true,\"gridcolor\":\"white\",\"linecolor\":\"white\",\"ticks\":\"\",\"title\":{\"standoff\":15},\"zerolinecolor\":\"white\",\"zerolinewidth\":2}}},\"legend\":{\"tracegroupgap\":0},\"title\":{\"text\":\"Number of Orders of different Shipping Mode\"},\"piecolorway\":[\"rgb(3, 35, 51)\",\"rgb(13, 48, 100)\",\"rgb(53, 50, 155)\",\"rgb(93, 62, 153)\",\"rgb(126, 77, 143)\",\"rgb(158, 89, 135)\",\"rgb(193, 100, 121)\",\"rgb(225, 113, 97)\",\"rgb(246, 139, 69)\",\"rgb(251, 173, 60)\",\"rgb(246, 211, 70)\",\"rgb(231, 250, 90)\"],\"height\":600,\"width\":600},                        {\"responsive\": true}                    ).then(function(){\n",
       "                            \n",
       "var gd = document.getElementById('c7ca6e57-79a1-4fb5-a2a4-8fc4249738ec');\n",
       "var x = new MutationObserver(function (mutations, observer) {{\n",
       "        var display = window.getComputedStyle(gd).display;\n",
       "        if (!display || display === 'none') {{\n",
       "            console.log([gd, 'removed!']);\n",
       "            Plotly.purge(gd);\n",
       "            observer.disconnect();\n",
       "        }}\n",
       "}});\n",
       "\n",
       "// Listen for the removal of the full notebook cells\n",
       "var notebookContainer = gd.closest('#notebook-container');\n",
       "if (notebookContainer) {{\n",
       "    x.observe(notebookContainer, {childList: true});\n",
       "}}\n",
       "\n",
       "// Listen for the clearing of the current output cell\n",
       "var outputEl = gd.closest('.output');\n",
       "if (outputEl) {{\n",
       "    x.observe(outputEl, {childList: true});\n",
       "}}\n",
       "\n",
       "                        })                };                });            </script>        </div>"
      ]
     },
     "metadata": {},
     "output_type": "display_data"
    }
   ],
   "source": [
    "#Customer Segments\n",
    "data_Customer_Segment=df1.groupby(['Shipping Mode'])['Order Id'].count().reset_index(name='Number of Orders').sort_values(by= 'Number of Orders', ascending= False)\n",
    "px.pie(data_Customer_Segment, values='Number of Orders', names= 'Shipping Mode', hole=0.4, title= 'Number of Orders of different Shipping Mode', \n",
    "       width=600 , height=600 , color_discrete_sequence = px.colors.sequential.thermal)"
   ]
  },
  {
   "cell_type": "code",
   "execution_count": 49,
   "id": "5e2ac91b",
   "metadata": {},
   "outputs": [
    {
     "data": {
      "application/vnd.plotly.v1+json": {
       "config": {
        "plotlyServerURL": "https://plot.ly"
       },
       "data": [
        {
         "domain": {
          "x": [
           0,
           1
          ],
          "y": [
           0,
           1
          ]
         },
         "hole": 0.4,
         "hovertemplate": "Type=%{label}<br>Number of Orders=%{value}<extra></extra>",
         "labels": [
          "DEBIT",
          "TRANSFER",
          "PAYMENT",
          "CASH"
         ],
         "legendgroup": "",
         "name": "",
         "showlegend": true,
         "type": "pie",
         "values": [
          69295,
          49883,
          41725,
          19616
         ]
        }
       ],
       "layout": {
        "height": 600,
        "legend": {
         "tracegroupgap": 0
        },
        "piecolorway": [
         "rgb(75, 41, 145)",
         "rgb(135, 44, 162)",
         "rgb(192, 54, 157)",
         "rgb(234, 79, 136)",
         "rgb(250, 120, 118)",
         "rgb(246, 169, 122)",
         "rgb(237, 217, 163)"
        ],
        "template": {
         "data": {
          "bar": [
           {
            "error_x": {
             "color": "#2a3f5f"
            },
            "error_y": {
             "color": "#2a3f5f"
            },
            "marker": {
             "line": {
              "color": "#E5ECF6",
              "width": 0.5
             },
             "pattern": {
              "fillmode": "overlay",
              "size": 10,
              "solidity": 0.2
             }
            },
            "type": "bar"
           }
          ],
          "barpolar": [
           {
            "marker": {
             "line": {
              "color": "#E5ECF6",
              "width": 0.5
             },
             "pattern": {
              "fillmode": "overlay",
              "size": 10,
              "solidity": 0.2
             }
            },
            "type": "barpolar"
           }
          ],
          "carpet": [
           {
            "aaxis": {
             "endlinecolor": "#2a3f5f",
             "gridcolor": "white",
             "linecolor": "white",
             "minorgridcolor": "white",
             "startlinecolor": "#2a3f5f"
            },
            "baxis": {
             "endlinecolor": "#2a3f5f",
             "gridcolor": "white",
             "linecolor": "white",
             "minorgridcolor": "white",
             "startlinecolor": "#2a3f5f"
            },
            "type": "carpet"
           }
          ],
          "choropleth": [
           {
            "colorbar": {
             "outlinewidth": 0,
             "ticks": ""
            },
            "type": "choropleth"
           }
          ],
          "contour": [
           {
            "colorbar": {
             "outlinewidth": 0,
             "ticks": ""
            },
            "colorscale": [
             [
              0,
              "#0d0887"
             ],
             [
              0.1111111111111111,
              "#46039f"
             ],
             [
              0.2222222222222222,
              "#7201a8"
             ],
             [
              0.3333333333333333,
              "#9c179e"
             ],
             [
              0.4444444444444444,
              "#bd3786"
             ],
             [
              0.5555555555555556,
              "#d8576b"
             ],
             [
              0.6666666666666666,
              "#ed7953"
             ],
             [
              0.7777777777777778,
              "#fb9f3a"
             ],
             [
              0.8888888888888888,
              "#fdca26"
             ],
             [
              1,
              "#f0f921"
             ]
            ],
            "type": "contour"
           }
          ],
          "contourcarpet": [
           {
            "colorbar": {
             "outlinewidth": 0,
             "ticks": ""
            },
            "type": "contourcarpet"
           }
          ],
          "heatmap": [
           {
            "colorbar": {
             "outlinewidth": 0,
             "ticks": ""
            },
            "colorscale": [
             [
              0,
              "#0d0887"
             ],
             [
              0.1111111111111111,
              "#46039f"
             ],
             [
              0.2222222222222222,
              "#7201a8"
             ],
             [
              0.3333333333333333,
              "#9c179e"
             ],
             [
              0.4444444444444444,
              "#bd3786"
             ],
             [
              0.5555555555555556,
              "#d8576b"
             ],
             [
              0.6666666666666666,
              "#ed7953"
             ],
             [
              0.7777777777777778,
              "#fb9f3a"
             ],
             [
              0.8888888888888888,
              "#fdca26"
             ],
             [
              1,
              "#f0f921"
             ]
            ],
            "type": "heatmap"
           }
          ],
          "heatmapgl": [
           {
            "colorbar": {
             "outlinewidth": 0,
             "ticks": ""
            },
            "colorscale": [
             [
              0,
              "#0d0887"
             ],
             [
              0.1111111111111111,
              "#46039f"
             ],
             [
              0.2222222222222222,
              "#7201a8"
             ],
             [
              0.3333333333333333,
              "#9c179e"
             ],
             [
              0.4444444444444444,
              "#bd3786"
             ],
             [
              0.5555555555555556,
              "#d8576b"
             ],
             [
              0.6666666666666666,
              "#ed7953"
             ],
             [
              0.7777777777777778,
              "#fb9f3a"
             ],
             [
              0.8888888888888888,
              "#fdca26"
             ],
             [
              1,
              "#f0f921"
             ]
            ],
            "type": "heatmapgl"
           }
          ],
          "histogram": [
           {
            "marker": {
             "pattern": {
              "fillmode": "overlay",
              "size": 10,
              "solidity": 0.2
             }
            },
            "type": "histogram"
           }
          ],
          "histogram2d": [
           {
            "colorbar": {
             "outlinewidth": 0,
             "ticks": ""
            },
            "colorscale": [
             [
              0,
              "#0d0887"
             ],
             [
              0.1111111111111111,
              "#46039f"
             ],
             [
              0.2222222222222222,
              "#7201a8"
             ],
             [
              0.3333333333333333,
              "#9c179e"
             ],
             [
              0.4444444444444444,
              "#bd3786"
             ],
             [
              0.5555555555555556,
              "#d8576b"
             ],
             [
              0.6666666666666666,
              "#ed7953"
             ],
             [
              0.7777777777777778,
              "#fb9f3a"
             ],
             [
              0.8888888888888888,
              "#fdca26"
             ],
             [
              1,
              "#f0f921"
             ]
            ],
            "type": "histogram2d"
           }
          ],
          "histogram2dcontour": [
           {
            "colorbar": {
             "outlinewidth": 0,
             "ticks": ""
            },
            "colorscale": [
             [
              0,
              "#0d0887"
             ],
             [
              0.1111111111111111,
              "#46039f"
             ],
             [
              0.2222222222222222,
              "#7201a8"
             ],
             [
              0.3333333333333333,
              "#9c179e"
             ],
             [
              0.4444444444444444,
              "#bd3786"
             ],
             [
              0.5555555555555556,
              "#d8576b"
             ],
             [
              0.6666666666666666,
              "#ed7953"
             ],
             [
              0.7777777777777778,
              "#fb9f3a"
             ],
             [
              0.8888888888888888,
              "#fdca26"
             ],
             [
              1,
              "#f0f921"
             ]
            ],
            "type": "histogram2dcontour"
           }
          ],
          "mesh3d": [
           {
            "colorbar": {
             "outlinewidth": 0,
             "ticks": ""
            },
            "type": "mesh3d"
           }
          ],
          "parcoords": [
           {
            "line": {
             "colorbar": {
              "outlinewidth": 0,
              "ticks": ""
             }
            },
            "type": "parcoords"
           }
          ],
          "pie": [
           {
            "automargin": true,
            "type": "pie"
           }
          ],
          "scatter": [
           {
            "marker": {
             "colorbar": {
              "outlinewidth": 0,
              "ticks": ""
             }
            },
            "type": "scatter"
           }
          ],
          "scatter3d": [
           {
            "line": {
             "colorbar": {
              "outlinewidth": 0,
              "ticks": ""
             }
            },
            "marker": {
             "colorbar": {
              "outlinewidth": 0,
              "ticks": ""
             }
            },
            "type": "scatter3d"
           }
          ],
          "scattercarpet": [
           {
            "marker": {
             "colorbar": {
              "outlinewidth": 0,
              "ticks": ""
             }
            },
            "type": "scattercarpet"
           }
          ],
          "scattergeo": [
           {
            "marker": {
             "colorbar": {
              "outlinewidth": 0,
              "ticks": ""
             }
            },
            "type": "scattergeo"
           }
          ],
          "scattergl": [
           {
            "marker": {
             "colorbar": {
              "outlinewidth": 0,
              "ticks": ""
             }
            },
            "type": "scattergl"
           }
          ],
          "scattermapbox": [
           {
            "marker": {
             "colorbar": {
              "outlinewidth": 0,
              "ticks": ""
             }
            },
            "type": "scattermapbox"
           }
          ],
          "scatterpolar": [
           {
            "marker": {
             "colorbar": {
              "outlinewidth": 0,
              "ticks": ""
             }
            },
            "type": "scatterpolar"
           }
          ],
          "scatterpolargl": [
           {
            "marker": {
             "colorbar": {
              "outlinewidth": 0,
              "ticks": ""
             }
            },
            "type": "scatterpolargl"
           }
          ],
          "scatterternary": [
           {
            "marker": {
             "colorbar": {
              "outlinewidth": 0,
              "ticks": ""
             }
            },
            "type": "scatterternary"
           }
          ],
          "surface": [
           {
            "colorbar": {
             "outlinewidth": 0,
             "ticks": ""
            },
            "colorscale": [
             [
              0,
              "#0d0887"
             ],
             [
              0.1111111111111111,
              "#46039f"
             ],
             [
              0.2222222222222222,
              "#7201a8"
             ],
             [
              0.3333333333333333,
              "#9c179e"
             ],
             [
              0.4444444444444444,
              "#bd3786"
             ],
             [
              0.5555555555555556,
              "#d8576b"
             ],
             [
              0.6666666666666666,
              "#ed7953"
             ],
             [
              0.7777777777777778,
              "#fb9f3a"
             ],
             [
              0.8888888888888888,
              "#fdca26"
             ],
             [
              1,
              "#f0f921"
             ]
            ],
            "type": "surface"
           }
          ],
          "table": [
           {
            "cells": {
             "fill": {
              "color": "#EBF0F8"
             },
             "line": {
              "color": "white"
             }
            },
            "header": {
             "fill": {
              "color": "#C8D4E3"
             },
             "line": {
              "color": "white"
             }
            },
            "type": "table"
           }
          ]
         },
         "layout": {
          "annotationdefaults": {
           "arrowcolor": "#2a3f5f",
           "arrowhead": 0,
           "arrowwidth": 1
          },
          "autotypenumbers": "strict",
          "coloraxis": {
           "colorbar": {
            "outlinewidth": 0,
            "ticks": ""
           }
          },
          "colorscale": {
           "diverging": [
            [
             0,
             "#8e0152"
            ],
            [
             0.1,
             "#c51b7d"
            ],
            [
             0.2,
             "#de77ae"
            ],
            [
             0.3,
             "#f1b6da"
            ],
            [
             0.4,
             "#fde0ef"
            ],
            [
             0.5,
             "#f7f7f7"
            ],
            [
             0.6,
             "#e6f5d0"
            ],
            [
             0.7,
             "#b8e186"
            ],
            [
             0.8,
             "#7fbc41"
            ],
            [
             0.9,
             "#4d9221"
            ],
            [
             1,
             "#276419"
            ]
           ],
           "sequential": [
            [
             0,
             "#0d0887"
            ],
            [
             0.1111111111111111,
             "#46039f"
            ],
            [
             0.2222222222222222,
             "#7201a8"
            ],
            [
             0.3333333333333333,
             "#9c179e"
            ],
            [
             0.4444444444444444,
             "#bd3786"
            ],
            [
             0.5555555555555556,
             "#d8576b"
            ],
            [
             0.6666666666666666,
             "#ed7953"
            ],
            [
             0.7777777777777778,
             "#fb9f3a"
            ],
            [
             0.8888888888888888,
             "#fdca26"
            ],
            [
             1,
             "#f0f921"
            ]
           ],
           "sequentialminus": [
            [
             0,
             "#0d0887"
            ],
            [
             0.1111111111111111,
             "#46039f"
            ],
            [
             0.2222222222222222,
             "#7201a8"
            ],
            [
             0.3333333333333333,
             "#9c179e"
            ],
            [
             0.4444444444444444,
             "#bd3786"
            ],
            [
             0.5555555555555556,
             "#d8576b"
            ],
            [
             0.6666666666666666,
             "#ed7953"
            ],
            [
             0.7777777777777778,
             "#fb9f3a"
            ],
            [
             0.8888888888888888,
             "#fdca26"
            ],
            [
             1,
             "#f0f921"
            ]
           ]
          },
          "colorway": [
           "#636efa",
           "#EF553B",
           "#00cc96",
           "#ab63fa",
           "#FFA15A",
           "#19d3f3",
           "#FF6692",
           "#B6E880",
           "#FF97FF",
           "#FECB52"
          ],
          "font": {
           "color": "#2a3f5f"
          },
          "geo": {
           "bgcolor": "white",
           "lakecolor": "white",
           "landcolor": "#E5ECF6",
           "showlakes": true,
           "showland": true,
           "subunitcolor": "white"
          },
          "hoverlabel": {
           "align": "left"
          },
          "hovermode": "closest",
          "mapbox": {
           "style": "light"
          },
          "paper_bgcolor": "white",
          "plot_bgcolor": "#E5ECF6",
          "polar": {
           "angularaxis": {
            "gridcolor": "white",
            "linecolor": "white",
            "ticks": ""
           },
           "bgcolor": "#E5ECF6",
           "radialaxis": {
            "gridcolor": "white",
            "linecolor": "white",
            "ticks": ""
           }
          },
          "scene": {
           "xaxis": {
            "backgroundcolor": "#E5ECF6",
            "gridcolor": "white",
            "gridwidth": 2,
            "linecolor": "white",
            "showbackground": true,
            "ticks": "",
            "zerolinecolor": "white"
           },
           "yaxis": {
            "backgroundcolor": "#E5ECF6",
            "gridcolor": "white",
            "gridwidth": 2,
            "linecolor": "white",
            "showbackground": true,
            "ticks": "",
            "zerolinecolor": "white"
           },
           "zaxis": {
            "backgroundcolor": "#E5ECF6",
            "gridcolor": "white",
            "gridwidth": 2,
            "linecolor": "white",
            "showbackground": true,
            "ticks": "",
            "zerolinecolor": "white"
           }
          },
          "shapedefaults": {
           "line": {
            "color": "#2a3f5f"
           }
          },
          "ternary": {
           "aaxis": {
            "gridcolor": "white",
            "linecolor": "white",
            "ticks": ""
           },
           "baxis": {
            "gridcolor": "white",
            "linecolor": "white",
            "ticks": ""
           },
           "bgcolor": "#E5ECF6",
           "caxis": {
            "gridcolor": "white",
            "linecolor": "white",
            "ticks": ""
           }
          },
          "title": {
           "x": 0.05
          },
          "xaxis": {
           "automargin": true,
           "gridcolor": "white",
           "linecolor": "white",
           "ticks": "",
           "title": {
            "standoff": 15
           },
           "zerolinecolor": "white",
           "zerolinewidth": 2
          },
          "yaxis": {
           "automargin": true,
           "gridcolor": "white",
           "linecolor": "white",
           "ticks": "",
           "title": {
            "standoff": 15
           },
           "zerolinecolor": "white",
           "zerolinewidth": 2
          }
         }
        },
        "title": {
         "text": "Number of Orders of different Payment Types"
        },
        "width": 600
       }
      },
      "text/html": [
       "<div>                            <div id=\"5832527f-9618-433a-a449-81521d43bbda\" class=\"plotly-graph-div\" style=\"height:600px; width:600px;\"></div>            <script type=\"text/javascript\">                require([\"plotly\"], function(Plotly) {                    window.PLOTLYENV=window.PLOTLYENV || {};                                    if (document.getElementById(\"5832527f-9618-433a-a449-81521d43bbda\")) {                    Plotly.newPlot(                        \"5832527f-9618-433a-a449-81521d43bbda\",                        [{\"domain\":{\"x\":[0.0,1.0],\"y\":[0.0,1.0]},\"hole\":0.4,\"hovertemplate\":\"Type=%{label}<br>Number of Orders=%{value}<extra></extra>\",\"labels\":[\"DEBIT\",\"TRANSFER\",\"PAYMENT\",\"CASH\"],\"legendgroup\":\"\",\"name\":\"\",\"showlegend\":true,\"values\":[69295,49883,41725,19616],\"type\":\"pie\"}],                        {\"template\":{\"data\":{\"bar\":[{\"error_x\":{\"color\":\"#2a3f5f\"},\"error_y\":{\"color\":\"#2a3f5f\"},\"marker\":{\"line\":{\"color\":\"#E5ECF6\",\"width\":0.5},\"pattern\":{\"fillmode\":\"overlay\",\"size\":10,\"solidity\":0.2}},\"type\":\"bar\"}],\"barpolar\":[{\"marker\":{\"line\":{\"color\":\"#E5ECF6\",\"width\":0.5},\"pattern\":{\"fillmode\":\"overlay\",\"size\":10,\"solidity\":0.2}},\"type\":\"barpolar\"}],\"carpet\":[{\"aaxis\":{\"endlinecolor\":\"#2a3f5f\",\"gridcolor\":\"white\",\"linecolor\":\"white\",\"minorgridcolor\":\"white\",\"startlinecolor\":\"#2a3f5f\"},\"baxis\":{\"endlinecolor\":\"#2a3f5f\",\"gridcolor\":\"white\",\"linecolor\":\"white\",\"minorgridcolor\":\"white\",\"startlinecolor\":\"#2a3f5f\"},\"type\":\"carpet\"}],\"choropleth\":[{\"colorbar\":{\"outlinewidth\":0,\"ticks\":\"\"},\"type\":\"choropleth\"}],\"contour\":[{\"colorbar\":{\"outlinewidth\":0,\"ticks\":\"\"},\"colorscale\":[[0.0,\"#0d0887\"],[0.1111111111111111,\"#46039f\"],[0.2222222222222222,\"#7201a8\"],[0.3333333333333333,\"#9c179e\"],[0.4444444444444444,\"#bd3786\"],[0.5555555555555556,\"#d8576b\"],[0.6666666666666666,\"#ed7953\"],[0.7777777777777778,\"#fb9f3a\"],[0.8888888888888888,\"#fdca26\"],[1.0,\"#f0f921\"]],\"type\":\"contour\"}],\"contourcarpet\":[{\"colorbar\":{\"outlinewidth\":0,\"ticks\":\"\"},\"type\":\"contourcarpet\"}],\"heatmap\":[{\"colorbar\":{\"outlinewidth\":0,\"ticks\":\"\"},\"colorscale\":[[0.0,\"#0d0887\"],[0.1111111111111111,\"#46039f\"],[0.2222222222222222,\"#7201a8\"],[0.3333333333333333,\"#9c179e\"],[0.4444444444444444,\"#bd3786\"],[0.5555555555555556,\"#d8576b\"],[0.6666666666666666,\"#ed7953\"],[0.7777777777777778,\"#fb9f3a\"],[0.8888888888888888,\"#fdca26\"],[1.0,\"#f0f921\"]],\"type\":\"heatmap\"}],\"heatmapgl\":[{\"colorbar\":{\"outlinewidth\":0,\"ticks\":\"\"},\"colorscale\":[[0.0,\"#0d0887\"],[0.1111111111111111,\"#46039f\"],[0.2222222222222222,\"#7201a8\"],[0.3333333333333333,\"#9c179e\"],[0.4444444444444444,\"#bd3786\"],[0.5555555555555556,\"#d8576b\"],[0.6666666666666666,\"#ed7953\"],[0.7777777777777778,\"#fb9f3a\"],[0.8888888888888888,\"#fdca26\"],[1.0,\"#f0f921\"]],\"type\":\"heatmapgl\"}],\"histogram\":[{\"marker\":{\"pattern\":{\"fillmode\":\"overlay\",\"size\":10,\"solidity\":0.2}},\"type\":\"histogram\"}],\"histogram2d\":[{\"colorbar\":{\"outlinewidth\":0,\"ticks\":\"\"},\"colorscale\":[[0.0,\"#0d0887\"],[0.1111111111111111,\"#46039f\"],[0.2222222222222222,\"#7201a8\"],[0.3333333333333333,\"#9c179e\"],[0.4444444444444444,\"#bd3786\"],[0.5555555555555556,\"#d8576b\"],[0.6666666666666666,\"#ed7953\"],[0.7777777777777778,\"#fb9f3a\"],[0.8888888888888888,\"#fdca26\"],[1.0,\"#f0f921\"]],\"type\":\"histogram2d\"}],\"histogram2dcontour\":[{\"colorbar\":{\"outlinewidth\":0,\"ticks\":\"\"},\"colorscale\":[[0.0,\"#0d0887\"],[0.1111111111111111,\"#46039f\"],[0.2222222222222222,\"#7201a8\"],[0.3333333333333333,\"#9c179e\"],[0.4444444444444444,\"#bd3786\"],[0.5555555555555556,\"#d8576b\"],[0.6666666666666666,\"#ed7953\"],[0.7777777777777778,\"#fb9f3a\"],[0.8888888888888888,\"#fdca26\"],[1.0,\"#f0f921\"]],\"type\":\"histogram2dcontour\"}],\"mesh3d\":[{\"colorbar\":{\"outlinewidth\":0,\"ticks\":\"\"},\"type\":\"mesh3d\"}],\"parcoords\":[{\"line\":{\"colorbar\":{\"outlinewidth\":0,\"ticks\":\"\"}},\"type\":\"parcoords\"}],\"pie\":[{\"automargin\":true,\"type\":\"pie\"}],\"scatter\":[{\"marker\":{\"colorbar\":{\"outlinewidth\":0,\"ticks\":\"\"}},\"type\":\"scatter\"}],\"scatter3d\":[{\"line\":{\"colorbar\":{\"outlinewidth\":0,\"ticks\":\"\"}},\"marker\":{\"colorbar\":{\"outlinewidth\":0,\"ticks\":\"\"}},\"type\":\"scatter3d\"}],\"scattercarpet\":[{\"marker\":{\"colorbar\":{\"outlinewidth\":0,\"ticks\":\"\"}},\"type\":\"scattercarpet\"}],\"scattergeo\":[{\"marker\":{\"colorbar\":{\"outlinewidth\":0,\"ticks\":\"\"}},\"type\":\"scattergeo\"}],\"scattergl\":[{\"marker\":{\"colorbar\":{\"outlinewidth\":0,\"ticks\":\"\"}},\"type\":\"scattergl\"}],\"scattermapbox\":[{\"marker\":{\"colorbar\":{\"outlinewidth\":0,\"ticks\":\"\"}},\"type\":\"scattermapbox\"}],\"scatterpolar\":[{\"marker\":{\"colorbar\":{\"outlinewidth\":0,\"ticks\":\"\"}},\"type\":\"scatterpolar\"}],\"scatterpolargl\":[{\"marker\":{\"colorbar\":{\"outlinewidth\":0,\"ticks\":\"\"}},\"type\":\"scatterpolargl\"}],\"scatterternary\":[{\"marker\":{\"colorbar\":{\"outlinewidth\":0,\"ticks\":\"\"}},\"type\":\"scatterternary\"}],\"surface\":[{\"colorbar\":{\"outlinewidth\":0,\"ticks\":\"\"},\"colorscale\":[[0.0,\"#0d0887\"],[0.1111111111111111,\"#46039f\"],[0.2222222222222222,\"#7201a8\"],[0.3333333333333333,\"#9c179e\"],[0.4444444444444444,\"#bd3786\"],[0.5555555555555556,\"#d8576b\"],[0.6666666666666666,\"#ed7953\"],[0.7777777777777778,\"#fb9f3a\"],[0.8888888888888888,\"#fdca26\"],[1.0,\"#f0f921\"]],\"type\":\"surface\"}],\"table\":[{\"cells\":{\"fill\":{\"color\":\"#EBF0F8\"},\"line\":{\"color\":\"white\"}},\"header\":{\"fill\":{\"color\":\"#C8D4E3\"},\"line\":{\"color\":\"white\"}},\"type\":\"table\"}]},\"layout\":{\"annotationdefaults\":{\"arrowcolor\":\"#2a3f5f\",\"arrowhead\":0,\"arrowwidth\":1},\"autotypenumbers\":\"strict\",\"coloraxis\":{\"colorbar\":{\"outlinewidth\":0,\"ticks\":\"\"}},\"colorscale\":{\"diverging\":[[0,\"#8e0152\"],[0.1,\"#c51b7d\"],[0.2,\"#de77ae\"],[0.3,\"#f1b6da\"],[0.4,\"#fde0ef\"],[0.5,\"#f7f7f7\"],[0.6,\"#e6f5d0\"],[0.7,\"#b8e186\"],[0.8,\"#7fbc41\"],[0.9,\"#4d9221\"],[1,\"#276419\"]],\"sequential\":[[0.0,\"#0d0887\"],[0.1111111111111111,\"#46039f\"],[0.2222222222222222,\"#7201a8\"],[0.3333333333333333,\"#9c179e\"],[0.4444444444444444,\"#bd3786\"],[0.5555555555555556,\"#d8576b\"],[0.6666666666666666,\"#ed7953\"],[0.7777777777777778,\"#fb9f3a\"],[0.8888888888888888,\"#fdca26\"],[1.0,\"#f0f921\"]],\"sequentialminus\":[[0.0,\"#0d0887\"],[0.1111111111111111,\"#46039f\"],[0.2222222222222222,\"#7201a8\"],[0.3333333333333333,\"#9c179e\"],[0.4444444444444444,\"#bd3786\"],[0.5555555555555556,\"#d8576b\"],[0.6666666666666666,\"#ed7953\"],[0.7777777777777778,\"#fb9f3a\"],[0.8888888888888888,\"#fdca26\"],[1.0,\"#f0f921\"]]},\"colorway\":[\"#636efa\",\"#EF553B\",\"#00cc96\",\"#ab63fa\",\"#FFA15A\",\"#19d3f3\",\"#FF6692\",\"#B6E880\",\"#FF97FF\",\"#FECB52\"],\"font\":{\"color\":\"#2a3f5f\"},\"geo\":{\"bgcolor\":\"white\",\"lakecolor\":\"white\",\"landcolor\":\"#E5ECF6\",\"showlakes\":true,\"showland\":true,\"subunitcolor\":\"white\"},\"hoverlabel\":{\"align\":\"left\"},\"hovermode\":\"closest\",\"mapbox\":{\"style\":\"light\"},\"paper_bgcolor\":\"white\",\"plot_bgcolor\":\"#E5ECF6\",\"polar\":{\"angularaxis\":{\"gridcolor\":\"white\",\"linecolor\":\"white\",\"ticks\":\"\"},\"bgcolor\":\"#E5ECF6\",\"radialaxis\":{\"gridcolor\":\"white\",\"linecolor\":\"white\",\"ticks\":\"\"}},\"scene\":{\"xaxis\":{\"backgroundcolor\":\"#E5ECF6\",\"gridcolor\":\"white\",\"gridwidth\":2,\"linecolor\":\"white\",\"showbackground\":true,\"ticks\":\"\",\"zerolinecolor\":\"white\"},\"yaxis\":{\"backgroundcolor\":\"#E5ECF6\",\"gridcolor\":\"white\",\"gridwidth\":2,\"linecolor\":\"white\",\"showbackground\":true,\"ticks\":\"\",\"zerolinecolor\":\"white\"},\"zaxis\":{\"backgroundcolor\":\"#E5ECF6\",\"gridcolor\":\"white\",\"gridwidth\":2,\"linecolor\":\"white\",\"showbackground\":true,\"ticks\":\"\",\"zerolinecolor\":\"white\"}},\"shapedefaults\":{\"line\":{\"color\":\"#2a3f5f\"}},\"ternary\":{\"aaxis\":{\"gridcolor\":\"white\",\"linecolor\":\"white\",\"ticks\":\"\"},\"baxis\":{\"gridcolor\":\"white\",\"linecolor\":\"white\",\"ticks\":\"\"},\"bgcolor\":\"#E5ECF6\",\"caxis\":{\"gridcolor\":\"white\",\"linecolor\":\"white\",\"ticks\":\"\"}},\"title\":{\"x\":0.05},\"xaxis\":{\"automargin\":true,\"gridcolor\":\"white\",\"linecolor\":\"white\",\"ticks\":\"\",\"title\":{\"standoff\":15},\"zerolinecolor\":\"white\",\"zerolinewidth\":2},\"yaxis\":{\"automargin\":true,\"gridcolor\":\"white\",\"linecolor\":\"white\",\"ticks\":\"\",\"title\":{\"standoff\":15},\"zerolinecolor\":\"white\",\"zerolinewidth\":2}}},\"legend\":{\"tracegroupgap\":0},\"title\":{\"text\":\"Number of Orders of different Payment Types\"},\"piecolorway\":[\"rgb(75, 41, 145)\",\"rgb(135, 44, 162)\",\"rgb(192, 54, 157)\",\"rgb(234, 79, 136)\",\"rgb(250, 120, 118)\",\"rgb(246, 169, 122)\",\"rgb(237, 217, 163)\"],\"height\":600,\"width\":600},                        {\"responsive\": true}                    ).then(function(){\n",
       "                            \n",
       "var gd = document.getElementById('5832527f-9618-433a-a449-81521d43bbda');\n",
       "var x = new MutationObserver(function (mutations, observer) {{\n",
       "        var display = window.getComputedStyle(gd).display;\n",
       "        if (!display || display === 'none') {{\n",
       "            console.log([gd, 'removed!']);\n",
       "            Plotly.purge(gd);\n",
       "            observer.disconnect();\n",
       "        }}\n",
       "}});\n",
       "\n",
       "// Listen for the removal of the full notebook cells\n",
       "var notebookContainer = gd.closest('#notebook-container');\n",
       "if (notebookContainer) {{\n",
       "    x.observe(notebookContainer, {childList: true});\n",
       "}}\n",
       "\n",
       "// Listen for the clearing of the current output cell\n",
       "var outputEl = gd.closest('.output');\n",
       "if (outputEl) {{\n",
       "    x.observe(outputEl, {childList: true});\n",
       "}}\n",
       "\n",
       "                        })                };                });            </script>        </div>"
      ]
     },
     "metadata": {},
     "output_type": "display_data"
    }
   ],
   "source": [
    "#Customer Segments\n",
    "data_Customer_Segment=df1.groupby(['Type'])['Order Id'].count().reset_index(name='Number of Orders').sort_values(by= 'Number of Orders', ascending= False)\n",
    "px.pie(data_Customer_Segment, values='Number of Orders', names= 'Type', hole=0.4, title= 'Number of Orders of different Payment Types', \n",
    "       width=600 , height=600 , color_discrete_sequence = px.colors.sequential.Agsunset)"
   ]
  },
  {
   "cell_type": "code",
   "execution_count": 38,
   "id": "ba09b80f",
   "metadata": {},
   "outputs": [
    {
     "data": {
      "application/vnd.plotly.v1+json": {
       "config": {
        "plotlyServerURL": "https://plot.ly"
       },
       "data": [
        {
         "alignmentgroup": "True",
         "hovertemplate": "Number of Orders=%{marker.color}<br>Category Name=%{y}<extra></extra>",
         "legendgroup": "",
         "marker": {
          "color": [
           61,
           67,
           68,
           111,
           138,
           181,
           207,
           208,
           271,
           283,
           309,
           328,
           343,
           357,
           362,
           384,
           405,
           423,
           431,
           434,
           440,
           441,
           442,
           483,
           484,
           484,
           492,
           524,
           529,
           592,
           614,
           632,
           650,
           652,
           838,
           974,
           1070,
           1201,
           1475,
           1780,
           3156,
           10984,
           12487,
           13729,
           15540,
           17325,
           19298,
           21035,
           22246,
           24551
          ],
          "coloraxis": "coloraxis",
          "pattern": {
           "shape": ""
          }
         },
         "name": "",
         "offsetgroup": "",
         "orientation": "h",
         "showlegend": false,
         "textposition": "auto",
         "type": "bar",
         "x": [
          61,
          67,
          68,
          111,
          138,
          181,
          207,
          208,
          271,
          283,
          309,
          328,
          343,
          357,
          362,
          384,
          405,
          423,
          431,
          434,
          440,
          441,
          442,
          483,
          484,
          484,
          492,
          524,
          529,
          592,
          614,
          632,
          650,
          652,
          838,
          974,
          1070,
          1201,
          1475,
          1780,
          3156,
          10984,
          12487,
          13729,
          15540,
          17325,
          19298,
          21035,
          22246,
          24551
         ],
         "xaxis": "x",
         "y": [
          "Golf Bags & Carts",
          "Basketball",
          "As Seen on  TV!",
          "Strength Training",
          "Soccer",
          "Women's Golf Clubs",
          "Baby ",
          "Men's Clothing",
          "CDs ",
          "Men's Golf Clubs",
          "Fitness Accessories",
          "Tennis & Racquet",
          "Lacrosse",
          "Sporting Goods",
          "Health and Beauty",
          "Kids' Golf Clubs",
          "Books ",
          "Boxing & MMA",
          "Consumer Electronics",
          "Music",
          "Hunting & Shooting",
          "Golf Apparel",
          "Computers",
          "DVDs",
          "Garden",
          "Crafts",
          "Pet Supplies",
          "Golf Shoes",
          "Toys",
          "Cameras ",
          "Hockey",
          "Baseball & Softball",
          "Women's Clothing",
          "Children's Clothing",
          "Video Games",
          "Trade-In",
          "Golf Gloves",
          "Girls' Apparel",
          "Golf Balls",
          "Accessories",
          "Electronics",
          "Shop By Sport",
          "Cardio Equipment",
          "Camping & Hiking",
          "Water Sports",
          "Fishing",
          "Indoor/Outdoor Games",
          "Women's Apparel",
          "Men's Footwear",
          "Cleats"
         ],
         "yaxis": "y"
        }
       ],
       "layout": {
        "barmode": "relative",
        "coloraxis": {
         "colorbar": {
          "title": {
           "text": "Number of Orders"
          }
         },
         "colorscale": [
          [
           0,
           "#0d0887"
          ],
          [
           0.1111111111111111,
           "#46039f"
          ],
          [
           0.2222222222222222,
           "#7201a8"
          ],
          [
           0.3333333333333333,
           "#9c179e"
          ],
          [
           0.4444444444444444,
           "#bd3786"
          ],
          [
           0.5555555555555556,
           "#d8576b"
          ],
          [
           0.6666666666666666,
           "#ed7953"
          ],
          [
           0.7777777777777778,
           "#fb9f3a"
          ],
          [
           0.8888888888888888,
           "#fdca26"
          ],
          [
           1,
           "#f0f921"
          ]
         ]
        },
        "legend": {
         "tracegroupgap": 0
        },
        "margin": {
         "t": 60
        },
        "template": {
         "data": {
          "bar": [
           {
            "error_x": {
             "color": "#2a3f5f"
            },
            "error_y": {
             "color": "#2a3f5f"
            },
            "marker": {
             "line": {
              "color": "#E5ECF6",
              "width": 0.5
             },
             "pattern": {
              "fillmode": "overlay",
              "size": 10,
              "solidity": 0.2
             }
            },
            "type": "bar"
           }
          ],
          "barpolar": [
           {
            "marker": {
             "line": {
              "color": "#E5ECF6",
              "width": 0.5
             },
             "pattern": {
              "fillmode": "overlay",
              "size": 10,
              "solidity": 0.2
             }
            },
            "type": "barpolar"
           }
          ],
          "carpet": [
           {
            "aaxis": {
             "endlinecolor": "#2a3f5f",
             "gridcolor": "white",
             "linecolor": "white",
             "minorgridcolor": "white",
             "startlinecolor": "#2a3f5f"
            },
            "baxis": {
             "endlinecolor": "#2a3f5f",
             "gridcolor": "white",
             "linecolor": "white",
             "minorgridcolor": "white",
             "startlinecolor": "#2a3f5f"
            },
            "type": "carpet"
           }
          ],
          "choropleth": [
           {
            "colorbar": {
             "outlinewidth": 0,
             "ticks": ""
            },
            "type": "choropleth"
           }
          ],
          "contour": [
           {
            "colorbar": {
             "outlinewidth": 0,
             "ticks": ""
            },
            "colorscale": [
             [
              0,
              "#0d0887"
             ],
             [
              0.1111111111111111,
              "#46039f"
             ],
             [
              0.2222222222222222,
              "#7201a8"
             ],
             [
              0.3333333333333333,
              "#9c179e"
             ],
             [
              0.4444444444444444,
              "#bd3786"
             ],
             [
              0.5555555555555556,
              "#d8576b"
             ],
             [
              0.6666666666666666,
              "#ed7953"
             ],
             [
              0.7777777777777778,
              "#fb9f3a"
             ],
             [
              0.8888888888888888,
              "#fdca26"
             ],
             [
              1,
              "#f0f921"
             ]
            ],
            "type": "contour"
           }
          ],
          "contourcarpet": [
           {
            "colorbar": {
             "outlinewidth": 0,
             "ticks": ""
            },
            "type": "contourcarpet"
           }
          ],
          "heatmap": [
           {
            "colorbar": {
             "outlinewidth": 0,
             "ticks": ""
            },
            "colorscale": [
             [
              0,
              "#0d0887"
             ],
             [
              0.1111111111111111,
              "#46039f"
             ],
             [
              0.2222222222222222,
              "#7201a8"
             ],
             [
              0.3333333333333333,
              "#9c179e"
             ],
             [
              0.4444444444444444,
              "#bd3786"
             ],
             [
              0.5555555555555556,
              "#d8576b"
             ],
             [
              0.6666666666666666,
              "#ed7953"
             ],
             [
              0.7777777777777778,
              "#fb9f3a"
             ],
             [
              0.8888888888888888,
              "#fdca26"
             ],
             [
              1,
              "#f0f921"
             ]
            ],
            "type": "heatmap"
           }
          ],
          "heatmapgl": [
           {
            "colorbar": {
             "outlinewidth": 0,
             "ticks": ""
            },
            "colorscale": [
             [
              0,
              "#0d0887"
             ],
             [
              0.1111111111111111,
              "#46039f"
             ],
             [
              0.2222222222222222,
              "#7201a8"
             ],
             [
              0.3333333333333333,
              "#9c179e"
             ],
             [
              0.4444444444444444,
              "#bd3786"
             ],
             [
              0.5555555555555556,
              "#d8576b"
             ],
             [
              0.6666666666666666,
              "#ed7953"
             ],
             [
              0.7777777777777778,
              "#fb9f3a"
             ],
             [
              0.8888888888888888,
              "#fdca26"
             ],
             [
              1,
              "#f0f921"
             ]
            ],
            "type": "heatmapgl"
           }
          ],
          "histogram": [
           {
            "marker": {
             "pattern": {
              "fillmode": "overlay",
              "size": 10,
              "solidity": 0.2
             }
            },
            "type": "histogram"
           }
          ],
          "histogram2d": [
           {
            "colorbar": {
             "outlinewidth": 0,
             "ticks": ""
            },
            "colorscale": [
             [
              0,
              "#0d0887"
             ],
             [
              0.1111111111111111,
              "#46039f"
             ],
             [
              0.2222222222222222,
              "#7201a8"
             ],
             [
              0.3333333333333333,
              "#9c179e"
             ],
             [
              0.4444444444444444,
              "#bd3786"
             ],
             [
              0.5555555555555556,
              "#d8576b"
             ],
             [
              0.6666666666666666,
              "#ed7953"
             ],
             [
              0.7777777777777778,
              "#fb9f3a"
             ],
             [
              0.8888888888888888,
              "#fdca26"
             ],
             [
              1,
              "#f0f921"
             ]
            ],
            "type": "histogram2d"
           }
          ],
          "histogram2dcontour": [
           {
            "colorbar": {
             "outlinewidth": 0,
             "ticks": ""
            },
            "colorscale": [
             [
              0,
              "#0d0887"
             ],
             [
              0.1111111111111111,
              "#46039f"
             ],
             [
              0.2222222222222222,
              "#7201a8"
             ],
             [
              0.3333333333333333,
              "#9c179e"
             ],
             [
              0.4444444444444444,
              "#bd3786"
             ],
             [
              0.5555555555555556,
              "#d8576b"
             ],
             [
              0.6666666666666666,
              "#ed7953"
             ],
             [
              0.7777777777777778,
              "#fb9f3a"
             ],
             [
              0.8888888888888888,
              "#fdca26"
             ],
             [
              1,
              "#f0f921"
             ]
            ],
            "type": "histogram2dcontour"
           }
          ],
          "mesh3d": [
           {
            "colorbar": {
             "outlinewidth": 0,
             "ticks": ""
            },
            "type": "mesh3d"
           }
          ],
          "parcoords": [
           {
            "line": {
             "colorbar": {
              "outlinewidth": 0,
              "ticks": ""
             }
            },
            "type": "parcoords"
           }
          ],
          "pie": [
           {
            "automargin": true,
            "type": "pie"
           }
          ],
          "scatter": [
           {
            "marker": {
             "colorbar": {
              "outlinewidth": 0,
              "ticks": ""
             }
            },
            "type": "scatter"
           }
          ],
          "scatter3d": [
           {
            "line": {
             "colorbar": {
              "outlinewidth": 0,
              "ticks": ""
             }
            },
            "marker": {
             "colorbar": {
              "outlinewidth": 0,
              "ticks": ""
             }
            },
            "type": "scatter3d"
           }
          ],
          "scattercarpet": [
           {
            "marker": {
             "colorbar": {
              "outlinewidth": 0,
              "ticks": ""
             }
            },
            "type": "scattercarpet"
           }
          ],
          "scattergeo": [
           {
            "marker": {
             "colorbar": {
              "outlinewidth": 0,
              "ticks": ""
             }
            },
            "type": "scattergeo"
           }
          ],
          "scattergl": [
           {
            "marker": {
             "colorbar": {
              "outlinewidth": 0,
              "ticks": ""
             }
            },
            "type": "scattergl"
           }
          ],
          "scattermapbox": [
           {
            "marker": {
             "colorbar": {
              "outlinewidth": 0,
              "ticks": ""
             }
            },
            "type": "scattermapbox"
           }
          ],
          "scatterpolar": [
           {
            "marker": {
             "colorbar": {
              "outlinewidth": 0,
              "ticks": ""
             }
            },
            "type": "scatterpolar"
           }
          ],
          "scatterpolargl": [
           {
            "marker": {
             "colorbar": {
              "outlinewidth": 0,
              "ticks": ""
             }
            },
            "type": "scatterpolargl"
           }
          ],
          "scatterternary": [
           {
            "marker": {
             "colorbar": {
              "outlinewidth": 0,
              "ticks": ""
             }
            },
            "type": "scatterternary"
           }
          ],
          "surface": [
           {
            "colorbar": {
             "outlinewidth": 0,
             "ticks": ""
            },
            "colorscale": [
             [
              0,
              "#0d0887"
             ],
             [
              0.1111111111111111,
              "#46039f"
             ],
             [
              0.2222222222222222,
              "#7201a8"
             ],
             [
              0.3333333333333333,
              "#9c179e"
             ],
             [
              0.4444444444444444,
              "#bd3786"
             ],
             [
              0.5555555555555556,
              "#d8576b"
             ],
             [
              0.6666666666666666,
              "#ed7953"
             ],
             [
              0.7777777777777778,
              "#fb9f3a"
             ],
             [
              0.8888888888888888,
              "#fdca26"
             ],
             [
              1,
              "#f0f921"
             ]
            ],
            "type": "surface"
           }
          ],
          "table": [
           {
            "cells": {
             "fill": {
              "color": "#EBF0F8"
             },
             "line": {
              "color": "white"
             }
            },
            "header": {
             "fill": {
              "color": "#C8D4E3"
             },
             "line": {
              "color": "white"
             }
            },
            "type": "table"
           }
          ]
         },
         "layout": {
          "annotationdefaults": {
           "arrowcolor": "#2a3f5f",
           "arrowhead": 0,
           "arrowwidth": 1
          },
          "autotypenumbers": "strict",
          "coloraxis": {
           "colorbar": {
            "outlinewidth": 0,
            "ticks": ""
           }
          },
          "colorscale": {
           "diverging": [
            [
             0,
             "#8e0152"
            ],
            [
             0.1,
             "#c51b7d"
            ],
            [
             0.2,
             "#de77ae"
            ],
            [
             0.3,
             "#f1b6da"
            ],
            [
             0.4,
             "#fde0ef"
            ],
            [
             0.5,
             "#f7f7f7"
            ],
            [
             0.6,
             "#e6f5d0"
            ],
            [
             0.7,
             "#b8e186"
            ],
            [
             0.8,
             "#7fbc41"
            ],
            [
             0.9,
             "#4d9221"
            ],
            [
             1,
             "#276419"
            ]
           ],
           "sequential": [
            [
             0,
             "#0d0887"
            ],
            [
             0.1111111111111111,
             "#46039f"
            ],
            [
             0.2222222222222222,
             "#7201a8"
            ],
            [
             0.3333333333333333,
             "#9c179e"
            ],
            [
             0.4444444444444444,
             "#bd3786"
            ],
            [
             0.5555555555555556,
             "#d8576b"
            ],
            [
             0.6666666666666666,
             "#ed7953"
            ],
            [
             0.7777777777777778,
             "#fb9f3a"
            ],
            [
             0.8888888888888888,
             "#fdca26"
            ],
            [
             1,
             "#f0f921"
            ]
           ],
           "sequentialminus": [
            [
             0,
             "#0d0887"
            ],
            [
             0.1111111111111111,
             "#46039f"
            ],
            [
             0.2222222222222222,
             "#7201a8"
            ],
            [
             0.3333333333333333,
             "#9c179e"
            ],
            [
             0.4444444444444444,
             "#bd3786"
            ],
            [
             0.5555555555555556,
             "#d8576b"
            ],
            [
             0.6666666666666666,
             "#ed7953"
            ],
            [
             0.7777777777777778,
             "#fb9f3a"
            ],
            [
             0.8888888888888888,
             "#fdca26"
            ],
            [
             1,
             "#f0f921"
            ]
           ]
          },
          "colorway": [
           "#636efa",
           "#EF553B",
           "#00cc96",
           "#ab63fa",
           "#FFA15A",
           "#19d3f3",
           "#FF6692",
           "#B6E880",
           "#FF97FF",
           "#FECB52"
          ],
          "font": {
           "color": "#2a3f5f"
          },
          "geo": {
           "bgcolor": "white",
           "lakecolor": "white",
           "landcolor": "#E5ECF6",
           "showlakes": true,
           "showland": true,
           "subunitcolor": "white"
          },
          "hoverlabel": {
           "align": "left"
          },
          "hovermode": "closest",
          "mapbox": {
           "style": "light"
          },
          "paper_bgcolor": "white",
          "plot_bgcolor": "#E5ECF6",
          "polar": {
           "angularaxis": {
            "gridcolor": "white",
            "linecolor": "white",
            "ticks": ""
           },
           "bgcolor": "#E5ECF6",
           "radialaxis": {
            "gridcolor": "white",
            "linecolor": "white",
            "ticks": ""
           }
          },
          "scene": {
           "xaxis": {
            "backgroundcolor": "#E5ECF6",
            "gridcolor": "white",
            "gridwidth": 2,
            "linecolor": "white",
            "showbackground": true,
            "ticks": "",
            "zerolinecolor": "white"
           },
           "yaxis": {
            "backgroundcolor": "#E5ECF6",
            "gridcolor": "white",
            "gridwidth": 2,
            "linecolor": "white",
            "showbackground": true,
            "ticks": "",
            "zerolinecolor": "white"
           },
           "zaxis": {
            "backgroundcolor": "#E5ECF6",
            "gridcolor": "white",
            "gridwidth": 2,
            "linecolor": "white",
            "showbackground": true,
            "ticks": "",
            "zerolinecolor": "white"
           }
          },
          "shapedefaults": {
           "line": {
            "color": "#2a3f5f"
           }
          },
          "ternary": {
           "aaxis": {
            "gridcolor": "white",
            "linecolor": "white",
            "ticks": ""
           },
           "baxis": {
            "gridcolor": "white",
            "linecolor": "white",
            "ticks": ""
           },
           "bgcolor": "#E5ECF6",
           "caxis": {
            "gridcolor": "white",
            "linecolor": "white",
            "ticks": ""
           }
          },
          "title": {
           "x": 0.05
          },
          "xaxis": {
           "automargin": true,
           "gridcolor": "white",
           "linecolor": "white",
           "ticks": "",
           "title": {
            "standoff": 15
           },
           "zerolinecolor": "white",
           "zerolinewidth": 2
          },
          "yaxis": {
           "automargin": true,
           "gridcolor": "white",
           "linecolor": "white",
           "ticks": "",
           "title": {
            "standoff": 15
           },
           "zerolinecolor": "white",
           "zerolinewidth": 2
          }
         }
        },
        "xaxis": {
         "anchor": "y",
         "domain": [
          0,
          1
         ],
         "title": {
          "text": "Number of Orders"
         }
        },
        "yaxis": {
         "anchor": "x",
         "domain": [
          0,
          1
         ],
         "title": {
          "text": "Category Name"
         }
        }
       }
      },
      "text/html": [
       "<div>                            <div id=\"a3798185-c9a5-47fe-9a16-88fe9dfd84e7\" class=\"plotly-graph-div\" style=\"height:525px; width:100%;\"></div>            <script type=\"text/javascript\">                require([\"plotly\"], function(Plotly) {                    window.PLOTLYENV=window.PLOTLYENV || {};                                    if (document.getElementById(\"a3798185-c9a5-47fe-9a16-88fe9dfd84e7\")) {                    Plotly.newPlot(                        \"a3798185-c9a5-47fe-9a16-88fe9dfd84e7\",                        [{\"alignmentgroup\":\"True\",\"hovertemplate\":\"Number of Orders=%{marker.color}<br>Category Name=%{y}<extra></extra>\",\"legendgroup\":\"\",\"marker\":{\"color\":[61,67,68,111,138,181,207,208,271,283,309,328,343,357,362,384,405,423,431,434,440,441,442,483,484,484,492,524,529,592,614,632,650,652,838,974,1070,1201,1475,1780,3156,10984,12487,13729,15540,17325,19298,21035,22246,24551],\"coloraxis\":\"coloraxis\",\"pattern\":{\"shape\":\"\"}},\"name\":\"\",\"offsetgroup\":\"\",\"orientation\":\"h\",\"showlegend\":false,\"textposition\":\"auto\",\"x\":[61,67,68,111,138,181,207,208,271,283,309,328,343,357,362,384,405,423,431,434,440,441,442,483,484,484,492,524,529,592,614,632,650,652,838,974,1070,1201,1475,1780,3156,10984,12487,13729,15540,17325,19298,21035,22246,24551],\"xaxis\":\"x\",\"y\":[\"Golf Bags & Carts\",\"Basketball\",\"As Seen on  TV!\",\"Strength Training\",\"Soccer\",\"Women's Golf Clubs\",\"Baby \",\"Men's Clothing\",\"CDs \",\"Men's Golf Clubs\",\"Fitness Accessories\",\"Tennis & Racquet\",\"Lacrosse\",\"Sporting Goods\",\"Health and Beauty\",\"Kids' Golf Clubs\",\"Books \",\"Boxing & MMA\",\"Consumer Electronics\",\"Music\",\"Hunting & Shooting\",\"Golf Apparel\",\"Computers\",\"DVDs\",\"Garden\",\"Crafts\",\"Pet Supplies\",\"Golf Shoes\",\"Toys\",\"Cameras \",\"Hockey\",\"Baseball & Softball\",\"Women's Clothing\",\"Children's Clothing\",\"Video Games\",\"Trade-In\",\"Golf Gloves\",\"Girls' Apparel\",\"Golf Balls\",\"Accessories\",\"Electronics\",\"Shop By Sport\",\"Cardio Equipment\",\"Camping & Hiking\",\"Water Sports\",\"Fishing\",\"Indoor/Outdoor Games\",\"Women's Apparel\",\"Men's Footwear\",\"Cleats\"],\"yaxis\":\"y\",\"type\":\"bar\"}],                        {\"template\":{\"data\":{\"bar\":[{\"error_x\":{\"color\":\"#2a3f5f\"},\"error_y\":{\"color\":\"#2a3f5f\"},\"marker\":{\"line\":{\"color\":\"#E5ECF6\",\"width\":0.5},\"pattern\":{\"fillmode\":\"overlay\",\"size\":10,\"solidity\":0.2}},\"type\":\"bar\"}],\"barpolar\":[{\"marker\":{\"line\":{\"color\":\"#E5ECF6\",\"width\":0.5},\"pattern\":{\"fillmode\":\"overlay\",\"size\":10,\"solidity\":0.2}},\"type\":\"barpolar\"}],\"carpet\":[{\"aaxis\":{\"endlinecolor\":\"#2a3f5f\",\"gridcolor\":\"white\",\"linecolor\":\"white\",\"minorgridcolor\":\"white\",\"startlinecolor\":\"#2a3f5f\"},\"baxis\":{\"endlinecolor\":\"#2a3f5f\",\"gridcolor\":\"white\",\"linecolor\":\"white\",\"minorgridcolor\":\"white\",\"startlinecolor\":\"#2a3f5f\"},\"type\":\"carpet\"}],\"choropleth\":[{\"colorbar\":{\"outlinewidth\":0,\"ticks\":\"\"},\"type\":\"choropleth\"}],\"contour\":[{\"colorbar\":{\"outlinewidth\":0,\"ticks\":\"\"},\"colorscale\":[[0.0,\"#0d0887\"],[0.1111111111111111,\"#46039f\"],[0.2222222222222222,\"#7201a8\"],[0.3333333333333333,\"#9c179e\"],[0.4444444444444444,\"#bd3786\"],[0.5555555555555556,\"#d8576b\"],[0.6666666666666666,\"#ed7953\"],[0.7777777777777778,\"#fb9f3a\"],[0.8888888888888888,\"#fdca26\"],[1.0,\"#f0f921\"]],\"type\":\"contour\"}],\"contourcarpet\":[{\"colorbar\":{\"outlinewidth\":0,\"ticks\":\"\"},\"type\":\"contourcarpet\"}],\"heatmap\":[{\"colorbar\":{\"outlinewidth\":0,\"ticks\":\"\"},\"colorscale\":[[0.0,\"#0d0887\"],[0.1111111111111111,\"#46039f\"],[0.2222222222222222,\"#7201a8\"],[0.3333333333333333,\"#9c179e\"],[0.4444444444444444,\"#bd3786\"],[0.5555555555555556,\"#d8576b\"],[0.6666666666666666,\"#ed7953\"],[0.7777777777777778,\"#fb9f3a\"],[0.8888888888888888,\"#fdca26\"],[1.0,\"#f0f921\"]],\"type\":\"heatmap\"}],\"heatmapgl\":[{\"colorbar\":{\"outlinewidth\":0,\"ticks\":\"\"},\"colorscale\":[[0.0,\"#0d0887\"],[0.1111111111111111,\"#46039f\"],[0.2222222222222222,\"#7201a8\"],[0.3333333333333333,\"#9c179e\"],[0.4444444444444444,\"#bd3786\"],[0.5555555555555556,\"#d8576b\"],[0.6666666666666666,\"#ed7953\"],[0.7777777777777778,\"#fb9f3a\"],[0.8888888888888888,\"#fdca26\"],[1.0,\"#f0f921\"]],\"type\":\"heatmapgl\"}],\"histogram\":[{\"marker\":{\"pattern\":{\"fillmode\":\"overlay\",\"size\":10,\"solidity\":0.2}},\"type\":\"histogram\"}],\"histogram2d\":[{\"colorbar\":{\"outlinewidth\":0,\"ticks\":\"\"},\"colorscale\":[[0.0,\"#0d0887\"],[0.1111111111111111,\"#46039f\"],[0.2222222222222222,\"#7201a8\"],[0.3333333333333333,\"#9c179e\"],[0.4444444444444444,\"#bd3786\"],[0.5555555555555556,\"#d8576b\"],[0.6666666666666666,\"#ed7953\"],[0.7777777777777778,\"#fb9f3a\"],[0.8888888888888888,\"#fdca26\"],[1.0,\"#f0f921\"]],\"type\":\"histogram2d\"}],\"histogram2dcontour\":[{\"colorbar\":{\"outlinewidth\":0,\"ticks\":\"\"},\"colorscale\":[[0.0,\"#0d0887\"],[0.1111111111111111,\"#46039f\"],[0.2222222222222222,\"#7201a8\"],[0.3333333333333333,\"#9c179e\"],[0.4444444444444444,\"#bd3786\"],[0.5555555555555556,\"#d8576b\"],[0.6666666666666666,\"#ed7953\"],[0.7777777777777778,\"#fb9f3a\"],[0.8888888888888888,\"#fdca26\"],[1.0,\"#f0f921\"]],\"type\":\"histogram2dcontour\"}],\"mesh3d\":[{\"colorbar\":{\"outlinewidth\":0,\"ticks\":\"\"},\"type\":\"mesh3d\"}],\"parcoords\":[{\"line\":{\"colorbar\":{\"outlinewidth\":0,\"ticks\":\"\"}},\"type\":\"parcoords\"}],\"pie\":[{\"automargin\":true,\"type\":\"pie\"}],\"scatter\":[{\"marker\":{\"colorbar\":{\"outlinewidth\":0,\"ticks\":\"\"}},\"type\":\"scatter\"}],\"scatter3d\":[{\"line\":{\"colorbar\":{\"outlinewidth\":0,\"ticks\":\"\"}},\"marker\":{\"colorbar\":{\"outlinewidth\":0,\"ticks\":\"\"}},\"type\":\"scatter3d\"}],\"scattercarpet\":[{\"marker\":{\"colorbar\":{\"outlinewidth\":0,\"ticks\":\"\"}},\"type\":\"scattercarpet\"}],\"scattergeo\":[{\"marker\":{\"colorbar\":{\"outlinewidth\":0,\"ticks\":\"\"}},\"type\":\"scattergeo\"}],\"scattergl\":[{\"marker\":{\"colorbar\":{\"outlinewidth\":0,\"ticks\":\"\"}},\"type\":\"scattergl\"}],\"scattermapbox\":[{\"marker\":{\"colorbar\":{\"outlinewidth\":0,\"ticks\":\"\"}},\"type\":\"scattermapbox\"}],\"scatterpolar\":[{\"marker\":{\"colorbar\":{\"outlinewidth\":0,\"ticks\":\"\"}},\"type\":\"scatterpolar\"}],\"scatterpolargl\":[{\"marker\":{\"colorbar\":{\"outlinewidth\":0,\"ticks\":\"\"}},\"type\":\"scatterpolargl\"}],\"scatterternary\":[{\"marker\":{\"colorbar\":{\"outlinewidth\":0,\"ticks\":\"\"}},\"type\":\"scatterternary\"}],\"surface\":[{\"colorbar\":{\"outlinewidth\":0,\"ticks\":\"\"},\"colorscale\":[[0.0,\"#0d0887\"],[0.1111111111111111,\"#46039f\"],[0.2222222222222222,\"#7201a8\"],[0.3333333333333333,\"#9c179e\"],[0.4444444444444444,\"#bd3786\"],[0.5555555555555556,\"#d8576b\"],[0.6666666666666666,\"#ed7953\"],[0.7777777777777778,\"#fb9f3a\"],[0.8888888888888888,\"#fdca26\"],[1.0,\"#f0f921\"]],\"type\":\"surface\"}],\"table\":[{\"cells\":{\"fill\":{\"color\":\"#EBF0F8\"},\"line\":{\"color\":\"white\"}},\"header\":{\"fill\":{\"color\":\"#C8D4E3\"},\"line\":{\"color\":\"white\"}},\"type\":\"table\"}]},\"layout\":{\"annotationdefaults\":{\"arrowcolor\":\"#2a3f5f\",\"arrowhead\":0,\"arrowwidth\":1},\"autotypenumbers\":\"strict\",\"coloraxis\":{\"colorbar\":{\"outlinewidth\":0,\"ticks\":\"\"}},\"colorscale\":{\"diverging\":[[0,\"#8e0152\"],[0.1,\"#c51b7d\"],[0.2,\"#de77ae\"],[0.3,\"#f1b6da\"],[0.4,\"#fde0ef\"],[0.5,\"#f7f7f7\"],[0.6,\"#e6f5d0\"],[0.7,\"#b8e186\"],[0.8,\"#7fbc41\"],[0.9,\"#4d9221\"],[1,\"#276419\"]],\"sequential\":[[0.0,\"#0d0887\"],[0.1111111111111111,\"#46039f\"],[0.2222222222222222,\"#7201a8\"],[0.3333333333333333,\"#9c179e\"],[0.4444444444444444,\"#bd3786\"],[0.5555555555555556,\"#d8576b\"],[0.6666666666666666,\"#ed7953\"],[0.7777777777777778,\"#fb9f3a\"],[0.8888888888888888,\"#fdca26\"],[1.0,\"#f0f921\"]],\"sequentialminus\":[[0.0,\"#0d0887\"],[0.1111111111111111,\"#46039f\"],[0.2222222222222222,\"#7201a8\"],[0.3333333333333333,\"#9c179e\"],[0.4444444444444444,\"#bd3786\"],[0.5555555555555556,\"#d8576b\"],[0.6666666666666666,\"#ed7953\"],[0.7777777777777778,\"#fb9f3a\"],[0.8888888888888888,\"#fdca26\"],[1.0,\"#f0f921\"]]},\"colorway\":[\"#636efa\",\"#EF553B\",\"#00cc96\",\"#ab63fa\",\"#FFA15A\",\"#19d3f3\",\"#FF6692\",\"#B6E880\",\"#FF97FF\",\"#FECB52\"],\"font\":{\"color\":\"#2a3f5f\"},\"geo\":{\"bgcolor\":\"white\",\"lakecolor\":\"white\",\"landcolor\":\"#E5ECF6\",\"showlakes\":true,\"showland\":true,\"subunitcolor\":\"white\"},\"hoverlabel\":{\"align\":\"left\"},\"hovermode\":\"closest\",\"mapbox\":{\"style\":\"light\"},\"paper_bgcolor\":\"white\",\"plot_bgcolor\":\"#E5ECF6\",\"polar\":{\"angularaxis\":{\"gridcolor\":\"white\",\"linecolor\":\"white\",\"ticks\":\"\"},\"bgcolor\":\"#E5ECF6\",\"radialaxis\":{\"gridcolor\":\"white\",\"linecolor\":\"white\",\"ticks\":\"\"}},\"scene\":{\"xaxis\":{\"backgroundcolor\":\"#E5ECF6\",\"gridcolor\":\"white\",\"gridwidth\":2,\"linecolor\":\"white\",\"showbackground\":true,\"ticks\":\"\",\"zerolinecolor\":\"white\"},\"yaxis\":{\"backgroundcolor\":\"#E5ECF6\",\"gridcolor\":\"white\",\"gridwidth\":2,\"linecolor\":\"white\",\"showbackground\":true,\"ticks\":\"\",\"zerolinecolor\":\"white\"},\"zaxis\":{\"backgroundcolor\":\"#E5ECF6\",\"gridcolor\":\"white\",\"gridwidth\":2,\"linecolor\":\"white\",\"showbackground\":true,\"ticks\":\"\",\"zerolinecolor\":\"white\"}},\"shapedefaults\":{\"line\":{\"color\":\"#2a3f5f\"}},\"ternary\":{\"aaxis\":{\"gridcolor\":\"white\",\"linecolor\":\"white\",\"ticks\":\"\"},\"baxis\":{\"gridcolor\":\"white\",\"linecolor\":\"white\",\"ticks\":\"\"},\"bgcolor\":\"#E5ECF6\",\"caxis\":{\"gridcolor\":\"white\",\"linecolor\":\"white\",\"ticks\":\"\"}},\"title\":{\"x\":0.05},\"xaxis\":{\"automargin\":true,\"gridcolor\":\"white\",\"linecolor\":\"white\",\"ticks\":\"\",\"title\":{\"standoff\":15},\"zerolinecolor\":\"white\",\"zerolinewidth\":2},\"yaxis\":{\"automargin\":true,\"gridcolor\":\"white\",\"linecolor\":\"white\",\"ticks\":\"\",\"title\":{\"standoff\":15},\"zerolinecolor\":\"white\",\"zerolinewidth\":2}}},\"xaxis\":{\"anchor\":\"y\",\"domain\":[0.0,1.0],\"title\":{\"text\":\"Number of Orders\"}},\"yaxis\":{\"anchor\":\"x\",\"domain\":[0.0,1.0],\"title\":{\"text\":\"Category Name\"}},\"coloraxis\":{\"colorbar\":{\"title\":{\"text\":\"Number of Orders\"}},\"colorscale\":[[0.0,\"#0d0887\"],[0.1111111111111111,\"#46039f\"],[0.2222222222222222,\"#7201a8\"],[0.3333333333333333,\"#9c179e\"],[0.4444444444444444,\"#bd3786\"],[0.5555555555555556,\"#d8576b\"],[0.6666666666666666,\"#ed7953\"],[0.7777777777777778,\"#fb9f3a\"],[0.8888888888888888,\"#fdca26\"],[1.0,\"#f0f921\"]]},\"legend\":{\"tracegroupgap\":0},\"margin\":{\"t\":60},\"barmode\":\"relative\"},                        {\"responsive\": true}                    ).then(function(){\n",
       "                            \n",
       "var gd = document.getElementById('a3798185-c9a5-47fe-9a16-88fe9dfd84e7');\n",
       "var x = new MutationObserver(function (mutations, observer) {{\n",
       "        var display = window.getComputedStyle(gd).display;\n",
       "        if (!display || display === 'none') {{\n",
       "            console.log([gd, 'removed!']);\n",
       "            Plotly.purge(gd);\n",
       "            observer.disconnect();\n",
       "        }}\n",
       "}});\n",
       "\n",
       "// Listen for the removal of the full notebook cells\n",
       "var notebookContainer = gd.closest('#notebook-container');\n",
       "if (notebookContainer) {{\n",
       "    x.observe(notebookContainer, {childList: true});\n",
       "}}\n",
       "\n",
       "// Listen for the clearing of the current output cell\n",
       "var outputEl = gd.closest('.output');\n",
       "if (outputEl) {{\n",
       "    x.observe(outputEl, {childList: true});\n",
       "}}\n",
       "\n",
       "                        })                };                });            </script>        </div>"
      ]
     },
     "metadata": {},
     "output_type": "display_data"
    }
   ],
   "source": [
    "#Category Name\n",
    "data_Category_Name=df1.groupby(['Category Name'])['Order Id'].count().reset_index(name='Number of Orders').sort_values(by= 'Number of Orders', ascending= True)\n",
    "px.bar(data_Category_Name, x='Number of Orders',y = 'Category Name',color ='Number of Orders')"
   ]
  },
  {
   "cell_type": "code",
   "execution_count": 56,
   "id": "3f7530b7",
   "metadata": {},
   "outputs": [
    {
     "data": {
      "text/html": [
       "<div>\n",
       "<style scoped>\n",
       "    .dataframe tbody tr th:only-of-type {\n",
       "        vertical-align: middle;\n",
       "    }\n",
       "\n",
       "    .dataframe tbody tr th {\n",
       "        vertical-align: top;\n",
       "    }\n",
       "\n",
       "    .dataframe thead th {\n",
       "        text-align: right;\n",
       "    }\n",
       "</style>\n",
       "<table border=\"1\" class=\"dataframe\">\n",
       "  <thead>\n",
       "    <tr style=\"text-align: right;\">\n",
       "      <th></th>\n",
       "      <th>Order Country</th>\n",
       "      <th>Order City</th>\n",
       "      <th>Profit of Orders</th>\n",
       "    </tr>\n",
       "  </thead>\n",
       "  <tbody>\n",
       "    <tr>\n",
       "      <th>3260</th>\n",
       "      <td>República Dominicana</td>\n",
       "      <td>Santo Domingo</td>\n",
       "      <td>51111.670019</td>\n",
       "    </tr>\n",
       "    <tr>\n",
       "      <th>1492</th>\n",
       "      <td>Estados Unidos</td>\n",
       "      <td>New York City</td>\n",
       "      <td>47889.759868</td>\n",
       "    </tr>\n",
       "    <tr>\n",
       "      <th>2152</th>\n",
       "      <td>Honduras</td>\n",
       "      <td>Tegucigalpa</td>\n",
       "      <td>40973.640056</td>\n",
       "    </tr>\n",
       "    <tr>\n",
       "      <th>1430</th>\n",
       "      <td>Estados Unidos</td>\n",
       "      <td>Los Angeles</td>\n",
       "      <td>38014.360024</td>\n",
       "    </tr>\n",
       "    <tr>\n",
       "      <th>2837</th>\n",
       "      <td>Nicaragua</td>\n",
       "      <td>Managua</td>\n",
       "      <td>34319.950107</td>\n",
       "    </tr>\n",
       "    <tr>\n",
       "      <th>...</th>\n",
       "      <td>...</td>\n",
       "      <td>...</td>\n",
       "      <td>...</td>\n",
       "    </tr>\n",
       "    <tr>\n",
       "      <th>738</th>\n",
       "      <td>China</td>\n",
       "      <td>Dalian</td>\n",
       "      <td>-1588.609972</td>\n",
       "    </tr>\n",
       "    <tr>\n",
       "      <th>3</th>\n",
       "      <td>Afganistán</td>\n",
       "      <td>Kandahar</td>\n",
       "      <td>-1681.830001</td>\n",
       "    </tr>\n",
       "    <tr>\n",
       "      <th>3110</th>\n",
       "      <td>Reino Unido</td>\n",
       "      <td>Dudley</td>\n",
       "      <td>-1742.079996</td>\n",
       "    </tr>\n",
       "    <tr>\n",
       "      <th>2463</th>\n",
       "      <td>Italia</td>\n",
       "      <td>Cerignola</td>\n",
       "      <td>-2212.530012</td>\n",
       "    </tr>\n",
       "    <tr>\n",
       "      <th>125</th>\n",
       "      <td>Alemania</td>\n",
       "      <td>Pulheim</td>\n",
       "      <td>-3152.150012</td>\n",
       "    </tr>\n",
       "  </tbody>\n",
       "</table>\n",
       "<p>3665 rows × 3 columns</p>\n",
       "</div>"
      ],
      "text/plain": [
       "             Order Country     Order City  Profit of Orders\n",
       "3260  República Dominicana  Santo Domingo      51111.670019\n",
       "1492        Estados Unidos  New York City      47889.759868\n",
       "2152              Honduras    Tegucigalpa      40973.640056\n",
       "1430        Estados Unidos    Los Angeles      38014.360024\n",
       "2837             Nicaragua        Managua      34319.950107\n",
       "...                    ...            ...               ...\n",
       "738                  China         Dalian      -1588.609972\n",
       "3               Afganistán       Kandahar      -1681.830001\n",
       "3110           Reino Unido         Dudley      -1742.079996\n",
       "2463                Italia      Cerignola      -2212.530012\n",
       "125               Alemania        Pulheim      -3152.150012\n",
       "\n",
       "[3665 rows x 3 columns]"
      ]
     },
     "execution_count": 56,
     "metadata": {},
     "output_type": "execute_result"
    }
   ],
   "source": [
    "df_geo=df1.groupby([ 'Order Country', 'Order City'])['Order Profit Per Order'].sum().reset_index(name='Profit of Orders').sort_values(by= 'Profit of Orders', ascending= False)\n",
    "\n",
    "df_geo"
   ]
  },
  {
   "cell_type": "code",
   "execution_count": 62,
   "id": "c93a9b5c",
   "metadata": {},
   "outputs": [
    {
     "data": {
      "application/vnd.plotly.v1+json": {
       "config": {
        "plotlyServerURL": "https://plot.ly"
       },
       "data": [
        {
         "coloraxis": "coloraxis",
         "geo": "geo",
         "hovertemplate": "<b>%{hovertext}</b><br><br>Order Country=%{location}<br>Profit of Orders=%{z}<extra></extra>",
         "hovertext": [
          "República Dominicana",
          "Estados Unidos",
          "Honduras",
          "Estados Unidos",
          "Nicaragua",
          "México",
          "Reino Unido",
          "Filipinas",
          "Estados Unidos",
          "Indonesia",
          "Austria",
          "España",
          "Estados Unidos",
          "Argentina",
          "Tailandia",
          "Nigeria",
          "Brasil",
          "Australia",
          "Francia",
          "Estados Unidos",
          "Estados Unidos",
          "Honduras",
          "Alemania",
          "El Salvador",
          "Turquía",
          "Italia",
          "Panamá",
          "Alemania",
          "Guatemala",
          "El Salvador",
          "Australia",
          "Australia",
          "Estados Unidos",
          "Estados Unidos",
          "Estados Unidos",
          "Vietnam",
          "México",
          "Suecia",
          "República Democrática del Congo",
          "Singapur",
          "Colombia",
          "Honduras",
          "Guatemala",
          "Australia",
          "Haití",
          "España",
          "Alemania",
          "Panamá",
          "Perú",
          "Italia",
          "Marruecos",
          "México",
          "Australia",
          "República Dominicana",
          "México",
          "México",
          "Cuba",
          "Australia",
          "El Salvador",
          "Italia",
          "Reino Unido",
          "México",
          "Francia",
          "Myanmar (Birmania)",
          "México",
          "Egipto",
          "México",
          "México",
          "Brasil",
          "Francia",
          "Irak",
          "Australia",
          "Estados Unidos",
          "Estados Unidos",
          "Estados Unidos",
          "Alemania",
          "Corea del Sur",
          "Estados Unidos",
          "Países Bajos",
          "Indonesia",
          "El Salvador",
          "México",
          "El Salvador",
          "Nigeria",
          "Australia",
          "SudAfrica",
          "China",
          "Australia",
          "Turquía",
          "Egipto",
          "Francia",
          "Honduras",
          "Nicaragua",
          "Nicaragua",
          "Nueva Zelanda",
          "Venezuela",
          "México",
          "México",
          "Italia",
          "El Salvador",
          "Francia",
          "Indonesia",
          "Reino Unido",
          "China",
          "Alemania",
          "Bangladés",
          "Australia",
          "República Dominicana",
          "Pakistán",
          "Estados Unidos",
          "Nicaragua",
          "Estados Unidos",
          "Chile",
          "Estados Unidos",
          "México",
          "España",
          "Cuba",
          "Australia",
          "Brasil",
          "Nueva Zelanda",
          "República Dominicana",
          "Indonesia",
          "Tanzania",
          "Filipinas",
          "Arabia Saudí",
          "China",
          "México",
          "SudAfrica",
          "Francia",
          "Guatemala",
          "México",
          "El Salvador",
          "México",
          "México",
          "Ghana",
          "Venezuela",
          "México",
          "Francia",
          "Guatemala",
          "Reino Unido",
          "Camerún",
          "Estados Unidos",
          "Alemania",
          "Honduras",
          "México",
          "Reino Unido",
          "Irán",
          "Colombia",
          "Cuba",
          "Estados Unidos",
          "SudAfrica",
          "Cuba",
          "Honduras",
          "Estados Unidos",
          "Estados Unidos",
          "México",
          "Australia",
          "El Salvador",
          "Cuba",
          "Reino Unido",
          "Marruecos",
          "Panamá",
          "Estados Unidos",
          "Países Bajos",
          "Alemania",
          "Brasil",
          "Australia",
          "Finlandia",
          "Estados Unidos",
          "Hungría",
          "India",
          "Nicaragua",
          "Cuba",
          "Reino Unido",
          "India",
          "Irán",
          "Alemania",
          "Italia",
          "Panamá",
          "Francia",
          "Indonesia",
          "Reino Unido",
          "China",
          "México",
          "Francia",
          "Noruega",
          "Indonesia",
          "Australia",
          "Vietnam",
          "Estados Unidos",
          "México",
          "Nigeria",
          "Alemania",
          "México",
          "Francia",
          "Francia",
          "Indonesia",
          "Guatemala",
          "Senegal",
          "Colombia",
          "Nicaragua",
          "Italia",
          "Costa de Marfil",
          "México",
          "Estados Unidos",
          "Alemania",
          "México",
          "República Dominicana",
          "Portugal",
          "Australia",
          "China",
          "México",
          "México",
          "Colombia",
          "Alemania",
          "España",
          "México",
          "Países Bajos",
          "España",
          "Estados Unidos",
          "Rusia",
          "Dinamarca",
          "Japón",
          "Brasil",
          "India",
          "Reino Unido",
          "México",
          "México",
          "Austria",
          "Cuba",
          "Irlanda",
          "Brasil",
          "Polonia",
          "Alemania",
          "Alemania",
          "Estados Unidos",
          "Alemania",
          "Estados Unidos",
          "Irak",
          "Brasil",
          "Países Bajos",
          "Reino Unido",
          "México",
          "Brasil",
          "Reino Unido",
          "India",
          "India",
          "China",
          "Bulgaria",
          "Estados Unidos",
          "China",
          "Estados Unidos",
          "Francia",
          "Australia",
          "Australia",
          "China",
          "Nicaragua",
          "México",
          "Turquía",
          "Alemania",
          "Francia",
          "México",
          "India",
          "Alemania",
          "Alemania",
          "Brasil",
          "Camboya",
          "Zambia",
          "Australia",
          "Estados Unidos",
          "Brasil",
          "Brasil",
          "Alemania",
          "Suecia",
          "Nueva Zelanda",
          "Austria",
          "Cuba",
          "Estados Unidos",
          "Nigeria",
          "Brasil",
          "Indonesia",
          "Suecia",
          "Martinica",
          "Italia",
          "Indonesia",
          "Reino Unido",
          "Italia",
          "Libia",
          "Italia",
          "Brasil",
          "Alemania",
          "Reino Unido",
          "República Dominicana",
          "Nicaragua",
          "México",
          "Alemania",
          "Kirguistán",
          "Francia",
          "Guatemala",
          "Estados Unidos",
          "Irak",
          "Ucrania",
          "Argelia",
          "China",
          "Alemania",
          "Irak",
          "India",
          "Estados Unidos",
          "Kenia",
          "Francia",
          "Estados Unidos",
          "Francia",
          "Australia",
          "El Salvador",
          "Alemania",
          "España",
          "Brasil",
          "México",
          "Indonesia",
          "China",
          "Francia",
          "Arabia Saudí",
          "Irlanda",
          "China",
          "Portugal",
          "México",
          "Italia",
          "Francia",
          "Nueva Zelanda",
          "Estados Unidos",
          "Irán",
          "Rusia",
          "India",
          "Jamaica",
          "Bélgica",
          "Bélgica",
          "Francia",
          "Sudán",
          "República Dominicana",
          "México",
          "Australia",
          "Cuba",
          "Alemania",
          "Jamaica",
          "Francia",
          "El Salvador",
          "Suiza",
          "Indonesia",
          "Países Bajos",
          "Brasil",
          "SudAfrica",
          "Brasil",
          "Trinidad y Tobago",
          "Australia",
          "República Democrática del Congo",
          "Brasil",
          "Francia",
          "México",
          "Pakistán",
          "Francia",
          "Alemania",
          "China",
          "Estados Unidos",
          "México",
          "México",
          "Cuba",
          "Italia",
          "Bangladés",
          "Estados Unidos",
          "Estados Unidos",
          "Marruecos",
          "Cuba",
          "Reino Unido",
          "México",
          "México",
          "Francia",
          "Reino Unido",
          "Estados Unidos",
          "Alemania",
          "Panamá",
          "Reino Unido",
          "Turquía",
          "Alemania",
          "Reino Unido",
          "Francia",
          "Papúa Nueva Guinea",
          "Brasil",
          "Alemania",
          "China",
          "Francia",
          "Ecuador",
          "México",
          "España",
          "Estados Unidos",
          "Francia",
          "India",
          "Alemania",
          "Francia",
          "Pakistán",
          "Francia",
          "Irán",
          "Francia",
          "Brasil",
          "Francia",
          "Reino Unido",
          "Cuba",
          "México",
          "México",
          "Estados Unidos",
          "México",
          "Canada",
          "Brasil",
          "Argentina",
          "Estados Unidos",
          "Jordania",
          "Bélgica",
          "México",
          "Francia",
          "Madagascar",
          "Austria",
          "México",
          "Alemania",
          "Brasil",
          "Bélgica",
          "Cuba",
          "Alemania",
          "Francia",
          "México",
          "Australia",
          "Turquía",
          "Estados Unidos",
          "Zimbabue",
          "Reino Unido",
          "España",
          "Trinidad y Tobago",
          "China",
          "India",
          "República Democrática del Congo",
          "Irán",
          "Venezuela",
          "Francia",
          "Israel",
          "Italia",
          "Italia",
          "Brasil",
          "Irán",
          "México",
          "Francia",
          "Uganda",
          "Brasil",
          "China",
          "Francia",
          "Brasil",
          "Francia",
          "República Checa",
          "Reino Unido",
          "Francia",
          "Estados Unidos",
          "Georgia",
          "Italia",
          "Indonesia",
          "Francia",
          "Francia",
          "Arabia Saudí",
          "México",
          "Barbados",
          "Nigeria",
          "Estados Unidos",
          "México",
          "Somalia",
          "Estados Unidos",
          "Guatemala",
          "Alemania",
          "Níger",
          "Brasil",
          "Zimbabue",
          "Filipinas",
          "Turquía",
          "México",
          "India",
          "Estados Unidos",
          "Indonesia",
          "Estados Unidos",
          "Francia",
          "Estados Unidos",
          "Estados Unidos",
          "Mozambique",
          "Qatar",
          "Polonia",
          "Colombia",
          "Mozambique",
          "Bélgica",
          "Australia",
          "Francia",
          "España",
          "México",
          "Malasia",
          "Cuba",
          "Estados Unidos",
          "Canada",
          "Alemania",
          "Reino Unido",
          "India",
          "Brasil",
          "India",
          "Turquía",
          "Reino Unido",
          "Bélgica",
          "Francia",
          "Reino Unido",
          "Alemania",
          "México",
          "Francia",
          "Italia",
          "Brasil",
          "Francia",
          "México",
          "Francia",
          "Alemania",
          "Egipto",
          "Francia",
          "Afganistán",
          "Rumania",
          "Alemania",
          "Estados Unidos",
          "Colombia",
          "Reino Unido",
          "Alemania",
          "Francia",
          "Australia",
          "Noruega",
          "Alemania",
          "SudAfrica",
          "Indonesia",
          "Filipinas",
          "Canada",
          "Reino Unido",
          "Italia",
          "Brasil",
          "India",
          "China",
          "Reino Unido",
          "Francia",
          "Alemania",
          "Australia",
          "Reino Unido",
          "Turquía",
          "Estados Unidos",
          "Estados Unidos",
          "Francia",
          "China",
          "Alemania",
          "Marruecos",
          "China",
          "Brasil",
          "Argentina",
          "Francia",
          "Alemania",
          "Estados Unidos",
          "Reino Unido",
          "Reino Unido",
          "Nueva Zelanda",
          "Lituania",
          "Turquía",
          "Estados Unidos",
          "Reino Unido",
          "Estados Unidos",
          "Reino Unido",
          "Nueva Zelanda",
          "Estados Unidos",
          "India",
          "Estados Unidos",
          "India",
          "Australia",
          "Siria",
          "Francia",
          "República Democrática del Congo",
          "Portugal",
          "Italia",
          "Estados Unidos",
          "México",
          "Estados Unidos",
          "Estados Unidos",
          "Estados Unidos",
          "Italia",
          "Ghana",
          "Alemania",
          "Cuba",
          "Brasil",
          "Reino Unido",
          "Rusia",
          "Brasil",
          "China",
          "India",
          "Nigeria",
          "India",
          "Francia",
          "El Salvador",
          "Reino Unido",
          "Italia",
          "Guatemala",
          "Malasia",
          "Reino Unido",
          "Francia",
          "Australia",
          "Reino Unido",
          "Irán",
          "España",
          "Estados Unidos",
          "Brasil",
          "España",
          "Argentina",
          "Francia",
          "Estados Unidos",
          "Francia",
          "Mozambique",
          "China",
          "España",
          "Nigeria",
          "Estados Unidos",
          "China",
          "Turquía",
          "España",
          "Canada",
          "Canada",
          "Marruecos",
          "Polonia",
          "Alemania",
          "República Dominicana",
          "Australia",
          "Argentina",
          "Italia",
          "Italia",
          "Cuba",
          "Francia",
          "Kazajistán",
          "Italia",
          "Pakistán",
          "Alemania",
          "Italia",
          "Indonesia",
          "Estados Unidos",
          "Nueva Zelanda",
          "México",
          "Dinamarca",
          "Australia",
          "Ucrania",
          "Australia",
          "Noruega",
          "Francia",
          "Estados Unidos",
          "Corea del Sur",
          "China",
          "Estados Unidos",
          "Guatemala",
          "Reino Unido",
          "Estados Unidos",
          "Yemen",
          "México",
          "Nigeria",
          "India",
          "Francia",
          "México",
          "Italia",
          "Nigeria",
          "Francia",
          "Brasil",
          "Francia",
          "Reino Unido",
          "Francia",
          "Francia",
          "Malasia",
          "Estados Unidos",
          "Irán",
          "Brasil",
          "Brasil",
          "Brasil",
          "Mozambique",
          "Alemania",
          "Brasil",
          "China",
          "Alemania",
          "Estados Unidos",
          "Estados Unidos",
          "Estados Unidos",
          "Francia",
          "Reino Unido",
          "India",
          "Francia",
          "Kenia",
          "Kazajistán",
          "India",
          "Estados Unidos",
          "Estados Unidos",
          "Argentina",
          "Croacia",
          "Francia",
          "México",
          "India",
          "SudAfrica",
          "Brasil",
          "Alemania",
          "República Democrática del Congo",
          "España",
          "Reino Unido",
          "España",
          "Estados Unidos",
          "India",
          "Italia",
          "Francia",
          "Colombia",
          "Reino Unido",
          "Francia",
          "Estados Unidos",
          "Nigeria",
          "Francia",
          "India",
          "Países Bajos",
          "Corea del Sur",
          "Estados Unidos",
          "Francia",
          "Estados Unidos",
          "Filipinas",
          "Nigeria",
          "Chile",
          "India",
          "Japón",
          "Rusia",
          "Bolivia",
          "México",
          "Alemania",
          "Italia",
          "Francia",
          "Indonesia",
          "Reino Unido",
          "México",
          "Ucrania",
          "Tanzania",
          "Alemania",
          "Turquía",
          "Reino Unido",
          "Estados Unidos",
          "México",
          "Estados Unidos",
          "Polonia",
          "Rumania",
          "Colombia",
          "Italia",
          "Uruguay",
          "Filipinas",
          "Perú",
          "España",
          "Reino Unido",
          "Francia",
          "India",
          "España",
          "Chile",
          "España",
          "Estados Unidos",
          "Países Bajos",
          "Francia",
          "Francia",
          "Colombia",
          "Alemania",
          "India",
          "Francia",
          "Francia",
          "Francia",
          "Estados Unidos",
          "Haití",
          "India",
          "India",
          "Nigeria",
          "Ucrania",
          "Turquía",
          "Marruecos",
          "Francia",
          "Francia",
          "India",
          "Italia",
          "Francia",
          "Indonesia",
          "México",
          "Brasil",
          "Países Bajos",
          "Nueva Zelanda",
          "SudAfrica",
          "Indonesia",
          "Indonesia",
          "Indonesia",
          "Brasil",
          "Turquía",
          "SudAfrica",
          "Arabia Saudí",
          "Francia",
          "Australia",
          "México",
          "Estados Unidos",
          "Francia",
          "Reino Unido",
          "Irán",
          "Venezuela",
          "Israel",
          "Hungría",
          "Alemania",
          "Australia",
          "Alemania",
          "Argentina",
          "Francia",
          "Estados Unidos",
          "Países Bajos",
          "Indonesia",
          "China",
          "Alemania",
          "Italia",
          "Estados Unidos",
          "México",
          "Francia",
          "Francia",
          "Yibuti",
          "Brasil",
          "Suiza",
          "República Dominicana",
          "Estados Unidos",
          "Estados Unidos",
          "Turquía",
          "Angola",
          "México",
          "Francia",
          "Colombia",
          "India",
          "China",
          "Australia",
          "Brasil",
          "Estados Unidos",
          "Francia",
          "Bielorrusia",
          "Francia",
          "Francia",
          "Estados Unidos",
          "Estados Unidos",
          "Turquía",
          "España",
          "Francia",
          "Francia",
          "Estados Unidos",
          "Irán",
          "India",
          "Brasil",
          "Brasil",
          "Cuba",
          "Estados Unidos",
          "Alemania",
          "Ucrania",
          "Brasil",
          "India",
          "Bolivia",
          "Indonesia",
          "Francia",
          "Brasil",
          "Alemania",
          "Francia",
          "Turquía",
          "República Democrática del Congo",
          "China",
          "China",
          "Venezuela",
          "Brasil",
          "Alemania",
          "Rumania",
          "Estados Unidos",
          "Francia",
          "Brasil",
          "Canada",
          "Francia",
          "Brasil",
          "Nueva Zelanda",
          "Perú",
          "Irán",
          "Italia",
          "Francia",
          "Francia",
          "Francia",
          "Turquía",
          "Brasil",
          "India",
          "Francia",
          "México",
          "México",
          "España",
          "Alemania",
          "Argelia",
          "Italia",
          "Francia",
          "Francia",
          "Reino Unido",
          "Uzbekistán",
          "Nepal",
          "Estados Unidos",
          "Marruecos",
          "Francia",
          "Italia",
          "Cuba",
          "China",
          "Bielorrusia",
          "Corea del Sur",
          "Canada",
          "Malasia",
          "Israel",
          "Ucrania",
          "Estados Unidos",
          "Argentina",
          "Turquía",
          "Turquía",
          "Suecia",
          "Brasil",
          "Estados Unidos",
          "Brasil",
          "Reino Unido",
          "Camerún",
          "India",
          "Senegal",
          "España",
          "Reino Unido",
          "China",
          "Corea del Sur",
          "Estados Unidos",
          "Nueva Zelanda",
          "Costa de Marfil",
          "Pakistán",
          "Italia",
          "Finlandia",
          "Venezuela",
          "Polonia",
          "Alemania",
          "Reino Unido",
          "Francia",
          "Brasil",
          "Turquía",
          "Francia",
          "República Dominicana",
          "Turquía",
          "Reino Unido",
          "Alemania",
          "Reino Unido",
          "Brasil",
          "Francia",
          "India",
          "Colombia",
          "Países Bajos",
          "Francia",
          "India",
          "Francia",
          "Italia",
          "Rusia",
          "Francia",
          "Francia",
          "Países Bajos",
          "Francia",
          "Estados Unidos",
          "Francia",
          "México",
          "China",
          "Italia",
          "Brasil",
          "Alemania",
          "Reino Unido",
          "Togo",
          "Francia",
          "Brasil",
          "Tanzania",
          "Francia",
          "Reino Unido",
          "Brasil",
          "Japón",
          "Francia",
          "Estados Unidos",
          "Francia",
          "Australia",
          "Pakistán",
          "Alemania",
          "China",
          "Nueva Zelanda",
          "Moldavia",
          "Francia",
          "Reino Unido",
          "Estados Unidos",
          "Nigeria",
          "Brasil",
          "Francia",
          "Chile",
          "España",
          "Reino Unido",
          "Estados Unidos",
          "Países Bajos",
          "Reino Unido",
          "Nigeria",
          "Estados Unidos",
          "Bélgica",
          "Argelia",
          "Italia",
          "Francia",
          "Mauritania",
          "Bolivia",
          "Italia",
          "Alemania",
          "Estados Unidos",
          "Reino Unido",
          "Suiza",
          "India",
          "Canada",
          "China",
          "India",
          "Países Bajos",
          "Italia",
          "Australia",
          "Malasia",
          "Reino Unido",
          "Francia",
          "Alemania",
          "Somalia",
          "India",
          "Estados Unidos",
          "Reino Unido",
          "Italia",
          "Países Bajos",
          "Estados Unidos",
          "China",
          "India",
          "Brasil",
          "España",
          "Cuba",
          "Reino Unido",
          "Reino Unido",
          "Francia",
          "México",
          "Francia",
          "Filipinas",
          "Reino Unido",
          "Francia",
          "Brasil",
          "Noruega",
          "Rusia",
          "México",
          "México",
          "Países Bajos",
          "México",
          "Rusia",
          "Reino Unido",
          "Francia",
          "Países Bajos",
          "Francia",
          "Francia",
          "Francia",
          "Estados Unidos",
          "India",
          "Francia",
          "Venezuela",
          "China",
          "España",
          "Estados Unidos",
          "Polonia",
          "Túnez",
          "Francia",
          "Reino Unido",
          "México",
          "España",
          "Estados Unidos",
          "Argelia",
          "Francia",
          "Australia",
          "Níger",
          "España",
          "Francia",
          "Francia",
          "China",
          "Venezuela",
          "Reino Unido",
          "Indonesia",
          "Francia",
          "China",
          "Siria",
          "Francia",
          "Estados Unidos",
          "Arabia Saudí",
          "Kazajistán",
          "Estados Unidos",
          "Guinea",
          "India",
          "Argelia",
          "Malasia",
          "Brasil",
          "Italia",
          "Indonesia",
          "Italia",
          "Francia",
          "Alemania",
          "Brasil",
          "Argelia",
          "Perú",
          "Corea del Sur",
          "Francia",
          "Italia",
          "Países Bajos",
          "Chile",
          "Reino Unido",
          "Estados Unidos",
          "Estados Unidos",
          "Bangladés",
          "Rumania",
          "Francia",
          "China",
          "Rumania",
          "Australia",
          "Australia",
          "Colombia",
          "Italia",
          "Canada",
          "Francia",
          "Francia",
          "Cuba",
          "China",
          "Estados Unidos",
          "Francia",
          "Francia",
          "Brasil",
          "Australia",
          "Irán",
          "Austria",
          "India",
          "República Democrática del Congo",
          "Canada",
          "Portugal",
          "Estados Unidos",
          "Turquía",
          "Filipinas",
          "Suecia",
          "Reino Unido",
          "Alemania",
          "China",
          "Ucrania",
          "Estados Unidos",
          "Rumania",
          "Alemania",
          "Indonesia",
          "Alemania",
          "Cuba",
          "China",
          "Japón",
          "Rumania",
          "Nueva Zelanda",
          "Brasil",
          "Francia",
          "Estados Unidos",
          "Reino Unido",
          "China",
          "China",
          "España",
          "España",
          "Malasia",
          "Perú",
          "Australia",
          "Venezuela",
          "España",
          "Brasil",
          "Italia",
          "Nigeria",
          "Uzbekistán",
          "Indonesia",
          "Brasil",
          "Turquía",
          "Estados Unidos",
          "Suiza",
          "Italia",
          "Argentina",
          "España",
          "Reino Unido",
          "México",
          "Alemania",
          "México",
          "Venezuela",
          "Francia",
          "Suecia",
          "México",
          "Estados Unidos",
          "Reino Unido",
          "Indonesia",
          "Italia",
          "Turquía",
          "Francia",
          "Estados Unidos",
          "Sudán",
          "Irak",
          "China",
          "China",
          "China",
          "México",
          "Reino Unido",
          "Angola",
          "Venezuela",
          "Estados Unidos",
          "India",
          "Arabia Saudí",
          "Estados Unidos",
          "Alemania",
          "Argentina",
          "Estados Unidos",
          "Francia",
          "República Checa",
          "China",
          "Montenegro",
          "Italia",
          "Estados Unidos",
          "India",
          "India",
          "Estados Unidos",
          "Brasil",
          "China",
          "Turquía",
          "Alemania",
          "India",
          "Francia",
          "Francia",
          "India",
          "Corea del Sur",
          "Rusia",
          "Estados Unidos",
          "Estados Unidos",
          "España",
          "Estados Unidos",
          "Malasia",
          "Dinamarca",
          "República Democrática del Congo",
          "Australia",
          "India",
          "Italia",
          "Francia",
          "Países Bajos",
          "Estados Unidos",
          "Estados Unidos",
          "Francia",
          "Brasil",
          "Francia",
          "Japón",
          "Perú",
          "Francia",
          "India",
          "Francia",
          "Estados Unidos",
          "Brasil",
          "Estados Unidos",
          "España",
          "Alemania",
          "Estados Unidos",
          "Irán",
          "Brasil",
          "China",
          "Alemania",
          "Turquía",
          "Países Bajos",
          "Corea del Sur",
          "Turquía",
          "Francia",
          "China",
          "India",
          "Estados Unidos",
          "Estados Unidos",
          "España",
          "China",
          "México",
          "Italia",
          "Rusia",
          "Estados Unidos",
          "India",
          "Canada",
          "India",
          "Venezuela",
          "Brasil",
          "Turquía",
          "Francia",
          "Italia",
          "Filipinas",
          "Somalia",
          "Brasil",
          "Australia",
          "Francia",
          "Estados Unidos",
          "China",
          "Francia",
          "Italia",
          "Alemania",
          "Japón",
          "Brasil",
          "Estados Unidos",
          "Reino Unido",
          "Alemania",
          "Uganda",
          "India",
          "Francia",
          "Turquía",
          "Argentina",
          "Australia",
          "Brasil",
          "Noruega",
          "Estados Unidos",
          "India",
          "México",
          "Rumania",
          "Ucrania",
          "Irán",
          "México",
          "Arabia Saudí",
          "China",
          "Francia",
          "Suiza",
          "Estados Unidos",
          "Brasil",
          "Brasil",
          "España",
          "Brasil",
          "Pakistán",
          "Francia",
          "Colombia",
          "Francia",
          "Estados Unidos",
          "Suiza",
          "China",
          "Estados Unidos",
          "Reino Unido",
          "Japón",
          "India",
          "Francia",
          "Canada",
          "Tanzania",
          "Ucrania",
          "Estados Unidos",
          "Brasil",
          "Brasil",
          "Marruecos",
          "Alemania",
          "Argelia",
          "Estados Unidos",
          "Argentina",
          "Brasil",
          "Marruecos",
          "China",
          "Rusia",
          "Francia",
          "España",
          "Brasil",
          "Cuba",
          "Francia",
          "Australia",
          "Venezuela",
          "China",
          "México",
          "España",
          "Francia",
          "Estados Unidos",
          "Malasia",
          "Venezuela",
          "Estados Unidos",
          "Francia",
          "Nueva Zelanda",
          "Italia",
          "China",
          "Estados Unidos",
          "Reino Unido",
          "Madagascar",
          "Rusia",
          "Francia",
          "Estados Unidos",
          "Estados Unidos",
          "Estados Unidos",
          "México",
          "Estados Unidos",
          "Brasil",
          "Pakistán",
          "Reino Unido",
          "Francia",
          "Turquía",
          "Austria",
          "Estados Unidos",
          "Francia",
          "Alemania",
          "Francia",
          "Canada",
          "Turquía",
          "SudAfrica",
          "Alemania",
          "Nueva Zelanda",
          "Estados Unidos",
          "Francia",
          "India",
          "Francia",
          "Italia",
          "China",
          "Finlandia",
          "China",
          "Países Bajos",
          "Ucrania",
          "Estados Unidos",
          "Estados Unidos",
          "Irán",
          "Reino Unido",
          "Estados Unidos",
          "Brasil",
          "Brasil",
          "India",
          "Alemania",
          "Brasil",
          "Brasil",
          "Reino Unido",
          "Turquía",
          "Uzbekistán",
          "Reino Unido",
          "Colombia",
          "China",
          "Irán",
          "Canada",
          "Francia",
          "Brasil",
          "Alemania",
          "Estados Unidos",
          "Nueva Zelanda",
          "Egipto",
          "Estados Unidos",
          "Estados Unidos",
          "Turquía",
          "España",
          "Francia",
          "Brasil",
          "Vietnam",
          "Polonia",
          "Irán",
          "Bolivia",
          "Estados Unidos",
          "Irán",
          "Afganistán",
          "Irán",
          "Nueva Zelanda",
          "China",
          "Estados Unidos",
          "Estados Unidos",
          "Canada",
          "Canada",
          "República Centroafricana",
          "Nigeria",
          "Estados Unidos",
          "Francia",
          "Reino Unido",
          "China",
          "Colombia",
          "Pakistán",
          "Brasil",
          "Brasil",
          "Venezuela",
          "Reino Unido",
          "Italia",
          "Estados Unidos",
          "Rumania",
          "Argelia",
          "Brasil",
          "Estados Unidos",
          "México",
          "India",
          "Indonesia",
          "Polonia",
          "Estados Unidos",
          "México",
          "Uruguay",
          "Venezuela",
          "India",
          "Alemania",
          "China",
          "Rumania",
          "Turquía",
          "Egipto",
          "India",
          "Turkmenistán",
          "India",
          "Indonesia",
          "Perú",
          "México",
          "Argelia",
          "Tanzania",
          "España",
          "China",
          "Estados Unidos",
          "Estados Unidos",
          "Estados Unidos",
          "Guadalupe",
          "Alemania",
          "España",
          "China",
          "India",
          "Rusia",
          "Indonesia",
          "Reino Unido",
          "Nigeria",
          "México",
          "Alemania",
          "Irak",
          "Reino Unido",
          "Irán",
          "China",
          "Mali",
          "Bielorrusia",
          "Brasil",
          "Ucrania",
          "Azerbaiyán",
          "México",
          "Brasil",
          "Brasil",
          "Canada",
          "Kenia",
          "China",
          "Francia",
          "Chile",
          "Francia",
          "China",
          "Brasil",
          "Brasil",
          "Francia",
          "Polonia",
          "China",
          "Estados Unidos",
          "India",
          "Brasil",
          "Francia",
          "Botsuana",
          "Filipinas",
          "Alemania",
          "Francia",
          "Estados Unidos",
          "Francia",
          "Francia",
          "China",
          "Brasil",
          "Francia",
          "Pakistán",
          "Países Bajos",
          "Italia",
          "Brasil",
          "China",
          "Estados Unidos",
          "Benín",
          "Reino Unido",
          "Reino Unido",
          "México",
          "Estados Unidos",
          "Estados Unidos",
          "Estados Unidos",
          "Venezuela",
          "China",
          "Rusia",
          "India",
          "Estados Unidos",
          "España",
          "Alemania",
          "Estados Unidos",
          "Estados Unidos",
          "Estados Unidos",
          "Israel",
          "Filipinas",
          "Brasil",
          "Francia",
          "Polonia",
          "Polonia",
          "Canada",
          "Reino Unido",
          "Reino Unido",
          "España",
          "Estados Unidos",
          "Nueva Zelanda",
          "España",
          "Ucrania",
          "Francia",
          "Italia",
          "China",
          "Italia",
          "Estados Unidos",
          "España",
          "Polonia",
          "Estados Unidos",
          "Francia",
          "Filipinas",
          "Egipto",
          "China",
          "Francia",
          "Brasil",
          "Francia",
          "Francia",
          "Australia",
          "India",
          "Turquía",
          "Nigeria",
          "México",
          "Perú",
          "Rumania",
          "Mozambique",
          "Kazajistán",
          "Portugal",
          "Turkmenistán",
          "Benín",
          "Estados Unidos",
          "Francia",
          "Brasil",
          "Francia",
          "China",
          "Estados Unidos",
          "España",
          "Alemania",
          "China",
          "Estados Unidos",
          "Reino Unido",
          "Polonia",
          "Líbano",
          "Japón",
          "Brasil",
          "Estados Unidos",
          "Brasil",
          "China",
          "Dinamarca",
          "Italia",
          "Brasil",
          "Italia",
          "Pakistán",
          "Australia",
          "Brasil",
          "Italia",
          "China",
          "Sudán",
          "Estados Unidos",
          "Tanzania",
          "Alemania",
          "Estados Unidos",
          "Mozambique",
          "Francia",
          "Camerún",
          "Alemania",
          "Camerún",
          "Italia",
          "Estados Unidos",
          "India",
          "Francia",
          "Alemania",
          "Kazajistán",
          "Reino Unido",
          "Francia",
          "Estados Unidos",
          "Italia",
          "Francia",
          "Estados Unidos",
          "Francia",
          "Países Bajos",
          "Francia",
          "Reino Unido",
          "Nigeria",
          "Estados Unidos",
          "Estados Unidos",
          "China",
          "India",
          "Zambia",
          "China",
          "Países Bajos",
          "Brasil",
          "China",
          "España",
          "Bolivia",
          "Estados Unidos",
          "China",
          "Uganda",
          "Rusia",
          "Canada",
          "Países Bajos",
          "Argentina",
          "Brasil",
          "Estados Unidos",
          "Estados Unidos",
          "Estados Unidos",
          "Francia",
          "Italia",
          "India",
          "Venezuela",
          "India",
          "Turquía",
          "Nigeria",
          "Estados Unidos",
          "Reino Unido",
          "Venezuela",
          "China",
          "Estados Unidos",
          "Reino Unido",
          "Países Bajos",
          "Irán",
          "China",
          "Estados Unidos",
          "Estados Unidos",
          "Francia",
          "Francia",
          "Italia",
          "Guyana",
          "Estados Unidos",
          "Reino Unido",
          "Austria",
          "China",
          "Rusia",
          "India",
          "SudAfrica",
          "España",
          "España",
          "Reino Unido",
          "Turquía",
          "Francia",
          "India",
          "Vietnam",
          "Alemania",
          "Estados Unidos",
          "Colombia",
          "México",
          "Argentina",
          "Suecia",
          "Namibia",
          "India",
          "Japón",
          "China",
          "Estados Unidos",
          "Francia",
          "Israel",
          "Francia",
          "Estados Unidos",
          "Argelia",
          "Nigeria",
          "China",
          "SudAfrica",
          "Brasil",
          "India",
          "Irán",
          "SudAfrica",
          "Brasil",
          "Rusia",
          "Turquía",
          "Japón",
          "SudAfrica",
          "Lesoto",
          "Francia",
          "Luxemburgo",
          "Estados Unidos",
          "Francia",
          "Estados Unidos",
          "China",
          "Turquía",
          "Irán",
          "Francia",
          "Estados Unidos",
          "Francia",
          "Turquía",
          "Francia",
          "Francia",
          "Brasil",
          "Irlanda",
          "Reino Unido",
          "Estados Unidos",
          "Egipto",
          "Colombia",
          "Reino Unido",
          "Estados Unidos",
          "Venezuela",
          "Colombia",
          "China",
          "Hungría",
          "Francia",
          "Francia",
          "China",
          "República Democrática del Congo",
          "México",
          "Países Bajos",
          "China",
          "Estados Unidos",
          "Noruega",
          "Alemania",
          "Reino Unido",
          "Bangladés",
          "Emiratos Árabes Unidos",
          "Brasil",
          "Estados Unidos",
          "Brasil",
          "Japón",
          "Estados Unidos",
          "India",
          "Sri Lanka",
          "Canada",
          "Australia",
          "Israel",
          "México",
          "Japón",
          "Francia",
          "India",
          "China",
          "México",
          "India",
          "Rumania",
          "Tanzania",
          "Argelia",
          "Albania",
          "India",
          "Turquía",
          "Lituania",
          "Estados Unidos",
          "Polonia",
          "Estados Unidos",
          "Brasil",
          "Estados Unidos",
          "China",
          "Italia",
          "Etiopía",
          "México",
          "Lituania",
          "Ecuador",
          "Italia",
          "Estados Unidos",
          "México",
          "Argentina",
          "Francia",
          "Estados Unidos",
          "Italia",
          "Brasil",
          "India",
          "Colombia",
          "Francia",
          "Países Bajos",
          "SudAfrica",
          "Alemania",
          "Francia",
          "República Democrática del Congo",
          "Rumania",
          "Polonia",
          "India",
          "China",
          "Estados Unidos",
          "Pakistán",
          "Estados Unidos",
          "Brasil",
          "Afganistán",
          "Venezuela",
          "Brasil",
          "China",
          "Francia",
          "Francia",
          "Francia",
          "Togo",
          "Canada",
          "Italia",
          "Países Bajos",
          "Panamá",
          "Francia",
          "China",
          "China",
          "China",
          "Francia",
          "Estados Unidos",
          "Francia",
          "Estados Unidos",
          "Alemania",
          "Nueva Zelanda",
          "Francia",
          "Cuba",
          "China",
          "Alemania",
          "SudAfrica",
          "Mali",
          "Arabia Saudí",
          "Francia",
          "Rusia",
          "Australia",
          "Francia",
          "Estados Unidos",
          "Japón",
          "Estados Unidos",
          "Italia",
          "Francia",
          "Ucrania",
          "Turquía",
          "Países Bajos",
          "Estados Unidos",
          "Brasil",
          "Turquía",
          "China",
          "Reino Unido",
          "España",
          "México",
          "Turquía",
          "México",
          "Estados Unidos",
          "Francia",
          "Italia",
          "Estados Unidos",
          "Francia",
          "Kazajistán",
          "Italia",
          "Chile",
          "Estados Unidos",
          "España",
          "Alemania",
          "Brasil",
          "Indonesia",
          "Estados Unidos",
          "Brasil",
          "Alemania",
          "Albania",
          "Francia",
          "Francia",
          "Francia",
          "Francia",
          "Estados Unidos",
          "Venezuela",
          "Alemania",
          "Kirguistán",
          "Estados Unidos",
          "Francia",
          "India",
          "Croacia",
          "Zambia",
          "Benín",
          "Estados Unidos",
          "Alemania",
          "Ucrania",
          "Estados Unidos",
          "Estados Unidos",
          "Chile",
          "Países Bajos",
          "Francia",
          "España",
          "Francia",
          "Reino Unido",
          "Argelia",
          "Francia",
          "Brasil",
          "Francia",
          "Estados Unidos",
          "India",
          "Alemania",
          "Camerún",
          "Francia",
          "Brasil",
          "India",
          "Países Bajos",
          "Irán",
          "Brasil",
          "Estados Unidos",
          "Estados Unidos",
          "Estados Unidos",
          "India",
          "Brasil",
          "Francia",
          "Estados Unidos",
          "Zimbabue",
          "Canada",
          "SudAfrica",
          "China",
          "Francia",
          "China",
          "Colombia",
          "México",
          "Japón",
          "Estados Unidos",
          "Turquía",
          "China",
          "Estados Unidos",
          "Australia",
          "Francia",
          "Irak",
          "Países Bajos",
          "Bélgica",
          "Francia",
          "China",
          "Italia",
          "Italia",
          "Estados Unidos",
          "Suiza",
          "Países Bajos",
          "Chipre",
          "Venezuela",
          "Turquía",
          "Colombia",
          "Estados Unidos",
          "Estados Unidos",
          "Argentina",
          "Brasil",
          "Reino Unido",
          "Francia",
          "Turquía",
          "Francia",
          "Gabón",
          "Francia",
          "Brasil",
          "Estados Unidos",
          "Uruguay",
          "Colombia",
          "Estados Unidos",
          "Estados Unidos",
          "Francia",
          "Estados Unidos",
          "Rusia",
          "Rumania",
          "Sudán",
          "Nigeria",
          "Finlandia",
          "Alemania",
          "Irán",
          "Francia",
          "Estados Unidos",
          "Francia",
          "India",
          "Estados Unidos",
          "Italia",
          "Reino Unido",
          "Reino Unido",
          "India",
          "Rumania",
          "Turquía",
          "Estados Unidos",
          "China",
          "Brasil",
          "Estados Unidos",
          "Emiratos Árabes Unidos",
          "Rusia",
          "Reino Unido",
          "Zambia",
          "Estados Unidos",
          "Países Bajos",
          "Estados Unidos",
          "Bangladés",
          "Francia",
          "Colombia",
          "Irak",
          "Rusia",
          "Estados Unidos",
          "Estados Unidos",
          "Brasil",
          "Irán",
          "Estados Unidos",
          "Italia",
          "Colombia",
          "Brasil",
          "Brasil",
          "Alemania",
          "China",
          "Rumania",
          "Turquía",
          "Brasil",
          "Argentina",
          "Francia",
          "Níger",
          "Nueva Zelanda",
          "Turquía",
          "Canada",
          "Rumania",
          "Reino Unido",
          "Estados Unidos",
          "Estados Unidos",
          "Burkina Faso",
          "India",
          "Suecia",
          "China",
          "Francia",
          "Indonesia",
          "Chile",
          "Bélgica",
          "China",
          "Italia",
          "Estados Unidos",
          "China",
          "India",
          "Países Bajos",
          "Indonesia",
          "Albania",
          "China",
          "Corea del Sur",
          "Estados Unidos",
          "China",
          "Francia",
          "Zambia",
          "India",
          "Eslovaquia",
          "República Democrática del Congo",
          "Francia",
          "Estados Unidos",
          "Estados Unidos",
          "Francia",
          "Estados Unidos",
          "Estados Unidos",
          "Estados Unidos",
          "España",
          "Perú",
          "Estados Unidos",
          "Brasil",
          "Ghana",
          "Bélgica",
          "Polonia",
          "Estados Unidos",
          "Turquía",
          "Costa de Marfil",
          "Países Bajos",
          "Colombia",
          "Croacia",
          "China",
          "Estados Unidos",
          "Japón",
          "Camerún",
          "Argelia",
          "Colombia",
          "Japón",
          "SudAfrica",
          "Portugal",
          "Brasil",
          "Brasil",
          "Ucrania",
          "Indonesia",
          "Uruguay",
          "China",
          "India",
          "Egipto",
          "Estados Unidos",
          "India",
          "Francia",
          "India",
          "Francia",
          "Turquía",
          "Japón",
          "Estados Unidos",
          "Nigeria",
          "Reino Unido",
          "Estados Unidos",
          "China",
          "Alemania",
          "Brasil",
          "Estados Unidos",
          "Italia",
          "China",
          "Sierra Leona",
          "Colombia",
          "Canada",
          "Malasia",
          "China",
          "Estados Unidos",
          "Estados Unidos",
          "Alemania",
          "Egipto",
          "Francia",
          "Chile",
          "Francia",
          "Estados Unidos",
          "China",
          "Brasil",
          "SudAfrica",
          "China",
          "Ucrania",
          "Estados Unidos",
          "India",
          "China",
          "Brasil",
          "Estados Unidos",
          "Italia",
          "Brasil",
          "Suazilandia",
          "Francia",
          "Filipinas",
          "Guinea",
          "Argelia",
          "Estados Unidos",
          "Brasil",
          "Israel",
          "China",
          "Estados Unidos",
          "Irán",
          "Colombia",
          "Venezuela",
          "Turquía",
          "Ucrania",
          "Estados Unidos",
          "México",
          "Bielorrusia",
          "Irán",
          "Estados Unidos",
          "España",
          "Hong Kong",
          "España",
          "Libia",
          "Reino Unido",
          "Estados Unidos",
          "Estados Unidos",
          "Alemania",
          "Brasil",
          "Zimbabue",
          "Japón",
          "Italia",
          "China",
          "Costa de Marfil",
          "Italia",
          "Francia",
          "Estados Unidos",
          "Japón",
          "Estados Unidos",
          "Reino Unido",
          "India",
          "Australia",
          "Bélgica",
          "Guinea",
          "México",
          "China",
          "Marruecos",
          "Perú",
          "Uzbekistán",
          "Francia",
          "Brasil",
          "Alemania",
          "Turquía",
          "España",
          "Reino Unido",
          "Estados Unidos",
          "Australia",
          "Irán",
          "Estados Unidos",
          "Brasil",
          "China",
          "Ucrania",
          "Estados Unidos",
          "Angola",
          "Francia",
          "Rusia",
          "Brasil",
          "Ecuador",
          "China",
          "Estados Unidos",
          "Indonesia",
          "Rumania",
          "Brasil",
          "Brasil",
          "Mozambique",
          "China",
          "Francia",
          "Ucrania",
          "Brasil",
          "Turquía",
          "Nigeria",
          "Egipto",
          "China",
          "España",
          "Kazajistán",
          "Irán",
          "Camerún",
          "China",
          "México",
          "Dinamarca",
          "España",
          "Chile",
          "Brasil",
          "Reino Unido",
          "Estados Unidos",
          "China",
          "Alemania",
          "Ucrania",
          "Estados Unidos",
          "Venezuela",
          "Francia",
          "Egipto",
          "Angola",
          "Estados Unidos",
          "Rusia",
          "Francia",
          "Italia",
          "Portugal",
          "Brasil",
          "Estados Unidos",
          "Turquía",
          "Reino Unido",
          "Rusia",
          "Japón",
          "Noruega",
          "Reino Unido",
          "Canada",
          "Brasil",
          "Uzbekistán",
          "Guatemala",
          "Francia",
          "Reino Unido",
          "Estados Unidos",
          "Chile",
          "Estados Unidos",
          "Estados Unidos",
          "Francia",
          "República Checa",
          "Alemania",
          "Estados Unidos",
          "Corea del Sur",
          "India",
          "Brasil",
          "Japón",
          "India",
          "China",
          "Turquía",
          "Albania",
          "Alemania",
          "Francia",
          "Francia",
          "Estados Unidos",
          "México",
          "Reino Unido",
          "Francia",
          "Guatemala",
          "China",
          "Turquía",
          "China",
          "Venezuela",
          "Argentina",
          "Marruecos",
          "Estados Unidos",
          "Bélgica",
          "China",
          "Colombia",
          "Brasil",
          "Estados Unidos",
          "Marruecos",
          "Turquía",
          "Nigeria",
          "China",
          "Francia",
          "Francia",
          "Estados Unidos",
          "Madagascar",
          "China",
          "Argentina",
          "Alemania",
          "Reino Unido",
          "Paraguay",
          "Estados Unidos",
          "Suiza",
          "República Dominicana",
          "España",
          "China",
          "México",
          "Turquía",
          "Reino Unido",
          "Omán",
          "Estados Unidos",
          "Kazajistán",
          "Perú",
          "Rumania",
          "China",
          "China",
          "Egipto",
          "Italia",
          "Reino Unido",
          "Reino Unido",
          "Marruecos",
          "Estados Unidos",
          "India",
          "Estados Unidos",
          "Estados Unidos",
          "Canada",
          "Marruecos",
          "Francia",
          "Estados Unidos",
          "China",
          "Francia",
          "Estados Unidos",
          "China",
          "Estados Unidos",
          "México",
          "Alemania",
          "Francia",
          "Ucrania",
          "Estados Unidos",
          "Estados Unidos",
          "Irán",
          "Francia",
          "SudAfrica",
          "Ucrania",
          "Alemania",
          "SudAfrica",
          "Brasil",
          "República Checa",
          "Costa Rica",
          "Estados Unidos",
          "Estados Unidos",
          "Perú",
          "Brasil",
          "Francia",
          "Venezuela",
          "Estados Unidos",
          "Benín",
          "Reino Unido",
          "Japón",
          "Macedonia",
          "Brasil",
          "Francia",
          "Colombia",
          "Francia",
          "Canada",
          "Estados Unidos",
          "Tayikistán",
          "China",
          "China",
          "China",
          "Estados Unidos",
          "Perú",
          "Estados Unidos",
          "Estados Unidos",
          "Francia",
          "Chile",
          "Irlanda",
          "Estados Unidos",
          "Reino Unido",
          "Brasil",
          "Irán",
          "Kazajistán",
          "Brasil",
          "Ucrania",
          "Tanzania",
          "China",
          "Portugal",
          "Benín",
          "Perú",
          "Filipinas",
          "Brasil",
          "Bélgica",
          "Chile",
          "Italia",
          "Estados Unidos",
          "Pakistán",
          "Brasil",
          "Estados Unidos",
          "Francia",
          "Egipto",
          "Francia",
          "Canada",
          "Polonia",
          "Bulgaria",
          "China",
          "Estados Unidos",
          "Libia",
          "Marruecos",
          "Estados Unidos",
          "China",
          "Camerún",
          "Suecia",
          "Estados Unidos",
          "Países Bajos",
          "España",
          "China",
          "Italia",
          "Estados Unidos",
          "Italia",
          "Brasil",
          "República Democrática del Congo",
          "Turquía",
          "México",
          "Estados Unidos",
          "China",
          "Turquía",
          "Francia",
          "Estados Unidos",
          "Estados Unidos",
          "Alemania",
          "China",
          "Estados Unidos",
          "Italia",
          "Alemania",
          "México",
          "República del Congo",
          "Brasil",
          "Estados Unidos",
          "Turquía",
          "Países Bajos",
          "Estados Unidos",
          "Estados Unidos",
          "Sudán del Sur",
          "Francia",
          "Portugal",
          "Brasil",
          "Estados Unidos",
          "China",
          "Francia",
          "Países Bajos",
          "Alemania",
          "Reino Unido",
          "Brasil",
          "Alemania",
          "Polonia",
          "Níger",
          "Turquía",
          "Ucrania",
          "Argentina",
          "India",
          "Brasil",
          "Francia",
          "Francia",
          "China",
          "Francia",
          "Brasil",
          "Estados Unidos",
          "Estados Unidos",
          "Australia",
          "Nigeria",
          "China",
          "Líbano",
          "Italia",
          "SudAfrica",
          "Estados Unidos",
          "México",
          "Bután",
          "Canada",
          "Francia",
          "Reino Unido",
          "Estados Unidos",
          "Francia",
          "China",
          "Turquía",
          "Reino Unido",
          "Estados Unidos",
          "Grecia",
          "Estados Unidos",
          "Australia",
          "Zambia",
          "Estados Unidos",
          "Rumania",
          "Eslovaquia",
          "Japón",
          "Francia",
          "Ucrania",
          "Francia",
          "Nueva Zelanda",
          "Egipto",
          "Estados Unidos",
          "Camerún",
          "Croacia",
          "Reino Unido",
          "Canada",
          "Brasil",
          "Turquía",
          "Paraguay",
          "Francia",
          "España",
          "Irán",
          "India",
          "Francia",
          "Estados Unidos",
          "Brasil",
          "Mozambique",
          "Reino Unido",
          "China",
          "Ucrania",
          "Francia",
          "Francia",
          "Brasil",
          "SudAfrica",
          "Brasil",
          "Alemania",
          "Liberia",
          "Francia",
          "China",
          "Italia",
          "Brasil",
          "China",
          "Estados Unidos",
          "Nueva Zelanda",
          "Reino Unido",
          "Estados Unidos",
          "Brasil",
          "Estados Unidos",
          "Turquía",
          "Reino Unido",
          "Estados Unidos",
          "Chile",
          "Irán",
          "Brasil",
          "Albania",
          "China",
          "Alemania",
          "Polonia",
          "Estados Unidos",
          "México",
          "España",
          "Estados Unidos",
          "Francia",
          "Tailandia",
          "India",
          "China",
          "Argelia",
          "España",
          "Brasil",
          "Polonia",
          "Nueva Zelanda",
          "Francia",
          "India",
          "Brasil",
          "Italia",
          "Estados Unidos",
          "Francia",
          "Francia",
          "Reino Unido",
          "Paraguay",
          "India",
          "México",
          "Turquía",
          "Ucrania",
          "Italia",
          "Tanzania",
          "Polonia",
          "China",
          "Francia",
          "Países Bajos",
          "Estados Unidos",
          "España",
          "Brasil",
          "Benín",
          "Turquía",
          "Estados Unidos",
          "Países Bajos",
          "Brasil",
          "Estados Unidos",
          "Reino Unido",
          "Rumania",
          "Costa de Marfil",
          "Estados Unidos",
          "Brasil",
          "Alemania",
          "Canada",
          "Países Bajos",
          "Francia",
          "Estados Unidos",
          "Portugal",
          "España",
          "Francia",
          "Turquía",
          "Ucrania",
          "Israel",
          "Colombia",
          "India",
          "China",
          "Israel",
          "Estados Unidos",
          "Costa de Marfil",
          "Estados Unidos",
          "India",
          "Estados Unidos",
          "Indonesia",
          "Bulgaria",
          "Francia",
          "Francia",
          "Brasil",
          "Alemania",
          "Brasil",
          "Estados Unidos",
          "Italia",
          "China",
          "Brasil",
          "Siria",
          "Brasil",
          "Brasil",
          "Estados Unidos",
          "Estados Unidos",
          "Rusia",
          "Reino Unido",
          "Estados Unidos",
          "Nueva Zelanda",
          "China",
          "Reino Unido",
          "Francia",
          "Reino Unido",
          "Bolivia",
          "India",
          "Estados Unidos",
          "Surinam",
          "Irán",
          "China",
          "Irán",
          "Argelia",
          "Estados Unidos",
          "Rusia",
          "Egipto",
          "SudAfrica",
          "China",
          "Brasil",
          "Estados Unidos",
          "Senegal",
          "Alemania",
          "Baréin",
          "Alemania",
          "Irán",
          "República Checa",
          "Argentina",
          "Marruecos",
          "Brasil",
          "Estados Unidos",
          "Italia",
          "Japón",
          "Corea del Sur",
          "Bolivia",
          "Estados Unidos",
          "Japón",
          "Francia",
          "Egipto",
          "Estados Unidos",
          "Irán",
          "Colombia",
          "Reino Unido",
          "Francia",
          "Argelia",
          "Francia",
          "Francia",
          "Reino Unido",
          "México",
          "Japón",
          "India",
          "India",
          "Colombia",
          "Países Bajos",
          "Alemania",
          "Bulgaria",
          "China",
          "Rusia",
          "China",
          "Francia",
          "Estados Unidos",
          "Estados Unidos",
          "Reino Unido",
          "China",
          "Francia",
          "Estados Unidos",
          "Madagascar",
          "Bélgica",
          "Kuwait",
          "Países Bajos",
          "Alemania",
          "India",
          "Japón",
          "India",
          "Alemania",
          "Bosnia y Herzegovina",
          "India",
          "Egipto",
          "Bulgaria",
          "Francia",
          "Italia",
          "España",
          "Canada",
          "Colombia",
          "Francia",
          "Estados Unidos",
          "Tanzania",
          "Reino Unido",
          "Brasil",
          "India",
          "Francia",
          "Estados Unidos",
          "Estados Unidos",
          "España",
          "Argentina",
          "Francia",
          "Estados Unidos",
          "Estados Unidos",
          "Estados Unidos",
          "Venezuela",
          "China",
          "Estados Unidos",
          "China",
          "Italia",
          "India",
          "Bielorrusia",
          "China",
          "Francia",
          "Estados Unidos",
          "Chile",
          "Estados Unidos",
          "Zambia",
          "China",
          "China",
          "Marruecos",
          "Brasil",
          "Francia",
          "India",
          "Francia",
          "Argentina",
          "Francia",
          "Turquía",
          "Francia",
          "Polonia",
          "Canada",
          "Estados Unidos",
          "Francia",
          "Francia",
          "Turquía",
          "Colombia",
          "Tanzania",
          "Rusia",
          "Francia",
          "México",
          "Irak",
          "Rumania",
          "India",
          "Bulgaria",
          "Brasil",
          "Bélgica",
          "China",
          "Lituania",
          "Ecuador",
          "República Checa",
          "Estados Unidos",
          "Brasil",
          "China",
          "Canada",
          "India",
          "Irak",
          "Perú",
          "China",
          "Estados Unidos",
          "Reino Unido",
          "Estados Unidos",
          "Francia",
          "China",
          "China",
          "Alemania",
          "Estados Unidos",
          "Estados Unidos",
          "Francia",
          "Estados Unidos",
          "Estados Unidos",
          "Kazajistán",
          "Bulgaria",
          "Canada",
          "Francia",
          "Guinea Ecuatorial",
          "Canada",
          "China",
          "Japón",
          "Estados Unidos",
          "Brasil",
          "Marruecos",
          "Turquía",
          "Alemania",
          "Alemania",
          "Italia",
          "Estados Unidos",
          "SudAfrica",
          "Zimbabue",
          "Italia",
          "Reino Unido",
          "Estados Unidos",
          "Japón",
          "Francia",
          "Rumania",
          "Tanzania",
          "Canada",
          "Turquía",
          "Irán",
          "Alemania",
          "Francia",
          "Suecia",
          "Estados Unidos",
          "India",
          "Senegal",
          "Estados Unidos",
          "Polonia",
          "Alemania",
          "Colombia",
          "China",
          "Rusia",
          "Eritrea",
          "India",
          "Estados Unidos",
          "Brasil",
          "Brasil",
          "Japón",
          "Tanzania",
          "India",
          "Yemen",
          "Estados Unidos",
          "Brasil",
          "Turquía",
          "Canada",
          "Brasil",
          "Reino Unido",
          "Bielorrusia",
          "Italia",
          "Alemania",
          "Estados Unidos",
          "Estados Unidos",
          "Brasil",
          "Brasil",
          "Francia",
          "Suecia",
          "Estados Unidos",
          "China",
          "México",
          "Francia",
          "China",
          "Sudán",
          "Francia",
          "Kenia",
          "Brasil",
          "Laos",
          "Venezuela",
          "India",
          "Estados Unidos",
          "Francia",
          "China",
          "Canada",
          "Estados Unidos",
          "Argelia",
          "Filipinas",
          "Bangladés",
          "Francia",
          "Estados Unidos",
          "Mali",
          "Finlandia",
          "Estados Unidos",
          "Estados Unidos",
          "Estados Unidos",
          "Reino Unido",
          "Japón",
          "Francia",
          "Francia",
          "Japón",
          "Sierra Leona",
          "Irán",
          "Ucrania",
          "Tanzania",
          "China",
          "Polonia",
          "Italia",
          "Burundi",
          "Irak",
          "Estados Unidos",
          "Turquía",
          "Estados Unidos",
          "Turquía",
          "Brasil",
          "Estados Unidos",
          "Bielorrusia",
          "Benín",
          "China",
          "Polonia",
          "Irán",
          "Brasil",
          "Irán",
          "Brasil",
          "China",
          "Bulgaria",
          "Suecia",
          "España",
          "Irán",
          "Filipinas",
          "Francia",
          "Canada",
          "Ucrania",
          "Togo",
          "Reino Unido",
          "Angola",
          "Kenia",
          "Estados Unidos",
          "Turquía",
          "Egipto",
          "India",
          "Colombia",
          "Austria",
          "Italia",
          "Francia",
          "Brasil",
          "SudAfrica",
          "Venezuela",
          "Camerún",
          "Francia",
          "Brasil",
          "Brasil",
          "China",
          "Japón",
          "Argentina",
          "Brasil",
          "Venezuela",
          "India",
          "China",
          "Estados Unidos",
          "Brasil",
          "Israel",
          "Irán",
          "España",
          "Filipinas",
          "Reino Unido",
          "Estados Unidos",
          "Francia",
          "Brasil",
          "Francia",
          "Estados Unidos",
          "Estados Unidos",
          "Camerún",
          "Rusia",
          "Turquía",
          "Brasil",
          "Alemania",
          "Estados Unidos",
          "Dinamarca",
          "Italia",
          "Macedonia",
          "Brasil",
          "Canada",
          "Italia",
          "Alemania",
          "Irán",
          "SudAfrica",
          "Italia",
          "Francia",
          "Mozambique",
          "Irán",
          "Brasil",
          "Brasil",
          "Francia",
          "Turquía",
          "Togo",
          "Brasil",
          "Brasil",
          "Estonia",
          "Indonesia",
          "Japón",
          "Estados Unidos",
          "Estados Unidos",
          "Irán",
          "España",
          "China",
          "Japón",
          "SudAfrica",
          "India",
          "Australia",
          "Nigeria",
          "China",
          "Reino Unido",
          "Francia",
          "Estados Unidos",
          "Brasil",
          "Armenia",
          "China",
          "Serbia",
          "Paraguay",
          "Brasil",
          "India",
          "Nigeria",
          "Francia",
          "Estados Unidos",
          "China",
          "Eslovaquia",
          "Indonesia",
          "Estados Unidos",
          "Irán",
          "India",
          "Bulgaria",
          "Argentina",
          "Nigeria",
          "Turquía",
          "Zambia",
          "Brasil",
          "Francia",
          "Brasil",
          "Japón",
          "SudAfrica",
          "México",
          "SudAfrica",
          "Estados Unidos",
          "Estados Unidos",
          "Estados Unidos",
          "Marruecos",
          "Italia",
          "Francia",
          "Estados Unidos",
          "Egipto",
          "Egipto",
          "Japón",
          "Francia",
          "Rumania",
          "Hungría",
          "Estados Unidos",
          "India",
          "Estados Unidos",
          "República Democrática del Congo",
          "Irán",
          "Eslovenia",
          "China",
          "Brasil",
          "Países Bajos",
          "Perú",
          "España",
          "Nueva Zelanda",
          "Francia",
          "Brasil",
          "Estados Unidos",
          "Italia",
          "Zimbabue",
          "Lituania",
          "Reino Unido",
          "Francia",
          "Italia",
          "Estados Unidos",
          "Países Bajos",
          "Países Bajos",
          "China",
          "Francia",
          "Sierra Leona",
          "Francia",
          "Estados Unidos",
          "Perú",
          "Estados Unidos",
          "Francia",
          "Bielorrusia",
          "Estados Unidos",
          "Estados Unidos",
          "Brasil",
          "Estados Unidos",
          "Rumania",
          "China",
          "Ucrania",
          "Estonia",
          "China",
          "Brasil",
          "China",
          "Francia",
          "República Democrática del Congo",
          "Austria",
          "Venezuela",
          "Estados Unidos",
          "Kazajistán",
          "Japón",
          "Estados Unidos",
          "Italia",
          "China",
          "India",
          "Francia",
          "Pakistán",
          "Bosnia y Herzegovina",
          "India",
          "Rumania",
          "China",
          "Egipto",
          "Francia",
          "Estados Unidos",
          "Camerún",
          "Estados Unidos",
          "Reino Unido",
          "Estados Unidos",
          "Francia",
          "China",
          "Suecia",
          "Brasil",
          "Turquía",
          "Estados Unidos",
          "Turquía",
          "Francia",
          "Polonia",
          "Brasil",
          "Brasil",
          "Perú",
          "Ruanda",
          "Turquía",
          "Francia",
          "Estados Unidos",
          "Rusia",
          "SudAfrica",
          "Egipto",
          "Rumania",
          "Estados Unidos",
          "Brasil",
          "Liberia",
          "Reino Unido",
          "Reino Unido",
          "Reino Unido",
          "Rusia",
          "Chile",
          "Francia",
          "Estados Unidos",
          "Reino Unido",
          "Francia",
          "Estados Unidos",
          "Tanzania",
          "Turquía",
          "Italia",
          "México",
          "Sáhara Occidental",
          "Alemania",
          "Rumania",
          "Portugal",
          "Indonesia",
          "China",
          "Brasil",
          "China",
          "República Democrática del Congo",
          "SudAfrica",
          "Estados Unidos",
          "Madagascar",
          "Estados Unidos",
          "Venezuela",
          "Zambia",
          "Argelia",
          "China",
          "Países Bajos",
          "Francia",
          "Estados Unidos",
          "Estados Unidos",
          "Estados Unidos",
          "España",
          "Estados Unidos",
          "China",
          "Indonesia",
          "Reino Unido",
          "Reino Unido",
          "China",
          "China",
          "Estados Unidos",
          "Bélgica",
          "Países Bajos",
          "Marruecos",
          "Turquía",
          "Polonia",
          "China",
          "Estados Unidos",
          "Estados Unidos",
          "Estados Unidos",
          "Turquía",
          "Italia",
          "Colombia",
          "Francia",
          "Perú",
          "Camerún",
          "Ecuador",
          "China",
          "Brasil",
          "España",
          "Brasil",
          "Estados Unidos",
          "Egipto",
          "Estados Unidos",
          "India",
          "Rusia",
          "Argentina",
          "SudAfrica",
          "China",
          "Turquía",
          "China",
          "SudAfrica",
          "Uzbekistán",
          "Italia",
          "Brasil",
          "Argentina",
          "Ucrania",
          "Venezuela",
          "Turquía",
          "China",
          "Mali",
          "Italia",
          "Rusia",
          "Japón",
          "Ucrania",
          "Bélgica",
          "Argelia",
          "Mozambique",
          "Alemania",
          "Bulgaria",
          "China",
          "China",
          "Estados Unidos",
          "Irán",
          "Alemania",
          "Estados Unidos",
          "Estados Unidos",
          "Reino Unido",
          "Ucrania",
          "Alemania",
          "Chile",
          "Francia",
          "México",
          "Reino Unido",
          "Bielorrusia",
          "Irán",
          "Francia",
          "Jordania",
          "Colombia",
          "Rusia",
          "Estados Unidos",
          "Estados Unidos",
          "Estados Unidos",
          "Francia",
          "Reino Unido",
          "España",
          "Estados Unidos",
          "Australia",
          "Turquía",
          "Australia",
          "Francia",
          "Brasil",
          "Brasil",
          "Rumania",
          "Japón",
          "Estados Unidos",
          "Francia",
          "República Democrática del Congo",
          "Marruecos",
          "India",
          "Egipto",
          "Brasil",
          "Estados Unidos",
          "Croacia",
          "Chile",
          "Yemen",
          "Estados Unidos",
          "Nueva Zelanda",
          "India",
          "Madagascar",
          "Reino Unido",
          "Bolivia",
          "Alemania",
          "Estados Unidos",
          "Francia",
          "Francia",
          "Francia",
          "Brasil",
          "Francia",
          "Brasil",
          "España",
          "Alemania",
          "México",
          "Turquía",
          "China",
          "Japón",
          "Sudán",
          "Malasia",
          "Bélgica",
          "Alemania",
          "Estados Unidos",
          "Estados Unidos",
          "India",
          "Costa de Marfil",
          "Nigeria",
          "Estados Unidos",
          "Italia",
          "Estados Unidos",
          "Turquía",
          "Filipinas",
          "Alemania",
          "Moldavia",
          "Alemania",
          "Francia",
          "Italia",
          "Camerún",
          "India",
          "India",
          "Ucrania",
          "Países Bajos",
          "India",
          "Estados Unidos",
          "Francia",
          "Corea del Sur",
          "Irán",
          "Vietnam",
          "China",
          "Nigeria",
          "SudAfrica",
          "Francia",
          "Canada",
          "Tanzania",
          "Indonesia",
          "Ucrania",
          "Polonia",
          "Francia",
          "Argentina",
          "Estados Unidos",
          "Brasil",
          "Estados Unidos",
          "Estados Unidos",
          "China",
          "Bangladés",
          "Japón",
          "Rumania",
          "Reino Unido",
          "Tanzania",
          "China",
          "Venezuela",
          "Turquía",
          "Estados Unidos",
          "España",
          "Estados Unidos",
          "Japón",
          "Francia",
          "España",
          "Turquía",
          "Francia",
          "Tanzania",
          "Brasil",
          "Brasil",
          "Francia",
          "Estados Unidos",
          "Brasil",
          "Argentina",
          "Japón",
          "Suecia",
          "República Dominicana",
          "Brasil",
          "Estados Unidos",
          "Francia",
          "Japón",
          "China",
          "Alemania",
          "Irán",
          "India",
          "Países Bajos",
          "Australia",
          "Francia",
          "Israel",
          "Belice",
          "Brasil",
          "Brasil",
          "Argentina",
          "China",
          "Italia",
          "Brasil",
          "Guayana Francesa",
          "Estados Unidos",
          "China",
          "China",
          "Japón",
          "Brasil",
          "República Checa",
          "Bélgica",
          "Francia",
          "México",
          "Estados Unidos",
          "Polonia",
          "Brasil",
          "España",
          "Polonia",
          "Estados Unidos",
          "Alemania",
          "Estados Unidos",
          "Francia",
          "Nigeria",
          "Ecuador",
          "Francia",
          "Nigeria",
          "Alemania",
          "Uganda",
          "Benín",
          "China",
          "República de Gambia",
          "Alemania",
          "Estados Unidos",
          "Italia",
          "Italia",
          "Japón",
          "Chad",
          "Bolivia",
          "Francia",
          "China",
          "Indonesia",
          "Mongolia",
          "Estados Unidos",
          "Italia",
          "India",
          "Italia",
          "Alemania",
          "Reino Unido",
          "Alemania",
          "China",
          "Argentina",
          "China",
          "Italia",
          "Reino Unido",
          "Chile",
          "Australia",
          "Francia",
          "Colombia",
          "Italia",
          "Australia",
          "Estados Unidos",
          "Estados Unidos",
          "Italia",
          "Francia",
          "Ruanda",
          "Japón",
          "Estados Unidos",
          "Estados Unidos",
          "Francia",
          "China",
          "Reino Unido",
          "Francia",
          "Turquía",
          "Venezuela",
          "Francia",
          "Estados Unidos",
          "Brasil",
          "China",
          "India",
          "Alemania",
          "China",
          "Zambia",
          "China",
          "Alemania",
          "Países Bajos",
          "Estados Unidos",
          "España",
          "Países Bajos",
          "Nueva Zelanda",
          "Turquía",
          "Perú",
          "Polonia",
          "Estados Unidos",
          "Estados Unidos",
          "Estados Unidos",
          "Colombia",
          "India",
          "Turquía",
          "Canada",
          "Estados Unidos",
          "Estados Unidos",
          "Polonia",
          "Irán",
          "Francia",
          "Italia",
          "Colombia",
          "Estados Unidos",
          "Estados Unidos",
          "Italia",
          "Argentina",
          "China",
          "Estados Unidos",
          "Argentina",
          "Japón",
          "Alemania",
          "Francia",
          "Japón",
          "Brasil",
          "Nigeria",
          "Francia",
          "Zambia",
          "Ucrania",
          "Rusia",
          "España",
          "Estados Unidos",
          "Reino Unido",
          "Australia",
          "Bosnia y Herzegovina",
          "Kazajistán",
          "Israel",
          "Reino Unido",
          "Turquía",
          "Reino Unido",
          "Reino Unido",
          "Colombia",
          "Estados Unidos",
          "Ucrania",
          "Irán",
          "Brasil",
          "China",
          "China",
          "Brasil",
          "Alemania",
          "Países Bajos",
          "Australia",
          "Estados Unidos",
          "Nueva Zelanda",
          "Polonia",
          "Australia",
          "Arabia Saudí",
          "Francia",
          "Turkmenistán",
          "Francia",
          "Turquía",
          "Estados Unidos",
          "Brasil",
          "Italia",
          "Brasil",
          "Francia",
          "Japón",
          "Arabia Saudí",
          "Venezuela",
          "China",
          "China",
          "Japón",
          "Estados Unidos",
          "Nueva Zelanda",
          "India",
          "Rusia",
          "Estados Unidos",
          "China",
          "Francia",
          "Ghana",
          "Estados Unidos",
          "China",
          "Brasil",
          "Estados Unidos",
          "Francia",
          "Francia",
          "India",
          "India",
          "Alemania",
          "Estados Unidos",
          "Reino Unido",
          "Estados Unidos",
          "Italia",
          "España",
          "Reino Unido",
          "India",
          "Rusia",
          "Francia",
          "China",
          "India",
          "Francia",
          "China",
          "Vietnam",
          "Italia",
          "Brasil",
          "Estados Unidos",
          "China",
          "España",
          "Francia",
          "SudAfrica",
          "Brasil",
          "Francia",
          "Georgia",
          "Brasil",
          "Jordania",
          "Corea del Sur",
          "Francia",
          "Colombia",
          "Turquía",
          "China",
          "Arabia Saudí",
          "Angola",
          "Brasil",
          "España",
          "México",
          "Nigeria",
          "China",
          "Rumania",
          "Kenia",
          "Alemania",
          "Estados Unidos",
          "Francia",
          "Alemania",
          "Rusia",
          "Reino Unido",
          "Marruecos",
          "India",
          "Nueva Zelanda",
          "Estados Unidos",
          "Taiwán",
          "Angola",
          "Dinamarca",
          "Marruecos",
          "Australia",
          "Guinea-Bissau",
          "Alemania",
          "India",
          "China",
          "Afganistán",
          "Reino Unido",
          "Italia",
          "Alemania"
         ],
         "locationmode": "country names",
         "locations": [
          "República Dominicana",
          "Estados Unidos",
          "Honduras",
          "Estados Unidos",
          "Nicaragua",
          "México",
          "Reino Unido",
          "Filipinas",
          "Estados Unidos",
          "Indonesia",
          "Austria",
          "España",
          "Estados Unidos",
          "Argentina",
          "Tailandia",
          "Nigeria",
          "Brasil",
          "Australia",
          "Francia",
          "Estados Unidos",
          "Estados Unidos",
          "Honduras",
          "Alemania",
          "El Salvador",
          "Turquía",
          "Italia",
          "Panamá",
          "Alemania",
          "Guatemala",
          "El Salvador",
          "Australia",
          "Australia",
          "Estados Unidos",
          "Estados Unidos",
          "Estados Unidos",
          "Vietnam",
          "México",
          "Suecia",
          "República Democrática del Congo",
          "Singapur",
          "Colombia",
          "Honduras",
          "Guatemala",
          "Australia",
          "Haití",
          "España",
          "Alemania",
          "Panamá",
          "Perú",
          "Italia",
          "Marruecos",
          "México",
          "Australia",
          "República Dominicana",
          "México",
          "México",
          "Cuba",
          "Australia",
          "El Salvador",
          "Italia",
          "Reino Unido",
          "México",
          "Francia",
          "Myanmar (Birmania)",
          "México",
          "Egipto",
          "México",
          "México",
          "Brasil",
          "Francia",
          "Irak",
          "Australia",
          "Estados Unidos",
          "Estados Unidos",
          "Estados Unidos",
          "Alemania",
          "Corea del Sur",
          "Estados Unidos",
          "Países Bajos",
          "Indonesia",
          "El Salvador",
          "México",
          "El Salvador",
          "Nigeria",
          "Australia",
          "SudAfrica",
          "China",
          "Australia",
          "Turquía",
          "Egipto",
          "Francia",
          "Honduras",
          "Nicaragua",
          "Nicaragua",
          "Nueva Zelanda",
          "Venezuela",
          "México",
          "México",
          "Italia",
          "El Salvador",
          "Francia",
          "Indonesia",
          "Reino Unido",
          "China",
          "Alemania",
          "Bangladés",
          "Australia",
          "República Dominicana",
          "Pakistán",
          "Estados Unidos",
          "Nicaragua",
          "Estados Unidos",
          "Chile",
          "Estados Unidos",
          "México",
          "España",
          "Cuba",
          "Australia",
          "Brasil",
          "Nueva Zelanda",
          "República Dominicana",
          "Indonesia",
          "Tanzania",
          "Filipinas",
          "Arabia Saudí",
          "China",
          "México",
          "SudAfrica",
          "Francia",
          "Guatemala",
          "México",
          "El Salvador",
          "México",
          "México",
          "Ghana",
          "Venezuela",
          "México",
          "Francia",
          "Guatemala",
          "Reino Unido",
          "Camerún",
          "Estados Unidos",
          "Alemania",
          "Honduras",
          "México",
          "Reino Unido",
          "Irán",
          "Colombia",
          "Cuba",
          "Estados Unidos",
          "SudAfrica",
          "Cuba",
          "Honduras",
          "Estados Unidos",
          "Estados Unidos",
          "México",
          "Australia",
          "El Salvador",
          "Cuba",
          "Reino Unido",
          "Marruecos",
          "Panamá",
          "Estados Unidos",
          "Países Bajos",
          "Alemania",
          "Brasil",
          "Australia",
          "Finlandia",
          "Estados Unidos",
          "Hungría",
          "India",
          "Nicaragua",
          "Cuba",
          "Reino Unido",
          "India",
          "Irán",
          "Alemania",
          "Italia",
          "Panamá",
          "Francia",
          "Indonesia",
          "Reino Unido",
          "China",
          "México",
          "Francia",
          "Noruega",
          "Indonesia",
          "Australia",
          "Vietnam",
          "Estados Unidos",
          "México",
          "Nigeria",
          "Alemania",
          "México",
          "Francia",
          "Francia",
          "Indonesia",
          "Guatemala",
          "Senegal",
          "Colombia",
          "Nicaragua",
          "Italia",
          "Costa de Marfil",
          "México",
          "Estados Unidos",
          "Alemania",
          "México",
          "República Dominicana",
          "Portugal",
          "Australia",
          "China",
          "México",
          "México",
          "Colombia",
          "Alemania",
          "España",
          "México",
          "Países Bajos",
          "España",
          "Estados Unidos",
          "Rusia",
          "Dinamarca",
          "Japón",
          "Brasil",
          "India",
          "Reino Unido",
          "México",
          "México",
          "Austria",
          "Cuba",
          "Irlanda",
          "Brasil",
          "Polonia",
          "Alemania",
          "Alemania",
          "Estados Unidos",
          "Alemania",
          "Estados Unidos",
          "Irak",
          "Brasil",
          "Países Bajos",
          "Reino Unido",
          "México",
          "Brasil",
          "Reino Unido",
          "India",
          "India",
          "China",
          "Bulgaria",
          "Estados Unidos",
          "China",
          "Estados Unidos",
          "Francia",
          "Australia",
          "Australia",
          "China",
          "Nicaragua",
          "México",
          "Turquía",
          "Alemania",
          "Francia",
          "México",
          "India",
          "Alemania",
          "Alemania",
          "Brasil",
          "Camboya",
          "Zambia",
          "Australia",
          "Estados Unidos",
          "Brasil",
          "Brasil",
          "Alemania",
          "Suecia",
          "Nueva Zelanda",
          "Austria",
          "Cuba",
          "Estados Unidos",
          "Nigeria",
          "Brasil",
          "Indonesia",
          "Suecia",
          "Martinica",
          "Italia",
          "Indonesia",
          "Reino Unido",
          "Italia",
          "Libia",
          "Italia",
          "Brasil",
          "Alemania",
          "Reino Unido",
          "República Dominicana",
          "Nicaragua",
          "México",
          "Alemania",
          "Kirguistán",
          "Francia",
          "Guatemala",
          "Estados Unidos",
          "Irak",
          "Ucrania",
          "Argelia",
          "China",
          "Alemania",
          "Irak",
          "India",
          "Estados Unidos",
          "Kenia",
          "Francia",
          "Estados Unidos",
          "Francia",
          "Australia",
          "El Salvador",
          "Alemania",
          "España",
          "Brasil",
          "México",
          "Indonesia",
          "China",
          "Francia",
          "Arabia Saudí",
          "Irlanda",
          "China",
          "Portugal",
          "México",
          "Italia",
          "Francia",
          "Nueva Zelanda",
          "Estados Unidos",
          "Irán",
          "Rusia",
          "India",
          "Jamaica",
          "Bélgica",
          "Bélgica",
          "Francia",
          "Sudán",
          "República Dominicana",
          "México",
          "Australia",
          "Cuba",
          "Alemania",
          "Jamaica",
          "Francia",
          "El Salvador",
          "Suiza",
          "Indonesia",
          "Países Bajos",
          "Brasil",
          "SudAfrica",
          "Brasil",
          "Trinidad y Tobago",
          "Australia",
          "República Democrática del Congo",
          "Brasil",
          "Francia",
          "México",
          "Pakistán",
          "Francia",
          "Alemania",
          "China",
          "Estados Unidos",
          "México",
          "México",
          "Cuba",
          "Italia",
          "Bangladés",
          "Estados Unidos",
          "Estados Unidos",
          "Marruecos",
          "Cuba",
          "Reino Unido",
          "México",
          "México",
          "Francia",
          "Reino Unido",
          "Estados Unidos",
          "Alemania",
          "Panamá",
          "Reino Unido",
          "Turquía",
          "Alemania",
          "Reino Unido",
          "Francia",
          "Papúa Nueva Guinea",
          "Brasil",
          "Alemania",
          "China",
          "Francia",
          "Ecuador",
          "México",
          "España",
          "Estados Unidos",
          "Francia",
          "India",
          "Alemania",
          "Francia",
          "Pakistán",
          "Francia",
          "Irán",
          "Francia",
          "Brasil",
          "Francia",
          "Reino Unido",
          "Cuba",
          "México",
          "México",
          "Estados Unidos",
          "México",
          "Canada",
          "Brasil",
          "Argentina",
          "Estados Unidos",
          "Jordania",
          "Bélgica",
          "México",
          "Francia",
          "Madagascar",
          "Austria",
          "México",
          "Alemania",
          "Brasil",
          "Bélgica",
          "Cuba",
          "Alemania",
          "Francia",
          "México",
          "Australia",
          "Turquía",
          "Estados Unidos",
          "Zimbabue",
          "Reino Unido",
          "España",
          "Trinidad y Tobago",
          "China",
          "India",
          "República Democrática del Congo",
          "Irán",
          "Venezuela",
          "Francia",
          "Israel",
          "Italia",
          "Italia",
          "Brasil",
          "Irán",
          "México",
          "Francia",
          "Uganda",
          "Brasil",
          "China",
          "Francia",
          "Brasil",
          "Francia",
          "República Checa",
          "Reino Unido",
          "Francia",
          "Estados Unidos",
          "Georgia",
          "Italia",
          "Indonesia",
          "Francia",
          "Francia",
          "Arabia Saudí",
          "México",
          "Barbados",
          "Nigeria",
          "Estados Unidos",
          "México",
          "Somalia",
          "Estados Unidos",
          "Guatemala",
          "Alemania",
          "Níger",
          "Brasil",
          "Zimbabue",
          "Filipinas",
          "Turquía",
          "México",
          "India",
          "Estados Unidos",
          "Indonesia",
          "Estados Unidos",
          "Francia",
          "Estados Unidos",
          "Estados Unidos",
          "Mozambique",
          "Qatar",
          "Polonia",
          "Colombia",
          "Mozambique",
          "Bélgica",
          "Australia",
          "Francia",
          "España",
          "México",
          "Malasia",
          "Cuba",
          "Estados Unidos",
          "Canada",
          "Alemania",
          "Reino Unido",
          "India",
          "Brasil",
          "India",
          "Turquía",
          "Reino Unido",
          "Bélgica",
          "Francia",
          "Reino Unido",
          "Alemania",
          "México",
          "Francia",
          "Italia",
          "Brasil",
          "Francia",
          "México",
          "Francia",
          "Alemania",
          "Egipto",
          "Francia",
          "Afganistán",
          "Rumania",
          "Alemania",
          "Estados Unidos",
          "Colombia",
          "Reino Unido",
          "Alemania",
          "Francia",
          "Australia",
          "Noruega",
          "Alemania",
          "SudAfrica",
          "Indonesia",
          "Filipinas",
          "Canada",
          "Reino Unido",
          "Italia",
          "Brasil",
          "India",
          "China",
          "Reino Unido",
          "Francia",
          "Alemania",
          "Australia",
          "Reino Unido",
          "Turquía",
          "Estados Unidos",
          "Estados Unidos",
          "Francia",
          "China",
          "Alemania",
          "Marruecos",
          "China",
          "Brasil",
          "Argentina",
          "Francia",
          "Alemania",
          "Estados Unidos",
          "Reino Unido",
          "Reino Unido",
          "Nueva Zelanda",
          "Lituania",
          "Turquía",
          "Estados Unidos",
          "Reino Unido",
          "Estados Unidos",
          "Reino Unido",
          "Nueva Zelanda",
          "Estados Unidos",
          "India",
          "Estados Unidos",
          "India",
          "Australia",
          "Siria",
          "Francia",
          "República Democrática del Congo",
          "Portugal",
          "Italia",
          "Estados Unidos",
          "México",
          "Estados Unidos",
          "Estados Unidos",
          "Estados Unidos",
          "Italia",
          "Ghana",
          "Alemania",
          "Cuba",
          "Brasil",
          "Reino Unido",
          "Rusia",
          "Brasil",
          "China",
          "India",
          "Nigeria",
          "India",
          "Francia",
          "El Salvador",
          "Reino Unido",
          "Italia",
          "Guatemala",
          "Malasia",
          "Reino Unido",
          "Francia",
          "Australia",
          "Reino Unido",
          "Irán",
          "España",
          "Estados Unidos",
          "Brasil",
          "España",
          "Argentina",
          "Francia",
          "Estados Unidos",
          "Francia",
          "Mozambique",
          "China",
          "España",
          "Nigeria",
          "Estados Unidos",
          "China",
          "Turquía",
          "España",
          "Canada",
          "Canada",
          "Marruecos",
          "Polonia",
          "Alemania",
          "República Dominicana",
          "Australia",
          "Argentina",
          "Italia",
          "Italia",
          "Cuba",
          "Francia",
          "Kazajistán",
          "Italia",
          "Pakistán",
          "Alemania",
          "Italia",
          "Indonesia",
          "Estados Unidos",
          "Nueva Zelanda",
          "México",
          "Dinamarca",
          "Australia",
          "Ucrania",
          "Australia",
          "Noruega",
          "Francia",
          "Estados Unidos",
          "Corea del Sur",
          "China",
          "Estados Unidos",
          "Guatemala",
          "Reino Unido",
          "Estados Unidos",
          "Yemen",
          "México",
          "Nigeria",
          "India",
          "Francia",
          "México",
          "Italia",
          "Nigeria",
          "Francia",
          "Brasil",
          "Francia",
          "Reino Unido",
          "Francia",
          "Francia",
          "Malasia",
          "Estados Unidos",
          "Irán",
          "Brasil",
          "Brasil",
          "Brasil",
          "Mozambique",
          "Alemania",
          "Brasil",
          "China",
          "Alemania",
          "Estados Unidos",
          "Estados Unidos",
          "Estados Unidos",
          "Francia",
          "Reino Unido",
          "India",
          "Francia",
          "Kenia",
          "Kazajistán",
          "India",
          "Estados Unidos",
          "Estados Unidos",
          "Argentina",
          "Croacia",
          "Francia",
          "México",
          "India",
          "SudAfrica",
          "Brasil",
          "Alemania",
          "República Democrática del Congo",
          "España",
          "Reino Unido",
          "España",
          "Estados Unidos",
          "India",
          "Italia",
          "Francia",
          "Colombia",
          "Reino Unido",
          "Francia",
          "Estados Unidos",
          "Nigeria",
          "Francia",
          "India",
          "Países Bajos",
          "Corea del Sur",
          "Estados Unidos",
          "Francia",
          "Estados Unidos",
          "Filipinas",
          "Nigeria",
          "Chile",
          "India",
          "Japón",
          "Rusia",
          "Bolivia",
          "México",
          "Alemania",
          "Italia",
          "Francia",
          "Indonesia",
          "Reino Unido",
          "México",
          "Ucrania",
          "Tanzania",
          "Alemania",
          "Turquía",
          "Reino Unido",
          "Estados Unidos",
          "México",
          "Estados Unidos",
          "Polonia",
          "Rumania",
          "Colombia",
          "Italia",
          "Uruguay",
          "Filipinas",
          "Perú",
          "España",
          "Reino Unido",
          "Francia",
          "India",
          "España",
          "Chile",
          "España",
          "Estados Unidos",
          "Países Bajos",
          "Francia",
          "Francia",
          "Colombia",
          "Alemania",
          "India",
          "Francia",
          "Francia",
          "Francia",
          "Estados Unidos",
          "Haití",
          "India",
          "India",
          "Nigeria",
          "Ucrania",
          "Turquía",
          "Marruecos",
          "Francia",
          "Francia",
          "India",
          "Italia",
          "Francia",
          "Indonesia",
          "México",
          "Brasil",
          "Países Bajos",
          "Nueva Zelanda",
          "SudAfrica",
          "Indonesia",
          "Indonesia",
          "Indonesia",
          "Brasil",
          "Turquía",
          "SudAfrica",
          "Arabia Saudí",
          "Francia",
          "Australia",
          "México",
          "Estados Unidos",
          "Francia",
          "Reino Unido",
          "Irán",
          "Venezuela",
          "Israel",
          "Hungría",
          "Alemania",
          "Australia",
          "Alemania",
          "Argentina",
          "Francia",
          "Estados Unidos",
          "Países Bajos",
          "Indonesia",
          "China",
          "Alemania",
          "Italia",
          "Estados Unidos",
          "México",
          "Francia",
          "Francia",
          "Yibuti",
          "Brasil",
          "Suiza",
          "República Dominicana",
          "Estados Unidos",
          "Estados Unidos",
          "Turquía",
          "Angola",
          "México",
          "Francia",
          "Colombia",
          "India",
          "China",
          "Australia",
          "Brasil",
          "Estados Unidos",
          "Francia",
          "Bielorrusia",
          "Francia",
          "Francia",
          "Estados Unidos",
          "Estados Unidos",
          "Turquía",
          "España",
          "Francia",
          "Francia",
          "Estados Unidos",
          "Irán",
          "India",
          "Brasil",
          "Brasil",
          "Cuba",
          "Estados Unidos",
          "Alemania",
          "Ucrania",
          "Brasil",
          "India",
          "Bolivia",
          "Indonesia",
          "Francia",
          "Brasil",
          "Alemania",
          "Francia",
          "Turquía",
          "República Democrática del Congo",
          "China",
          "China",
          "Venezuela",
          "Brasil",
          "Alemania",
          "Rumania",
          "Estados Unidos",
          "Francia",
          "Brasil",
          "Canada",
          "Francia",
          "Brasil",
          "Nueva Zelanda",
          "Perú",
          "Irán",
          "Italia",
          "Francia",
          "Francia",
          "Francia",
          "Turquía",
          "Brasil",
          "India",
          "Francia",
          "México",
          "México",
          "España",
          "Alemania",
          "Argelia",
          "Italia",
          "Francia",
          "Francia",
          "Reino Unido",
          "Uzbekistán",
          "Nepal",
          "Estados Unidos",
          "Marruecos",
          "Francia",
          "Italia",
          "Cuba",
          "China",
          "Bielorrusia",
          "Corea del Sur",
          "Canada",
          "Malasia",
          "Israel",
          "Ucrania",
          "Estados Unidos",
          "Argentina",
          "Turquía",
          "Turquía",
          "Suecia",
          "Brasil",
          "Estados Unidos",
          "Brasil",
          "Reino Unido",
          "Camerún",
          "India",
          "Senegal",
          "España",
          "Reino Unido",
          "China",
          "Corea del Sur",
          "Estados Unidos",
          "Nueva Zelanda",
          "Costa de Marfil",
          "Pakistán",
          "Italia",
          "Finlandia",
          "Venezuela",
          "Polonia",
          "Alemania",
          "Reino Unido",
          "Francia",
          "Brasil",
          "Turquía",
          "Francia",
          "República Dominicana",
          "Turquía",
          "Reino Unido",
          "Alemania",
          "Reino Unido",
          "Brasil",
          "Francia",
          "India",
          "Colombia",
          "Países Bajos",
          "Francia",
          "India",
          "Francia",
          "Italia",
          "Rusia",
          "Francia",
          "Francia",
          "Países Bajos",
          "Francia",
          "Estados Unidos",
          "Francia",
          "México",
          "China",
          "Italia",
          "Brasil",
          "Alemania",
          "Reino Unido",
          "Togo",
          "Francia",
          "Brasil",
          "Tanzania",
          "Francia",
          "Reino Unido",
          "Brasil",
          "Japón",
          "Francia",
          "Estados Unidos",
          "Francia",
          "Australia",
          "Pakistán",
          "Alemania",
          "China",
          "Nueva Zelanda",
          "Moldavia",
          "Francia",
          "Reino Unido",
          "Estados Unidos",
          "Nigeria",
          "Brasil",
          "Francia",
          "Chile",
          "España",
          "Reino Unido",
          "Estados Unidos",
          "Países Bajos",
          "Reino Unido",
          "Nigeria",
          "Estados Unidos",
          "Bélgica",
          "Argelia",
          "Italia",
          "Francia",
          "Mauritania",
          "Bolivia",
          "Italia",
          "Alemania",
          "Estados Unidos",
          "Reino Unido",
          "Suiza",
          "India",
          "Canada",
          "China",
          "India",
          "Países Bajos",
          "Italia",
          "Australia",
          "Malasia",
          "Reino Unido",
          "Francia",
          "Alemania",
          "Somalia",
          "India",
          "Estados Unidos",
          "Reino Unido",
          "Italia",
          "Países Bajos",
          "Estados Unidos",
          "China",
          "India",
          "Brasil",
          "España",
          "Cuba",
          "Reino Unido",
          "Reino Unido",
          "Francia",
          "México",
          "Francia",
          "Filipinas",
          "Reino Unido",
          "Francia",
          "Brasil",
          "Noruega",
          "Rusia",
          "México",
          "México",
          "Países Bajos",
          "México",
          "Rusia",
          "Reino Unido",
          "Francia",
          "Países Bajos",
          "Francia",
          "Francia",
          "Francia",
          "Estados Unidos",
          "India",
          "Francia",
          "Venezuela",
          "China",
          "España",
          "Estados Unidos",
          "Polonia",
          "Túnez",
          "Francia",
          "Reino Unido",
          "México",
          "España",
          "Estados Unidos",
          "Argelia",
          "Francia",
          "Australia",
          "Níger",
          "España",
          "Francia",
          "Francia",
          "China",
          "Venezuela",
          "Reino Unido",
          "Indonesia",
          "Francia",
          "China",
          "Siria",
          "Francia",
          "Estados Unidos",
          "Arabia Saudí",
          "Kazajistán",
          "Estados Unidos",
          "Guinea",
          "India",
          "Argelia",
          "Malasia",
          "Brasil",
          "Italia",
          "Indonesia",
          "Italia",
          "Francia",
          "Alemania",
          "Brasil",
          "Argelia",
          "Perú",
          "Corea del Sur",
          "Francia",
          "Italia",
          "Países Bajos",
          "Chile",
          "Reino Unido",
          "Estados Unidos",
          "Estados Unidos",
          "Bangladés",
          "Rumania",
          "Francia",
          "China",
          "Rumania",
          "Australia",
          "Australia",
          "Colombia",
          "Italia",
          "Canada",
          "Francia",
          "Francia",
          "Cuba",
          "China",
          "Estados Unidos",
          "Francia",
          "Francia",
          "Brasil",
          "Australia",
          "Irán",
          "Austria",
          "India",
          "República Democrática del Congo",
          "Canada",
          "Portugal",
          "Estados Unidos",
          "Turquía",
          "Filipinas",
          "Suecia",
          "Reino Unido",
          "Alemania",
          "China",
          "Ucrania",
          "Estados Unidos",
          "Rumania",
          "Alemania",
          "Indonesia",
          "Alemania",
          "Cuba",
          "China",
          "Japón",
          "Rumania",
          "Nueva Zelanda",
          "Brasil",
          "Francia",
          "Estados Unidos",
          "Reino Unido",
          "China",
          "China",
          "España",
          "España",
          "Malasia",
          "Perú",
          "Australia",
          "Venezuela",
          "España",
          "Brasil",
          "Italia",
          "Nigeria",
          "Uzbekistán",
          "Indonesia",
          "Brasil",
          "Turquía",
          "Estados Unidos",
          "Suiza",
          "Italia",
          "Argentina",
          "España",
          "Reino Unido",
          "México",
          "Alemania",
          "México",
          "Venezuela",
          "Francia",
          "Suecia",
          "México",
          "Estados Unidos",
          "Reino Unido",
          "Indonesia",
          "Italia",
          "Turquía",
          "Francia",
          "Estados Unidos",
          "Sudán",
          "Irak",
          "China",
          "China",
          "China",
          "México",
          "Reino Unido",
          "Angola",
          "Venezuela",
          "Estados Unidos",
          "India",
          "Arabia Saudí",
          "Estados Unidos",
          "Alemania",
          "Argentina",
          "Estados Unidos",
          "Francia",
          "República Checa",
          "China",
          "Montenegro",
          "Italia",
          "Estados Unidos",
          "India",
          "India",
          "Estados Unidos",
          "Brasil",
          "China",
          "Turquía",
          "Alemania",
          "India",
          "Francia",
          "Francia",
          "India",
          "Corea del Sur",
          "Rusia",
          "Estados Unidos",
          "Estados Unidos",
          "España",
          "Estados Unidos",
          "Malasia",
          "Dinamarca",
          "República Democrática del Congo",
          "Australia",
          "India",
          "Italia",
          "Francia",
          "Países Bajos",
          "Estados Unidos",
          "Estados Unidos",
          "Francia",
          "Brasil",
          "Francia",
          "Japón",
          "Perú",
          "Francia",
          "India",
          "Francia",
          "Estados Unidos",
          "Brasil",
          "Estados Unidos",
          "España",
          "Alemania",
          "Estados Unidos",
          "Irán",
          "Brasil",
          "China",
          "Alemania",
          "Turquía",
          "Países Bajos",
          "Corea del Sur",
          "Turquía",
          "Francia",
          "China",
          "India",
          "Estados Unidos",
          "Estados Unidos",
          "España",
          "China",
          "México",
          "Italia",
          "Rusia",
          "Estados Unidos",
          "India",
          "Canada",
          "India",
          "Venezuela",
          "Brasil",
          "Turquía",
          "Francia",
          "Italia",
          "Filipinas",
          "Somalia",
          "Brasil",
          "Australia",
          "Francia",
          "Estados Unidos",
          "China",
          "Francia",
          "Italia",
          "Alemania",
          "Japón",
          "Brasil",
          "Estados Unidos",
          "Reino Unido",
          "Alemania",
          "Uganda",
          "India",
          "Francia",
          "Turquía",
          "Argentina",
          "Australia",
          "Brasil",
          "Noruega",
          "Estados Unidos",
          "India",
          "México",
          "Rumania",
          "Ucrania",
          "Irán",
          "México",
          "Arabia Saudí",
          "China",
          "Francia",
          "Suiza",
          "Estados Unidos",
          "Brasil",
          "Brasil",
          "España",
          "Brasil",
          "Pakistán",
          "Francia",
          "Colombia",
          "Francia",
          "Estados Unidos",
          "Suiza",
          "China",
          "Estados Unidos",
          "Reino Unido",
          "Japón",
          "India",
          "Francia",
          "Canada",
          "Tanzania",
          "Ucrania",
          "Estados Unidos",
          "Brasil",
          "Brasil",
          "Marruecos",
          "Alemania",
          "Argelia",
          "Estados Unidos",
          "Argentina",
          "Brasil",
          "Marruecos",
          "China",
          "Rusia",
          "Francia",
          "España",
          "Brasil",
          "Cuba",
          "Francia",
          "Australia",
          "Venezuela",
          "China",
          "México",
          "España",
          "Francia",
          "Estados Unidos",
          "Malasia",
          "Venezuela",
          "Estados Unidos",
          "Francia",
          "Nueva Zelanda",
          "Italia",
          "China",
          "Estados Unidos",
          "Reino Unido",
          "Madagascar",
          "Rusia",
          "Francia",
          "Estados Unidos",
          "Estados Unidos",
          "Estados Unidos",
          "México",
          "Estados Unidos",
          "Brasil",
          "Pakistán",
          "Reino Unido",
          "Francia",
          "Turquía",
          "Austria",
          "Estados Unidos",
          "Francia",
          "Alemania",
          "Francia",
          "Canada",
          "Turquía",
          "SudAfrica",
          "Alemania",
          "Nueva Zelanda",
          "Estados Unidos",
          "Francia",
          "India",
          "Francia",
          "Italia",
          "China",
          "Finlandia",
          "China",
          "Países Bajos",
          "Ucrania",
          "Estados Unidos",
          "Estados Unidos",
          "Irán",
          "Reino Unido",
          "Estados Unidos",
          "Brasil",
          "Brasil",
          "India",
          "Alemania",
          "Brasil",
          "Brasil",
          "Reino Unido",
          "Turquía",
          "Uzbekistán",
          "Reino Unido",
          "Colombia",
          "China",
          "Irán",
          "Canada",
          "Francia",
          "Brasil",
          "Alemania",
          "Estados Unidos",
          "Nueva Zelanda",
          "Egipto",
          "Estados Unidos",
          "Estados Unidos",
          "Turquía",
          "España",
          "Francia",
          "Brasil",
          "Vietnam",
          "Polonia",
          "Irán",
          "Bolivia",
          "Estados Unidos",
          "Irán",
          "Afganistán",
          "Irán",
          "Nueva Zelanda",
          "China",
          "Estados Unidos",
          "Estados Unidos",
          "Canada",
          "Canada",
          "República Centroafricana",
          "Nigeria",
          "Estados Unidos",
          "Francia",
          "Reino Unido",
          "China",
          "Colombia",
          "Pakistán",
          "Brasil",
          "Brasil",
          "Venezuela",
          "Reino Unido",
          "Italia",
          "Estados Unidos",
          "Rumania",
          "Argelia",
          "Brasil",
          "Estados Unidos",
          "México",
          "India",
          "Indonesia",
          "Polonia",
          "Estados Unidos",
          "México",
          "Uruguay",
          "Venezuela",
          "India",
          "Alemania",
          "China",
          "Rumania",
          "Turquía",
          "Egipto",
          "India",
          "Turkmenistán",
          "India",
          "Indonesia",
          "Perú",
          "México",
          "Argelia",
          "Tanzania",
          "España",
          "China",
          "Estados Unidos",
          "Estados Unidos",
          "Estados Unidos",
          "Guadalupe",
          "Alemania",
          "España",
          "China",
          "India",
          "Rusia",
          "Indonesia",
          "Reino Unido",
          "Nigeria",
          "México",
          "Alemania",
          "Irak",
          "Reino Unido",
          "Irán",
          "China",
          "Mali",
          "Bielorrusia",
          "Brasil",
          "Ucrania",
          "Azerbaiyán",
          "México",
          "Brasil",
          "Brasil",
          "Canada",
          "Kenia",
          "China",
          "Francia",
          "Chile",
          "Francia",
          "China",
          "Brasil",
          "Brasil",
          "Francia",
          "Polonia",
          "China",
          "Estados Unidos",
          "India",
          "Brasil",
          "Francia",
          "Botsuana",
          "Filipinas",
          "Alemania",
          "Francia",
          "Estados Unidos",
          "Francia",
          "Francia",
          "China",
          "Brasil",
          "Francia",
          "Pakistán",
          "Países Bajos",
          "Italia",
          "Brasil",
          "China",
          "Estados Unidos",
          "Benín",
          "Reino Unido",
          "Reino Unido",
          "México",
          "Estados Unidos",
          "Estados Unidos",
          "Estados Unidos",
          "Venezuela",
          "China",
          "Rusia",
          "India",
          "Estados Unidos",
          "España",
          "Alemania",
          "Estados Unidos",
          "Estados Unidos",
          "Estados Unidos",
          "Israel",
          "Filipinas",
          "Brasil",
          "Francia",
          "Polonia",
          "Polonia",
          "Canada",
          "Reino Unido",
          "Reino Unido",
          "España",
          "Estados Unidos",
          "Nueva Zelanda",
          "España",
          "Ucrania",
          "Francia",
          "Italia",
          "China",
          "Italia",
          "Estados Unidos",
          "España",
          "Polonia",
          "Estados Unidos",
          "Francia",
          "Filipinas",
          "Egipto",
          "China",
          "Francia",
          "Brasil",
          "Francia",
          "Francia",
          "Australia",
          "India",
          "Turquía",
          "Nigeria",
          "México",
          "Perú",
          "Rumania",
          "Mozambique",
          "Kazajistán",
          "Portugal",
          "Turkmenistán",
          "Benín",
          "Estados Unidos",
          "Francia",
          "Brasil",
          "Francia",
          "China",
          "Estados Unidos",
          "España",
          "Alemania",
          "China",
          "Estados Unidos",
          "Reino Unido",
          "Polonia",
          "Líbano",
          "Japón",
          "Brasil",
          "Estados Unidos",
          "Brasil",
          "China",
          "Dinamarca",
          "Italia",
          "Brasil",
          "Italia",
          "Pakistán",
          "Australia",
          "Brasil",
          "Italia",
          "China",
          "Sudán",
          "Estados Unidos",
          "Tanzania",
          "Alemania",
          "Estados Unidos",
          "Mozambique",
          "Francia",
          "Camerún",
          "Alemania",
          "Camerún",
          "Italia",
          "Estados Unidos",
          "India",
          "Francia",
          "Alemania",
          "Kazajistán",
          "Reino Unido",
          "Francia",
          "Estados Unidos",
          "Italia",
          "Francia",
          "Estados Unidos",
          "Francia",
          "Países Bajos",
          "Francia",
          "Reino Unido",
          "Nigeria",
          "Estados Unidos",
          "Estados Unidos",
          "China",
          "India",
          "Zambia",
          "China",
          "Países Bajos",
          "Brasil",
          "China",
          "España",
          "Bolivia",
          "Estados Unidos",
          "China",
          "Uganda",
          "Rusia",
          "Canada",
          "Países Bajos",
          "Argentina",
          "Brasil",
          "Estados Unidos",
          "Estados Unidos",
          "Estados Unidos",
          "Francia",
          "Italia",
          "India",
          "Venezuela",
          "India",
          "Turquía",
          "Nigeria",
          "Estados Unidos",
          "Reino Unido",
          "Venezuela",
          "China",
          "Estados Unidos",
          "Reino Unido",
          "Países Bajos",
          "Irán",
          "China",
          "Estados Unidos",
          "Estados Unidos",
          "Francia",
          "Francia",
          "Italia",
          "Guyana",
          "Estados Unidos",
          "Reino Unido",
          "Austria",
          "China",
          "Rusia",
          "India",
          "SudAfrica",
          "España",
          "España",
          "Reino Unido",
          "Turquía",
          "Francia",
          "India",
          "Vietnam",
          "Alemania",
          "Estados Unidos",
          "Colombia",
          "México",
          "Argentina",
          "Suecia",
          "Namibia",
          "India",
          "Japón",
          "China",
          "Estados Unidos",
          "Francia",
          "Israel",
          "Francia",
          "Estados Unidos",
          "Argelia",
          "Nigeria",
          "China",
          "SudAfrica",
          "Brasil",
          "India",
          "Irán",
          "SudAfrica",
          "Brasil",
          "Rusia",
          "Turquía",
          "Japón",
          "SudAfrica",
          "Lesoto",
          "Francia",
          "Luxemburgo",
          "Estados Unidos",
          "Francia",
          "Estados Unidos",
          "China",
          "Turquía",
          "Irán",
          "Francia",
          "Estados Unidos",
          "Francia",
          "Turquía",
          "Francia",
          "Francia",
          "Brasil",
          "Irlanda",
          "Reino Unido",
          "Estados Unidos",
          "Egipto",
          "Colombia",
          "Reino Unido",
          "Estados Unidos",
          "Venezuela",
          "Colombia",
          "China",
          "Hungría",
          "Francia",
          "Francia",
          "China",
          "República Democrática del Congo",
          "México",
          "Países Bajos",
          "China",
          "Estados Unidos",
          "Noruega",
          "Alemania",
          "Reino Unido",
          "Bangladés",
          "Emiratos Árabes Unidos",
          "Brasil",
          "Estados Unidos",
          "Brasil",
          "Japón",
          "Estados Unidos",
          "India",
          "Sri Lanka",
          "Canada",
          "Australia",
          "Israel",
          "México",
          "Japón",
          "Francia",
          "India",
          "China",
          "México",
          "India",
          "Rumania",
          "Tanzania",
          "Argelia",
          "Albania",
          "India",
          "Turquía",
          "Lituania",
          "Estados Unidos",
          "Polonia",
          "Estados Unidos",
          "Brasil",
          "Estados Unidos",
          "China",
          "Italia",
          "Etiopía",
          "México",
          "Lituania",
          "Ecuador",
          "Italia",
          "Estados Unidos",
          "México",
          "Argentina",
          "Francia",
          "Estados Unidos",
          "Italia",
          "Brasil",
          "India",
          "Colombia",
          "Francia",
          "Países Bajos",
          "SudAfrica",
          "Alemania",
          "Francia",
          "República Democrática del Congo",
          "Rumania",
          "Polonia",
          "India",
          "China",
          "Estados Unidos",
          "Pakistán",
          "Estados Unidos",
          "Brasil",
          "Afganistán",
          "Venezuela",
          "Brasil",
          "China",
          "Francia",
          "Francia",
          "Francia",
          "Togo",
          "Canada",
          "Italia",
          "Países Bajos",
          "Panamá",
          "Francia",
          "China",
          "China",
          "China",
          "Francia",
          "Estados Unidos",
          "Francia",
          "Estados Unidos",
          "Alemania",
          "Nueva Zelanda",
          "Francia",
          "Cuba",
          "China",
          "Alemania",
          "SudAfrica",
          "Mali",
          "Arabia Saudí",
          "Francia",
          "Rusia",
          "Australia",
          "Francia",
          "Estados Unidos",
          "Japón",
          "Estados Unidos",
          "Italia",
          "Francia",
          "Ucrania",
          "Turquía",
          "Países Bajos",
          "Estados Unidos",
          "Brasil",
          "Turquía",
          "China",
          "Reino Unido",
          "España",
          "México",
          "Turquía",
          "México",
          "Estados Unidos",
          "Francia",
          "Italia",
          "Estados Unidos",
          "Francia",
          "Kazajistán",
          "Italia",
          "Chile",
          "Estados Unidos",
          "España",
          "Alemania",
          "Brasil",
          "Indonesia",
          "Estados Unidos",
          "Brasil",
          "Alemania",
          "Albania",
          "Francia",
          "Francia",
          "Francia",
          "Francia",
          "Estados Unidos",
          "Venezuela",
          "Alemania",
          "Kirguistán",
          "Estados Unidos",
          "Francia",
          "India",
          "Croacia",
          "Zambia",
          "Benín",
          "Estados Unidos",
          "Alemania",
          "Ucrania",
          "Estados Unidos",
          "Estados Unidos",
          "Chile",
          "Países Bajos",
          "Francia",
          "España",
          "Francia",
          "Reino Unido",
          "Argelia",
          "Francia",
          "Brasil",
          "Francia",
          "Estados Unidos",
          "India",
          "Alemania",
          "Camerún",
          "Francia",
          "Brasil",
          "India",
          "Países Bajos",
          "Irán",
          "Brasil",
          "Estados Unidos",
          "Estados Unidos",
          "Estados Unidos",
          "India",
          "Brasil",
          "Francia",
          "Estados Unidos",
          "Zimbabue",
          "Canada",
          "SudAfrica",
          "China",
          "Francia",
          "China",
          "Colombia",
          "México",
          "Japón",
          "Estados Unidos",
          "Turquía",
          "China",
          "Estados Unidos",
          "Australia",
          "Francia",
          "Irak",
          "Países Bajos",
          "Bélgica",
          "Francia",
          "China",
          "Italia",
          "Italia",
          "Estados Unidos",
          "Suiza",
          "Países Bajos",
          "Chipre",
          "Venezuela",
          "Turquía",
          "Colombia",
          "Estados Unidos",
          "Estados Unidos",
          "Argentina",
          "Brasil",
          "Reino Unido",
          "Francia",
          "Turquía",
          "Francia",
          "Gabón",
          "Francia",
          "Brasil",
          "Estados Unidos",
          "Uruguay",
          "Colombia",
          "Estados Unidos",
          "Estados Unidos",
          "Francia",
          "Estados Unidos",
          "Rusia",
          "Rumania",
          "Sudán",
          "Nigeria",
          "Finlandia",
          "Alemania",
          "Irán",
          "Francia",
          "Estados Unidos",
          "Francia",
          "India",
          "Estados Unidos",
          "Italia",
          "Reino Unido",
          "Reino Unido",
          "India",
          "Rumania",
          "Turquía",
          "Estados Unidos",
          "China",
          "Brasil",
          "Estados Unidos",
          "Emiratos Árabes Unidos",
          "Rusia",
          "Reino Unido",
          "Zambia",
          "Estados Unidos",
          "Países Bajos",
          "Estados Unidos",
          "Bangladés",
          "Francia",
          "Colombia",
          "Irak",
          "Rusia",
          "Estados Unidos",
          "Estados Unidos",
          "Brasil",
          "Irán",
          "Estados Unidos",
          "Italia",
          "Colombia",
          "Brasil",
          "Brasil",
          "Alemania",
          "China",
          "Rumania",
          "Turquía",
          "Brasil",
          "Argentina",
          "Francia",
          "Níger",
          "Nueva Zelanda",
          "Turquía",
          "Canada",
          "Rumania",
          "Reino Unido",
          "Estados Unidos",
          "Estados Unidos",
          "Burkina Faso",
          "India",
          "Suecia",
          "China",
          "Francia",
          "Indonesia",
          "Chile",
          "Bélgica",
          "China",
          "Italia",
          "Estados Unidos",
          "China",
          "India",
          "Países Bajos",
          "Indonesia",
          "Albania",
          "China",
          "Corea del Sur",
          "Estados Unidos",
          "China",
          "Francia",
          "Zambia",
          "India",
          "Eslovaquia",
          "República Democrática del Congo",
          "Francia",
          "Estados Unidos",
          "Estados Unidos",
          "Francia",
          "Estados Unidos",
          "Estados Unidos",
          "Estados Unidos",
          "España",
          "Perú",
          "Estados Unidos",
          "Brasil",
          "Ghana",
          "Bélgica",
          "Polonia",
          "Estados Unidos",
          "Turquía",
          "Costa de Marfil",
          "Países Bajos",
          "Colombia",
          "Croacia",
          "China",
          "Estados Unidos",
          "Japón",
          "Camerún",
          "Argelia",
          "Colombia",
          "Japón",
          "SudAfrica",
          "Portugal",
          "Brasil",
          "Brasil",
          "Ucrania",
          "Indonesia",
          "Uruguay",
          "China",
          "India",
          "Egipto",
          "Estados Unidos",
          "India",
          "Francia",
          "India",
          "Francia",
          "Turquía",
          "Japón",
          "Estados Unidos",
          "Nigeria",
          "Reino Unido",
          "Estados Unidos",
          "China",
          "Alemania",
          "Brasil",
          "Estados Unidos",
          "Italia",
          "China",
          "Sierra Leona",
          "Colombia",
          "Canada",
          "Malasia",
          "China",
          "Estados Unidos",
          "Estados Unidos",
          "Alemania",
          "Egipto",
          "Francia",
          "Chile",
          "Francia",
          "Estados Unidos",
          "China",
          "Brasil",
          "SudAfrica",
          "China",
          "Ucrania",
          "Estados Unidos",
          "India",
          "China",
          "Brasil",
          "Estados Unidos",
          "Italia",
          "Brasil",
          "Suazilandia",
          "Francia",
          "Filipinas",
          "Guinea",
          "Argelia",
          "Estados Unidos",
          "Brasil",
          "Israel",
          "China",
          "Estados Unidos",
          "Irán",
          "Colombia",
          "Venezuela",
          "Turquía",
          "Ucrania",
          "Estados Unidos",
          "México",
          "Bielorrusia",
          "Irán",
          "Estados Unidos",
          "España",
          "Hong Kong",
          "España",
          "Libia",
          "Reino Unido",
          "Estados Unidos",
          "Estados Unidos",
          "Alemania",
          "Brasil",
          "Zimbabue",
          "Japón",
          "Italia",
          "China",
          "Costa de Marfil",
          "Italia",
          "Francia",
          "Estados Unidos",
          "Japón",
          "Estados Unidos",
          "Reino Unido",
          "India",
          "Australia",
          "Bélgica",
          "Guinea",
          "México",
          "China",
          "Marruecos",
          "Perú",
          "Uzbekistán",
          "Francia",
          "Brasil",
          "Alemania",
          "Turquía",
          "España",
          "Reino Unido",
          "Estados Unidos",
          "Australia",
          "Irán",
          "Estados Unidos",
          "Brasil",
          "China",
          "Ucrania",
          "Estados Unidos",
          "Angola",
          "Francia",
          "Rusia",
          "Brasil",
          "Ecuador",
          "China",
          "Estados Unidos",
          "Indonesia",
          "Rumania",
          "Brasil",
          "Brasil",
          "Mozambique",
          "China",
          "Francia",
          "Ucrania",
          "Brasil",
          "Turquía",
          "Nigeria",
          "Egipto",
          "China",
          "España",
          "Kazajistán",
          "Irán",
          "Camerún",
          "China",
          "México",
          "Dinamarca",
          "España",
          "Chile",
          "Brasil",
          "Reino Unido",
          "Estados Unidos",
          "China",
          "Alemania",
          "Ucrania",
          "Estados Unidos",
          "Venezuela",
          "Francia",
          "Egipto",
          "Angola",
          "Estados Unidos",
          "Rusia",
          "Francia",
          "Italia",
          "Portugal",
          "Brasil",
          "Estados Unidos",
          "Turquía",
          "Reino Unido",
          "Rusia",
          "Japón",
          "Noruega",
          "Reino Unido",
          "Canada",
          "Brasil",
          "Uzbekistán",
          "Guatemala",
          "Francia",
          "Reino Unido",
          "Estados Unidos",
          "Chile",
          "Estados Unidos",
          "Estados Unidos",
          "Francia",
          "República Checa",
          "Alemania",
          "Estados Unidos",
          "Corea del Sur",
          "India",
          "Brasil",
          "Japón",
          "India",
          "China",
          "Turquía",
          "Albania",
          "Alemania",
          "Francia",
          "Francia",
          "Estados Unidos",
          "México",
          "Reino Unido",
          "Francia",
          "Guatemala",
          "China",
          "Turquía",
          "China",
          "Venezuela",
          "Argentina",
          "Marruecos",
          "Estados Unidos",
          "Bélgica",
          "China",
          "Colombia",
          "Brasil",
          "Estados Unidos",
          "Marruecos",
          "Turquía",
          "Nigeria",
          "China",
          "Francia",
          "Francia",
          "Estados Unidos",
          "Madagascar",
          "China",
          "Argentina",
          "Alemania",
          "Reino Unido",
          "Paraguay",
          "Estados Unidos",
          "Suiza",
          "República Dominicana",
          "España",
          "China",
          "México",
          "Turquía",
          "Reino Unido",
          "Omán",
          "Estados Unidos",
          "Kazajistán",
          "Perú",
          "Rumania",
          "China",
          "China",
          "Egipto",
          "Italia",
          "Reino Unido",
          "Reino Unido",
          "Marruecos",
          "Estados Unidos",
          "India",
          "Estados Unidos",
          "Estados Unidos",
          "Canada",
          "Marruecos",
          "Francia",
          "Estados Unidos",
          "China",
          "Francia",
          "Estados Unidos",
          "China",
          "Estados Unidos",
          "México",
          "Alemania",
          "Francia",
          "Ucrania",
          "Estados Unidos",
          "Estados Unidos",
          "Irán",
          "Francia",
          "SudAfrica",
          "Ucrania",
          "Alemania",
          "SudAfrica",
          "Brasil",
          "República Checa",
          "Costa Rica",
          "Estados Unidos",
          "Estados Unidos",
          "Perú",
          "Brasil",
          "Francia",
          "Venezuela",
          "Estados Unidos",
          "Benín",
          "Reino Unido",
          "Japón",
          "Macedonia",
          "Brasil",
          "Francia",
          "Colombia",
          "Francia",
          "Canada",
          "Estados Unidos",
          "Tayikistán",
          "China",
          "China",
          "China",
          "Estados Unidos",
          "Perú",
          "Estados Unidos",
          "Estados Unidos",
          "Francia",
          "Chile",
          "Irlanda",
          "Estados Unidos",
          "Reino Unido",
          "Brasil",
          "Irán",
          "Kazajistán",
          "Brasil",
          "Ucrania",
          "Tanzania",
          "China",
          "Portugal",
          "Benín",
          "Perú",
          "Filipinas",
          "Brasil",
          "Bélgica",
          "Chile",
          "Italia",
          "Estados Unidos",
          "Pakistán",
          "Brasil",
          "Estados Unidos",
          "Francia",
          "Egipto",
          "Francia",
          "Canada",
          "Polonia",
          "Bulgaria",
          "China",
          "Estados Unidos",
          "Libia",
          "Marruecos",
          "Estados Unidos",
          "China",
          "Camerún",
          "Suecia",
          "Estados Unidos",
          "Países Bajos",
          "España",
          "China",
          "Italia",
          "Estados Unidos",
          "Italia",
          "Brasil",
          "República Democrática del Congo",
          "Turquía",
          "México",
          "Estados Unidos",
          "China",
          "Turquía",
          "Francia",
          "Estados Unidos",
          "Estados Unidos",
          "Alemania",
          "China",
          "Estados Unidos",
          "Italia",
          "Alemania",
          "México",
          "República del Congo",
          "Brasil",
          "Estados Unidos",
          "Turquía",
          "Países Bajos",
          "Estados Unidos",
          "Estados Unidos",
          "Sudán del Sur",
          "Francia",
          "Portugal",
          "Brasil",
          "Estados Unidos",
          "China",
          "Francia",
          "Países Bajos",
          "Alemania",
          "Reino Unido",
          "Brasil",
          "Alemania",
          "Polonia",
          "Níger",
          "Turquía",
          "Ucrania",
          "Argentina",
          "India",
          "Brasil",
          "Francia",
          "Francia",
          "China",
          "Francia",
          "Brasil",
          "Estados Unidos",
          "Estados Unidos",
          "Australia",
          "Nigeria",
          "China",
          "Líbano",
          "Italia",
          "SudAfrica",
          "Estados Unidos",
          "México",
          "Bután",
          "Canada",
          "Francia",
          "Reino Unido",
          "Estados Unidos",
          "Francia",
          "China",
          "Turquía",
          "Reino Unido",
          "Estados Unidos",
          "Grecia",
          "Estados Unidos",
          "Australia",
          "Zambia",
          "Estados Unidos",
          "Rumania",
          "Eslovaquia",
          "Japón",
          "Francia",
          "Ucrania",
          "Francia",
          "Nueva Zelanda",
          "Egipto",
          "Estados Unidos",
          "Camerún",
          "Croacia",
          "Reino Unido",
          "Canada",
          "Brasil",
          "Turquía",
          "Paraguay",
          "Francia",
          "España",
          "Irán",
          "India",
          "Francia",
          "Estados Unidos",
          "Brasil",
          "Mozambique",
          "Reino Unido",
          "China",
          "Ucrania",
          "Francia",
          "Francia",
          "Brasil",
          "SudAfrica",
          "Brasil",
          "Alemania",
          "Liberia",
          "Francia",
          "China",
          "Italia",
          "Brasil",
          "China",
          "Estados Unidos",
          "Nueva Zelanda",
          "Reino Unido",
          "Estados Unidos",
          "Brasil",
          "Estados Unidos",
          "Turquía",
          "Reino Unido",
          "Estados Unidos",
          "Chile",
          "Irán",
          "Brasil",
          "Albania",
          "China",
          "Alemania",
          "Polonia",
          "Estados Unidos",
          "México",
          "España",
          "Estados Unidos",
          "Francia",
          "Tailandia",
          "India",
          "China",
          "Argelia",
          "España",
          "Brasil",
          "Polonia",
          "Nueva Zelanda",
          "Francia",
          "India",
          "Brasil",
          "Italia",
          "Estados Unidos",
          "Francia",
          "Francia",
          "Reino Unido",
          "Paraguay",
          "India",
          "México",
          "Turquía",
          "Ucrania",
          "Italia",
          "Tanzania",
          "Polonia",
          "China",
          "Francia",
          "Países Bajos",
          "Estados Unidos",
          "España",
          "Brasil",
          "Benín",
          "Turquía",
          "Estados Unidos",
          "Países Bajos",
          "Brasil",
          "Estados Unidos",
          "Reino Unido",
          "Rumania",
          "Costa de Marfil",
          "Estados Unidos",
          "Brasil",
          "Alemania",
          "Canada",
          "Países Bajos",
          "Francia",
          "Estados Unidos",
          "Portugal",
          "España",
          "Francia",
          "Turquía",
          "Ucrania",
          "Israel",
          "Colombia",
          "India",
          "China",
          "Israel",
          "Estados Unidos",
          "Costa de Marfil",
          "Estados Unidos",
          "India",
          "Estados Unidos",
          "Indonesia",
          "Bulgaria",
          "Francia",
          "Francia",
          "Brasil",
          "Alemania",
          "Brasil",
          "Estados Unidos",
          "Italia",
          "China",
          "Brasil",
          "Siria",
          "Brasil",
          "Brasil",
          "Estados Unidos",
          "Estados Unidos",
          "Rusia",
          "Reino Unido",
          "Estados Unidos",
          "Nueva Zelanda",
          "China",
          "Reino Unido",
          "Francia",
          "Reino Unido",
          "Bolivia",
          "India",
          "Estados Unidos",
          "Surinam",
          "Irán",
          "China",
          "Irán",
          "Argelia",
          "Estados Unidos",
          "Rusia",
          "Egipto",
          "SudAfrica",
          "China",
          "Brasil",
          "Estados Unidos",
          "Senegal",
          "Alemania",
          "Baréin",
          "Alemania",
          "Irán",
          "República Checa",
          "Argentina",
          "Marruecos",
          "Brasil",
          "Estados Unidos",
          "Italia",
          "Japón",
          "Corea del Sur",
          "Bolivia",
          "Estados Unidos",
          "Japón",
          "Francia",
          "Egipto",
          "Estados Unidos",
          "Irán",
          "Colombia",
          "Reino Unido",
          "Francia",
          "Argelia",
          "Francia",
          "Francia",
          "Reino Unido",
          "México",
          "Japón",
          "India",
          "India",
          "Colombia",
          "Países Bajos",
          "Alemania",
          "Bulgaria",
          "China",
          "Rusia",
          "China",
          "Francia",
          "Estados Unidos",
          "Estados Unidos",
          "Reino Unido",
          "China",
          "Francia",
          "Estados Unidos",
          "Madagascar",
          "Bélgica",
          "Kuwait",
          "Países Bajos",
          "Alemania",
          "India",
          "Japón",
          "India",
          "Alemania",
          "Bosnia y Herzegovina",
          "India",
          "Egipto",
          "Bulgaria",
          "Francia",
          "Italia",
          "España",
          "Canada",
          "Colombia",
          "Francia",
          "Estados Unidos",
          "Tanzania",
          "Reino Unido",
          "Brasil",
          "India",
          "Francia",
          "Estados Unidos",
          "Estados Unidos",
          "España",
          "Argentina",
          "Francia",
          "Estados Unidos",
          "Estados Unidos",
          "Estados Unidos",
          "Venezuela",
          "China",
          "Estados Unidos",
          "China",
          "Italia",
          "India",
          "Bielorrusia",
          "China",
          "Francia",
          "Estados Unidos",
          "Chile",
          "Estados Unidos",
          "Zambia",
          "China",
          "China",
          "Marruecos",
          "Brasil",
          "Francia",
          "India",
          "Francia",
          "Argentina",
          "Francia",
          "Turquía",
          "Francia",
          "Polonia",
          "Canada",
          "Estados Unidos",
          "Francia",
          "Francia",
          "Turquía",
          "Colombia",
          "Tanzania",
          "Rusia",
          "Francia",
          "México",
          "Irak",
          "Rumania",
          "India",
          "Bulgaria",
          "Brasil",
          "Bélgica",
          "China",
          "Lituania",
          "Ecuador",
          "República Checa",
          "Estados Unidos",
          "Brasil",
          "China",
          "Canada",
          "India",
          "Irak",
          "Perú",
          "China",
          "Estados Unidos",
          "Reino Unido",
          "Estados Unidos",
          "Francia",
          "China",
          "China",
          "Alemania",
          "Estados Unidos",
          "Estados Unidos",
          "Francia",
          "Estados Unidos",
          "Estados Unidos",
          "Kazajistán",
          "Bulgaria",
          "Canada",
          "Francia",
          "Guinea Ecuatorial",
          "Canada",
          "China",
          "Japón",
          "Estados Unidos",
          "Brasil",
          "Marruecos",
          "Turquía",
          "Alemania",
          "Alemania",
          "Italia",
          "Estados Unidos",
          "SudAfrica",
          "Zimbabue",
          "Italia",
          "Reino Unido",
          "Estados Unidos",
          "Japón",
          "Francia",
          "Rumania",
          "Tanzania",
          "Canada",
          "Turquía",
          "Irán",
          "Alemania",
          "Francia",
          "Suecia",
          "Estados Unidos",
          "India",
          "Senegal",
          "Estados Unidos",
          "Polonia",
          "Alemania",
          "Colombia",
          "China",
          "Rusia",
          "Eritrea",
          "India",
          "Estados Unidos",
          "Brasil",
          "Brasil",
          "Japón",
          "Tanzania",
          "India",
          "Yemen",
          "Estados Unidos",
          "Brasil",
          "Turquía",
          "Canada",
          "Brasil",
          "Reino Unido",
          "Bielorrusia",
          "Italia",
          "Alemania",
          "Estados Unidos",
          "Estados Unidos",
          "Brasil",
          "Brasil",
          "Francia",
          "Suecia",
          "Estados Unidos",
          "China",
          "México",
          "Francia",
          "China",
          "Sudán",
          "Francia",
          "Kenia",
          "Brasil",
          "Laos",
          "Venezuela",
          "India",
          "Estados Unidos",
          "Francia",
          "China",
          "Canada",
          "Estados Unidos",
          "Argelia",
          "Filipinas",
          "Bangladés",
          "Francia",
          "Estados Unidos",
          "Mali",
          "Finlandia",
          "Estados Unidos",
          "Estados Unidos",
          "Estados Unidos",
          "Reino Unido",
          "Japón",
          "Francia",
          "Francia",
          "Japón",
          "Sierra Leona",
          "Irán",
          "Ucrania",
          "Tanzania",
          "China",
          "Polonia",
          "Italia",
          "Burundi",
          "Irak",
          "Estados Unidos",
          "Turquía",
          "Estados Unidos",
          "Turquía",
          "Brasil",
          "Estados Unidos",
          "Bielorrusia",
          "Benín",
          "China",
          "Polonia",
          "Irán",
          "Brasil",
          "Irán",
          "Brasil",
          "China",
          "Bulgaria",
          "Suecia",
          "España",
          "Irán",
          "Filipinas",
          "Francia",
          "Canada",
          "Ucrania",
          "Togo",
          "Reino Unido",
          "Angola",
          "Kenia",
          "Estados Unidos",
          "Turquía",
          "Egipto",
          "India",
          "Colombia",
          "Austria",
          "Italia",
          "Francia",
          "Brasil",
          "SudAfrica",
          "Venezuela",
          "Camerún",
          "Francia",
          "Brasil",
          "Brasil",
          "China",
          "Japón",
          "Argentina",
          "Brasil",
          "Venezuela",
          "India",
          "China",
          "Estados Unidos",
          "Brasil",
          "Israel",
          "Irán",
          "España",
          "Filipinas",
          "Reino Unido",
          "Estados Unidos",
          "Francia",
          "Brasil",
          "Francia",
          "Estados Unidos",
          "Estados Unidos",
          "Camerún",
          "Rusia",
          "Turquía",
          "Brasil",
          "Alemania",
          "Estados Unidos",
          "Dinamarca",
          "Italia",
          "Macedonia",
          "Brasil",
          "Canada",
          "Italia",
          "Alemania",
          "Irán",
          "SudAfrica",
          "Italia",
          "Francia",
          "Mozambique",
          "Irán",
          "Brasil",
          "Brasil",
          "Francia",
          "Turquía",
          "Togo",
          "Brasil",
          "Brasil",
          "Estonia",
          "Indonesia",
          "Japón",
          "Estados Unidos",
          "Estados Unidos",
          "Irán",
          "España",
          "China",
          "Japón",
          "SudAfrica",
          "India",
          "Australia",
          "Nigeria",
          "China",
          "Reino Unido",
          "Francia",
          "Estados Unidos",
          "Brasil",
          "Armenia",
          "China",
          "Serbia",
          "Paraguay",
          "Brasil",
          "India",
          "Nigeria",
          "Francia",
          "Estados Unidos",
          "China",
          "Eslovaquia",
          "Indonesia",
          "Estados Unidos",
          "Irán",
          "India",
          "Bulgaria",
          "Argentina",
          "Nigeria",
          "Turquía",
          "Zambia",
          "Brasil",
          "Francia",
          "Brasil",
          "Japón",
          "SudAfrica",
          "México",
          "SudAfrica",
          "Estados Unidos",
          "Estados Unidos",
          "Estados Unidos",
          "Marruecos",
          "Italia",
          "Francia",
          "Estados Unidos",
          "Egipto",
          "Egipto",
          "Japón",
          "Francia",
          "Rumania",
          "Hungría",
          "Estados Unidos",
          "India",
          "Estados Unidos",
          "República Democrática del Congo",
          "Irán",
          "Eslovenia",
          "China",
          "Brasil",
          "Países Bajos",
          "Perú",
          "España",
          "Nueva Zelanda",
          "Francia",
          "Brasil",
          "Estados Unidos",
          "Italia",
          "Zimbabue",
          "Lituania",
          "Reino Unido",
          "Francia",
          "Italia",
          "Estados Unidos",
          "Países Bajos",
          "Países Bajos",
          "China",
          "Francia",
          "Sierra Leona",
          "Francia",
          "Estados Unidos",
          "Perú",
          "Estados Unidos",
          "Francia",
          "Bielorrusia",
          "Estados Unidos",
          "Estados Unidos",
          "Brasil",
          "Estados Unidos",
          "Rumania",
          "China",
          "Ucrania",
          "Estonia",
          "China",
          "Brasil",
          "China",
          "Francia",
          "República Democrática del Congo",
          "Austria",
          "Venezuela",
          "Estados Unidos",
          "Kazajistán",
          "Japón",
          "Estados Unidos",
          "Italia",
          "China",
          "India",
          "Francia",
          "Pakistán",
          "Bosnia y Herzegovina",
          "India",
          "Rumania",
          "China",
          "Egipto",
          "Francia",
          "Estados Unidos",
          "Camerún",
          "Estados Unidos",
          "Reino Unido",
          "Estados Unidos",
          "Francia",
          "China",
          "Suecia",
          "Brasil",
          "Turquía",
          "Estados Unidos",
          "Turquía",
          "Francia",
          "Polonia",
          "Brasil",
          "Brasil",
          "Perú",
          "Ruanda",
          "Turquía",
          "Francia",
          "Estados Unidos",
          "Rusia",
          "SudAfrica",
          "Egipto",
          "Rumania",
          "Estados Unidos",
          "Brasil",
          "Liberia",
          "Reino Unido",
          "Reino Unido",
          "Reino Unido",
          "Rusia",
          "Chile",
          "Francia",
          "Estados Unidos",
          "Reino Unido",
          "Francia",
          "Estados Unidos",
          "Tanzania",
          "Turquía",
          "Italia",
          "México",
          "Sáhara Occidental",
          "Alemania",
          "Rumania",
          "Portugal",
          "Indonesia",
          "China",
          "Brasil",
          "China",
          "República Democrática del Congo",
          "SudAfrica",
          "Estados Unidos",
          "Madagascar",
          "Estados Unidos",
          "Venezuela",
          "Zambia",
          "Argelia",
          "China",
          "Países Bajos",
          "Francia",
          "Estados Unidos",
          "Estados Unidos",
          "Estados Unidos",
          "España",
          "Estados Unidos",
          "China",
          "Indonesia",
          "Reino Unido",
          "Reino Unido",
          "China",
          "China",
          "Estados Unidos",
          "Bélgica",
          "Países Bajos",
          "Marruecos",
          "Turquía",
          "Polonia",
          "China",
          "Estados Unidos",
          "Estados Unidos",
          "Estados Unidos",
          "Turquía",
          "Italia",
          "Colombia",
          "Francia",
          "Perú",
          "Camerún",
          "Ecuador",
          "China",
          "Brasil",
          "España",
          "Brasil",
          "Estados Unidos",
          "Egipto",
          "Estados Unidos",
          "India",
          "Rusia",
          "Argentina",
          "SudAfrica",
          "China",
          "Turquía",
          "China",
          "SudAfrica",
          "Uzbekistán",
          "Italia",
          "Brasil",
          "Argentina",
          "Ucrania",
          "Venezuela",
          "Turquía",
          "China",
          "Mali",
          "Italia",
          "Rusia",
          "Japón",
          "Ucrania",
          "Bélgica",
          "Argelia",
          "Mozambique",
          "Alemania",
          "Bulgaria",
          "China",
          "China",
          "Estados Unidos",
          "Irán",
          "Alemania",
          "Estados Unidos",
          "Estados Unidos",
          "Reino Unido",
          "Ucrania",
          "Alemania",
          "Chile",
          "Francia",
          "México",
          "Reino Unido",
          "Bielorrusia",
          "Irán",
          "Francia",
          "Jordania",
          "Colombia",
          "Rusia",
          "Estados Unidos",
          "Estados Unidos",
          "Estados Unidos",
          "Francia",
          "Reino Unido",
          "España",
          "Estados Unidos",
          "Australia",
          "Turquía",
          "Australia",
          "Francia",
          "Brasil",
          "Brasil",
          "Rumania",
          "Japón",
          "Estados Unidos",
          "Francia",
          "República Democrática del Congo",
          "Marruecos",
          "India",
          "Egipto",
          "Brasil",
          "Estados Unidos",
          "Croacia",
          "Chile",
          "Yemen",
          "Estados Unidos",
          "Nueva Zelanda",
          "India",
          "Madagascar",
          "Reino Unido",
          "Bolivia",
          "Alemania",
          "Estados Unidos",
          "Francia",
          "Francia",
          "Francia",
          "Brasil",
          "Francia",
          "Brasil",
          "España",
          "Alemania",
          "México",
          "Turquía",
          "China",
          "Japón",
          "Sudán",
          "Malasia",
          "Bélgica",
          "Alemania",
          "Estados Unidos",
          "Estados Unidos",
          "India",
          "Costa de Marfil",
          "Nigeria",
          "Estados Unidos",
          "Italia",
          "Estados Unidos",
          "Turquía",
          "Filipinas",
          "Alemania",
          "Moldavia",
          "Alemania",
          "Francia",
          "Italia",
          "Camerún",
          "India",
          "India",
          "Ucrania",
          "Países Bajos",
          "India",
          "Estados Unidos",
          "Francia",
          "Corea del Sur",
          "Irán",
          "Vietnam",
          "China",
          "Nigeria",
          "SudAfrica",
          "Francia",
          "Canada",
          "Tanzania",
          "Indonesia",
          "Ucrania",
          "Polonia",
          "Francia",
          "Argentina",
          "Estados Unidos",
          "Brasil",
          "Estados Unidos",
          "Estados Unidos",
          "China",
          "Bangladés",
          "Japón",
          "Rumania",
          "Reino Unido",
          "Tanzania",
          "China",
          "Venezuela",
          "Turquía",
          "Estados Unidos",
          "España",
          "Estados Unidos",
          "Japón",
          "Francia",
          "España",
          "Turquía",
          "Francia",
          "Tanzania",
          "Brasil",
          "Brasil",
          "Francia",
          "Estados Unidos",
          "Brasil",
          "Argentina",
          "Japón",
          "Suecia",
          "República Dominicana",
          "Brasil",
          "Estados Unidos",
          "Francia",
          "Japón",
          "China",
          "Alemania",
          "Irán",
          "India",
          "Países Bajos",
          "Australia",
          "Francia",
          "Israel",
          "Belice",
          "Brasil",
          "Brasil",
          "Argentina",
          "China",
          "Italia",
          "Brasil",
          "Guayana Francesa",
          "Estados Unidos",
          "China",
          "China",
          "Japón",
          "Brasil",
          "República Checa",
          "Bélgica",
          "Francia",
          "México",
          "Estados Unidos",
          "Polonia",
          "Brasil",
          "España",
          "Polonia",
          "Estados Unidos",
          "Alemania",
          "Estados Unidos",
          "Francia",
          "Nigeria",
          "Ecuador",
          "Francia",
          "Nigeria",
          "Alemania",
          "Uganda",
          "Benín",
          "China",
          "República de Gambia",
          "Alemania",
          "Estados Unidos",
          "Italia",
          "Italia",
          "Japón",
          "Chad",
          "Bolivia",
          "Francia",
          "China",
          "Indonesia",
          "Mongolia",
          "Estados Unidos",
          "Italia",
          "India",
          "Italia",
          "Alemania",
          "Reino Unido",
          "Alemania",
          "China",
          "Argentina",
          "China",
          "Italia",
          "Reino Unido",
          "Chile",
          "Australia",
          "Francia",
          "Colombia",
          "Italia",
          "Australia",
          "Estados Unidos",
          "Estados Unidos",
          "Italia",
          "Francia",
          "Ruanda",
          "Japón",
          "Estados Unidos",
          "Estados Unidos",
          "Francia",
          "China",
          "Reino Unido",
          "Francia",
          "Turquía",
          "Venezuela",
          "Francia",
          "Estados Unidos",
          "Brasil",
          "China",
          "India",
          "Alemania",
          "China",
          "Zambia",
          "China",
          "Alemania",
          "Países Bajos",
          "Estados Unidos",
          "España",
          "Países Bajos",
          "Nueva Zelanda",
          "Turquía",
          "Perú",
          "Polonia",
          "Estados Unidos",
          "Estados Unidos",
          "Estados Unidos",
          "Colombia",
          "India",
          "Turquía",
          "Canada",
          "Estados Unidos",
          "Estados Unidos",
          "Polonia",
          "Irán",
          "Francia",
          "Italia",
          "Colombia",
          "Estados Unidos",
          "Estados Unidos",
          "Italia",
          "Argentina",
          "China",
          "Estados Unidos",
          "Argentina",
          "Japón",
          "Alemania",
          "Francia",
          "Japón",
          "Brasil",
          "Nigeria",
          "Francia",
          "Zambia",
          "Ucrania",
          "Rusia",
          "España",
          "Estados Unidos",
          "Reino Unido",
          "Australia",
          "Bosnia y Herzegovina",
          "Kazajistán",
          "Israel",
          "Reino Unido",
          "Turquía",
          "Reino Unido",
          "Reino Unido",
          "Colombia",
          "Estados Unidos",
          "Ucrania",
          "Irán",
          "Brasil",
          "China",
          "China",
          "Brasil",
          "Alemania",
          "Países Bajos",
          "Australia",
          "Estados Unidos",
          "Nueva Zelanda",
          "Polonia",
          "Australia",
          "Arabia Saudí",
          "Francia",
          "Turkmenistán",
          "Francia",
          "Turquía",
          "Estados Unidos",
          "Brasil",
          "Italia",
          "Brasil",
          "Francia",
          "Japón",
          "Arabia Saudí",
          "Venezuela",
          "China",
          "China",
          "Japón",
          "Estados Unidos",
          "Nueva Zelanda",
          "India",
          "Rusia",
          "Estados Unidos",
          "China",
          "Francia",
          "Ghana",
          "Estados Unidos",
          "China",
          "Brasil",
          "Estados Unidos",
          "Francia",
          "Francia",
          "India",
          "India",
          "Alemania",
          "Estados Unidos",
          "Reino Unido",
          "Estados Unidos",
          "Italia",
          "España",
          "Reino Unido",
          "India",
          "Rusia",
          "Francia",
          "China",
          "India",
          "Francia",
          "China",
          "Vietnam",
          "Italia",
          "Brasil",
          "Estados Unidos",
          "China",
          "España",
          "Francia",
          "SudAfrica",
          "Brasil",
          "Francia",
          "Georgia",
          "Brasil",
          "Jordania",
          "Corea del Sur",
          "Francia",
          "Colombia",
          "Turquía",
          "China",
          "Arabia Saudí",
          "Angola",
          "Brasil",
          "España",
          "México",
          "Nigeria",
          "China",
          "Rumania",
          "Kenia",
          "Alemania",
          "Estados Unidos",
          "Francia",
          "Alemania",
          "Rusia",
          "Reino Unido",
          "Marruecos",
          "India",
          "Nueva Zelanda",
          "Estados Unidos",
          "Taiwán",
          "Angola",
          "Dinamarca",
          "Marruecos",
          "Australia",
          "Guinea-Bissau",
          "Alemania",
          "India",
          "China",
          "Afganistán",
          "Reino Unido",
          "Italia",
          "Alemania"
         ],
         "name": "",
         "type": "choropleth",
         "z": [
          51111.670019226,
          47889.759868052,
          40973.640055548996,
          38014.360024245,
          34319.950107221,
          33523.45000921,
          32281.59999116,
          31194.520013319998,
          26661.430046261,
          26414.899993675,
          25937.880031669,
          25519.480004967,
          23243.620260894,
          23237.500039629,
          22552.069922579998,
          22284.999902476,
          21554.380039922,
          21132.100044454,
          20782.739976634,
          20755.650093294,
          19695.110025472,
          18000.439984895,
          17899.760061402,
          17842.569956317,
          16557.459957359,
          16426.78005654,
          16397.909852507,
          16336.350057013,
          14916.369985768999,
          14625.150078974,
          13848.479959483999,
          13727.239987567,
          13688.990039842,
          13455.679941132,
          12488.750006934999,
          12473.060105319999,
          12366.699907545,
          12254.079972737,
          11848.889988220999,
          11399.469955706,
          11056.930067052,
          10950.350011598,
          10677.010060313,
          10491.430000913999,
          10429.329952855,
          10394.150055185999,
          10284.309997943,
          10203.430025319,
          10135.040041656,
          10014.039995165,
          9986.779966871,
          9951.210077263,
          9621.310017079,
          9549.979952754,
          9325.33996968,
          9200.170033576,
          9136.049861731,
          9026.219993781,
          8951.340038606,
          8939.189981874,
          8874.919973377,
          8811.040029917,
          8703.079940598,
          8666.070058607,
          8468.439924101,
          8306.850068305,
          8160.799996042,
          8096.650127777,
          8030.749950005,
          7865.320008984,
          7650.319993012,
          7486.800130873,
          7384.130075879,
          7156.510005053,
          7115.9000276940005,
          7098.950042575,
          7067.230082088,
          6912.050004275,
          6865.150001322,
          6856.040031887,
          6855.340036653,
          6849.079954524,
          6735.060006699,
          6682.770079773,
          6485.539949121,
          6470.050076781,
          6438.469979319,
          6427.370038117,
          6343.099958404,
          6319.7100842,
          6310.430119628,
          6292.789980844,
          6282.340013537,
          6267.339912763,
          6225.650006093,
          6187.81998473,
          6119.5600103609995,
          6111.90004566,
          6091.809966167,
          6090.589917284,
          6088.42991538,
          6073.889939726,
          6041.050021617,
          6027.070025311,
          6013.630035007,
          5943.33003771,
          5925.410061628,
          5842.689967201,
          5839.199999781999,
          5814.479978309,
          5723.840023394,
          5656.229961669,
          5597.72007584,
          5582.42994774,
          5465.130035276,
          5415.700016909,
          5251.930006025,
          5217.909960534,
          5208.509978665,
          5201.570047276,
          5192.720049168,
          5182.960024116,
          5092.139946063,
          5019.159959557,
          5003.1500774179995,
          4987.3999649140005,
          4986.130048202,
          4983.650026051,
          4968.089978435,
          4942.389969067,
          4873.030001734,
          4867.059985271,
          4853.25001778,
          4836.3400265,
          4775.890042825,
          4771.060055014,
          4755.170010906,
          4731.039965394,
          4730.340023142,
          4726.9799909779995,
          4699.880027872,
          4675.139948274,
          4630.760040303,
          4589.319983186,
          4561.590038495,
          4550.579986612,
          4523.519997374,
          4504.779924923,
          4501.810024822,
          4474.589962653,
          4402.719960227,
          4397.979965831,
          4367.269978467,
          4348.520051614,
          4339.480013917,
          4320.159995974,
          4309.350026929,
          4305.419971053,
          4262.389902633,
          4248.930007117,
          4248.7999675460005,
          4245.9100169289995,
          4209.950006191,
          4139.779958233999,
          4114.5799968559995,
          4090.910009346,
          4061.580016156,
          4059.85003289,
          3994.320015139,
          3993.3200257999997,
          3992.990005648,
          3974.520020157,
          3969.52003978,
          3968.229987242,
          3955.169978876,
          3910.009998423,
          3906.560001202,
          3862.379982021,
          3860.380014737,
          3843.060029505,
          3840.679910233,
          3834.380079818,
          3832.389968901,
          3807.180071371,
          3795.350005914,
          3789.480047165,
          3752.190001181,
          3744.24001787,
          3738.510016056,
          3725.879975886,
          3708.60000051,
          3701.859998829,
          3685.9100187520003,
          3679.9599965849998,
          3678.259985072,
          3668.440021135,
          3666.89995832,
          3665.960013499,
          3653.489974019,
          3641.240013452,
          3637.2700247549997,
          3631.790017679,
          3622.709993088,
          3590.899988226,
          3578.340034428,
          3572.680022666,
          3539.640030282,
          3522.419937282,
          3505.7499999359998,
          3478.699974303,
          3464.649994859,
          3447.2800095459997,
          3432.079981435,
          3427.769994339,
          3426.249988317,
          3423.960008963,
          3418.330092408,
          3409.249985375,
          3409.06999553,
          3408.44999168,
          3398.249999046,
          3396.69005839,
          3382.530030202,
          3379.270022486,
          3355.309942391,
          3349.440000305,
          3332.3600134559997,
          3327.270003557,
          3314.559981867,
          3292.070063715,
          3290.979995318,
          3275.8400287130003,
          3270.880011507,
          3262.0800305479997,
          3243.9999958079998,
          3242.310019777,
          3236.130018564,
          3233.97001245,
          3233.739944199,
          3233.509996165,
          3225.830055089,
          3223.05999583,
          3194.7100335200003,
          3173.569976327,
          3163.930042372,
          3157.330078746,
          3150.230004586,
          3147.2000113060003,
          3145.03996686,
          3143.929981444,
          3142.520037151,
          3128.479966243,
          3121.589982824,
          3118.339948344,
          3079.850034407,
          3074.070016797,
          3071.269956539,
          3066.3300162680002,
          3049.889958822,
          3035.950007416,
          3017.880021665,
          3009.389980854,
          3001.130006463,
          2998.07000744,
          2978.79000706,
          2978.239994467,
          2975.080043856,
          2974.63000826,
          2974.079989505,
          2973.969948329,
          2971.710024352,
          2962.529987145,
          2936.989984514,
          2928.359979141,
          2925.250036458,
          2916.110004297,
          2903.330008445,
          2897.430014093,
          2895.460014448,
          2892.180007054,
          2891.579965896,
          2885.17999827,
          2878.020035077,
          2872.410010226,
          2858.469990804,
          2854.580000844,
          2848.239968273,
          2842.170010412,
          2839.490007289,
          2802.839996444,
          2793.609987969,
          2773.6800215139997,
          2763.6299996870002,
          2757.070021129,
          2748.879983358,
          2748.080092975,
          2745.870017808,
          2742.140018441,
          2741.260037041,
          2736.859995651,
          2723.660009161,
          2722.149984266,
          2720.350026767,
          2718.300012665,
          2717.620010956,
          2717.239998697,
          2709.770007146,
          2709.740028419,
          2707.680009306,
          2704.7199776899997,
          2689.449996049,
          2684.909992471,
          2681.250001131,
          2664.349960114,
          2660.6699847669997,
          2655.739946393,
          2646.350010684,
          2639.269993018,
          2601.340000215,
          2600.310024491,
          2596.5200051379998,
          2585.079995121,
          2582.1300804569996,
          2572.860016315,
          2569.070011582,
          2568.709990229,
          2564.359974588,
          2557.909990699,
          2544.089988657,
          2538.52999616,
          2536.129982388,
          2527.740019374,
          2526.060023165,
          2517.750010377,
          2510.169997469,
          2501.690004987,
          2496.059974297,
          2494.939995354,
          2491.189998932,
          2490.410014905,
          2489.940011671,
          2487.3500268149996,
          2482.660005395,
          2477.560019823,
          2474.540013425,
          2474.120012959,
          2473.8199876979997,
          2471.699964496,
          2468.100021626,
          2462.970006562,
          2460.729990633,
          2460.70998678,
          2460.140024095,
          2451.2600083830002,
          2442.610015034,
          2439.0600231569997,
          2436.250009837,
          2436.030006669,
          2422.179969087,
          2419.9599793,
          2419.169998551,
          2412.139991355,
          2407.779997005,
          2395.859992475,
          2394.809995728,
          2389.180020356,
          2385.980010524,
          2380.579994532,
          2370.430043123,
          2352.600003274,
          2348.099998021,
          2345.409986995,
          2338.160028052,
          2336.640002537,
          2335.509986518,
          2334.330006028,
          2329.339985221,
          2328.310003736,
          2326.509985063,
          2321.409980399,
          2307.659999964,
          2302.89000461,
          2296.969998075,
          2293.88997166,
          2266.17002562,
          2264.20997832,
          2261.809976328,
          2261.510019341,
          2257.240008096,
          2253.8400116029998,
          2253.210006036,
          2252.979952362,
          2249.5499820659998,
          2235.36997424,
          2232.200050262,
          2228.309999267,
          2219.070022492,
          2215.580009535,
          2214.130011407,
          2209.779953022,
          2207.519985184,
          2203.920024857,
          2202.689999256,
          2200.900012263,
          2199.2900221,
          2199.179998257,
          2198.299983392,
          2197.9900652819997,
          2197.420009465,
          2183.449980062,
          2177.050014011,
          2175.569995647,
          2174.469975747,
          2171.770034209,
          2154.549991436,
          2154.060025189,
          2150.850008084,
          2145.230002899,
          2144.5500455009997,
          2143.849998884,
          2139.900007759,
          2137.999956642,
          2137.500015448,
          2132.310002241,
          2130.70007941,
          2124.739991933,
          2121.509997227,
          2117.070012006,
          2116.320000787,
          2109.179989951,
          2106.51993531,
          2101.8399785,
          2099.280005896,
          2096.660010053,
          2096.409995759,
          2091.750002683,
          2087.050022321,
          2082.420004825,
          2079.960007291,
          2072.690033118,
          2067.150001964,
          2065.090022198,
          2062.420010011,
          2060.429985682,
          2060.229966645,
          2059.740039724,
          2056.880010556,
          2052.6399990150003,
          2048.710012918,
          2038.450019351,
          2032.280001652,
          2031.520028706,
          2030.95007335,
          2030.299995746,
          2029.630024976,
          2023.4699946189999,
          2015.7000194149998,
          2012.750005568,
          2012.720033346,
          2012.42998532,
          2009.230015926,
          2006.640010009,
          2004.249998104,
          2003.370006338,
          2003.2700062850001,
          1997.609956228,
          1994.6100313040001,
          1986.079981561,
          1984.379980313,
          1979.4300063760002,
          1975.339988495,
          1974.259995485,
          1971.070010959,
          1964.129996402,
          1962.260022043,
          1960.5900251829999,
          1956.78998945,
          1952.249992318,
          1948.030023767,
          1947.980002912,
          1937.0900121490001,
          1931.009984072,
          1929.209963195,
          1928.770002226,
          1928.590029331,
          1928.569998342,
          1924.870003649,
          1919.379988285,
          1916.130023196,
          1914.819985087,
          1912.649989144,
          1912.41999061,
          1911.589989227,
          1911.360006468,
          1910.120010265,
          1909.159992282,
          1907.7999902709998,
          1903.539990401,
          1898.949997284,
          1898.2600058189998,
          1895.2100072859998,
          1894.349982945,
          1892.099985999,
          1889.040027711,
          1882.279995547,
          1877.920016656,
          1867.589988711,
          1867.549984754,
          1866.759978993,
          1863.389991536,
          1863.09000886,
          1861.839988336,
          1860.260012981,
          1852.1599765279998,
          1849.479992021,
          1833.669975522,
          1833.590012917,
          1832.8899905790001,
          1829.389998516,
          1818.630002608,
          1818.409981333,
          1810.130021377,
          1807.23996689,
          1806.57001692,
          1806.070008612,
          1801.380006312,
          1799.930012333,
          1797.969993805,
          1797.269973679,
          1793.5400157689999,
          1792.200009768,
          1791.0400051469999,
          1789.989977514,
          1789.480013284,
          1788.4899812859999,
          1783.190008442,
          1782.69001115,
          1781.479999827,
          1780.3100559050001,
          1776.150020871,
          1775.190094192,
          1771.550015455,
          1770.870031766,
          1764.540006352,
          1763.160009338,
          1760.119977843,
          1750.320006358,
          1747.2799974559998,
          1746.380011667,
          1744.420029407,
          1743.350010396,
          1738.4400202489999,
          1738.149968443,
          1737.2400212720001,
          1733.720033005,
          1733.160025559,
          1732.7200414140002,
          1732.630010503,
          1728.060011974,
          1723.160006573,
          1720.249991103,
          1719.979990517,
          1718.3100078969999,
          1715.92999162,
          1711.539954566,
          1706.029965938,
          1703.190000196,
          1699.8499867599999,
          1694.909972257,
          1693.409963609,
          1692.720001851,
          1687.649987062,
          1686.25001172,
          1677.3599735359999,
          1677.340015455,
          1676.669986805,
          1676.429971065,
          1672.410009771,
          1670.189979397,
          1668.329980147,
          1661.610002409,
          1660.879981393,
          1659.9399960609999,
          1658.700028974,
          1656.410004324,
          1655.9400157110001,
          1655.7699669419999,
          1654.839982216,
          1653.699983984,
          1653.1400172449999,
          1651.770030108,
          1650.21999262,
          1646.9300224439999,
          1646.400018198,
          1646.240007147,
          1646.219985776,
          1645.420005012,
          1640.910001302,
          1639.839988785,
          1639.250021272,
          1636.300055852,
          1634.689992596,
          1634.220016404,
          1631.999999273,
          1626.950025831,
          1623.740014231,
          1623.460003255,
          1611.970007877,
          1608.80002783,
          1607.709972822,
          1603.589993863,
          1601.270008436,
          1595.750064522,
          1593.739990617,
          1593.609983277,
          1593.090007869,
          1592.060018574,
          1591.830006199,
          1589.079995443,
          1585.459998769,
          1579.049993568,
          1577.069996856,
          1572.9599762,
          1572.929974706,
          1571.269984886,
          1571.150011821,
          1568.14000371,
          1567.3100090720002,
          1566.499987794,
          1566.430007916,
          1563.809992234,
          1563.6100101799998,
          1560.6800187889999,
          1560.680016955,
          1560.529999313,
          1549.869975483,
          1548.240010697,
          1546.5700000969998,
          1544.950005214,
          1543.7200770349998,
          1543.5499693689999,
          1540.7400045499999,
          1537.69000975,
          1536.820004364,
          1536.249981956,
          1532.789979481,
          1532.500002824,
          1530.480024857,
          1524.669988351,
          1522.889985718,
          1522.720003862,
          1522.109992732,
          1521.060013863,
          1520.48999594,
          1511.839977585,
          1509.949984917,
          1499.2700034709999,
          1498.6300191209998,
          1497.040004552,
          1497.029963755,
          1496.600001045,
          1496.149996561,
          1494.260000277,
          1493.520023122,
          1486.399992276,
          1483.959999926,
          1479.600002015,
          1476.969974502,
          1474.090003672,
          1472.9300119400002,
          1470.15998269,
          1469.129993669,
          1468.260003468,
          1466.8100252539998,
          1465.080000955,
          1458.950002562,
          1456.8100046319998,
          1455.819987822,
          1455.529994791,
          1452.169998472,
          1451.210003798,
          1451.169983907,
          1449.910003843,
          1449.7899984199998,
          1443.479996298,
          1443.429997881,
          1441.490044696,
          1438.889986034,
          1438.77999372,
          1438.6300215899998,
          1438.090005637,
          1435.610020399,
          1434.679980711,
          1433.449987866,
          1432.769999562,
          1431.0000157949999,
          1430.939996801,
          1430.030001785,
          1429.840002573,
          1429.060031027,
          1427.269998545,
          1426.169999298,
          1423.229999829,
          1422.5999875979999,
          1421.009976717,
          1420.50002678,
          1415.8099875320002,
          1415.099989227,
          1414.010015014,
          1412.389964999,
          1409.579986127,
          1408.269937064,
          1407.259991105,
          1407.0199973879999,
          1406.709997673,
          1405.529996432,
          1404.629974849,
          1400.619997974,
          1399.860012234,
          1398.119996892,
          1397.090014526,
          1396.280008321,
          1395.829966186,
          1394.569991902,
          1393.279979316,
          1392.310011556,
          1390.3999743489999,
          1390.040014039,
          1388.200000396,
          1387.309997567,
          1385.339985,
          1384.029999199,
          1383.460000035,
          1382.9400047059999,
          1378.56000603,
          1377.710032777,
          1376.289994223,
          1371.099977302,
          1370.139983822,
          1363.809986368,
          1362.9399663010001,
          1361.0399887479998,
          1360.610006395,
          1359.9599916260001,
          1356.109989997,
          1355.489990242,
          1352.529994771,
          1351.750001974,
          1351.689978958,
          1351.499999606,
          1349.810008021,
          1345.759991847,
          1340.170005754,
          1339.519975244,
          1338.489995,
          1335.839998751,
          1335.110006435,
          1334.169987164,
          1334.069971769,
          1331.380010299,
          1331.049996238,
          1329.310015193,
          1328.330005367,
          1328.329910412,
          1324.759982763,
          1324.299999511,
          1323.6400101489999,
          1323.19999691,
          1319.179998973,
          1318.759984067,
          1318.6100042369999,
          1318.470009966,
          1318.0500091499998,
          1315.810018511,
          1313.05000823,
          1312.90000726,
          1311.389995082,
          1311.319989174,
          1306.4299856419998,
          1306.429975498,
          1306.290015312,
          1305.6799745590001,
          1305.009991152,
          1301.7100070459999,
          1300.29000811,
          1299.670009638,
          1298.850015672,
          1298.339996857,
          1297.400002602,
          1291.959994995,
          1288.220002029,
          1287.660014108,
          1287.6099934879999,
          1286.90999904,
          1286.450002546,
          1285.950028355,
          1285.540029625,
          1283.270000928,
          1279.380019648,
          1278.5700073,
          1278.030020248,
          1275.199998836,
          1271.070006813,
          1270.950000781,
          1270.0900862549997,
          1258.94999853,
          1258.590010818,
          1256.139992314,
          1255.549991556,
          1253.419987407,
          1253.1199918739999,
          1251.009992669,
          1250.769983883,
          1247.429967173,
          1244.409979062,
          1241.000031797,
          1239.6700084240001,
          1239.359987773,
          1239.3500279309999,
          1239.000007855,
          1238.600036688,
          1238.1700288480001,
          1235.79001086,
          1234.510007856,
          1234.2600021399999,
          1230.6399849099998,
          1230.479979957,
          1230.020010724,
          1227.7300072,
          1226.21999267,
          1225.6599849059999,
          1225.459989375,
          1225.269996157,
          1224.949994199,
          1223.8699746759999,
          1222.7499971720001,
          1222.690011037,
          1222.110008686,
          1220.229983881,
          1219.770032389,
          1219.220016661,
          1215.7699869,
          1214.7599934969999,
          1214.710002351,
          1213.449977981,
          1212.280005014,
          1211.79003191,
          1211.209996866,
          1211.139990833,
          1208.790005133,
          1208.750007591,
          1208.309978026,
          1207.7500274039999,
          1207.389979008,
          1206.83999989,
          1202.93999317,
          1198.250001982,
          1196.8499663910002,
          1195.900005698,
          1194.509996895,
          1194.100006038,
          1192.16000681,
          1190.82999063,
          1189.940001487,
          1186.49000351,
          1185.680021248,
          1185.119996056,
          1183.959998343,
          1182.159987487,
          1181.489989064,
          1180.659994276,
          1180.330015851,
          1178.299993343,
          1177.030011193,
          1176.480002396,
          1174.730007292,
          1172.280019376,
          1172.19000726,
          1170.7199814199998,
          1165.179986109,
          1161.500001019,
          1159.019998626,
          1158.689990476,
          1156.43999089,
          1153.459988681,
          1150.600001924,
          1149.78996625,
          1149.25998589,
          1148.829993198,
          1148.050000277,
          1147.830004541,
          1146.929989828,
          1146.84999698,
          1145.18999959,
          1143.2599969999999,
          1142.099984607,
          1141.360042588,
          1140.540050815,
          1137.790000929,
          1137.430002023,
          1135.829991759,
          1135.819998126,
          1135.120000597,
          1129.999993997,
          1128.760022681,
          1127.3400115929999,
          1125.890011754,
          1124.039993217,
          1123.28998662,
          1123.160013228,
          1122.799988053,
          1122.020005228,
          1120.5900135499999,
          1119.740011253,
          1117.070002216,
          1116.120004038,
          1114.270023753,
          1112.939995687,
          1111.929992098,
          1109.929977868,
          1108.029990893,
          1105.909985064,
          1105.4599866800002,
          1104.110014425,
          1103.6799765,
          1096.580002748,
          1096.229983003,
          1093.73000776,
          1093.259989341,
          1092.079994142,
          1089.1900185709999,
          1088.25000595,
          1087.90000914,
          1086.869992748,
          1086.2599840980001,
          1084.849979933,
          1084.830016109,
          1084.799990539,
          1082.450005045,
          1082.010003641,
          1078.450026076,
          1078.109995593,
          1076.840003041,
          1075.4200020170001,
          1072.089997969,
          1071.329994705,
          1068.7600196600001,
          1068.740001545,
          1067.8100228209998,
          1065.049993513,
          1063.969973776,
          1062.690006765,
          1062.390008333,
          1061.669977349,
          1060.58999616,
          1060.369995883,
          1059.8700028,
          1056.340041856,
          1055.940006051,
          1054.720024826,
          1053.750013346,
          1053.730005714,
          1053.510023235,
          1053.510003279,
          1050.289996089,
          1048.769994761,
          1046.560031399,
          1046.229998077,
          1045.829977963,
          1045.79999153,
          1044.189991027,
          1043.070012798,
          1042.74998561,
          1040.879996231,
          1040.5699585319999,
          1040.5199911969999,
          1039.340000386,
          1038.620008447,
          1037.83000221,
          1036.989998599,
          1036.689997265,
          1036.549988497,
          1036.519999383,
          1036.470007022,
          1031.73001497,
          1031.219997432,
          1031.12999733,
          1030.070014245,
          1028.090006405,
          1027.169953152,
          1025.839988112,
          1024.309991832,
          1024.030030979,
          1021.869987036,
          1021.369996331,
          1020.549995975,
          1020.100004377,
          1018.610006429,
          1017.839996286,
          1015.199922584,
          1011.860018642,
          1011.310004225,
          1011.280008237,
          1010.889982367,
          1010.339994264,
          1007.2400184469999,
          1005.1800139769999,
          1004.660003813,
          1003.840001981,
          1002.829992558,
          1000.880003892,
          999.7399830479999,
          999.100004219,
          999.000006465,
          998.849995094,
          998.059992105,
          997.7200130049999,
          997.49000125,
          997.01000023,
          996.889988918,
          994.479983559,
          993.789986529,
          991.90000597,
          991.2100262660001,
          989.36999311,
          988.16999441,
          987.21999464,
          985.510020755,
          984.4200153820001,
          983.88000096,
          982.870018416,
          981.33004544,
          979.3700150220001,
          976.800014251,
          975.5599776600001,
          973.640000321,
          971.179991277,
          971.089999445,
          970.240009709,
          970.1999857769999,
          968.999995742,
          966.270027063,
          966.1600134549999,
          963.669991398,
          963.329999996,
          960.870001269,
          960.739997947,
          958.949985977,
          958.4299991759999,
          958.2600224750001,
          956.060010002,
          954.269987141,
          950.28000365,
          949.470016519,
          948.079997417,
          947.7000107920001,
          947.409999782,
          947.380006343,
          947.100010519,
          946.789969978,
          946.659983604,
          946.5799894200001,
          945.96000302,
          944.50000446,
          944.0399968849999,
          942.8900308049999,
          942.20000363,
          941.9500017299999,
          941.740001644,
          941.0900244479999,
          940.94000436,
          939.649986903,
          937.780004182,
          937.3000131699999,
          937.049990747,
          935.940012875,
          935.319994365,
          935.24000547,
          933.830001257,
          933.170006332,
          932.32000729,
          930.750003303,
          929.969988348,
          928.369998048,
          927.349999713,
          925.759996085,
          925.560010971,
          925.510001322,
          924.670001133,
          924.369974175,
          923.940014699,
          923.64002037,
          923.289995316,
          923.149997093,
          922.3500156299999,
          922.06001189,
          921.9099942099999,
          917.680001283,
          917.249998319,
          917.209996711,
          916.82998944,
          913.5899997610001,
          913.2500108429999,
          912.10000421,
          911.589996774,
          910.0100030799999,
          909.680020694,
          908.8400097199999,
          907.080014246,
          906.840000636,
          903.969999341,
          903.0400196829999,
          902.840022583,
          902.3400097690001,
          901.5999937409999,
          900.9500208,
          900.170004858,
          899.600002252,
          898.540011309,
          897.749997602,
          897.19001505,
          895.550004515,
          894.799993602,
          894.440002405,
          894.229982405,
          894.169973407,
          893.660003754,
          891.7999906079999,
          891.3700091029999,
          891.2899818650001,
          890.5100088749999,
          889.9899832269999,
          888.339991574,
          886.439982281,
          885.96000243,
          885.920001479,
          884.790004722,
          883.810015277,
          883.7599839029998,
          883.4500089850001,
          883.269983389,
          882.409996819,
          879.74999811,
          878.579985365,
          877.73000809,
          877.4600029339999,
          877.1200636960001,
          875.219977554,
          874.659991307,
          874.190003905,
          873.460001379,
          873.24999712,
          873.239993488,
          872.960011487,
          872.359996961,
          872.249983431,
          871.319998769,
          870.899995674,
          870.600006806,
          868.540032599,
          868.240006918,
          867.850009395,
          866.97999741,
          866.869990726,
          866.4299893699999,
          864.7399769269999,
          864.31001346,
          864.27000155,
          864.2500038510001,
          863.759996872,
          863.019980462,
          862.87998954,
          861.81998668,
          860.289995954,
          859.300003033,
          858.200003166,
          855.590000635,
          854.540006449,
          853.6900163399999,
          852.979996788,
          852.5499972749999,
          852.360000871,
          852.110008398,
          850.659996267,
          850.010024152,
          849.850011873,
          848.590003273,
          846.8900026809999,
          845.800005528,
          845.5300107749999,
          844.7099945279999,
          842.870012339,
          842.6699859429999,
          835.6800237069999,
          834.949999815,
          834.019997428,
          832.570008399,
          831.340001451,
          831.019984775,
          829.889995992,
          829.389993121,
          825.990000183,
          823.3099989990001,
          821.070006348,
          821.04000175,
          820.339997942,
          820.2800028620001,
          818.990016904,
          818.899980607,
          818.68999584,
          817.81998734,
          817.599997329,
          817.480012947,
          817.430002447,
          816.979997744,
          814.870009419,
          813.980001939,
          813.300000555,
          812.91000358,
          812.879995613,
          811.9199924899999,
          811.509987722,
          810.429997131,
          810.110003755,
          808.62998207,
          807.759979172,
          806.060016123,
          804.8600059519999,
          803.929988429,
          803.660013585,
          803.530001959,
          801.149998191,
          799.60000823,
          798.920041331,
          798.61000993,
          796.619980745,
          796.590007315,
          796.510002167,
          796.469995184,
          796.329999184,
          796.139996987,
          795.429996477,
          793.989982078,
          792.7999870680001,
          790.259995925,
          789.160026739,
          788.8400005359999,
          787.220011223,
          787.050003004,
          786.5599686,
          786.119995972,
          784.95000364,
          782.939985791,
          782.349989452,
          781.6500117979999,
          781.4999898579999,
          781.09000443,
          779.34000396,
          779.270004431,
          778.9699955,
          777.680010107,
          776.610000175,
          776.180003162,
          775.069998702,
          775.000005581,
          774.71999743,
          774.32000354,
          773.039989838,
          772.820011648,
          771.23000696,
          770.8500060900001,
          770.089998329,
          770.07002121,
          769.95001125,
          769.000004052,
          768.149986644,
          767.799996128,
          767.439985775,
          767.349994694,
          767.13000108,
          766.0600114,
          765.790003817,
          765.3799937460001,
          763.739997862,
          763.510035225,
          762.25001525,
          762.249992894,
          761.970004311,
          760.54999158,
          760.509999626,
          760.460030755,
          759.38999368,
          756.5700110839999,
          755.790001355,
          755.55999518,
          755.100005894,
          754.559991167,
          754.480009998,
          754.140006773,
          754.0800237689999,
          753.949999356,
          753.789996041,
          750.500004848,
          750.470008044,
          750.349985781,
          750.119993163,
          749.929984235,
          749.689986713,
          748.9700244559999,
          747.42000267,
          747.110014282,
          746.300002556,
          746.150006776,
          746.100017071,
          743.889996009,
          743.1899861500001,
          741.91000551,
          740.3700037570001,
          738.079969742,
          737.8300404119999,
          737.830002381,
          737.7299975999999,
          737.599994706,
          737.409997725,
          737.340005878,
          736.690010179,
          736.6400241199999,
          735.730010074,
          735.289994724,
          734.549999735,
          732.330001936,
          730.03999044,
          729.6299940160001,
          728.640004653,
          727.129997357,
          725.3299869,
          724.540001345,
          722.959998594,
          722.91001128,
          722.869994645,
          722.040000812,
          720.660002185,
          720.530006015,
          720.110022181,
          719.099991287,
          718.869996962,
          718.5599965499999,
          718.419998785,
          716.14999268,
          716.130001032,
          715.3200303169999,
          715.05998419,
          714.7799990650001,
          714.579998191,
          714.310004652,
          714.019990872,
          713.48999599,
          713.3800096,
          710.920005362,
          709.5899934949999,
          709.509999535,
          709.019976603,
          708.5300053679999,
          707.210002283,
          707.039997322,
          706.7699876519999,
          706.270001122,
          705.980004092,
          705.589996573,
          705.439966804,
          705.1299772550001,
          703.990001134,
          703.929985077,
          702.790023024,
          702.429985955,
          701.26000982,
          700.2400045,
          697.599991378,
          696.3400090739998,
          696.270010712,
          696.260003557,
          693.67999992,
          693.349993706,
          691.340014575,
          691.330015301,
          690.889999915,
          689.8000068399999,
          689.37999528,
          687.829999524,
          687.639997226,
          687.589978752,
          685.769999441,
          685.279996451,
          685.069990152,
          684.849998775,
          684.7300090599999,
          683.890006615,
          682.750006067,
          682.629999202,
          682.2900012719999,
          682.14000703,
          681.58000558,
          681.3599977599999,
          680.899987701,
          680.8500911850001,
          679.640007687,
          679.1799987640001,
          678.3099983779999,
          677.550001389,
          677.1700032379999,
          675.869995945,
          675.549994395,
          675.349996344,
          673.929991267,
          673.249998529,
          672.6500491099999,
          672.540000376,
          672.26000972,
          671.940006867,
          671.3400087,
          671.18001124,
          670.4000040139999,
          670.289997019,
          669.740004662,
          668.9299948219999,
          668.859998741,
          668.310042909,
          668.259992613,
          667.539987601,
          666.2200026200001,
          665.4599862389999,
          665.080005259,
          664.18999383,
          663.949998805,
          661.990001644,
          661.519990304,
          661.13000126,
          661.060009668,
          660.83000179,
          660.680021299,
          660.4099894440001,
          660.059983723,
          659.209968082,
          657.820025265,
          657.80999772,
          656.939995544,
          656.4099980010001,
          655.630003019,
          654.179992758,
          654.019987555,
          653.259993566,
          653.209999126,
          651.9999956639999,
          650.790007914,
          647.490011211,
          646.979963817,
          646.6500053689999,
          646.5800144809998,
          646.430034529,
          645.589993241,
          645.389988213,
          644.81998819,
          643.64001325,
          643.050017143,
          642.870008123,
          642.159992152,
          641.2500460229999,
          641.05999766,
          640.5100138509999,
          640.370031106,
          637.820008776,
          636.100009707,
          635.1500344049999,
          635.040008757,
          634.809989328,
          634.530000526,
          633.90999311,
          633.4200040110001,
          632.099999417,
          631.419992568,
          629.470022829,
          628.839977785,
          628.550005153,
          628.260010884,
          627.429999266,
          627.309993717,
          627.01997755,
          626.759988815,
          626.470017461,
          626.120007521,
          625.790008567,
          625.009989631,
          624.019996613,
          622.479994045,
          621.340005439,
          621.3200008910001,
          620.649997002,
          620.589996648,
          618.999990601,
          618.979987627,
          618.25001186,
          618.1400015969999,
          616.7799958969999,
          616.70001886,
          615.149990464,
          615.000012708,
          614.0199925100001,
          612.700009863,
          612.00999644,
          611.19998788,
          610.6799988829999,
          610.5900035029999,
          609.2999935380001,
          608.670014384,
          608.370000836,
          607.219996985,
          606.970003697,
          606.0699868,
          605.94000245,
          605.26000576,
          604.50999786,
          603.6700039,
          603.669981141,
          602.9099868989999,
          602.750007409,
          602.149997038,
          602.090000096,
          601.160009364,
          601.05000687,
          600.36000155,
          600.270004295,
          599.119986801,
          598.7099914649999,
          598.0799979999999,
          597.630010161,
          597.2999731580001,
          596.7299871319999,
          596.4800071899999,
          596.059971667,
          595.920008212,
          595.6500031999999,
          595.31000942,
          595.1700209779999,
          594.399991065,
          593.2900051629999,
          592.569994097,
          591.380009621,
          590.6300030289999,
          590.600001648,
          587.2600021319998,
          585.59999847,
          585.190000581,
          583.189994317,
          582.350008169,
          582.350003959,
          582.080003307,
          581.629987771,
          581.4200135709999,
          580.9800107579999,
          580.939994487,
          580.899994849,
          580.88999559,
          580.780002407,
          580.20999523,
          579.48998461,
          578.150005341,
          575.720000791,
          575.249999979,
          574.999996256,
          574.990003613,
          574.900038347,
          574.12001428,
          572.68997705,
          572.02999495,
          571.540003597,
          570.699996044,
          569.490000745,
          568.73000553,
          568.350001823,
          567.669996265,
          566.62001705,
          564.6700000999999,
          564.649983377,
          563.8100004,
          563.79999927,
          562.280012645,
          561.930016038,
          560.939995003,
          560.390006011,
          560.119993903,
          559.349996118,
          559.32999428,
          559.0300074,
          558.999989073,
          558.280005419,
          557.620004747,
          557.239995912,
          556.919997268,
          556.710004792,
          556.390010216,
          556.149987638,
          556.05000211,
          555.96000539,
          554.80999092,
          554.4999933619999,
          553.63999563,
          553.629993428,
          553.119990376,
          551.7700164190001,
          551.370027014,
          551.230015817,
          551.189993924,
          551.060003498,
          550.109992368,
          549.57998757,
          549.350006107,
          548.149990543,
          548.03999426,
          547.440013185,
          547.370004203,
          547.190008029,
          546.8800039719999,
          546.46999697,
          546.269993799,
          546.039983294,
          545.800009562,
          545.780006447,
          544.44000244,
          543.5700169940001,
          542.640007273,
          542.630019417,
          542.349997531,
          541.7299995,
          541.420003359,
          541.360011548,
          540.6200246239999,
          540.480004029,
          540.3000064619999,
          540.250008836,
          539.770000721,
          538.969990752,
          538.819998275,
          536.5399916590001,
          536.149998942,
          535.789990732,
          535.359980672,
          534.220003636,
          533.420003416,
          532.900001313,
          532.130023504,
          531.770007239,
          530.880018314,
          530.349994457,
          528.729990002,
          528.5700406509999,
          527.31999018,
          526.779995502,
          526.7700162689999,
          526.259995479,
          525.410003388,
          525.399995995,
          525.31999591,
          523.080000662,
          521.129993799,
          519.680002206,
          519.23999404,
          519.0799994609999,
          517.140010841,
          516.689996942,
          516.319991155,
          516.14001081,
          515.680008417,
          515.290013295,
          514.529994809,
          514.2300103919999,
          512.669992483,
          512.459998592,
          512.369999344,
          511.6299934000001,
          511.619983015,
          511.439997682,
          510.669994992,
          508.640001859,
          508.11000826,
          507.829997073,
          507.64001205499994,
          507.429999868,
          507.34002626299997,
          507.06999300999996,
          506.949992674,
          505.160000331,
          505.01000411,
          504.91000551900004,
          504.739989328,
          504.309999948,
          503.96999557000004,
          503.78000547,
          503.05999912100003,
          503.01999664,
          502.960000433,
          502.299992379,
          501.619983686,
          501.450010086,
          501.429990779,
          501.40999315,
          501.1900204389999,
          500.60000085499996,
          500.469968564,
          500.209996304,
          499.87000939,
          499.430003554,
          499.32000632,
          498.949994108,
          498.85999299,
          497.71999548,
          497.29998794300013,
          497.09000520300003,
          496.83999921500003,
          496.710003669,
          496.520031475,
          496.409997911,
          495.65999798,
          495.21999910600005,
          494.44999877,
          492.460007656,
          492.29997875999993,
          492.27000044700003,
          491.870001791,
          491.00998776999995,
          490.599995382,
          490.450005067,
          489.16999626,
          488.740005002,
          488.240008058,
          487.009992165,
          486.85999680000003,
          486.65999981,
          486.04999073399995,
          485.85999777,
          485.78000473000003,
          485.55999344699995,
          485.389995859,
          484.85000136199994,
          484.83999410399997,
          484.630001499,
          484.530015958,
          484.460002432,
          483.130002971,
          481.629991555,
          481.549999426,
          481.10999534300004,
          480.629983887,
          480.57999453800005,
          480.450005537,
          480.3399760830001,
          480.220026721,
          480.20000363599996,
          479.56002784299994,
          479.500002854,
          478.970001716,
          478.160013235,
          477.03000018200004,
          476.530002177,
          475.67999456,
          472.8199959,
          472.179999377,
          471.33998883000004,
          470.820002089,
          470.08999732,
          470.01000214399994,
          469.30000691799995,
          469.2699995,
          469.240006962,
          469.089995914,
          467.440003102,
          466.899992748,
          466.480002433,
          466.389998017,
          466.31000213100003,
          466.27999304300005,
          465.949994076,
          465.790029346,
          465.580002258,
          465.38000086299996,
          465.03999521000003,
          464.869993416,
          464.77999269599997,
          463.190000044,
          461.159995072,
          460.689986832,
          458.979997745,
          458.94000189800005,
          458.60000995999997,
          458.12998681299996,
          457.74001933,
          457.679996411,
          457.480014065,
          457.47000266099997,
          457.40999611,
          457.16000269200003,
          456.97004128599997,
          456.499998916,
          455.81999214,
          455.66000749,
          455.62999728,
          455.249997168,
          453.710000288,
          450.19000053,
          449.850001337,
          449.440002478,
          449.37999918,
          448.78999533900003,
          448.61000155199997,
          448.470001752,
          447.089993095,
          446.93999670999995,
          446.409992206,
          446.37000657,
          446.290018586,
          445.72999841000006,
          445.379999117,
          445.010009031,
          444.43998496100005,
          444.36002440899995,
          442.799997309,
          442.62998964,
          442.579995074,
          441.700004619,
          440.84000390999995,
          439.97999768,
          439.69999695,
          438.63993698799993,
          438.47000792,
          438.040000727,
          437.9299979720001,
          437.60999040900003,
          437.289997154,
          436.94998886999997,
          436.9400053500001,
          436.76999184,
          435.35999539500006,
          435.29000664,
          435.16000266,
          435.079999931,
          434.600001822,
          434.10000137599997,
          433.890009474,
          433.809997501,
          433.77999019,
          433.5900146,
          432.68999728,
          431.870000389,
          431.77999216,
          428.699984632,
          427.759984489,
          427.57001878999995,
          426.98000591899995,
          426.5200062,
          425.880007939,
          425.629979729,
          425.619993426,
          425.280002585,
          424.389995495,
          424.169988825,
          424.10000999700003,
          424.070002949,
          423.94000204400004,
          423.240001467,
          422.29002036199995,
          422.279990844,
          421.88999271,
          421.78999895000004,
          421.069998486,
          420.11998561,
          419.49002529899997,
          419.019994245,
          418.14999961,
          417.589991584,
          417.52999785,
          417.450006003,
          417.35999781,
          417.2699985,
          416.92000009,
          416.550009206,
          416.289987861,
          416.07999990999997,
          415.84000304,
          415.68000796,
          415.249994057,
          414.86999131000005,
          412.829970761,
          412.52998783,
          412.500000684,
          412.4400105049999,
          411.240004796,
          411.08999279,
          411.07000975200003,
          411.03000068,
          410.739996928,
          410.7199632300001,
          410.449985084,
          410.04999446,
          409.869988176,
          408.68000314200003,
          408.59000014000003,
          408.530005,
          408.489996942,
          406.970002162,
          406.559997081,
          406.530000096,
          406.00000762,
          405.86001820599995,
          405.51000304,
          404.659996057,
          403.56999122,
          403.42998883,
          403.309995611,
          402.539993035,
          401.93000216,
          401.769998999,
          401.27000143,
          400.890000349,
          400.54999159,
          400.4700002310001,
          400.29999736,
          400.169998219,
          399.64000225999996,
          398.110001455,
          396.8699976,
          396.74999622,
          396.290004668,
          395.940017673,
          395.64000512,
          395.54000141499995,
          395.16000363,
          395.12000378,
          394.299994001,
          394.20001131799995,
          394.14000709000004,
          393.84999271099997,
          393.469993626,
          393.299999715,
          392.240010259,
          390.77000046,
          390.50999020800003,
          390.509969734,
          390.18998341599996,
          390.139985475,
          389.979997886,
          389.90000532,
          389.28999711,
          389.21000288,
          389.150002446,
          388.87000491,
          388.22999669,
          387.789991399,
          387.710009085,
          387.38001039399995,
          387.19999886,
          386.80999659,
          386.720003365,
          386.23999972,
          386.17000578,
          385.890005116,
          385.77000999699993,
          385.24000183100003,
          385.19000338,
          384.849994158,
          384.779995483,
          384.27000045,
          383.580003871,
          383.169995291,
          382.42000676,
          381.7099610949999,
          380.52999976,
          380.529982049,
          379.95999763400005,
          379.899998915,
          379.43000436299997,
          379.33999164,
          379.30000018,
          378.859998731,
          378.179997444,
          377.94999933099996,
          377.719991654,
          376.93000415,
          376.929984362,
          376.56997737800003,
          376.440004439,
          376.260019328,
          376.240021256,
          375.719989774,
          375.21000451099997,
          374.970012224,
          374.7199834839999,
          374.650015976,
          374.610001662,
          374.150002128,
          373.68999765,
          373.459998615,
          373.279993334,
          373.139997434,
          372.220003194,
          371.849997491,
          371.84000399,
          371.229998599,
          370.979997646,
          370.37999499,
          370.179992867,
          369.740001234,
          369.52999496,
          369.50999544,
          368.21999941,
          368.04000188000003,
          367.410005572,
          367.360002037,
          367.1599979,
          367.13001222199995,
          366.939993574,
          366.92002251800005,
          366.859992236,
          366.699993336,
          366.659996762,
          366.440012714,
          365.999993836,
          364.53999481799997,
          363.770004358,
          363.74998856,
          363.54000664299997,
          363.51000210999996,
          363.18999549899996,
          362.849998426,
          362.640005605,
          362.569994465,
          361.169994852,
          360.81999774999997,
          360.37999344,
          359.77999869999996,
          359.59000424600003,
          359.539993307,
          359.270000438,
          358.549999944,
          358.47999958,
          358.47999952,
          358.129993471,
          357.629986628,
          357.45999914,
          356.54999688500004,
          356.3999939,
          356.260004,
          356.13005537,
          355.37000658799997,
          355.060007621,
          353.99000542,
          353.77000044,
          353.76000115,
          353.47999615000003,
          353.31999708800004,
          353.230003331,
          352.7100143,
          352.47000119999996,
          352.289979028,
          352.23000024600003,
          350.95000077,
          350.390010375,
          350.160001103,
          349.90999791400003,
          349.750003097,
          349.740005978,
          348.87999727,
          348.84000776000005,
          347.70000794599997,
          347.569987208,
          347.37000662,
          347.169972854,
          346.37000435499994,
          346.05000592,
          345.47000124,
          345.230005755,
          344.95000745,
          344.740010261,
          344.550002547,
          343.96001633000003,
          343.839996323,
          343.74999624,
          343.679996511,
          343.67999173,
          342.79000652099995,
          342.650005844,
          342.150004567,
          340.910002004,
          339.28000449,
          339.19999606600004,
          338.760004365,
          338.54000858,
          338.179979552,
          337.490002256,
          336.92998996700004,
          336.730006682,
          336.619993851,
          336.360000576,
          335.57998657900004,
          335.539989214,
          335.520003341,
          335.34000782,
          335.050012962,
          334.60999393,
          334.15000153,
          334.00999833,
          333.7699967,
          331.670005099,
          331.45999529,
          331.179995786,
          331.14998522,
          331.089997328,
          330.73000527,
          330.38000007200003,
          330.359996225,
          329.51000674299996,
          329.16998586299997,
          328.24000549,
          328.04000091,
          327.91001025099996,
          327.570001127,
          327.410009806,
          326.349999448,
          326.289996352,
          325.659996982,
          325.610016373,
          325.34000014,
          325.309988996,
          325.25999256,
          325.150004422,
          325.080011409,
          324.710003403,
          324.51999666,
          324.449992859,
          324.2599983,
          323.18999481000003,
          323.16000699,
          322.700000364,
          321.29998943299995,
          319.56003131299997,
          319.48999783,
          319.090006882,
          318.840000995,
          318.65002273999994,
          318.549995515,
          316.72999188,
          315.800002578,
          315.519996108,
          315.36000444999996,
          314.760018729,
          314.74000163,
          314.65000919,
          314.580004701,
          314.56999969,
          314.33999831,
          314.189999155,
          314.129999188,
          313.92998319,
          313.81002616599994,
          313.570004748,
          313.32002288499996,
          313.24000552,
          312.57999419000004,
          312.46000673,
          311.85999202100004,
          311.619998949,
          311.359984404,
          311.12999345000003,
          310.9500031,
          310.85999685,
          310.51002879199996,
          310.459994813,
          309.739980184,
          309.64999771,
          309.599999906,
          309.49000034799997,
          309.4499860529999,
          308.47999287,
          308.32999422,
          307.92999217700003,
          307.70998434399996,
          307.690005296,
          307.19000243,
          307.09000398,
          307.02998771,
          306.7400036,
          306.56999973,
          306.439985329,
          306.13999552,
          305.949998849,
          305.789995631,
          305.36000635,
          305.30000301,
          304.690003403,
          304.53001163,
          303.2900086370001,
          303.12001429099996,
          302.8700006,
          302.84000396,
          302.670002755,
          302.510001355,
          301.85000229,
          301.7200089,
          301.61999511,
          301.550006376,
          301.170001148,
          300.91999817,
          300.85999301000004,
          300.360003958,
          299.74000649100003,
          299.700000736,
          299.32999997300004,
          299.219993588,
          299.050001998,
          299.000005703,
          298.85000041,
          298.82000330999995,
          298.649998666,
          298.499975182,
          298.29999045,
          297.949990264,
          297.709996218,
          297.540003973,
          296.879995818,
          296.489995773,
          295.95000452,
          295.83000468,
          295.7899853199999,
          295.66999407599997,
          295.40999793000003,
          295.14000122,
          293.91000422,
          293.86000068,
          293.829990559,
          292.68999238800006,
          292.21999360999996,
          292.20000454,
          291.96999738,
          291.599998181,
          291.07000153,
          290.930001731,
          290.749996775,
          290.62999060000004,
          289.399996075,
          289.190005099,
          288.87999722,
          285.440014433,
          285.409993181,
          284.960008159,
          284.590002779,
          284.49999840000004,
          284.03999806,
          283.209999094,
          282.95999052599996,
          282.799987083,
          282.699993635,
          282.110014209,
          281.799998761,
          280.680002213,
          280.669992406,
          280.540005694,
          280.289996149,
          280.069997783,
          279.82001119000006,
          279.109998248,
          278.82000351,
          278.399999497,
          278.279989249,
          278.19999789999997,
          278.020001613,
          277.89999581,
          277.570008742,
          277.250009632,
          276.10998490500003,
          274.68000983,
          274.53999517,
          274.400000101,
          273.970000026,
          273.51000408,
          273.070005921,
          272.980002677,
          272.909993197,
          271.22995508600013,
          271.01000021,
          270.959987688,
          270.930005306,
          270.57999996,
          270.42001252899996,
          270.40998229800005,
          270.39000707499997,
          270.27000619,
          270.10999869,
          269.489995964,
          269.089999161,
          268.64000701,
          268.49999852499997,
          268.39000224099993,
          268.340006637,
          267.47999765,
          266.940004699,
          266.8999958,
          265.97000024700003,
          265.969995489,
          265.87999534,
          265.529992137,
          265.31999971,
          265.23000145,
          264.68000083999993,
          263.920003462,
          263.68000894,
          263.38999938599994,
          262.92999934,
          262.9199953,
          262.77000427999997,
          262.62000274999997,
          261.96999642000003,
          261.639998272,
          261.620000361,
          261.41000371,
          260.51999952999995,
          260.479997181,
          260.460002896,
          260.369998191,
          260.270001462,
          260.219999313,
          259.960005176,
          259.91000174,
          259.67000009,
          259.62999729,
          259.26000401,
          259.2400024,
          258.98999217,
          258.78999712,
          258.59003249,
          258.539999487,
          257.949999809,
          257.65999892,
          257.619993818,
          257.58999635,
          257.57000115799997,
          257.4000091930001,
          257.1600153510001,
          256.68000030999997,
          256.039999479,
          256.030003561,
          255.65000344,
          255.650003435,
          255.540004128,
          255.3399973,
          255.020001413,
          254.93000320100003,
          254.32999342799997,
          253.96000805799997,
          253.9099989,
          253.74000168,
          252.989981706,
          252.92000985699997,
          252.38000200599998,
          252.16000272,
          251.85000269199998,
          251.1099849929999,
          250.71002216099998,
          250.70999910999998,
          250.65000844600002,
          249.609997043,
          249.5999984,
          249.06000035900001,
          248.67999852999998,
          248.63000777000002,
          248.5,
          248.32998612199998,
          248.0599985,
          247.54001167200002,
          247.48000527,
          247.4600064990001,
          247.33000374,
          246.979993353,
          246.72999382,
          245.75000387,
          245.67000292999998,
          244.81999396,
          244.73999549900006,
          244.729997639,
          244.54000565,
          244.520000696,
          244.310002394,
          244.25000187,
          244.199994569,
          244.13001631399996,
          244.04000088,
          243.670003713,
          243.47999631300002,
          242.570005416,
          242.410001999,
          242.199996899,
          242.09000858699983,
          242.01000022,
          241.80000205,
          241.75999453,
          241.480003077,
          241.43999674,
          241.41999821000002,
          241.05999312200004,
          240.92000009,
          240.79999924,
          240.31000329,
          239.62000420500001,
          239.039999,
          238.84000016000002,
          238.55000115,
          238.209995257,
          238.069999921,
          238.04000187,
          238.030006419,
          238.009999108,
          237.900000612,
          237.899978611,
          237.73000620199997,
          237.42000031,
          237.320003557,
          237.139997499,
          236.93000032999998,
          236.56000356699997,
          236.28000258,
          236.07000731200003,
          235.9599991,
          235.83000916500004,
          235.70001030000003,
          235.66000273799997,
          235.640007512,
          235.45999537,
          235.25000381,
          234.7599974,
          233.85999423600003,
          233.60999679,
          233.41000366,
          233.11996082000007,
          233.01999330400002,
          232.779987849,
          232.37998674899995,
          231.95000168,
          231.74998008500003,
          231.719995536,
          231.63999897799994,
          231.239995427,
          230.92000199699999,
          230.32999844399995,
          230.08998765699997,
          230.00000192,
          229.98000764300002,
          229.26999665,
          228.47998637800004,
          228.449993096,
          228.39000148600002,
          228.30999282,
          228.100005586,
          227.899999135,
          227.71000005,
          227.43000604,
          227.19000917,
          226.750009993,
          226.12999722,
          225.79000625400005,
          225.42999551999998,
          224.83997718299997,
          224.81000136,
          224.700001161,
          224.350008974,
          224.29999924999998,
          224.2899699900001,
          224.19000531,
          223.58000375,
          223.44999690999998,
          223.19000240399998,
          223.02999518599998,
          222.77999878,
          222.73999407000002,
          222.38999558999998,
          222.280001175,
          221.30999359999998,
          221.20000268,
          220.92001058000002,
          220.15000154,
          220.04999933,
          219.029996355,
          218.3400413720001,
          217.35000229,
          217.19000248999998,
          217.12999435999998,
          216.56999420700004,
          215.49999618,
          214.900000567,
          214.75997841100008,
          214.25999477600004,
          214.049997303,
          212.32001641699998,
          211.909997465,
          211.830007554,
          211.77999987300007,
          211.74999875700001,
          211.259993751,
          211.129991508,
          210.969993709,
          210.4999746720001,
          210.189997207,
          209.8499928,
          209.589998488,
          209.229959987,
          209.08000570000002,
          208.669997927,
          208.470001217,
          208.36001015,
          208.29999729,
          208.230005763,
          208.17999936,
          207.859996798,
          207.78999808,
          207.73999978,
          207.44000245,
          207.429999921,
          207.42000716600006,
          207.03001077200003,
          206.81001762,
          206.719999434,
          206.57999898,
          206.520009764,
          206.449995,
          206.05000353999998,
          204.989994936,
          204.42000127799997,
          204.21000365299997,
          204.20000364999999,
          203.96999737,
          203.71000096,
          203.619995602,
          203.16998964300004,
          202.79999589300002,
          201.35998758099998,
          200.829998981,
          200.68998629399994,
          200.58998971000003,
          200.559998537,
          200.30000306,
          199.870000842,
          199.689988116,
          199.47000213,
          198.27998327800003,
          197.63000154899999,
          197.55000303,
          197.5300016,
          197.240003589,
          196.84000014,
          196.75998783100002,
          195.989966895,
          195.85999964,
          194.7500014370001,
          194.20000168299998,
          194.0399971,
          193.47999577000002,
          192.84000012,
          192.139995434,
          192.05999947,
          191.84999847,
          191.80000305,
          191.32999331400003,
          191.26000710099999,
          190.70999722,
          189.990001682,
          189.70999908,
          189.419997257,
          188.409997,
          188.07999826,
          187.820004601,
          187.70999908000002,
          187.38999944,
          187.15999603,
          187.040006175,
          185.58999629,
          185.36999797,
          185.140016959,
          185.08000178,
          184.43001173000002,
          184.29000092,
          183.25000334499998,
          183.05999753799995,
          182.17998881900002,
          182.01000029099998,
          181.77999878,
          181.57000161,
          181.56000065199999,
          181.36000061,
          181.35000038,
          180.50999215000002,
          180.50000317100003,
          180.37999964,
          179.869994562,
          179.739998111,
          179.129993961,
          178.59999849,
          178.350008495,
          178.34999378999998,
          178.11999321,
          177.89000463500003,
          177.620000325,
          176.38999462,
          176.300009731,
          176.129998209,
          175.95999525000002,
          175.78000154999998,
          175.74999232,
          175.7200012,
          175.220002615,
          173.77002756000002,
          173.61999725,
          173.530000217,
          173.220014653,
          172.96999931,
          172.85999778,
          172.75000485,
          172.69999886,
          172.0199852,
          171.529997348,
          171.0700073,
          170.76999664,
          170.670002397,
          170.63999557,
          170.56998921899998,
          170.29000472,
          169.68999863099998,
          169.62000275,
          169.53999903,
          169.10999683,
          169.07999991999998,
          168.92999458,
          168.76998527600006,
          168.12999535,
          167.759993523,
          167.530001159,
          167.220002864,
          166.94000666199997,
          166.459997689,
          166.10999602799998,
          165.91000176,
          165.50999473299998,
          165.45999622,
          164.66999722,
          164.66000152,
          163.979998946,
          163.95998877599996,
          163.779999503,
          163.50000536899995,
          163.160001759,
          162.68000031,
          162.520003329,
          162.199998372,
          161.78999997,
          161.59000588,
          161.279998058,
          161.279997839,
          160.92000532900002,
          160.68000006300002,
          160.44999885,
          160.43999862,
          160.179997447,
          160.070031503,
          160.04000282,
          159.299987744,
          158.6200066,
          158.42999458,
          158.09000685400002,
          157.519996636,
          156.92000394999997,
          156.799998049,
          156.31000235099998,
          155.49000168199998,
          155.47999714000002,
          155.40999794,
          153.249999517,
          152.670001041,
          152.60001178,
          152.17000294000002,
          151.53000264,
          151.37998721300005,
          151.31000137,
          150.800003497,
          150.22999484999997,
          150.220000755,
          150.13000872700002,
          149.82999805,
          148.75999258400003,
          148.700005536,
          148.609993778,
          148.12999725,
          147.8600116,
          147.67999840000002,
          146.90999986,
          145.95000457999998,
          145.84000205,
          145.68999577099999,
          145.480001695,
          145.409983035,
          145.37999119500003,
          144.91000175599999,
          143.87000275999998,
          143.58000183000001,
          143.510000231,
          143.36001018000002,
          143.14999387000003,
          142.559998033,
          142.49998275599998,
          141.46000671,
          141.439997213,
          140.220004525,
          139.47999954,
          138.89000420000002,
          138.30999756,
          138.069998749,
          137.99000168999999,
          137.89999962,
          137.850001332,
          137.750013442,
          137.27000044,
          136.990004065,
          136.87000140200004,
          136.579997774,
          136.400006363,
          135.45000077,
          134.96999741899998,
          134.4600029,
          134.26000213999998,
          134.210001482,
          133.83000183000001,
          133.29999923,
          132.93000222,
          132.769983364,
          132.489999527,
          132.39999961,
          131.97999668,
          131.92999551399998,
          131.36999896999998,
          131.30999756,
          131.0200043,
          130.9400024,
          130.779997822,
          130.52999972700002,
          130.450002906,
          129.930001068,
          129.8699951,
          129.58000183000001,
          129.10000037999998,
          128.740002155,
          128.55000375400002,
          127.950002191,
          127.78000934400002,
          127.030002314,
          127.020003801,
          126.660002241,
          126.55000494099997,
          126.53999995200002,
          125.85000228999999,
          125.50000382,
          125.24000363000002,
          125.15999984999999,
          124.73000243100002,
          124.34999848,
          124.01999547600002,
          123.30000114,
          123.05998328200002,
          122.82999116799998,
          122.5399971,
          122.29999351200001,
          122.15000153,
          121.13999938000002,
          120.3400011,
          120.15999032099998,
          120.00999832,
          119.83000662100002,
          119.29999924,
          119.21999550000001,
          119.00999928,
          118.84999716499999,
          118.59000015000001,
          117.89004888000002,
          117.82999683300001,
          117.770003794,
          117.760006916,
          117.589999667,
          117.589999202,
          116.79999642000003,
          116.779996883,
          116.74999879200001,
          116.70998551099997,
          116.56000420199999,
          116.429978367,
          115.69000054,
          115.53997513399997,
          115.45999439100002,
          115.459990546,
          114.9100037,
          114.39998772699998,
          113.6400032,
          113.60998548000003,
          113.04999948,
          113.04000088000001,
          112.20999977499999,
          112.19000986900001,
          111.02998119300003,
          110.7900033,
          110.72000116000001,
          110.559999941,
          110.549999949,
          110.14999962,
          109.93003111399995,
          109.85999966,
          109.69999695,
          109.62999788600001,
          108.56000664300001,
          108.54999733,
          107.870004211,
          107.640002491,
          107.54002399499997,
          107.319999219,
          107.11999466499998,
          107.11000920100003,
          107.08000313399998,
          106.15999985900002,
          105.77000017400002,
          105.72000981999999,
          105.49999713,
          104.14999958,
          104.090004443,
          103.36000252,
          103.27000432,
          103.15999625799995,
          103.150000095,
          102.95001413499996,
          102.930001025,
          102.620002633,
          102.3900013,
          102.05000176799999,
          101.10999679,
          101.02999877,
          100.36001258500009,
          100.29000472999999,
          99.90000533,
          99.12999725,
          98.89999836599998,
          98.67000272600002,
          98.579998021,
          98.47000122,
          97.63999939,
          96.87999725,
          96.41999817,
          96.24999905199999,
          96.13999840399991,
          96.06997869699998,
          95.53998846100001,
          95.43000009599999,
          95.329997065,
          95.29000182899999,
          94.759999276,
          94.59000015000001,
          94.059998511,
          93.76997528,
          93.53000068,
          93.47999763,
          92.79999873099999,
          92.47999954,
          91.87001039999998,
          91.81000046,
          91.090002069,
          91,
          90.94000124600001,
          90.92998790999995,
          90.300002201,
          90.279999726,
          90.18000678199996,
          90.010006311,
          89.31000137000001,
          89.17999841399998,
          89.04999923,
          88.109996796,
          87.780004388,
          87.630003453,
          87.30001162700006,
          86.93000031,
          86.889997714,
          86.53000069,
          86.43999862999999,
          86.40000153,
          86.37998394900005,
          86.159999125,
          85.91000176,
          85.78000187500001,
          85.6600087079999,
          85.599998231,
          85.389998432,
          84.62001712999992,
          84.60999966,
          84.38000417099998,
          84.090003012,
          84.02999876999999,
          83.99000554000001,
          83.84000705999998,
          83.839999679,
          83.609998698,
          83.339993039,
          83.17000389,
          83.00999450000002,
          82.98996797000007,
          82.24999431000003,
          82.01998738700001,
          81.91999817,
          81.89999962,
          81.57997894899998,
          81.41999816500001,
          81.29000664999998,
          81.120000128,
          80.920001034,
          80.91000366,
          80.720000029,
          80.700000535,
          80.57999992,
          80.37998779000003,
          79.97998709999999,
          79.53000069000001,
          79.48000145,
          78.74999716400004,
          78.61000250100001,
          78.01000023,
          77.75,
          77.61000061,
          77.54999543,
          77.50000574199998,
          76.99000022599998,
          76.81000138,
          76.75003099199992,
          76.400003484,
          75.519999629,
          74.659999371,
          74.34999464,
          74.28999710300002,
          73.63999843,
          73.539994686,
          73.32000639600001,
          73.30000151,
          72.62999725,
          72.29999924,
          72.15999602,
          71.70000908500002,
          70.94999218000001,
          70.390013347,
          69.73000979800005,
          69.51998339999999,
          69.13998306900001,
          68.939996722,
          68.93998244100001,
          68.679999828,
          68.46999118400004,
          67.47000026399999,
          67.239996308,
          66.81999252000003,
          66.66002653700002,
          66.639998439,
          65.72999022599998,
          65.53999996200001,
          65.4299984,
          64.65999984999999,
          64.590001587,
          64.35000038999999,
          64.34999847,
          64.31000137000001,
          64.120002462,
          64.080004216,
          62.87999916,
          62.56000137,
          62.49000741599998,
          62.40000153,
          62.32998657000002,
          62.1500101,
          60.96999638999998,
          60.669998641999996,
          60.57999802,
          60.459997902,
          60.22000122,
          60.049997512000004,
          59.68999574799998,
          59.570014830000034,
          58.69999329599999,
          58.40999722199999,
          58.07999706299999,
          57.73000439000001,
          57.50999830000001,
          57.430000299999996,
          57.40000153,
          57.15001436599999,
          56.40000153,
          56.34000015,
          56.210001019999964,
          56.0699997,
          56.040016218999966,
          55.379999160000004,
          54.88000107,
          54.419997229,
          53.34000015,
          52.50999832,
          51.49997145399991,
          51.3199997,
          51.13999939,
          51.12000466,
          50.84999847,
          50.51000023,
          50.119996060000005,
          50.099999907,
          49.980001687999994,
          49.8599186929999,
          49.01000023,
          48.27000144200002,
          48.129974293000025,
          48.080015004000046,
          48.05002252,
          47.959979271000016,
          47.75999281300001,
          47.27999878,
          46.510001182,
          46.11000061,
          45.89000534,
          45.819998739,
          45.59999847,
          45.350015627000005,
          44.59000253299996,
          44.340024565,
          44.14000082,
          43.24000001,
          43.20000170999999,
          43.129999170000005,
          42.74000934999998,
          42.59999847,
          42.459998843,
          42.160028852999986,
          42,
          41.689996719999996,
          39.919998211999996,
          39.590000983,
          39.110005934,
          39.020000212,
          37.92000622499994,
          37.739997869999996,
          37.69999696999997,
          35.989999414999986,
          35.88000204999997,
          34.93001577099998,
          33.29000092,
          33.25000236500001,
          33.13000107,
          32.85000990000003,
          32.43999863,
          32.050002338,
          31.94000053,
          31.80999636500001,
          31.799999210000024,
          29.92000008,
          29.73999977,
          28.939997679999998,
          28.720011728999985,
          28.460000995999998,
          28.44999981,
          28.12000179,
          28.08999444999995,
          27.21999931,
          25.890015546999976,
          25.73000584700003,
          25.5,
          25.20998283,
          25.159999845999998,
          24.88000102,
          24.810000421999998,
          24.770002374,
          24.75,
          23.82999992,
          23.739995950000008,
          23.649994613999993,
          23.100000024,
          23.000001406999992,
          22.93000317,
          22.900002997000005,
          22.60000038,
          22.5,
          22.07001398999998,
          21.82999992,
          20.98999786,
          20.699992160000022,
          20.65998851999997,
          20.57999992,
          20.17000008,
          19.989999769999997,
          19.680000309999997,
          19.140007009999977,
          18.89999962,
          18.52000046,
          18.440014943999984,
          18.179992670000004,
          18.01000023,
          17.980000023,
          16.73999977,
          16.11002464299996,
          15.89999962,
          14.759998321999994,
          14.549991619999986,
          14.220000267,
          14.199996929999976,
          14.120013695000004,
          13.820000643999997,
          13.779997689000016,
          13.42000008,
          13.070001599999998,
          12.720000267,
          12.629982558000009,
          12.60999966,
          11.699988390000016,
          11.239990497000022,
          10.78999996,
          10.50999999,
          9.04998203599996,
          8.73999409000001,
          8.729982409999963,
          8.439998620000011,
          7.760005940000013,
          7.749984789999985,
          7.519999981,
          7.210000038,
          6.369999886,
          6.2400002489999995,
          5.289999962,
          4.269999981,
          4.059972328000015,
          4.050004124000001,
          3.6700153399999635,
          2.140000105,
          2.080000404999997,
          1.929999948,
          1.9000036300000005,
          1.7899993659999964,
          1.5300095279999937,
          1.4099979799999929,
          0.6600005939999818,
          0.559995406000013,
          0,
          -1.0099963799999756,
          -1.1500006309999975,
          -1.8399987159999966,
          -2.8299961000000025,
          -3.9600048400000105,
          -4.140021893999986,
          -4.299987790000017,
          -4.329993170000014,
          -4.340000151000001,
          -5.149997720000002,
          -6.34999848599999,
          -6.829999919999999,
          -7.36999673800004,
          -7.940001741000017,
          -8.529996444999995,
          -9.33999340600002,
          -9.860004429999996,
          -11.31000042,
          -11.329997065999997,
          -11.47000027,
          -12.04998686599999,
          -12.929995577000057,
          -13.390000339999999,
          -13.580024888000054,
          -13.68997144899997,
          -13.819988226000063,
          -14.469999310999999,
          -14.959997189999994,
          -15.519996640000006,
          -15.520004710000016,
          -15.539997192000016,
          -15.579998966000005,
          -15.94000244,
          -16.20000340600001,
          -16.80998637200004,
          -17.520000219,
          -18.87000084,
          -19.390023189999994,
          -19.520004741999998,
          -20.460000509,
          -21.490026627,
          -21.760002135,
          -22.18000763000003,
          -22.590003044000014,
          -23.61999505,
          -24.19001127399997,
          -25.250002904,
          -26.18000318,
          -27.429999712,
          -27.719993599999995,
          -27.830000899999987,
          -28.630001060000005,
          -28.979995604000006,
          -28.999997135999998,
          -29.830008529999986,
          -32.25,
          -33.040000318000004,
          -33.180000269999994,
          -34.85999778899999,
          -36.060001410000005,
          -36.88997816399984,
          -37.820000690000015,
          -38.04999923300001,
          -39.06003635100009,
          -39.199996983000005,
          -39.20000076,
          -41.60002327399988,
          -42.120000836,
          -42.279987289999994,
          -42.87000114299999,
          -42.98000145,
          -43.359992960000014,
          -44.619997979,
          -45.88999557000001,
          -47.229998589,
          -47.76000556800001,
          -48.04999923999999,
          -48.97999857000002,
          -49.400005056,
          -50.60001173,
          -50.77000807000002,
          -51.33997021000013,
          -51.77000670300001,
          -52.24001790699996,
          -52.820007334,
          -52.90999985,
          -52.95000314599997,
          -53.509997848,
          -53.64000804899997,
          -54.05997753200006,
          -54.68999476000005,
          -55.87001040900001,
          -56.519993156,
          -56.770003296,
          -56.889998468,
          -57.580005688,
          -57.690000057,
          -58.099996038,
          -58.15000144999999,
          -60.609990151999995,
          -61.15999599,
          -61.23999794000001,
          -61.24999809,
          -61.82001122000002,
          -61.93999863,
          -63.760015974,
          -64.39999105999999,
          -64.42001624799997,
          -64.6399994,
          -64.73000336000001,
          -65.14000121000001,
          -65.74001505,
          -65.920000525,
          -66.80000305,
          -66.90999864699995,
          -68.1600037,
          -68.43000314,
          -68.479978042,
          -68.59002782899992,
          -69.499999044,
          -70.549998761,
          -70.600003238,
          -70.98998008799998,
          -71.849998959,
          -72.70999527000001,
          -74.880002918,
          -75.48000336,
          -75.68002837300001,
          -76.01000117000001,
          -76.82999993000003,
          -77.39999962299999,
          -77.70000163200001,
          -77.88000780699997,
          -79.60998537600003,
          -81.739993812,
          -82.13000870000002,
          -82.58000605899998,
          -83.600014651,
          -85.80998356899993,
          -86.949997422,
          -86.99997900700001,
          -87.22000671199999,
          -88.50000714299999,
          -89.38000967900008,
          -89.590010707,
          -91.83999729199999,
          -92.26998992,
          -94.83001137000001,
          -95.54999828999999,
          -95.63999420600001,
          -95.73999977,
          -96.54999968499997,
          -97.18000031,
          -98.98999786,
          -99.33001621700004,
          -99.59999847,
          -100.30000405,
          -100.490000724,
          -100.829998282,
          -100.97999198199999,
          -102.12999919,
          -102.3000031,
          -102.68000122399998,
          -104.480008642,
          -106.120005569,
          -106.46002719800003,
          -106.92999712300006,
          -107.470005746,
          -109.69003359099997,
          -110.13000486000001,
          -110.66003168500004,
          -111.31000234000003,
          -115.30997480300005,
          -116.60999688000003,
          -116.82000472500002,
          -118.24000167399997,
          -118.31999585100002,
          -119.35002226099998,
          -121.12999725,
          -122.73998716500002,
          -125.06999731900001,
          -126.26001903299996,
          -128.02997246500013,
          -129.64998429900004,
          -130.09000430199995,
          -131.30000504000003,
          -135.569986231,
          -136.60999584,
          -137.340009162,
          -137.649987146,
          -138.00995506000012,
          -138.60002993999996,
          -139.689997469,
          -141.35999711,
          -142.95997282399998,
          -143.58000409599998,
          -145.279994033,
          -145.60000715799998,
          -147.06999737800004,
          -147.119972057,
          -147.30001139699996,
          -147.470015972,
          -148.16998621100004,
          -148.560002563,
          -149.1299938740001,
          -149.43994791300003,
          -153.19999421199995,
          -153.68999488900002,
          -154.82999680099996,
          -154.83000269600004,
          -155.549996706,
          -155.68000712299997,
          -155.729981845,
          -159.109995325,
          -159.569997792,
          -161.16000795500003,
          -163.39999952000002,
          -164.97000212999995,
          -167.150009166,
          -169.05995272899997,
          -171.2400055,
          -172.100005157,
          -172.37999913999997,
          -172.399995797,
          -174.37996479,
          -175.53000220699997,
          -178.78000074000002,
          -179.11998841400003,
          -180.659996362,
          -180.72000314399997,
          -181.14000159499997,
          -181.17001348299996,
          -181.30999319999998,
          -184.70999334099997,
          -184.950011184,
          -186.179985565,
          -186.53000640000002,
          -189.259990404,
          -189.469990768,
          -189.88997713800006,
          -191.330013133,
          -192.280002605,
          -192.400007708,
          -193.65998462600004,
          -194.95996888100004,
          -195.46999547999997,
          -196.27998345999998,
          -200.25999644599997,
          -200.85000180499998,
          -206.23001389099997,
          -208.45998157399995,
          -209.9199982,
          -211.68003073599996,
          -213.29999540999998,
          -219.32000355,
          -219.94000760999998,
          -220.299987346,
          -222.56999881399997,
          -222.99001309000008,
          -223.5700073,
          -224.35998129699993,
          -225.08000086,
          -225.26996378,
          -225.589999448,
          -226.7599945,
          -228.35000607100005,
          -228.49001403700004,
          -228.750011,
          -228.770006168,
          -229.530003556,
          -230.109986286,
          -230.6900024,
          -231.880001266,
          -232.68996722999995,
          -234.69998649600004,
          -235.68999347800002,
          -237.159989344,
          -238.65998840999998,
          -238.87999535,
          -239.91998869800003,
          -240.2700062,
          -242.34999374999995,
          -242.53000493500002,
          -243.11998805999997,
          -243.63999266000005,
          -244.1700147969999,
          -244.33000038300003,
          -245.79999587700001,
          -246.00002768000002,
          -251.91000366999998,
          -256.940017399,
          -257.229990026,
          -260.2200089,
          -261.360000884,
          -261.939990056,
          -263.909971209,
          -264.3599854,
          -264.389986686,
          -265.729987671,
          -265.83000185,
          -266.069962693,
          -266.71996639400004,
          -269.78999146999996,
          -271.919993504,
          -272.06000515000005,
          -272.70999336,
          -278.54000664299997,
          -282.6199793939997,
          -285.40000346,
          -285.839986544,
          -286.229950793,
          -288.60999252,
          -289.04997787099995,
          -291.320004283,
          -291.98000339500004,
          -296.62001584999996,
          -299.16000176,
          -299.299974853,
          -304.279988747,
          -307.65998653,
          -311.17998304,
          -311.84999692400004,
          -313.99000743000005,
          -314.520020757,
          -315.259978261,
          -317.10002316400005,
          -318.45999054000004,
          -318.4600085999999,
          -319.22989950000004,
          -319.95999430200004,
          -322.10999297,
          -323.23999971,
          -323.489987349,
          -323.6700671719999,
          -323.89999389,
          -325.589981877,
          -327.00999450999996,
          -327.119955341,
          -328.250005736,
          -334.1399603389999,
          -340.559979371,
          -342.530003109,
          -346.17998133000003,
          -347.8799953270001,
          -347.940014154,
          -350.47997663900003,
          -350.830012389,
          -353.490024615,
          -357.27996978199997,
          -357.310002071,
          -359.6600037,
          -360.799996813,
          -368.07997912400003,
          -368.469964452,
          -372.46000959,
          -375.479996699,
          -375.509989232,
          -376.720009537,
          -378.47000695,
          -380.629986365,
          -381.830009028,
          -388.34999179,
          -388.8899467100001,
          -389.26001714499995,
          -389.66999819,
          -390.459998675,
          -396.18999863,
          -397.0100229279999,
          -397.960010501,
          -403.80999992799997,
          -403.889996608,
          -414.970015117,
          -415.60999081700004,
          -416.13000380600005,
          -419.12998574000005,
          -421.40998648,
          -421.43998610000006,
          -421.940053484,
          -424.2199754620001,
          -425.06996920999984,
          -429.530009292,
          -431.129956546,
          -438.3699874299999,
          -444.34998989099995,
          -445.670020786,
          -447.31998931699997,
          -447.449990288,
          -450.20999094900003,
          -453.859987672,
          -454.450010287,
          -455.029973544,
          -455.83997345,
          -455.8900060579999,
          -457.17000744999996,
          -457.869984647,
          -462.40002544300006,
          -463.36999988,
          -469.66997194299995,
          -471.40998084000006,
          -479.47000415099996,
          -481.08000657599996,
          -483.51001922600005,
          -488.029991177,
          -505.48000333000005,
          -505.50999648,
          -511.970009686,
          -517.90000532,
          -518.069934206,
          -524.79000053,
          -525.259983421,
          -527.7899981099999,
          -531.7600299250001,
          -536.6899850319999,
          -536.7400123890001,
          -537.9900197689999,
          -540.5199533829999,
          -548.5199911930001,
          -549.680002094,
          -549.900016314,
          -559.850002184,
          -560.419980525,
          -565.55000397,
          -572.350003294,
          -574.58000571,
          -574.99999241,
          -577.43999671,
          -580.949999987,
          -582.2499905,
          -583.990019944,
          -584.689991681,
          -584.8600495299999,
          -585.730028305,
          -586.34997225,
          -590.479994411,
          -593.090012542,
          -598.089987308,
          -598.5600188780002,
          -605.3499756440001,
          -605.62001232,
          -611.6500006140001,
          -611.929993155,
          -638.98002245,
          -644.099971723,
          -647.8499908699999,
          -648.1199686299999,
          -651.1899596009999,
          -653.7999595370001,
          -658.1699829,
          -663.42001727,
          -668.480030536,
          -675.699996909,
          -681.5899970180001,
          -688.049995002,
          -688.299995373,
          -699.7499916050001,
          -699.98999396,
          -700.259980728,
          -701.710025751,
          -703.709971041,
          -713.549952528,
          -742.710016147,
          -749.1299977119999,
          -754.3199734570001,
          -760.099992357,
          -766.360008001,
          -772.89001276,
          -773.15995976,
          -779.7000073349999,
          -780.729954592,
          -783.979973245,
          -789.8499765170001,
          -790.370021847,
          -799.919983404,
          -824.56003759,
          -844.7799539680001,
          -847.71997824,
          -858.32002152,
          -862.119985823,
          -862.5200128800001,
          -887.339985557,
          -890.28996662,
          -896.809961348,
          -926.319970939,
          -949.9799974499999,
          -970.739987371,
          -997.890081132,
          -1001.739988282,
          -1038.919998955,
          -1048.8599920299998,
          -1061.5900392,
          -1079.719985353,
          -1103.31002332,
          -1138.710002846,
          -1156.380011524,
          -1189.9199872060003,
          -1277.360006816,
          -1299.17999454,
          -1307.099959808,
          -1309.019962735,
          -1366.8600648870001,
          -1369.55999758,
          -1374.5400175319999,
          -1393.0499456520001,
          -1394.9899987860001,
          -1416.949949897,
          -1437.8699924290001,
          -1448.720007858,
          -1465.319992573,
          -1521.4000422699999,
          -1588.609972138,
          -1681.830001381,
          -1742.0799955359998,
          -2212.5300117039997,
          -3152.150012407
         ]
        }
       ],
       "layout": {
        "coloraxis": {
         "colorbar": {
          "title": {
           "text": "Profit of Orders"
          }
         },
         "colorscale": [
          [
           0,
           "rgb(41, 24, 107)"
          ],
          [
           0.09090909090909091,
           "rgb(42, 35, 160)"
          ],
          [
           0.18181818181818182,
           "rgb(15, 71, 153)"
          ],
          [
           0.2727272727272727,
           "rgb(18, 95, 142)"
          ],
          [
           0.36363636363636365,
           "rgb(38, 116, 137)"
          ],
          [
           0.45454545454545453,
           "rgb(53, 136, 136)"
          ],
          [
           0.5454545454545454,
           "rgb(65, 157, 133)"
          ],
          [
           0.6363636363636364,
           "rgb(81, 178, 124)"
          ],
          [
           0.7272727272727273,
           "rgb(111, 198, 107)"
          ],
          [
           0.8181818181818182,
           "rgb(160, 214, 91)"
          ],
          [
           0.9090909090909091,
           "rgb(212, 225, 112)"
          ],
          [
           1,
           "rgb(253, 238, 153)"
          ]
         ]
        },
        "geo": {
         "center": {},
         "domain": {
          "x": [
           0,
           1
          ],
          "y": [
           0,
           1
          ]
         }
        },
        "legend": {
         "tracegroupgap": 0
        },
        "margin": {
         "t": 60
        },
        "template": {
         "data": {
          "bar": [
           {
            "error_x": {
             "color": "#2a3f5f"
            },
            "error_y": {
             "color": "#2a3f5f"
            },
            "marker": {
             "line": {
              "color": "#E5ECF6",
              "width": 0.5
             },
             "pattern": {
              "fillmode": "overlay",
              "size": 10,
              "solidity": 0.2
             }
            },
            "type": "bar"
           }
          ],
          "barpolar": [
           {
            "marker": {
             "line": {
              "color": "#E5ECF6",
              "width": 0.5
             },
             "pattern": {
              "fillmode": "overlay",
              "size": 10,
              "solidity": 0.2
             }
            },
            "type": "barpolar"
           }
          ],
          "carpet": [
           {
            "aaxis": {
             "endlinecolor": "#2a3f5f",
             "gridcolor": "white",
             "linecolor": "white",
             "minorgridcolor": "white",
             "startlinecolor": "#2a3f5f"
            },
            "baxis": {
             "endlinecolor": "#2a3f5f",
             "gridcolor": "white",
             "linecolor": "white",
             "minorgridcolor": "white",
             "startlinecolor": "#2a3f5f"
            },
            "type": "carpet"
           }
          ],
          "choropleth": [
           {
            "colorbar": {
             "outlinewidth": 0,
             "ticks": ""
            },
            "type": "choropleth"
           }
          ],
          "contour": [
           {
            "colorbar": {
             "outlinewidth": 0,
             "ticks": ""
            },
            "colorscale": [
             [
              0,
              "#0d0887"
             ],
             [
              0.1111111111111111,
              "#46039f"
             ],
             [
              0.2222222222222222,
              "#7201a8"
             ],
             [
              0.3333333333333333,
              "#9c179e"
             ],
             [
              0.4444444444444444,
              "#bd3786"
             ],
             [
              0.5555555555555556,
              "#d8576b"
             ],
             [
              0.6666666666666666,
              "#ed7953"
             ],
             [
              0.7777777777777778,
              "#fb9f3a"
             ],
             [
              0.8888888888888888,
              "#fdca26"
             ],
             [
              1,
              "#f0f921"
             ]
            ],
            "type": "contour"
           }
          ],
          "contourcarpet": [
           {
            "colorbar": {
             "outlinewidth": 0,
             "ticks": ""
            },
            "type": "contourcarpet"
           }
          ],
          "heatmap": [
           {
            "colorbar": {
             "outlinewidth": 0,
             "ticks": ""
            },
            "colorscale": [
             [
              0,
              "#0d0887"
             ],
             [
              0.1111111111111111,
              "#46039f"
             ],
             [
              0.2222222222222222,
              "#7201a8"
             ],
             [
              0.3333333333333333,
              "#9c179e"
             ],
             [
              0.4444444444444444,
              "#bd3786"
             ],
             [
              0.5555555555555556,
              "#d8576b"
             ],
             [
              0.6666666666666666,
              "#ed7953"
             ],
             [
              0.7777777777777778,
              "#fb9f3a"
             ],
             [
              0.8888888888888888,
              "#fdca26"
             ],
             [
              1,
              "#f0f921"
             ]
            ],
            "type": "heatmap"
           }
          ],
          "heatmapgl": [
           {
            "colorbar": {
             "outlinewidth": 0,
             "ticks": ""
            },
            "colorscale": [
             [
              0,
              "#0d0887"
             ],
             [
              0.1111111111111111,
              "#46039f"
             ],
             [
              0.2222222222222222,
              "#7201a8"
             ],
             [
              0.3333333333333333,
              "#9c179e"
             ],
             [
              0.4444444444444444,
              "#bd3786"
             ],
             [
              0.5555555555555556,
              "#d8576b"
             ],
             [
              0.6666666666666666,
              "#ed7953"
             ],
             [
              0.7777777777777778,
              "#fb9f3a"
             ],
             [
              0.8888888888888888,
              "#fdca26"
             ],
             [
              1,
              "#f0f921"
             ]
            ],
            "type": "heatmapgl"
           }
          ],
          "histogram": [
           {
            "marker": {
             "pattern": {
              "fillmode": "overlay",
              "size": 10,
              "solidity": 0.2
             }
            },
            "type": "histogram"
           }
          ],
          "histogram2d": [
           {
            "colorbar": {
             "outlinewidth": 0,
             "ticks": ""
            },
            "colorscale": [
             [
              0,
              "#0d0887"
             ],
             [
              0.1111111111111111,
              "#46039f"
             ],
             [
              0.2222222222222222,
              "#7201a8"
             ],
             [
              0.3333333333333333,
              "#9c179e"
             ],
             [
              0.4444444444444444,
              "#bd3786"
             ],
             [
              0.5555555555555556,
              "#d8576b"
             ],
             [
              0.6666666666666666,
              "#ed7953"
             ],
             [
              0.7777777777777778,
              "#fb9f3a"
             ],
             [
              0.8888888888888888,
              "#fdca26"
             ],
             [
              1,
              "#f0f921"
             ]
            ],
            "type": "histogram2d"
           }
          ],
          "histogram2dcontour": [
           {
            "colorbar": {
             "outlinewidth": 0,
             "ticks": ""
            },
            "colorscale": [
             [
              0,
              "#0d0887"
             ],
             [
              0.1111111111111111,
              "#46039f"
             ],
             [
              0.2222222222222222,
              "#7201a8"
             ],
             [
              0.3333333333333333,
              "#9c179e"
             ],
             [
              0.4444444444444444,
              "#bd3786"
             ],
             [
              0.5555555555555556,
              "#d8576b"
             ],
             [
              0.6666666666666666,
              "#ed7953"
             ],
             [
              0.7777777777777778,
              "#fb9f3a"
             ],
             [
              0.8888888888888888,
              "#fdca26"
             ],
             [
              1,
              "#f0f921"
             ]
            ],
            "type": "histogram2dcontour"
           }
          ],
          "mesh3d": [
           {
            "colorbar": {
             "outlinewidth": 0,
             "ticks": ""
            },
            "type": "mesh3d"
           }
          ],
          "parcoords": [
           {
            "line": {
             "colorbar": {
              "outlinewidth": 0,
              "ticks": ""
             }
            },
            "type": "parcoords"
           }
          ],
          "pie": [
           {
            "automargin": true,
            "type": "pie"
           }
          ],
          "scatter": [
           {
            "marker": {
             "colorbar": {
              "outlinewidth": 0,
              "ticks": ""
             }
            },
            "type": "scatter"
           }
          ],
          "scatter3d": [
           {
            "line": {
             "colorbar": {
              "outlinewidth": 0,
              "ticks": ""
             }
            },
            "marker": {
             "colorbar": {
              "outlinewidth": 0,
              "ticks": ""
             }
            },
            "type": "scatter3d"
           }
          ],
          "scattercarpet": [
           {
            "marker": {
             "colorbar": {
              "outlinewidth": 0,
              "ticks": ""
             }
            },
            "type": "scattercarpet"
           }
          ],
          "scattergeo": [
           {
            "marker": {
             "colorbar": {
              "outlinewidth": 0,
              "ticks": ""
             }
            },
            "type": "scattergeo"
           }
          ],
          "scattergl": [
           {
            "marker": {
             "colorbar": {
              "outlinewidth": 0,
              "ticks": ""
             }
            },
            "type": "scattergl"
           }
          ],
          "scattermapbox": [
           {
            "marker": {
             "colorbar": {
              "outlinewidth": 0,
              "ticks": ""
             }
            },
            "type": "scattermapbox"
           }
          ],
          "scatterpolar": [
           {
            "marker": {
             "colorbar": {
              "outlinewidth": 0,
              "ticks": ""
             }
            },
            "type": "scatterpolar"
           }
          ],
          "scatterpolargl": [
           {
            "marker": {
             "colorbar": {
              "outlinewidth": 0,
              "ticks": ""
             }
            },
            "type": "scatterpolargl"
           }
          ],
          "scatterternary": [
           {
            "marker": {
             "colorbar": {
              "outlinewidth": 0,
              "ticks": ""
             }
            },
            "type": "scatterternary"
           }
          ],
          "surface": [
           {
            "colorbar": {
             "outlinewidth": 0,
             "ticks": ""
            },
            "colorscale": [
             [
              0,
              "#0d0887"
             ],
             [
              0.1111111111111111,
              "#46039f"
             ],
             [
              0.2222222222222222,
              "#7201a8"
             ],
             [
              0.3333333333333333,
              "#9c179e"
             ],
             [
              0.4444444444444444,
              "#bd3786"
             ],
             [
              0.5555555555555556,
              "#d8576b"
             ],
             [
              0.6666666666666666,
              "#ed7953"
             ],
             [
              0.7777777777777778,
              "#fb9f3a"
             ],
             [
              0.8888888888888888,
              "#fdca26"
             ],
             [
              1,
              "#f0f921"
             ]
            ],
            "type": "surface"
           }
          ],
          "table": [
           {
            "cells": {
             "fill": {
              "color": "#EBF0F8"
             },
             "line": {
              "color": "white"
             }
            },
            "header": {
             "fill": {
              "color": "#C8D4E3"
             },
             "line": {
              "color": "white"
             }
            },
            "type": "table"
           }
          ]
         },
         "layout": {
          "annotationdefaults": {
           "arrowcolor": "#2a3f5f",
           "arrowhead": 0,
           "arrowwidth": 1
          },
          "autotypenumbers": "strict",
          "coloraxis": {
           "colorbar": {
            "outlinewidth": 0,
            "ticks": ""
           }
          },
          "colorscale": {
           "diverging": [
            [
             0,
             "#8e0152"
            ],
            [
             0.1,
             "#c51b7d"
            ],
            [
             0.2,
             "#de77ae"
            ],
            [
             0.3,
             "#f1b6da"
            ],
            [
             0.4,
             "#fde0ef"
            ],
            [
             0.5,
             "#f7f7f7"
            ],
            [
             0.6,
             "#e6f5d0"
            ],
            [
             0.7,
             "#b8e186"
            ],
            [
             0.8,
             "#7fbc41"
            ],
            [
             0.9,
             "#4d9221"
            ],
            [
             1,
             "#276419"
            ]
           ],
           "sequential": [
            [
             0,
             "#0d0887"
            ],
            [
             0.1111111111111111,
             "#46039f"
            ],
            [
             0.2222222222222222,
             "#7201a8"
            ],
            [
             0.3333333333333333,
             "#9c179e"
            ],
            [
             0.4444444444444444,
             "#bd3786"
            ],
            [
             0.5555555555555556,
             "#d8576b"
            ],
            [
             0.6666666666666666,
             "#ed7953"
            ],
            [
             0.7777777777777778,
             "#fb9f3a"
            ],
            [
             0.8888888888888888,
             "#fdca26"
            ],
            [
             1,
             "#f0f921"
            ]
           ],
           "sequentialminus": [
            [
             0,
             "#0d0887"
            ],
            [
             0.1111111111111111,
             "#46039f"
            ],
            [
             0.2222222222222222,
             "#7201a8"
            ],
            [
             0.3333333333333333,
             "#9c179e"
            ],
            [
             0.4444444444444444,
             "#bd3786"
            ],
            [
             0.5555555555555556,
             "#d8576b"
            ],
            [
             0.6666666666666666,
             "#ed7953"
            ],
            [
             0.7777777777777778,
             "#fb9f3a"
            ],
            [
             0.8888888888888888,
             "#fdca26"
            ],
            [
             1,
             "#f0f921"
            ]
           ]
          },
          "colorway": [
           "#636efa",
           "#EF553B",
           "#00cc96",
           "#ab63fa",
           "#FFA15A",
           "#19d3f3",
           "#FF6692",
           "#B6E880",
           "#FF97FF",
           "#FECB52"
          ],
          "font": {
           "color": "#2a3f5f"
          },
          "geo": {
           "bgcolor": "white",
           "lakecolor": "white",
           "landcolor": "#E5ECF6",
           "showlakes": true,
           "showland": true,
           "subunitcolor": "white"
          },
          "hoverlabel": {
           "align": "left"
          },
          "hovermode": "closest",
          "mapbox": {
           "style": "light"
          },
          "paper_bgcolor": "white",
          "plot_bgcolor": "#E5ECF6",
          "polar": {
           "angularaxis": {
            "gridcolor": "white",
            "linecolor": "white",
            "ticks": ""
           },
           "bgcolor": "#E5ECF6",
           "radialaxis": {
            "gridcolor": "white",
            "linecolor": "white",
            "ticks": ""
           }
          },
          "scene": {
           "xaxis": {
            "backgroundcolor": "#E5ECF6",
            "gridcolor": "white",
            "gridwidth": 2,
            "linecolor": "white",
            "showbackground": true,
            "ticks": "",
            "zerolinecolor": "white"
           },
           "yaxis": {
            "backgroundcolor": "#E5ECF6",
            "gridcolor": "white",
            "gridwidth": 2,
            "linecolor": "white",
            "showbackground": true,
            "ticks": "",
            "zerolinecolor": "white"
           },
           "zaxis": {
            "backgroundcolor": "#E5ECF6",
            "gridcolor": "white",
            "gridwidth": 2,
            "linecolor": "white",
            "showbackground": true,
            "ticks": "",
            "zerolinecolor": "white"
           }
          },
          "shapedefaults": {
           "line": {
            "color": "#2a3f5f"
           }
          },
          "ternary": {
           "aaxis": {
            "gridcolor": "white",
            "linecolor": "white",
            "ticks": ""
           },
           "baxis": {
            "gridcolor": "white",
            "linecolor": "white",
            "ticks": ""
           },
           "bgcolor": "#E5ECF6",
           "caxis": {
            "gridcolor": "white",
            "linecolor": "white",
            "ticks": ""
           }
          },
          "title": {
           "x": 0.05
          },
          "xaxis": {
           "automargin": true,
           "gridcolor": "white",
           "linecolor": "white",
           "ticks": "",
           "title": {
            "standoff": 15
           },
           "zerolinecolor": "white",
           "zerolinewidth": 2
          },
          "yaxis": {
           "automargin": true,
           "gridcolor": "white",
           "linecolor": "white",
           "ticks": "",
           "title": {
            "standoff": 15
           },
           "zerolinecolor": "white",
           "zerolinewidth": 2
          }
         }
        }
       }
      },
      "text/html": [
       "<div>                            <div id=\"af69d230-6678-4d23-9180-17f36c623ecd\" class=\"plotly-graph-div\" style=\"height:525px; width:100%;\"></div>            <script type=\"text/javascript\">                require([\"plotly\"], function(Plotly) {                    window.PLOTLYENV=window.PLOTLYENV || {};                                    if (document.getElementById(\"af69d230-6678-4d23-9180-17f36c623ecd\")) {                    Plotly.newPlot(                        \"af69d230-6678-4d23-9180-17f36c623ecd\",                        [{\"coloraxis\":\"coloraxis\",\"geo\":\"geo\",\"hovertemplate\":\"<b>%{hovertext}</b><br><br>Order Country=%{location}<br>Profit of Orders=%{z}<extra></extra>\",\"hovertext\":[\"Rep\\u00fablica Dominicana\",\"Estados Unidos\",\"Honduras\",\"Estados Unidos\",\"Nicaragua\",\"M\\u00e9xico\",\"Reino Unido\",\"Filipinas\",\"Estados Unidos\",\"Indonesia\",\"Austria\",\"Espa\\u00f1a\",\"Estados Unidos\",\"Argentina\",\"Tailandia\",\"Nigeria\",\"Brasil\",\"Australia\",\"Francia\",\"Estados Unidos\",\"Estados Unidos\",\"Honduras\",\"Alemania\",\"El Salvador\",\"Turqu\\u00eda\",\"Italia\",\"Panam\\u00e1\",\"Alemania\",\"Guatemala\",\"El Salvador\",\"Australia\",\"Australia\",\"Estados Unidos\",\"Estados Unidos\",\"Estados Unidos\",\"Vietnam\",\"M\\u00e9xico\",\"Suecia\",\"Rep\\u00fablica Democr\\u00e1tica del Congo\",\"Singapur\",\"Colombia\",\"Honduras\",\"Guatemala\",\"Australia\",\"Hait\\u00ed\",\"Espa\\u00f1a\",\"Alemania\",\"Panam\\u00e1\",\"Per\\u00fa\",\"Italia\",\"Marruecos\",\"M\\u00e9xico\",\"Australia\",\"Rep\\u00fablica Dominicana\",\"M\\u00e9xico\",\"M\\u00e9xico\",\"Cuba\",\"Australia\",\"El Salvador\",\"Italia\",\"Reino Unido\",\"M\\u00e9xico\",\"Francia\",\"Myanmar (Birmania)\",\"M\\u00e9xico\",\"Egipto\",\"M\\u00e9xico\",\"M\\u00e9xico\",\"Brasil\",\"Francia\",\"Irak\",\"Australia\",\"Estados Unidos\",\"Estados Unidos\",\"Estados Unidos\",\"Alemania\",\"Corea del Sur\",\"Estados Unidos\",\"Pa\\u00edses Bajos\",\"Indonesia\",\"El Salvador\",\"M\\u00e9xico\",\"El Salvador\",\"Nigeria\",\"Australia\",\"SudAfrica\",\"China\",\"Australia\",\"Turqu\\u00eda\",\"Egipto\",\"Francia\",\"Honduras\",\"Nicaragua\",\"Nicaragua\",\"Nueva Zelanda\",\"Venezuela\",\"M\\u00e9xico\",\"M\\u00e9xico\",\"Italia\",\"El Salvador\",\"Francia\",\"Indonesia\",\"Reino Unido\",\"China\",\"Alemania\",\"Banglad\\u00e9s\",\"Australia\",\"Rep\\u00fablica Dominicana\",\"Pakist\\u00e1n\",\"Estados Unidos\",\"Nicaragua\",\"Estados Unidos\",\"Chile\",\"Estados Unidos\",\"M\\u00e9xico\",\"Espa\\u00f1a\",\"Cuba\",\"Australia\",\"Brasil\",\"Nueva Zelanda\",\"Rep\\u00fablica Dominicana\",\"Indonesia\",\"Tanzania\",\"Filipinas\",\"Arabia Saud\\u00ed\",\"China\",\"M\\u00e9xico\",\"SudAfrica\",\"Francia\",\"Guatemala\",\"M\\u00e9xico\",\"El Salvador\",\"M\\u00e9xico\",\"M\\u00e9xico\",\"Ghana\",\"Venezuela\",\"M\\u00e9xico\",\"Francia\",\"Guatemala\",\"Reino Unido\",\"Camer\\u00fan\",\"Estados Unidos\",\"Alemania\",\"Honduras\",\"M\\u00e9xico\",\"Reino Unido\",\"Ir\\u00e1n\",\"Colombia\",\"Cuba\",\"Estados Unidos\",\"SudAfrica\",\"Cuba\",\"Honduras\",\"Estados Unidos\",\"Estados Unidos\",\"M\\u00e9xico\",\"Australia\",\"El Salvador\",\"Cuba\",\"Reino Unido\",\"Marruecos\",\"Panam\\u00e1\",\"Estados Unidos\",\"Pa\\u00edses Bajos\",\"Alemania\",\"Brasil\",\"Australia\",\"Finlandia\",\"Estados Unidos\",\"Hungr\\u00eda\",\"India\",\"Nicaragua\",\"Cuba\",\"Reino Unido\",\"India\",\"Ir\\u00e1n\",\"Alemania\",\"Italia\",\"Panam\\u00e1\",\"Francia\",\"Indonesia\",\"Reino Unido\",\"China\",\"M\\u00e9xico\",\"Francia\",\"Noruega\",\"Indonesia\",\"Australia\",\"Vietnam\",\"Estados Unidos\",\"M\\u00e9xico\",\"Nigeria\",\"Alemania\",\"M\\u00e9xico\",\"Francia\",\"Francia\",\"Indonesia\",\"Guatemala\",\"Senegal\",\"Colombia\",\"Nicaragua\",\"Italia\",\"Costa de Marfil\",\"M\\u00e9xico\",\"Estados Unidos\",\"Alemania\",\"M\\u00e9xico\",\"Rep\\u00fablica Dominicana\",\"Portugal\",\"Australia\",\"China\",\"M\\u00e9xico\",\"M\\u00e9xico\",\"Colombia\",\"Alemania\",\"Espa\\u00f1a\",\"M\\u00e9xico\",\"Pa\\u00edses Bajos\",\"Espa\\u00f1a\",\"Estados Unidos\",\"Rusia\",\"Dinamarca\",\"Jap\\u00f3n\",\"Brasil\",\"India\",\"Reino Unido\",\"M\\u00e9xico\",\"M\\u00e9xico\",\"Austria\",\"Cuba\",\"Irlanda\",\"Brasil\",\"Polonia\",\"Alemania\",\"Alemania\",\"Estados Unidos\",\"Alemania\",\"Estados Unidos\",\"Irak\",\"Brasil\",\"Pa\\u00edses Bajos\",\"Reino Unido\",\"M\\u00e9xico\",\"Brasil\",\"Reino Unido\",\"India\",\"India\",\"China\",\"Bulgaria\",\"Estados Unidos\",\"China\",\"Estados Unidos\",\"Francia\",\"Australia\",\"Australia\",\"China\",\"Nicaragua\",\"M\\u00e9xico\",\"Turqu\\u00eda\",\"Alemania\",\"Francia\",\"M\\u00e9xico\",\"India\",\"Alemania\",\"Alemania\",\"Brasil\",\"Camboya\",\"Zambia\",\"Australia\",\"Estados Unidos\",\"Brasil\",\"Brasil\",\"Alemania\",\"Suecia\",\"Nueva Zelanda\",\"Austria\",\"Cuba\",\"Estados Unidos\",\"Nigeria\",\"Brasil\",\"Indonesia\",\"Suecia\",\"Martinica\",\"Italia\",\"Indonesia\",\"Reino Unido\",\"Italia\",\"Libia\",\"Italia\",\"Brasil\",\"Alemania\",\"Reino Unido\",\"Rep\\u00fablica Dominicana\",\"Nicaragua\",\"M\\u00e9xico\",\"Alemania\",\"Kirguist\\u00e1n\",\"Francia\",\"Guatemala\",\"Estados Unidos\",\"Irak\",\"Ucrania\",\"Argelia\",\"China\",\"Alemania\",\"Irak\",\"India\",\"Estados Unidos\",\"Kenia\",\"Francia\",\"Estados Unidos\",\"Francia\",\"Australia\",\"El Salvador\",\"Alemania\",\"Espa\\u00f1a\",\"Brasil\",\"M\\u00e9xico\",\"Indonesia\",\"China\",\"Francia\",\"Arabia Saud\\u00ed\",\"Irlanda\",\"China\",\"Portugal\",\"M\\u00e9xico\",\"Italia\",\"Francia\",\"Nueva Zelanda\",\"Estados Unidos\",\"Ir\\u00e1n\",\"Rusia\",\"India\",\"Jamaica\",\"B\\u00e9lgica\",\"B\\u00e9lgica\",\"Francia\",\"Sud\\u00e1n\",\"Rep\\u00fablica Dominicana\",\"M\\u00e9xico\",\"Australia\",\"Cuba\",\"Alemania\",\"Jamaica\",\"Francia\",\"El Salvador\",\"Suiza\",\"Indonesia\",\"Pa\\u00edses Bajos\",\"Brasil\",\"SudAfrica\",\"Brasil\",\"Trinidad y Tobago\",\"Australia\",\"Rep\\u00fablica Democr\\u00e1tica del Congo\",\"Brasil\",\"Francia\",\"M\\u00e9xico\",\"Pakist\\u00e1n\",\"Francia\",\"Alemania\",\"China\",\"Estados Unidos\",\"M\\u00e9xico\",\"M\\u00e9xico\",\"Cuba\",\"Italia\",\"Banglad\\u00e9s\",\"Estados Unidos\",\"Estados Unidos\",\"Marruecos\",\"Cuba\",\"Reino Unido\",\"M\\u00e9xico\",\"M\\u00e9xico\",\"Francia\",\"Reino Unido\",\"Estados Unidos\",\"Alemania\",\"Panam\\u00e1\",\"Reino Unido\",\"Turqu\\u00eda\",\"Alemania\",\"Reino Unido\",\"Francia\",\"Pap\\u00faa Nueva Guinea\",\"Brasil\",\"Alemania\",\"China\",\"Francia\",\"Ecuador\",\"M\\u00e9xico\",\"Espa\\u00f1a\",\"Estados Unidos\",\"Francia\",\"India\",\"Alemania\",\"Francia\",\"Pakist\\u00e1n\",\"Francia\",\"Ir\\u00e1n\",\"Francia\",\"Brasil\",\"Francia\",\"Reino Unido\",\"Cuba\",\"M\\u00e9xico\",\"M\\u00e9xico\",\"Estados Unidos\",\"M\\u00e9xico\",\"Canada\",\"Brasil\",\"Argentina\",\"Estados Unidos\",\"Jordania\",\"B\\u00e9lgica\",\"M\\u00e9xico\",\"Francia\",\"Madagascar\",\"Austria\",\"M\\u00e9xico\",\"Alemania\",\"Brasil\",\"B\\u00e9lgica\",\"Cuba\",\"Alemania\",\"Francia\",\"M\\u00e9xico\",\"Australia\",\"Turqu\\u00eda\",\"Estados Unidos\",\"Zimbabue\",\"Reino Unido\",\"Espa\\u00f1a\",\"Trinidad y Tobago\",\"China\",\"India\",\"Rep\\u00fablica Democr\\u00e1tica del Congo\",\"Ir\\u00e1n\",\"Venezuela\",\"Francia\",\"Israel\",\"Italia\",\"Italia\",\"Brasil\",\"Ir\\u00e1n\",\"M\\u00e9xico\",\"Francia\",\"Uganda\",\"Brasil\",\"China\",\"Francia\",\"Brasil\",\"Francia\",\"Rep\\u00fablica Checa\",\"Reino Unido\",\"Francia\",\"Estados Unidos\",\"Georgia\",\"Italia\",\"Indonesia\",\"Francia\",\"Francia\",\"Arabia Saud\\u00ed\",\"M\\u00e9xico\",\"Barbados\",\"Nigeria\",\"Estados Unidos\",\"M\\u00e9xico\",\"Somalia\",\"Estados Unidos\",\"Guatemala\",\"Alemania\",\"N\\u00edger\",\"Brasil\",\"Zimbabue\",\"Filipinas\",\"Turqu\\u00eda\",\"M\\u00e9xico\",\"India\",\"Estados Unidos\",\"Indonesia\",\"Estados Unidos\",\"Francia\",\"Estados Unidos\",\"Estados Unidos\",\"Mozambique\",\"Qatar\",\"Polonia\",\"Colombia\",\"Mozambique\",\"B\\u00e9lgica\",\"Australia\",\"Francia\",\"Espa\\u00f1a\",\"M\\u00e9xico\",\"Malasia\",\"Cuba\",\"Estados Unidos\",\"Canada\",\"Alemania\",\"Reino Unido\",\"India\",\"Brasil\",\"India\",\"Turqu\\u00eda\",\"Reino Unido\",\"B\\u00e9lgica\",\"Francia\",\"Reino Unido\",\"Alemania\",\"M\\u00e9xico\",\"Francia\",\"Italia\",\"Brasil\",\"Francia\",\"M\\u00e9xico\",\"Francia\",\"Alemania\",\"Egipto\",\"Francia\",\"Afganist\\u00e1n\",\"Rumania\",\"Alemania\",\"Estados Unidos\",\"Colombia\",\"Reino Unido\",\"Alemania\",\"Francia\",\"Australia\",\"Noruega\",\"Alemania\",\"SudAfrica\",\"Indonesia\",\"Filipinas\",\"Canada\",\"Reino Unido\",\"Italia\",\"Brasil\",\"India\",\"China\",\"Reino Unido\",\"Francia\",\"Alemania\",\"Australia\",\"Reino Unido\",\"Turqu\\u00eda\",\"Estados Unidos\",\"Estados Unidos\",\"Francia\",\"China\",\"Alemania\",\"Marruecos\",\"China\",\"Brasil\",\"Argentina\",\"Francia\",\"Alemania\",\"Estados Unidos\",\"Reino Unido\",\"Reino Unido\",\"Nueva Zelanda\",\"Lituania\",\"Turqu\\u00eda\",\"Estados Unidos\",\"Reino Unido\",\"Estados Unidos\",\"Reino Unido\",\"Nueva Zelanda\",\"Estados Unidos\",\"India\",\"Estados Unidos\",\"India\",\"Australia\",\"Siria\",\"Francia\",\"Rep\\u00fablica Democr\\u00e1tica del Congo\",\"Portugal\",\"Italia\",\"Estados Unidos\",\"M\\u00e9xico\",\"Estados Unidos\",\"Estados Unidos\",\"Estados Unidos\",\"Italia\",\"Ghana\",\"Alemania\",\"Cuba\",\"Brasil\",\"Reino Unido\",\"Rusia\",\"Brasil\",\"China\",\"India\",\"Nigeria\",\"India\",\"Francia\",\"El Salvador\",\"Reino Unido\",\"Italia\",\"Guatemala\",\"Malasia\",\"Reino Unido\",\"Francia\",\"Australia\",\"Reino Unido\",\"Ir\\u00e1n\",\"Espa\\u00f1a\",\"Estados Unidos\",\"Brasil\",\"Espa\\u00f1a\",\"Argentina\",\"Francia\",\"Estados Unidos\",\"Francia\",\"Mozambique\",\"China\",\"Espa\\u00f1a\",\"Nigeria\",\"Estados Unidos\",\"China\",\"Turqu\\u00eda\",\"Espa\\u00f1a\",\"Canada\",\"Canada\",\"Marruecos\",\"Polonia\",\"Alemania\",\"Rep\\u00fablica Dominicana\",\"Australia\",\"Argentina\",\"Italia\",\"Italia\",\"Cuba\",\"Francia\",\"Kazajist\\u00e1n\",\"Italia\",\"Pakist\\u00e1n\",\"Alemania\",\"Italia\",\"Indonesia\",\"Estados Unidos\",\"Nueva Zelanda\",\"M\\u00e9xico\",\"Dinamarca\",\"Australia\",\"Ucrania\",\"Australia\",\"Noruega\",\"Francia\",\"Estados Unidos\",\"Corea del Sur\",\"China\",\"Estados Unidos\",\"Guatemala\",\"Reino Unido\",\"Estados Unidos\",\"Yemen\",\"M\\u00e9xico\",\"Nigeria\",\"India\",\"Francia\",\"M\\u00e9xico\",\"Italia\",\"Nigeria\",\"Francia\",\"Brasil\",\"Francia\",\"Reino Unido\",\"Francia\",\"Francia\",\"Malasia\",\"Estados Unidos\",\"Ir\\u00e1n\",\"Brasil\",\"Brasil\",\"Brasil\",\"Mozambique\",\"Alemania\",\"Brasil\",\"China\",\"Alemania\",\"Estados Unidos\",\"Estados Unidos\",\"Estados Unidos\",\"Francia\",\"Reino Unido\",\"India\",\"Francia\",\"Kenia\",\"Kazajist\\u00e1n\",\"India\",\"Estados Unidos\",\"Estados Unidos\",\"Argentina\",\"Croacia\",\"Francia\",\"M\\u00e9xico\",\"India\",\"SudAfrica\",\"Brasil\",\"Alemania\",\"Rep\\u00fablica Democr\\u00e1tica del Congo\",\"Espa\\u00f1a\",\"Reino Unido\",\"Espa\\u00f1a\",\"Estados Unidos\",\"India\",\"Italia\",\"Francia\",\"Colombia\",\"Reino Unido\",\"Francia\",\"Estados Unidos\",\"Nigeria\",\"Francia\",\"India\",\"Pa\\u00edses Bajos\",\"Corea del Sur\",\"Estados Unidos\",\"Francia\",\"Estados Unidos\",\"Filipinas\",\"Nigeria\",\"Chile\",\"India\",\"Jap\\u00f3n\",\"Rusia\",\"Bolivia\",\"M\\u00e9xico\",\"Alemania\",\"Italia\",\"Francia\",\"Indonesia\",\"Reino Unido\",\"M\\u00e9xico\",\"Ucrania\",\"Tanzania\",\"Alemania\",\"Turqu\\u00eda\",\"Reino Unido\",\"Estados Unidos\",\"M\\u00e9xico\",\"Estados Unidos\",\"Polonia\",\"Rumania\",\"Colombia\",\"Italia\",\"Uruguay\",\"Filipinas\",\"Per\\u00fa\",\"Espa\\u00f1a\",\"Reino Unido\",\"Francia\",\"India\",\"Espa\\u00f1a\",\"Chile\",\"Espa\\u00f1a\",\"Estados Unidos\",\"Pa\\u00edses Bajos\",\"Francia\",\"Francia\",\"Colombia\",\"Alemania\",\"India\",\"Francia\",\"Francia\",\"Francia\",\"Estados Unidos\",\"Hait\\u00ed\",\"India\",\"India\",\"Nigeria\",\"Ucrania\",\"Turqu\\u00eda\",\"Marruecos\",\"Francia\",\"Francia\",\"India\",\"Italia\",\"Francia\",\"Indonesia\",\"M\\u00e9xico\",\"Brasil\",\"Pa\\u00edses Bajos\",\"Nueva Zelanda\",\"SudAfrica\",\"Indonesia\",\"Indonesia\",\"Indonesia\",\"Brasil\",\"Turqu\\u00eda\",\"SudAfrica\",\"Arabia Saud\\u00ed\",\"Francia\",\"Australia\",\"M\\u00e9xico\",\"Estados Unidos\",\"Francia\",\"Reino Unido\",\"Ir\\u00e1n\",\"Venezuela\",\"Israel\",\"Hungr\\u00eda\",\"Alemania\",\"Australia\",\"Alemania\",\"Argentina\",\"Francia\",\"Estados Unidos\",\"Pa\\u00edses Bajos\",\"Indonesia\",\"China\",\"Alemania\",\"Italia\",\"Estados Unidos\",\"M\\u00e9xico\",\"Francia\",\"Francia\",\"Yibuti\",\"Brasil\",\"Suiza\",\"Rep\\u00fablica Dominicana\",\"Estados Unidos\",\"Estados Unidos\",\"Turqu\\u00eda\",\"Angola\",\"M\\u00e9xico\",\"Francia\",\"Colombia\",\"India\",\"China\",\"Australia\",\"Brasil\",\"Estados Unidos\",\"Francia\",\"Bielorrusia\",\"Francia\",\"Francia\",\"Estados Unidos\",\"Estados Unidos\",\"Turqu\\u00eda\",\"Espa\\u00f1a\",\"Francia\",\"Francia\",\"Estados Unidos\",\"Ir\\u00e1n\",\"India\",\"Brasil\",\"Brasil\",\"Cuba\",\"Estados Unidos\",\"Alemania\",\"Ucrania\",\"Brasil\",\"India\",\"Bolivia\",\"Indonesia\",\"Francia\",\"Brasil\",\"Alemania\",\"Francia\",\"Turqu\\u00eda\",\"Rep\\u00fablica Democr\\u00e1tica del Congo\",\"China\",\"China\",\"Venezuela\",\"Brasil\",\"Alemania\",\"Rumania\",\"Estados Unidos\",\"Francia\",\"Brasil\",\"Canada\",\"Francia\",\"Brasil\",\"Nueva Zelanda\",\"Per\\u00fa\",\"Ir\\u00e1n\",\"Italia\",\"Francia\",\"Francia\",\"Francia\",\"Turqu\\u00eda\",\"Brasil\",\"India\",\"Francia\",\"M\\u00e9xico\",\"M\\u00e9xico\",\"Espa\\u00f1a\",\"Alemania\",\"Argelia\",\"Italia\",\"Francia\",\"Francia\",\"Reino Unido\",\"Uzbekist\\u00e1n\",\"Nepal\",\"Estados Unidos\",\"Marruecos\",\"Francia\",\"Italia\",\"Cuba\",\"China\",\"Bielorrusia\",\"Corea del Sur\",\"Canada\",\"Malasia\",\"Israel\",\"Ucrania\",\"Estados Unidos\",\"Argentina\",\"Turqu\\u00eda\",\"Turqu\\u00eda\",\"Suecia\",\"Brasil\",\"Estados Unidos\",\"Brasil\",\"Reino Unido\",\"Camer\\u00fan\",\"India\",\"Senegal\",\"Espa\\u00f1a\",\"Reino Unido\",\"China\",\"Corea del Sur\",\"Estados Unidos\",\"Nueva Zelanda\",\"Costa de Marfil\",\"Pakist\\u00e1n\",\"Italia\",\"Finlandia\",\"Venezuela\",\"Polonia\",\"Alemania\",\"Reino Unido\",\"Francia\",\"Brasil\",\"Turqu\\u00eda\",\"Francia\",\"Rep\\u00fablica Dominicana\",\"Turqu\\u00eda\",\"Reino Unido\",\"Alemania\",\"Reino Unido\",\"Brasil\",\"Francia\",\"India\",\"Colombia\",\"Pa\\u00edses Bajos\",\"Francia\",\"India\",\"Francia\",\"Italia\",\"Rusia\",\"Francia\",\"Francia\",\"Pa\\u00edses Bajos\",\"Francia\",\"Estados Unidos\",\"Francia\",\"M\\u00e9xico\",\"China\",\"Italia\",\"Brasil\",\"Alemania\",\"Reino Unido\",\"Togo\",\"Francia\",\"Brasil\",\"Tanzania\",\"Francia\",\"Reino Unido\",\"Brasil\",\"Jap\\u00f3n\",\"Francia\",\"Estados Unidos\",\"Francia\",\"Australia\",\"Pakist\\u00e1n\",\"Alemania\",\"China\",\"Nueva Zelanda\",\"Moldavia\",\"Francia\",\"Reino Unido\",\"Estados Unidos\",\"Nigeria\",\"Brasil\",\"Francia\",\"Chile\",\"Espa\\u00f1a\",\"Reino Unido\",\"Estados Unidos\",\"Pa\\u00edses Bajos\",\"Reino Unido\",\"Nigeria\",\"Estados Unidos\",\"B\\u00e9lgica\",\"Argelia\",\"Italia\",\"Francia\",\"Mauritania\",\"Bolivia\",\"Italia\",\"Alemania\",\"Estados Unidos\",\"Reino Unido\",\"Suiza\",\"India\",\"Canada\",\"China\",\"India\",\"Pa\\u00edses Bajos\",\"Italia\",\"Australia\",\"Malasia\",\"Reino Unido\",\"Francia\",\"Alemania\",\"Somalia\",\"India\",\"Estados Unidos\",\"Reino Unido\",\"Italia\",\"Pa\\u00edses Bajos\",\"Estados Unidos\",\"China\",\"India\",\"Brasil\",\"Espa\\u00f1a\",\"Cuba\",\"Reino Unido\",\"Reino Unido\",\"Francia\",\"M\\u00e9xico\",\"Francia\",\"Filipinas\",\"Reino Unido\",\"Francia\",\"Brasil\",\"Noruega\",\"Rusia\",\"M\\u00e9xico\",\"M\\u00e9xico\",\"Pa\\u00edses Bajos\",\"M\\u00e9xico\",\"Rusia\",\"Reino Unido\",\"Francia\",\"Pa\\u00edses Bajos\",\"Francia\",\"Francia\",\"Francia\",\"Estados Unidos\",\"India\",\"Francia\",\"Venezuela\",\"China\",\"Espa\\u00f1a\",\"Estados Unidos\",\"Polonia\",\"T\\u00fanez\",\"Francia\",\"Reino Unido\",\"M\\u00e9xico\",\"Espa\\u00f1a\",\"Estados Unidos\",\"Argelia\",\"Francia\",\"Australia\",\"N\\u00edger\",\"Espa\\u00f1a\",\"Francia\",\"Francia\",\"China\",\"Venezuela\",\"Reino Unido\",\"Indonesia\",\"Francia\",\"China\",\"Siria\",\"Francia\",\"Estados Unidos\",\"Arabia Saud\\u00ed\",\"Kazajist\\u00e1n\",\"Estados Unidos\",\"Guinea\",\"India\",\"Argelia\",\"Malasia\",\"Brasil\",\"Italia\",\"Indonesia\",\"Italia\",\"Francia\",\"Alemania\",\"Brasil\",\"Argelia\",\"Per\\u00fa\",\"Corea del Sur\",\"Francia\",\"Italia\",\"Pa\\u00edses Bajos\",\"Chile\",\"Reino Unido\",\"Estados Unidos\",\"Estados Unidos\",\"Banglad\\u00e9s\",\"Rumania\",\"Francia\",\"China\",\"Rumania\",\"Australia\",\"Australia\",\"Colombia\",\"Italia\",\"Canada\",\"Francia\",\"Francia\",\"Cuba\",\"China\",\"Estados Unidos\",\"Francia\",\"Francia\",\"Brasil\",\"Australia\",\"Ir\\u00e1n\",\"Austria\",\"India\",\"Rep\\u00fablica Democr\\u00e1tica del Congo\",\"Canada\",\"Portugal\",\"Estados Unidos\",\"Turqu\\u00eda\",\"Filipinas\",\"Suecia\",\"Reino Unido\",\"Alemania\",\"China\",\"Ucrania\",\"Estados Unidos\",\"Rumania\",\"Alemania\",\"Indonesia\",\"Alemania\",\"Cuba\",\"China\",\"Jap\\u00f3n\",\"Rumania\",\"Nueva Zelanda\",\"Brasil\",\"Francia\",\"Estados Unidos\",\"Reino Unido\",\"China\",\"China\",\"Espa\\u00f1a\",\"Espa\\u00f1a\",\"Malasia\",\"Per\\u00fa\",\"Australia\",\"Venezuela\",\"Espa\\u00f1a\",\"Brasil\",\"Italia\",\"Nigeria\",\"Uzbekist\\u00e1n\",\"Indonesia\",\"Brasil\",\"Turqu\\u00eda\",\"Estados Unidos\",\"Suiza\",\"Italia\",\"Argentina\",\"Espa\\u00f1a\",\"Reino Unido\",\"M\\u00e9xico\",\"Alemania\",\"M\\u00e9xico\",\"Venezuela\",\"Francia\",\"Suecia\",\"M\\u00e9xico\",\"Estados Unidos\",\"Reino Unido\",\"Indonesia\",\"Italia\",\"Turqu\\u00eda\",\"Francia\",\"Estados Unidos\",\"Sud\\u00e1n\",\"Irak\",\"China\",\"China\",\"China\",\"M\\u00e9xico\",\"Reino Unido\",\"Angola\",\"Venezuela\",\"Estados Unidos\",\"India\",\"Arabia Saud\\u00ed\",\"Estados Unidos\",\"Alemania\",\"Argentina\",\"Estados Unidos\",\"Francia\",\"Rep\\u00fablica Checa\",\"China\",\"Montenegro\",\"Italia\",\"Estados Unidos\",\"India\",\"India\",\"Estados Unidos\",\"Brasil\",\"China\",\"Turqu\\u00eda\",\"Alemania\",\"India\",\"Francia\",\"Francia\",\"India\",\"Corea del Sur\",\"Rusia\",\"Estados Unidos\",\"Estados Unidos\",\"Espa\\u00f1a\",\"Estados Unidos\",\"Malasia\",\"Dinamarca\",\"Rep\\u00fablica Democr\\u00e1tica del Congo\",\"Australia\",\"India\",\"Italia\",\"Francia\",\"Pa\\u00edses Bajos\",\"Estados Unidos\",\"Estados Unidos\",\"Francia\",\"Brasil\",\"Francia\",\"Jap\\u00f3n\",\"Per\\u00fa\",\"Francia\",\"India\",\"Francia\",\"Estados Unidos\",\"Brasil\",\"Estados Unidos\",\"Espa\\u00f1a\",\"Alemania\",\"Estados Unidos\",\"Ir\\u00e1n\",\"Brasil\",\"China\",\"Alemania\",\"Turqu\\u00eda\",\"Pa\\u00edses Bajos\",\"Corea del Sur\",\"Turqu\\u00eda\",\"Francia\",\"China\",\"India\",\"Estados Unidos\",\"Estados Unidos\",\"Espa\\u00f1a\",\"China\",\"M\\u00e9xico\",\"Italia\",\"Rusia\",\"Estados Unidos\",\"India\",\"Canada\",\"India\",\"Venezuela\",\"Brasil\",\"Turqu\\u00eda\",\"Francia\",\"Italia\",\"Filipinas\",\"Somalia\",\"Brasil\",\"Australia\",\"Francia\",\"Estados Unidos\",\"China\",\"Francia\",\"Italia\",\"Alemania\",\"Jap\\u00f3n\",\"Brasil\",\"Estados Unidos\",\"Reino Unido\",\"Alemania\",\"Uganda\",\"India\",\"Francia\",\"Turqu\\u00eda\",\"Argentina\",\"Australia\",\"Brasil\",\"Noruega\",\"Estados Unidos\",\"India\",\"M\\u00e9xico\",\"Rumania\",\"Ucrania\",\"Ir\\u00e1n\",\"M\\u00e9xico\",\"Arabia Saud\\u00ed\",\"China\",\"Francia\",\"Suiza\",\"Estados Unidos\",\"Brasil\",\"Brasil\",\"Espa\\u00f1a\",\"Brasil\",\"Pakist\\u00e1n\",\"Francia\",\"Colombia\",\"Francia\",\"Estados Unidos\",\"Suiza\",\"China\",\"Estados Unidos\",\"Reino Unido\",\"Jap\\u00f3n\",\"India\",\"Francia\",\"Canada\",\"Tanzania\",\"Ucrania\",\"Estados Unidos\",\"Brasil\",\"Brasil\",\"Marruecos\",\"Alemania\",\"Argelia\",\"Estados Unidos\",\"Argentina\",\"Brasil\",\"Marruecos\",\"China\",\"Rusia\",\"Francia\",\"Espa\\u00f1a\",\"Brasil\",\"Cuba\",\"Francia\",\"Australia\",\"Venezuela\",\"China\",\"M\\u00e9xico\",\"Espa\\u00f1a\",\"Francia\",\"Estados Unidos\",\"Malasia\",\"Venezuela\",\"Estados Unidos\",\"Francia\",\"Nueva Zelanda\",\"Italia\",\"China\",\"Estados Unidos\",\"Reino Unido\",\"Madagascar\",\"Rusia\",\"Francia\",\"Estados Unidos\",\"Estados Unidos\",\"Estados Unidos\",\"M\\u00e9xico\",\"Estados Unidos\",\"Brasil\",\"Pakist\\u00e1n\",\"Reino Unido\",\"Francia\",\"Turqu\\u00eda\",\"Austria\",\"Estados Unidos\",\"Francia\",\"Alemania\",\"Francia\",\"Canada\",\"Turqu\\u00eda\",\"SudAfrica\",\"Alemania\",\"Nueva Zelanda\",\"Estados Unidos\",\"Francia\",\"India\",\"Francia\",\"Italia\",\"China\",\"Finlandia\",\"China\",\"Pa\\u00edses Bajos\",\"Ucrania\",\"Estados Unidos\",\"Estados Unidos\",\"Ir\\u00e1n\",\"Reino Unido\",\"Estados Unidos\",\"Brasil\",\"Brasil\",\"India\",\"Alemania\",\"Brasil\",\"Brasil\",\"Reino Unido\",\"Turqu\\u00eda\",\"Uzbekist\\u00e1n\",\"Reino Unido\",\"Colombia\",\"China\",\"Ir\\u00e1n\",\"Canada\",\"Francia\",\"Brasil\",\"Alemania\",\"Estados Unidos\",\"Nueva Zelanda\",\"Egipto\",\"Estados Unidos\",\"Estados Unidos\",\"Turqu\\u00eda\",\"Espa\\u00f1a\",\"Francia\",\"Brasil\",\"Vietnam\",\"Polonia\",\"Ir\\u00e1n\",\"Bolivia\",\"Estados Unidos\",\"Ir\\u00e1n\",\"Afganist\\u00e1n\",\"Ir\\u00e1n\",\"Nueva Zelanda\",\"China\",\"Estados Unidos\",\"Estados Unidos\",\"Canada\",\"Canada\",\"Rep\\u00fablica Centroafricana\",\"Nigeria\",\"Estados Unidos\",\"Francia\",\"Reino Unido\",\"China\",\"Colombia\",\"Pakist\\u00e1n\",\"Brasil\",\"Brasil\",\"Venezuela\",\"Reino Unido\",\"Italia\",\"Estados Unidos\",\"Rumania\",\"Argelia\",\"Brasil\",\"Estados Unidos\",\"M\\u00e9xico\",\"India\",\"Indonesia\",\"Polonia\",\"Estados Unidos\",\"M\\u00e9xico\",\"Uruguay\",\"Venezuela\",\"India\",\"Alemania\",\"China\",\"Rumania\",\"Turqu\\u00eda\",\"Egipto\",\"India\",\"Turkmenist\\u00e1n\",\"India\",\"Indonesia\",\"Per\\u00fa\",\"M\\u00e9xico\",\"Argelia\",\"Tanzania\",\"Espa\\u00f1a\",\"China\",\"Estados Unidos\",\"Estados Unidos\",\"Estados Unidos\",\"Guadalupe\",\"Alemania\",\"Espa\\u00f1a\",\"China\",\"India\",\"Rusia\",\"Indonesia\",\"Reino Unido\",\"Nigeria\",\"M\\u00e9xico\",\"Alemania\",\"Irak\",\"Reino Unido\",\"Ir\\u00e1n\",\"China\",\"Mali\",\"Bielorrusia\",\"Brasil\",\"Ucrania\",\"Azerbaiy\\u00e1n\",\"M\\u00e9xico\",\"Brasil\",\"Brasil\",\"Canada\",\"Kenia\",\"China\",\"Francia\",\"Chile\",\"Francia\",\"China\",\"Brasil\",\"Brasil\",\"Francia\",\"Polonia\",\"China\",\"Estados Unidos\",\"India\",\"Brasil\",\"Francia\",\"Botsuana\",\"Filipinas\",\"Alemania\",\"Francia\",\"Estados Unidos\",\"Francia\",\"Francia\",\"China\",\"Brasil\",\"Francia\",\"Pakist\\u00e1n\",\"Pa\\u00edses Bajos\",\"Italia\",\"Brasil\",\"China\",\"Estados Unidos\",\"Ben\\u00edn\",\"Reino Unido\",\"Reino Unido\",\"M\\u00e9xico\",\"Estados Unidos\",\"Estados Unidos\",\"Estados Unidos\",\"Venezuela\",\"China\",\"Rusia\",\"India\",\"Estados Unidos\",\"Espa\\u00f1a\",\"Alemania\",\"Estados Unidos\",\"Estados Unidos\",\"Estados Unidos\",\"Israel\",\"Filipinas\",\"Brasil\",\"Francia\",\"Polonia\",\"Polonia\",\"Canada\",\"Reino Unido\",\"Reino Unido\",\"Espa\\u00f1a\",\"Estados Unidos\",\"Nueva Zelanda\",\"Espa\\u00f1a\",\"Ucrania\",\"Francia\",\"Italia\",\"China\",\"Italia\",\"Estados Unidos\",\"Espa\\u00f1a\",\"Polonia\",\"Estados Unidos\",\"Francia\",\"Filipinas\",\"Egipto\",\"China\",\"Francia\",\"Brasil\",\"Francia\",\"Francia\",\"Australia\",\"India\",\"Turqu\\u00eda\",\"Nigeria\",\"M\\u00e9xico\",\"Per\\u00fa\",\"Rumania\",\"Mozambique\",\"Kazajist\\u00e1n\",\"Portugal\",\"Turkmenist\\u00e1n\",\"Ben\\u00edn\",\"Estados Unidos\",\"Francia\",\"Brasil\",\"Francia\",\"China\",\"Estados Unidos\",\"Espa\\u00f1a\",\"Alemania\",\"China\",\"Estados Unidos\",\"Reino Unido\",\"Polonia\",\"L\\u00edbano\",\"Jap\\u00f3n\",\"Brasil\",\"Estados Unidos\",\"Brasil\",\"China\",\"Dinamarca\",\"Italia\",\"Brasil\",\"Italia\",\"Pakist\\u00e1n\",\"Australia\",\"Brasil\",\"Italia\",\"China\",\"Sud\\u00e1n\",\"Estados Unidos\",\"Tanzania\",\"Alemania\",\"Estados Unidos\",\"Mozambique\",\"Francia\",\"Camer\\u00fan\",\"Alemania\",\"Camer\\u00fan\",\"Italia\",\"Estados Unidos\",\"India\",\"Francia\",\"Alemania\",\"Kazajist\\u00e1n\",\"Reino Unido\",\"Francia\",\"Estados Unidos\",\"Italia\",\"Francia\",\"Estados Unidos\",\"Francia\",\"Pa\\u00edses Bajos\",\"Francia\",\"Reino Unido\",\"Nigeria\",\"Estados Unidos\",\"Estados Unidos\",\"China\",\"India\",\"Zambia\",\"China\",\"Pa\\u00edses Bajos\",\"Brasil\",\"China\",\"Espa\\u00f1a\",\"Bolivia\",\"Estados Unidos\",\"China\",\"Uganda\",\"Rusia\",\"Canada\",\"Pa\\u00edses Bajos\",\"Argentina\",\"Brasil\",\"Estados Unidos\",\"Estados Unidos\",\"Estados Unidos\",\"Francia\",\"Italia\",\"India\",\"Venezuela\",\"India\",\"Turqu\\u00eda\",\"Nigeria\",\"Estados Unidos\",\"Reino Unido\",\"Venezuela\",\"China\",\"Estados Unidos\",\"Reino Unido\",\"Pa\\u00edses Bajos\",\"Ir\\u00e1n\",\"China\",\"Estados Unidos\",\"Estados Unidos\",\"Francia\",\"Francia\",\"Italia\",\"Guyana\",\"Estados Unidos\",\"Reino Unido\",\"Austria\",\"China\",\"Rusia\",\"India\",\"SudAfrica\",\"Espa\\u00f1a\",\"Espa\\u00f1a\",\"Reino Unido\",\"Turqu\\u00eda\",\"Francia\",\"India\",\"Vietnam\",\"Alemania\",\"Estados Unidos\",\"Colombia\",\"M\\u00e9xico\",\"Argentina\",\"Suecia\",\"Namibia\",\"India\",\"Jap\\u00f3n\",\"China\",\"Estados Unidos\",\"Francia\",\"Israel\",\"Francia\",\"Estados Unidos\",\"Argelia\",\"Nigeria\",\"China\",\"SudAfrica\",\"Brasil\",\"India\",\"Ir\\u00e1n\",\"SudAfrica\",\"Brasil\",\"Rusia\",\"Turqu\\u00eda\",\"Jap\\u00f3n\",\"SudAfrica\",\"Lesoto\",\"Francia\",\"Luxemburgo\",\"Estados Unidos\",\"Francia\",\"Estados Unidos\",\"China\",\"Turqu\\u00eda\",\"Ir\\u00e1n\",\"Francia\",\"Estados Unidos\",\"Francia\",\"Turqu\\u00eda\",\"Francia\",\"Francia\",\"Brasil\",\"Irlanda\",\"Reino Unido\",\"Estados Unidos\",\"Egipto\",\"Colombia\",\"Reino Unido\",\"Estados Unidos\",\"Venezuela\",\"Colombia\",\"China\",\"Hungr\\u00eda\",\"Francia\",\"Francia\",\"China\",\"Rep\\u00fablica Democr\\u00e1tica del Congo\",\"M\\u00e9xico\",\"Pa\\u00edses Bajos\",\"China\",\"Estados Unidos\",\"Noruega\",\"Alemania\",\"Reino Unido\",\"Banglad\\u00e9s\",\"Emiratos \\u00c1rabes Unidos\",\"Brasil\",\"Estados Unidos\",\"Brasil\",\"Jap\\u00f3n\",\"Estados Unidos\",\"India\",\"Sri Lanka\",\"Canada\",\"Australia\",\"Israel\",\"M\\u00e9xico\",\"Jap\\u00f3n\",\"Francia\",\"India\",\"China\",\"M\\u00e9xico\",\"India\",\"Rumania\",\"Tanzania\",\"Argelia\",\"Albania\",\"India\",\"Turqu\\u00eda\",\"Lituania\",\"Estados Unidos\",\"Polonia\",\"Estados Unidos\",\"Brasil\",\"Estados Unidos\",\"China\",\"Italia\",\"Etiop\\u00eda\",\"M\\u00e9xico\",\"Lituania\",\"Ecuador\",\"Italia\",\"Estados Unidos\",\"M\\u00e9xico\",\"Argentina\",\"Francia\",\"Estados Unidos\",\"Italia\",\"Brasil\",\"India\",\"Colombia\",\"Francia\",\"Pa\\u00edses Bajos\",\"SudAfrica\",\"Alemania\",\"Francia\",\"Rep\\u00fablica Democr\\u00e1tica del Congo\",\"Rumania\",\"Polonia\",\"India\",\"China\",\"Estados Unidos\",\"Pakist\\u00e1n\",\"Estados Unidos\",\"Brasil\",\"Afganist\\u00e1n\",\"Venezuela\",\"Brasil\",\"China\",\"Francia\",\"Francia\",\"Francia\",\"Togo\",\"Canada\",\"Italia\",\"Pa\\u00edses Bajos\",\"Panam\\u00e1\",\"Francia\",\"China\",\"China\",\"China\",\"Francia\",\"Estados Unidos\",\"Francia\",\"Estados Unidos\",\"Alemania\",\"Nueva Zelanda\",\"Francia\",\"Cuba\",\"China\",\"Alemania\",\"SudAfrica\",\"Mali\",\"Arabia Saud\\u00ed\",\"Francia\",\"Rusia\",\"Australia\",\"Francia\",\"Estados Unidos\",\"Jap\\u00f3n\",\"Estados Unidos\",\"Italia\",\"Francia\",\"Ucrania\",\"Turqu\\u00eda\",\"Pa\\u00edses Bajos\",\"Estados Unidos\",\"Brasil\",\"Turqu\\u00eda\",\"China\",\"Reino Unido\",\"Espa\\u00f1a\",\"M\\u00e9xico\",\"Turqu\\u00eda\",\"M\\u00e9xico\",\"Estados Unidos\",\"Francia\",\"Italia\",\"Estados Unidos\",\"Francia\",\"Kazajist\\u00e1n\",\"Italia\",\"Chile\",\"Estados Unidos\",\"Espa\\u00f1a\",\"Alemania\",\"Brasil\",\"Indonesia\",\"Estados Unidos\",\"Brasil\",\"Alemania\",\"Albania\",\"Francia\",\"Francia\",\"Francia\",\"Francia\",\"Estados Unidos\",\"Venezuela\",\"Alemania\",\"Kirguist\\u00e1n\",\"Estados Unidos\",\"Francia\",\"India\",\"Croacia\",\"Zambia\",\"Ben\\u00edn\",\"Estados Unidos\",\"Alemania\",\"Ucrania\",\"Estados Unidos\",\"Estados Unidos\",\"Chile\",\"Pa\\u00edses Bajos\",\"Francia\",\"Espa\\u00f1a\",\"Francia\",\"Reino Unido\",\"Argelia\",\"Francia\",\"Brasil\",\"Francia\",\"Estados Unidos\",\"India\",\"Alemania\",\"Camer\\u00fan\",\"Francia\",\"Brasil\",\"India\",\"Pa\\u00edses Bajos\",\"Ir\\u00e1n\",\"Brasil\",\"Estados Unidos\",\"Estados Unidos\",\"Estados Unidos\",\"India\",\"Brasil\",\"Francia\",\"Estados Unidos\",\"Zimbabue\",\"Canada\",\"SudAfrica\",\"China\",\"Francia\",\"China\",\"Colombia\",\"M\\u00e9xico\",\"Jap\\u00f3n\",\"Estados Unidos\",\"Turqu\\u00eda\",\"China\",\"Estados Unidos\",\"Australia\",\"Francia\",\"Irak\",\"Pa\\u00edses Bajos\",\"B\\u00e9lgica\",\"Francia\",\"China\",\"Italia\",\"Italia\",\"Estados Unidos\",\"Suiza\",\"Pa\\u00edses Bajos\",\"Chipre\",\"Venezuela\",\"Turqu\\u00eda\",\"Colombia\",\"Estados Unidos\",\"Estados Unidos\",\"Argentina\",\"Brasil\",\"Reino Unido\",\"Francia\",\"Turqu\\u00eda\",\"Francia\",\"Gab\\u00f3n\",\"Francia\",\"Brasil\",\"Estados Unidos\",\"Uruguay\",\"Colombia\",\"Estados Unidos\",\"Estados Unidos\",\"Francia\",\"Estados Unidos\",\"Rusia\",\"Rumania\",\"Sud\\u00e1n\",\"Nigeria\",\"Finlandia\",\"Alemania\",\"Ir\\u00e1n\",\"Francia\",\"Estados Unidos\",\"Francia\",\"India\",\"Estados Unidos\",\"Italia\",\"Reino Unido\",\"Reino Unido\",\"India\",\"Rumania\",\"Turqu\\u00eda\",\"Estados Unidos\",\"China\",\"Brasil\",\"Estados Unidos\",\"Emiratos \\u00c1rabes Unidos\",\"Rusia\",\"Reino Unido\",\"Zambia\",\"Estados Unidos\",\"Pa\\u00edses Bajos\",\"Estados Unidos\",\"Banglad\\u00e9s\",\"Francia\",\"Colombia\",\"Irak\",\"Rusia\",\"Estados Unidos\",\"Estados Unidos\",\"Brasil\",\"Ir\\u00e1n\",\"Estados Unidos\",\"Italia\",\"Colombia\",\"Brasil\",\"Brasil\",\"Alemania\",\"China\",\"Rumania\",\"Turqu\\u00eda\",\"Brasil\",\"Argentina\",\"Francia\",\"N\\u00edger\",\"Nueva Zelanda\",\"Turqu\\u00eda\",\"Canada\",\"Rumania\",\"Reino Unido\",\"Estados Unidos\",\"Estados Unidos\",\"Burkina Faso\",\"India\",\"Suecia\",\"China\",\"Francia\",\"Indonesia\",\"Chile\",\"B\\u00e9lgica\",\"China\",\"Italia\",\"Estados Unidos\",\"China\",\"India\",\"Pa\\u00edses Bajos\",\"Indonesia\",\"Albania\",\"China\",\"Corea del Sur\",\"Estados Unidos\",\"China\",\"Francia\",\"Zambia\",\"India\",\"Eslovaquia\",\"Rep\\u00fablica Democr\\u00e1tica del Congo\",\"Francia\",\"Estados Unidos\",\"Estados Unidos\",\"Francia\",\"Estados Unidos\",\"Estados Unidos\",\"Estados Unidos\",\"Espa\\u00f1a\",\"Per\\u00fa\",\"Estados Unidos\",\"Brasil\",\"Ghana\",\"B\\u00e9lgica\",\"Polonia\",\"Estados Unidos\",\"Turqu\\u00eda\",\"Costa de Marfil\",\"Pa\\u00edses Bajos\",\"Colombia\",\"Croacia\",\"China\",\"Estados Unidos\",\"Jap\\u00f3n\",\"Camer\\u00fan\",\"Argelia\",\"Colombia\",\"Jap\\u00f3n\",\"SudAfrica\",\"Portugal\",\"Brasil\",\"Brasil\",\"Ucrania\",\"Indonesia\",\"Uruguay\",\"China\",\"India\",\"Egipto\",\"Estados Unidos\",\"India\",\"Francia\",\"India\",\"Francia\",\"Turqu\\u00eda\",\"Jap\\u00f3n\",\"Estados Unidos\",\"Nigeria\",\"Reino Unido\",\"Estados Unidos\",\"China\",\"Alemania\",\"Brasil\",\"Estados Unidos\",\"Italia\",\"China\",\"Sierra Leona\",\"Colombia\",\"Canada\",\"Malasia\",\"China\",\"Estados Unidos\",\"Estados Unidos\",\"Alemania\",\"Egipto\",\"Francia\",\"Chile\",\"Francia\",\"Estados Unidos\",\"China\",\"Brasil\",\"SudAfrica\",\"China\",\"Ucrania\",\"Estados Unidos\",\"India\",\"China\",\"Brasil\",\"Estados Unidos\",\"Italia\",\"Brasil\",\"Suazilandia\",\"Francia\",\"Filipinas\",\"Guinea\",\"Argelia\",\"Estados Unidos\",\"Brasil\",\"Israel\",\"China\",\"Estados Unidos\",\"Ir\\u00e1n\",\"Colombia\",\"Venezuela\",\"Turqu\\u00eda\",\"Ucrania\",\"Estados Unidos\",\"M\\u00e9xico\",\"Bielorrusia\",\"Ir\\u00e1n\",\"Estados Unidos\",\"Espa\\u00f1a\",\"Hong Kong\",\"Espa\\u00f1a\",\"Libia\",\"Reino Unido\",\"Estados Unidos\",\"Estados Unidos\",\"Alemania\",\"Brasil\",\"Zimbabue\",\"Jap\\u00f3n\",\"Italia\",\"China\",\"Costa de Marfil\",\"Italia\",\"Francia\",\"Estados Unidos\",\"Jap\\u00f3n\",\"Estados Unidos\",\"Reino Unido\",\"India\",\"Australia\",\"B\\u00e9lgica\",\"Guinea\",\"M\\u00e9xico\",\"China\",\"Marruecos\",\"Per\\u00fa\",\"Uzbekist\\u00e1n\",\"Francia\",\"Brasil\",\"Alemania\",\"Turqu\\u00eda\",\"Espa\\u00f1a\",\"Reino Unido\",\"Estados Unidos\",\"Australia\",\"Ir\\u00e1n\",\"Estados Unidos\",\"Brasil\",\"China\",\"Ucrania\",\"Estados Unidos\",\"Angola\",\"Francia\",\"Rusia\",\"Brasil\",\"Ecuador\",\"China\",\"Estados Unidos\",\"Indonesia\",\"Rumania\",\"Brasil\",\"Brasil\",\"Mozambique\",\"China\",\"Francia\",\"Ucrania\",\"Brasil\",\"Turqu\\u00eda\",\"Nigeria\",\"Egipto\",\"China\",\"Espa\\u00f1a\",\"Kazajist\\u00e1n\",\"Ir\\u00e1n\",\"Camer\\u00fan\",\"China\",\"M\\u00e9xico\",\"Dinamarca\",\"Espa\\u00f1a\",\"Chile\",\"Brasil\",\"Reino Unido\",\"Estados Unidos\",\"China\",\"Alemania\",\"Ucrania\",\"Estados Unidos\",\"Venezuela\",\"Francia\",\"Egipto\",\"Angola\",\"Estados Unidos\",\"Rusia\",\"Francia\",\"Italia\",\"Portugal\",\"Brasil\",\"Estados Unidos\",\"Turqu\\u00eda\",\"Reino Unido\",\"Rusia\",\"Jap\\u00f3n\",\"Noruega\",\"Reino Unido\",\"Canada\",\"Brasil\",\"Uzbekist\\u00e1n\",\"Guatemala\",\"Francia\",\"Reino Unido\",\"Estados Unidos\",\"Chile\",\"Estados Unidos\",\"Estados Unidos\",\"Francia\",\"Rep\\u00fablica Checa\",\"Alemania\",\"Estados Unidos\",\"Corea del Sur\",\"India\",\"Brasil\",\"Jap\\u00f3n\",\"India\",\"China\",\"Turqu\\u00eda\",\"Albania\",\"Alemania\",\"Francia\",\"Francia\",\"Estados Unidos\",\"M\\u00e9xico\",\"Reino Unido\",\"Francia\",\"Guatemala\",\"China\",\"Turqu\\u00eda\",\"China\",\"Venezuela\",\"Argentina\",\"Marruecos\",\"Estados Unidos\",\"B\\u00e9lgica\",\"China\",\"Colombia\",\"Brasil\",\"Estados Unidos\",\"Marruecos\",\"Turqu\\u00eda\",\"Nigeria\",\"China\",\"Francia\",\"Francia\",\"Estados Unidos\",\"Madagascar\",\"China\",\"Argentina\",\"Alemania\",\"Reino Unido\",\"Paraguay\",\"Estados Unidos\",\"Suiza\",\"Rep\\u00fablica Dominicana\",\"Espa\\u00f1a\",\"China\",\"M\\u00e9xico\",\"Turqu\\u00eda\",\"Reino Unido\",\"Om\\u00e1n\",\"Estados Unidos\",\"Kazajist\\u00e1n\",\"Per\\u00fa\",\"Rumania\",\"China\",\"China\",\"Egipto\",\"Italia\",\"Reino Unido\",\"Reino Unido\",\"Marruecos\",\"Estados Unidos\",\"India\",\"Estados Unidos\",\"Estados Unidos\",\"Canada\",\"Marruecos\",\"Francia\",\"Estados Unidos\",\"China\",\"Francia\",\"Estados Unidos\",\"China\",\"Estados Unidos\",\"M\\u00e9xico\",\"Alemania\",\"Francia\",\"Ucrania\",\"Estados Unidos\",\"Estados Unidos\",\"Ir\\u00e1n\",\"Francia\",\"SudAfrica\",\"Ucrania\",\"Alemania\",\"SudAfrica\",\"Brasil\",\"Rep\\u00fablica Checa\",\"Costa Rica\",\"Estados Unidos\",\"Estados Unidos\",\"Per\\u00fa\",\"Brasil\",\"Francia\",\"Venezuela\",\"Estados Unidos\",\"Ben\\u00edn\",\"Reino Unido\",\"Jap\\u00f3n\",\"Macedonia\",\"Brasil\",\"Francia\",\"Colombia\",\"Francia\",\"Canada\",\"Estados Unidos\",\"Tayikist\\u00e1n\",\"China\",\"China\",\"China\",\"Estados Unidos\",\"Per\\u00fa\",\"Estados Unidos\",\"Estados Unidos\",\"Francia\",\"Chile\",\"Irlanda\",\"Estados Unidos\",\"Reino Unido\",\"Brasil\",\"Ir\\u00e1n\",\"Kazajist\\u00e1n\",\"Brasil\",\"Ucrania\",\"Tanzania\",\"China\",\"Portugal\",\"Ben\\u00edn\",\"Per\\u00fa\",\"Filipinas\",\"Brasil\",\"B\\u00e9lgica\",\"Chile\",\"Italia\",\"Estados Unidos\",\"Pakist\\u00e1n\",\"Brasil\",\"Estados Unidos\",\"Francia\",\"Egipto\",\"Francia\",\"Canada\",\"Polonia\",\"Bulgaria\",\"China\",\"Estados Unidos\",\"Libia\",\"Marruecos\",\"Estados Unidos\",\"China\",\"Camer\\u00fan\",\"Suecia\",\"Estados Unidos\",\"Pa\\u00edses Bajos\",\"Espa\\u00f1a\",\"China\",\"Italia\",\"Estados Unidos\",\"Italia\",\"Brasil\",\"Rep\\u00fablica Democr\\u00e1tica del Congo\",\"Turqu\\u00eda\",\"M\\u00e9xico\",\"Estados Unidos\",\"China\",\"Turqu\\u00eda\",\"Francia\",\"Estados Unidos\",\"Estados Unidos\",\"Alemania\",\"China\",\"Estados Unidos\",\"Italia\",\"Alemania\",\"M\\u00e9xico\",\"Rep\\u00fablica del Congo\",\"Brasil\",\"Estados Unidos\",\"Turqu\\u00eda\",\"Pa\\u00edses Bajos\",\"Estados Unidos\",\"Estados Unidos\",\"Sud\\u00e1n del Sur\",\"Francia\",\"Portugal\",\"Brasil\",\"Estados Unidos\",\"China\",\"Francia\",\"Pa\\u00edses Bajos\",\"Alemania\",\"Reino Unido\",\"Brasil\",\"Alemania\",\"Polonia\",\"N\\u00edger\",\"Turqu\\u00eda\",\"Ucrania\",\"Argentina\",\"India\",\"Brasil\",\"Francia\",\"Francia\",\"China\",\"Francia\",\"Brasil\",\"Estados Unidos\",\"Estados Unidos\",\"Australia\",\"Nigeria\",\"China\",\"L\\u00edbano\",\"Italia\",\"SudAfrica\",\"Estados Unidos\",\"M\\u00e9xico\",\"But\\u00e1n\",\"Canada\",\"Francia\",\"Reino Unido\",\"Estados Unidos\",\"Francia\",\"China\",\"Turqu\\u00eda\",\"Reino Unido\",\"Estados Unidos\",\"Grecia\",\"Estados Unidos\",\"Australia\",\"Zambia\",\"Estados Unidos\",\"Rumania\",\"Eslovaquia\",\"Jap\\u00f3n\",\"Francia\",\"Ucrania\",\"Francia\",\"Nueva Zelanda\",\"Egipto\",\"Estados Unidos\",\"Camer\\u00fan\",\"Croacia\",\"Reino Unido\",\"Canada\",\"Brasil\",\"Turqu\\u00eda\",\"Paraguay\",\"Francia\",\"Espa\\u00f1a\",\"Ir\\u00e1n\",\"India\",\"Francia\",\"Estados Unidos\",\"Brasil\",\"Mozambique\",\"Reino Unido\",\"China\",\"Ucrania\",\"Francia\",\"Francia\",\"Brasil\",\"SudAfrica\",\"Brasil\",\"Alemania\",\"Liberia\",\"Francia\",\"China\",\"Italia\",\"Brasil\",\"China\",\"Estados Unidos\",\"Nueva Zelanda\",\"Reino Unido\",\"Estados Unidos\",\"Brasil\",\"Estados Unidos\",\"Turqu\\u00eda\",\"Reino Unido\",\"Estados Unidos\",\"Chile\",\"Ir\\u00e1n\",\"Brasil\",\"Albania\",\"China\",\"Alemania\",\"Polonia\",\"Estados Unidos\",\"M\\u00e9xico\",\"Espa\\u00f1a\",\"Estados Unidos\",\"Francia\",\"Tailandia\",\"India\",\"China\",\"Argelia\",\"Espa\\u00f1a\",\"Brasil\",\"Polonia\",\"Nueva Zelanda\",\"Francia\",\"India\",\"Brasil\",\"Italia\",\"Estados Unidos\",\"Francia\",\"Francia\",\"Reino Unido\",\"Paraguay\",\"India\",\"M\\u00e9xico\",\"Turqu\\u00eda\",\"Ucrania\",\"Italia\",\"Tanzania\",\"Polonia\",\"China\",\"Francia\",\"Pa\\u00edses Bajos\",\"Estados Unidos\",\"Espa\\u00f1a\",\"Brasil\",\"Ben\\u00edn\",\"Turqu\\u00eda\",\"Estados Unidos\",\"Pa\\u00edses Bajos\",\"Brasil\",\"Estados Unidos\",\"Reino Unido\",\"Rumania\",\"Costa de Marfil\",\"Estados Unidos\",\"Brasil\",\"Alemania\",\"Canada\",\"Pa\\u00edses Bajos\",\"Francia\",\"Estados Unidos\",\"Portugal\",\"Espa\\u00f1a\",\"Francia\",\"Turqu\\u00eda\",\"Ucrania\",\"Israel\",\"Colombia\",\"India\",\"China\",\"Israel\",\"Estados Unidos\",\"Costa de Marfil\",\"Estados Unidos\",\"India\",\"Estados Unidos\",\"Indonesia\",\"Bulgaria\",\"Francia\",\"Francia\",\"Brasil\",\"Alemania\",\"Brasil\",\"Estados Unidos\",\"Italia\",\"China\",\"Brasil\",\"Siria\",\"Brasil\",\"Brasil\",\"Estados Unidos\",\"Estados Unidos\",\"Rusia\",\"Reino Unido\",\"Estados Unidos\",\"Nueva Zelanda\",\"China\",\"Reino Unido\",\"Francia\",\"Reino Unido\",\"Bolivia\",\"India\",\"Estados Unidos\",\"Surinam\",\"Ir\\u00e1n\",\"China\",\"Ir\\u00e1n\",\"Argelia\",\"Estados Unidos\",\"Rusia\",\"Egipto\",\"SudAfrica\",\"China\",\"Brasil\",\"Estados Unidos\",\"Senegal\",\"Alemania\",\"Bar\\u00e9in\",\"Alemania\",\"Ir\\u00e1n\",\"Rep\\u00fablica Checa\",\"Argentina\",\"Marruecos\",\"Brasil\",\"Estados Unidos\",\"Italia\",\"Jap\\u00f3n\",\"Corea del Sur\",\"Bolivia\",\"Estados Unidos\",\"Jap\\u00f3n\",\"Francia\",\"Egipto\",\"Estados Unidos\",\"Ir\\u00e1n\",\"Colombia\",\"Reino Unido\",\"Francia\",\"Argelia\",\"Francia\",\"Francia\",\"Reino Unido\",\"M\\u00e9xico\",\"Jap\\u00f3n\",\"India\",\"India\",\"Colombia\",\"Pa\\u00edses Bajos\",\"Alemania\",\"Bulgaria\",\"China\",\"Rusia\",\"China\",\"Francia\",\"Estados Unidos\",\"Estados Unidos\",\"Reino Unido\",\"China\",\"Francia\",\"Estados Unidos\",\"Madagascar\",\"B\\u00e9lgica\",\"Kuwait\",\"Pa\\u00edses Bajos\",\"Alemania\",\"India\",\"Jap\\u00f3n\",\"India\",\"Alemania\",\"Bosnia y Herzegovina\",\"India\",\"Egipto\",\"Bulgaria\",\"Francia\",\"Italia\",\"Espa\\u00f1a\",\"Canada\",\"Colombia\",\"Francia\",\"Estados Unidos\",\"Tanzania\",\"Reino Unido\",\"Brasil\",\"India\",\"Francia\",\"Estados Unidos\",\"Estados Unidos\",\"Espa\\u00f1a\",\"Argentina\",\"Francia\",\"Estados Unidos\",\"Estados Unidos\",\"Estados Unidos\",\"Venezuela\",\"China\",\"Estados Unidos\",\"China\",\"Italia\",\"India\",\"Bielorrusia\",\"China\",\"Francia\",\"Estados Unidos\",\"Chile\",\"Estados Unidos\",\"Zambia\",\"China\",\"China\",\"Marruecos\",\"Brasil\",\"Francia\",\"India\",\"Francia\",\"Argentina\",\"Francia\",\"Turqu\\u00eda\",\"Francia\",\"Polonia\",\"Canada\",\"Estados Unidos\",\"Francia\",\"Francia\",\"Turqu\\u00eda\",\"Colombia\",\"Tanzania\",\"Rusia\",\"Francia\",\"M\\u00e9xico\",\"Irak\",\"Rumania\",\"India\",\"Bulgaria\",\"Brasil\",\"B\\u00e9lgica\",\"China\",\"Lituania\",\"Ecuador\",\"Rep\\u00fablica Checa\",\"Estados Unidos\",\"Brasil\",\"China\",\"Canada\",\"India\",\"Irak\",\"Per\\u00fa\",\"China\",\"Estados Unidos\",\"Reino Unido\",\"Estados Unidos\",\"Francia\",\"China\",\"China\",\"Alemania\",\"Estados Unidos\",\"Estados Unidos\",\"Francia\",\"Estados Unidos\",\"Estados Unidos\",\"Kazajist\\u00e1n\",\"Bulgaria\",\"Canada\",\"Francia\",\"Guinea Ecuatorial\",\"Canada\",\"China\",\"Jap\\u00f3n\",\"Estados Unidos\",\"Brasil\",\"Marruecos\",\"Turqu\\u00eda\",\"Alemania\",\"Alemania\",\"Italia\",\"Estados Unidos\",\"SudAfrica\",\"Zimbabue\",\"Italia\",\"Reino Unido\",\"Estados Unidos\",\"Jap\\u00f3n\",\"Francia\",\"Rumania\",\"Tanzania\",\"Canada\",\"Turqu\\u00eda\",\"Ir\\u00e1n\",\"Alemania\",\"Francia\",\"Suecia\",\"Estados Unidos\",\"India\",\"Senegal\",\"Estados Unidos\",\"Polonia\",\"Alemania\",\"Colombia\",\"China\",\"Rusia\",\"Eritrea\",\"India\",\"Estados Unidos\",\"Brasil\",\"Brasil\",\"Jap\\u00f3n\",\"Tanzania\",\"India\",\"Yemen\",\"Estados Unidos\",\"Brasil\",\"Turqu\\u00eda\",\"Canada\",\"Brasil\",\"Reino Unido\",\"Bielorrusia\",\"Italia\",\"Alemania\",\"Estados Unidos\",\"Estados Unidos\",\"Brasil\",\"Brasil\",\"Francia\",\"Suecia\",\"Estados Unidos\",\"China\",\"M\\u00e9xico\",\"Francia\",\"China\",\"Sud\\u00e1n\",\"Francia\",\"Kenia\",\"Brasil\",\"Laos\",\"Venezuela\",\"India\",\"Estados Unidos\",\"Francia\",\"China\",\"Canada\",\"Estados Unidos\",\"Argelia\",\"Filipinas\",\"Banglad\\u00e9s\",\"Francia\",\"Estados Unidos\",\"Mali\",\"Finlandia\",\"Estados Unidos\",\"Estados Unidos\",\"Estados Unidos\",\"Reino Unido\",\"Jap\\u00f3n\",\"Francia\",\"Francia\",\"Jap\\u00f3n\",\"Sierra Leona\",\"Ir\\u00e1n\",\"Ucrania\",\"Tanzania\",\"China\",\"Polonia\",\"Italia\",\"Burundi\",\"Irak\",\"Estados Unidos\",\"Turqu\\u00eda\",\"Estados Unidos\",\"Turqu\\u00eda\",\"Brasil\",\"Estados Unidos\",\"Bielorrusia\",\"Ben\\u00edn\",\"China\",\"Polonia\",\"Ir\\u00e1n\",\"Brasil\",\"Ir\\u00e1n\",\"Brasil\",\"China\",\"Bulgaria\",\"Suecia\",\"Espa\\u00f1a\",\"Ir\\u00e1n\",\"Filipinas\",\"Francia\",\"Canada\",\"Ucrania\",\"Togo\",\"Reino Unido\",\"Angola\",\"Kenia\",\"Estados Unidos\",\"Turqu\\u00eda\",\"Egipto\",\"India\",\"Colombia\",\"Austria\",\"Italia\",\"Francia\",\"Brasil\",\"SudAfrica\",\"Venezuela\",\"Camer\\u00fan\",\"Francia\",\"Brasil\",\"Brasil\",\"China\",\"Jap\\u00f3n\",\"Argentina\",\"Brasil\",\"Venezuela\",\"India\",\"China\",\"Estados Unidos\",\"Brasil\",\"Israel\",\"Ir\\u00e1n\",\"Espa\\u00f1a\",\"Filipinas\",\"Reino Unido\",\"Estados Unidos\",\"Francia\",\"Brasil\",\"Francia\",\"Estados Unidos\",\"Estados Unidos\",\"Camer\\u00fan\",\"Rusia\",\"Turqu\\u00eda\",\"Brasil\",\"Alemania\",\"Estados Unidos\",\"Dinamarca\",\"Italia\",\"Macedonia\",\"Brasil\",\"Canada\",\"Italia\",\"Alemania\",\"Ir\\u00e1n\",\"SudAfrica\",\"Italia\",\"Francia\",\"Mozambique\",\"Ir\\u00e1n\",\"Brasil\",\"Brasil\",\"Francia\",\"Turqu\\u00eda\",\"Togo\",\"Brasil\",\"Brasil\",\"Estonia\",\"Indonesia\",\"Jap\\u00f3n\",\"Estados Unidos\",\"Estados Unidos\",\"Ir\\u00e1n\",\"Espa\\u00f1a\",\"China\",\"Jap\\u00f3n\",\"SudAfrica\",\"India\",\"Australia\",\"Nigeria\",\"China\",\"Reino Unido\",\"Francia\",\"Estados Unidos\",\"Brasil\",\"Armenia\",\"China\",\"Serbia\",\"Paraguay\",\"Brasil\",\"India\",\"Nigeria\",\"Francia\",\"Estados Unidos\",\"China\",\"Eslovaquia\",\"Indonesia\",\"Estados Unidos\",\"Ir\\u00e1n\",\"India\",\"Bulgaria\",\"Argentina\",\"Nigeria\",\"Turqu\\u00eda\",\"Zambia\",\"Brasil\",\"Francia\",\"Brasil\",\"Jap\\u00f3n\",\"SudAfrica\",\"M\\u00e9xico\",\"SudAfrica\",\"Estados Unidos\",\"Estados Unidos\",\"Estados Unidos\",\"Marruecos\",\"Italia\",\"Francia\",\"Estados Unidos\",\"Egipto\",\"Egipto\",\"Jap\\u00f3n\",\"Francia\",\"Rumania\",\"Hungr\\u00eda\",\"Estados Unidos\",\"India\",\"Estados Unidos\",\"Rep\\u00fablica Democr\\u00e1tica del Congo\",\"Ir\\u00e1n\",\"Eslovenia\",\"China\",\"Brasil\",\"Pa\\u00edses Bajos\",\"Per\\u00fa\",\"Espa\\u00f1a\",\"Nueva Zelanda\",\"Francia\",\"Brasil\",\"Estados Unidos\",\"Italia\",\"Zimbabue\",\"Lituania\",\"Reino Unido\",\"Francia\",\"Italia\",\"Estados Unidos\",\"Pa\\u00edses Bajos\",\"Pa\\u00edses Bajos\",\"China\",\"Francia\",\"Sierra Leona\",\"Francia\",\"Estados Unidos\",\"Per\\u00fa\",\"Estados Unidos\",\"Francia\",\"Bielorrusia\",\"Estados Unidos\",\"Estados Unidos\",\"Brasil\",\"Estados Unidos\",\"Rumania\",\"China\",\"Ucrania\",\"Estonia\",\"China\",\"Brasil\",\"China\",\"Francia\",\"Rep\\u00fablica Democr\\u00e1tica del Congo\",\"Austria\",\"Venezuela\",\"Estados Unidos\",\"Kazajist\\u00e1n\",\"Jap\\u00f3n\",\"Estados Unidos\",\"Italia\",\"China\",\"India\",\"Francia\",\"Pakist\\u00e1n\",\"Bosnia y Herzegovina\",\"India\",\"Rumania\",\"China\",\"Egipto\",\"Francia\",\"Estados Unidos\",\"Camer\\u00fan\",\"Estados Unidos\",\"Reino Unido\",\"Estados Unidos\",\"Francia\",\"China\",\"Suecia\",\"Brasil\",\"Turqu\\u00eda\",\"Estados Unidos\",\"Turqu\\u00eda\",\"Francia\",\"Polonia\",\"Brasil\",\"Brasil\",\"Per\\u00fa\",\"Ruanda\",\"Turqu\\u00eda\",\"Francia\",\"Estados Unidos\",\"Rusia\",\"SudAfrica\",\"Egipto\",\"Rumania\",\"Estados Unidos\",\"Brasil\",\"Liberia\",\"Reino Unido\",\"Reino Unido\",\"Reino Unido\",\"Rusia\",\"Chile\",\"Francia\",\"Estados Unidos\",\"Reino Unido\",\"Francia\",\"Estados Unidos\",\"Tanzania\",\"Turqu\\u00eda\",\"Italia\",\"M\\u00e9xico\",\"S\\u00e1hara Occidental\",\"Alemania\",\"Rumania\",\"Portugal\",\"Indonesia\",\"China\",\"Brasil\",\"China\",\"Rep\\u00fablica Democr\\u00e1tica del Congo\",\"SudAfrica\",\"Estados Unidos\",\"Madagascar\",\"Estados Unidos\",\"Venezuela\",\"Zambia\",\"Argelia\",\"China\",\"Pa\\u00edses Bajos\",\"Francia\",\"Estados Unidos\",\"Estados Unidos\",\"Estados Unidos\",\"Espa\\u00f1a\",\"Estados Unidos\",\"China\",\"Indonesia\",\"Reino Unido\",\"Reino Unido\",\"China\",\"China\",\"Estados Unidos\",\"B\\u00e9lgica\",\"Pa\\u00edses Bajos\",\"Marruecos\",\"Turqu\\u00eda\",\"Polonia\",\"China\",\"Estados Unidos\",\"Estados Unidos\",\"Estados Unidos\",\"Turqu\\u00eda\",\"Italia\",\"Colombia\",\"Francia\",\"Per\\u00fa\",\"Camer\\u00fan\",\"Ecuador\",\"China\",\"Brasil\",\"Espa\\u00f1a\",\"Brasil\",\"Estados Unidos\",\"Egipto\",\"Estados Unidos\",\"India\",\"Rusia\",\"Argentina\",\"SudAfrica\",\"China\",\"Turqu\\u00eda\",\"China\",\"SudAfrica\",\"Uzbekist\\u00e1n\",\"Italia\",\"Brasil\",\"Argentina\",\"Ucrania\",\"Venezuela\",\"Turqu\\u00eda\",\"China\",\"Mali\",\"Italia\",\"Rusia\",\"Jap\\u00f3n\",\"Ucrania\",\"B\\u00e9lgica\",\"Argelia\",\"Mozambique\",\"Alemania\",\"Bulgaria\",\"China\",\"China\",\"Estados Unidos\",\"Ir\\u00e1n\",\"Alemania\",\"Estados Unidos\",\"Estados Unidos\",\"Reino Unido\",\"Ucrania\",\"Alemania\",\"Chile\",\"Francia\",\"M\\u00e9xico\",\"Reino Unido\",\"Bielorrusia\",\"Ir\\u00e1n\",\"Francia\",\"Jordania\",\"Colombia\",\"Rusia\",\"Estados Unidos\",\"Estados Unidos\",\"Estados Unidos\",\"Francia\",\"Reino Unido\",\"Espa\\u00f1a\",\"Estados Unidos\",\"Australia\",\"Turqu\\u00eda\",\"Australia\",\"Francia\",\"Brasil\",\"Brasil\",\"Rumania\",\"Jap\\u00f3n\",\"Estados Unidos\",\"Francia\",\"Rep\\u00fablica Democr\\u00e1tica del Congo\",\"Marruecos\",\"India\",\"Egipto\",\"Brasil\",\"Estados Unidos\",\"Croacia\",\"Chile\",\"Yemen\",\"Estados Unidos\",\"Nueva Zelanda\",\"India\",\"Madagascar\",\"Reino Unido\",\"Bolivia\",\"Alemania\",\"Estados Unidos\",\"Francia\",\"Francia\",\"Francia\",\"Brasil\",\"Francia\",\"Brasil\",\"Espa\\u00f1a\",\"Alemania\",\"M\\u00e9xico\",\"Turqu\\u00eda\",\"China\",\"Jap\\u00f3n\",\"Sud\\u00e1n\",\"Malasia\",\"B\\u00e9lgica\",\"Alemania\",\"Estados Unidos\",\"Estados Unidos\",\"India\",\"Costa de Marfil\",\"Nigeria\",\"Estados Unidos\",\"Italia\",\"Estados Unidos\",\"Turqu\\u00eda\",\"Filipinas\",\"Alemania\",\"Moldavia\",\"Alemania\",\"Francia\",\"Italia\",\"Camer\\u00fan\",\"India\",\"India\",\"Ucrania\",\"Pa\\u00edses Bajos\",\"India\",\"Estados Unidos\",\"Francia\",\"Corea del Sur\",\"Ir\\u00e1n\",\"Vietnam\",\"China\",\"Nigeria\",\"SudAfrica\",\"Francia\",\"Canada\",\"Tanzania\",\"Indonesia\",\"Ucrania\",\"Polonia\",\"Francia\",\"Argentina\",\"Estados Unidos\",\"Brasil\",\"Estados Unidos\",\"Estados Unidos\",\"China\",\"Banglad\\u00e9s\",\"Jap\\u00f3n\",\"Rumania\",\"Reino Unido\",\"Tanzania\",\"China\",\"Venezuela\",\"Turqu\\u00eda\",\"Estados Unidos\",\"Espa\\u00f1a\",\"Estados Unidos\",\"Jap\\u00f3n\",\"Francia\",\"Espa\\u00f1a\",\"Turqu\\u00eda\",\"Francia\",\"Tanzania\",\"Brasil\",\"Brasil\",\"Francia\",\"Estados Unidos\",\"Brasil\",\"Argentina\",\"Jap\\u00f3n\",\"Suecia\",\"Rep\\u00fablica Dominicana\",\"Brasil\",\"Estados Unidos\",\"Francia\",\"Jap\\u00f3n\",\"China\",\"Alemania\",\"Ir\\u00e1n\",\"India\",\"Pa\\u00edses Bajos\",\"Australia\",\"Francia\",\"Israel\",\"Belice\",\"Brasil\",\"Brasil\",\"Argentina\",\"China\",\"Italia\",\"Brasil\",\"Guayana Francesa\",\"Estados Unidos\",\"China\",\"China\",\"Jap\\u00f3n\",\"Brasil\",\"Rep\\u00fablica Checa\",\"B\\u00e9lgica\",\"Francia\",\"M\\u00e9xico\",\"Estados Unidos\",\"Polonia\",\"Brasil\",\"Espa\\u00f1a\",\"Polonia\",\"Estados Unidos\",\"Alemania\",\"Estados Unidos\",\"Francia\",\"Nigeria\",\"Ecuador\",\"Francia\",\"Nigeria\",\"Alemania\",\"Uganda\",\"Ben\\u00edn\",\"China\",\"Rep\\u00fablica de Gambia\",\"Alemania\",\"Estados Unidos\",\"Italia\",\"Italia\",\"Jap\\u00f3n\",\"Chad\",\"Bolivia\",\"Francia\",\"China\",\"Indonesia\",\"Mongolia\",\"Estados Unidos\",\"Italia\",\"India\",\"Italia\",\"Alemania\",\"Reino Unido\",\"Alemania\",\"China\",\"Argentina\",\"China\",\"Italia\",\"Reino Unido\",\"Chile\",\"Australia\",\"Francia\",\"Colombia\",\"Italia\",\"Australia\",\"Estados Unidos\",\"Estados Unidos\",\"Italia\",\"Francia\",\"Ruanda\",\"Jap\\u00f3n\",\"Estados Unidos\",\"Estados Unidos\",\"Francia\",\"China\",\"Reino Unido\",\"Francia\",\"Turqu\\u00eda\",\"Venezuela\",\"Francia\",\"Estados Unidos\",\"Brasil\",\"China\",\"India\",\"Alemania\",\"China\",\"Zambia\",\"China\",\"Alemania\",\"Pa\\u00edses Bajos\",\"Estados Unidos\",\"Espa\\u00f1a\",\"Pa\\u00edses Bajos\",\"Nueva Zelanda\",\"Turqu\\u00eda\",\"Per\\u00fa\",\"Polonia\",\"Estados Unidos\",\"Estados Unidos\",\"Estados Unidos\",\"Colombia\",\"India\",\"Turqu\\u00eda\",\"Canada\",\"Estados Unidos\",\"Estados Unidos\",\"Polonia\",\"Ir\\u00e1n\",\"Francia\",\"Italia\",\"Colombia\",\"Estados Unidos\",\"Estados Unidos\",\"Italia\",\"Argentina\",\"China\",\"Estados Unidos\",\"Argentina\",\"Jap\\u00f3n\",\"Alemania\",\"Francia\",\"Jap\\u00f3n\",\"Brasil\",\"Nigeria\",\"Francia\",\"Zambia\",\"Ucrania\",\"Rusia\",\"Espa\\u00f1a\",\"Estados Unidos\",\"Reino Unido\",\"Australia\",\"Bosnia y Herzegovina\",\"Kazajist\\u00e1n\",\"Israel\",\"Reino Unido\",\"Turqu\\u00eda\",\"Reino Unido\",\"Reino Unido\",\"Colombia\",\"Estados Unidos\",\"Ucrania\",\"Ir\\u00e1n\",\"Brasil\",\"China\",\"China\",\"Brasil\",\"Alemania\",\"Pa\\u00edses Bajos\",\"Australia\",\"Estados Unidos\",\"Nueva Zelanda\",\"Polonia\",\"Australia\",\"Arabia Saud\\u00ed\",\"Francia\",\"Turkmenist\\u00e1n\",\"Francia\",\"Turqu\\u00eda\",\"Estados Unidos\",\"Brasil\",\"Italia\",\"Brasil\",\"Francia\",\"Jap\\u00f3n\",\"Arabia Saud\\u00ed\",\"Venezuela\",\"China\",\"China\",\"Jap\\u00f3n\",\"Estados Unidos\",\"Nueva Zelanda\",\"India\",\"Rusia\",\"Estados Unidos\",\"China\",\"Francia\",\"Ghana\",\"Estados Unidos\",\"China\",\"Brasil\",\"Estados Unidos\",\"Francia\",\"Francia\",\"India\",\"India\",\"Alemania\",\"Estados Unidos\",\"Reino Unido\",\"Estados Unidos\",\"Italia\",\"Espa\\u00f1a\",\"Reino Unido\",\"India\",\"Rusia\",\"Francia\",\"China\",\"India\",\"Francia\",\"China\",\"Vietnam\",\"Italia\",\"Brasil\",\"Estados Unidos\",\"China\",\"Espa\\u00f1a\",\"Francia\",\"SudAfrica\",\"Brasil\",\"Francia\",\"Georgia\",\"Brasil\",\"Jordania\",\"Corea del Sur\",\"Francia\",\"Colombia\",\"Turqu\\u00eda\",\"China\",\"Arabia Saud\\u00ed\",\"Angola\",\"Brasil\",\"Espa\\u00f1a\",\"M\\u00e9xico\",\"Nigeria\",\"China\",\"Rumania\",\"Kenia\",\"Alemania\",\"Estados Unidos\",\"Francia\",\"Alemania\",\"Rusia\",\"Reino Unido\",\"Marruecos\",\"India\",\"Nueva Zelanda\",\"Estados Unidos\",\"Taiw\\u00e1n\",\"Angola\",\"Dinamarca\",\"Marruecos\",\"Australia\",\"Guinea-Bissau\",\"Alemania\",\"India\",\"China\",\"Afganist\\u00e1n\",\"Reino Unido\",\"Italia\",\"Alemania\"],\"locationmode\":\"country names\",\"locations\":[\"Rep\\u00fablica Dominicana\",\"Estados Unidos\",\"Honduras\",\"Estados Unidos\",\"Nicaragua\",\"M\\u00e9xico\",\"Reino Unido\",\"Filipinas\",\"Estados Unidos\",\"Indonesia\",\"Austria\",\"Espa\\u00f1a\",\"Estados Unidos\",\"Argentina\",\"Tailandia\",\"Nigeria\",\"Brasil\",\"Australia\",\"Francia\",\"Estados Unidos\",\"Estados Unidos\",\"Honduras\",\"Alemania\",\"El Salvador\",\"Turqu\\u00eda\",\"Italia\",\"Panam\\u00e1\",\"Alemania\",\"Guatemala\",\"El Salvador\",\"Australia\",\"Australia\",\"Estados Unidos\",\"Estados Unidos\",\"Estados Unidos\",\"Vietnam\",\"M\\u00e9xico\",\"Suecia\",\"Rep\\u00fablica Democr\\u00e1tica del Congo\",\"Singapur\",\"Colombia\",\"Honduras\",\"Guatemala\",\"Australia\",\"Hait\\u00ed\",\"Espa\\u00f1a\",\"Alemania\",\"Panam\\u00e1\",\"Per\\u00fa\",\"Italia\",\"Marruecos\",\"M\\u00e9xico\",\"Australia\",\"Rep\\u00fablica Dominicana\",\"M\\u00e9xico\",\"M\\u00e9xico\",\"Cuba\",\"Australia\",\"El Salvador\",\"Italia\",\"Reino Unido\",\"M\\u00e9xico\",\"Francia\",\"Myanmar (Birmania)\",\"M\\u00e9xico\",\"Egipto\",\"M\\u00e9xico\",\"M\\u00e9xico\",\"Brasil\",\"Francia\",\"Irak\",\"Australia\",\"Estados Unidos\",\"Estados Unidos\",\"Estados Unidos\",\"Alemania\",\"Corea del Sur\",\"Estados Unidos\",\"Pa\\u00edses Bajos\",\"Indonesia\",\"El Salvador\",\"M\\u00e9xico\",\"El Salvador\",\"Nigeria\",\"Australia\",\"SudAfrica\",\"China\",\"Australia\",\"Turqu\\u00eda\",\"Egipto\",\"Francia\",\"Honduras\",\"Nicaragua\",\"Nicaragua\",\"Nueva Zelanda\",\"Venezuela\",\"M\\u00e9xico\",\"M\\u00e9xico\",\"Italia\",\"El Salvador\",\"Francia\",\"Indonesia\",\"Reino Unido\",\"China\",\"Alemania\",\"Banglad\\u00e9s\",\"Australia\",\"Rep\\u00fablica Dominicana\",\"Pakist\\u00e1n\",\"Estados Unidos\",\"Nicaragua\",\"Estados Unidos\",\"Chile\",\"Estados Unidos\",\"M\\u00e9xico\",\"Espa\\u00f1a\",\"Cuba\",\"Australia\",\"Brasil\",\"Nueva Zelanda\",\"Rep\\u00fablica Dominicana\",\"Indonesia\",\"Tanzania\",\"Filipinas\",\"Arabia Saud\\u00ed\",\"China\",\"M\\u00e9xico\",\"SudAfrica\",\"Francia\",\"Guatemala\",\"M\\u00e9xico\",\"El Salvador\",\"M\\u00e9xico\",\"M\\u00e9xico\",\"Ghana\",\"Venezuela\",\"M\\u00e9xico\",\"Francia\",\"Guatemala\",\"Reino Unido\",\"Camer\\u00fan\",\"Estados Unidos\",\"Alemania\",\"Honduras\",\"M\\u00e9xico\",\"Reino Unido\",\"Ir\\u00e1n\",\"Colombia\",\"Cuba\",\"Estados Unidos\",\"SudAfrica\",\"Cuba\",\"Honduras\",\"Estados Unidos\",\"Estados Unidos\",\"M\\u00e9xico\",\"Australia\",\"El Salvador\",\"Cuba\",\"Reino Unido\",\"Marruecos\",\"Panam\\u00e1\",\"Estados Unidos\",\"Pa\\u00edses Bajos\",\"Alemania\",\"Brasil\",\"Australia\",\"Finlandia\",\"Estados Unidos\",\"Hungr\\u00eda\",\"India\",\"Nicaragua\",\"Cuba\",\"Reino Unido\",\"India\",\"Ir\\u00e1n\",\"Alemania\",\"Italia\",\"Panam\\u00e1\",\"Francia\",\"Indonesia\",\"Reino Unido\",\"China\",\"M\\u00e9xico\",\"Francia\",\"Noruega\",\"Indonesia\",\"Australia\",\"Vietnam\",\"Estados Unidos\",\"M\\u00e9xico\",\"Nigeria\",\"Alemania\",\"M\\u00e9xico\",\"Francia\",\"Francia\",\"Indonesia\",\"Guatemala\",\"Senegal\",\"Colombia\",\"Nicaragua\",\"Italia\",\"Costa de Marfil\",\"M\\u00e9xico\",\"Estados Unidos\",\"Alemania\",\"M\\u00e9xico\",\"Rep\\u00fablica Dominicana\",\"Portugal\",\"Australia\",\"China\",\"M\\u00e9xico\",\"M\\u00e9xico\",\"Colombia\",\"Alemania\",\"Espa\\u00f1a\",\"M\\u00e9xico\",\"Pa\\u00edses Bajos\",\"Espa\\u00f1a\",\"Estados Unidos\",\"Rusia\",\"Dinamarca\",\"Jap\\u00f3n\",\"Brasil\",\"India\",\"Reino Unido\",\"M\\u00e9xico\",\"M\\u00e9xico\",\"Austria\",\"Cuba\",\"Irlanda\",\"Brasil\",\"Polonia\",\"Alemania\",\"Alemania\",\"Estados Unidos\",\"Alemania\",\"Estados Unidos\",\"Irak\",\"Brasil\",\"Pa\\u00edses Bajos\",\"Reino Unido\",\"M\\u00e9xico\",\"Brasil\",\"Reino Unido\",\"India\",\"India\",\"China\",\"Bulgaria\",\"Estados Unidos\",\"China\",\"Estados Unidos\",\"Francia\",\"Australia\",\"Australia\",\"China\",\"Nicaragua\",\"M\\u00e9xico\",\"Turqu\\u00eda\",\"Alemania\",\"Francia\",\"M\\u00e9xico\",\"India\",\"Alemania\",\"Alemania\",\"Brasil\",\"Camboya\",\"Zambia\",\"Australia\",\"Estados Unidos\",\"Brasil\",\"Brasil\",\"Alemania\",\"Suecia\",\"Nueva Zelanda\",\"Austria\",\"Cuba\",\"Estados Unidos\",\"Nigeria\",\"Brasil\",\"Indonesia\",\"Suecia\",\"Martinica\",\"Italia\",\"Indonesia\",\"Reino Unido\",\"Italia\",\"Libia\",\"Italia\",\"Brasil\",\"Alemania\",\"Reino Unido\",\"Rep\\u00fablica Dominicana\",\"Nicaragua\",\"M\\u00e9xico\",\"Alemania\",\"Kirguist\\u00e1n\",\"Francia\",\"Guatemala\",\"Estados Unidos\",\"Irak\",\"Ucrania\",\"Argelia\",\"China\",\"Alemania\",\"Irak\",\"India\",\"Estados Unidos\",\"Kenia\",\"Francia\",\"Estados Unidos\",\"Francia\",\"Australia\",\"El Salvador\",\"Alemania\",\"Espa\\u00f1a\",\"Brasil\",\"M\\u00e9xico\",\"Indonesia\",\"China\",\"Francia\",\"Arabia Saud\\u00ed\",\"Irlanda\",\"China\",\"Portugal\",\"M\\u00e9xico\",\"Italia\",\"Francia\",\"Nueva Zelanda\",\"Estados Unidos\",\"Ir\\u00e1n\",\"Rusia\",\"India\",\"Jamaica\",\"B\\u00e9lgica\",\"B\\u00e9lgica\",\"Francia\",\"Sud\\u00e1n\",\"Rep\\u00fablica Dominicana\",\"M\\u00e9xico\",\"Australia\",\"Cuba\",\"Alemania\",\"Jamaica\",\"Francia\",\"El Salvador\",\"Suiza\",\"Indonesia\",\"Pa\\u00edses Bajos\",\"Brasil\",\"SudAfrica\",\"Brasil\",\"Trinidad y Tobago\",\"Australia\",\"Rep\\u00fablica Democr\\u00e1tica del Congo\",\"Brasil\",\"Francia\",\"M\\u00e9xico\",\"Pakist\\u00e1n\",\"Francia\",\"Alemania\",\"China\",\"Estados Unidos\",\"M\\u00e9xico\",\"M\\u00e9xico\",\"Cuba\",\"Italia\",\"Banglad\\u00e9s\",\"Estados Unidos\",\"Estados Unidos\",\"Marruecos\",\"Cuba\",\"Reino Unido\",\"M\\u00e9xico\",\"M\\u00e9xico\",\"Francia\",\"Reino Unido\",\"Estados Unidos\",\"Alemania\",\"Panam\\u00e1\",\"Reino Unido\",\"Turqu\\u00eda\",\"Alemania\",\"Reino Unido\",\"Francia\",\"Pap\\u00faa Nueva Guinea\",\"Brasil\",\"Alemania\",\"China\",\"Francia\",\"Ecuador\",\"M\\u00e9xico\",\"Espa\\u00f1a\",\"Estados Unidos\",\"Francia\",\"India\",\"Alemania\",\"Francia\",\"Pakist\\u00e1n\",\"Francia\",\"Ir\\u00e1n\",\"Francia\",\"Brasil\",\"Francia\",\"Reino Unido\",\"Cuba\",\"M\\u00e9xico\",\"M\\u00e9xico\",\"Estados Unidos\",\"M\\u00e9xico\",\"Canada\",\"Brasil\",\"Argentina\",\"Estados Unidos\",\"Jordania\",\"B\\u00e9lgica\",\"M\\u00e9xico\",\"Francia\",\"Madagascar\",\"Austria\",\"M\\u00e9xico\",\"Alemania\",\"Brasil\",\"B\\u00e9lgica\",\"Cuba\",\"Alemania\",\"Francia\",\"M\\u00e9xico\",\"Australia\",\"Turqu\\u00eda\",\"Estados Unidos\",\"Zimbabue\",\"Reino Unido\",\"Espa\\u00f1a\",\"Trinidad y Tobago\",\"China\",\"India\",\"Rep\\u00fablica Democr\\u00e1tica del Congo\",\"Ir\\u00e1n\",\"Venezuela\",\"Francia\",\"Israel\",\"Italia\",\"Italia\",\"Brasil\",\"Ir\\u00e1n\",\"M\\u00e9xico\",\"Francia\",\"Uganda\",\"Brasil\",\"China\",\"Francia\",\"Brasil\",\"Francia\",\"Rep\\u00fablica Checa\",\"Reino Unido\",\"Francia\",\"Estados Unidos\",\"Georgia\",\"Italia\",\"Indonesia\",\"Francia\",\"Francia\",\"Arabia Saud\\u00ed\",\"M\\u00e9xico\",\"Barbados\",\"Nigeria\",\"Estados Unidos\",\"M\\u00e9xico\",\"Somalia\",\"Estados Unidos\",\"Guatemala\",\"Alemania\",\"N\\u00edger\",\"Brasil\",\"Zimbabue\",\"Filipinas\",\"Turqu\\u00eda\",\"M\\u00e9xico\",\"India\",\"Estados Unidos\",\"Indonesia\",\"Estados Unidos\",\"Francia\",\"Estados Unidos\",\"Estados Unidos\",\"Mozambique\",\"Qatar\",\"Polonia\",\"Colombia\",\"Mozambique\",\"B\\u00e9lgica\",\"Australia\",\"Francia\",\"Espa\\u00f1a\",\"M\\u00e9xico\",\"Malasia\",\"Cuba\",\"Estados Unidos\",\"Canada\",\"Alemania\",\"Reino Unido\",\"India\",\"Brasil\",\"India\",\"Turqu\\u00eda\",\"Reino Unido\",\"B\\u00e9lgica\",\"Francia\",\"Reino Unido\",\"Alemania\",\"M\\u00e9xico\",\"Francia\",\"Italia\",\"Brasil\",\"Francia\",\"M\\u00e9xico\",\"Francia\",\"Alemania\",\"Egipto\",\"Francia\",\"Afganist\\u00e1n\",\"Rumania\",\"Alemania\",\"Estados Unidos\",\"Colombia\",\"Reino Unido\",\"Alemania\",\"Francia\",\"Australia\",\"Noruega\",\"Alemania\",\"SudAfrica\",\"Indonesia\",\"Filipinas\",\"Canada\",\"Reino Unido\",\"Italia\",\"Brasil\",\"India\",\"China\",\"Reino Unido\",\"Francia\",\"Alemania\",\"Australia\",\"Reino Unido\",\"Turqu\\u00eda\",\"Estados Unidos\",\"Estados Unidos\",\"Francia\",\"China\",\"Alemania\",\"Marruecos\",\"China\",\"Brasil\",\"Argentina\",\"Francia\",\"Alemania\",\"Estados Unidos\",\"Reino Unido\",\"Reino Unido\",\"Nueva Zelanda\",\"Lituania\",\"Turqu\\u00eda\",\"Estados Unidos\",\"Reino Unido\",\"Estados Unidos\",\"Reino Unido\",\"Nueva Zelanda\",\"Estados Unidos\",\"India\",\"Estados Unidos\",\"India\",\"Australia\",\"Siria\",\"Francia\",\"Rep\\u00fablica Democr\\u00e1tica del Congo\",\"Portugal\",\"Italia\",\"Estados Unidos\",\"M\\u00e9xico\",\"Estados Unidos\",\"Estados Unidos\",\"Estados Unidos\",\"Italia\",\"Ghana\",\"Alemania\",\"Cuba\",\"Brasil\",\"Reino Unido\",\"Rusia\",\"Brasil\",\"China\",\"India\",\"Nigeria\",\"India\",\"Francia\",\"El Salvador\",\"Reino Unido\",\"Italia\",\"Guatemala\",\"Malasia\",\"Reino Unido\",\"Francia\",\"Australia\",\"Reino Unido\",\"Ir\\u00e1n\",\"Espa\\u00f1a\",\"Estados Unidos\",\"Brasil\",\"Espa\\u00f1a\",\"Argentina\",\"Francia\",\"Estados Unidos\",\"Francia\",\"Mozambique\",\"China\",\"Espa\\u00f1a\",\"Nigeria\",\"Estados Unidos\",\"China\",\"Turqu\\u00eda\",\"Espa\\u00f1a\",\"Canada\",\"Canada\",\"Marruecos\",\"Polonia\",\"Alemania\",\"Rep\\u00fablica Dominicana\",\"Australia\",\"Argentina\",\"Italia\",\"Italia\",\"Cuba\",\"Francia\",\"Kazajist\\u00e1n\",\"Italia\",\"Pakist\\u00e1n\",\"Alemania\",\"Italia\",\"Indonesia\",\"Estados Unidos\",\"Nueva Zelanda\",\"M\\u00e9xico\",\"Dinamarca\",\"Australia\",\"Ucrania\",\"Australia\",\"Noruega\",\"Francia\",\"Estados Unidos\",\"Corea del Sur\",\"China\",\"Estados Unidos\",\"Guatemala\",\"Reino Unido\",\"Estados Unidos\",\"Yemen\",\"M\\u00e9xico\",\"Nigeria\",\"India\",\"Francia\",\"M\\u00e9xico\",\"Italia\",\"Nigeria\",\"Francia\",\"Brasil\",\"Francia\",\"Reino Unido\",\"Francia\",\"Francia\",\"Malasia\",\"Estados Unidos\",\"Ir\\u00e1n\",\"Brasil\",\"Brasil\",\"Brasil\",\"Mozambique\",\"Alemania\",\"Brasil\",\"China\",\"Alemania\",\"Estados Unidos\",\"Estados Unidos\",\"Estados Unidos\",\"Francia\",\"Reino Unido\",\"India\",\"Francia\",\"Kenia\",\"Kazajist\\u00e1n\",\"India\",\"Estados Unidos\",\"Estados Unidos\",\"Argentina\",\"Croacia\",\"Francia\",\"M\\u00e9xico\",\"India\",\"SudAfrica\",\"Brasil\",\"Alemania\",\"Rep\\u00fablica Democr\\u00e1tica del Congo\",\"Espa\\u00f1a\",\"Reino Unido\",\"Espa\\u00f1a\",\"Estados Unidos\",\"India\",\"Italia\",\"Francia\",\"Colombia\",\"Reino Unido\",\"Francia\",\"Estados Unidos\",\"Nigeria\",\"Francia\",\"India\",\"Pa\\u00edses Bajos\",\"Corea del Sur\",\"Estados Unidos\",\"Francia\",\"Estados Unidos\",\"Filipinas\",\"Nigeria\",\"Chile\",\"India\",\"Jap\\u00f3n\",\"Rusia\",\"Bolivia\",\"M\\u00e9xico\",\"Alemania\",\"Italia\",\"Francia\",\"Indonesia\",\"Reino Unido\",\"M\\u00e9xico\",\"Ucrania\",\"Tanzania\",\"Alemania\",\"Turqu\\u00eda\",\"Reino Unido\",\"Estados Unidos\",\"M\\u00e9xico\",\"Estados Unidos\",\"Polonia\",\"Rumania\",\"Colombia\",\"Italia\",\"Uruguay\",\"Filipinas\",\"Per\\u00fa\",\"Espa\\u00f1a\",\"Reino Unido\",\"Francia\",\"India\",\"Espa\\u00f1a\",\"Chile\",\"Espa\\u00f1a\",\"Estados Unidos\",\"Pa\\u00edses Bajos\",\"Francia\",\"Francia\",\"Colombia\",\"Alemania\",\"India\",\"Francia\",\"Francia\",\"Francia\",\"Estados Unidos\",\"Hait\\u00ed\",\"India\",\"India\",\"Nigeria\",\"Ucrania\",\"Turqu\\u00eda\",\"Marruecos\",\"Francia\",\"Francia\",\"India\",\"Italia\",\"Francia\",\"Indonesia\",\"M\\u00e9xico\",\"Brasil\",\"Pa\\u00edses Bajos\",\"Nueva Zelanda\",\"SudAfrica\",\"Indonesia\",\"Indonesia\",\"Indonesia\",\"Brasil\",\"Turqu\\u00eda\",\"SudAfrica\",\"Arabia Saud\\u00ed\",\"Francia\",\"Australia\",\"M\\u00e9xico\",\"Estados Unidos\",\"Francia\",\"Reino Unido\",\"Ir\\u00e1n\",\"Venezuela\",\"Israel\",\"Hungr\\u00eda\",\"Alemania\",\"Australia\",\"Alemania\",\"Argentina\",\"Francia\",\"Estados Unidos\",\"Pa\\u00edses Bajos\",\"Indonesia\",\"China\",\"Alemania\",\"Italia\",\"Estados Unidos\",\"M\\u00e9xico\",\"Francia\",\"Francia\",\"Yibuti\",\"Brasil\",\"Suiza\",\"Rep\\u00fablica Dominicana\",\"Estados Unidos\",\"Estados Unidos\",\"Turqu\\u00eda\",\"Angola\",\"M\\u00e9xico\",\"Francia\",\"Colombia\",\"India\",\"China\",\"Australia\",\"Brasil\",\"Estados Unidos\",\"Francia\",\"Bielorrusia\",\"Francia\",\"Francia\",\"Estados Unidos\",\"Estados Unidos\",\"Turqu\\u00eda\",\"Espa\\u00f1a\",\"Francia\",\"Francia\",\"Estados Unidos\",\"Ir\\u00e1n\",\"India\",\"Brasil\",\"Brasil\",\"Cuba\",\"Estados Unidos\",\"Alemania\",\"Ucrania\",\"Brasil\",\"India\",\"Bolivia\",\"Indonesia\",\"Francia\",\"Brasil\",\"Alemania\",\"Francia\",\"Turqu\\u00eda\",\"Rep\\u00fablica Democr\\u00e1tica del Congo\",\"China\",\"China\",\"Venezuela\",\"Brasil\",\"Alemania\",\"Rumania\",\"Estados Unidos\",\"Francia\",\"Brasil\",\"Canada\",\"Francia\",\"Brasil\",\"Nueva Zelanda\",\"Per\\u00fa\",\"Ir\\u00e1n\",\"Italia\",\"Francia\",\"Francia\",\"Francia\",\"Turqu\\u00eda\",\"Brasil\",\"India\",\"Francia\",\"M\\u00e9xico\",\"M\\u00e9xico\",\"Espa\\u00f1a\",\"Alemania\",\"Argelia\",\"Italia\",\"Francia\",\"Francia\",\"Reino Unido\",\"Uzbekist\\u00e1n\",\"Nepal\",\"Estados Unidos\",\"Marruecos\",\"Francia\",\"Italia\",\"Cuba\",\"China\",\"Bielorrusia\",\"Corea del Sur\",\"Canada\",\"Malasia\",\"Israel\",\"Ucrania\",\"Estados Unidos\",\"Argentina\",\"Turqu\\u00eda\",\"Turqu\\u00eda\",\"Suecia\",\"Brasil\",\"Estados Unidos\",\"Brasil\",\"Reino Unido\",\"Camer\\u00fan\",\"India\",\"Senegal\",\"Espa\\u00f1a\",\"Reino Unido\",\"China\",\"Corea del Sur\",\"Estados Unidos\",\"Nueva Zelanda\",\"Costa de Marfil\",\"Pakist\\u00e1n\",\"Italia\",\"Finlandia\",\"Venezuela\",\"Polonia\",\"Alemania\",\"Reino Unido\",\"Francia\",\"Brasil\",\"Turqu\\u00eda\",\"Francia\",\"Rep\\u00fablica Dominicana\",\"Turqu\\u00eda\",\"Reino Unido\",\"Alemania\",\"Reino Unido\",\"Brasil\",\"Francia\",\"India\",\"Colombia\",\"Pa\\u00edses Bajos\",\"Francia\",\"India\",\"Francia\",\"Italia\",\"Rusia\",\"Francia\",\"Francia\",\"Pa\\u00edses Bajos\",\"Francia\",\"Estados Unidos\",\"Francia\",\"M\\u00e9xico\",\"China\",\"Italia\",\"Brasil\",\"Alemania\",\"Reino Unido\",\"Togo\",\"Francia\",\"Brasil\",\"Tanzania\",\"Francia\",\"Reino Unido\",\"Brasil\",\"Jap\\u00f3n\",\"Francia\",\"Estados Unidos\",\"Francia\",\"Australia\",\"Pakist\\u00e1n\",\"Alemania\",\"China\",\"Nueva Zelanda\",\"Moldavia\",\"Francia\",\"Reino Unido\",\"Estados Unidos\",\"Nigeria\",\"Brasil\",\"Francia\",\"Chile\",\"Espa\\u00f1a\",\"Reino Unido\",\"Estados Unidos\",\"Pa\\u00edses Bajos\",\"Reino Unido\",\"Nigeria\",\"Estados Unidos\",\"B\\u00e9lgica\",\"Argelia\",\"Italia\",\"Francia\",\"Mauritania\",\"Bolivia\",\"Italia\",\"Alemania\",\"Estados Unidos\",\"Reino Unido\",\"Suiza\",\"India\",\"Canada\",\"China\",\"India\",\"Pa\\u00edses Bajos\",\"Italia\",\"Australia\",\"Malasia\",\"Reino Unido\",\"Francia\",\"Alemania\",\"Somalia\",\"India\",\"Estados Unidos\",\"Reino Unido\",\"Italia\",\"Pa\\u00edses Bajos\",\"Estados Unidos\",\"China\",\"India\",\"Brasil\",\"Espa\\u00f1a\",\"Cuba\",\"Reino Unido\",\"Reino Unido\",\"Francia\",\"M\\u00e9xico\",\"Francia\",\"Filipinas\",\"Reino Unido\",\"Francia\",\"Brasil\",\"Noruega\",\"Rusia\",\"M\\u00e9xico\",\"M\\u00e9xico\",\"Pa\\u00edses Bajos\",\"M\\u00e9xico\",\"Rusia\",\"Reino Unido\",\"Francia\",\"Pa\\u00edses Bajos\",\"Francia\",\"Francia\",\"Francia\",\"Estados Unidos\",\"India\",\"Francia\",\"Venezuela\",\"China\",\"Espa\\u00f1a\",\"Estados Unidos\",\"Polonia\",\"T\\u00fanez\",\"Francia\",\"Reino Unido\",\"M\\u00e9xico\",\"Espa\\u00f1a\",\"Estados Unidos\",\"Argelia\",\"Francia\",\"Australia\",\"N\\u00edger\",\"Espa\\u00f1a\",\"Francia\",\"Francia\",\"China\",\"Venezuela\",\"Reino Unido\",\"Indonesia\",\"Francia\",\"China\",\"Siria\",\"Francia\",\"Estados Unidos\",\"Arabia Saud\\u00ed\",\"Kazajist\\u00e1n\",\"Estados Unidos\",\"Guinea\",\"India\",\"Argelia\",\"Malasia\",\"Brasil\",\"Italia\",\"Indonesia\",\"Italia\",\"Francia\",\"Alemania\",\"Brasil\",\"Argelia\",\"Per\\u00fa\",\"Corea del Sur\",\"Francia\",\"Italia\",\"Pa\\u00edses Bajos\",\"Chile\",\"Reino Unido\",\"Estados Unidos\",\"Estados Unidos\",\"Banglad\\u00e9s\",\"Rumania\",\"Francia\",\"China\",\"Rumania\",\"Australia\",\"Australia\",\"Colombia\",\"Italia\",\"Canada\",\"Francia\",\"Francia\",\"Cuba\",\"China\",\"Estados Unidos\",\"Francia\",\"Francia\",\"Brasil\",\"Australia\",\"Ir\\u00e1n\",\"Austria\",\"India\",\"Rep\\u00fablica Democr\\u00e1tica del Congo\",\"Canada\",\"Portugal\",\"Estados Unidos\",\"Turqu\\u00eda\",\"Filipinas\",\"Suecia\",\"Reino Unido\",\"Alemania\",\"China\",\"Ucrania\",\"Estados Unidos\",\"Rumania\",\"Alemania\",\"Indonesia\",\"Alemania\",\"Cuba\",\"China\",\"Jap\\u00f3n\",\"Rumania\",\"Nueva Zelanda\",\"Brasil\",\"Francia\",\"Estados Unidos\",\"Reino Unido\",\"China\",\"China\",\"Espa\\u00f1a\",\"Espa\\u00f1a\",\"Malasia\",\"Per\\u00fa\",\"Australia\",\"Venezuela\",\"Espa\\u00f1a\",\"Brasil\",\"Italia\",\"Nigeria\",\"Uzbekist\\u00e1n\",\"Indonesia\",\"Brasil\",\"Turqu\\u00eda\",\"Estados Unidos\",\"Suiza\",\"Italia\",\"Argentina\",\"Espa\\u00f1a\",\"Reino Unido\",\"M\\u00e9xico\",\"Alemania\",\"M\\u00e9xico\",\"Venezuela\",\"Francia\",\"Suecia\",\"M\\u00e9xico\",\"Estados Unidos\",\"Reino Unido\",\"Indonesia\",\"Italia\",\"Turqu\\u00eda\",\"Francia\",\"Estados Unidos\",\"Sud\\u00e1n\",\"Irak\",\"China\",\"China\",\"China\",\"M\\u00e9xico\",\"Reino Unido\",\"Angola\",\"Venezuela\",\"Estados Unidos\",\"India\",\"Arabia Saud\\u00ed\",\"Estados Unidos\",\"Alemania\",\"Argentina\",\"Estados Unidos\",\"Francia\",\"Rep\\u00fablica Checa\",\"China\",\"Montenegro\",\"Italia\",\"Estados Unidos\",\"India\",\"India\",\"Estados Unidos\",\"Brasil\",\"China\",\"Turqu\\u00eda\",\"Alemania\",\"India\",\"Francia\",\"Francia\",\"India\",\"Corea del Sur\",\"Rusia\",\"Estados Unidos\",\"Estados Unidos\",\"Espa\\u00f1a\",\"Estados Unidos\",\"Malasia\",\"Dinamarca\",\"Rep\\u00fablica Democr\\u00e1tica del Congo\",\"Australia\",\"India\",\"Italia\",\"Francia\",\"Pa\\u00edses Bajos\",\"Estados Unidos\",\"Estados Unidos\",\"Francia\",\"Brasil\",\"Francia\",\"Jap\\u00f3n\",\"Per\\u00fa\",\"Francia\",\"India\",\"Francia\",\"Estados Unidos\",\"Brasil\",\"Estados Unidos\",\"Espa\\u00f1a\",\"Alemania\",\"Estados Unidos\",\"Ir\\u00e1n\",\"Brasil\",\"China\",\"Alemania\",\"Turqu\\u00eda\",\"Pa\\u00edses Bajos\",\"Corea del Sur\",\"Turqu\\u00eda\",\"Francia\",\"China\",\"India\",\"Estados Unidos\",\"Estados Unidos\",\"Espa\\u00f1a\",\"China\",\"M\\u00e9xico\",\"Italia\",\"Rusia\",\"Estados Unidos\",\"India\",\"Canada\",\"India\",\"Venezuela\",\"Brasil\",\"Turqu\\u00eda\",\"Francia\",\"Italia\",\"Filipinas\",\"Somalia\",\"Brasil\",\"Australia\",\"Francia\",\"Estados Unidos\",\"China\",\"Francia\",\"Italia\",\"Alemania\",\"Jap\\u00f3n\",\"Brasil\",\"Estados Unidos\",\"Reino Unido\",\"Alemania\",\"Uganda\",\"India\",\"Francia\",\"Turqu\\u00eda\",\"Argentina\",\"Australia\",\"Brasil\",\"Noruega\",\"Estados Unidos\",\"India\",\"M\\u00e9xico\",\"Rumania\",\"Ucrania\",\"Ir\\u00e1n\",\"M\\u00e9xico\",\"Arabia Saud\\u00ed\",\"China\",\"Francia\",\"Suiza\",\"Estados Unidos\",\"Brasil\",\"Brasil\",\"Espa\\u00f1a\",\"Brasil\",\"Pakist\\u00e1n\",\"Francia\",\"Colombia\",\"Francia\",\"Estados Unidos\",\"Suiza\",\"China\",\"Estados Unidos\",\"Reino Unido\",\"Jap\\u00f3n\",\"India\",\"Francia\",\"Canada\",\"Tanzania\",\"Ucrania\",\"Estados Unidos\",\"Brasil\",\"Brasil\",\"Marruecos\",\"Alemania\",\"Argelia\",\"Estados Unidos\",\"Argentina\",\"Brasil\",\"Marruecos\",\"China\",\"Rusia\",\"Francia\",\"Espa\\u00f1a\",\"Brasil\",\"Cuba\",\"Francia\",\"Australia\",\"Venezuela\",\"China\",\"M\\u00e9xico\",\"Espa\\u00f1a\",\"Francia\",\"Estados Unidos\",\"Malasia\",\"Venezuela\",\"Estados Unidos\",\"Francia\",\"Nueva Zelanda\",\"Italia\",\"China\",\"Estados Unidos\",\"Reino Unido\",\"Madagascar\",\"Rusia\",\"Francia\",\"Estados Unidos\",\"Estados Unidos\",\"Estados Unidos\",\"M\\u00e9xico\",\"Estados Unidos\",\"Brasil\",\"Pakist\\u00e1n\",\"Reino Unido\",\"Francia\",\"Turqu\\u00eda\",\"Austria\",\"Estados Unidos\",\"Francia\",\"Alemania\",\"Francia\",\"Canada\",\"Turqu\\u00eda\",\"SudAfrica\",\"Alemania\",\"Nueva Zelanda\",\"Estados Unidos\",\"Francia\",\"India\",\"Francia\",\"Italia\",\"China\",\"Finlandia\",\"China\",\"Pa\\u00edses Bajos\",\"Ucrania\",\"Estados Unidos\",\"Estados Unidos\",\"Ir\\u00e1n\",\"Reino Unido\",\"Estados Unidos\",\"Brasil\",\"Brasil\",\"India\",\"Alemania\",\"Brasil\",\"Brasil\",\"Reino Unido\",\"Turqu\\u00eda\",\"Uzbekist\\u00e1n\",\"Reino Unido\",\"Colombia\",\"China\",\"Ir\\u00e1n\",\"Canada\",\"Francia\",\"Brasil\",\"Alemania\",\"Estados Unidos\",\"Nueva Zelanda\",\"Egipto\",\"Estados Unidos\",\"Estados Unidos\",\"Turqu\\u00eda\",\"Espa\\u00f1a\",\"Francia\",\"Brasil\",\"Vietnam\",\"Polonia\",\"Ir\\u00e1n\",\"Bolivia\",\"Estados Unidos\",\"Ir\\u00e1n\",\"Afganist\\u00e1n\",\"Ir\\u00e1n\",\"Nueva Zelanda\",\"China\",\"Estados Unidos\",\"Estados Unidos\",\"Canada\",\"Canada\",\"Rep\\u00fablica Centroafricana\",\"Nigeria\",\"Estados Unidos\",\"Francia\",\"Reino Unido\",\"China\",\"Colombia\",\"Pakist\\u00e1n\",\"Brasil\",\"Brasil\",\"Venezuela\",\"Reino Unido\",\"Italia\",\"Estados Unidos\",\"Rumania\",\"Argelia\",\"Brasil\",\"Estados Unidos\",\"M\\u00e9xico\",\"India\",\"Indonesia\",\"Polonia\",\"Estados Unidos\",\"M\\u00e9xico\",\"Uruguay\",\"Venezuela\",\"India\",\"Alemania\",\"China\",\"Rumania\",\"Turqu\\u00eda\",\"Egipto\",\"India\",\"Turkmenist\\u00e1n\",\"India\",\"Indonesia\",\"Per\\u00fa\",\"M\\u00e9xico\",\"Argelia\",\"Tanzania\",\"Espa\\u00f1a\",\"China\",\"Estados Unidos\",\"Estados Unidos\",\"Estados Unidos\",\"Guadalupe\",\"Alemania\",\"Espa\\u00f1a\",\"China\",\"India\",\"Rusia\",\"Indonesia\",\"Reino Unido\",\"Nigeria\",\"M\\u00e9xico\",\"Alemania\",\"Irak\",\"Reino Unido\",\"Ir\\u00e1n\",\"China\",\"Mali\",\"Bielorrusia\",\"Brasil\",\"Ucrania\",\"Azerbaiy\\u00e1n\",\"M\\u00e9xico\",\"Brasil\",\"Brasil\",\"Canada\",\"Kenia\",\"China\",\"Francia\",\"Chile\",\"Francia\",\"China\",\"Brasil\",\"Brasil\",\"Francia\",\"Polonia\",\"China\",\"Estados Unidos\",\"India\",\"Brasil\",\"Francia\",\"Botsuana\",\"Filipinas\",\"Alemania\",\"Francia\",\"Estados Unidos\",\"Francia\",\"Francia\",\"China\",\"Brasil\",\"Francia\",\"Pakist\\u00e1n\",\"Pa\\u00edses Bajos\",\"Italia\",\"Brasil\",\"China\",\"Estados Unidos\",\"Ben\\u00edn\",\"Reino Unido\",\"Reino Unido\",\"M\\u00e9xico\",\"Estados Unidos\",\"Estados Unidos\",\"Estados Unidos\",\"Venezuela\",\"China\",\"Rusia\",\"India\",\"Estados Unidos\",\"Espa\\u00f1a\",\"Alemania\",\"Estados Unidos\",\"Estados Unidos\",\"Estados Unidos\",\"Israel\",\"Filipinas\",\"Brasil\",\"Francia\",\"Polonia\",\"Polonia\",\"Canada\",\"Reino Unido\",\"Reino Unido\",\"Espa\\u00f1a\",\"Estados Unidos\",\"Nueva Zelanda\",\"Espa\\u00f1a\",\"Ucrania\",\"Francia\",\"Italia\",\"China\",\"Italia\",\"Estados Unidos\",\"Espa\\u00f1a\",\"Polonia\",\"Estados Unidos\",\"Francia\",\"Filipinas\",\"Egipto\",\"China\",\"Francia\",\"Brasil\",\"Francia\",\"Francia\",\"Australia\",\"India\",\"Turqu\\u00eda\",\"Nigeria\",\"M\\u00e9xico\",\"Per\\u00fa\",\"Rumania\",\"Mozambique\",\"Kazajist\\u00e1n\",\"Portugal\",\"Turkmenist\\u00e1n\",\"Ben\\u00edn\",\"Estados Unidos\",\"Francia\",\"Brasil\",\"Francia\",\"China\",\"Estados Unidos\",\"Espa\\u00f1a\",\"Alemania\",\"China\",\"Estados Unidos\",\"Reino Unido\",\"Polonia\",\"L\\u00edbano\",\"Jap\\u00f3n\",\"Brasil\",\"Estados Unidos\",\"Brasil\",\"China\",\"Dinamarca\",\"Italia\",\"Brasil\",\"Italia\",\"Pakist\\u00e1n\",\"Australia\",\"Brasil\",\"Italia\",\"China\",\"Sud\\u00e1n\",\"Estados Unidos\",\"Tanzania\",\"Alemania\",\"Estados Unidos\",\"Mozambique\",\"Francia\",\"Camer\\u00fan\",\"Alemania\",\"Camer\\u00fan\",\"Italia\",\"Estados Unidos\",\"India\",\"Francia\",\"Alemania\",\"Kazajist\\u00e1n\",\"Reino Unido\",\"Francia\",\"Estados Unidos\",\"Italia\",\"Francia\",\"Estados Unidos\",\"Francia\",\"Pa\\u00edses Bajos\",\"Francia\",\"Reino Unido\",\"Nigeria\",\"Estados Unidos\",\"Estados Unidos\",\"China\",\"India\",\"Zambia\",\"China\",\"Pa\\u00edses Bajos\",\"Brasil\",\"China\",\"Espa\\u00f1a\",\"Bolivia\",\"Estados Unidos\",\"China\",\"Uganda\",\"Rusia\",\"Canada\",\"Pa\\u00edses Bajos\",\"Argentina\",\"Brasil\",\"Estados Unidos\",\"Estados Unidos\",\"Estados Unidos\",\"Francia\",\"Italia\",\"India\",\"Venezuela\",\"India\",\"Turqu\\u00eda\",\"Nigeria\",\"Estados Unidos\",\"Reino Unido\",\"Venezuela\",\"China\",\"Estados Unidos\",\"Reino Unido\",\"Pa\\u00edses Bajos\",\"Ir\\u00e1n\",\"China\",\"Estados Unidos\",\"Estados Unidos\",\"Francia\",\"Francia\",\"Italia\",\"Guyana\",\"Estados Unidos\",\"Reino Unido\",\"Austria\",\"China\",\"Rusia\",\"India\",\"SudAfrica\",\"Espa\\u00f1a\",\"Espa\\u00f1a\",\"Reino Unido\",\"Turqu\\u00eda\",\"Francia\",\"India\",\"Vietnam\",\"Alemania\",\"Estados Unidos\",\"Colombia\",\"M\\u00e9xico\",\"Argentina\",\"Suecia\",\"Namibia\",\"India\",\"Jap\\u00f3n\",\"China\",\"Estados Unidos\",\"Francia\",\"Israel\",\"Francia\",\"Estados Unidos\",\"Argelia\",\"Nigeria\",\"China\",\"SudAfrica\",\"Brasil\",\"India\",\"Ir\\u00e1n\",\"SudAfrica\",\"Brasil\",\"Rusia\",\"Turqu\\u00eda\",\"Jap\\u00f3n\",\"SudAfrica\",\"Lesoto\",\"Francia\",\"Luxemburgo\",\"Estados Unidos\",\"Francia\",\"Estados Unidos\",\"China\",\"Turqu\\u00eda\",\"Ir\\u00e1n\",\"Francia\",\"Estados Unidos\",\"Francia\",\"Turqu\\u00eda\",\"Francia\",\"Francia\",\"Brasil\",\"Irlanda\",\"Reino Unido\",\"Estados Unidos\",\"Egipto\",\"Colombia\",\"Reino Unido\",\"Estados Unidos\",\"Venezuela\",\"Colombia\",\"China\",\"Hungr\\u00eda\",\"Francia\",\"Francia\",\"China\",\"Rep\\u00fablica Democr\\u00e1tica del Congo\",\"M\\u00e9xico\",\"Pa\\u00edses Bajos\",\"China\",\"Estados Unidos\",\"Noruega\",\"Alemania\",\"Reino Unido\",\"Banglad\\u00e9s\",\"Emiratos \\u00c1rabes Unidos\",\"Brasil\",\"Estados Unidos\",\"Brasil\",\"Jap\\u00f3n\",\"Estados Unidos\",\"India\",\"Sri Lanka\",\"Canada\",\"Australia\",\"Israel\",\"M\\u00e9xico\",\"Jap\\u00f3n\",\"Francia\",\"India\",\"China\",\"M\\u00e9xico\",\"India\",\"Rumania\",\"Tanzania\",\"Argelia\",\"Albania\",\"India\",\"Turqu\\u00eda\",\"Lituania\",\"Estados Unidos\",\"Polonia\",\"Estados Unidos\",\"Brasil\",\"Estados Unidos\",\"China\",\"Italia\",\"Etiop\\u00eda\",\"M\\u00e9xico\",\"Lituania\",\"Ecuador\",\"Italia\",\"Estados Unidos\",\"M\\u00e9xico\",\"Argentina\",\"Francia\",\"Estados Unidos\",\"Italia\",\"Brasil\",\"India\",\"Colombia\",\"Francia\",\"Pa\\u00edses Bajos\",\"SudAfrica\",\"Alemania\",\"Francia\",\"Rep\\u00fablica Democr\\u00e1tica del Congo\",\"Rumania\",\"Polonia\",\"India\",\"China\",\"Estados Unidos\",\"Pakist\\u00e1n\",\"Estados Unidos\",\"Brasil\",\"Afganist\\u00e1n\",\"Venezuela\",\"Brasil\",\"China\",\"Francia\",\"Francia\",\"Francia\",\"Togo\",\"Canada\",\"Italia\",\"Pa\\u00edses Bajos\",\"Panam\\u00e1\",\"Francia\",\"China\",\"China\",\"China\",\"Francia\",\"Estados Unidos\",\"Francia\",\"Estados Unidos\",\"Alemania\",\"Nueva Zelanda\",\"Francia\",\"Cuba\",\"China\",\"Alemania\",\"SudAfrica\",\"Mali\",\"Arabia Saud\\u00ed\",\"Francia\",\"Rusia\",\"Australia\",\"Francia\",\"Estados Unidos\",\"Jap\\u00f3n\",\"Estados Unidos\",\"Italia\",\"Francia\",\"Ucrania\",\"Turqu\\u00eda\",\"Pa\\u00edses Bajos\",\"Estados Unidos\",\"Brasil\",\"Turqu\\u00eda\",\"China\",\"Reino Unido\",\"Espa\\u00f1a\",\"M\\u00e9xico\",\"Turqu\\u00eda\",\"M\\u00e9xico\",\"Estados Unidos\",\"Francia\",\"Italia\",\"Estados Unidos\",\"Francia\",\"Kazajist\\u00e1n\",\"Italia\",\"Chile\",\"Estados Unidos\",\"Espa\\u00f1a\",\"Alemania\",\"Brasil\",\"Indonesia\",\"Estados Unidos\",\"Brasil\",\"Alemania\",\"Albania\",\"Francia\",\"Francia\",\"Francia\",\"Francia\",\"Estados Unidos\",\"Venezuela\",\"Alemania\",\"Kirguist\\u00e1n\",\"Estados Unidos\",\"Francia\",\"India\",\"Croacia\",\"Zambia\",\"Ben\\u00edn\",\"Estados Unidos\",\"Alemania\",\"Ucrania\",\"Estados Unidos\",\"Estados Unidos\",\"Chile\",\"Pa\\u00edses Bajos\",\"Francia\",\"Espa\\u00f1a\",\"Francia\",\"Reino Unido\",\"Argelia\",\"Francia\",\"Brasil\",\"Francia\",\"Estados Unidos\",\"India\",\"Alemania\",\"Camer\\u00fan\",\"Francia\",\"Brasil\",\"India\",\"Pa\\u00edses Bajos\",\"Ir\\u00e1n\",\"Brasil\",\"Estados Unidos\",\"Estados Unidos\",\"Estados Unidos\",\"India\",\"Brasil\",\"Francia\",\"Estados Unidos\",\"Zimbabue\",\"Canada\",\"SudAfrica\",\"China\",\"Francia\",\"China\",\"Colombia\",\"M\\u00e9xico\",\"Jap\\u00f3n\",\"Estados Unidos\",\"Turqu\\u00eda\",\"China\",\"Estados Unidos\",\"Australia\",\"Francia\",\"Irak\",\"Pa\\u00edses Bajos\",\"B\\u00e9lgica\",\"Francia\",\"China\",\"Italia\",\"Italia\",\"Estados Unidos\",\"Suiza\",\"Pa\\u00edses Bajos\",\"Chipre\",\"Venezuela\",\"Turqu\\u00eda\",\"Colombia\",\"Estados Unidos\",\"Estados Unidos\",\"Argentina\",\"Brasil\",\"Reino Unido\",\"Francia\",\"Turqu\\u00eda\",\"Francia\",\"Gab\\u00f3n\",\"Francia\",\"Brasil\",\"Estados Unidos\",\"Uruguay\",\"Colombia\",\"Estados Unidos\",\"Estados Unidos\",\"Francia\",\"Estados Unidos\",\"Rusia\",\"Rumania\",\"Sud\\u00e1n\",\"Nigeria\",\"Finlandia\",\"Alemania\",\"Ir\\u00e1n\",\"Francia\",\"Estados Unidos\",\"Francia\",\"India\",\"Estados Unidos\",\"Italia\",\"Reino Unido\",\"Reino Unido\",\"India\",\"Rumania\",\"Turqu\\u00eda\",\"Estados Unidos\",\"China\",\"Brasil\",\"Estados Unidos\",\"Emiratos \\u00c1rabes Unidos\",\"Rusia\",\"Reino Unido\",\"Zambia\",\"Estados Unidos\",\"Pa\\u00edses Bajos\",\"Estados Unidos\",\"Banglad\\u00e9s\",\"Francia\",\"Colombia\",\"Irak\",\"Rusia\",\"Estados Unidos\",\"Estados Unidos\",\"Brasil\",\"Ir\\u00e1n\",\"Estados Unidos\",\"Italia\",\"Colombia\",\"Brasil\",\"Brasil\",\"Alemania\",\"China\",\"Rumania\",\"Turqu\\u00eda\",\"Brasil\",\"Argentina\",\"Francia\",\"N\\u00edger\",\"Nueva Zelanda\",\"Turqu\\u00eda\",\"Canada\",\"Rumania\",\"Reino Unido\",\"Estados Unidos\",\"Estados Unidos\",\"Burkina Faso\",\"India\",\"Suecia\",\"China\",\"Francia\",\"Indonesia\",\"Chile\",\"B\\u00e9lgica\",\"China\",\"Italia\",\"Estados Unidos\",\"China\",\"India\",\"Pa\\u00edses Bajos\",\"Indonesia\",\"Albania\",\"China\",\"Corea del Sur\",\"Estados Unidos\",\"China\",\"Francia\",\"Zambia\",\"India\",\"Eslovaquia\",\"Rep\\u00fablica Democr\\u00e1tica del Congo\",\"Francia\",\"Estados Unidos\",\"Estados Unidos\",\"Francia\",\"Estados Unidos\",\"Estados Unidos\",\"Estados Unidos\",\"Espa\\u00f1a\",\"Per\\u00fa\",\"Estados Unidos\",\"Brasil\",\"Ghana\",\"B\\u00e9lgica\",\"Polonia\",\"Estados Unidos\",\"Turqu\\u00eda\",\"Costa de Marfil\",\"Pa\\u00edses Bajos\",\"Colombia\",\"Croacia\",\"China\",\"Estados Unidos\",\"Jap\\u00f3n\",\"Camer\\u00fan\",\"Argelia\",\"Colombia\",\"Jap\\u00f3n\",\"SudAfrica\",\"Portugal\",\"Brasil\",\"Brasil\",\"Ucrania\",\"Indonesia\",\"Uruguay\",\"China\",\"India\",\"Egipto\",\"Estados Unidos\",\"India\",\"Francia\",\"India\",\"Francia\",\"Turqu\\u00eda\",\"Jap\\u00f3n\",\"Estados Unidos\",\"Nigeria\",\"Reino Unido\",\"Estados Unidos\",\"China\",\"Alemania\",\"Brasil\",\"Estados Unidos\",\"Italia\",\"China\",\"Sierra Leona\",\"Colombia\",\"Canada\",\"Malasia\",\"China\",\"Estados Unidos\",\"Estados Unidos\",\"Alemania\",\"Egipto\",\"Francia\",\"Chile\",\"Francia\",\"Estados Unidos\",\"China\",\"Brasil\",\"SudAfrica\",\"China\",\"Ucrania\",\"Estados Unidos\",\"India\",\"China\",\"Brasil\",\"Estados Unidos\",\"Italia\",\"Brasil\",\"Suazilandia\",\"Francia\",\"Filipinas\",\"Guinea\",\"Argelia\",\"Estados Unidos\",\"Brasil\",\"Israel\",\"China\",\"Estados Unidos\",\"Ir\\u00e1n\",\"Colombia\",\"Venezuela\",\"Turqu\\u00eda\",\"Ucrania\",\"Estados Unidos\",\"M\\u00e9xico\",\"Bielorrusia\",\"Ir\\u00e1n\",\"Estados Unidos\",\"Espa\\u00f1a\",\"Hong Kong\",\"Espa\\u00f1a\",\"Libia\",\"Reino Unido\",\"Estados Unidos\",\"Estados Unidos\",\"Alemania\",\"Brasil\",\"Zimbabue\",\"Jap\\u00f3n\",\"Italia\",\"China\",\"Costa de Marfil\",\"Italia\",\"Francia\",\"Estados Unidos\",\"Jap\\u00f3n\",\"Estados Unidos\",\"Reino Unido\",\"India\",\"Australia\",\"B\\u00e9lgica\",\"Guinea\",\"M\\u00e9xico\",\"China\",\"Marruecos\",\"Per\\u00fa\",\"Uzbekist\\u00e1n\",\"Francia\",\"Brasil\",\"Alemania\",\"Turqu\\u00eda\",\"Espa\\u00f1a\",\"Reino Unido\",\"Estados Unidos\",\"Australia\",\"Ir\\u00e1n\",\"Estados Unidos\",\"Brasil\",\"China\",\"Ucrania\",\"Estados Unidos\",\"Angola\",\"Francia\",\"Rusia\",\"Brasil\",\"Ecuador\",\"China\",\"Estados Unidos\",\"Indonesia\",\"Rumania\",\"Brasil\",\"Brasil\",\"Mozambique\",\"China\",\"Francia\",\"Ucrania\",\"Brasil\",\"Turqu\\u00eda\",\"Nigeria\",\"Egipto\",\"China\",\"Espa\\u00f1a\",\"Kazajist\\u00e1n\",\"Ir\\u00e1n\",\"Camer\\u00fan\",\"China\",\"M\\u00e9xico\",\"Dinamarca\",\"Espa\\u00f1a\",\"Chile\",\"Brasil\",\"Reino Unido\",\"Estados Unidos\",\"China\",\"Alemania\",\"Ucrania\",\"Estados Unidos\",\"Venezuela\",\"Francia\",\"Egipto\",\"Angola\",\"Estados Unidos\",\"Rusia\",\"Francia\",\"Italia\",\"Portugal\",\"Brasil\",\"Estados Unidos\",\"Turqu\\u00eda\",\"Reino Unido\",\"Rusia\",\"Jap\\u00f3n\",\"Noruega\",\"Reino Unido\",\"Canada\",\"Brasil\",\"Uzbekist\\u00e1n\",\"Guatemala\",\"Francia\",\"Reino Unido\",\"Estados Unidos\",\"Chile\",\"Estados Unidos\",\"Estados Unidos\",\"Francia\",\"Rep\\u00fablica Checa\",\"Alemania\",\"Estados Unidos\",\"Corea del Sur\",\"India\",\"Brasil\",\"Jap\\u00f3n\",\"India\",\"China\",\"Turqu\\u00eda\",\"Albania\",\"Alemania\",\"Francia\",\"Francia\",\"Estados Unidos\",\"M\\u00e9xico\",\"Reino Unido\",\"Francia\",\"Guatemala\",\"China\",\"Turqu\\u00eda\",\"China\",\"Venezuela\",\"Argentina\",\"Marruecos\",\"Estados Unidos\",\"B\\u00e9lgica\",\"China\",\"Colombia\",\"Brasil\",\"Estados Unidos\",\"Marruecos\",\"Turqu\\u00eda\",\"Nigeria\",\"China\",\"Francia\",\"Francia\",\"Estados Unidos\",\"Madagascar\",\"China\",\"Argentina\",\"Alemania\",\"Reino Unido\",\"Paraguay\",\"Estados Unidos\",\"Suiza\",\"Rep\\u00fablica Dominicana\",\"Espa\\u00f1a\",\"China\",\"M\\u00e9xico\",\"Turqu\\u00eda\",\"Reino Unido\",\"Om\\u00e1n\",\"Estados Unidos\",\"Kazajist\\u00e1n\",\"Per\\u00fa\",\"Rumania\",\"China\",\"China\",\"Egipto\",\"Italia\",\"Reino Unido\",\"Reino Unido\",\"Marruecos\",\"Estados Unidos\",\"India\",\"Estados Unidos\",\"Estados Unidos\",\"Canada\",\"Marruecos\",\"Francia\",\"Estados Unidos\",\"China\",\"Francia\",\"Estados Unidos\",\"China\",\"Estados Unidos\",\"M\\u00e9xico\",\"Alemania\",\"Francia\",\"Ucrania\",\"Estados Unidos\",\"Estados Unidos\",\"Ir\\u00e1n\",\"Francia\",\"SudAfrica\",\"Ucrania\",\"Alemania\",\"SudAfrica\",\"Brasil\",\"Rep\\u00fablica Checa\",\"Costa Rica\",\"Estados Unidos\",\"Estados Unidos\",\"Per\\u00fa\",\"Brasil\",\"Francia\",\"Venezuela\",\"Estados Unidos\",\"Ben\\u00edn\",\"Reino Unido\",\"Jap\\u00f3n\",\"Macedonia\",\"Brasil\",\"Francia\",\"Colombia\",\"Francia\",\"Canada\",\"Estados Unidos\",\"Tayikist\\u00e1n\",\"China\",\"China\",\"China\",\"Estados Unidos\",\"Per\\u00fa\",\"Estados Unidos\",\"Estados Unidos\",\"Francia\",\"Chile\",\"Irlanda\",\"Estados Unidos\",\"Reino Unido\",\"Brasil\",\"Ir\\u00e1n\",\"Kazajist\\u00e1n\",\"Brasil\",\"Ucrania\",\"Tanzania\",\"China\",\"Portugal\",\"Ben\\u00edn\",\"Per\\u00fa\",\"Filipinas\",\"Brasil\",\"B\\u00e9lgica\",\"Chile\",\"Italia\",\"Estados Unidos\",\"Pakist\\u00e1n\",\"Brasil\",\"Estados Unidos\",\"Francia\",\"Egipto\",\"Francia\",\"Canada\",\"Polonia\",\"Bulgaria\",\"China\",\"Estados Unidos\",\"Libia\",\"Marruecos\",\"Estados Unidos\",\"China\",\"Camer\\u00fan\",\"Suecia\",\"Estados Unidos\",\"Pa\\u00edses Bajos\",\"Espa\\u00f1a\",\"China\",\"Italia\",\"Estados Unidos\",\"Italia\",\"Brasil\",\"Rep\\u00fablica Democr\\u00e1tica del Congo\",\"Turqu\\u00eda\",\"M\\u00e9xico\",\"Estados Unidos\",\"China\",\"Turqu\\u00eda\",\"Francia\",\"Estados Unidos\",\"Estados Unidos\",\"Alemania\",\"China\",\"Estados Unidos\",\"Italia\",\"Alemania\",\"M\\u00e9xico\",\"Rep\\u00fablica del Congo\",\"Brasil\",\"Estados Unidos\",\"Turqu\\u00eda\",\"Pa\\u00edses Bajos\",\"Estados Unidos\",\"Estados Unidos\",\"Sud\\u00e1n del Sur\",\"Francia\",\"Portugal\",\"Brasil\",\"Estados Unidos\",\"China\",\"Francia\",\"Pa\\u00edses Bajos\",\"Alemania\",\"Reino Unido\",\"Brasil\",\"Alemania\",\"Polonia\",\"N\\u00edger\",\"Turqu\\u00eda\",\"Ucrania\",\"Argentina\",\"India\",\"Brasil\",\"Francia\",\"Francia\",\"China\",\"Francia\",\"Brasil\",\"Estados Unidos\",\"Estados Unidos\",\"Australia\",\"Nigeria\",\"China\",\"L\\u00edbano\",\"Italia\",\"SudAfrica\",\"Estados Unidos\",\"M\\u00e9xico\",\"But\\u00e1n\",\"Canada\",\"Francia\",\"Reino Unido\",\"Estados Unidos\",\"Francia\",\"China\",\"Turqu\\u00eda\",\"Reino Unido\",\"Estados Unidos\",\"Grecia\",\"Estados Unidos\",\"Australia\",\"Zambia\",\"Estados Unidos\",\"Rumania\",\"Eslovaquia\",\"Jap\\u00f3n\",\"Francia\",\"Ucrania\",\"Francia\",\"Nueva Zelanda\",\"Egipto\",\"Estados Unidos\",\"Camer\\u00fan\",\"Croacia\",\"Reino Unido\",\"Canada\",\"Brasil\",\"Turqu\\u00eda\",\"Paraguay\",\"Francia\",\"Espa\\u00f1a\",\"Ir\\u00e1n\",\"India\",\"Francia\",\"Estados Unidos\",\"Brasil\",\"Mozambique\",\"Reino Unido\",\"China\",\"Ucrania\",\"Francia\",\"Francia\",\"Brasil\",\"SudAfrica\",\"Brasil\",\"Alemania\",\"Liberia\",\"Francia\",\"China\",\"Italia\",\"Brasil\",\"China\",\"Estados Unidos\",\"Nueva Zelanda\",\"Reino Unido\",\"Estados Unidos\",\"Brasil\",\"Estados Unidos\",\"Turqu\\u00eda\",\"Reino Unido\",\"Estados Unidos\",\"Chile\",\"Ir\\u00e1n\",\"Brasil\",\"Albania\",\"China\",\"Alemania\",\"Polonia\",\"Estados Unidos\",\"M\\u00e9xico\",\"Espa\\u00f1a\",\"Estados Unidos\",\"Francia\",\"Tailandia\",\"India\",\"China\",\"Argelia\",\"Espa\\u00f1a\",\"Brasil\",\"Polonia\",\"Nueva Zelanda\",\"Francia\",\"India\",\"Brasil\",\"Italia\",\"Estados Unidos\",\"Francia\",\"Francia\",\"Reino Unido\",\"Paraguay\",\"India\",\"M\\u00e9xico\",\"Turqu\\u00eda\",\"Ucrania\",\"Italia\",\"Tanzania\",\"Polonia\",\"China\",\"Francia\",\"Pa\\u00edses Bajos\",\"Estados Unidos\",\"Espa\\u00f1a\",\"Brasil\",\"Ben\\u00edn\",\"Turqu\\u00eda\",\"Estados Unidos\",\"Pa\\u00edses Bajos\",\"Brasil\",\"Estados Unidos\",\"Reino Unido\",\"Rumania\",\"Costa de Marfil\",\"Estados Unidos\",\"Brasil\",\"Alemania\",\"Canada\",\"Pa\\u00edses Bajos\",\"Francia\",\"Estados Unidos\",\"Portugal\",\"Espa\\u00f1a\",\"Francia\",\"Turqu\\u00eda\",\"Ucrania\",\"Israel\",\"Colombia\",\"India\",\"China\",\"Israel\",\"Estados Unidos\",\"Costa de Marfil\",\"Estados Unidos\",\"India\",\"Estados Unidos\",\"Indonesia\",\"Bulgaria\",\"Francia\",\"Francia\",\"Brasil\",\"Alemania\",\"Brasil\",\"Estados Unidos\",\"Italia\",\"China\",\"Brasil\",\"Siria\",\"Brasil\",\"Brasil\",\"Estados Unidos\",\"Estados Unidos\",\"Rusia\",\"Reino Unido\",\"Estados Unidos\",\"Nueva Zelanda\",\"China\",\"Reino Unido\",\"Francia\",\"Reino Unido\",\"Bolivia\",\"India\",\"Estados Unidos\",\"Surinam\",\"Ir\\u00e1n\",\"China\",\"Ir\\u00e1n\",\"Argelia\",\"Estados Unidos\",\"Rusia\",\"Egipto\",\"SudAfrica\",\"China\",\"Brasil\",\"Estados Unidos\",\"Senegal\",\"Alemania\",\"Bar\\u00e9in\",\"Alemania\",\"Ir\\u00e1n\",\"Rep\\u00fablica Checa\",\"Argentina\",\"Marruecos\",\"Brasil\",\"Estados Unidos\",\"Italia\",\"Jap\\u00f3n\",\"Corea del Sur\",\"Bolivia\",\"Estados Unidos\",\"Jap\\u00f3n\",\"Francia\",\"Egipto\",\"Estados Unidos\",\"Ir\\u00e1n\",\"Colombia\",\"Reino Unido\",\"Francia\",\"Argelia\",\"Francia\",\"Francia\",\"Reino Unido\",\"M\\u00e9xico\",\"Jap\\u00f3n\",\"India\",\"India\",\"Colombia\",\"Pa\\u00edses Bajos\",\"Alemania\",\"Bulgaria\",\"China\",\"Rusia\",\"China\",\"Francia\",\"Estados Unidos\",\"Estados Unidos\",\"Reino Unido\",\"China\",\"Francia\",\"Estados Unidos\",\"Madagascar\",\"B\\u00e9lgica\",\"Kuwait\",\"Pa\\u00edses Bajos\",\"Alemania\",\"India\",\"Jap\\u00f3n\",\"India\",\"Alemania\",\"Bosnia y Herzegovina\",\"India\",\"Egipto\",\"Bulgaria\",\"Francia\",\"Italia\",\"Espa\\u00f1a\",\"Canada\",\"Colombia\",\"Francia\",\"Estados Unidos\",\"Tanzania\",\"Reino Unido\",\"Brasil\",\"India\",\"Francia\",\"Estados Unidos\",\"Estados Unidos\",\"Espa\\u00f1a\",\"Argentina\",\"Francia\",\"Estados Unidos\",\"Estados Unidos\",\"Estados Unidos\",\"Venezuela\",\"China\",\"Estados Unidos\",\"China\",\"Italia\",\"India\",\"Bielorrusia\",\"China\",\"Francia\",\"Estados Unidos\",\"Chile\",\"Estados Unidos\",\"Zambia\",\"China\",\"China\",\"Marruecos\",\"Brasil\",\"Francia\",\"India\",\"Francia\",\"Argentina\",\"Francia\",\"Turqu\\u00eda\",\"Francia\",\"Polonia\",\"Canada\",\"Estados Unidos\",\"Francia\",\"Francia\",\"Turqu\\u00eda\",\"Colombia\",\"Tanzania\",\"Rusia\",\"Francia\",\"M\\u00e9xico\",\"Irak\",\"Rumania\",\"India\",\"Bulgaria\",\"Brasil\",\"B\\u00e9lgica\",\"China\",\"Lituania\",\"Ecuador\",\"Rep\\u00fablica Checa\",\"Estados Unidos\",\"Brasil\",\"China\",\"Canada\",\"India\",\"Irak\",\"Per\\u00fa\",\"China\",\"Estados Unidos\",\"Reino Unido\",\"Estados Unidos\",\"Francia\",\"China\",\"China\",\"Alemania\",\"Estados Unidos\",\"Estados Unidos\",\"Francia\",\"Estados Unidos\",\"Estados Unidos\",\"Kazajist\\u00e1n\",\"Bulgaria\",\"Canada\",\"Francia\",\"Guinea Ecuatorial\",\"Canada\",\"China\",\"Jap\\u00f3n\",\"Estados Unidos\",\"Brasil\",\"Marruecos\",\"Turqu\\u00eda\",\"Alemania\",\"Alemania\",\"Italia\",\"Estados Unidos\",\"SudAfrica\",\"Zimbabue\",\"Italia\",\"Reino Unido\",\"Estados Unidos\",\"Jap\\u00f3n\",\"Francia\",\"Rumania\",\"Tanzania\",\"Canada\",\"Turqu\\u00eda\",\"Ir\\u00e1n\",\"Alemania\",\"Francia\",\"Suecia\",\"Estados Unidos\",\"India\",\"Senegal\",\"Estados Unidos\",\"Polonia\",\"Alemania\",\"Colombia\",\"China\",\"Rusia\",\"Eritrea\",\"India\",\"Estados Unidos\",\"Brasil\",\"Brasil\",\"Jap\\u00f3n\",\"Tanzania\",\"India\",\"Yemen\",\"Estados Unidos\",\"Brasil\",\"Turqu\\u00eda\",\"Canada\",\"Brasil\",\"Reino Unido\",\"Bielorrusia\",\"Italia\",\"Alemania\",\"Estados Unidos\",\"Estados Unidos\",\"Brasil\",\"Brasil\",\"Francia\",\"Suecia\",\"Estados Unidos\",\"China\",\"M\\u00e9xico\",\"Francia\",\"China\",\"Sud\\u00e1n\",\"Francia\",\"Kenia\",\"Brasil\",\"Laos\",\"Venezuela\",\"India\",\"Estados Unidos\",\"Francia\",\"China\",\"Canada\",\"Estados Unidos\",\"Argelia\",\"Filipinas\",\"Banglad\\u00e9s\",\"Francia\",\"Estados Unidos\",\"Mali\",\"Finlandia\",\"Estados Unidos\",\"Estados Unidos\",\"Estados Unidos\",\"Reino Unido\",\"Jap\\u00f3n\",\"Francia\",\"Francia\",\"Jap\\u00f3n\",\"Sierra Leona\",\"Ir\\u00e1n\",\"Ucrania\",\"Tanzania\",\"China\",\"Polonia\",\"Italia\",\"Burundi\",\"Irak\",\"Estados Unidos\",\"Turqu\\u00eda\",\"Estados Unidos\",\"Turqu\\u00eda\",\"Brasil\",\"Estados Unidos\",\"Bielorrusia\",\"Ben\\u00edn\",\"China\",\"Polonia\",\"Ir\\u00e1n\",\"Brasil\",\"Ir\\u00e1n\",\"Brasil\",\"China\",\"Bulgaria\",\"Suecia\",\"Espa\\u00f1a\",\"Ir\\u00e1n\",\"Filipinas\",\"Francia\",\"Canada\",\"Ucrania\",\"Togo\",\"Reino Unido\",\"Angola\",\"Kenia\",\"Estados Unidos\",\"Turqu\\u00eda\",\"Egipto\",\"India\",\"Colombia\",\"Austria\",\"Italia\",\"Francia\",\"Brasil\",\"SudAfrica\",\"Venezuela\",\"Camer\\u00fan\",\"Francia\",\"Brasil\",\"Brasil\",\"China\",\"Jap\\u00f3n\",\"Argentina\",\"Brasil\",\"Venezuela\",\"India\",\"China\",\"Estados Unidos\",\"Brasil\",\"Israel\",\"Ir\\u00e1n\",\"Espa\\u00f1a\",\"Filipinas\",\"Reino Unido\",\"Estados Unidos\",\"Francia\",\"Brasil\",\"Francia\",\"Estados Unidos\",\"Estados Unidos\",\"Camer\\u00fan\",\"Rusia\",\"Turqu\\u00eda\",\"Brasil\",\"Alemania\",\"Estados Unidos\",\"Dinamarca\",\"Italia\",\"Macedonia\",\"Brasil\",\"Canada\",\"Italia\",\"Alemania\",\"Ir\\u00e1n\",\"SudAfrica\",\"Italia\",\"Francia\",\"Mozambique\",\"Ir\\u00e1n\",\"Brasil\",\"Brasil\",\"Francia\",\"Turqu\\u00eda\",\"Togo\",\"Brasil\",\"Brasil\",\"Estonia\",\"Indonesia\",\"Jap\\u00f3n\",\"Estados Unidos\",\"Estados Unidos\",\"Ir\\u00e1n\",\"Espa\\u00f1a\",\"China\",\"Jap\\u00f3n\",\"SudAfrica\",\"India\",\"Australia\",\"Nigeria\",\"China\",\"Reino Unido\",\"Francia\",\"Estados Unidos\",\"Brasil\",\"Armenia\",\"China\",\"Serbia\",\"Paraguay\",\"Brasil\",\"India\",\"Nigeria\",\"Francia\",\"Estados Unidos\",\"China\",\"Eslovaquia\",\"Indonesia\",\"Estados Unidos\",\"Ir\\u00e1n\",\"India\",\"Bulgaria\",\"Argentina\",\"Nigeria\",\"Turqu\\u00eda\",\"Zambia\",\"Brasil\",\"Francia\",\"Brasil\",\"Jap\\u00f3n\",\"SudAfrica\",\"M\\u00e9xico\",\"SudAfrica\",\"Estados Unidos\",\"Estados Unidos\",\"Estados Unidos\",\"Marruecos\",\"Italia\",\"Francia\",\"Estados Unidos\",\"Egipto\",\"Egipto\",\"Jap\\u00f3n\",\"Francia\",\"Rumania\",\"Hungr\\u00eda\",\"Estados Unidos\",\"India\",\"Estados Unidos\",\"Rep\\u00fablica Democr\\u00e1tica del Congo\",\"Ir\\u00e1n\",\"Eslovenia\",\"China\",\"Brasil\",\"Pa\\u00edses Bajos\",\"Per\\u00fa\",\"Espa\\u00f1a\",\"Nueva Zelanda\",\"Francia\",\"Brasil\",\"Estados Unidos\",\"Italia\",\"Zimbabue\",\"Lituania\",\"Reino Unido\",\"Francia\",\"Italia\",\"Estados Unidos\",\"Pa\\u00edses Bajos\",\"Pa\\u00edses Bajos\",\"China\",\"Francia\",\"Sierra Leona\",\"Francia\",\"Estados Unidos\",\"Per\\u00fa\",\"Estados Unidos\",\"Francia\",\"Bielorrusia\",\"Estados Unidos\",\"Estados Unidos\",\"Brasil\",\"Estados Unidos\",\"Rumania\",\"China\",\"Ucrania\",\"Estonia\",\"China\",\"Brasil\",\"China\",\"Francia\",\"Rep\\u00fablica Democr\\u00e1tica del Congo\",\"Austria\",\"Venezuela\",\"Estados Unidos\",\"Kazajist\\u00e1n\",\"Jap\\u00f3n\",\"Estados Unidos\",\"Italia\",\"China\",\"India\",\"Francia\",\"Pakist\\u00e1n\",\"Bosnia y Herzegovina\",\"India\",\"Rumania\",\"China\",\"Egipto\",\"Francia\",\"Estados Unidos\",\"Camer\\u00fan\",\"Estados Unidos\",\"Reino Unido\",\"Estados Unidos\",\"Francia\",\"China\",\"Suecia\",\"Brasil\",\"Turqu\\u00eda\",\"Estados Unidos\",\"Turqu\\u00eda\",\"Francia\",\"Polonia\",\"Brasil\",\"Brasil\",\"Per\\u00fa\",\"Ruanda\",\"Turqu\\u00eda\",\"Francia\",\"Estados Unidos\",\"Rusia\",\"SudAfrica\",\"Egipto\",\"Rumania\",\"Estados Unidos\",\"Brasil\",\"Liberia\",\"Reino Unido\",\"Reino Unido\",\"Reino Unido\",\"Rusia\",\"Chile\",\"Francia\",\"Estados Unidos\",\"Reino Unido\",\"Francia\",\"Estados Unidos\",\"Tanzania\",\"Turqu\\u00eda\",\"Italia\",\"M\\u00e9xico\",\"S\\u00e1hara Occidental\",\"Alemania\",\"Rumania\",\"Portugal\",\"Indonesia\",\"China\",\"Brasil\",\"China\",\"Rep\\u00fablica Democr\\u00e1tica del Congo\",\"SudAfrica\",\"Estados Unidos\",\"Madagascar\",\"Estados Unidos\",\"Venezuela\",\"Zambia\",\"Argelia\",\"China\",\"Pa\\u00edses Bajos\",\"Francia\",\"Estados Unidos\",\"Estados Unidos\",\"Estados Unidos\",\"Espa\\u00f1a\",\"Estados Unidos\",\"China\",\"Indonesia\",\"Reino Unido\",\"Reino Unido\",\"China\",\"China\",\"Estados Unidos\",\"B\\u00e9lgica\",\"Pa\\u00edses Bajos\",\"Marruecos\",\"Turqu\\u00eda\",\"Polonia\",\"China\",\"Estados Unidos\",\"Estados Unidos\",\"Estados Unidos\",\"Turqu\\u00eda\",\"Italia\",\"Colombia\",\"Francia\",\"Per\\u00fa\",\"Camer\\u00fan\",\"Ecuador\",\"China\",\"Brasil\",\"Espa\\u00f1a\",\"Brasil\",\"Estados Unidos\",\"Egipto\",\"Estados Unidos\",\"India\",\"Rusia\",\"Argentina\",\"SudAfrica\",\"China\",\"Turqu\\u00eda\",\"China\",\"SudAfrica\",\"Uzbekist\\u00e1n\",\"Italia\",\"Brasil\",\"Argentina\",\"Ucrania\",\"Venezuela\",\"Turqu\\u00eda\",\"China\",\"Mali\",\"Italia\",\"Rusia\",\"Jap\\u00f3n\",\"Ucrania\",\"B\\u00e9lgica\",\"Argelia\",\"Mozambique\",\"Alemania\",\"Bulgaria\",\"China\",\"China\",\"Estados Unidos\",\"Ir\\u00e1n\",\"Alemania\",\"Estados Unidos\",\"Estados Unidos\",\"Reino Unido\",\"Ucrania\",\"Alemania\",\"Chile\",\"Francia\",\"M\\u00e9xico\",\"Reino Unido\",\"Bielorrusia\",\"Ir\\u00e1n\",\"Francia\",\"Jordania\",\"Colombia\",\"Rusia\",\"Estados Unidos\",\"Estados Unidos\",\"Estados Unidos\",\"Francia\",\"Reino Unido\",\"Espa\\u00f1a\",\"Estados Unidos\",\"Australia\",\"Turqu\\u00eda\",\"Australia\",\"Francia\",\"Brasil\",\"Brasil\",\"Rumania\",\"Jap\\u00f3n\",\"Estados Unidos\",\"Francia\",\"Rep\\u00fablica Democr\\u00e1tica del Congo\",\"Marruecos\",\"India\",\"Egipto\",\"Brasil\",\"Estados Unidos\",\"Croacia\",\"Chile\",\"Yemen\",\"Estados Unidos\",\"Nueva Zelanda\",\"India\",\"Madagascar\",\"Reino Unido\",\"Bolivia\",\"Alemania\",\"Estados Unidos\",\"Francia\",\"Francia\",\"Francia\",\"Brasil\",\"Francia\",\"Brasil\",\"Espa\\u00f1a\",\"Alemania\",\"M\\u00e9xico\",\"Turqu\\u00eda\",\"China\",\"Jap\\u00f3n\",\"Sud\\u00e1n\",\"Malasia\",\"B\\u00e9lgica\",\"Alemania\",\"Estados Unidos\",\"Estados Unidos\",\"India\",\"Costa de Marfil\",\"Nigeria\",\"Estados Unidos\",\"Italia\",\"Estados Unidos\",\"Turqu\\u00eda\",\"Filipinas\",\"Alemania\",\"Moldavia\",\"Alemania\",\"Francia\",\"Italia\",\"Camer\\u00fan\",\"India\",\"India\",\"Ucrania\",\"Pa\\u00edses Bajos\",\"India\",\"Estados Unidos\",\"Francia\",\"Corea del Sur\",\"Ir\\u00e1n\",\"Vietnam\",\"China\",\"Nigeria\",\"SudAfrica\",\"Francia\",\"Canada\",\"Tanzania\",\"Indonesia\",\"Ucrania\",\"Polonia\",\"Francia\",\"Argentina\",\"Estados Unidos\",\"Brasil\",\"Estados Unidos\",\"Estados Unidos\",\"China\",\"Banglad\\u00e9s\",\"Jap\\u00f3n\",\"Rumania\",\"Reino Unido\",\"Tanzania\",\"China\",\"Venezuela\",\"Turqu\\u00eda\",\"Estados Unidos\",\"Espa\\u00f1a\",\"Estados Unidos\",\"Jap\\u00f3n\",\"Francia\",\"Espa\\u00f1a\",\"Turqu\\u00eda\",\"Francia\",\"Tanzania\",\"Brasil\",\"Brasil\",\"Francia\",\"Estados Unidos\",\"Brasil\",\"Argentina\",\"Jap\\u00f3n\",\"Suecia\",\"Rep\\u00fablica Dominicana\",\"Brasil\",\"Estados Unidos\",\"Francia\",\"Jap\\u00f3n\",\"China\",\"Alemania\",\"Ir\\u00e1n\",\"India\",\"Pa\\u00edses Bajos\",\"Australia\",\"Francia\",\"Israel\",\"Belice\",\"Brasil\",\"Brasil\",\"Argentina\",\"China\",\"Italia\",\"Brasil\",\"Guayana Francesa\",\"Estados Unidos\",\"China\",\"China\",\"Jap\\u00f3n\",\"Brasil\",\"Rep\\u00fablica Checa\",\"B\\u00e9lgica\",\"Francia\",\"M\\u00e9xico\",\"Estados Unidos\",\"Polonia\",\"Brasil\",\"Espa\\u00f1a\",\"Polonia\",\"Estados Unidos\",\"Alemania\",\"Estados Unidos\",\"Francia\",\"Nigeria\",\"Ecuador\",\"Francia\",\"Nigeria\",\"Alemania\",\"Uganda\",\"Ben\\u00edn\",\"China\",\"Rep\\u00fablica de Gambia\",\"Alemania\",\"Estados Unidos\",\"Italia\",\"Italia\",\"Jap\\u00f3n\",\"Chad\",\"Bolivia\",\"Francia\",\"China\",\"Indonesia\",\"Mongolia\",\"Estados Unidos\",\"Italia\",\"India\",\"Italia\",\"Alemania\",\"Reino Unido\",\"Alemania\",\"China\",\"Argentina\",\"China\",\"Italia\",\"Reino Unido\",\"Chile\",\"Australia\",\"Francia\",\"Colombia\",\"Italia\",\"Australia\",\"Estados Unidos\",\"Estados Unidos\",\"Italia\",\"Francia\",\"Ruanda\",\"Jap\\u00f3n\",\"Estados Unidos\",\"Estados Unidos\",\"Francia\",\"China\",\"Reino Unido\",\"Francia\",\"Turqu\\u00eda\",\"Venezuela\",\"Francia\",\"Estados Unidos\",\"Brasil\",\"China\",\"India\",\"Alemania\",\"China\",\"Zambia\",\"China\",\"Alemania\",\"Pa\\u00edses Bajos\",\"Estados Unidos\",\"Espa\\u00f1a\",\"Pa\\u00edses Bajos\",\"Nueva Zelanda\",\"Turqu\\u00eda\",\"Per\\u00fa\",\"Polonia\",\"Estados Unidos\",\"Estados Unidos\",\"Estados Unidos\",\"Colombia\",\"India\",\"Turqu\\u00eda\",\"Canada\",\"Estados Unidos\",\"Estados Unidos\",\"Polonia\",\"Ir\\u00e1n\",\"Francia\",\"Italia\",\"Colombia\",\"Estados Unidos\",\"Estados Unidos\",\"Italia\",\"Argentina\",\"China\",\"Estados Unidos\",\"Argentina\",\"Jap\\u00f3n\",\"Alemania\",\"Francia\",\"Jap\\u00f3n\",\"Brasil\",\"Nigeria\",\"Francia\",\"Zambia\",\"Ucrania\",\"Rusia\",\"Espa\\u00f1a\",\"Estados Unidos\",\"Reino Unido\",\"Australia\",\"Bosnia y Herzegovina\",\"Kazajist\\u00e1n\",\"Israel\",\"Reino Unido\",\"Turqu\\u00eda\",\"Reino Unido\",\"Reino Unido\",\"Colombia\",\"Estados Unidos\",\"Ucrania\",\"Ir\\u00e1n\",\"Brasil\",\"China\",\"China\",\"Brasil\",\"Alemania\",\"Pa\\u00edses Bajos\",\"Australia\",\"Estados Unidos\",\"Nueva Zelanda\",\"Polonia\",\"Australia\",\"Arabia Saud\\u00ed\",\"Francia\",\"Turkmenist\\u00e1n\",\"Francia\",\"Turqu\\u00eda\",\"Estados Unidos\",\"Brasil\",\"Italia\",\"Brasil\",\"Francia\",\"Jap\\u00f3n\",\"Arabia Saud\\u00ed\",\"Venezuela\",\"China\",\"China\",\"Jap\\u00f3n\",\"Estados Unidos\",\"Nueva Zelanda\",\"India\",\"Rusia\",\"Estados Unidos\",\"China\",\"Francia\",\"Ghana\",\"Estados Unidos\",\"China\",\"Brasil\",\"Estados Unidos\",\"Francia\",\"Francia\",\"India\",\"India\",\"Alemania\",\"Estados Unidos\",\"Reino Unido\",\"Estados Unidos\",\"Italia\",\"Espa\\u00f1a\",\"Reino Unido\",\"India\",\"Rusia\",\"Francia\",\"China\",\"India\",\"Francia\",\"China\",\"Vietnam\",\"Italia\",\"Brasil\",\"Estados Unidos\",\"China\",\"Espa\\u00f1a\",\"Francia\",\"SudAfrica\",\"Brasil\",\"Francia\",\"Georgia\",\"Brasil\",\"Jordania\",\"Corea del Sur\",\"Francia\",\"Colombia\",\"Turqu\\u00eda\",\"China\",\"Arabia Saud\\u00ed\",\"Angola\",\"Brasil\",\"Espa\\u00f1a\",\"M\\u00e9xico\",\"Nigeria\",\"China\",\"Rumania\",\"Kenia\",\"Alemania\",\"Estados Unidos\",\"Francia\",\"Alemania\",\"Rusia\",\"Reino Unido\",\"Marruecos\",\"India\",\"Nueva Zelanda\",\"Estados Unidos\",\"Taiw\\u00e1n\",\"Angola\",\"Dinamarca\",\"Marruecos\",\"Australia\",\"Guinea-Bissau\",\"Alemania\",\"India\",\"China\",\"Afganist\\u00e1n\",\"Reino Unido\",\"Italia\",\"Alemania\"],\"name\":\"\",\"z\":[51111.670019226,47889.759868052,40973.640055548996,38014.360024245,34319.950107221,33523.45000921,32281.59999116,31194.520013319998,26661.430046261,26414.899993675,25937.880031669,25519.480004967,23243.620260894,23237.500039629,22552.069922579998,22284.999902476,21554.380039922,21132.100044454,20782.739976634,20755.650093294,19695.110025472,18000.439984895,17899.760061402,17842.569956317,16557.459957359,16426.78005654,16397.909852507,16336.350057013,14916.369985768999,14625.150078974,13848.479959483999,13727.239987567,13688.990039842,13455.679941132,12488.750006934999,12473.060105319999,12366.699907545,12254.079972737,11848.889988220999,11399.469955706,11056.930067052,10950.350011598,10677.010060313,10491.430000913999,10429.329952855,10394.150055185999,10284.309997943,10203.430025319,10135.040041656,10014.039995165,9986.779966871,9951.210077263,9621.310017079,9549.979952754,9325.33996968,9200.170033576,9136.049861731,9026.219993781,8951.340038606,8939.189981874,8874.919973377,8811.040029917,8703.079940598,8666.070058607,8468.439924101,8306.850068305,8160.799996042,8096.650127777,8030.749950005,7865.320008984,7650.319993012,7486.800130873,7384.130075879,7156.510005053,7115.9000276940005,7098.950042575,7067.230082088,6912.050004275,6865.150001322,6856.040031887,6855.340036653,6849.079954524,6735.060006699,6682.770079773,6485.539949121,6470.050076781,6438.469979319,6427.370038117,6343.099958404,6319.7100842,6310.430119628,6292.789980844,6282.340013537,6267.339912763,6225.650006093,6187.81998473,6119.5600103609995,6111.90004566,6091.809966167,6090.589917284,6088.42991538,6073.889939726,6041.050021617,6027.070025311,6013.630035007,5943.33003771,5925.410061628,5842.689967201,5839.199999781999,5814.479978309,5723.840023394,5656.229961669,5597.72007584,5582.42994774,5465.130035276,5415.700016909,5251.930006025,5217.909960534,5208.509978665,5201.570047276,5192.720049168,5182.960024116,5092.139946063,5019.159959557,5003.1500774179995,4987.3999649140005,4986.130048202,4983.650026051,4968.089978435,4942.389969067,4873.030001734,4867.059985271,4853.25001778,4836.3400265,4775.890042825,4771.060055014,4755.170010906,4731.039965394,4730.340023142,4726.9799909779995,4699.880027872,4675.139948274,4630.760040303,4589.319983186,4561.590038495,4550.579986612,4523.519997374,4504.779924923,4501.810024822,4474.589962653,4402.719960227,4397.979965831,4367.269978467,4348.520051614,4339.480013917,4320.159995974,4309.350026929,4305.419971053,4262.389902633,4248.930007117,4248.7999675460005,4245.9100169289995,4209.950006191,4139.779958233999,4114.5799968559995,4090.910009346,4061.580016156,4059.85003289,3994.320015139,3993.3200257999997,3992.990005648,3974.520020157,3969.52003978,3968.229987242,3955.169978876,3910.009998423,3906.560001202,3862.379982021,3860.380014737,3843.060029505,3840.679910233,3834.380079818,3832.389968901,3807.180071371,3795.350005914,3789.480047165,3752.190001181,3744.24001787,3738.510016056,3725.879975886,3708.60000051,3701.859998829,3685.9100187520003,3679.9599965849998,3678.259985072,3668.440021135,3666.89995832,3665.960013499,3653.489974019,3641.240013452,3637.2700247549997,3631.790017679,3622.709993088,3590.899988226,3578.340034428,3572.680022666,3539.640030282,3522.419937282,3505.7499999359998,3478.699974303,3464.649994859,3447.2800095459997,3432.079981435,3427.769994339,3426.249988317,3423.960008963,3418.330092408,3409.249985375,3409.06999553,3408.44999168,3398.249999046,3396.69005839,3382.530030202,3379.270022486,3355.309942391,3349.440000305,3332.3600134559997,3327.270003557,3314.559981867,3292.070063715,3290.979995318,3275.8400287130003,3270.880011507,3262.0800305479997,3243.9999958079998,3242.310019777,3236.130018564,3233.97001245,3233.739944199,3233.509996165,3225.830055089,3223.05999583,3194.7100335200003,3173.569976327,3163.930042372,3157.330078746,3150.230004586,3147.2000113060003,3145.03996686,3143.929981444,3142.520037151,3128.479966243,3121.589982824,3118.339948344,3079.850034407,3074.070016797,3071.269956539,3066.3300162680002,3049.889958822,3035.950007416,3017.880021665,3009.389980854,3001.130006463,2998.07000744,2978.79000706,2978.239994467,2975.080043856,2974.63000826,2974.079989505,2973.969948329,2971.710024352,2962.529987145,2936.989984514,2928.359979141,2925.250036458,2916.110004297,2903.330008445,2897.430014093,2895.460014448,2892.180007054,2891.579965896,2885.17999827,2878.020035077,2872.410010226,2858.469990804,2854.580000844,2848.239968273,2842.170010412,2839.490007289,2802.839996444,2793.609987969,2773.6800215139997,2763.6299996870002,2757.070021129,2748.879983358,2748.080092975,2745.870017808,2742.140018441,2741.260037041,2736.859995651,2723.660009161,2722.149984266,2720.350026767,2718.300012665,2717.620010956,2717.239998697,2709.770007146,2709.740028419,2707.680009306,2704.7199776899997,2689.449996049,2684.909992471,2681.250001131,2664.349960114,2660.6699847669997,2655.739946393,2646.350010684,2639.269993018,2601.340000215,2600.310024491,2596.5200051379998,2585.079995121,2582.1300804569996,2572.860016315,2569.070011582,2568.709990229,2564.359974588,2557.909990699,2544.089988657,2538.52999616,2536.129982388,2527.740019374,2526.060023165,2517.750010377,2510.169997469,2501.690004987,2496.059974297,2494.939995354,2491.189998932,2490.410014905,2489.940011671,2487.3500268149996,2482.660005395,2477.560019823,2474.540013425,2474.120012959,2473.8199876979997,2471.699964496,2468.100021626,2462.970006562,2460.729990633,2460.70998678,2460.140024095,2451.2600083830002,2442.610015034,2439.0600231569997,2436.250009837,2436.030006669,2422.179969087,2419.9599793,2419.169998551,2412.139991355,2407.779997005,2395.859992475,2394.809995728,2389.180020356,2385.980010524,2380.579994532,2370.430043123,2352.600003274,2348.099998021,2345.409986995,2338.160028052,2336.640002537,2335.509986518,2334.330006028,2329.339985221,2328.310003736,2326.509985063,2321.409980399,2307.659999964,2302.89000461,2296.969998075,2293.88997166,2266.17002562,2264.20997832,2261.809976328,2261.510019341,2257.240008096,2253.8400116029998,2253.210006036,2252.979952362,2249.5499820659998,2235.36997424,2232.200050262,2228.309999267,2219.070022492,2215.580009535,2214.130011407,2209.779953022,2207.519985184,2203.920024857,2202.689999256,2200.900012263,2199.2900221,2199.179998257,2198.299983392,2197.9900652819997,2197.420009465,2183.449980062,2177.050014011,2175.569995647,2174.469975747,2171.770034209,2154.549991436,2154.060025189,2150.850008084,2145.230002899,2144.5500455009997,2143.849998884,2139.900007759,2137.999956642,2137.500015448,2132.310002241,2130.70007941,2124.739991933,2121.509997227,2117.070012006,2116.320000787,2109.179989951,2106.51993531,2101.8399785,2099.280005896,2096.660010053,2096.409995759,2091.750002683,2087.050022321,2082.420004825,2079.960007291,2072.690033118,2067.150001964,2065.090022198,2062.420010011,2060.429985682,2060.229966645,2059.740039724,2056.880010556,2052.6399990150003,2048.710012918,2038.450019351,2032.280001652,2031.520028706,2030.95007335,2030.299995746,2029.630024976,2023.4699946189999,2015.7000194149998,2012.750005568,2012.720033346,2012.42998532,2009.230015926,2006.640010009,2004.249998104,2003.370006338,2003.2700062850001,1997.609956228,1994.6100313040001,1986.079981561,1984.379980313,1979.4300063760002,1975.339988495,1974.259995485,1971.070010959,1964.129996402,1962.260022043,1960.5900251829999,1956.78998945,1952.249992318,1948.030023767,1947.980002912,1937.0900121490001,1931.009984072,1929.209963195,1928.770002226,1928.590029331,1928.569998342,1924.870003649,1919.379988285,1916.130023196,1914.819985087,1912.649989144,1912.41999061,1911.589989227,1911.360006468,1910.120010265,1909.159992282,1907.7999902709998,1903.539990401,1898.949997284,1898.2600058189998,1895.2100072859998,1894.349982945,1892.099985999,1889.040027711,1882.279995547,1877.920016656,1867.589988711,1867.549984754,1866.759978993,1863.389991536,1863.09000886,1861.839988336,1860.260012981,1852.1599765279998,1849.479992021,1833.669975522,1833.590012917,1832.8899905790001,1829.389998516,1818.630002608,1818.409981333,1810.130021377,1807.23996689,1806.57001692,1806.070008612,1801.380006312,1799.930012333,1797.969993805,1797.269973679,1793.5400157689999,1792.200009768,1791.0400051469999,1789.989977514,1789.480013284,1788.4899812859999,1783.190008442,1782.69001115,1781.479999827,1780.3100559050001,1776.150020871,1775.190094192,1771.550015455,1770.870031766,1764.540006352,1763.160009338,1760.119977843,1750.320006358,1747.2799974559998,1746.380011667,1744.420029407,1743.350010396,1738.4400202489999,1738.149968443,1737.2400212720001,1733.720033005,1733.160025559,1732.7200414140002,1732.630010503,1728.060011974,1723.160006573,1720.249991103,1719.979990517,1718.3100078969999,1715.92999162,1711.539954566,1706.029965938,1703.190000196,1699.8499867599999,1694.909972257,1693.409963609,1692.720001851,1687.649987062,1686.25001172,1677.3599735359999,1677.340015455,1676.669986805,1676.429971065,1672.410009771,1670.189979397,1668.329980147,1661.610002409,1660.879981393,1659.9399960609999,1658.700028974,1656.410004324,1655.9400157110001,1655.7699669419999,1654.839982216,1653.699983984,1653.1400172449999,1651.770030108,1650.21999262,1646.9300224439999,1646.400018198,1646.240007147,1646.219985776,1645.420005012,1640.910001302,1639.839988785,1639.250021272,1636.300055852,1634.689992596,1634.220016404,1631.999999273,1626.950025831,1623.740014231,1623.460003255,1611.970007877,1608.80002783,1607.709972822,1603.589993863,1601.270008436,1595.750064522,1593.739990617,1593.609983277,1593.090007869,1592.060018574,1591.830006199,1589.079995443,1585.459998769,1579.049993568,1577.069996856,1572.9599762,1572.929974706,1571.269984886,1571.150011821,1568.14000371,1567.3100090720002,1566.499987794,1566.430007916,1563.809992234,1563.6100101799998,1560.6800187889999,1560.680016955,1560.529999313,1549.869975483,1548.240010697,1546.5700000969998,1544.950005214,1543.7200770349998,1543.5499693689999,1540.7400045499999,1537.69000975,1536.820004364,1536.249981956,1532.789979481,1532.500002824,1530.480024857,1524.669988351,1522.889985718,1522.720003862,1522.109992732,1521.060013863,1520.48999594,1511.839977585,1509.949984917,1499.2700034709999,1498.6300191209998,1497.040004552,1497.029963755,1496.600001045,1496.149996561,1494.260000277,1493.520023122,1486.399992276,1483.959999926,1479.600002015,1476.969974502,1474.090003672,1472.9300119400002,1470.15998269,1469.129993669,1468.260003468,1466.8100252539998,1465.080000955,1458.950002562,1456.8100046319998,1455.819987822,1455.529994791,1452.169998472,1451.210003798,1451.169983907,1449.910003843,1449.7899984199998,1443.479996298,1443.429997881,1441.490044696,1438.889986034,1438.77999372,1438.6300215899998,1438.090005637,1435.610020399,1434.679980711,1433.449987866,1432.769999562,1431.0000157949999,1430.939996801,1430.030001785,1429.840002573,1429.060031027,1427.269998545,1426.169999298,1423.229999829,1422.5999875979999,1421.009976717,1420.50002678,1415.8099875320002,1415.099989227,1414.010015014,1412.389964999,1409.579986127,1408.269937064,1407.259991105,1407.0199973879999,1406.709997673,1405.529996432,1404.629974849,1400.619997974,1399.860012234,1398.119996892,1397.090014526,1396.280008321,1395.829966186,1394.569991902,1393.279979316,1392.310011556,1390.3999743489999,1390.040014039,1388.200000396,1387.309997567,1385.339985,1384.029999199,1383.460000035,1382.9400047059999,1378.56000603,1377.710032777,1376.289994223,1371.099977302,1370.139983822,1363.809986368,1362.9399663010001,1361.0399887479998,1360.610006395,1359.9599916260001,1356.109989997,1355.489990242,1352.529994771,1351.750001974,1351.689978958,1351.499999606,1349.810008021,1345.759991847,1340.170005754,1339.519975244,1338.489995,1335.839998751,1335.110006435,1334.169987164,1334.069971769,1331.380010299,1331.049996238,1329.310015193,1328.330005367,1328.329910412,1324.759982763,1324.299999511,1323.6400101489999,1323.19999691,1319.179998973,1318.759984067,1318.6100042369999,1318.470009966,1318.0500091499998,1315.810018511,1313.05000823,1312.90000726,1311.389995082,1311.319989174,1306.4299856419998,1306.429975498,1306.290015312,1305.6799745590001,1305.009991152,1301.7100070459999,1300.29000811,1299.670009638,1298.850015672,1298.339996857,1297.400002602,1291.959994995,1288.220002029,1287.660014108,1287.6099934879999,1286.90999904,1286.450002546,1285.950028355,1285.540029625,1283.270000928,1279.380019648,1278.5700073,1278.030020248,1275.199998836,1271.070006813,1270.950000781,1270.0900862549997,1258.94999853,1258.590010818,1256.139992314,1255.549991556,1253.419987407,1253.1199918739999,1251.009992669,1250.769983883,1247.429967173,1244.409979062,1241.000031797,1239.6700084240001,1239.359987773,1239.3500279309999,1239.000007855,1238.600036688,1238.1700288480001,1235.79001086,1234.510007856,1234.2600021399999,1230.6399849099998,1230.479979957,1230.020010724,1227.7300072,1226.21999267,1225.6599849059999,1225.459989375,1225.269996157,1224.949994199,1223.8699746759999,1222.7499971720001,1222.690011037,1222.110008686,1220.229983881,1219.770032389,1219.220016661,1215.7699869,1214.7599934969999,1214.710002351,1213.449977981,1212.280005014,1211.79003191,1211.209996866,1211.139990833,1208.790005133,1208.750007591,1208.309978026,1207.7500274039999,1207.389979008,1206.83999989,1202.93999317,1198.250001982,1196.8499663910002,1195.900005698,1194.509996895,1194.100006038,1192.16000681,1190.82999063,1189.940001487,1186.49000351,1185.680021248,1185.119996056,1183.959998343,1182.159987487,1181.489989064,1180.659994276,1180.330015851,1178.299993343,1177.030011193,1176.480002396,1174.730007292,1172.280019376,1172.19000726,1170.7199814199998,1165.179986109,1161.500001019,1159.019998626,1158.689990476,1156.43999089,1153.459988681,1150.600001924,1149.78996625,1149.25998589,1148.829993198,1148.050000277,1147.830004541,1146.929989828,1146.84999698,1145.18999959,1143.2599969999999,1142.099984607,1141.360042588,1140.540050815,1137.790000929,1137.430002023,1135.829991759,1135.819998126,1135.120000597,1129.999993997,1128.760022681,1127.3400115929999,1125.890011754,1124.039993217,1123.28998662,1123.160013228,1122.799988053,1122.020005228,1120.5900135499999,1119.740011253,1117.070002216,1116.120004038,1114.270023753,1112.939995687,1111.929992098,1109.929977868,1108.029990893,1105.909985064,1105.4599866800002,1104.110014425,1103.6799765,1096.580002748,1096.229983003,1093.73000776,1093.259989341,1092.079994142,1089.1900185709999,1088.25000595,1087.90000914,1086.869992748,1086.2599840980001,1084.849979933,1084.830016109,1084.799990539,1082.450005045,1082.010003641,1078.450026076,1078.109995593,1076.840003041,1075.4200020170001,1072.089997969,1071.329994705,1068.7600196600001,1068.740001545,1067.8100228209998,1065.049993513,1063.969973776,1062.690006765,1062.390008333,1061.669977349,1060.58999616,1060.369995883,1059.8700028,1056.340041856,1055.940006051,1054.720024826,1053.750013346,1053.730005714,1053.510023235,1053.510003279,1050.289996089,1048.769994761,1046.560031399,1046.229998077,1045.829977963,1045.79999153,1044.189991027,1043.070012798,1042.74998561,1040.879996231,1040.5699585319999,1040.5199911969999,1039.340000386,1038.620008447,1037.83000221,1036.989998599,1036.689997265,1036.549988497,1036.519999383,1036.470007022,1031.73001497,1031.219997432,1031.12999733,1030.070014245,1028.090006405,1027.169953152,1025.839988112,1024.309991832,1024.030030979,1021.869987036,1021.369996331,1020.549995975,1020.100004377,1018.610006429,1017.839996286,1015.199922584,1011.860018642,1011.310004225,1011.280008237,1010.889982367,1010.339994264,1007.2400184469999,1005.1800139769999,1004.660003813,1003.840001981,1002.829992558,1000.880003892,999.7399830479999,999.100004219,999.000006465,998.849995094,998.059992105,997.7200130049999,997.49000125,997.01000023,996.889988918,994.479983559,993.789986529,991.90000597,991.2100262660001,989.36999311,988.16999441,987.21999464,985.510020755,984.4200153820001,983.88000096,982.870018416,981.33004544,979.3700150220001,976.800014251,975.5599776600001,973.640000321,971.179991277,971.089999445,970.240009709,970.1999857769999,968.999995742,966.270027063,966.1600134549999,963.669991398,963.329999996,960.870001269,960.739997947,958.949985977,958.4299991759999,958.2600224750001,956.060010002,954.269987141,950.28000365,949.470016519,948.079997417,947.7000107920001,947.409999782,947.380006343,947.100010519,946.789969978,946.659983604,946.5799894200001,945.96000302,944.50000446,944.0399968849999,942.8900308049999,942.20000363,941.9500017299999,941.740001644,941.0900244479999,940.94000436,939.649986903,937.780004182,937.3000131699999,937.049990747,935.940012875,935.319994365,935.24000547,933.830001257,933.170006332,932.32000729,930.750003303,929.969988348,928.369998048,927.349999713,925.759996085,925.560010971,925.510001322,924.670001133,924.369974175,923.940014699,923.64002037,923.289995316,923.149997093,922.3500156299999,922.06001189,921.9099942099999,917.680001283,917.249998319,917.209996711,916.82998944,913.5899997610001,913.2500108429999,912.10000421,911.589996774,910.0100030799999,909.680020694,908.8400097199999,907.080014246,906.840000636,903.969999341,903.0400196829999,902.840022583,902.3400097690001,901.5999937409999,900.9500208,900.170004858,899.600002252,898.540011309,897.749997602,897.19001505,895.550004515,894.799993602,894.440002405,894.229982405,894.169973407,893.660003754,891.7999906079999,891.3700091029999,891.2899818650001,890.5100088749999,889.9899832269999,888.339991574,886.439982281,885.96000243,885.920001479,884.790004722,883.810015277,883.7599839029998,883.4500089850001,883.269983389,882.409996819,879.74999811,878.579985365,877.73000809,877.4600029339999,877.1200636960001,875.219977554,874.659991307,874.190003905,873.460001379,873.24999712,873.239993488,872.960011487,872.359996961,872.249983431,871.319998769,870.899995674,870.600006806,868.540032599,868.240006918,867.850009395,866.97999741,866.869990726,866.4299893699999,864.7399769269999,864.31001346,864.27000155,864.2500038510001,863.759996872,863.019980462,862.87998954,861.81998668,860.289995954,859.300003033,858.200003166,855.590000635,854.540006449,853.6900163399999,852.979996788,852.5499972749999,852.360000871,852.110008398,850.659996267,850.010024152,849.850011873,848.590003273,846.8900026809999,845.800005528,845.5300107749999,844.7099945279999,842.870012339,842.6699859429999,835.6800237069999,834.949999815,834.019997428,832.570008399,831.340001451,831.019984775,829.889995992,829.389993121,825.990000183,823.3099989990001,821.070006348,821.04000175,820.339997942,820.2800028620001,818.990016904,818.899980607,818.68999584,817.81998734,817.599997329,817.480012947,817.430002447,816.979997744,814.870009419,813.980001939,813.300000555,812.91000358,812.879995613,811.9199924899999,811.509987722,810.429997131,810.110003755,808.62998207,807.759979172,806.060016123,804.8600059519999,803.929988429,803.660013585,803.530001959,801.149998191,799.60000823,798.920041331,798.61000993,796.619980745,796.590007315,796.510002167,796.469995184,796.329999184,796.139996987,795.429996477,793.989982078,792.7999870680001,790.259995925,789.160026739,788.8400005359999,787.220011223,787.050003004,786.5599686,786.119995972,784.95000364,782.939985791,782.349989452,781.6500117979999,781.4999898579999,781.09000443,779.34000396,779.270004431,778.9699955,777.680010107,776.610000175,776.180003162,775.069998702,775.000005581,774.71999743,774.32000354,773.039989838,772.820011648,771.23000696,770.8500060900001,770.089998329,770.07002121,769.95001125,769.000004052,768.149986644,767.799996128,767.439985775,767.349994694,767.13000108,766.0600114,765.790003817,765.3799937460001,763.739997862,763.510035225,762.25001525,762.249992894,761.970004311,760.54999158,760.509999626,760.460030755,759.38999368,756.5700110839999,755.790001355,755.55999518,755.100005894,754.559991167,754.480009998,754.140006773,754.0800237689999,753.949999356,753.789996041,750.500004848,750.470008044,750.349985781,750.119993163,749.929984235,749.689986713,748.9700244559999,747.42000267,747.110014282,746.300002556,746.150006776,746.100017071,743.889996009,743.1899861500001,741.91000551,740.3700037570001,738.079969742,737.8300404119999,737.830002381,737.7299975999999,737.599994706,737.409997725,737.340005878,736.690010179,736.6400241199999,735.730010074,735.289994724,734.549999735,732.330001936,730.03999044,729.6299940160001,728.640004653,727.129997357,725.3299869,724.540001345,722.959998594,722.91001128,722.869994645,722.040000812,720.660002185,720.530006015,720.110022181,719.099991287,718.869996962,718.5599965499999,718.419998785,716.14999268,716.130001032,715.3200303169999,715.05998419,714.7799990650001,714.579998191,714.310004652,714.019990872,713.48999599,713.3800096,710.920005362,709.5899934949999,709.509999535,709.019976603,708.5300053679999,707.210002283,707.039997322,706.7699876519999,706.270001122,705.980004092,705.589996573,705.439966804,705.1299772550001,703.990001134,703.929985077,702.790023024,702.429985955,701.26000982,700.2400045,697.599991378,696.3400090739998,696.270010712,696.260003557,693.67999992,693.349993706,691.340014575,691.330015301,690.889999915,689.8000068399999,689.37999528,687.829999524,687.639997226,687.589978752,685.769999441,685.279996451,685.069990152,684.849998775,684.7300090599999,683.890006615,682.750006067,682.629999202,682.2900012719999,682.14000703,681.58000558,681.3599977599999,680.899987701,680.8500911850001,679.640007687,679.1799987640001,678.3099983779999,677.550001389,677.1700032379999,675.869995945,675.549994395,675.349996344,673.929991267,673.249998529,672.6500491099999,672.540000376,672.26000972,671.940006867,671.3400087,671.18001124,670.4000040139999,670.289997019,669.740004662,668.9299948219999,668.859998741,668.310042909,668.259992613,667.539987601,666.2200026200001,665.4599862389999,665.080005259,664.18999383,663.949998805,661.990001644,661.519990304,661.13000126,661.060009668,660.83000179,660.680021299,660.4099894440001,660.059983723,659.209968082,657.820025265,657.80999772,656.939995544,656.4099980010001,655.630003019,654.179992758,654.019987555,653.259993566,653.209999126,651.9999956639999,650.790007914,647.490011211,646.979963817,646.6500053689999,646.5800144809998,646.430034529,645.589993241,645.389988213,644.81998819,643.64001325,643.050017143,642.870008123,642.159992152,641.2500460229999,641.05999766,640.5100138509999,640.370031106,637.820008776,636.100009707,635.1500344049999,635.040008757,634.809989328,634.530000526,633.90999311,633.4200040110001,632.099999417,631.419992568,629.470022829,628.839977785,628.550005153,628.260010884,627.429999266,627.309993717,627.01997755,626.759988815,626.470017461,626.120007521,625.790008567,625.009989631,624.019996613,622.479994045,621.340005439,621.3200008910001,620.649997002,620.589996648,618.999990601,618.979987627,618.25001186,618.1400015969999,616.7799958969999,616.70001886,615.149990464,615.000012708,614.0199925100001,612.700009863,612.00999644,611.19998788,610.6799988829999,610.5900035029999,609.2999935380001,608.670014384,608.370000836,607.219996985,606.970003697,606.0699868,605.94000245,605.26000576,604.50999786,603.6700039,603.669981141,602.9099868989999,602.750007409,602.149997038,602.090000096,601.160009364,601.05000687,600.36000155,600.270004295,599.119986801,598.7099914649999,598.0799979999999,597.630010161,597.2999731580001,596.7299871319999,596.4800071899999,596.059971667,595.920008212,595.6500031999999,595.31000942,595.1700209779999,594.399991065,593.2900051629999,592.569994097,591.380009621,590.6300030289999,590.600001648,587.2600021319998,585.59999847,585.190000581,583.189994317,582.350008169,582.350003959,582.080003307,581.629987771,581.4200135709999,580.9800107579999,580.939994487,580.899994849,580.88999559,580.780002407,580.20999523,579.48998461,578.150005341,575.720000791,575.249999979,574.999996256,574.990003613,574.900038347,574.12001428,572.68997705,572.02999495,571.540003597,570.699996044,569.490000745,568.73000553,568.350001823,567.669996265,566.62001705,564.6700000999999,564.649983377,563.8100004,563.79999927,562.280012645,561.930016038,560.939995003,560.390006011,560.119993903,559.349996118,559.32999428,559.0300074,558.999989073,558.280005419,557.620004747,557.239995912,556.919997268,556.710004792,556.390010216,556.149987638,556.05000211,555.96000539,554.80999092,554.4999933619999,553.63999563,553.629993428,553.119990376,551.7700164190001,551.370027014,551.230015817,551.189993924,551.060003498,550.109992368,549.57998757,549.350006107,548.149990543,548.03999426,547.440013185,547.370004203,547.190008029,546.8800039719999,546.46999697,546.269993799,546.039983294,545.800009562,545.780006447,544.44000244,543.5700169940001,542.640007273,542.630019417,542.349997531,541.7299995,541.420003359,541.360011548,540.6200246239999,540.480004029,540.3000064619999,540.250008836,539.770000721,538.969990752,538.819998275,536.5399916590001,536.149998942,535.789990732,535.359980672,534.220003636,533.420003416,532.900001313,532.130023504,531.770007239,530.880018314,530.349994457,528.729990002,528.5700406509999,527.31999018,526.779995502,526.7700162689999,526.259995479,525.410003388,525.399995995,525.31999591,523.080000662,521.129993799,519.680002206,519.23999404,519.0799994609999,517.140010841,516.689996942,516.319991155,516.14001081,515.680008417,515.290013295,514.529994809,514.2300103919999,512.669992483,512.459998592,512.369999344,511.6299934000001,511.619983015,511.439997682,510.669994992,508.640001859,508.11000826,507.829997073,507.64001205499994,507.429999868,507.34002626299997,507.06999300999996,506.949992674,505.160000331,505.01000411,504.91000551900004,504.739989328,504.309999948,503.96999557000004,503.78000547,503.05999912100003,503.01999664,502.960000433,502.299992379,501.619983686,501.450010086,501.429990779,501.40999315,501.1900204389999,500.60000085499996,500.469968564,500.209996304,499.87000939,499.430003554,499.32000632,498.949994108,498.85999299,497.71999548,497.29998794300013,497.09000520300003,496.83999921500003,496.710003669,496.520031475,496.409997911,495.65999798,495.21999910600005,494.44999877,492.460007656,492.29997875999993,492.27000044700003,491.870001791,491.00998776999995,490.599995382,490.450005067,489.16999626,488.740005002,488.240008058,487.009992165,486.85999680000003,486.65999981,486.04999073399995,485.85999777,485.78000473000003,485.55999344699995,485.389995859,484.85000136199994,484.83999410399997,484.630001499,484.530015958,484.460002432,483.130002971,481.629991555,481.549999426,481.10999534300004,480.629983887,480.57999453800005,480.450005537,480.3399760830001,480.220026721,480.20000363599996,479.56002784299994,479.500002854,478.970001716,478.160013235,477.03000018200004,476.530002177,475.67999456,472.8199959,472.179999377,471.33998883000004,470.820002089,470.08999732,470.01000214399994,469.30000691799995,469.2699995,469.240006962,469.089995914,467.440003102,466.899992748,466.480002433,466.389998017,466.31000213100003,466.27999304300005,465.949994076,465.790029346,465.580002258,465.38000086299996,465.03999521000003,464.869993416,464.77999269599997,463.190000044,461.159995072,460.689986832,458.979997745,458.94000189800005,458.60000995999997,458.12998681299996,457.74001933,457.679996411,457.480014065,457.47000266099997,457.40999611,457.16000269200003,456.97004128599997,456.499998916,455.81999214,455.66000749,455.62999728,455.249997168,453.710000288,450.19000053,449.850001337,449.440002478,449.37999918,448.78999533900003,448.61000155199997,448.470001752,447.089993095,446.93999670999995,446.409992206,446.37000657,446.290018586,445.72999841000006,445.379999117,445.010009031,444.43998496100005,444.36002440899995,442.799997309,442.62998964,442.579995074,441.700004619,440.84000390999995,439.97999768,439.69999695,438.63993698799993,438.47000792,438.040000727,437.9299979720001,437.60999040900003,437.289997154,436.94998886999997,436.9400053500001,436.76999184,435.35999539500006,435.29000664,435.16000266,435.079999931,434.600001822,434.10000137599997,433.890009474,433.809997501,433.77999019,433.5900146,432.68999728,431.870000389,431.77999216,428.699984632,427.759984489,427.57001878999995,426.98000591899995,426.5200062,425.880007939,425.629979729,425.619993426,425.280002585,424.389995495,424.169988825,424.10000999700003,424.070002949,423.94000204400004,423.240001467,422.29002036199995,422.279990844,421.88999271,421.78999895000004,421.069998486,420.11998561,419.49002529899997,419.019994245,418.14999961,417.589991584,417.52999785,417.450006003,417.35999781,417.2699985,416.92000009,416.550009206,416.289987861,416.07999990999997,415.84000304,415.68000796,415.249994057,414.86999131000005,412.829970761,412.52998783,412.500000684,412.4400105049999,411.240004796,411.08999279,411.07000975200003,411.03000068,410.739996928,410.7199632300001,410.449985084,410.04999446,409.869988176,408.68000314200003,408.59000014000003,408.530005,408.489996942,406.970002162,406.559997081,406.530000096,406.00000762,405.86001820599995,405.51000304,404.659996057,403.56999122,403.42998883,403.309995611,402.539993035,401.93000216,401.769998999,401.27000143,400.890000349,400.54999159,400.4700002310001,400.29999736,400.169998219,399.64000225999996,398.110001455,396.8699976,396.74999622,396.290004668,395.940017673,395.64000512,395.54000141499995,395.16000363,395.12000378,394.299994001,394.20001131799995,394.14000709000004,393.84999271099997,393.469993626,393.299999715,392.240010259,390.77000046,390.50999020800003,390.509969734,390.18998341599996,390.139985475,389.979997886,389.90000532,389.28999711,389.21000288,389.150002446,388.87000491,388.22999669,387.789991399,387.710009085,387.38001039399995,387.19999886,386.80999659,386.720003365,386.23999972,386.17000578,385.890005116,385.77000999699993,385.24000183100003,385.19000338,384.849994158,384.779995483,384.27000045,383.580003871,383.169995291,382.42000676,381.7099610949999,380.52999976,380.529982049,379.95999763400005,379.899998915,379.43000436299997,379.33999164,379.30000018,378.859998731,378.179997444,377.94999933099996,377.719991654,376.93000415,376.929984362,376.56997737800003,376.440004439,376.260019328,376.240021256,375.719989774,375.21000451099997,374.970012224,374.7199834839999,374.650015976,374.610001662,374.150002128,373.68999765,373.459998615,373.279993334,373.139997434,372.220003194,371.849997491,371.84000399,371.229998599,370.979997646,370.37999499,370.179992867,369.740001234,369.52999496,369.50999544,368.21999941,368.04000188000003,367.410005572,367.360002037,367.1599979,367.13001222199995,366.939993574,366.92002251800005,366.859992236,366.699993336,366.659996762,366.440012714,365.999993836,364.53999481799997,363.770004358,363.74998856,363.54000664299997,363.51000210999996,363.18999549899996,362.849998426,362.640005605,362.569994465,361.169994852,360.81999774999997,360.37999344,359.77999869999996,359.59000424600003,359.539993307,359.270000438,358.549999944,358.47999958,358.47999952,358.129993471,357.629986628,357.45999914,356.54999688500004,356.3999939,356.260004,356.13005537,355.37000658799997,355.060007621,353.99000542,353.77000044,353.76000115,353.47999615000003,353.31999708800004,353.230003331,352.7100143,352.47000119999996,352.289979028,352.23000024600003,350.95000077,350.390010375,350.160001103,349.90999791400003,349.750003097,349.740005978,348.87999727,348.84000776000005,347.70000794599997,347.569987208,347.37000662,347.169972854,346.37000435499994,346.05000592,345.47000124,345.230005755,344.95000745,344.740010261,344.550002547,343.96001633000003,343.839996323,343.74999624,343.679996511,343.67999173,342.79000652099995,342.650005844,342.150004567,340.910002004,339.28000449,339.19999606600004,338.760004365,338.54000858,338.179979552,337.490002256,336.92998996700004,336.730006682,336.619993851,336.360000576,335.57998657900004,335.539989214,335.520003341,335.34000782,335.050012962,334.60999393,334.15000153,334.00999833,333.7699967,331.670005099,331.45999529,331.179995786,331.14998522,331.089997328,330.73000527,330.38000007200003,330.359996225,329.51000674299996,329.16998586299997,328.24000549,328.04000091,327.91001025099996,327.570001127,327.410009806,326.349999448,326.289996352,325.659996982,325.610016373,325.34000014,325.309988996,325.25999256,325.150004422,325.080011409,324.710003403,324.51999666,324.449992859,324.2599983,323.18999481000003,323.16000699,322.700000364,321.29998943299995,319.56003131299997,319.48999783,319.090006882,318.840000995,318.65002273999994,318.549995515,316.72999188,315.800002578,315.519996108,315.36000444999996,314.760018729,314.74000163,314.65000919,314.580004701,314.56999969,314.33999831,314.189999155,314.129999188,313.92998319,313.81002616599994,313.570004748,313.32002288499996,313.24000552,312.57999419000004,312.46000673,311.85999202100004,311.619998949,311.359984404,311.12999345000003,310.9500031,310.85999685,310.51002879199996,310.459994813,309.739980184,309.64999771,309.599999906,309.49000034799997,309.4499860529999,308.47999287,308.32999422,307.92999217700003,307.70998434399996,307.690005296,307.19000243,307.09000398,307.02998771,306.7400036,306.56999973,306.439985329,306.13999552,305.949998849,305.789995631,305.36000635,305.30000301,304.690003403,304.53001163,303.2900086370001,303.12001429099996,302.8700006,302.84000396,302.670002755,302.510001355,301.85000229,301.7200089,301.61999511,301.550006376,301.170001148,300.91999817,300.85999301000004,300.360003958,299.74000649100003,299.700000736,299.32999997300004,299.219993588,299.050001998,299.000005703,298.85000041,298.82000330999995,298.649998666,298.499975182,298.29999045,297.949990264,297.709996218,297.540003973,296.879995818,296.489995773,295.95000452,295.83000468,295.7899853199999,295.66999407599997,295.40999793000003,295.14000122,293.91000422,293.86000068,293.829990559,292.68999238800006,292.21999360999996,292.20000454,291.96999738,291.599998181,291.07000153,290.930001731,290.749996775,290.62999060000004,289.399996075,289.190005099,288.87999722,285.440014433,285.409993181,284.960008159,284.590002779,284.49999840000004,284.03999806,283.209999094,282.95999052599996,282.799987083,282.699993635,282.110014209,281.799998761,280.680002213,280.669992406,280.540005694,280.289996149,280.069997783,279.82001119000006,279.109998248,278.82000351,278.399999497,278.279989249,278.19999789999997,278.020001613,277.89999581,277.570008742,277.250009632,276.10998490500003,274.68000983,274.53999517,274.400000101,273.970000026,273.51000408,273.070005921,272.980002677,272.909993197,271.22995508600013,271.01000021,270.959987688,270.930005306,270.57999996,270.42001252899996,270.40998229800005,270.39000707499997,270.27000619,270.10999869,269.489995964,269.089999161,268.64000701,268.49999852499997,268.39000224099993,268.340006637,267.47999765,266.940004699,266.8999958,265.97000024700003,265.969995489,265.87999534,265.529992137,265.31999971,265.23000145,264.68000083999993,263.920003462,263.68000894,263.38999938599994,262.92999934,262.9199953,262.77000427999997,262.62000274999997,261.96999642000003,261.639998272,261.620000361,261.41000371,260.51999952999995,260.479997181,260.460002896,260.369998191,260.270001462,260.219999313,259.960005176,259.91000174,259.67000009,259.62999729,259.26000401,259.2400024,258.98999217,258.78999712,258.59003249,258.539999487,257.949999809,257.65999892,257.619993818,257.58999635,257.57000115799997,257.4000091930001,257.1600153510001,256.68000030999997,256.039999479,256.030003561,255.65000344,255.650003435,255.540004128,255.3399973,255.020001413,254.93000320100003,254.32999342799997,253.96000805799997,253.9099989,253.74000168,252.989981706,252.92000985699997,252.38000200599998,252.16000272,251.85000269199998,251.1099849929999,250.71002216099998,250.70999910999998,250.65000844600002,249.609997043,249.5999984,249.06000035900001,248.67999852999998,248.63000777000002,248.5,248.32998612199998,248.0599985,247.54001167200002,247.48000527,247.4600064990001,247.33000374,246.979993353,246.72999382,245.75000387,245.67000292999998,244.81999396,244.73999549900006,244.729997639,244.54000565,244.520000696,244.310002394,244.25000187,244.199994569,244.13001631399996,244.04000088,243.670003713,243.47999631300002,242.570005416,242.410001999,242.199996899,242.09000858699983,242.01000022,241.80000205,241.75999453,241.480003077,241.43999674,241.41999821000002,241.05999312200004,240.92000009,240.79999924,240.31000329,239.62000420500001,239.039999,238.84000016000002,238.55000115,238.209995257,238.069999921,238.04000187,238.030006419,238.009999108,237.900000612,237.899978611,237.73000620199997,237.42000031,237.320003557,237.139997499,236.93000032999998,236.56000356699997,236.28000258,236.07000731200003,235.9599991,235.83000916500004,235.70001030000003,235.66000273799997,235.640007512,235.45999537,235.25000381,234.7599974,233.85999423600003,233.60999679,233.41000366,233.11996082000007,233.01999330400002,232.779987849,232.37998674899995,231.95000168,231.74998008500003,231.719995536,231.63999897799994,231.239995427,230.92000199699999,230.32999844399995,230.08998765699997,230.00000192,229.98000764300002,229.26999665,228.47998637800004,228.449993096,228.39000148600002,228.30999282,228.100005586,227.899999135,227.71000005,227.43000604,227.19000917,226.750009993,226.12999722,225.79000625400005,225.42999551999998,224.83997718299997,224.81000136,224.700001161,224.350008974,224.29999924999998,224.2899699900001,224.19000531,223.58000375,223.44999690999998,223.19000240399998,223.02999518599998,222.77999878,222.73999407000002,222.38999558999998,222.280001175,221.30999359999998,221.20000268,220.92001058000002,220.15000154,220.04999933,219.029996355,218.3400413720001,217.35000229,217.19000248999998,217.12999435999998,216.56999420700004,215.49999618,214.900000567,214.75997841100008,214.25999477600004,214.049997303,212.32001641699998,211.909997465,211.830007554,211.77999987300007,211.74999875700001,211.259993751,211.129991508,210.969993709,210.4999746720001,210.189997207,209.8499928,209.589998488,209.229959987,209.08000570000002,208.669997927,208.470001217,208.36001015,208.29999729,208.230005763,208.17999936,207.859996798,207.78999808,207.73999978,207.44000245,207.429999921,207.42000716600006,207.03001077200003,206.81001762,206.719999434,206.57999898,206.520009764,206.449995,206.05000353999998,204.989994936,204.42000127799997,204.21000365299997,204.20000364999999,203.96999737,203.71000096,203.619995602,203.16998964300004,202.79999589300002,201.35998758099998,200.829998981,200.68998629399994,200.58998971000003,200.559998537,200.30000306,199.870000842,199.689988116,199.47000213,198.27998327800003,197.63000154899999,197.55000303,197.5300016,197.240003589,196.84000014,196.75998783100002,195.989966895,195.85999964,194.7500014370001,194.20000168299998,194.0399971,193.47999577000002,192.84000012,192.139995434,192.05999947,191.84999847,191.80000305,191.32999331400003,191.26000710099999,190.70999722,189.990001682,189.70999908,189.419997257,188.409997,188.07999826,187.820004601,187.70999908000002,187.38999944,187.15999603,187.040006175,185.58999629,185.36999797,185.140016959,185.08000178,184.43001173000002,184.29000092,183.25000334499998,183.05999753799995,182.17998881900002,182.01000029099998,181.77999878,181.57000161,181.56000065199999,181.36000061,181.35000038,180.50999215000002,180.50000317100003,180.37999964,179.869994562,179.739998111,179.129993961,178.59999849,178.350008495,178.34999378999998,178.11999321,177.89000463500003,177.620000325,176.38999462,176.300009731,176.129998209,175.95999525000002,175.78000154999998,175.74999232,175.7200012,175.220002615,173.77002756000002,173.61999725,173.530000217,173.220014653,172.96999931,172.85999778,172.75000485,172.69999886,172.0199852,171.529997348,171.0700073,170.76999664,170.670002397,170.63999557,170.56998921899998,170.29000472,169.68999863099998,169.62000275,169.53999903,169.10999683,169.07999991999998,168.92999458,168.76998527600006,168.12999535,167.759993523,167.530001159,167.220002864,166.94000666199997,166.459997689,166.10999602799998,165.91000176,165.50999473299998,165.45999622,164.66999722,164.66000152,163.979998946,163.95998877599996,163.779999503,163.50000536899995,163.160001759,162.68000031,162.520003329,162.199998372,161.78999997,161.59000588,161.279998058,161.279997839,160.92000532900002,160.68000006300002,160.44999885,160.43999862,160.179997447,160.070031503,160.04000282,159.299987744,158.6200066,158.42999458,158.09000685400002,157.519996636,156.92000394999997,156.799998049,156.31000235099998,155.49000168199998,155.47999714000002,155.40999794,153.249999517,152.670001041,152.60001178,152.17000294000002,151.53000264,151.37998721300005,151.31000137,150.800003497,150.22999484999997,150.220000755,150.13000872700002,149.82999805,148.75999258400003,148.700005536,148.609993778,148.12999725,147.8600116,147.67999840000002,146.90999986,145.95000457999998,145.84000205,145.68999577099999,145.480001695,145.409983035,145.37999119500003,144.91000175599999,143.87000275999998,143.58000183000001,143.510000231,143.36001018000002,143.14999387000003,142.559998033,142.49998275599998,141.46000671,141.439997213,140.220004525,139.47999954,138.89000420000002,138.30999756,138.069998749,137.99000168999999,137.89999962,137.850001332,137.750013442,137.27000044,136.990004065,136.87000140200004,136.579997774,136.400006363,135.45000077,134.96999741899998,134.4600029,134.26000213999998,134.210001482,133.83000183000001,133.29999923,132.93000222,132.769983364,132.489999527,132.39999961,131.97999668,131.92999551399998,131.36999896999998,131.30999756,131.0200043,130.9400024,130.779997822,130.52999972700002,130.450002906,129.930001068,129.8699951,129.58000183000001,129.10000037999998,128.740002155,128.55000375400002,127.950002191,127.78000934400002,127.030002314,127.020003801,126.660002241,126.55000494099997,126.53999995200002,125.85000228999999,125.50000382,125.24000363000002,125.15999984999999,124.73000243100002,124.34999848,124.01999547600002,123.30000114,123.05998328200002,122.82999116799998,122.5399971,122.29999351200001,122.15000153,121.13999938000002,120.3400011,120.15999032099998,120.00999832,119.83000662100002,119.29999924,119.21999550000001,119.00999928,118.84999716499999,118.59000015000001,117.89004888000002,117.82999683300001,117.770003794,117.760006916,117.589999667,117.589999202,116.79999642000003,116.779996883,116.74999879200001,116.70998551099997,116.56000420199999,116.429978367,115.69000054,115.53997513399997,115.45999439100002,115.459990546,114.9100037,114.39998772699998,113.6400032,113.60998548000003,113.04999948,113.04000088000001,112.20999977499999,112.19000986900001,111.02998119300003,110.7900033,110.72000116000001,110.559999941,110.549999949,110.14999962,109.93003111399995,109.85999966,109.69999695,109.62999788600001,108.56000664300001,108.54999733,107.870004211,107.640002491,107.54002399499997,107.319999219,107.11999466499998,107.11000920100003,107.08000313399998,106.15999985900002,105.77000017400002,105.72000981999999,105.49999713,104.14999958,104.090004443,103.36000252,103.27000432,103.15999625799995,103.150000095,102.95001413499996,102.930001025,102.620002633,102.3900013,102.05000176799999,101.10999679,101.02999877,100.36001258500009,100.29000472999999,99.90000533,99.12999725,98.89999836599998,98.67000272600002,98.579998021,98.47000122,97.63999939,96.87999725,96.41999817,96.24999905199999,96.13999840399991,96.06997869699998,95.53998846100001,95.43000009599999,95.329997065,95.29000182899999,94.759999276,94.59000015000001,94.059998511,93.76997528,93.53000068,93.47999763,92.79999873099999,92.47999954,91.87001039999998,91.81000046,91.090002069,91.0,90.94000124600001,90.92998790999995,90.300002201,90.279999726,90.18000678199996,90.010006311,89.31000137000001,89.17999841399998,89.04999923,88.109996796,87.780004388,87.630003453,87.30001162700006,86.93000031,86.889997714,86.53000069,86.43999862999999,86.40000153,86.37998394900005,86.159999125,85.91000176,85.78000187500001,85.6600087079999,85.599998231,85.389998432,84.62001712999992,84.60999966,84.38000417099998,84.090003012,84.02999876999999,83.99000554000001,83.84000705999998,83.839999679,83.609998698,83.339993039,83.17000389,83.00999450000002,82.98996797000007,82.24999431000003,82.01998738700001,81.91999817,81.89999962,81.57997894899998,81.41999816500001,81.29000664999998,81.120000128,80.920001034,80.91000366,80.720000029,80.700000535,80.57999992,80.37998779000003,79.97998709999999,79.53000069000001,79.48000145,78.74999716400004,78.61000250100001,78.01000023,77.75,77.61000061,77.54999543,77.50000574199998,76.99000022599998,76.81000138,76.75003099199992,76.400003484,75.519999629,74.659999371,74.34999464,74.28999710300002,73.63999843,73.539994686,73.32000639600001,73.30000151,72.62999725,72.29999924,72.15999602,71.70000908500002,70.94999218000001,70.390013347,69.73000979800005,69.51998339999999,69.13998306900001,68.939996722,68.93998244100001,68.679999828,68.46999118400004,67.47000026399999,67.239996308,66.81999252000003,66.66002653700002,66.639998439,65.72999022599998,65.53999996200001,65.4299984,64.65999984999999,64.590001587,64.35000038999999,64.34999847,64.31000137000001,64.120002462,64.080004216,62.87999916,62.56000137,62.49000741599998,62.40000153,62.32998657000002,62.1500101,60.96999638999998,60.669998641999996,60.57999802,60.459997902,60.22000122,60.049997512000004,59.68999574799998,59.570014830000034,58.69999329599999,58.40999722199999,58.07999706299999,57.73000439000001,57.50999830000001,57.430000299999996,57.40000153,57.15001436599999,56.40000153,56.34000015,56.210001019999964,56.0699997,56.040016218999966,55.379999160000004,54.88000107,54.419997229,53.34000015,52.50999832,51.49997145399991,51.3199997,51.13999939,51.12000466,50.84999847,50.51000023,50.119996060000005,50.099999907,49.980001687999994,49.8599186929999,49.01000023,48.27000144200002,48.129974293000025,48.080015004000046,48.05002252,47.959979271000016,47.75999281300001,47.27999878,46.510001182,46.11000061,45.89000534,45.819998739,45.59999847,45.350015627000005,44.59000253299996,44.340024565,44.14000082,43.24000001,43.20000170999999,43.129999170000005,42.74000934999998,42.59999847,42.459998843,42.160028852999986,42.0,41.689996719999996,39.919998211999996,39.590000983,39.110005934,39.020000212,37.92000622499994,37.739997869999996,37.69999696999997,35.989999414999986,35.88000204999997,34.93001577099998,33.29000092,33.25000236500001,33.13000107,32.85000990000003,32.43999863,32.050002338,31.94000053,31.80999636500001,31.799999210000024,29.92000008,29.73999977,28.939997679999998,28.720011728999985,28.460000995999998,28.44999981,28.12000179,28.08999444999995,27.21999931,25.890015546999976,25.73000584700003,25.5,25.20998283,25.159999845999998,24.88000102,24.810000421999998,24.770002374,24.75,23.82999992,23.739995950000008,23.649994613999993,23.100000024,23.000001406999992,22.93000317,22.900002997000005,22.60000038,22.5,22.07001398999998,21.82999992,20.98999786,20.699992160000022,20.65998851999997,20.57999992,20.17000008,19.989999769999997,19.680000309999997,19.140007009999977,18.89999962,18.52000046,18.440014943999984,18.179992670000004,18.01000023,17.980000023,16.73999977,16.11002464299996,15.89999962,14.759998321999994,14.549991619999986,14.220000267,14.199996929999976,14.120013695000004,13.820000643999997,13.779997689000016,13.42000008,13.070001599999998,12.720000267,12.629982558000009,12.60999966,11.699988390000016,11.239990497000022,10.78999996,10.50999999,9.04998203599996,8.73999409000001,8.729982409999963,8.439998620000011,7.760005940000013,7.749984789999985,7.519999981,7.210000038,6.369999886,6.2400002489999995,5.289999962,4.269999981,4.059972328000015,4.050004124000001,3.6700153399999635,2.140000105,2.080000404999997,1.929999948,1.9000036300000005,1.7899993659999964,1.5300095279999937,1.4099979799999929,0.6600005939999818,0.559995406000013,0.0,-1.0099963799999756,-1.1500006309999975,-1.8399987159999966,-2.8299961000000025,-3.9600048400000105,-4.140021893999986,-4.299987790000017,-4.329993170000014,-4.340000151000001,-5.149997720000002,-6.34999848599999,-6.829999919999999,-7.36999673800004,-7.940001741000017,-8.529996444999995,-9.33999340600002,-9.860004429999996,-11.31000042,-11.329997065999997,-11.47000027,-12.04998686599999,-12.929995577000057,-13.390000339999999,-13.580024888000054,-13.68997144899997,-13.819988226000063,-14.469999310999999,-14.959997189999994,-15.519996640000006,-15.520004710000016,-15.539997192000016,-15.579998966000005,-15.94000244,-16.20000340600001,-16.80998637200004,-17.520000219,-18.87000084,-19.390023189999994,-19.520004741999998,-20.460000509,-21.490026627,-21.760002135,-22.18000763000003,-22.590003044000014,-23.61999505,-24.19001127399997,-25.250002904,-26.18000318,-27.429999712,-27.719993599999995,-27.830000899999987,-28.630001060000005,-28.979995604000006,-28.999997135999998,-29.830008529999986,-32.25,-33.040000318000004,-33.180000269999994,-34.85999778899999,-36.060001410000005,-36.88997816399984,-37.820000690000015,-38.04999923300001,-39.06003635100009,-39.199996983000005,-39.20000076,-41.60002327399988,-42.120000836,-42.279987289999994,-42.87000114299999,-42.98000145,-43.359992960000014,-44.619997979,-45.88999557000001,-47.229998589,-47.76000556800001,-48.04999923999999,-48.97999857000002,-49.400005056,-50.60001173,-50.77000807000002,-51.33997021000013,-51.77000670300001,-52.24001790699996,-52.820007334,-52.90999985,-52.95000314599997,-53.509997848,-53.64000804899997,-54.05997753200006,-54.68999476000005,-55.87001040900001,-56.519993156,-56.770003296,-56.889998468,-57.580005688,-57.690000057,-58.099996038,-58.15000144999999,-60.609990151999995,-61.15999599,-61.23999794000001,-61.24999809,-61.82001122000002,-61.93999863,-63.760015974,-64.39999105999999,-64.42001624799997,-64.6399994,-64.73000336000001,-65.14000121000001,-65.74001505,-65.920000525,-66.80000305,-66.90999864699995,-68.1600037,-68.43000314,-68.479978042,-68.59002782899992,-69.499999044,-70.549998761,-70.600003238,-70.98998008799998,-71.849998959,-72.70999527000001,-74.880002918,-75.48000336,-75.68002837300001,-76.01000117000001,-76.82999993000003,-77.39999962299999,-77.70000163200001,-77.88000780699997,-79.60998537600003,-81.739993812,-82.13000870000002,-82.58000605899998,-83.600014651,-85.80998356899993,-86.949997422,-86.99997900700001,-87.22000671199999,-88.50000714299999,-89.38000967900008,-89.590010707,-91.83999729199999,-92.26998992,-94.83001137000001,-95.54999828999999,-95.63999420600001,-95.73999977,-96.54999968499997,-97.18000031,-98.98999786,-99.33001621700004,-99.59999847,-100.30000405,-100.490000724,-100.829998282,-100.97999198199999,-102.12999919,-102.3000031,-102.68000122399998,-104.480008642,-106.120005569,-106.46002719800003,-106.92999712300006,-107.470005746,-109.69003359099997,-110.13000486000001,-110.66003168500004,-111.31000234000003,-115.30997480300005,-116.60999688000003,-116.82000472500002,-118.24000167399997,-118.31999585100002,-119.35002226099998,-121.12999725,-122.73998716500002,-125.06999731900001,-126.26001903299996,-128.02997246500013,-129.64998429900004,-130.09000430199995,-131.30000504000003,-135.569986231,-136.60999584,-137.340009162,-137.649987146,-138.00995506000012,-138.60002993999996,-139.689997469,-141.35999711,-142.95997282399998,-143.58000409599998,-145.279994033,-145.60000715799998,-147.06999737800004,-147.119972057,-147.30001139699996,-147.470015972,-148.16998621100004,-148.560002563,-149.1299938740001,-149.43994791300003,-153.19999421199995,-153.68999488900002,-154.82999680099996,-154.83000269600004,-155.549996706,-155.68000712299997,-155.729981845,-159.109995325,-159.569997792,-161.16000795500003,-163.39999952000002,-164.97000212999995,-167.150009166,-169.05995272899997,-171.2400055,-172.100005157,-172.37999913999997,-172.399995797,-174.37996479,-175.53000220699997,-178.78000074000002,-179.11998841400003,-180.659996362,-180.72000314399997,-181.14000159499997,-181.17001348299996,-181.30999319999998,-184.70999334099997,-184.950011184,-186.179985565,-186.53000640000002,-189.259990404,-189.469990768,-189.88997713800006,-191.330013133,-192.280002605,-192.400007708,-193.65998462600004,-194.95996888100004,-195.46999547999997,-196.27998345999998,-200.25999644599997,-200.85000180499998,-206.23001389099997,-208.45998157399995,-209.9199982,-211.68003073599996,-213.29999540999998,-219.32000355,-219.94000760999998,-220.299987346,-222.56999881399997,-222.99001309000008,-223.5700073,-224.35998129699993,-225.08000086,-225.26996378,-225.589999448,-226.7599945,-228.35000607100005,-228.49001403700004,-228.750011,-228.770006168,-229.530003556,-230.109986286,-230.6900024,-231.880001266,-232.68996722999995,-234.69998649600004,-235.68999347800002,-237.159989344,-238.65998840999998,-238.87999535,-239.91998869800003,-240.2700062,-242.34999374999995,-242.53000493500002,-243.11998805999997,-243.63999266000005,-244.1700147969999,-244.33000038300003,-245.79999587700001,-246.00002768000002,-251.91000366999998,-256.940017399,-257.229990026,-260.2200089,-261.360000884,-261.939990056,-263.909971209,-264.3599854,-264.389986686,-265.729987671,-265.83000185,-266.069962693,-266.71996639400004,-269.78999146999996,-271.919993504,-272.06000515000005,-272.70999336,-278.54000664299997,-282.6199793939997,-285.40000346,-285.839986544,-286.229950793,-288.60999252,-289.04997787099995,-291.320004283,-291.98000339500004,-296.62001584999996,-299.16000176,-299.299974853,-304.279988747,-307.65998653,-311.17998304,-311.84999692400004,-313.99000743000005,-314.520020757,-315.259978261,-317.10002316400005,-318.45999054000004,-318.4600085999999,-319.22989950000004,-319.95999430200004,-322.10999297,-323.23999971,-323.489987349,-323.6700671719999,-323.89999389,-325.589981877,-327.00999450999996,-327.119955341,-328.250005736,-334.1399603389999,-340.559979371,-342.530003109,-346.17998133000003,-347.8799953270001,-347.940014154,-350.47997663900003,-350.830012389,-353.490024615,-357.27996978199997,-357.310002071,-359.6600037,-360.799996813,-368.07997912400003,-368.469964452,-372.46000959,-375.479996699,-375.509989232,-376.720009537,-378.47000695,-380.629986365,-381.830009028,-388.34999179,-388.8899467100001,-389.26001714499995,-389.66999819,-390.459998675,-396.18999863,-397.0100229279999,-397.960010501,-403.80999992799997,-403.889996608,-414.970015117,-415.60999081700004,-416.13000380600005,-419.12998574000005,-421.40998648,-421.43998610000006,-421.940053484,-424.2199754620001,-425.06996920999984,-429.530009292,-431.129956546,-438.3699874299999,-444.34998989099995,-445.670020786,-447.31998931699997,-447.449990288,-450.20999094900003,-453.859987672,-454.450010287,-455.029973544,-455.83997345,-455.8900060579999,-457.17000744999996,-457.869984647,-462.40002544300006,-463.36999988,-469.66997194299995,-471.40998084000006,-479.47000415099996,-481.08000657599996,-483.51001922600005,-488.029991177,-505.48000333000005,-505.50999648,-511.970009686,-517.90000532,-518.069934206,-524.79000053,-525.259983421,-527.7899981099999,-531.7600299250001,-536.6899850319999,-536.7400123890001,-537.9900197689999,-540.5199533829999,-548.5199911930001,-549.680002094,-549.900016314,-559.850002184,-560.419980525,-565.55000397,-572.350003294,-574.58000571,-574.99999241,-577.43999671,-580.949999987,-582.2499905,-583.990019944,-584.689991681,-584.8600495299999,-585.730028305,-586.34997225,-590.479994411,-593.090012542,-598.089987308,-598.5600188780002,-605.3499756440001,-605.62001232,-611.6500006140001,-611.929993155,-638.98002245,-644.099971723,-647.8499908699999,-648.1199686299999,-651.1899596009999,-653.7999595370001,-658.1699829,-663.42001727,-668.480030536,-675.699996909,-681.5899970180001,-688.049995002,-688.299995373,-699.7499916050001,-699.98999396,-700.259980728,-701.710025751,-703.709971041,-713.549952528,-742.710016147,-749.1299977119999,-754.3199734570001,-760.099992357,-766.360008001,-772.89001276,-773.15995976,-779.7000073349999,-780.729954592,-783.979973245,-789.8499765170001,-790.370021847,-799.919983404,-824.56003759,-844.7799539680001,-847.71997824,-858.32002152,-862.119985823,-862.5200128800001,-887.339985557,-890.28996662,-896.809961348,-926.319970939,-949.9799974499999,-970.739987371,-997.890081132,-1001.739988282,-1038.919998955,-1048.8599920299998,-1061.5900392,-1079.719985353,-1103.31002332,-1138.710002846,-1156.380011524,-1189.9199872060003,-1277.360006816,-1299.17999454,-1307.099959808,-1309.019962735,-1366.8600648870001,-1369.55999758,-1374.5400175319999,-1393.0499456520001,-1394.9899987860001,-1416.949949897,-1437.8699924290001,-1448.720007858,-1465.319992573,-1521.4000422699999,-1588.609972138,-1681.830001381,-1742.0799955359998,-2212.5300117039997,-3152.150012407],\"type\":\"choropleth\"}],                        {\"template\":{\"data\":{\"bar\":[{\"error_x\":{\"color\":\"#2a3f5f\"},\"error_y\":{\"color\":\"#2a3f5f\"},\"marker\":{\"line\":{\"color\":\"#E5ECF6\",\"width\":0.5},\"pattern\":{\"fillmode\":\"overlay\",\"size\":10,\"solidity\":0.2}},\"type\":\"bar\"}],\"barpolar\":[{\"marker\":{\"line\":{\"color\":\"#E5ECF6\",\"width\":0.5},\"pattern\":{\"fillmode\":\"overlay\",\"size\":10,\"solidity\":0.2}},\"type\":\"barpolar\"}],\"carpet\":[{\"aaxis\":{\"endlinecolor\":\"#2a3f5f\",\"gridcolor\":\"white\",\"linecolor\":\"white\",\"minorgridcolor\":\"white\",\"startlinecolor\":\"#2a3f5f\"},\"baxis\":{\"endlinecolor\":\"#2a3f5f\",\"gridcolor\":\"white\",\"linecolor\":\"white\",\"minorgridcolor\":\"white\",\"startlinecolor\":\"#2a3f5f\"},\"type\":\"carpet\"}],\"choropleth\":[{\"colorbar\":{\"outlinewidth\":0,\"ticks\":\"\"},\"type\":\"choropleth\"}],\"contour\":[{\"colorbar\":{\"outlinewidth\":0,\"ticks\":\"\"},\"colorscale\":[[0.0,\"#0d0887\"],[0.1111111111111111,\"#46039f\"],[0.2222222222222222,\"#7201a8\"],[0.3333333333333333,\"#9c179e\"],[0.4444444444444444,\"#bd3786\"],[0.5555555555555556,\"#d8576b\"],[0.6666666666666666,\"#ed7953\"],[0.7777777777777778,\"#fb9f3a\"],[0.8888888888888888,\"#fdca26\"],[1.0,\"#f0f921\"]],\"type\":\"contour\"}],\"contourcarpet\":[{\"colorbar\":{\"outlinewidth\":0,\"ticks\":\"\"},\"type\":\"contourcarpet\"}],\"heatmap\":[{\"colorbar\":{\"outlinewidth\":0,\"ticks\":\"\"},\"colorscale\":[[0.0,\"#0d0887\"],[0.1111111111111111,\"#46039f\"],[0.2222222222222222,\"#7201a8\"],[0.3333333333333333,\"#9c179e\"],[0.4444444444444444,\"#bd3786\"],[0.5555555555555556,\"#d8576b\"],[0.6666666666666666,\"#ed7953\"],[0.7777777777777778,\"#fb9f3a\"],[0.8888888888888888,\"#fdca26\"],[1.0,\"#f0f921\"]],\"type\":\"heatmap\"}],\"heatmapgl\":[{\"colorbar\":{\"outlinewidth\":0,\"ticks\":\"\"},\"colorscale\":[[0.0,\"#0d0887\"],[0.1111111111111111,\"#46039f\"],[0.2222222222222222,\"#7201a8\"],[0.3333333333333333,\"#9c179e\"],[0.4444444444444444,\"#bd3786\"],[0.5555555555555556,\"#d8576b\"],[0.6666666666666666,\"#ed7953\"],[0.7777777777777778,\"#fb9f3a\"],[0.8888888888888888,\"#fdca26\"],[1.0,\"#f0f921\"]],\"type\":\"heatmapgl\"}],\"histogram\":[{\"marker\":{\"pattern\":{\"fillmode\":\"overlay\",\"size\":10,\"solidity\":0.2}},\"type\":\"histogram\"}],\"histogram2d\":[{\"colorbar\":{\"outlinewidth\":0,\"ticks\":\"\"},\"colorscale\":[[0.0,\"#0d0887\"],[0.1111111111111111,\"#46039f\"],[0.2222222222222222,\"#7201a8\"],[0.3333333333333333,\"#9c179e\"],[0.4444444444444444,\"#bd3786\"],[0.5555555555555556,\"#d8576b\"],[0.6666666666666666,\"#ed7953\"],[0.7777777777777778,\"#fb9f3a\"],[0.8888888888888888,\"#fdca26\"],[1.0,\"#f0f921\"]],\"type\":\"histogram2d\"}],\"histogram2dcontour\":[{\"colorbar\":{\"outlinewidth\":0,\"ticks\":\"\"},\"colorscale\":[[0.0,\"#0d0887\"],[0.1111111111111111,\"#46039f\"],[0.2222222222222222,\"#7201a8\"],[0.3333333333333333,\"#9c179e\"],[0.4444444444444444,\"#bd3786\"],[0.5555555555555556,\"#d8576b\"],[0.6666666666666666,\"#ed7953\"],[0.7777777777777778,\"#fb9f3a\"],[0.8888888888888888,\"#fdca26\"],[1.0,\"#f0f921\"]],\"type\":\"histogram2dcontour\"}],\"mesh3d\":[{\"colorbar\":{\"outlinewidth\":0,\"ticks\":\"\"},\"type\":\"mesh3d\"}],\"parcoords\":[{\"line\":{\"colorbar\":{\"outlinewidth\":0,\"ticks\":\"\"}},\"type\":\"parcoords\"}],\"pie\":[{\"automargin\":true,\"type\":\"pie\"}],\"scatter\":[{\"marker\":{\"colorbar\":{\"outlinewidth\":0,\"ticks\":\"\"}},\"type\":\"scatter\"}],\"scatter3d\":[{\"line\":{\"colorbar\":{\"outlinewidth\":0,\"ticks\":\"\"}},\"marker\":{\"colorbar\":{\"outlinewidth\":0,\"ticks\":\"\"}},\"type\":\"scatter3d\"}],\"scattercarpet\":[{\"marker\":{\"colorbar\":{\"outlinewidth\":0,\"ticks\":\"\"}},\"type\":\"scattercarpet\"}],\"scattergeo\":[{\"marker\":{\"colorbar\":{\"outlinewidth\":0,\"ticks\":\"\"}},\"type\":\"scattergeo\"}],\"scattergl\":[{\"marker\":{\"colorbar\":{\"outlinewidth\":0,\"ticks\":\"\"}},\"type\":\"scattergl\"}],\"scattermapbox\":[{\"marker\":{\"colorbar\":{\"outlinewidth\":0,\"ticks\":\"\"}},\"type\":\"scattermapbox\"}],\"scatterpolar\":[{\"marker\":{\"colorbar\":{\"outlinewidth\":0,\"ticks\":\"\"}},\"type\":\"scatterpolar\"}],\"scatterpolargl\":[{\"marker\":{\"colorbar\":{\"outlinewidth\":0,\"ticks\":\"\"}},\"type\":\"scatterpolargl\"}],\"scatterternary\":[{\"marker\":{\"colorbar\":{\"outlinewidth\":0,\"ticks\":\"\"}},\"type\":\"scatterternary\"}],\"surface\":[{\"colorbar\":{\"outlinewidth\":0,\"ticks\":\"\"},\"colorscale\":[[0.0,\"#0d0887\"],[0.1111111111111111,\"#46039f\"],[0.2222222222222222,\"#7201a8\"],[0.3333333333333333,\"#9c179e\"],[0.4444444444444444,\"#bd3786\"],[0.5555555555555556,\"#d8576b\"],[0.6666666666666666,\"#ed7953\"],[0.7777777777777778,\"#fb9f3a\"],[0.8888888888888888,\"#fdca26\"],[1.0,\"#f0f921\"]],\"type\":\"surface\"}],\"table\":[{\"cells\":{\"fill\":{\"color\":\"#EBF0F8\"},\"line\":{\"color\":\"white\"}},\"header\":{\"fill\":{\"color\":\"#C8D4E3\"},\"line\":{\"color\":\"white\"}},\"type\":\"table\"}]},\"layout\":{\"annotationdefaults\":{\"arrowcolor\":\"#2a3f5f\",\"arrowhead\":0,\"arrowwidth\":1},\"autotypenumbers\":\"strict\",\"coloraxis\":{\"colorbar\":{\"outlinewidth\":0,\"ticks\":\"\"}},\"colorscale\":{\"diverging\":[[0,\"#8e0152\"],[0.1,\"#c51b7d\"],[0.2,\"#de77ae\"],[0.3,\"#f1b6da\"],[0.4,\"#fde0ef\"],[0.5,\"#f7f7f7\"],[0.6,\"#e6f5d0\"],[0.7,\"#b8e186\"],[0.8,\"#7fbc41\"],[0.9,\"#4d9221\"],[1,\"#276419\"]],\"sequential\":[[0.0,\"#0d0887\"],[0.1111111111111111,\"#46039f\"],[0.2222222222222222,\"#7201a8\"],[0.3333333333333333,\"#9c179e\"],[0.4444444444444444,\"#bd3786\"],[0.5555555555555556,\"#d8576b\"],[0.6666666666666666,\"#ed7953\"],[0.7777777777777778,\"#fb9f3a\"],[0.8888888888888888,\"#fdca26\"],[1.0,\"#f0f921\"]],\"sequentialminus\":[[0.0,\"#0d0887\"],[0.1111111111111111,\"#46039f\"],[0.2222222222222222,\"#7201a8\"],[0.3333333333333333,\"#9c179e\"],[0.4444444444444444,\"#bd3786\"],[0.5555555555555556,\"#d8576b\"],[0.6666666666666666,\"#ed7953\"],[0.7777777777777778,\"#fb9f3a\"],[0.8888888888888888,\"#fdca26\"],[1.0,\"#f0f921\"]]},\"colorway\":[\"#636efa\",\"#EF553B\",\"#00cc96\",\"#ab63fa\",\"#FFA15A\",\"#19d3f3\",\"#FF6692\",\"#B6E880\",\"#FF97FF\",\"#FECB52\"],\"font\":{\"color\":\"#2a3f5f\"},\"geo\":{\"bgcolor\":\"white\",\"lakecolor\":\"white\",\"landcolor\":\"#E5ECF6\",\"showlakes\":true,\"showland\":true,\"subunitcolor\":\"white\"},\"hoverlabel\":{\"align\":\"left\"},\"hovermode\":\"closest\",\"mapbox\":{\"style\":\"light\"},\"paper_bgcolor\":\"white\",\"plot_bgcolor\":\"#E5ECF6\",\"polar\":{\"angularaxis\":{\"gridcolor\":\"white\",\"linecolor\":\"white\",\"ticks\":\"\"},\"bgcolor\":\"#E5ECF6\",\"radialaxis\":{\"gridcolor\":\"white\",\"linecolor\":\"white\",\"ticks\":\"\"}},\"scene\":{\"xaxis\":{\"backgroundcolor\":\"#E5ECF6\",\"gridcolor\":\"white\",\"gridwidth\":2,\"linecolor\":\"white\",\"showbackground\":true,\"ticks\":\"\",\"zerolinecolor\":\"white\"},\"yaxis\":{\"backgroundcolor\":\"#E5ECF6\",\"gridcolor\":\"white\",\"gridwidth\":2,\"linecolor\":\"white\",\"showbackground\":true,\"ticks\":\"\",\"zerolinecolor\":\"white\"},\"zaxis\":{\"backgroundcolor\":\"#E5ECF6\",\"gridcolor\":\"white\",\"gridwidth\":2,\"linecolor\":\"white\",\"showbackground\":true,\"ticks\":\"\",\"zerolinecolor\":\"white\"}},\"shapedefaults\":{\"line\":{\"color\":\"#2a3f5f\"}},\"ternary\":{\"aaxis\":{\"gridcolor\":\"white\",\"linecolor\":\"white\",\"ticks\":\"\"},\"baxis\":{\"gridcolor\":\"white\",\"linecolor\":\"white\",\"ticks\":\"\"},\"bgcolor\":\"#E5ECF6\",\"caxis\":{\"gridcolor\":\"white\",\"linecolor\":\"white\",\"ticks\":\"\"}},\"title\":{\"x\":0.05},\"xaxis\":{\"automargin\":true,\"gridcolor\":\"white\",\"linecolor\":\"white\",\"ticks\":\"\",\"title\":{\"standoff\":15},\"zerolinecolor\":\"white\",\"zerolinewidth\":2},\"yaxis\":{\"automargin\":true,\"gridcolor\":\"white\",\"linecolor\":\"white\",\"ticks\":\"\",\"title\":{\"standoff\":15},\"zerolinecolor\":\"white\",\"zerolinewidth\":2}}},\"geo\":{\"domain\":{\"x\":[0.0,1.0],\"y\":[0.0,1.0]},\"center\":{}},\"coloraxis\":{\"colorbar\":{\"title\":{\"text\":\"Profit of Orders\"}},\"colorscale\":[[0.0,\"rgb(41, 24, 107)\"],[0.09090909090909091,\"rgb(42, 35, 160)\"],[0.18181818181818182,\"rgb(15, 71, 153)\"],[0.2727272727272727,\"rgb(18, 95, 142)\"],[0.36363636363636365,\"rgb(38, 116, 137)\"],[0.45454545454545453,\"rgb(53, 136, 136)\"],[0.5454545454545454,\"rgb(65, 157, 133)\"],[0.6363636363636364,\"rgb(81, 178, 124)\"],[0.7272727272727273,\"rgb(111, 198, 107)\"],[0.8181818181818182,\"rgb(160, 214, 91)\"],[0.9090909090909091,\"rgb(212, 225, 112)\"],[1.0,\"rgb(253, 238, 153)\"]]},\"legend\":{\"tracegroupgap\":0},\"margin\":{\"t\":60}},                        {\"responsive\": true}                    ).then(function(){\n",
       "                            \n",
       "var gd = document.getElementById('af69d230-6678-4d23-9180-17f36c623ecd');\n",
       "var x = new MutationObserver(function (mutations, observer) {{\n",
       "        var display = window.getComputedStyle(gd).display;\n",
       "        if (!display || display === 'none') {{\n",
       "            console.log([gd, 'removed!']);\n",
       "            Plotly.purge(gd);\n",
       "            observer.disconnect();\n",
       "        }}\n",
       "}});\n",
       "\n",
       "// Listen for the removal of the full notebook cells\n",
       "var notebookContainer = gd.closest('#notebook-container');\n",
       "if (notebookContainer) {{\n",
       "    x.observe(notebookContainer, {childList: true});\n",
       "}}\n",
       "\n",
       "// Listen for the clearing of the current output cell\n",
       "var outputEl = gd.closest('.output');\n",
       "if (outputEl) {{\n",
       "    x.observe(outputEl, {childList: true});\n",
       "}}\n",
       "\n",
       "                        })                };                });            </script>        </div>"
      ]
     },
     "metadata": {},
     "output_type": "display_data"
    }
   ],
   "source": [
    "fig = px.choropleth(df_geo ,  locationmode='country names', locations='Order Country',\n",
    "                    color='Profit of Orders', # lifeExp is a column of data\n",
    "                    hover_name='Order Country', \n",
    "                    #hover_data ='Order City',\n",
    "                    color_continuous_scale=px.colors.sequential.haline)\n",
    "\n",
    "fig.show()"
   ]
  },
  {
   "cell_type": "code",
   "execution_count": 42,
   "id": "aff1a916",
   "metadata": {},
   "outputs": [
    {
     "name": "stderr",
     "output_type": "stream",
     "text": [
      "C:\\Users\\VAMSHI\\AppData\\Local\\Temp\\ipykernel_13556\\1806371535.py:4: SettingWithCopyWarning:\n",
      "\n",
      "\n",
      "A value is trying to be set on a copy of a slice from a DataFrame.\n",
      "Try using .loc[row_indexer,col_indexer] = value instead\n",
      "\n",
      "See the caveats in the documentation: https://pandas.pydata.org/pandas-docs/stable/user_guide/indexing.html#returning-a-view-versus-a-copy\n",
      "\n"
     ]
    }
   ],
   "source": [
    "import datetime as dt\n",
    "\n",
    "data_orderdate=df[['order date (DateOrders)', 'Sales']]\n",
    "data_orderdate['order_date'] = pd.to_datetime(data_orderdate['order date (DateOrders)'])"
   ]
  },
  {
   "cell_type": "code",
   "execution_count": 43,
   "id": "4b93e89c",
   "metadata": {},
   "outputs": [
    {
     "data": {
      "text/html": [
       "<div>\n",
       "<style scoped>\n",
       "    .dataframe tbody tr th:only-of-type {\n",
       "        vertical-align: middle;\n",
       "    }\n",
       "\n",
       "    .dataframe tbody tr th {\n",
       "        vertical-align: top;\n",
       "    }\n",
       "\n",
       "    .dataframe thead th {\n",
       "        text-align: right;\n",
       "    }\n",
       "</style>\n",
       "<table border=\"1\" class=\"dataframe\">\n",
       "  <thead>\n",
       "    <tr style=\"text-align: right;\">\n",
       "      <th></th>\n",
       "      <th>order date (DateOrders)</th>\n",
       "      <th>Sales</th>\n",
       "      <th>order_date</th>\n",
       "    </tr>\n",
       "  </thead>\n",
       "  <tbody>\n",
       "    <tr>\n",
       "      <th>0</th>\n",
       "      <td>1/31/2018 22:56</td>\n",
       "      <td>327.750000</td>\n",
       "      <td>2018-01-31 22:56:00</td>\n",
       "    </tr>\n",
       "    <tr>\n",
       "      <th>1</th>\n",
       "      <td>1/13/2018 12:27</td>\n",
       "      <td>327.750000</td>\n",
       "      <td>2018-01-13 12:27:00</td>\n",
       "    </tr>\n",
       "    <tr>\n",
       "      <th>2</th>\n",
       "      <td>1/13/2018 12:06</td>\n",
       "      <td>327.750000</td>\n",
       "      <td>2018-01-13 12:06:00</td>\n",
       "    </tr>\n",
       "    <tr>\n",
       "      <th>3</th>\n",
       "      <td>1/13/2018 11:45</td>\n",
       "      <td>327.750000</td>\n",
       "      <td>2018-01-13 11:45:00</td>\n",
       "    </tr>\n",
       "    <tr>\n",
       "      <th>4</th>\n",
       "      <td>1/13/2018 11:24</td>\n",
       "      <td>327.750000</td>\n",
       "      <td>2018-01-13 11:24:00</td>\n",
       "    </tr>\n",
       "    <tr>\n",
       "      <th>...</th>\n",
       "      <td>...</td>\n",
       "      <td>...</td>\n",
       "      <td>...</td>\n",
       "    </tr>\n",
       "    <tr>\n",
       "      <th>180514</th>\n",
       "      <td>1/16/2016 3:40</td>\n",
       "      <td>399.980011</td>\n",
       "      <td>2016-01-16 03:40:00</td>\n",
       "    </tr>\n",
       "    <tr>\n",
       "      <th>180515</th>\n",
       "      <td>1/16/2016 1:34</td>\n",
       "      <td>399.980011</td>\n",
       "      <td>2016-01-16 01:34:00</td>\n",
       "    </tr>\n",
       "    <tr>\n",
       "      <th>180516</th>\n",
       "      <td>1/15/2016 21:00</td>\n",
       "      <td>399.980011</td>\n",
       "      <td>2016-01-15 21:00:00</td>\n",
       "    </tr>\n",
       "    <tr>\n",
       "      <th>180517</th>\n",
       "      <td>1/15/2016 20:18</td>\n",
       "      <td>399.980011</td>\n",
       "      <td>2016-01-15 20:18:00</td>\n",
       "    </tr>\n",
       "    <tr>\n",
       "      <th>180518</th>\n",
       "      <td>1/15/2016 18:54</td>\n",
       "      <td>399.980011</td>\n",
       "      <td>2016-01-15 18:54:00</td>\n",
       "    </tr>\n",
       "  </tbody>\n",
       "</table>\n",
       "<p>180519 rows × 3 columns</p>\n",
       "</div>"
      ],
      "text/plain": [
       "       order date (DateOrders)       Sales          order_date\n",
       "0              1/31/2018 22:56  327.750000 2018-01-31 22:56:00\n",
       "1              1/13/2018 12:27  327.750000 2018-01-13 12:27:00\n",
       "2              1/13/2018 12:06  327.750000 2018-01-13 12:06:00\n",
       "3              1/13/2018 11:45  327.750000 2018-01-13 11:45:00\n",
       "4              1/13/2018 11:24  327.750000 2018-01-13 11:24:00\n",
       "...                        ...         ...                 ...\n",
       "180514          1/16/2016 3:40  399.980011 2016-01-16 03:40:00\n",
       "180515          1/16/2016 1:34  399.980011 2016-01-16 01:34:00\n",
       "180516         1/15/2016 21:00  399.980011 2016-01-15 21:00:00\n",
       "180517         1/15/2016 20:18  399.980011 2016-01-15 20:18:00\n",
       "180518         1/15/2016 18:54  399.980011 2016-01-15 18:54:00\n",
       "\n",
       "[180519 rows x 3 columns]"
      ]
     },
     "execution_count": 43,
     "metadata": {},
     "output_type": "execute_result"
    }
   ],
   "source": [
    "data_orderdate"
   ]
  },
  {
   "cell_type": "code",
   "execution_count": 44,
   "id": "184410ac",
   "metadata": {},
   "outputs": [
    {
     "name": "stderr",
     "output_type": "stream",
     "text": [
      "C:\\Users\\VAMSHI\\AppData\\Local\\Temp\\ipykernel_13556\\3482627655.py:1: SettingWithCopyWarning:\n",
      "\n",
      "\n",
      "A value is trying to be set on a copy of a slice from a DataFrame.\n",
      "Try using .loc[row_indexer,col_indexer] = value instead\n",
      "\n",
      "See the caveats in the documentation: https://pandas.pydata.org/pandas-docs/stable/user_guide/indexing.html#returning-a-view-versus-a-copy\n",
      "\n",
      "C:\\Users\\VAMSHI\\AppData\\Local\\Temp\\ipykernel_13556\\3482627655.py:2: SettingWithCopyWarning:\n",
      "\n",
      "\n",
      "A value is trying to be set on a copy of a slice from a DataFrame.\n",
      "Try using .loc[row_indexer,col_indexer] = value instead\n",
      "\n",
      "See the caveats in the documentation: https://pandas.pydata.org/pandas-docs/stable/user_guide/indexing.html#returning-a-view-versus-a-copy\n",
      "\n",
      "C:\\Users\\VAMSHI\\AppData\\Local\\Temp\\ipykernel_13556\\3482627655.py:3: SettingWithCopyWarning:\n",
      "\n",
      "\n",
      "A value is trying to be set on a copy of a slice from a DataFrame.\n",
      "Try using .loc[row_indexer,col_indexer] = value instead\n",
      "\n",
      "See the caveats in the documentation: https://pandas.pydata.org/pandas-docs/stable/user_guide/indexing.html#returning-a-view-versus-a-copy\n",
      "\n"
     ]
    }
   ],
   "source": [
    "data_orderdate[\"Quarter\"] = data_orderdate['order_date'].dt.quarter\n",
    "data_orderdate[\"Month\"] = data_orderdate['order_date'].dt.month\n",
    "data_orderdate[\"year\"] = data_orderdate['order_date'].dt.year"
   ]
  },
  {
   "cell_type": "code",
   "execution_count": 45,
   "id": "1f6c820d",
   "metadata": {},
   "outputs": [
    {
     "data": {
      "text/html": [
       "<div>\n",
       "<style scoped>\n",
       "    .dataframe tbody tr th:only-of-type {\n",
       "        vertical-align: middle;\n",
       "    }\n",
       "\n",
       "    .dataframe tbody tr th {\n",
       "        vertical-align: top;\n",
       "    }\n",
       "\n",
       "    .dataframe thead th {\n",
       "        text-align: right;\n",
       "    }\n",
       "</style>\n",
       "<table border=\"1\" class=\"dataframe\">\n",
       "  <thead>\n",
       "    <tr style=\"text-align: right;\">\n",
       "      <th></th>\n",
       "      <th>order date (DateOrders)</th>\n",
       "      <th>Sales</th>\n",
       "      <th>order_date</th>\n",
       "      <th>Quarter</th>\n",
       "      <th>Month</th>\n",
       "      <th>year</th>\n",
       "    </tr>\n",
       "  </thead>\n",
       "  <tbody>\n",
       "    <tr>\n",
       "      <th>0</th>\n",
       "      <td>1/31/2018 22:56</td>\n",
       "      <td>327.750000</td>\n",
       "      <td>2018-01-31 22:56:00</td>\n",
       "      <td>1</td>\n",
       "      <td>1</td>\n",
       "      <td>2018</td>\n",
       "    </tr>\n",
       "    <tr>\n",
       "      <th>1</th>\n",
       "      <td>1/13/2018 12:27</td>\n",
       "      <td>327.750000</td>\n",
       "      <td>2018-01-13 12:27:00</td>\n",
       "      <td>1</td>\n",
       "      <td>1</td>\n",
       "      <td>2018</td>\n",
       "    </tr>\n",
       "    <tr>\n",
       "      <th>2</th>\n",
       "      <td>1/13/2018 12:06</td>\n",
       "      <td>327.750000</td>\n",
       "      <td>2018-01-13 12:06:00</td>\n",
       "      <td>1</td>\n",
       "      <td>1</td>\n",
       "      <td>2018</td>\n",
       "    </tr>\n",
       "    <tr>\n",
       "      <th>3</th>\n",
       "      <td>1/13/2018 11:45</td>\n",
       "      <td>327.750000</td>\n",
       "      <td>2018-01-13 11:45:00</td>\n",
       "      <td>1</td>\n",
       "      <td>1</td>\n",
       "      <td>2018</td>\n",
       "    </tr>\n",
       "    <tr>\n",
       "      <th>4</th>\n",
       "      <td>1/13/2018 11:24</td>\n",
       "      <td>327.750000</td>\n",
       "      <td>2018-01-13 11:24:00</td>\n",
       "      <td>1</td>\n",
       "      <td>1</td>\n",
       "      <td>2018</td>\n",
       "    </tr>\n",
       "    <tr>\n",
       "      <th>...</th>\n",
       "      <td>...</td>\n",
       "      <td>...</td>\n",
       "      <td>...</td>\n",
       "      <td>...</td>\n",
       "      <td>...</td>\n",
       "      <td>...</td>\n",
       "    </tr>\n",
       "    <tr>\n",
       "      <th>180514</th>\n",
       "      <td>1/16/2016 3:40</td>\n",
       "      <td>399.980011</td>\n",
       "      <td>2016-01-16 03:40:00</td>\n",
       "      <td>1</td>\n",
       "      <td>1</td>\n",
       "      <td>2016</td>\n",
       "    </tr>\n",
       "    <tr>\n",
       "      <th>180515</th>\n",
       "      <td>1/16/2016 1:34</td>\n",
       "      <td>399.980011</td>\n",
       "      <td>2016-01-16 01:34:00</td>\n",
       "      <td>1</td>\n",
       "      <td>1</td>\n",
       "      <td>2016</td>\n",
       "    </tr>\n",
       "    <tr>\n",
       "      <th>180516</th>\n",
       "      <td>1/15/2016 21:00</td>\n",
       "      <td>399.980011</td>\n",
       "      <td>2016-01-15 21:00:00</td>\n",
       "      <td>1</td>\n",
       "      <td>1</td>\n",
       "      <td>2016</td>\n",
       "    </tr>\n",
       "    <tr>\n",
       "      <th>180517</th>\n",
       "      <td>1/15/2016 20:18</td>\n",
       "      <td>399.980011</td>\n",
       "      <td>2016-01-15 20:18:00</td>\n",
       "      <td>1</td>\n",
       "      <td>1</td>\n",
       "      <td>2016</td>\n",
       "    </tr>\n",
       "    <tr>\n",
       "      <th>180518</th>\n",
       "      <td>1/15/2016 18:54</td>\n",
       "      <td>399.980011</td>\n",
       "      <td>2016-01-15 18:54:00</td>\n",
       "      <td>1</td>\n",
       "      <td>1</td>\n",
       "      <td>2016</td>\n",
       "    </tr>\n",
       "  </tbody>\n",
       "</table>\n",
       "<p>180519 rows × 6 columns</p>\n",
       "</div>"
      ],
      "text/plain": [
       "       order date (DateOrders)       Sales          order_date  Quarter  \\\n",
       "0              1/31/2018 22:56  327.750000 2018-01-31 22:56:00        1   \n",
       "1              1/13/2018 12:27  327.750000 2018-01-13 12:27:00        1   \n",
       "2              1/13/2018 12:06  327.750000 2018-01-13 12:06:00        1   \n",
       "3              1/13/2018 11:45  327.750000 2018-01-13 11:45:00        1   \n",
       "4              1/13/2018 11:24  327.750000 2018-01-13 11:24:00        1   \n",
       "...                        ...         ...                 ...      ...   \n",
       "180514          1/16/2016 3:40  399.980011 2016-01-16 03:40:00        1   \n",
       "180515          1/16/2016 1:34  399.980011 2016-01-16 01:34:00        1   \n",
       "180516         1/15/2016 21:00  399.980011 2016-01-15 21:00:00        1   \n",
       "180517         1/15/2016 20:18  399.980011 2016-01-15 20:18:00        1   \n",
       "180518         1/15/2016 18:54  399.980011 2016-01-15 18:54:00        1   \n",
       "\n",
       "        Month  year  \n",
       "0           1  2018  \n",
       "1           1  2018  \n",
       "2           1  2018  \n",
       "3           1  2018  \n",
       "4           1  2018  \n",
       "...       ...   ...  \n",
       "180514      1  2016  \n",
       "180515      1  2016  \n",
       "180516      1  2016  \n",
       "180517      1  2016  \n",
       "180518      1  2016  \n",
       "\n",
       "[180519 rows x 6 columns]"
      ]
     },
     "execution_count": 45,
     "metadata": {},
     "output_type": "execute_result"
    }
   ],
   "source": [
    "data_orderdate"
   ]
  },
  {
   "cell_type": "code",
   "execution_count": 46,
   "id": "f0ac37c5",
   "metadata": {},
   "outputs": [
    {
     "name": "stderr",
     "output_type": "stream",
     "text": [
      "C:\\Users\\VAMSHI\\AppData\\Local\\Temp\\ipykernel_13556\\3922562175.py:1: SettingWithCopyWarning:\n",
      "\n",
      "\n",
      "A value is trying to be set on a copy of a slice from a DataFrame.\n",
      "Try using .loc[row_indexer,col_indexer] = value instead\n",
      "\n",
      "See the caveats in the documentation: https://pandas.pydata.org/pandas-docs/stable/user_guide/indexing.html#returning-a-view-versus-a-copy\n",
      "\n"
     ]
    },
    {
     "data": {
      "application/vnd.plotly.v1+json": {
       "config": {
        "plotlyServerURL": "https://plot.ly"
       },
       "data": [
        {
         "alignmentgroup": "True",
         "hovertemplate": "Sales of Orders=%{marker.color}<br>YearStr=%{y}<extra></extra>",
         "legendgroup": "",
         "marker": {
          "color": [
           12340831.430882765,
           12303817.324370025,
           11808436.142970216,
           331650.11515684
          ],
          "coloraxis": "coloraxis",
          "pattern": {
           "shape": ""
          }
         },
         "name": "",
         "offsetgroup": "",
         "orientation": "h",
         "showlegend": false,
         "textposition": "auto",
         "type": "bar",
         "x": [
          12340831.430882765,
          12303817.324370025,
          11808436.142970216,
          331650.11515684
         ],
         "xaxis": "x",
         "y": [
          "2015",
          "2016",
          "2017",
          "2018"
         ],
         "yaxis": "y"
        }
       ],
       "layout": {
        "barmode": "relative",
        "coloraxis": {
         "colorbar": {
          "title": {
           "text": "Sales of Orders"
          }
         },
         "colorscale": [
          [
           0,
           "#0d0887"
          ],
          [
           0.1111111111111111,
           "#46039f"
          ],
          [
           0.2222222222222222,
           "#7201a8"
          ],
          [
           0.3333333333333333,
           "#9c179e"
          ],
          [
           0.4444444444444444,
           "#bd3786"
          ],
          [
           0.5555555555555556,
           "#d8576b"
          ],
          [
           0.6666666666666666,
           "#ed7953"
          ],
          [
           0.7777777777777778,
           "#fb9f3a"
          ],
          [
           0.8888888888888888,
           "#fdca26"
          ],
          [
           1,
           "#f0f921"
          ]
         ]
        },
        "legend": {
         "tracegroupgap": 0
        },
        "margin": {
         "t": 60
        },
        "template": {
         "data": {
          "bar": [
           {
            "error_x": {
             "color": "#2a3f5f"
            },
            "error_y": {
             "color": "#2a3f5f"
            },
            "marker": {
             "line": {
              "color": "#E5ECF6",
              "width": 0.5
             },
             "pattern": {
              "fillmode": "overlay",
              "size": 10,
              "solidity": 0.2
             }
            },
            "type": "bar"
           }
          ],
          "barpolar": [
           {
            "marker": {
             "line": {
              "color": "#E5ECF6",
              "width": 0.5
             },
             "pattern": {
              "fillmode": "overlay",
              "size": 10,
              "solidity": 0.2
             }
            },
            "type": "barpolar"
           }
          ],
          "carpet": [
           {
            "aaxis": {
             "endlinecolor": "#2a3f5f",
             "gridcolor": "white",
             "linecolor": "white",
             "minorgridcolor": "white",
             "startlinecolor": "#2a3f5f"
            },
            "baxis": {
             "endlinecolor": "#2a3f5f",
             "gridcolor": "white",
             "linecolor": "white",
             "minorgridcolor": "white",
             "startlinecolor": "#2a3f5f"
            },
            "type": "carpet"
           }
          ],
          "choropleth": [
           {
            "colorbar": {
             "outlinewidth": 0,
             "ticks": ""
            },
            "type": "choropleth"
           }
          ],
          "contour": [
           {
            "colorbar": {
             "outlinewidth": 0,
             "ticks": ""
            },
            "colorscale": [
             [
              0,
              "#0d0887"
             ],
             [
              0.1111111111111111,
              "#46039f"
             ],
             [
              0.2222222222222222,
              "#7201a8"
             ],
             [
              0.3333333333333333,
              "#9c179e"
             ],
             [
              0.4444444444444444,
              "#bd3786"
             ],
             [
              0.5555555555555556,
              "#d8576b"
             ],
             [
              0.6666666666666666,
              "#ed7953"
             ],
             [
              0.7777777777777778,
              "#fb9f3a"
             ],
             [
              0.8888888888888888,
              "#fdca26"
             ],
             [
              1,
              "#f0f921"
             ]
            ],
            "type": "contour"
           }
          ],
          "contourcarpet": [
           {
            "colorbar": {
             "outlinewidth": 0,
             "ticks": ""
            },
            "type": "contourcarpet"
           }
          ],
          "heatmap": [
           {
            "colorbar": {
             "outlinewidth": 0,
             "ticks": ""
            },
            "colorscale": [
             [
              0,
              "#0d0887"
             ],
             [
              0.1111111111111111,
              "#46039f"
             ],
             [
              0.2222222222222222,
              "#7201a8"
             ],
             [
              0.3333333333333333,
              "#9c179e"
             ],
             [
              0.4444444444444444,
              "#bd3786"
             ],
             [
              0.5555555555555556,
              "#d8576b"
             ],
             [
              0.6666666666666666,
              "#ed7953"
             ],
             [
              0.7777777777777778,
              "#fb9f3a"
             ],
             [
              0.8888888888888888,
              "#fdca26"
             ],
             [
              1,
              "#f0f921"
             ]
            ],
            "type": "heatmap"
           }
          ],
          "heatmapgl": [
           {
            "colorbar": {
             "outlinewidth": 0,
             "ticks": ""
            },
            "colorscale": [
             [
              0,
              "#0d0887"
             ],
             [
              0.1111111111111111,
              "#46039f"
             ],
             [
              0.2222222222222222,
              "#7201a8"
             ],
             [
              0.3333333333333333,
              "#9c179e"
             ],
             [
              0.4444444444444444,
              "#bd3786"
             ],
             [
              0.5555555555555556,
              "#d8576b"
             ],
             [
              0.6666666666666666,
              "#ed7953"
             ],
             [
              0.7777777777777778,
              "#fb9f3a"
             ],
             [
              0.8888888888888888,
              "#fdca26"
             ],
             [
              1,
              "#f0f921"
             ]
            ],
            "type": "heatmapgl"
           }
          ],
          "histogram": [
           {
            "marker": {
             "pattern": {
              "fillmode": "overlay",
              "size": 10,
              "solidity": 0.2
             }
            },
            "type": "histogram"
           }
          ],
          "histogram2d": [
           {
            "colorbar": {
             "outlinewidth": 0,
             "ticks": ""
            },
            "colorscale": [
             [
              0,
              "#0d0887"
             ],
             [
              0.1111111111111111,
              "#46039f"
             ],
             [
              0.2222222222222222,
              "#7201a8"
             ],
             [
              0.3333333333333333,
              "#9c179e"
             ],
             [
              0.4444444444444444,
              "#bd3786"
             ],
             [
              0.5555555555555556,
              "#d8576b"
             ],
             [
              0.6666666666666666,
              "#ed7953"
             ],
             [
              0.7777777777777778,
              "#fb9f3a"
             ],
             [
              0.8888888888888888,
              "#fdca26"
             ],
             [
              1,
              "#f0f921"
             ]
            ],
            "type": "histogram2d"
           }
          ],
          "histogram2dcontour": [
           {
            "colorbar": {
             "outlinewidth": 0,
             "ticks": ""
            },
            "colorscale": [
             [
              0,
              "#0d0887"
             ],
             [
              0.1111111111111111,
              "#46039f"
             ],
             [
              0.2222222222222222,
              "#7201a8"
             ],
             [
              0.3333333333333333,
              "#9c179e"
             ],
             [
              0.4444444444444444,
              "#bd3786"
             ],
             [
              0.5555555555555556,
              "#d8576b"
             ],
             [
              0.6666666666666666,
              "#ed7953"
             ],
             [
              0.7777777777777778,
              "#fb9f3a"
             ],
             [
              0.8888888888888888,
              "#fdca26"
             ],
             [
              1,
              "#f0f921"
             ]
            ],
            "type": "histogram2dcontour"
           }
          ],
          "mesh3d": [
           {
            "colorbar": {
             "outlinewidth": 0,
             "ticks": ""
            },
            "type": "mesh3d"
           }
          ],
          "parcoords": [
           {
            "line": {
             "colorbar": {
              "outlinewidth": 0,
              "ticks": ""
             }
            },
            "type": "parcoords"
           }
          ],
          "pie": [
           {
            "automargin": true,
            "type": "pie"
           }
          ],
          "scatter": [
           {
            "marker": {
             "colorbar": {
              "outlinewidth": 0,
              "ticks": ""
             }
            },
            "type": "scatter"
           }
          ],
          "scatter3d": [
           {
            "line": {
             "colorbar": {
              "outlinewidth": 0,
              "ticks": ""
             }
            },
            "marker": {
             "colorbar": {
              "outlinewidth": 0,
              "ticks": ""
             }
            },
            "type": "scatter3d"
           }
          ],
          "scattercarpet": [
           {
            "marker": {
             "colorbar": {
              "outlinewidth": 0,
              "ticks": ""
             }
            },
            "type": "scattercarpet"
           }
          ],
          "scattergeo": [
           {
            "marker": {
             "colorbar": {
              "outlinewidth": 0,
              "ticks": ""
             }
            },
            "type": "scattergeo"
           }
          ],
          "scattergl": [
           {
            "marker": {
             "colorbar": {
              "outlinewidth": 0,
              "ticks": ""
             }
            },
            "type": "scattergl"
           }
          ],
          "scattermapbox": [
           {
            "marker": {
             "colorbar": {
              "outlinewidth": 0,
              "ticks": ""
             }
            },
            "type": "scattermapbox"
           }
          ],
          "scatterpolar": [
           {
            "marker": {
             "colorbar": {
              "outlinewidth": 0,
              "ticks": ""
             }
            },
            "type": "scatterpolar"
           }
          ],
          "scatterpolargl": [
           {
            "marker": {
             "colorbar": {
              "outlinewidth": 0,
              "ticks": ""
             }
            },
            "type": "scatterpolargl"
           }
          ],
          "scatterternary": [
           {
            "marker": {
             "colorbar": {
              "outlinewidth": 0,
              "ticks": ""
             }
            },
            "type": "scatterternary"
           }
          ],
          "surface": [
           {
            "colorbar": {
             "outlinewidth": 0,
             "ticks": ""
            },
            "colorscale": [
             [
              0,
              "#0d0887"
             ],
             [
              0.1111111111111111,
              "#46039f"
             ],
             [
              0.2222222222222222,
              "#7201a8"
             ],
             [
              0.3333333333333333,
              "#9c179e"
             ],
             [
              0.4444444444444444,
              "#bd3786"
             ],
             [
              0.5555555555555556,
              "#d8576b"
             ],
             [
              0.6666666666666666,
              "#ed7953"
             ],
             [
              0.7777777777777778,
              "#fb9f3a"
             ],
             [
              0.8888888888888888,
              "#fdca26"
             ],
             [
              1,
              "#f0f921"
             ]
            ],
            "type": "surface"
           }
          ],
          "table": [
           {
            "cells": {
             "fill": {
              "color": "#EBF0F8"
             },
             "line": {
              "color": "white"
             }
            },
            "header": {
             "fill": {
              "color": "#C8D4E3"
             },
             "line": {
              "color": "white"
             }
            },
            "type": "table"
           }
          ]
         },
         "layout": {
          "annotationdefaults": {
           "arrowcolor": "#2a3f5f",
           "arrowhead": 0,
           "arrowwidth": 1
          },
          "autotypenumbers": "strict",
          "coloraxis": {
           "colorbar": {
            "outlinewidth": 0,
            "ticks": ""
           }
          },
          "colorscale": {
           "diverging": [
            [
             0,
             "#8e0152"
            ],
            [
             0.1,
             "#c51b7d"
            ],
            [
             0.2,
             "#de77ae"
            ],
            [
             0.3,
             "#f1b6da"
            ],
            [
             0.4,
             "#fde0ef"
            ],
            [
             0.5,
             "#f7f7f7"
            ],
            [
             0.6,
             "#e6f5d0"
            ],
            [
             0.7,
             "#b8e186"
            ],
            [
             0.8,
             "#7fbc41"
            ],
            [
             0.9,
             "#4d9221"
            ],
            [
             1,
             "#276419"
            ]
           ],
           "sequential": [
            [
             0,
             "#0d0887"
            ],
            [
             0.1111111111111111,
             "#46039f"
            ],
            [
             0.2222222222222222,
             "#7201a8"
            ],
            [
             0.3333333333333333,
             "#9c179e"
            ],
            [
             0.4444444444444444,
             "#bd3786"
            ],
            [
             0.5555555555555556,
             "#d8576b"
            ],
            [
             0.6666666666666666,
             "#ed7953"
            ],
            [
             0.7777777777777778,
             "#fb9f3a"
            ],
            [
             0.8888888888888888,
             "#fdca26"
            ],
            [
             1,
             "#f0f921"
            ]
           ],
           "sequentialminus": [
            [
             0,
             "#0d0887"
            ],
            [
             0.1111111111111111,
             "#46039f"
            ],
            [
             0.2222222222222222,
             "#7201a8"
            ],
            [
             0.3333333333333333,
             "#9c179e"
            ],
            [
             0.4444444444444444,
             "#bd3786"
            ],
            [
             0.5555555555555556,
             "#d8576b"
            ],
            [
             0.6666666666666666,
             "#ed7953"
            ],
            [
             0.7777777777777778,
             "#fb9f3a"
            ],
            [
             0.8888888888888888,
             "#fdca26"
            ],
            [
             1,
             "#f0f921"
            ]
           ]
          },
          "colorway": [
           "#636efa",
           "#EF553B",
           "#00cc96",
           "#ab63fa",
           "#FFA15A",
           "#19d3f3",
           "#FF6692",
           "#B6E880",
           "#FF97FF",
           "#FECB52"
          ],
          "font": {
           "color": "#2a3f5f"
          },
          "geo": {
           "bgcolor": "white",
           "lakecolor": "white",
           "landcolor": "#E5ECF6",
           "showlakes": true,
           "showland": true,
           "subunitcolor": "white"
          },
          "hoverlabel": {
           "align": "left"
          },
          "hovermode": "closest",
          "mapbox": {
           "style": "light"
          },
          "paper_bgcolor": "white",
          "plot_bgcolor": "#E5ECF6",
          "polar": {
           "angularaxis": {
            "gridcolor": "white",
            "linecolor": "white",
            "ticks": ""
           },
           "bgcolor": "#E5ECF6",
           "radialaxis": {
            "gridcolor": "white",
            "linecolor": "white",
            "ticks": ""
           }
          },
          "scene": {
           "xaxis": {
            "backgroundcolor": "#E5ECF6",
            "gridcolor": "white",
            "gridwidth": 2,
            "linecolor": "white",
            "showbackground": true,
            "ticks": "",
            "zerolinecolor": "white"
           },
           "yaxis": {
            "backgroundcolor": "#E5ECF6",
            "gridcolor": "white",
            "gridwidth": 2,
            "linecolor": "white",
            "showbackground": true,
            "ticks": "",
            "zerolinecolor": "white"
           },
           "zaxis": {
            "backgroundcolor": "#E5ECF6",
            "gridcolor": "white",
            "gridwidth": 2,
            "linecolor": "white",
            "showbackground": true,
            "ticks": "",
            "zerolinecolor": "white"
           }
          },
          "shapedefaults": {
           "line": {
            "color": "#2a3f5f"
           }
          },
          "ternary": {
           "aaxis": {
            "gridcolor": "white",
            "linecolor": "white",
            "ticks": ""
           },
           "baxis": {
            "gridcolor": "white",
            "linecolor": "white",
            "ticks": ""
           },
           "bgcolor": "#E5ECF6",
           "caxis": {
            "gridcolor": "white",
            "linecolor": "white",
            "ticks": ""
           }
          },
          "title": {
           "x": 0.05
          },
          "xaxis": {
           "automargin": true,
           "gridcolor": "white",
           "linecolor": "white",
           "ticks": "",
           "title": {
            "standoff": 15
           },
           "zerolinecolor": "white",
           "zerolinewidth": 2
          },
          "yaxis": {
           "automargin": true,
           "gridcolor": "white",
           "linecolor": "white",
           "ticks": "",
           "title": {
            "standoff": 15
           },
           "zerolinecolor": "white",
           "zerolinewidth": 2
          }
         }
        },
        "xaxis": {
         "anchor": "y",
         "domain": [
          0,
          1
         ],
         "title": {
          "text": "Sales of Orders"
         }
        },
        "yaxis": {
         "anchor": "x",
         "domain": [
          0,
          1
         ],
         "title": {
          "text": "YearStr"
         }
        }
       }
      },
      "text/html": [
       "<div>                            <div id=\"3b479c9f-f98b-42f7-8552-ab3d17d7b65a\" class=\"plotly-graph-div\" style=\"height:525px; width:100%;\"></div>            <script type=\"text/javascript\">                require([\"plotly\"], function(Plotly) {                    window.PLOTLYENV=window.PLOTLYENV || {};                                    if (document.getElementById(\"3b479c9f-f98b-42f7-8552-ab3d17d7b65a\")) {                    Plotly.newPlot(                        \"3b479c9f-f98b-42f7-8552-ab3d17d7b65a\",                        [{\"alignmentgroup\":\"True\",\"hovertemplate\":\"Sales of Orders=%{marker.color}<br>YearStr=%{y}<extra></extra>\",\"legendgroup\":\"\",\"marker\":{\"color\":[12340831.430882765,12303817.324370025,11808436.142970216,331650.11515684],\"coloraxis\":\"coloraxis\",\"pattern\":{\"shape\":\"\"}},\"name\":\"\",\"offsetgroup\":\"\",\"orientation\":\"h\",\"showlegend\":false,\"textposition\":\"auto\",\"x\":[12340831.430882765,12303817.324370025,11808436.142970216,331650.11515684],\"xaxis\":\"x\",\"y\":[\"2015\",\"2016\",\"2017\",\"2018\"],\"yaxis\":\"y\",\"type\":\"bar\"}],                        {\"template\":{\"data\":{\"bar\":[{\"error_x\":{\"color\":\"#2a3f5f\"},\"error_y\":{\"color\":\"#2a3f5f\"},\"marker\":{\"line\":{\"color\":\"#E5ECF6\",\"width\":0.5},\"pattern\":{\"fillmode\":\"overlay\",\"size\":10,\"solidity\":0.2}},\"type\":\"bar\"}],\"barpolar\":[{\"marker\":{\"line\":{\"color\":\"#E5ECF6\",\"width\":0.5},\"pattern\":{\"fillmode\":\"overlay\",\"size\":10,\"solidity\":0.2}},\"type\":\"barpolar\"}],\"carpet\":[{\"aaxis\":{\"endlinecolor\":\"#2a3f5f\",\"gridcolor\":\"white\",\"linecolor\":\"white\",\"minorgridcolor\":\"white\",\"startlinecolor\":\"#2a3f5f\"},\"baxis\":{\"endlinecolor\":\"#2a3f5f\",\"gridcolor\":\"white\",\"linecolor\":\"white\",\"minorgridcolor\":\"white\",\"startlinecolor\":\"#2a3f5f\"},\"type\":\"carpet\"}],\"choropleth\":[{\"colorbar\":{\"outlinewidth\":0,\"ticks\":\"\"},\"type\":\"choropleth\"}],\"contour\":[{\"colorbar\":{\"outlinewidth\":0,\"ticks\":\"\"},\"colorscale\":[[0.0,\"#0d0887\"],[0.1111111111111111,\"#46039f\"],[0.2222222222222222,\"#7201a8\"],[0.3333333333333333,\"#9c179e\"],[0.4444444444444444,\"#bd3786\"],[0.5555555555555556,\"#d8576b\"],[0.6666666666666666,\"#ed7953\"],[0.7777777777777778,\"#fb9f3a\"],[0.8888888888888888,\"#fdca26\"],[1.0,\"#f0f921\"]],\"type\":\"contour\"}],\"contourcarpet\":[{\"colorbar\":{\"outlinewidth\":0,\"ticks\":\"\"},\"type\":\"contourcarpet\"}],\"heatmap\":[{\"colorbar\":{\"outlinewidth\":0,\"ticks\":\"\"},\"colorscale\":[[0.0,\"#0d0887\"],[0.1111111111111111,\"#46039f\"],[0.2222222222222222,\"#7201a8\"],[0.3333333333333333,\"#9c179e\"],[0.4444444444444444,\"#bd3786\"],[0.5555555555555556,\"#d8576b\"],[0.6666666666666666,\"#ed7953\"],[0.7777777777777778,\"#fb9f3a\"],[0.8888888888888888,\"#fdca26\"],[1.0,\"#f0f921\"]],\"type\":\"heatmap\"}],\"heatmapgl\":[{\"colorbar\":{\"outlinewidth\":0,\"ticks\":\"\"},\"colorscale\":[[0.0,\"#0d0887\"],[0.1111111111111111,\"#46039f\"],[0.2222222222222222,\"#7201a8\"],[0.3333333333333333,\"#9c179e\"],[0.4444444444444444,\"#bd3786\"],[0.5555555555555556,\"#d8576b\"],[0.6666666666666666,\"#ed7953\"],[0.7777777777777778,\"#fb9f3a\"],[0.8888888888888888,\"#fdca26\"],[1.0,\"#f0f921\"]],\"type\":\"heatmapgl\"}],\"histogram\":[{\"marker\":{\"pattern\":{\"fillmode\":\"overlay\",\"size\":10,\"solidity\":0.2}},\"type\":\"histogram\"}],\"histogram2d\":[{\"colorbar\":{\"outlinewidth\":0,\"ticks\":\"\"},\"colorscale\":[[0.0,\"#0d0887\"],[0.1111111111111111,\"#46039f\"],[0.2222222222222222,\"#7201a8\"],[0.3333333333333333,\"#9c179e\"],[0.4444444444444444,\"#bd3786\"],[0.5555555555555556,\"#d8576b\"],[0.6666666666666666,\"#ed7953\"],[0.7777777777777778,\"#fb9f3a\"],[0.8888888888888888,\"#fdca26\"],[1.0,\"#f0f921\"]],\"type\":\"histogram2d\"}],\"histogram2dcontour\":[{\"colorbar\":{\"outlinewidth\":0,\"ticks\":\"\"},\"colorscale\":[[0.0,\"#0d0887\"],[0.1111111111111111,\"#46039f\"],[0.2222222222222222,\"#7201a8\"],[0.3333333333333333,\"#9c179e\"],[0.4444444444444444,\"#bd3786\"],[0.5555555555555556,\"#d8576b\"],[0.6666666666666666,\"#ed7953\"],[0.7777777777777778,\"#fb9f3a\"],[0.8888888888888888,\"#fdca26\"],[1.0,\"#f0f921\"]],\"type\":\"histogram2dcontour\"}],\"mesh3d\":[{\"colorbar\":{\"outlinewidth\":0,\"ticks\":\"\"},\"type\":\"mesh3d\"}],\"parcoords\":[{\"line\":{\"colorbar\":{\"outlinewidth\":0,\"ticks\":\"\"}},\"type\":\"parcoords\"}],\"pie\":[{\"automargin\":true,\"type\":\"pie\"}],\"scatter\":[{\"marker\":{\"colorbar\":{\"outlinewidth\":0,\"ticks\":\"\"}},\"type\":\"scatter\"}],\"scatter3d\":[{\"line\":{\"colorbar\":{\"outlinewidth\":0,\"ticks\":\"\"}},\"marker\":{\"colorbar\":{\"outlinewidth\":0,\"ticks\":\"\"}},\"type\":\"scatter3d\"}],\"scattercarpet\":[{\"marker\":{\"colorbar\":{\"outlinewidth\":0,\"ticks\":\"\"}},\"type\":\"scattercarpet\"}],\"scattergeo\":[{\"marker\":{\"colorbar\":{\"outlinewidth\":0,\"ticks\":\"\"}},\"type\":\"scattergeo\"}],\"scattergl\":[{\"marker\":{\"colorbar\":{\"outlinewidth\":0,\"ticks\":\"\"}},\"type\":\"scattergl\"}],\"scattermapbox\":[{\"marker\":{\"colorbar\":{\"outlinewidth\":0,\"ticks\":\"\"}},\"type\":\"scattermapbox\"}],\"scatterpolar\":[{\"marker\":{\"colorbar\":{\"outlinewidth\":0,\"ticks\":\"\"}},\"type\":\"scatterpolar\"}],\"scatterpolargl\":[{\"marker\":{\"colorbar\":{\"outlinewidth\":0,\"ticks\":\"\"}},\"type\":\"scatterpolargl\"}],\"scatterternary\":[{\"marker\":{\"colorbar\":{\"outlinewidth\":0,\"ticks\":\"\"}},\"type\":\"scatterternary\"}],\"surface\":[{\"colorbar\":{\"outlinewidth\":0,\"ticks\":\"\"},\"colorscale\":[[0.0,\"#0d0887\"],[0.1111111111111111,\"#46039f\"],[0.2222222222222222,\"#7201a8\"],[0.3333333333333333,\"#9c179e\"],[0.4444444444444444,\"#bd3786\"],[0.5555555555555556,\"#d8576b\"],[0.6666666666666666,\"#ed7953\"],[0.7777777777777778,\"#fb9f3a\"],[0.8888888888888888,\"#fdca26\"],[1.0,\"#f0f921\"]],\"type\":\"surface\"}],\"table\":[{\"cells\":{\"fill\":{\"color\":\"#EBF0F8\"},\"line\":{\"color\":\"white\"}},\"header\":{\"fill\":{\"color\":\"#C8D4E3\"},\"line\":{\"color\":\"white\"}},\"type\":\"table\"}]},\"layout\":{\"annotationdefaults\":{\"arrowcolor\":\"#2a3f5f\",\"arrowhead\":0,\"arrowwidth\":1},\"autotypenumbers\":\"strict\",\"coloraxis\":{\"colorbar\":{\"outlinewidth\":0,\"ticks\":\"\"}},\"colorscale\":{\"diverging\":[[0,\"#8e0152\"],[0.1,\"#c51b7d\"],[0.2,\"#de77ae\"],[0.3,\"#f1b6da\"],[0.4,\"#fde0ef\"],[0.5,\"#f7f7f7\"],[0.6,\"#e6f5d0\"],[0.7,\"#b8e186\"],[0.8,\"#7fbc41\"],[0.9,\"#4d9221\"],[1,\"#276419\"]],\"sequential\":[[0.0,\"#0d0887\"],[0.1111111111111111,\"#46039f\"],[0.2222222222222222,\"#7201a8\"],[0.3333333333333333,\"#9c179e\"],[0.4444444444444444,\"#bd3786\"],[0.5555555555555556,\"#d8576b\"],[0.6666666666666666,\"#ed7953\"],[0.7777777777777778,\"#fb9f3a\"],[0.8888888888888888,\"#fdca26\"],[1.0,\"#f0f921\"]],\"sequentialminus\":[[0.0,\"#0d0887\"],[0.1111111111111111,\"#46039f\"],[0.2222222222222222,\"#7201a8\"],[0.3333333333333333,\"#9c179e\"],[0.4444444444444444,\"#bd3786\"],[0.5555555555555556,\"#d8576b\"],[0.6666666666666666,\"#ed7953\"],[0.7777777777777778,\"#fb9f3a\"],[0.8888888888888888,\"#fdca26\"],[1.0,\"#f0f921\"]]},\"colorway\":[\"#636efa\",\"#EF553B\",\"#00cc96\",\"#ab63fa\",\"#FFA15A\",\"#19d3f3\",\"#FF6692\",\"#B6E880\",\"#FF97FF\",\"#FECB52\"],\"font\":{\"color\":\"#2a3f5f\"},\"geo\":{\"bgcolor\":\"white\",\"lakecolor\":\"white\",\"landcolor\":\"#E5ECF6\",\"showlakes\":true,\"showland\":true,\"subunitcolor\":\"white\"},\"hoverlabel\":{\"align\":\"left\"},\"hovermode\":\"closest\",\"mapbox\":{\"style\":\"light\"},\"paper_bgcolor\":\"white\",\"plot_bgcolor\":\"#E5ECF6\",\"polar\":{\"angularaxis\":{\"gridcolor\":\"white\",\"linecolor\":\"white\",\"ticks\":\"\"},\"bgcolor\":\"#E5ECF6\",\"radialaxis\":{\"gridcolor\":\"white\",\"linecolor\":\"white\",\"ticks\":\"\"}},\"scene\":{\"xaxis\":{\"backgroundcolor\":\"#E5ECF6\",\"gridcolor\":\"white\",\"gridwidth\":2,\"linecolor\":\"white\",\"showbackground\":true,\"ticks\":\"\",\"zerolinecolor\":\"white\"},\"yaxis\":{\"backgroundcolor\":\"#E5ECF6\",\"gridcolor\":\"white\",\"gridwidth\":2,\"linecolor\":\"white\",\"showbackground\":true,\"ticks\":\"\",\"zerolinecolor\":\"white\"},\"zaxis\":{\"backgroundcolor\":\"#E5ECF6\",\"gridcolor\":\"white\",\"gridwidth\":2,\"linecolor\":\"white\",\"showbackground\":true,\"ticks\":\"\",\"zerolinecolor\":\"white\"}},\"shapedefaults\":{\"line\":{\"color\":\"#2a3f5f\"}},\"ternary\":{\"aaxis\":{\"gridcolor\":\"white\",\"linecolor\":\"white\",\"ticks\":\"\"},\"baxis\":{\"gridcolor\":\"white\",\"linecolor\":\"white\",\"ticks\":\"\"},\"bgcolor\":\"#E5ECF6\",\"caxis\":{\"gridcolor\":\"white\",\"linecolor\":\"white\",\"ticks\":\"\"}},\"title\":{\"x\":0.05},\"xaxis\":{\"automargin\":true,\"gridcolor\":\"white\",\"linecolor\":\"white\",\"ticks\":\"\",\"title\":{\"standoff\":15},\"zerolinecolor\":\"white\",\"zerolinewidth\":2},\"yaxis\":{\"automargin\":true,\"gridcolor\":\"white\",\"linecolor\":\"white\",\"ticks\":\"\",\"title\":{\"standoff\":15},\"zerolinecolor\":\"white\",\"zerolinewidth\":2}}},\"xaxis\":{\"anchor\":\"y\",\"domain\":[0.0,1.0],\"title\":{\"text\":\"Sales of Orders\"}},\"yaxis\":{\"anchor\":\"x\",\"domain\":[0.0,1.0],\"title\":{\"text\":\"YearStr\"}},\"coloraxis\":{\"colorbar\":{\"title\":{\"text\":\"Sales of Orders\"}},\"colorscale\":[[0.0,\"#0d0887\"],[0.1111111111111111,\"#46039f\"],[0.2222222222222222,\"#7201a8\"],[0.3333333333333333,\"#9c179e\"],[0.4444444444444444,\"#bd3786\"],[0.5555555555555556,\"#d8576b\"],[0.6666666666666666,\"#ed7953\"],[0.7777777777777778,\"#fb9f3a\"],[0.8888888888888888,\"#fdca26\"],[1.0,\"#f0f921\"]]},\"legend\":{\"tracegroupgap\":0},\"margin\":{\"t\":60},\"barmode\":\"relative\"},                        {\"responsive\": true}                    ).then(function(){\n",
       "                            \n",
       "var gd = document.getElementById('3b479c9f-f98b-42f7-8552-ab3d17d7b65a');\n",
       "var x = new MutationObserver(function (mutations, observer) {{\n",
       "        var display = window.getComputedStyle(gd).display;\n",
       "        if (!display || display === 'none') {{\n",
       "            console.log([gd, 'removed!']);\n",
       "            Plotly.purge(gd);\n",
       "            observer.disconnect();\n",
       "        }}\n",
       "}});\n",
       "\n",
       "// Listen for the removal of the full notebook cells\n",
       "var notebookContainer = gd.closest('#notebook-container');\n",
       "if (notebookContainer) {{\n",
       "    x.observe(notebookContainer, {childList: true});\n",
       "}}\n",
       "\n",
       "// Listen for the clearing of the current output cell\n",
       "var outputEl = gd.closest('.output');\n",
       "if (outputEl) {{\n",
       "    x.observe(outputEl, {childList: true});\n",
       "}}\n",
       "\n",
       "                        })                };                });            </script>        </div>"
      ]
     },
     "metadata": {},
     "output_type": "display_data"
    }
   ],
   "source": [
    "data_orderdate['YearStr']=data_orderdate['year'].astype(str)\n",
    "df_sales_year=data_orderdate.groupby([ 'YearStr'])['Sales'].sum().reset_index(name='Sales of Orders').sort_values(by= 'Sales of Orders', ascending= False)\n",
    "px.bar(df_sales_year, x='Sales of Orders',y = 'YearStr',color ='Sales of Orders')"
   ]
  },
  {
   "cell_type": "code",
   "execution_count": 47,
   "id": "cbd145d4",
   "metadata": {},
   "outputs": [
    {
     "name": "stderr",
     "output_type": "stream",
     "text": [
      "C:\\Users\\VAMSHI\\AppData\\Local\\Temp\\ipykernel_13556\\1609770672.py:1: SettingWithCopyWarning:\n",
      "\n",
      "\n",
      "A value is trying to be set on a copy of a slice from a DataFrame.\n",
      "Try using .loc[row_indexer,col_indexer] = value instead\n",
      "\n",
      "See the caveats in the documentation: https://pandas.pydata.org/pandas-docs/stable/user_guide/indexing.html#returning-a-view-versus-a-copy\n",
      "\n"
     ]
    },
    {
     "data": {
      "application/vnd.plotly.v1+json": {
       "config": {
        "plotlyServerURL": "https://plot.ly"
       },
       "data": [
        {
         "alignmentgroup": "True",
         "hovertemplate": "YearStr=2017<br>Sales of Orders=%{x}<br>QuarterStr=%{y}<extra></extra>",
         "legendgroup": "2017",
         "marker": {
          "color": "#636efa",
          "pattern": {
           "shape": ""
          }
         },
         "name": "2017",
         "offsetgroup": "2017",
         "orientation": "h",
         "showlegend": true,
         "textposition": "auto",
         "type": "bar",
         "x": [
          3357485.63985925,
          3175893.433076961,
          3070237.700003415,
          2204819.37003059
         ],
         "xaxis": "x",
         "y": [
          "3",
          "2",
          "1",
          "4"
         ],
         "yaxis": "y"
        },
        {
         "alignmentgroup": "True",
         "hovertemplate": "YearStr=2015<br>Sales of Orders=%{x}<br>QuarterStr=%{y}<extra></extra>",
         "legendgroup": "2015",
         "marker": {
          "color": "#EF553B",
          "pattern": {
           "shape": ""
          }
         },
         "name": "2015",
         "offsetgroup": "2015",
         "orientation": "h",
         "showlegend": true,
         "textposition": "auto",
         "type": "bar",
         "x": [
          3136115.391666825,
          3088947.8898070958,
          3085914.480709167,
          3029853.668699677
         ],
         "xaxis": "x",
         "y": [
          "4",
          "2",
          "3",
          "1"
         ],
         "yaxis": "y"
        },
        {
         "alignmentgroup": "True",
         "hovertemplate": "YearStr=2016<br>Sales of Orders=%{x}<br>QuarterStr=%{y}<extra></extra>",
         "legendgroup": "2016",
         "marker": {
          "color": "#00cc96",
          "pattern": {
           "shape": ""
          }
         },
         "name": "2016",
         "offsetgroup": "2016",
         "orientation": "h",
         "showlegend": true,
         "textposition": "auto",
         "type": "bar",
         "x": [
          3133128.861606115,
          3096312.911913626,
          3040704.220343597,
          3033671.330506687
         ],
         "xaxis": "x",
         "y": [
          "4",
          "3",
          "1",
          "2"
         ],
         "yaxis": "y"
        },
        {
         "alignmentgroup": "True",
         "hovertemplate": "YearStr=2018<br>Sales of Orders=%{x}<br>QuarterStr=%{y}<extra></extra>",
         "legendgroup": "2018",
         "marker": {
          "color": "#ab63fa",
          "pattern": {
           "shape": ""
          }
         },
         "name": "2018",
         "offsetgroup": "2018",
         "orientation": "h",
         "showlegend": true,
         "textposition": "auto",
         "type": "bar",
         "x": [
          331650.11515684
         ],
         "xaxis": "x",
         "y": [
          "1"
         ],
         "yaxis": "y"
        }
       ],
       "layout": {
        "barmode": "relative",
        "legend": {
         "title": {
          "text": "YearStr"
         },
         "tracegroupgap": 0
        },
        "margin": {
         "t": 60
        },
        "template": {
         "data": {
          "bar": [
           {
            "error_x": {
             "color": "#2a3f5f"
            },
            "error_y": {
             "color": "#2a3f5f"
            },
            "marker": {
             "line": {
              "color": "#E5ECF6",
              "width": 0.5
             },
             "pattern": {
              "fillmode": "overlay",
              "size": 10,
              "solidity": 0.2
             }
            },
            "type": "bar"
           }
          ],
          "barpolar": [
           {
            "marker": {
             "line": {
              "color": "#E5ECF6",
              "width": 0.5
             },
             "pattern": {
              "fillmode": "overlay",
              "size": 10,
              "solidity": 0.2
             }
            },
            "type": "barpolar"
           }
          ],
          "carpet": [
           {
            "aaxis": {
             "endlinecolor": "#2a3f5f",
             "gridcolor": "white",
             "linecolor": "white",
             "minorgridcolor": "white",
             "startlinecolor": "#2a3f5f"
            },
            "baxis": {
             "endlinecolor": "#2a3f5f",
             "gridcolor": "white",
             "linecolor": "white",
             "minorgridcolor": "white",
             "startlinecolor": "#2a3f5f"
            },
            "type": "carpet"
           }
          ],
          "choropleth": [
           {
            "colorbar": {
             "outlinewidth": 0,
             "ticks": ""
            },
            "type": "choropleth"
           }
          ],
          "contour": [
           {
            "colorbar": {
             "outlinewidth": 0,
             "ticks": ""
            },
            "colorscale": [
             [
              0,
              "#0d0887"
             ],
             [
              0.1111111111111111,
              "#46039f"
             ],
             [
              0.2222222222222222,
              "#7201a8"
             ],
             [
              0.3333333333333333,
              "#9c179e"
             ],
             [
              0.4444444444444444,
              "#bd3786"
             ],
             [
              0.5555555555555556,
              "#d8576b"
             ],
             [
              0.6666666666666666,
              "#ed7953"
             ],
             [
              0.7777777777777778,
              "#fb9f3a"
             ],
             [
              0.8888888888888888,
              "#fdca26"
             ],
             [
              1,
              "#f0f921"
             ]
            ],
            "type": "contour"
           }
          ],
          "contourcarpet": [
           {
            "colorbar": {
             "outlinewidth": 0,
             "ticks": ""
            },
            "type": "contourcarpet"
           }
          ],
          "heatmap": [
           {
            "colorbar": {
             "outlinewidth": 0,
             "ticks": ""
            },
            "colorscale": [
             [
              0,
              "#0d0887"
             ],
             [
              0.1111111111111111,
              "#46039f"
             ],
             [
              0.2222222222222222,
              "#7201a8"
             ],
             [
              0.3333333333333333,
              "#9c179e"
             ],
             [
              0.4444444444444444,
              "#bd3786"
             ],
             [
              0.5555555555555556,
              "#d8576b"
             ],
             [
              0.6666666666666666,
              "#ed7953"
             ],
             [
              0.7777777777777778,
              "#fb9f3a"
             ],
             [
              0.8888888888888888,
              "#fdca26"
             ],
             [
              1,
              "#f0f921"
             ]
            ],
            "type": "heatmap"
           }
          ],
          "heatmapgl": [
           {
            "colorbar": {
             "outlinewidth": 0,
             "ticks": ""
            },
            "colorscale": [
             [
              0,
              "#0d0887"
             ],
             [
              0.1111111111111111,
              "#46039f"
             ],
             [
              0.2222222222222222,
              "#7201a8"
             ],
             [
              0.3333333333333333,
              "#9c179e"
             ],
             [
              0.4444444444444444,
              "#bd3786"
             ],
             [
              0.5555555555555556,
              "#d8576b"
             ],
             [
              0.6666666666666666,
              "#ed7953"
             ],
             [
              0.7777777777777778,
              "#fb9f3a"
             ],
             [
              0.8888888888888888,
              "#fdca26"
             ],
             [
              1,
              "#f0f921"
             ]
            ],
            "type": "heatmapgl"
           }
          ],
          "histogram": [
           {
            "marker": {
             "pattern": {
              "fillmode": "overlay",
              "size": 10,
              "solidity": 0.2
             }
            },
            "type": "histogram"
           }
          ],
          "histogram2d": [
           {
            "colorbar": {
             "outlinewidth": 0,
             "ticks": ""
            },
            "colorscale": [
             [
              0,
              "#0d0887"
             ],
             [
              0.1111111111111111,
              "#46039f"
             ],
             [
              0.2222222222222222,
              "#7201a8"
             ],
             [
              0.3333333333333333,
              "#9c179e"
             ],
             [
              0.4444444444444444,
              "#bd3786"
             ],
             [
              0.5555555555555556,
              "#d8576b"
             ],
             [
              0.6666666666666666,
              "#ed7953"
             ],
             [
              0.7777777777777778,
              "#fb9f3a"
             ],
             [
              0.8888888888888888,
              "#fdca26"
             ],
             [
              1,
              "#f0f921"
             ]
            ],
            "type": "histogram2d"
           }
          ],
          "histogram2dcontour": [
           {
            "colorbar": {
             "outlinewidth": 0,
             "ticks": ""
            },
            "colorscale": [
             [
              0,
              "#0d0887"
             ],
             [
              0.1111111111111111,
              "#46039f"
             ],
             [
              0.2222222222222222,
              "#7201a8"
             ],
             [
              0.3333333333333333,
              "#9c179e"
             ],
             [
              0.4444444444444444,
              "#bd3786"
             ],
             [
              0.5555555555555556,
              "#d8576b"
             ],
             [
              0.6666666666666666,
              "#ed7953"
             ],
             [
              0.7777777777777778,
              "#fb9f3a"
             ],
             [
              0.8888888888888888,
              "#fdca26"
             ],
             [
              1,
              "#f0f921"
             ]
            ],
            "type": "histogram2dcontour"
           }
          ],
          "mesh3d": [
           {
            "colorbar": {
             "outlinewidth": 0,
             "ticks": ""
            },
            "type": "mesh3d"
           }
          ],
          "parcoords": [
           {
            "line": {
             "colorbar": {
              "outlinewidth": 0,
              "ticks": ""
             }
            },
            "type": "parcoords"
           }
          ],
          "pie": [
           {
            "automargin": true,
            "type": "pie"
           }
          ],
          "scatter": [
           {
            "marker": {
             "colorbar": {
              "outlinewidth": 0,
              "ticks": ""
             }
            },
            "type": "scatter"
           }
          ],
          "scatter3d": [
           {
            "line": {
             "colorbar": {
              "outlinewidth": 0,
              "ticks": ""
             }
            },
            "marker": {
             "colorbar": {
              "outlinewidth": 0,
              "ticks": ""
             }
            },
            "type": "scatter3d"
           }
          ],
          "scattercarpet": [
           {
            "marker": {
             "colorbar": {
              "outlinewidth": 0,
              "ticks": ""
             }
            },
            "type": "scattercarpet"
           }
          ],
          "scattergeo": [
           {
            "marker": {
             "colorbar": {
              "outlinewidth": 0,
              "ticks": ""
             }
            },
            "type": "scattergeo"
           }
          ],
          "scattergl": [
           {
            "marker": {
             "colorbar": {
              "outlinewidth": 0,
              "ticks": ""
             }
            },
            "type": "scattergl"
           }
          ],
          "scattermapbox": [
           {
            "marker": {
             "colorbar": {
              "outlinewidth": 0,
              "ticks": ""
             }
            },
            "type": "scattermapbox"
           }
          ],
          "scatterpolar": [
           {
            "marker": {
             "colorbar": {
              "outlinewidth": 0,
              "ticks": ""
             }
            },
            "type": "scatterpolar"
           }
          ],
          "scatterpolargl": [
           {
            "marker": {
             "colorbar": {
              "outlinewidth": 0,
              "ticks": ""
             }
            },
            "type": "scatterpolargl"
           }
          ],
          "scatterternary": [
           {
            "marker": {
             "colorbar": {
              "outlinewidth": 0,
              "ticks": ""
             }
            },
            "type": "scatterternary"
           }
          ],
          "surface": [
           {
            "colorbar": {
             "outlinewidth": 0,
             "ticks": ""
            },
            "colorscale": [
             [
              0,
              "#0d0887"
             ],
             [
              0.1111111111111111,
              "#46039f"
             ],
             [
              0.2222222222222222,
              "#7201a8"
             ],
             [
              0.3333333333333333,
              "#9c179e"
             ],
             [
              0.4444444444444444,
              "#bd3786"
             ],
             [
              0.5555555555555556,
              "#d8576b"
             ],
             [
              0.6666666666666666,
              "#ed7953"
             ],
             [
              0.7777777777777778,
              "#fb9f3a"
             ],
             [
              0.8888888888888888,
              "#fdca26"
             ],
             [
              1,
              "#f0f921"
             ]
            ],
            "type": "surface"
           }
          ],
          "table": [
           {
            "cells": {
             "fill": {
              "color": "#EBF0F8"
             },
             "line": {
              "color": "white"
             }
            },
            "header": {
             "fill": {
              "color": "#C8D4E3"
             },
             "line": {
              "color": "white"
             }
            },
            "type": "table"
           }
          ]
         },
         "layout": {
          "annotationdefaults": {
           "arrowcolor": "#2a3f5f",
           "arrowhead": 0,
           "arrowwidth": 1
          },
          "autotypenumbers": "strict",
          "coloraxis": {
           "colorbar": {
            "outlinewidth": 0,
            "ticks": ""
           }
          },
          "colorscale": {
           "diverging": [
            [
             0,
             "#8e0152"
            ],
            [
             0.1,
             "#c51b7d"
            ],
            [
             0.2,
             "#de77ae"
            ],
            [
             0.3,
             "#f1b6da"
            ],
            [
             0.4,
             "#fde0ef"
            ],
            [
             0.5,
             "#f7f7f7"
            ],
            [
             0.6,
             "#e6f5d0"
            ],
            [
             0.7,
             "#b8e186"
            ],
            [
             0.8,
             "#7fbc41"
            ],
            [
             0.9,
             "#4d9221"
            ],
            [
             1,
             "#276419"
            ]
           ],
           "sequential": [
            [
             0,
             "#0d0887"
            ],
            [
             0.1111111111111111,
             "#46039f"
            ],
            [
             0.2222222222222222,
             "#7201a8"
            ],
            [
             0.3333333333333333,
             "#9c179e"
            ],
            [
             0.4444444444444444,
             "#bd3786"
            ],
            [
             0.5555555555555556,
             "#d8576b"
            ],
            [
             0.6666666666666666,
             "#ed7953"
            ],
            [
             0.7777777777777778,
             "#fb9f3a"
            ],
            [
             0.8888888888888888,
             "#fdca26"
            ],
            [
             1,
             "#f0f921"
            ]
           ],
           "sequentialminus": [
            [
             0,
             "#0d0887"
            ],
            [
             0.1111111111111111,
             "#46039f"
            ],
            [
             0.2222222222222222,
             "#7201a8"
            ],
            [
             0.3333333333333333,
             "#9c179e"
            ],
            [
             0.4444444444444444,
             "#bd3786"
            ],
            [
             0.5555555555555556,
             "#d8576b"
            ],
            [
             0.6666666666666666,
             "#ed7953"
            ],
            [
             0.7777777777777778,
             "#fb9f3a"
            ],
            [
             0.8888888888888888,
             "#fdca26"
            ],
            [
             1,
             "#f0f921"
            ]
           ]
          },
          "colorway": [
           "#636efa",
           "#EF553B",
           "#00cc96",
           "#ab63fa",
           "#FFA15A",
           "#19d3f3",
           "#FF6692",
           "#B6E880",
           "#FF97FF",
           "#FECB52"
          ],
          "font": {
           "color": "#2a3f5f"
          },
          "geo": {
           "bgcolor": "white",
           "lakecolor": "white",
           "landcolor": "#E5ECF6",
           "showlakes": true,
           "showland": true,
           "subunitcolor": "white"
          },
          "hoverlabel": {
           "align": "left"
          },
          "hovermode": "closest",
          "mapbox": {
           "style": "light"
          },
          "paper_bgcolor": "white",
          "plot_bgcolor": "#E5ECF6",
          "polar": {
           "angularaxis": {
            "gridcolor": "white",
            "linecolor": "white",
            "ticks": ""
           },
           "bgcolor": "#E5ECF6",
           "radialaxis": {
            "gridcolor": "white",
            "linecolor": "white",
            "ticks": ""
           }
          },
          "scene": {
           "xaxis": {
            "backgroundcolor": "#E5ECF6",
            "gridcolor": "white",
            "gridwidth": 2,
            "linecolor": "white",
            "showbackground": true,
            "ticks": "",
            "zerolinecolor": "white"
           },
           "yaxis": {
            "backgroundcolor": "#E5ECF6",
            "gridcolor": "white",
            "gridwidth": 2,
            "linecolor": "white",
            "showbackground": true,
            "ticks": "",
            "zerolinecolor": "white"
           },
           "zaxis": {
            "backgroundcolor": "#E5ECF6",
            "gridcolor": "white",
            "gridwidth": 2,
            "linecolor": "white",
            "showbackground": true,
            "ticks": "",
            "zerolinecolor": "white"
           }
          },
          "shapedefaults": {
           "line": {
            "color": "#2a3f5f"
           }
          },
          "ternary": {
           "aaxis": {
            "gridcolor": "white",
            "linecolor": "white",
            "ticks": ""
           },
           "baxis": {
            "gridcolor": "white",
            "linecolor": "white",
            "ticks": ""
           },
           "bgcolor": "#E5ECF6",
           "caxis": {
            "gridcolor": "white",
            "linecolor": "white",
            "ticks": ""
           }
          },
          "title": {
           "x": 0.05
          },
          "xaxis": {
           "automargin": true,
           "gridcolor": "white",
           "linecolor": "white",
           "ticks": "",
           "title": {
            "standoff": 15
           },
           "zerolinecolor": "white",
           "zerolinewidth": 2
          },
          "yaxis": {
           "automargin": true,
           "gridcolor": "white",
           "linecolor": "white",
           "ticks": "",
           "title": {
            "standoff": 15
           },
           "zerolinecolor": "white",
           "zerolinewidth": 2
          }
         }
        },
        "xaxis": {
         "anchor": "y",
         "domain": [
          0,
          1
         ],
         "title": {
          "text": "Sales of Orders"
         }
        },
        "yaxis": {
         "anchor": "x",
         "domain": [
          0,
          1
         ],
         "title": {
          "text": "QuarterStr"
         }
        }
       }
      },
      "text/html": [
       "<div>                            <div id=\"24fba805-1ce0-473b-9474-7750ead43080\" class=\"plotly-graph-div\" style=\"height:525px; width:100%;\"></div>            <script type=\"text/javascript\">                require([\"plotly\"], function(Plotly) {                    window.PLOTLYENV=window.PLOTLYENV || {};                                    if (document.getElementById(\"24fba805-1ce0-473b-9474-7750ead43080\")) {                    Plotly.newPlot(                        \"24fba805-1ce0-473b-9474-7750ead43080\",                        [{\"alignmentgroup\":\"True\",\"hovertemplate\":\"YearStr=2017<br>Sales of Orders=%{x}<br>QuarterStr=%{y}<extra></extra>\",\"legendgroup\":\"2017\",\"marker\":{\"color\":\"#636efa\",\"pattern\":{\"shape\":\"\"}},\"name\":\"2017\",\"offsetgroup\":\"2017\",\"orientation\":\"h\",\"showlegend\":true,\"textposition\":\"auto\",\"x\":[3357485.63985925,3175893.433076961,3070237.700003415,2204819.37003059],\"xaxis\":\"x\",\"y\":[\"3\",\"2\",\"1\",\"4\"],\"yaxis\":\"y\",\"type\":\"bar\"},{\"alignmentgroup\":\"True\",\"hovertemplate\":\"YearStr=2015<br>Sales of Orders=%{x}<br>QuarterStr=%{y}<extra></extra>\",\"legendgroup\":\"2015\",\"marker\":{\"color\":\"#EF553B\",\"pattern\":{\"shape\":\"\"}},\"name\":\"2015\",\"offsetgroup\":\"2015\",\"orientation\":\"h\",\"showlegend\":true,\"textposition\":\"auto\",\"x\":[3136115.391666825,3088947.8898070958,3085914.480709167,3029853.668699677],\"xaxis\":\"x\",\"y\":[\"4\",\"2\",\"3\",\"1\"],\"yaxis\":\"y\",\"type\":\"bar\"},{\"alignmentgroup\":\"True\",\"hovertemplate\":\"YearStr=2016<br>Sales of Orders=%{x}<br>QuarterStr=%{y}<extra></extra>\",\"legendgroup\":\"2016\",\"marker\":{\"color\":\"#00cc96\",\"pattern\":{\"shape\":\"\"}},\"name\":\"2016\",\"offsetgroup\":\"2016\",\"orientation\":\"h\",\"showlegend\":true,\"textposition\":\"auto\",\"x\":[3133128.861606115,3096312.911913626,3040704.220343597,3033671.330506687],\"xaxis\":\"x\",\"y\":[\"4\",\"3\",\"1\",\"2\"],\"yaxis\":\"y\",\"type\":\"bar\"},{\"alignmentgroup\":\"True\",\"hovertemplate\":\"YearStr=2018<br>Sales of Orders=%{x}<br>QuarterStr=%{y}<extra></extra>\",\"legendgroup\":\"2018\",\"marker\":{\"color\":\"#ab63fa\",\"pattern\":{\"shape\":\"\"}},\"name\":\"2018\",\"offsetgroup\":\"2018\",\"orientation\":\"h\",\"showlegend\":true,\"textposition\":\"auto\",\"x\":[331650.11515684],\"xaxis\":\"x\",\"y\":[\"1\"],\"yaxis\":\"y\",\"type\":\"bar\"}],                        {\"template\":{\"data\":{\"bar\":[{\"error_x\":{\"color\":\"#2a3f5f\"},\"error_y\":{\"color\":\"#2a3f5f\"},\"marker\":{\"line\":{\"color\":\"#E5ECF6\",\"width\":0.5},\"pattern\":{\"fillmode\":\"overlay\",\"size\":10,\"solidity\":0.2}},\"type\":\"bar\"}],\"barpolar\":[{\"marker\":{\"line\":{\"color\":\"#E5ECF6\",\"width\":0.5},\"pattern\":{\"fillmode\":\"overlay\",\"size\":10,\"solidity\":0.2}},\"type\":\"barpolar\"}],\"carpet\":[{\"aaxis\":{\"endlinecolor\":\"#2a3f5f\",\"gridcolor\":\"white\",\"linecolor\":\"white\",\"minorgridcolor\":\"white\",\"startlinecolor\":\"#2a3f5f\"},\"baxis\":{\"endlinecolor\":\"#2a3f5f\",\"gridcolor\":\"white\",\"linecolor\":\"white\",\"minorgridcolor\":\"white\",\"startlinecolor\":\"#2a3f5f\"},\"type\":\"carpet\"}],\"choropleth\":[{\"colorbar\":{\"outlinewidth\":0,\"ticks\":\"\"},\"type\":\"choropleth\"}],\"contour\":[{\"colorbar\":{\"outlinewidth\":0,\"ticks\":\"\"},\"colorscale\":[[0.0,\"#0d0887\"],[0.1111111111111111,\"#46039f\"],[0.2222222222222222,\"#7201a8\"],[0.3333333333333333,\"#9c179e\"],[0.4444444444444444,\"#bd3786\"],[0.5555555555555556,\"#d8576b\"],[0.6666666666666666,\"#ed7953\"],[0.7777777777777778,\"#fb9f3a\"],[0.8888888888888888,\"#fdca26\"],[1.0,\"#f0f921\"]],\"type\":\"contour\"}],\"contourcarpet\":[{\"colorbar\":{\"outlinewidth\":0,\"ticks\":\"\"},\"type\":\"contourcarpet\"}],\"heatmap\":[{\"colorbar\":{\"outlinewidth\":0,\"ticks\":\"\"},\"colorscale\":[[0.0,\"#0d0887\"],[0.1111111111111111,\"#46039f\"],[0.2222222222222222,\"#7201a8\"],[0.3333333333333333,\"#9c179e\"],[0.4444444444444444,\"#bd3786\"],[0.5555555555555556,\"#d8576b\"],[0.6666666666666666,\"#ed7953\"],[0.7777777777777778,\"#fb9f3a\"],[0.8888888888888888,\"#fdca26\"],[1.0,\"#f0f921\"]],\"type\":\"heatmap\"}],\"heatmapgl\":[{\"colorbar\":{\"outlinewidth\":0,\"ticks\":\"\"},\"colorscale\":[[0.0,\"#0d0887\"],[0.1111111111111111,\"#46039f\"],[0.2222222222222222,\"#7201a8\"],[0.3333333333333333,\"#9c179e\"],[0.4444444444444444,\"#bd3786\"],[0.5555555555555556,\"#d8576b\"],[0.6666666666666666,\"#ed7953\"],[0.7777777777777778,\"#fb9f3a\"],[0.8888888888888888,\"#fdca26\"],[1.0,\"#f0f921\"]],\"type\":\"heatmapgl\"}],\"histogram\":[{\"marker\":{\"pattern\":{\"fillmode\":\"overlay\",\"size\":10,\"solidity\":0.2}},\"type\":\"histogram\"}],\"histogram2d\":[{\"colorbar\":{\"outlinewidth\":0,\"ticks\":\"\"},\"colorscale\":[[0.0,\"#0d0887\"],[0.1111111111111111,\"#46039f\"],[0.2222222222222222,\"#7201a8\"],[0.3333333333333333,\"#9c179e\"],[0.4444444444444444,\"#bd3786\"],[0.5555555555555556,\"#d8576b\"],[0.6666666666666666,\"#ed7953\"],[0.7777777777777778,\"#fb9f3a\"],[0.8888888888888888,\"#fdca26\"],[1.0,\"#f0f921\"]],\"type\":\"histogram2d\"}],\"histogram2dcontour\":[{\"colorbar\":{\"outlinewidth\":0,\"ticks\":\"\"},\"colorscale\":[[0.0,\"#0d0887\"],[0.1111111111111111,\"#46039f\"],[0.2222222222222222,\"#7201a8\"],[0.3333333333333333,\"#9c179e\"],[0.4444444444444444,\"#bd3786\"],[0.5555555555555556,\"#d8576b\"],[0.6666666666666666,\"#ed7953\"],[0.7777777777777778,\"#fb9f3a\"],[0.8888888888888888,\"#fdca26\"],[1.0,\"#f0f921\"]],\"type\":\"histogram2dcontour\"}],\"mesh3d\":[{\"colorbar\":{\"outlinewidth\":0,\"ticks\":\"\"},\"type\":\"mesh3d\"}],\"parcoords\":[{\"line\":{\"colorbar\":{\"outlinewidth\":0,\"ticks\":\"\"}},\"type\":\"parcoords\"}],\"pie\":[{\"automargin\":true,\"type\":\"pie\"}],\"scatter\":[{\"marker\":{\"colorbar\":{\"outlinewidth\":0,\"ticks\":\"\"}},\"type\":\"scatter\"}],\"scatter3d\":[{\"line\":{\"colorbar\":{\"outlinewidth\":0,\"ticks\":\"\"}},\"marker\":{\"colorbar\":{\"outlinewidth\":0,\"ticks\":\"\"}},\"type\":\"scatter3d\"}],\"scattercarpet\":[{\"marker\":{\"colorbar\":{\"outlinewidth\":0,\"ticks\":\"\"}},\"type\":\"scattercarpet\"}],\"scattergeo\":[{\"marker\":{\"colorbar\":{\"outlinewidth\":0,\"ticks\":\"\"}},\"type\":\"scattergeo\"}],\"scattergl\":[{\"marker\":{\"colorbar\":{\"outlinewidth\":0,\"ticks\":\"\"}},\"type\":\"scattergl\"}],\"scattermapbox\":[{\"marker\":{\"colorbar\":{\"outlinewidth\":0,\"ticks\":\"\"}},\"type\":\"scattermapbox\"}],\"scatterpolar\":[{\"marker\":{\"colorbar\":{\"outlinewidth\":0,\"ticks\":\"\"}},\"type\":\"scatterpolar\"}],\"scatterpolargl\":[{\"marker\":{\"colorbar\":{\"outlinewidth\":0,\"ticks\":\"\"}},\"type\":\"scatterpolargl\"}],\"scatterternary\":[{\"marker\":{\"colorbar\":{\"outlinewidth\":0,\"ticks\":\"\"}},\"type\":\"scatterternary\"}],\"surface\":[{\"colorbar\":{\"outlinewidth\":0,\"ticks\":\"\"},\"colorscale\":[[0.0,\"#0d0887\"],[0.1111111111111111,\"#46039f\"],[0.2222222222222222,\"#7201a8\"],[0.3333333333333333,\"#9c179e\"],[0.4444444444444444,\"#bd3786\"],[0.5555555555555556,\"#d8576b\"],[0.6666666666666666,\"#ed7953\"],[0.7777777777777778,\"#fb9f3a\"],[0.8888888888888888,\"#fdca26\"],[1.0,\"#f0f921\"]],\"type\":\"surface\"}],\"table\":[{\"cells\":{\"fill\":{\"color\":\"#EBF0F8\"},\"line\":{\"color\":\"white\"}},\"header\":{\"fill\":{\"color\":\"#C8D4E3\"},\"line\":{\"color\":\"white\"}},\"type\":\"table\"}]},\"layout\":{\"annotationdefaults\":{\"arrowcolor\":\"#2a3f5f\",\"arrowhead\":0,\"arrowwidth\":1},\"autotypenumbers\":\"strict\",\"coloraxis\":{\"colorbar\":{\"outlinewidth\":0,\"ticks\":\"\"}},\"colorscale\":{\"diverging\":[[0,\"#8e0152\"],[0.1,\"#c51b7d\"],[0.2,\"#de77ae\"],[0.3,\"#f1b6da\"],[0.4,\"#fde0ef\"],[0.5,\"#f7f7f7\"],[0.6,\"#e6f5d0\"],[0.7,\"#b8e186\"],[0.8,\"#7fbc41\"],[0.9,\"#4d9221\"],[1,\"#276419\"]],\"sequential\":[[0.0,\"#0d0887\"],[0.1111111111111111,\"#46039f\"],[0.2222222222222222,\"#7201a8\"],[0.3333333333333333,\"#9c179e\"],[0.4444444444444444,\"#bd3786\"],[0.5555555555555556,\"#d8576b\"],[0.6666666666666666,\"#ed7953\"],[0.7777777777777778,\"#fb9f3a\"],[0.8888888888888888,\"#fdca26\"],[1.0,\"#f0f921\"]],\"sequentialminus\":[[0.0,\"#0d0887\"],[0.1111111111111111,\"#46039f\"],[0.2222222222222222,\"#7201a8\"],[0.3333333333333333,\"#9c179e\"],[0.4444444444444444,\"#bd3786\"],[0.5555555555555556,\"#d8576b\"],[0.6666666666666666,\"#ed7953\"],[0.7777777777777778,\"#fb9f3a\"],[0.8888888888888888,\"#fdca26\"],[1.0,\"#f0f921\"]]},\"colorway\":[\"#636efa\",\"#EF553B\",\"#00cc96\",\"#ab63fa\",\"#FFA15A\",\"#19d3f3\",\"#FF6692\",\"#B6E880\",\"#FF97FF\",\"#FECB52\"],\"font\":{\"color\":\"#2a3f5f\"},\"geo\":{\"bgcolor\":\"white\",\"lakecolor\":\"white\",\"landcolor\":\"#E5ECF6\",\"showlakes\":true,\"showland\":true,\"subunitcolor\":\"white\"},\"hoverlabel\":{\"align\":\"left\"},\"hovermode\":\"closest\",\"mapbox\":{\"style\":\"light\"},\"paper_bgcolor\":\"white\",\"plot_bgcolor\":\"#E5ECF6\",\"polar\":{\"angularaxis\":{\"gridcolor\":\"white\",\"linecolor\":\"white\",\"ticks\":\"\"},\"bgcolor\":\"#E5ECF6\",\"radialaxis\":{\"gridcolor\":\"white\",\"linecolor\":\"white\",\"ticks\":\"\"}},\"scene\":{\"xaxis\":{\"backgroundcolor\":\"#E5ECF6\",\"gridcolor\":\"white\",\"gridwidth\":2,\"linecolor\":\"white\",\"showbackground\":true,\"ticks\":\"\",\"zerolinecolor\":\"white\"},\"yaxis\":{\"backgroundcolor\":\"#E5ECF6\",\"gridcolor\":\"white\",\"gridwidth\":2,\"linecolor\":\"white\",\"showbackground\":true,\"ticks\":\"\",\"zerolinecolor\":\"white\"},\"zaxis\":{\"backgroundcolor\":\"#E5ECF6\",\"gridcolor\":\"white\",\"gridwidth\":2,\"linecolor\":\"white\",\"showbackground\":true,\"ticks\":\"\",\"zerolinecolor\":\"white\"}},\"shapedefaults\":{\"line\":{\"color\":\"#2a3f5f\"}},\"ternary\":{\"aaxis\":{\"gridcolor\":\"white\",\"linecolor\":\"white\",\"ticks\":\"\"},\"baxis\":{\"gridcolor\":\"white\",\"linecolor\":\"white\",\"ticks\":\"\"},\"bgcolor\":\"#E5ECF6\",\"caxis\":{\"gridcolor\":\"white\",\"linecolor\":\"white\",\"ticks\":\"\"}},\"title\":{\"x\":0.05},\"xaxis\":{\"automargin\":true,\"gridcolor\":\"white\",\"linecolor\":\"white\",\"ticks\":\"\",\"title\":{\"standoff\":15},\"zerolinecolor\":\"white\",\"zerolinewidth\":2},\"yaxis\":{\"automargin\":true,\"gridcolor\":\"white\",\"linecolor\":\"white\",\"ticks\":\"\",\"title\":{\"standoff\":15},\"zerolinecolor\":\"white\",\"zerolinewidth\":2}}},\"xaxis\":{\"anchor\":\"y\",\"domain\":[0.0,1.0],\"title\":{\"text\":\"Sales of Orders\"}},\"yaxis\":{\"anchor\":\"x\",\"domain\":[0.0,1.0],\"title\":{\"text\":\"QuarterStr\"}},\"legend\":{\"title\":{\"text\":\"YearStr\"},\"tracegroupgap\":0},\"margin\":{\"t\":60},\"barmode\":\"relative\"},                        {\"responsive\": true}                    ).then(function(){\n",
       "                            \n",
       "var gd = document.getElementById('24fba805-1ce0-473b-9474-7750ead43080');\n",
       "var x = new MutationObserver(function (mutations, observer) {{\n",
       "        var display = window.getComputedStyle(gd).display;\n",
       "        if (!display || display === 'none') {{\n",
       "            console.log([gd, 'removed!']);\n",
       "            Plotly.purge(gd);\n",
       "            observer.disconnect();\n",
       "        }}\n",
       "}});\n",
       "\n",
       "// Listen for the removal of the full notebook cells\n",
       "var notebookContainer = gd.closest('#notebook-container');\n",
       "if (notebookContainer) {{\n",
       "    x.observe(notebookContainer, {childList: true});\n",
       "}}\n",
       "\n",
       "// Listen for the clearing of the current output cell\n",
       "var outputEl = gd.closest('.output');\n",
       "if (outputEl) {{\n",
       "    x.observe(outputEl, {childList: true});\n",
       "}}\n",
       "\n",
       "                        })                };                });            </script>        </div>"
      ]
     },
     "metadata": {},
     "output_type": "display_data"
    }
   ],
   "source": [
    "data_orderdate['QuarterStr']=data_orderdate['Quarter'].astype(str)\n",
    "df_sales_quarter=data_orderdate.groupby([ 'YearStr','QuarterStr'])['Sales'].sum().reset_index(name='Sales of Orders').sort_values(by= 'Sales of Orders', ascending= False)\n",
    "px.bar(df_sales_quarter, x='Sales of Orders',y = 'QuarterStr',color ='YearStr')"
   ]
  }
 ],
 "metadata": {
  "kernelspec": {
   "display_name": "Python 3.10.6 64-bit",
   "language": "python",
   "name": "python3"
  },
  "language_info": {
   "codemirror_mode": {
    "name": "ipython",
    "version": 3
   },
   "file_extension": ".py",
   "mimetype": "text/x-python",
   "name": "python",
   "nbconvert_exporter": "python",
   "pygments_lexer": "ipython3",
   "version": "3.10.6"
  },
  "vscode": {
   "interpreter": {
    "hash": "586294592721bdc7e6089ef10e6f260989ae349847231325ca166d786dc0d996"
   }
  }
 },
 "nbformat": 4,
 "nbformat_minor": 5
}
